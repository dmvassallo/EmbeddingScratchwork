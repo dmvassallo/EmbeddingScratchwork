{
 "cells": [
  {
   "attachments": {},
   "cell_type": "markdown",
   "metadata": {},
   "source": [
    "# Caching embeddings on disk"
   ]
  },
  {
   "cell_type": "code",
   "execution_count": 1,
   "metadata": {},
   "outputs": [],
   "source": [
    "import logging\n",
    "\n",
    "from embed import cached"
   ]
  },
  {
   "cell_type": "code",
   "execution_count": 2,
   "metadata": {},
   "outputs": [],
   "source": [
    "logging.basicConfig(level=logging.INFO)"
   ]
  },
  {
   "attachments": {},
   "cell_type": "markdown",
   "metadata": {},
   "source": [
    "## Already saved: cache hit"
   ]
  },
  {
   "cell_type": "code",
   "execution_count": 3,
   "metadata": {},
   "outputs": [
    {
     "name": "stderr",
     "output_type": "stream",
     "text": [
      "INFO:embed.cached:embed_one: loaded: ../data/c5919eb25e32df3ac400757942250b6a9776c7b1ac1e8e465ec6ca0de8e4cb3f.json\n"
     ]
    },
    {
     "data": {
      "text/plain": [
       "array([-0.02499537, -0.01935126, -0.02775795, ..., -0.01632432,\n",
       "       -0.00503278, -0.00612988], dtype=float32)"
      ]
     },
     "execution_count": 3,
     "metadata": {},
     "output_type": "execute_result"
    }
   ],
   "source": [
    "cached.embed_one('hello', data_dir='../data', file_type='json')"
   ]
  },
  {
   "cell_type": "code",
   "execution_count": 4,
   "metadata": {},
   "outputs": [
    {
     "name": "stderr",
     "output_type": "stream",
     "text": [
      "INFO:embed.cached:embed_many: loaded: ../data/c3a31ea6546aa7f9fa1e78d22a23001d98fa4a7abb43350e0ea56395d3abc61c.json\n"
     ]
    },
    {
     "data": {
      "text/plain": [
       "array([[-0.02499537, -0.01935126, -0.02775795, ..., -0.01632432,\n",
       "        -0.00503278, -0.00612988],\n",
       "       [ 0.00577373, -0.00664383, -0.00824171, ..., -0.01513784,\n",
       "         0.0057058 , -0.00603896]], dtype=float32)"
      ]
     },
     "execution_count": 4,
     "metadata": {},
     "output_type": "execute_result"
    }
   ],
   "source": [
    "cached.embed_many(['hello', 'goodbye'], data_dir='../data', file_type='json')"
   ]
  },
  {
   "cell_type": "code",
   "execution_count": 5,
   "metadata": {},
   "outputs": [
    {
     "name": "stderr",
     "output_type": "stream",
     "text": [
      "INFO:embed.cached:embed_one: loaded: ../data/c5919eb25e32df3ac400757942250b6a9776c7b1ac1e8e465ec6ca0de8e4cb3f.safetensors\n"
     ]
    },
    {
     "data": {
      "text/plain": [
       "array([-0.02499537, -0.01935126, -0.02775795, ..., -0.01632432,\n",
       "       -0.00503278, -0.00612988], dtype=float32)"
      ]
     },
     "execution_count": 5,
     "metadata": {},
     "output_type": "execute_result"
    }
   ],
   "source": [
    "cached.embed_one('hello', data_dir='../data', file_type='safetensors')"
   ]
  },
  {
   "cell_type": "code",
   "execution_count": 6,
   "metadata": {},
   "outputs": [
    {
     "name": "stderr",
     "output_type": "stream",
     "text": [
      "INFO:embed.cached:embed_many: loaded: ../data/c3a31ea6546aa7f9fa1e78d22a23001d98fa4a7abb43350e0ea56395d3abc61c.safetensors\n"
     ]
    },
    {
     "data": {
      "text/plain": [
       "array([[-0.02499537, -0.01935126, -0.02775795, ..., -0.01632432,\n",
       "        -0.00503278, -0.00612988],\n",
       "       [ 0.00577373, -0.00664383, -0.00824171, ..., -0.01513784,\n",
       "         0.0057058 , -0.00603896]], dtype=float32)"
      ]
     },
     "execution_count": 6,
     "metadata": {},
     "output_type": "execute_result"
    }
   ],
   "source": [
    "cached.embed_many(['hello', 'goodbye'], data_dir='../data', file_type='safetensors')"
   ]
  },
  {
   "attachments": {},
   "cell_type": "markdown",
   "metadata": {},
   "source": [
    "## Not yet saved: cache miss, then hit"
   ]
  },
  {
   "cell_type": "code",
   "execution_count": 7,
   "metadata": {},
   "outputs": [
    {
     "name": "stderr",
     "output_type": "stream",
     "text": [
      "INFO:embed.cached:embed_one: saved: ../data/b58e4a60c963f8b3c43d83cc9245020ce71d8311fa2f48cfd36deed6f472a71b.json\n"
     ]
    },
    {
     "data": {
      "text/plain": [
       "array([-0.03511127, -0.003318  , -0.02821535, ...,  0.00101169,\n",
       "        0.00348415,  0.01166647], dtype=float32)"
      ]
     },
     "execution_count": 7,
     "metadata": {},
     "output_type": "execute_result"
    }
   ],
   "source": [
    "cached.embed_one('hola', data_dir='../data', file_type='json')"
   ]
  },
  {
   "cell_type": "code",
   "execution_count": 8,
   "metadata": {},
   "outputs": [
    {
     "name": "stderr",
     "output_type": "stream",
     "text": [
      "INFO:embed.cached:embed_one: loaded: ../data/b58e4a60c963f8b3c43d83cc9245020ce71d8311fa2f48cfd36deed6f472a71b.json\n"
     ]
    },
    {
     "data": {
      "text/plain": [
       "array([-0.03511127, -0.003318  , -0.02821535, ...,  0.00101169,\n",
       "        0.00348415,  0.01166647], dtype=float32)"
      ]
     },
     "execution_count": 8,
     "metadata": {},
     "output_type": "execute_result"
    }
   ],
   "source": [
    "cached.embed_one('hola', data_dir='../data', file_type='json')"
   ]
  },
  {
   "cell_type": "code",
   "execution_count": 9,
   "metadata": {},
   "outputs": [
    {
     "name": "stderr",
     "output_type": "stream",
     "text": [
      "INFO:embed.cached:embed_one: saved: ../data/b58e4a60c963f8b3c43d83cc9245020ce71d8311fa2f48cfd36deed6f472a71b.safetensors\n"
     ]
    },
    {
     "data": {
      "text/plain": [
       "array([-0.03501248, -0.00323063, -0.02819939, ...,  0.00106455,\n",
       "        0.00356109,  0.01164014], dtype=float32)"
      ]
     },
     "execution_count": 9,
     "metadata": {},
     "output_type": "execute_result"
    }
   ],
   "source": [
    "cached.embed_one('hola', data_dir='../data', file_type='safetensors')"
   ]
  },
  {
   "cell_type": "code",
   "execution_count": 10,
   "metadata": {},
   "outputs": [
    {
     "name": "stderr",
     "output_type": "stream",
     "text": [
      "INFO:embed.cached:embed_one: loaded: ../data/b58e4a60c963f8b3c43d83cc9245020ce71d8311fa2f48cfd36deed6f472a71b.safetensors\n"
     ]
    },
    {
     "data": {
      "text/plain": [
       "array([-0.03501248, -0.00323063, -0.02819939, ...,  0.00106455,\n",
       "        0.00356109,  0.01164014], dtype=float32)"
      ]
     },
     "execution_count": 10,
     "metadata": {},
     "output_type": "execute_result"
    }
   ],
   "source": [
    "cached.embed_one('hola', data_dir='../data', file_type='safetensors')"
   ]
  },
  {
   "cell_type": "code",
   "execution_count": 11,
   "metadata": {},
   "outputs": [],
   "source": [
    "!rm ../data/b58e4a60c963f8b3c43d83cc9245020ce71d8311fa2f48cfd36deed6f472a71b.{json,safetensors}"
   ]
  },
  {
   "cell_type": "code",
   "execution_count": 12,
   "metadata": {},
   "outputs": [
    {
     "name": "stderr",
     "output_type": "stream",
     "text": [
      "INFO:embed.cached:embed_many: saved: ../data/2e41e52e67421c1d106bb8a5b9225ad1143761240862ed61e5be5ed20f39f2fd.json\n"
     ]
    },
    {
     "data": {
      "text/plain": [
       "array([[-0.03501248, -0.00323063, -0.02819939, ...,  0.00106455,\n",
       "         0.00356109,  0.01164014],\n",
       "       [-0.02499537, -0.01935126, -0.02775795, ..., -0.01632432,\n",
       "        -0.00503278, -0.00612988]], dtype=float32)"
      ]
     },
     "execution_count": 12,
     "metadata": {},
     "output_type": "execute_result"
    }
   ],
   "source": [
    "cached.embed_many(['hola', 'hello'], data_dir='../data', file_type='json')"
   ]
  },
  {
   "cell_type": "code",
   "execution_count": 13,
   "metadata": {},
   "outputs": [
    {
     "name": "stderr",
     "output_type": "stream",
     "text": [
      "INFO:embed.cached:embed_many: loaded: ../data/2e41e52e67421c1d106bb8a5b9225ad1143761240862ed61e5be5ed20f39f2fd.json\n"
     ]
    },
    {
     "data": {
      "text/plain": [
       "array([[-0.03501248, -0.00323063, -0.02819939, ...,  0.00106455,\n",
       "         0.00356109,  0.01164014],\n",
       "       [-0.02499537, -0.01935126, -0.02775795, ..., -0.01632432,\n",
       "        -0.00503278, -0.00612988]], dtype=float32)"
      ]
     },
     "execution_count": 13,
     "metadata": {},
     "output_type": "execute_result"
    }
   ],
   "source": [
    "cached.embed_many(['hola', 'hello'], data_dir='../data', file_type='json')"
   ]
  },
  {
   "cell_type": "code",
   "execution_count": 14,
   "metadata": {},
   "outputs": [
    {
     "name": "stderr",
     "output_type": "stream",
     "text": [
      "INFO:embed.cached:embed_many: saved: ../data/2e41e52e67421c1d106bb8a5b9225ad1143761240862ed61e5be5ed20f39f2fd.safetensors\n"
     ]
    },
    {
     "data": {
      "text/plain": [
       "array([[-0.03501248, -0.00323063, -0.02819939, ...,  0.00106455,\n",
       "         0.00356109,  0.01164014],\n",
       "       [-0.02499537, -0.01935126, -0.02775795, ..., -0.01632432,\n",
       "        -0.00503278, -0.00612988]], dtype=float32)"
      ]
     },
     "execution_count": 14,
     "metadata": {},
     "output_type": "execute_result"
    }
   ],
   "source": [
    "cached.embed_many(['hola', 'hello'], data_dir='../data', file_type='safetensors')"
   ]
  },
  {
   "cell_type": "code",
   "execution_count": 15,
   "metadata": {},
   "outputs": [
    {
     "name": "stderr",
     "output_type": "stream",
     "text": [
      "INFO:embed.cached:embed_many: loaded: ../data/2e41e52e67421c1d106bb8a5b9225ad1143761240862ed61e5be5ed20f39f2fd.safetensors\n"
     ]
    },
    {
     "data": {
      "text/plain": [
       "array([[-0.03501248, -0.00323063, -0.02819939, ...,  0.00106455,\n",
       "         0.00356109,  0.01164014],\n",
       "       [-0.02499537, -0.01935126, -0.02775795, ..., -0.01632432,\n",
       "        -0.00503278, -0.00612988]], dtype=float32)"
      ]
     },
     "execution_count": 15,
     "metadata": {},
     "output_type": "execute_result"
    }
   ],
   "source": [
    "cached.embed_many(['hola', 'hello'], data_dir='../data', file_type='safetensors')"
   ]
  },
  {
   "cell_type": "code",
   "execution_count": 16,
   "metadata": {},
   "outputs": [],
   "source": [
    "!rm ../data/2e41e52e67421c1d106bb8a5b9225ad1143761240862ed61e5be5ed20f39f2fd.{json,safetensors}"
   ]
  },
  {
   "attachments": {},
   "cell_type": "markdown",
   "metadata": {},
   "source": [
    "## Generating data for tests\n",
    "\n",
    "To regenerate this test data, delete the `.json` and `.safetensors` files in\n",
    "`tests_data/` and re-run the notebook."
   ]
  },
  {
   "cell_type": "code",
   "execution_count": 17,
   "metadata": {},
   "outputs": [
    {
     "name": "stderr",
     "output_type": "stream",
     "text": [
      "INFO:embed.cached:embed_one: saved: ../tests_data/c6569ae39bd3ce1a82988cf5a0c219288e2df4918c9e9a09134f596f74509094.json\n"
     ]
    },
    {
     "data": {
      "text/plain": [
       "array([-6.9754184e-03, -5.3491648e-03,  1.1907940e-02, ...,\n",
       "       -1.7028622e-02, -8.8358240e-05, -2.4030920e-02], dtype=float32)"
      ]
     },
     "execution_count": 17,
     "metadata": {},
     "output_type": "execute_result"
    }
   ],
   "source": [
    "cached.embed_one('Your text string goes here', data_dir='../tests_data', file_type='json')"
   ]
  },
  {
   "cell_type": "code",
   "execution_count": 18,
   "metadata": {},
   "outputs": [
    {
     "name": "stderr",
     "output_type": "stream",
     "text": [
      "INFO:embed.cached:embed_one: saved: ../tests_data/c6569ae39bd3ce1a82988cf5a0c219288e2df4918c9e9a09134f596f74509094.safetensors\n"
     ]
    },
    {
     "data": {
      "text/plain": [
       "array([-6.9653071e-03, -5.3297696e-03,  1.1848410e-02, ...,\n",
       "       -1.7020335e-02, -7.2940093e-05, -2.4046093e-02], dtype=float32)"
      ]
     },
     "execution_count": 18,
     "metadata": {},
     "output_type": "execute_result"
    }
   ],
   "source": [
    "cached.embed_one('Your text string goes here', data_dir='../tests_data', file_type='safetensors')"
   ]
  },
  {
   "cell_type": "code",
   "execution_count": 19,
   "metadata": {},
   "outputs": [
    {
     "name": "stderr",
     "output_type": "stream",
     "text": [
      "INFO:embed.cached:embed_one: saved: ../tests_data/84cccf9b16c60b6ae531f97eafc6aabd536fbeb5fd62f3108500642fd34562bf.json\n"
     ]
    },
    {
     "data": {
      "text/plain": [
       "array([-0.00906457, -0.00409244, -0.01109804, ..., -0.02477139,\n",
       "        0.00554583, -0.02427418], dtype=float32)"
      ]
     },
     "execution_count": 19,
     "metadata": {},
     "output_type": "execute_result"
    }
   ],
   "source": [
    "cached.embed_one('The cat runs.', data_dir='../tests_data', file_type='json')"
   ]
  },
  {
   "cell_type": "code",
   "execution_count": 20,
   "metadata": {},
   "outputs": [
    {
     "name": "stderr",
     "output_type": "stream",
     "text": [
      "INFO:embed.cached:embed_one: saved: ../tests_data/84cccf9b16c60b6ae531f97eafc6aabd536fbeb5fd62f3108500642fd34562bf.safetensors\n"
     ]
    },
    {
     "data": {
      "text/plain": [
       "array([-0.00907763, -0.00405467, -0.01103967, ..., -0.02481855,\n",
       "        0.00557398, -0.02418152], dtype=float32)"
      ]
     },
     "execution_count": 20,
     "metadata": {},
     "output_type": "execute_result"
    }
   ],
   "source": [
    "cached.embed_one('The cat runs.', data_dir='../tests_data', file_type='safetensors')"
   ]
  },
  {
   "cell_type": "code",
   "execution_count": 21,
   "metadata": {},
   "outputs": [
    {
     "name": "stderr",
     "output_type": "stream",
     "text": [
      "INFO:embed.cached:embed_one: saved: ../tests_data/94aac07b5ec049de3cd871a0958697b02683e371b46658395302ecceab419b36.json\n"
     ]
    },
    {
     "data": {
      "text/plain": [
       "array([-0.01420416, -0.00294338,  0.00040551, ..., -0.00811486,\n",
       "        0.00492778, -0.00681724], dtype=float32)"
      ]
     },
     "execution_count": 21,
     "metadata": {},
     "output_type": "execute_result"
    }
   ],
   "source": [
    "cached.embed_one('El gato corre.', data_dir='../tests_data', file_type='json')"
   ]
  },
  {
   "cell_type": "code",
   "execution_count": 22,
   "metadata": {},
   "outputs": [
    {
     "name": "stderr",
     "output_type": "stream",
     "text": [
      "INFO:embed.cached:embed_one: saved: ../tests_data/94aac07b5ec049de3cd871a0958697b02683e371b46658395302ecceab419b36.safetensors\n"
     ]
    },
    {
     "data": {
      "text/plain": [
       "array([-0.0142647 , -0.00291274,  0.00040622, ..., -0.00806266,\n",
       "        0.00487303, -0.00684123], dtype=float32)"
      ]
     },
     "execution_count": 22,
     "metadata": {},
     "output_type": "execute_result"
    }
   ],
   "source": [
    "cached.embed_one('El gato corre.', data_dir='../tests_data', file_type='safetensors')"
   ]
  },
  {
   "cell_type": "code",
   "execution_count": 23,
   "metadata": {},
   "outputs": [
    {
     "name": "stderr",
     "output_type": "stream",
     "text": [
      "INFO:embed.cached:embed_one: saved: ../tests_data/116c3040d924d3f415ba72b32a55bf3b05ba62bebbcbdca9ae2e5101d5a0fbdf.json\n"
     ]
    },
    {
     "data": {
      "text/plain": [
       "array([ 0.00962401, -0.00636743, -0.00590175, ..., -0.01238006,\n",
       "       -0.00033599, -0.01708119], dtype=float32)"
      ]
     },
     "execution_count": 23,
     "metadata": {},
     "output_type": "execute_result"
    }
   ],
   "source": [
    "cached.embed_one('The dog walks.', data_dir='../tests_data', file_type='json')"
   ]
  },
  {
   "cell_type": "code",
   "execution_count": 24,
   "metadata": {},
   "outputs": [
    {
     "name": "stderr",
     "output_type": "stream",
     "text": [
      "INFO:embed.cached:embed_one: saved: ../tests_data/116c3040d924d3f415ba72b32a55bf3b05ba62bebbcbdca9ae2e5101d5a0fbdf.safetensors\n"
     ]
    },
    {
     "data": {
      "text/plain": [
       "array([ 0.00955974, -0.00636049, -0.00593287, ..., -0.0123092 ,\n",
       "       -0.00036863, -0.01713025], dtype=float32)"
      ]
     },
     "execution_count": 24,
     "metadata": {},
     "output_type": "execute_result"
    }
   ],
   "source": [
    "cached.embed_one('The dog walks.', data_dir='../tests_data', file_type='safetensors')"
   ]
  },
  {
   "cell_type": "code",
   "execution_count": 25,
   "metadata": {},
   "outputs": [
    {
     "name": "stderr",
     "output_type": "stream",
     "text": [
      "INFO:embed.cached:embed_one: saved: ../tests_data/c19b4807aa7da53ef4f0bb7c5e2c97145607b058a22a0b0dbe696402200f0812.json\n"
     ]
    },
    {
     "data": {
      "text/plain": [
       "array([ 0.00342672, -0.00745889,  0.0013607 , ...,  0.00045838,\n",
       "       -0.00876341, -0.00615124], dtype=float32)"
      ]
     },
     "execution_count": 25,
     "metadata": {},
     "output_type": "execute_result"
    }
   ],
   "source": [
    "cached.embed_one('El perro camina.', data_dir='../tests_data', file_type='json')"
   ]
  },
  {
   "cell_type": "code",
   "execution_count": 26,
   "metadata": {},
   "outputs": [
    {
     "name": "stderr",
     "output_type": "stream",
     "text": [
      "INFO:embed.cached:embed_one: saved: ../tests_data/c19b4807aa7da53ef4f0bb7c5e2c97145607b058a22a0b0dbe696402200f0812.safetensors\n"
     ]
    },
    {
     "data": {
      "text/plain": [
       "array([ 0.00342672, -0.00745889,  0.0013607 , ...,  0.00045838,\n",
       "       -0.00876341, -0.00615124], dtype=float32)"
      ]
     },
     "execution_count": 26,
     "metadata": {},
     "output_type": "execute_result"
    }
   ],
   "source": [
    "cached.embed_one('El perro camina.', data_dir='../tests_data', file_type='safetensors')"
   ]
  },
  {
   "cell_type": "code",
   "execution_count": 27,
   "metadata": {},
   "outputs": [
    {
     "name": "stderr",
     "output_type": "stream",
     "text": [
      "INFO:embed.cached:embed_one: saved: ../tests_data/7f688454101c9a4f6d0adf7b9c8470f7815da6689e64e9125e4f9400027853a9.json\n"
     ]
    },
    {
     "data": {
      "text/plain": [
       "array([ 0.01427713,  0.00727954, -0.00717061, ..., -0.00162684,\n",
       "        0.02899001, -0.02586288], dtype=float32)"
      ]
     },
     "execution_count": 27,
     "metadata": {},
     "output_type": "execute_result"
    }
   ],
   "source": [
    "cached.embed_one('The lion sleeps.', data_dir='../tests_data', file_type='json')"
   ]
  },
  {
   "cell_type": "code",
   "execution_count": 28,
   "metadata": {},
   "outputs": [
    {
     "name": "stderr",
     "output_type": "stream",
     "text": [
      "INFO:embed.cached:embed_one: saved: ../tests_data/7f688454101c9a4f6d0adf7b9c8470f7815da6689e64e9125e4f9400027853a9.safetensors\n"
     ]
    },
    {
     "data": {
      "text/plain": [
       "array([ 0.01427713,  0.00727954, -0.00717061, ..., -0.00162684,\n",
       "        0.02899001, -0.02586288], dtype=float32)"
      ]
     },
     "execution_count": 28,
     "metadata": {},
     "output_type": "execute_result"
    }
   ],
   "source": [
    "cached.embed_one('The lion sleeps.', data_dir='../tests_data', file_type='safetensors')"
   ]
  },
  {
   "cell_type": "code",
   "execution_count": 29,
   "metadata": {},
   "outputs": [
    {
     "name": "stderr",
     "output_type": "stream",
     "text": [
      "INFO:embed.cached:embed_one: saved: ../tests_data/ac9c4b85f0dead134e3de01ecc5bbbad4411198db04b56ed1658a48d27ab42bf.json\n"
     ]
    },
    {
     "data": {
      "text/plain": [
       "array([ 0.01215479,  0.00411979,  0.00353439, ...,  0.01378508,\n",
       "        0.01454042, -0.00649598], dtype=float32)"
      ]
     },
     "execution_count": 29,
     "metadata": {},
     "output_type": "execute_result"
    }
   ],
   "source": [
    "cached.embed_one('El león duerme.', data_dir='../tests_data', file_type='json')"
   ]
  },
  {
   "cell_type": "code",
   "execution_count": 30,
   "metadata": {},
   "outputs": [
    {
     "name": "stderr",
     "output_type": "stream",
     "text": [
      "INFO:embed.cached:embed_one: saved: ../tests_data/ac9c4b85f0dead134e3de01ecc5bbbad4411198db04b56ed1658a48d27ab42bf.safetensors\n"
     ]
    },
    {
     "data": {
      "text/plain": [
       "array([ 0.01224608,  0.00345483,  0.0032566 , ...,  0.01358018,\n",
       "        0.01453671, -0.00654467], dtype=float32)"
      ]
     },
     "execution_count": 30,
     "metadata": {},
     "output_type": "execute_result"
    }
   ],
   "source": [
    "cached.embed_one('El león duerme.', data_dir='../tests_data', file_type='safetensors')"
   ]
  },
  {
   "cell_type": "code",
   "execution_count": 31,
   "metadata": {},
   "outputs": [
    {
     "name": "stderr",
     "output_type": "stream",
     "text": [
      "INFO:embed.cached:embed_many: saved: ../tests_data/bc4f1fc1fa46eb8657d9793adaad43d1f09e0e5a21c9139505e96463b3c321d9.json\n"
     ]
    },
    {
     "data": {
      "text/plain": [
       "array([[-6.9292835e-03, -5.3364220e-03,  1.1875892e-02, ...,\n",
       "        -1.7017407e-02, -4.5471323e-05, -2.4047505e-02],\n",
       "       [-9.0645701e-03, -4.0924428e-03, -1.1098042e-02, ...,\n",
       "        -2.4771390e-02,  5.5458341e-03, -2.4274178e-02],\n",
       "       [-1.4189589e-02, -2.9635481e-03,  3.4216084e-04, ...,\n",
       "        -8.0757877e-03,  4.8796488e-03, -6.8542929e-03],\n",
       "       [ 9.5987720e-03, -6.3611665e-03, -5.8954833e-03, ...,\n",
       "        -1.2380199e-02, -3.4728230e-04, -1.7081380e-02],\n",
       "       [ 3.4598345e-03, -7.5935414e-03,  1.4249589e-03, ...,\n",
       "         4.5509770e-04, -8.7353801e-03, -6.1272453e-03]], dtype=float32)"
      ]
     },
     "execution_count": 31,
     "metadata": {},
     "output_type": "execute_result"
    }
   ],
   "source": [
    "cached.embed_many([\n",
    "    'Your text string goes here',\n",
    "    'The cat runs.',\n",
    "    'El gato corre.',\n",
    "    'The dog walks.',\n",
    "    'El perro camina.',\n",
    "], data_dir='../tests_data', file_type='json')"
   ]
  },
  {
   "cell_type": "code",
   "execution_count": 32,
   "metadata": {},
   "outputs": [
    {
     "name": "stderr",
     "output_type": "stream",
     "text": [
      "INFO:embed.cached:embed_many: saved: ../tests_data/bc4f1fc1fa46eb8657d9793adaad43d1f09e0e5a21c9139505e96463b3c321d9.safetensors\n"
     ]
    },
    {
     "data": {
      "text/plain": [
       "array([[-6.9754184e-03, -5.3491648e-03,  1.1907940e-02, ...,\n",
       "        -1.7028622e-02, -8.8358240e-05, -2.4030920e-02],\n",
       "       [-9.0430975e-03, -4.0786345e-03, -1.1095160e-02, ...,\n",
       "        -2.4764959e-02,  5.5921902e-03, -2.4191400e-02],\n",
       "       [-1.4204165e-02, -2.9433765e-03,  4.0550550e-04, ...,\n",
       "        -8.1148576e-03,  4.9277819e-03, -6.8172398e-03],\n",
       "       [ 9.5597431e-03, -6.3604913e-03, -5.9328689e-03, ...,\n",
       "        -1.2309198e-02, -3.6862658e-04, -1.7130248e-02],\n",
       "       [ 3.3449344e-03, -8.1113884e-03,  1.7457254e-03, ...,\n",
       "         9.9317353e-05, -9.5703155e-03, -5.5582649e-03]], dtype=float32)"
      ]
     },
     "execution_count": 32,
     "metadata": {},
     "output_type": "execute_result"
    }
   ],
   "source": [
    "cached.embed_many([\n",
    "    'Your text string goes here',\n",
    "    'The cat runs.',\n",
    "    'El gato corre.',\n",
    "    'The dog walks.',\n",
    "    'El perro camina.',\n",
    "], data_dir='../tests_data', file_type='safetensors')"
   ]
  }
 ],
 "metadata": {
  "kernelspec": {
   "display_name": "EmbeddingScratchwork",
   "language": "python",
   "name": "python3"
  },
  "language_info": {
   "codemirror_mode": {
    "name": "ipython",
    "version": 3
   },
   "file_extension": ".py",
   "mimetype": "text/x-python",
   "name": "python",
   "nbconvert_exporter": "python",
   "pygments_lexer": "ipython3",
   "version": "3.11.3"
  },
  "orig_nbformat": 4
 },
 "nbformat": 4,
 "nbformat_minor": 2
}
