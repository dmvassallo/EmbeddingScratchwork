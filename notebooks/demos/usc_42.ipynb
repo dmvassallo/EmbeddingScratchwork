{
 "cells": [
  {
   "cell_type": "code",
   "execution_count": 1,
   "metadata": {},
   "outputs": [],
   "source": [
    "from collections import Counter\n",
    "import contextlib\n",
    "import copy\n",
    "import itertools\n",
    "import logging\n",
    "from pathlib import Path\n",
    "from pprint import pp\n",
    "import textwrap\n",
    "import time\n",
    "\n",
    "from IPython.display import display\n",
    "import clock_timer\n",
    "import ipywidgets\n",
    "from lxml import etree as ET\n",
    "\n",
    "import embed\n",
    "from embed.demos import usc"
   ]
  },
  {
   "cell_type": "code",
   "execution_count": 2,
   "metadata": {},
   "outputs": [],
   "source": [
    "def output_box(enable=True, *, height='28em'):\n",
    "    \"\"\"\n",
    "    Context manager to limit output height, giving a vertical scrollbar.\n",
    "\n",
    "    Be aware that boxed output is not typically saved in the .ipynb file.\n",
    "    \"\"\"\n",
    "    if not enable:  # This lets the user easily \"unbox\" and \"rebox\" the cell.\n",
    "        return contextlib.nullcontext()\n",
    "\n",
    "    @contextlib.contextmanager\n",
    "    def using_output_box():\n",
    "        out = ipywidgets.Output(layout=ipywidgets.Layout(height=height))\n",
    "        display(out)\n",
    "        out.clear_output()  # Avoid doubled output.\n",
    "        with out:\n",
    "            yield\n",
    "\n",
    "    return using_output_box()"
   ]
  },
  {
   "cell_type": "code",
   "execution_count": 3,
   "metadata": {},
   "outputs": [],
   "source": [
    "# § 1 - 1j\n",
    "S1 = \"\"\"<section status=\"repealed\" style=\"-uslm-lc:I80\" id=\"idb0fba64f-d970-11ed-a113-e530e1711693\" identifier=\"/us/usc/t42/s1...1j\"><num value=\"1 to 1j\">§§ 1 to 1j.</num><heading> Repealed. <ref href=\"/us/act/1944-07-01/ch373\">July 1, 1944, ch. 373</ref>, title XIII, § 1313, <ref href=\"/us/stat/58/714\">58 Stat. 714</ref></heading><notes type=\"uscNote\" id=\"idb0fba650-d970-11ed-a113-e530e1711693\">\n",
    "<note topic=\"removalDescription\" id=\"idb0fba651-d970-11ed-a113-e530e1711693\">\n",
    "<p style=\"-uslm-lc:I21\" class=\"indent0\">Section 1, acts <ref href=\"/us/act/1902-07-01/ch1370/s1\">July 1, 1902, ch. 1370, § 1</ref>, <ref href=\"/us/stat/32/712\">32 Stat. 712</ref>; <ref href=\"/us/act/1912-08-14/ch288/s1\">Aug. 14, 1912, ch. 288, § 1</ref>, <ref href=\"/us/stat/37/309\">37 Stat. 309</ref>, provided that Public Health and Marine Hospital Service should be known as the Public Health Service. See <ref href=\"/us/usc/t42/s202\">section 202 of this title</ref>.</p>\n",
    "</note>\n",
    "<note topic=\"removalDescription\" id=\"idb0fba652-d970-11ed-a113-e530e1711693\">\n",
    "<p style=\"-uslm-lc:I21\" class=\"indent0\">Section 1a, <ref href=\"/us/act/1943-11-11/ch298/s1\">act Nov. 11, 1943, ch. 298, § 1</ref>, <ref href=\"/us/stat/57/587\">57 Stat. 587</ref>, provided for organization and function of Public Health Service. See <ref href=\"/us/usc/t42/s203\">section 203 of this title</ref>.</p>\n",
    "</note>\n",
    "<note topic=\"removalDescription\" id=\"idb0fba653-d970-11ed-a113-e530e1711693\">\n",
    "<p style=\"-uslm-lc:I21\" class=\"indent0\">Section 1b, <ref href=\"/us/act/1943-11-11/ch298/s2\">act Nov. 11, 1943, ch. 298, § 2</ref>, <ref href=\"/us/stat/57/587\">57 Stat. 587</ref>, provided for appointment of Assistant Surgeons General, their grade, pay, and allowances. See sections 206, 207, and 210 of this title.</p>\n",
    "</note>\n",
    "<note topic=\"removalDescription\" id=\"idb0fba654-d970-11ed-a113-e530e1711693\">\n",
    "<p style=\"-uslm-lc:I21\" class=\"indent0\">Section 1c, <ref href=\"/us/act/1943-11-11/ch298/s3\">act Nov. 11, 1943, ch. 298, § 3</ref>, <ref href=\"/us/stat/57/587\">57 Stat. 587</ref>, provided for chiefs of divisions, their grade, pay and allowances, and creation of a Dental Division and a Sanitary Engineering Division. See sections 206, 207, and 210 of this title.</p>\n",
    "</note>\n",
    "<note topic=\"removalDescription\" id=\"idb0fba655-d970-11ed-a113-e530e1711693\">\n",
    "<p style=\"-uslm-lc:I21\" class=\"indent0\">Section 1d, <ref href=\"/us/act/1943-11-11/ch298/s4\">act Nov. 11, 1943, ch. 298, § 4</ref>, <ref href=\"/us/stat/57/587\">57 Stat. 587</ref>, provided for temporary promotions in regular corps in time of war. See <ref href=\"/us/usc/t42/s211\">section 211 of this title</ref>.</p>\n",
    "</note>\n",
    "<note topic=\"removalDescription\" id=\"idb0fba656-d970-11ed-a113-e530e1711693\">\n",
    "<p style=\"-uslm-lc:I21\" class=\"indent0\">Section 1e, <ref href=\"/us/act/1943-11-11/ch298/s5\">act Nov. 11, 1943, ch. 298, § 5</ref>, <ref href=\"/us/stat/58/588\">58 Stat. 588</ref>, provided for review of record of officers above grade of assistant surgeon and their separation from service. See <ref href=\"/us/usc/t42/s211\">section 211 of this title</ref>.</p>\n",
    "</note>\n",
    "<note topic=\"removalDescription\" id=\"idb0fba657-d970-11ed-a113-e530e1711693\">\n",
    "<p style=\"-uslm-lc:I21\" class=\"indent0\">Section 1f, <ref href=\"/us/act/1943-11-11/ch298/s6\">act Nov. 11, 1943, ch. 298, § 6</ref>, <ref href=\"/us/stat/58/588\">58 Stat. 588</ref>, provided for an acting Surgeon General during absence of Surgeon General and Assistant to Surgeon General. See <ref href=\"/us/usc/t42/s206\">section 206 of this title</ref>.</p>\n",
    "</note>\n",
    "<note topic=\"removalDescription\" id=\"idb0fba658-d970-11ed-a113-e530e1711693\">\n",
    "<p style=\"-uslm-lc:I21\" class=\"indent0\">Section 1g, <ref href=\"/us/act/1943-11-11/ch298/s7\">act Nov. 11, 1943, ch. 298, § 7</ref>, <ref href=\"/us/stat/57/588\">57 Stat. 588</ref>, provided for death and disability benefits of commissioned officers during war and for transfer of Service to military forces. See sections 213 and 217 of this title.</p>\n",
    "</note>\n",
    "<note topic=\"removalDescription\" id=\"idb0fba659-d970-11ed-a113-e530e1711693\">\n",
    "<p style=\"-uslm-lc:I21\" class=\"indent0\">Section 1h, <ref href=\"/us/act/1943-11-11/ch298/s8\">act Nov. 11, 1943, ch. 298, § 8</ref>, <ref href=\"/us/stat/57/589\">57 Stat. 589</ref>, provided for commissioned officers’ benefits as civil officers and employees of United States and election of benefits. See Title 5, Government Organization and Employees.</p>\n",
    "</note>\n",
    "<note topic=\"removalDescription\" id=\"idb0fba65a-d970-11ed-a113-e530e1711693\">\n",
    "<p style=\"-uslm-lc:I21\" class=\"indent0\">Section 1i, <ref href=\"/us/act/1943-11-11/ch298/s9\">act Nov. 11, 1943, ch. 298, § 9</ref>, <ref href=\"/us/stat/57/589\">57 Stat. 589</ref>, provided for beneficiaries’ benefits where commissioned officer lost his life on active duty between <date date=\"1941-12-07\">Dec. 7, 1941</date>, and <date date=\"1943-11-11\">Nov. 11, 1943</date>.</p>\n",
    "</note>\n",
    "<note topic=\"removalDescription\" id=\"idb0fba65b-d970-11ed-a113-e530e1711693\">\n",
    "<p style=\"-uslm-lc:I21\" class=\"indent0\">Section 1j, <ref href=\"/us/act/1943-11-11/ch298/s11\">act Nov. 11, 1943, ch. 298, § 11</ref>, <ref href=\"/us/stat/57/589\">57 Stat. 589</ref>, provided for transfer of appropriations to continue transferred functions. See note set out under <ref href=\"/us/usc/t42/s201\">section 201 of this title</ref>.</p>\n",
    "</note>\n",
    "<note style=\"-uslm-lc:I74\" role=\"crossHeading\" topic=\"statutoryNotes\" id=\"idb0fba65c-d970-11ed-a113-e530e1711693\"><heading class=\"centered\"><b>Statutory Notes and Related Subsidiaries</b></heading></note>\n",
    "<note style=\"-uslm-lc:I74\" topic=\"miscellaneous\" id=\"idb0fba65d-d970-11ed-a113-e530e1711693\"><heading class=\"centered smallCaps\">Renumbering and Repeal of Repealing Act</heading><p style=\"-uslm-lc:I21\" class=\"indent0\">Title XIII, § 1313, formerly title VI, § 611, of act <date date=\"1944-07-01\">July 1, 1944</date>, which repealed these sections, was renumbered title VII, § 711, by <ref href=\"/us/act/1946-08-13/ch958/s5\">act Aug. 13, 1946, ch. 958, § 5</ref>, <ref href=\"/us/stat/60/1049\">60 Stat. 1049</ref>; § 713, by <ref href=\"/us/act/1948-02-28/ch83/s9/b\">act Feb. 28, 1948, ch. 83, § 9(b)</ref>, <ref href=\"/us/stat/62/47\">62 Stat. 47</ref>; title VIII, § 813, by <ref href=\"/us/act/1956-07-30/ch779/s3/b\">act July 30, 1956, ch. 779, § 3(b)</ref>, <ref href=\"/us/stat/70/721\">70 Stat. 721</ref>; title IX, § 913, by <ref href=\"/us/pl/88/581/s4/b\">Pub. L. 88–581, § 4(b)</ref>, <date date=\"1964-09-04\">Sept. 4, 1964</date>, <ref href=\"/us/stat/78/919\">78 Stat. 919</ref>; title X, § 1013, by <ref href=\"/us/pl/89/239/s3/b\">Pub. L. 89–239, § 3(b)</ref>, <date date=\"1965-10-06\">Oct. 6, 1965</date>, <ref href=\"/us/stat/79/931\">79 Stat. 931</ref>; title XI, § 1113, by <ref href=\"/us/pl/91/572/s6/b\">Pub. L. 91–572, § 6(b)</ref>, <date date=\"1970-12-24\">Dec. 24, 1970</date>, <ref href=\"/us/stat/84/1506\">84 Stat. 1506</ref>; title XII, § 1213, by <ref href=\"/us/pl/92/294/s3/b\">Pub. L. 92–294, § 3(b)</ref>, <date date=\"1972-05-16\">May 16, 1972</date>, <ref href=\"/us/stat/86/137\">86 Stat. 137</ref>; title XIII, § 1313, by <ref href=\"/us/pl/93/154/s2/b/2\">Pub. L. 93–154, § 2(b)(2)</ref>, <date date=\"1973-11-16\">Nov. 16, 1973</date>, <ref href=\"/us/stat/87/604\">87 Stat. 604</ref>, and was repealed by <ref href=\"/us/pl/93/222/s7/b\">Pub. L. 93–222, § 7(b)</ref>, <date date=\"1973-12-29\">Dec. 29, 1973</date>, <ref href=\"/us/stat/87/936\">87 Stat. 936</ref>.</p>\n",
    "</note>\n",
    "</notes>\n",
    "</section>\"\"\""
   ]
  },
  {
   "cell_type": "code",
   "execution_count": 4,
   "metadata": {},
   "outputs": [
    {
     "data": {
      "text/plain": [
       "2817"
      ]
     },
     "execution_count": 4,
     "metadata": {},
     "output_type": "execute_result"
    }
   ],
   "source": [
    "embed.count_tokens(S1)"
   ]
  },
  {
   "cell_type": "code",
   "execution_count": 5,
   "metadata": {},
   "outputs": [],
   "source": [
    "data_dir = Path('../../data/')\n",
    "usc.extract_usc(data_dir)\n",
    "usc42 = data_dir / usc.USC_STEM / 'usc42.xml'"
   ]
  },
  {
   "cell_type": "code",
   "execution_count": 6,
   "metadata": {},
   "outputs": [],
   "source": [
    "usc42textorig = usc42.read_text(encoding='utf-8')"
   ]
  },
  {
   "cell_type": "code",
   "execution_count": 7,
   "metadata": {},
   "outputs": [],
   "source": [
    "# embed.count_tokens(usc42textorig)"
   ]
  },
  {
   "cell_type": "code",
   "execution_count": 8,
   "metadata": {},
   "outputs": [],
   "source": [
    "usc42tree = ET.parse(usc42)"
   ]
  },
  {
   "cell_type": "code",
   "execution_count": 9,
   "metadata": {},
   "outputs": [],
   "source": [
    "usc42root = usc42tree.getroot()"
   ]
  },
  {
   "cell_type": "code",
   "execution_count": 10,
   "metadata": {},
   "outputs": [],
   "source": [
    "usc42text = ET.tostring(usc42root, encoding='unicode')"
   ]
  },
  {
   "cell_type": "code",
   "execution_count": 11,
   "metadata": {},
   "outputs": [
    {
     "data": {
      "text/plain": [
       "8761"
      ]
     },
     "execution_count": 11,
     "metadata": {},
     "output_type": "execute_result"
    }
   ],
   "source": [
    "usc42text.count('<section')"
   ]
  },
  {
   "cell_type": "code",
   "execution_count": 12,
   "metadata": {},
   "outputs": [
    {
     "data": {
      "text/plain": [
       "8761"
      ]
     },
     "execution_count": 12,
     "metadata": {},
     "output_type": "execute_result"
    }
   ],
   "source": [
    "usc42textorig.count('<section')"
   ]
  },
  {
   "cell_type": "code",
   "execution_count": 13,
   "metadata": {},
   "outputs": [
    {
     "data": {
      "text/plain": [
       "704"
      ]
     },
     "execution_count": 13,
     "metadata": {},
     "output_type": "execute_result"
    }
   ],
   "source": [
    "usc42textorig.count('status=\"repealed\"')"
   ]
  },
  {
   "cell_type": "code",
   "execution_count": 14,
   "metadata": {},
   "outputs": [
    {
     "data": {
      "text/plain": [
       "{None: 'http://xml.house.gov/schemas/uslm/1.0',\n",
       " 'xsi': 'http://www.w3.org/2001/XMLSchema-instance',\n",
       " 'dc': 'http://purl.org/dc/elements/1.1/',\n",
       " 'dcterms': 'http://purl.org/dc/terms/'}"
      ]
     },
     "execution_count": 14,
     "metadata": {},
     "output_type": "execute_result"
    }
   ],
   "source": [
    "usc42root.nsmap"
   ]
  },
  {
   "cell_type": "code",
   "execution_count": 15,
   "metadata": {},
   "outputs": [],
   "source": [
    "schema_prefix = f'{{{usc42root.nsmap[None]}}}'\n",
    "section_tag = schema_prefix + 'section'\n",
    "sections = usc42tree.findall(f'.//{section_tag}')"
   ]
  },
  {
   "cell_type": "code",
   "execution_count": 16,
   "metadata": {},
   "outputs": [
    {
     "data": {
      "text/plain": [
       "8761"
      ]
     },
     "execution_count": 16,
     "metadata": {},
     "output_type": "execute_result"
    }
   ],
   "source": [
    "len(sections)"
   ]
  },
  {
   "cell_type": "code",
   "execution_count": 17,
   "metadata": {},
   "outputs": [],
   "source": [
    "# sum(\n",
    "#     1 for section in sections\n",
    "#     if usc.count_tokens_xml(section) > embed.CONTEXT_LENGTH\n",
    "# )"
   ]
  },
  {
   "cell_type": "code",
   "execution_count": 18,
   "metadata": {},
   "outputs": [
    {
     "data": {
      "text/plain": [
       "699"
      ]
     },
     "execution_count": 18,
     "metadata": {},
     "output_type": "execute_result"
    }
   ],
   "source": [
    "sum(1 for section in sections if usc.is_repealed(section))"
   ]
  },
  {
   "cell_type": "code",
   "execution_count": 19,
   "metadata": {},
   "outputs": [
    {
     "data": {
      "text/plain": [
       "704"
      ]
     },
     "execution_count": 19,
     "metadata": {},
     "output_type": "execute_result"
    }
   ],
   "source": [
    "sum(1 for element in usc42tree.iter() if usc.is_repealed(element))"
   ]
  },
  {
   "cell_type": "code",
   "execution_count": 20,
   "metadata": {},
   "outputs": [],
   "source": [
    "repealed_sections = {section for section in sections if usc.is_repealed(section)}"
   ]
  },
  {
   "cell_type": "code",
   "execution_count": 21,
   "metadata": {},
   "outputs": [],
   "source": [
    "repealed_elements = {element for element in usc42tree.iter() if usc.is_repealed(element)}"
   ]
  },
  {
   "cell_type": "code",
   "execution_count": 22,
   "metadata": {},
   "outputs": [
    {
     "data": {
      "text/plain": [
       "True"
      ]
     },
     "execution_count": 22,
     "metadata": {},
     "output_type": "execute_result"
    }
   ],
   "source": [
    "repealed_sections.issubset(repealed_elements)"
   ]
  },
  {
   "cell_type": "code",
   "execution_count": 23,
   "metadata": {},
   "outputs": [
    {
     "data": {
      "text/plain": [
       "5"
      ]
     },
     "execution_count": 23,
     "metadata": {},
     "output_type": "execute_result"
    }
   ],
   "source": [
    "repealed_non_sections = repealed_elements - repealed_sections\n",
    "len(repealed_non_sections)"
   ]
  },
  {
   "cell_type": "code",
   "execution_count": 24,
   "metadata": {},
   "outputs": [
    {
     "data": {
      "text/plain": [
       "{<Element {http://xml.house.gov/schemas/uslm/1.0}subsection at 0x7f7556d7bd00>,\n",
       " <Element {http://xml.house.gov/schemas/uslm/1.0}subsection at 0x7f7556fcd780>,\n",
       " <Element {http://xml.house.gov/schemas/uslm/1.0}subsection at 0x7f7556fce700>,\n",
       " <Element {http://xml.house.gov/schemas/uslm/1.0}subsection at 0x7f7556fce780>,\n",
       " <Element {http://xml.house.gov/schemas/uslm/1.0}subsection at 0x7f75981c3380>}"
      ]
     },
     "execution_count": 24,
     "metadata": {},
     "output_type": "execute_result"
    }
   ],
   "source": [
    "repealed_non_sections"
   ]
  },
  {
   "cell_type": "code",
   "execution_count": 25,
   "metadata": {},
   "outputs": [
    {
     "name": "stdout",
     "output_type": "stream",
     "text": [
      "<subsection xmlns=\"http://xml.house.gov/schemas/uslm/1.0\" xmlns:xsi=\"http://www.w3.org/2001/XMLSchema-instance\" xmlns:dc=\"http://purl.org/dc/elements/1.1/\" xmlns:dcterms=\"http://purl.org/dc/terms/\" style=\"-uslm-lc:I21\" class=\"indent0\" status=\"repealed\"><num value=\"g\">“[(g)</num><content> Repealed. <ref href=\"/us/pl/101/508/tIV/s4118/i/2\">Pub. L. 101–508, title IV, § 4118(i)(2)</ref>, <date date=\"1990-11-05\">Nov. 5, 1990</date>, <ref href=\"/us/stat/104/1388-70\">104 Stat. 1388–70</ref>.]</content>\n",
      "</subsection>\n",
      "\n"
     ]
    }
   ],
   "source": [
    "print(ET.tostring(next(iter(repealed_non_sections)), encoding='unicode'))"
   ]
  },
  {
   "cell_type": "code",
   "execution_count": 26,
   "metadata": {},
   "outputs": [],
   "source": [
    "cleaned_copied = [usc.serialize_xml_clean(section) for section in sections]"
   ]
  },
  {
   "cell_type": "code",
   "execution_count": 27,
   "metadata": {},
   "outputs": [],
   "source": [
    "too_long_counts = [\n",
    "    count for section in sections\n",
    "    if (count := usc.count_tokens_xml_clean(section)) > embed.CONTEXT_LENGTH\n",
    "]"
   ]
  },
  {
   "cell_type": "code",
   "execution_count": 28,
   "metadata": {},
   "outputs": [
    {
     "data": {
      "text/plain": [
       "356"
      ]
     },
     "execution_count": 28,
     "metadata": {},
     "output_type": "execute_result"
    }
   ],
   "source": [
    "len(too_long_counts)"
   ]
  },
  {
   "cell_type": "code",
   "execution_count": 29,
   "metadata": {},
   "outputs": [
    {
     "data": {
      "application/vnd.jupyter.widget-view+json": {
       "model_id": "ac0741a659a54dce9268d026d1219608",
       "version_major": 2,
       "version_minor": 0
      },
      "text/plain": [
       "Output(layout=Layout(height='28em'))"
      ]
     },
     "metadata": {},
     "output_type": "display_data"
    }
   ],
   "source": [
    "with output_box():\n",
    "    display(sorted(too_long_counts))"
   ]
  },
  {
   "cell_type": "code",
   "execution_count": 30,
   "metadata": {},
   "outputs": [
    {
     "data": {
      "application/vnd.jupyter.widget-view+json": {
       "model_id": "2b974e18f568458183af02124c48b579",
       "version_major": 2,
       "version_minor": 0
      },
      "text/plain": [
       "Output(layout=Layout(height='28em'))"
      ]
     },
     "metadata": {},
     "output_type": "display_data"
    }
   ],
   "source": [
    "too_long = Counter({\n",
    "    section.attrib['identifier']: count\n",
    "    for section in sections\n",
    "    if (count := usc.count_tokens_xml_clean(section)) > embed.CONTEXT_LENGTH\n",
    "})\n",
    "\n",
    "with output_box():\n",
    "    display(pp(too_long))"
   ]
  },
  {
   "cell_type": "code",
   "execution_count": 31,
   "metadata": {},
   "outputs": [
    {
     "data": {
      "text/plain": [
       "<Element {http://xml.house.gov/schemas/uslm/1.0}section at 0x7f7556d35240>"
      ]
     },
     "execution_count": 31,
     "metadata": {},
     "output_type": "execute_result"
    }
   ],
   "source": [
    "section1396a = usc42tree.find(f\".//{section_tag}[@identifier = '/us/usc/t42/s1396a']\")\n",
    "section1396a"
   ]
  },
  {
   "cell_type": "code",
   "execution_count": 32,
   "metadata": {},
   "outputs": [
    {
     "data": {
      "text/plain": [
       "239778"
      ]
     },
     "execution_count": 32,
     "metadata": {},
     "output_type": "execute_result"
    }
   ],
   "source": [
    "usc.count_tokens_xml_clean(section1396a)"
   ]
  },
  {
   "cell_type": "code",
   "execution_count": 33,
   "metadata": {},
   "outputs": [
    {
     "data": {
      "application/vnd.jupyter.widget-view+json": {
       "model_id": "6f2240728792429eadb60aeb1b777a97",
       "version_major": 2,
       "version_minor": 0
      },
      "text/plain": [
       "Output(layout=Layout(height='28em'))"
      ]
     },
     "metadata": {},
     "output_type": "display_data"
    }
   ],
   "source": [
    "with output_box():\n",
    "    display(list(section1396a))"
   ]
  },
  {
   "cell_type": "code",
   "execution_count": 34,
   "metadata": {},
   "outputs": [
    {
     "data": {
      "text/plain": [
       "[<Element {http://xml.house.gov/schemas/uslm/1.0}meta at 0x7f7556f31140>,\n",
       " <Element {http://xml.house.gov/schemas/uslm/1.0}main at 0x7f7556f31080>]"
      ]
     },
     "execution_count": 34,
     "metadata": {},
     "output_type": "execute_result"
    }
   ],
   "source": [
    "list(usc42root)"
   ]
  },
  {
   "cell_type": "code",
   "execution_count": 35,
   "metadata": {},
   "outputs": [
    {
     "data": {
      "text/plain": [
       "'{http://xml.house.gov/schemas/uslm/1.0}section'"
      ]
     },
     "execution_count": 35,
     "metadata": {},
     "output_type": "execute_result"
    }
   ],
   "source": [
    "section1396a.tag"
   ]
  },
  {
   "cell_type": "code",
   "execution_count": 36,
   "metadata": {},
   "outputs": [
    {
     "data": {
      "text/plain": [
       "{'{http://xml.house.gov/schemas/uslm/1.0}heading',\n",
       " '{http://xml.house.gov/schemas/uslm/1.0}notes',\n",
       " '{http://xml.house.gov/schemas/uslm/1.0}num',\n",
       " '{http://xml.house.gov/schemas/uslm/1.0}sourceCredit',\n",
       " '{http://xml.house.gov/schemas/uslm/1.0}subsection'}"
      ]
     },
     "execution_count": 36,
     "metadata": {},
     "output_type": "execute_result"
    }
   ],
   "source": [
    "{child.tag for child in section1396a}"
   ]
  },
  {
   "cell_type": "code",
   "execution_count": 37,
   "metadata": {},
   "outputs": [
    {
     "data": {
      "text/plain": [
       "{'{http://xml.house.gov/schemas/uslm/1.0}chapeau',\n",
       " '{http://xml.house.gov/schemas/uslm/1.0}clause',\n",
       " '{http://xml.house.gov/schemas/uslm/1.0}content',\n",
       " '{http://xml.house.gov/schemas/uslm/1.0}continuation',\n",
       " '{http://xml.house.gov/schemas/uslm/1.0}heading',\n",
       " '{http://xml.house.gov/schemas/uslm/1.0}level',\n",
       " '{http://xml.house.gov/schemas/uslm/1.0}note',\n",
       " '{http://xml.house.gov/schemas/uslm/1.0}notes',\n",
       " '{http://xml.house.gov/schemas/uslm/1.0}num',\n",
       " '{http://xml.house.gov/schemas/uslm/1.0}paragraph',\n",
       " '{http://xml.house.gov/schemas/uslm/1.0}sourceCredit',\n",
       " '{http://xml.house.gov/schemas/uslm/1.0}subparagraph',\n",
       " '{http://xml.house.gov/schemas/uslm/1.0}subsection'}"
      ]
     },
     "execution_count": 37,
     "metadata": {},
     "output_type": "execute_result"
    }
   ],
   "source": [
    "unique_tags = {child.tag for section in sections for child in section}\n",
    "unique_tags"
   ]
  },
  {
   "cell_type": "code",
   "execution_count": 38,
   "metadata": {},
   "outputs": [
    {
     "data": {
      "application/vnd.jupyter.widget-view+json": {
       "model_id": "9f1e2b2e5f13445babc974733c148e8b",
       "version_major": 2,
       "version_minor": 0
      },
      "text/plain": [
       "Output(layout=Layout(height='28em'))"
      ]
     },
     "metadata": {},
     "output_type": "display_data"
    }
   ],
   "source": [
    "direct_subparagraphs = [\n",
    "    child.get('identifier')\n",
    "    for section in sections\n",
    "    for child in section\n",
    "    if child.tag.endswith('}subparagraph')\n",
    "]\n",
    "\n",
    "with output_box():\n",
    "    display(direct_subparagraphs)"
   ]
  },
  {
   "cell_type": "code",
   "execution_count": 39,
   "metadata": {},
   "outputs": [
    {
     "data": {
      "text/plain": [
       "38"
      ]
     },
     "execution_count": 39,
     "metadata": {},
     "output_type": "execute_result"
    }
   ],
   "source": [
    "len(direct_subparagraphs)"
   ]
  },
  {
   "cell_type": "code",
   "execution_count": 40,
   "metadata": {},
   "outputs": [
    {
     "data": {
      "application/vnd.jupyter.widget-view+json": {
       "model_id": "fcfd3690ce8043aa9149292040c3f7ad",
       "version_major": 2,
       "version_minor": 0
      },
      "text/plain": [
       "Output(layout=Layout(height='28em'))"
      ]
     },
     "metadata": {},
     "output_type": "display_data"
    }
   ],
   "source": [
    "no_id = [section for section in sections if section.get('identifier') is None]\n",
    "\n",
    "with output_box():\n",
    "    display(no_id)"
   ]
  },
  {
   "cell_type": "code",
   "execution_count": 41,
   "metadata": {},
   "outputs": [
    {
     "data": {
      "text/plain": [
       "1005"
      ]
     },
     "execution_count": 41,
     "metadata": {},
     "output_type": "execute_result"
    }
   ],
   "source": [
    "usc.count_tokens_xml(no_id[0])"
   ]
  },
  {
   "cell_type": "code",
   "execution_count": 42,
   "metadata": {},
   "outputs": [
    {
     "name": "stdout",
     "output_type": "stream",
     "text": [
      "<section xmlns=\"http://xml.house.gov/schemas/uslm/1.0\" xmlns:xsi=\"http://www.w3.org/2001/XMLSchema-instance\"\n",
      "xmlns:dc=\"http://purl.org/dc/elements/1.1/\" xmlns:dcterms=\"http://purl.org/dc/terms/\" style=\"-uslm-lc:I00\" class=\"inline\"><num\n",
      "value=\"\"/><chapeau>“In the case of any individual—</chapeau><subparagraph style=\"-uslm-lc:I22\" class=\"indent1\"><num\n",
      "value=\"A\">“(A)</num><content> who performed active service (i) as a commissioned officer of the Public Health Service at any time during the\n",
      "period beginning <date date=\"1952-07-04\">July 4, 1952</date>, and ending <date date=\"1956-12-31\">December 31, 1956</date>, or (ii) as a\n",
      "commissioned officer of the Coast and Geodetic Survey at any time during the period beginning <date date=\"1945-07-29\">July 29, 1945</date>,\n",
      "and ending <date date=\"1956-12-31\">December 31, 1956</date>; and</content> </subparagraph> <subparagraph style=\"-uslm-lc:I22\"\n",
      "class=\"indent1\"><num value=\"B\">“(B)</num><clause style=\"-uslm-lc:I22\" class=\"indent1\"><num value=\"i\">(i)</num><content> who became entitled\n",
      "to old-age insurance benefits under section 202(a) of the Social Security Act [<ref href=\"/us/usc/t42/s402/a\">42 U.S.C. 402(a)</ref>] prior\n",
      "to <date date=\"1957-01-01\">January 1, 1957</date>, or</content> </clause> <clause style=\"-uslm-lc:I22\" class=\"indent1\"><num\n",
      "value=\"ii\">“(ii)</num><content> who died prior to <date date=\"1957-01-01\">January 1, 1957</date>, and whose widow, child, or parent is\n",
      "entitled for the month of January 1957, on the basis of his wages and self-employment income, to a monthly survivor’s benefit under section\n",
      "202 of such act [<ref href=\"/us/usc/t42/s402\">42 U.S.C. 402</ref>]; and</content> </clause> </subparagraph> <subparagraph style=\"-uslm-\n",
      "lc:I22\" class=\"indent1\"><num value=\"C\">“(C)</num><content> any part of whose service described in subparagraph (A) was not included in the\n",
      "computation of his primary insurance amount under section 215 of such act [<ref href=\"/us/usc/t42/s415\">42 U.S.C. 415</ref>] but would have\n",
      "been included in such computation if the amendment made by paragraph (1) of this subsection or paragraph (1) of subsection (d) had been\n",
      "effective prior to the date of such computation,</content> </subparagraph>  <continuation style=\"-uslm-lc:I33\" class=\"indent0\n",
      "firstIndent0\">the Secretary of Health, Education, and Welfare [now Health and Human Services] shall, notwithstanding the provisions of\n",
      "section 215(f)(1) of the Social Security Act [<ref href=\"/us/usc/t42/s415/f/1\">42 U.S.C. 415(f)(1)</ref>], recompute the primary insurance\n",
      "amount of such individual upon the filing of an application, after December 1956, by him or (if he dies without filing such an application)\n",
      "by any person entitled to monthly survivor’s benefits under section 202 of such act [<ref href=\"/us/usc/t42/s402\">42 U.S.C. 402</ref>] on\n",
      "the basis of his wages and self-employment income. Such recomputation shall be made only in the manner, provided in title II of the Social\n",
      "Security Act [<ref href=\"/us/usc/t42/s401\">42 U.S.C. 401</ref> et seq.] as in effect at the time of the last previous computation or\n",
      "recomputation of such individual’s primary insurance amount, and as though application therefor was filed in the month in which application\n",
      "for such last previous computation or recomputation was filed. No recomputation made under this paragraph shall be regarded as a\n",
      "recomputation under section 215(f) of the Social Security Act [<ref href=\"/us/usc/t42/s415/f\">42 U.S.C. 415(f)</ref>]. Any such\n",
      "recomputation shall be effective for and after the twelfth month before the month in which the application was filed, but in no case for any\n",
      "month before January 1957.”</continuation> </section>\n"
     ]
    }
   ],
   "source": [
    "no_id_first_text = ET.tostring(no_id[0], encoding='unicode')\n",
    "print('\\n'.join(textwrap.wrap(no_id_first_text, width=140)))"
   ]
  },
  {
   "cell_type": "code",
   "execution_count": 43,
   "metadata": {},
   "outputs": [
    {
     "name": "stdout",
     "output_type": "stream",
     "text": [
      "<section xmlns=\"http://xml.house.gov/schemas/uslm/1.0\" xmlns:xsi=\"http://www.w3.org/2001/XMLSchema-instance\"\n",
      "xmlns:dc=\"http://purl.org/dc/elements/1.1/\" xmlns:dcterms=\"http://purl.org/dc/terms/\" style=\"-uslm-lc:I580467\"><num value=\"5\">“SEC.\n",
      "5.</num><heading> AUTHORIZATION OF APPROPRIATIONS.</heading><chapeau style=\"-uslm-lc:I21\" class=\"indent0\">“There are authorized to be\n",
      "appropriated—</chapeau><paragraph style=\"-uslm-lc:I22\" class=\"indent1\"><num value=\"1\">“(1)</num><content> for grants, contracts, or\n",
      "cooperative agreements under section 3(a), such sums as may be necessary for fiscal year 2017 and each of the 4 succeeding fiscal\n",
      "years;</content> </paragraph> <paragraph style=\"-uslm-lc:I22\" class=\"indent1\"><num value=\"2\">“(2)</num><content> for grants, contracts, or\n",
      "cooperative agreements under section 3(b), such sums as may be necessary for fiscal year 2017 and each of the 4 succeeding fiscal years;\n",
      "and</content> </paragraph> <paragraph style=\"-uslm-lc:I22\" class=\"indent1\"><num value=\"3\">“(3)</num><content> for grants, contracts, or\n",
      "cooperative agreements under section 3(c), such sums as may be necessary for fiscal year 2017 and each of the 4 succeeding fiscal\n",
      "years.”</content> </paragraph> </section>\n"
     ]
    }
   ],
   "source": [
    "no_id_last_text = ET.tostring(no_id[-1], encoding='unicode')\n",
    "print('\\n'.join(textwrap.wrap(no_id_last_text, width=140)))"
   ]
  },
  {
   "cell_type": "code",
   "execution_count": 44,
   "metadata": {},
   "outputs": [],
   "source": [
    "# This fails with:\n",
    "#     SyntaxError: prefix 'ancestor' not found in prefix map\n",
    "\n",
    "# direct_sections = usc42root.findall(f'{schema_prefix}title//{section_tag}[not(ancestor::{section_tag})]')"
   ]
  },
  {
   "cell_type": "code",
   "execution_count": 45,
   "metadata": {},
   "outputs": [
    {
     "data": {
      "application/vnd.jupyter.widget-view+json": {
       "model_id": "a931bdc436fe42e0a242b256bd6f5f32",
       "version_major": 2,
       "version_minor": 0
      },
      "text/plain": [
       "Output(layout=Layout(height='28em'))"
      ]
     },
     "metadata": {},
     "output_type": "display_data"
    }
   ],
   "source": [
    "with output_box():\n",
    "    treeit = ET.iterwalk(usc42root, events=('start',), tag=section_tag)\n",
    "    for event, element in treeit: \n",
    "        print(element)"
   ]
  },
  {
   "cell_type": "code",
   "execution_count": 46,
   "metadata": {},
   "outputs": [
    {
     "data": {
      "text/plain": [
       "8761"
      ]
     },
     "execution_count": 46,
     "metadata": {},
     "output_type": "execute_result"
    }
   ],
   "source": [
    "sum(1 for _ in ET.iterwalk(usc42root, events=('start',), tag=section_tag))  "
   ]
  },
  {
   "cell_type": "code",
   "execution_count": 47,
   "metadata": {},
   "outputs": [],
   "source": [
    "def get_direct_sections(root):\n",
    "    selection = []\n",
    "    iterator = ET.iterwalk(root, events=('start',), tag=section_tag)\n",
    "    for _, element in iterator:\n",
    "        iterator.skip_subtree()\n",
    "        selection.append(element)\n",
    "    return selection\n",
    "\n",
    "direct_sections = get_direct_sections(usc42root)"
   ]
  },
  {
   "cell_type": "code",
   "execution_count": 48,
   "metadata": {},
   "outputs": [
    {
     "data": {
      "application/vnd.jupyter.widget-view+json": {
       "model_id": "d263dc9149f6455783c13bf0f9566f92",
       "version_major": 2,
       "version_minor": 0
      },
      "text/plain": [
       "Output(layout=Layout(height='28em'))"
      ]
     },
     "metadata": {},
     "output_type": "display_data"
    }
   ],
   "source": [
    "with output_box():\n",
    "    display(direct_sections)"
   ]
  },
  {
   "cell_type": "code",
   "execution_count": 49,
   "metadata": {},
   "outputs": [
    {
     "data": {
      "text/plain": [
       "8385"
      ]
     },
     "execution_count": 49,
     "metadata": {},
     "output_type": "execute_result"
    }
   ],
   "source": [
    "len(direct_sections)"
   ]
  },
  {
   "cell_type": "code",
   "execution_count": 50,
   "metadata": {},
   "outputs": [
    {
     "data": {
      "text/plain": [
       "[]"
      ]
     },
     "execution_count": 50,
     "metadata": {},
     "output_type": "execute_result"
    }
   ],
   "source": [
    "[section for section in direct_sections if section.get('identifier') is None]"
   ]
  },
  {
   "cell_type": "code",
   "execution_count": 51,
   "metadata": {},
   "outputs": [],
   "source": [
    "too_long_counts_direct = [\n",
    "    count for section in direct_sections\n",
    "    if (count := usc.count_tokens_xml_clean(section)) > embed.CONTEXT_LENGTH\n",
    "]"
   ]
  },
  {
   "cell_type": "code",
   "execution_count": 52,
   "metadata": {},
   "outputs": [
    {
     "data": {
      "text/plain": [
       "356"
      ]
     },
     "execution_count": 52,
     "metadata": {},
     "output_type": "execute_result"
    }
   ],
   "source": [
    "len(too_long_counts_direct)"
   ]
  },
  {
   "cell_type": "code",
   "execution_count": 53,
   "metadata": {},
   "outputs": [],
   "source": [
    "# with output_box():\n",
    "#     display(sorted(too_long_counts_direct))"
   ]
  },
  {
   "cell_type": "code",
   "execution_count": 54,
   "metadata": {},
   "outputs": [
    {
     "name": "stdout",
     "output_type": "stream",
     "text": [
      "Total time elapsed: 18.319912s\n"
     ]
    }
   ],
   "source": [
    "with clock_timer.ClockLogger() as timer:\n",
    "    direct_section_token_counts = [\n",
    "        usc.count_tokens_xml_clean(section) for section in direct_sections\n",
    "    ]"
   ]
  },
  {
   "cell_type": "code",
   "execution_count": 55,
   "metadata": {},
   "outputs": [],
   "source": [
    "# We might try to embed it this way (one embedding per row element).\n",
    "breakdowns = [usc.get_embeddable_elements(section) for section in direct_sections]"
   ]
  },
  {
   "cell_type": "code",
   "execution_count": 56,
   "metadata": {},
   "outputs": [
    {
     "data": {
      "text/plain": [
       "8385"
      ]
     },
     "execution_count": 56,
     "metadata": {},
     "output_type": "execute_result"
    }
   ],
   "source": [
    "len(breakdowns)  # Same as number of direct sections."
   ]
  },
  {
   "cell_type": "code",
   "execution_count": 57,
   "metadata": {},
   "outputs": [
    {
     "data": {
      "text/plain": [
       "True"
      ]
     },
     "execution_count": 57,
     "metadata": {},
     "output_type": "execute_result"
    }
   ],
   "source": [
    "all(row for row in breakdowns)  # No rows should be empty."
   ]
  },
  {
   "cell_type": "code",
   "execution_count": 58,
   "metadata": {},
   "outputs": [
    {
     "data": {
      "text/plain": [
       "356"
      ]
     },
     "execution_count": 58,
     "metadata": {},
     "output_type": "execute_result"
    }
   ],
   "source": [
    "# Same as number of too-long direct sections.\n",
    "sum(1 for row in breakdowns if len(row) > 1)"
   ]
  },
  {
   "cell_type": "code",
   "execution_count": 59,
   "metadata": {},
   "outputs": [
    {
     "data": {
      "text/plain": [
       "Counter({'{http://xml.house.gov/schemas/uslm/1.0}p': 11567,\n",
       "         '{http://xml.house.gov/schemas/uslm/1.0}section': 8092,\n",
       "         '{http://xml.house.gov/schemas/uslm/1.0}note': 4341,\n",
       "         '{http://xml.house.gov/schemas/uslm/1.0}subsection': 3375,\n",
       "         '{http://xml.house.gov/schemas/uslm/1.0}paragraph': 762,\n",
       "         '{http://xml.house.gov/schemas/uslm/1.0}heading': 442,\n",
       "         '{http://xml.house.gov/schemas/uslm/1.0}num': 392,\n",
       "         '{http://xml.house.gov/schemas/uslm/1.0}sourceCredit': 356,\n",
       "         '{http://xml.house.gov/schemas/uslm/1.0}notes': 212,\n",
       "         '{http://xml.house.gov/schemas/uslm/1.0}ref': 97,\n",
       "         '{http://xml.house.gov/schemas/uslm/1.0}subparagraph': 64,\n",
       "         '{http://xml.house.gov/schemas/uslm/1.0}date': 48,\n",
       "         '{http://xml.house.gov/schemas/uslm/1.0}chapeau': 28,\n",
       "         '{http://xml.house.gov/schemas/uslm/1.0}content': 10,\n",
       "         '{http://xml.house.gov/schemas/uslm/1.0}continuation': 7,\n",
       "         '{http://xml.house.gov/schemas/uslm/1.0}signature': 2,\n",
       "         '{http://xml.house.gov/schemas/uslm/1.0}subtitle': 1})"
      ]
     },
     "execution_count": 59,
     "metadata": {},
     "output_type": "execute_result"
    }
   ],
   "source": [
    "# This shows lots of <p> elements. Unlike <paragraph>, the <p> element is from\n",
    "# HTML and I'm not sure it really makes sense to consider a <p> element as a\n",
    "# logical unit within the U.S. Code, conceptually.\n",
    "Counter(elem.tag for row in breakdowns for elem in row)"
   ]
  },
  {
   "cell_type": "code",
   "execution_count": 60,
   "metadata": {},
   "outputs": [
    {
     "data": {
      "application/vnd.jupyter.widget-view+json": {
       "model_id": "474497acd1d64fe49438db02008d9167",
       "version_major": 2,
       "version_minor": 0
      },
      "text/plain": [
       "Output(layout=Layout(height='28em'))"
      ]
     },
     "metadata": {},
     "output_type": "display_data"
    }
   ],
   "source": [
    "with output_box():\n",
    "    display({\n",
    "        section.attrib['identifier']: len(row)\n",
    "        for section, row in zip(direct_sections, breakdowns)\n",
    "        if len(row) > 1\n",
    "    })"
   ]
  },
  {
   "cell_type": "code",
   "execution_count": 61,
   "metadata": {},
   "outputs": [],
   "source": [
    "def abbreviate_runs(values):\n",
    "    return [\n",
    "        (value, sum(1 for _ in group))\n",
    "        for value, group in itertools.groupby(values)\n",
    "    ]"
   ]
  },
  {
   "cell_type": "code",
   "execution_count": 62,
   "metadata": {},
   "outputs": [],
   "source": [
    "def print_with_aligned_keys(mapping):\n",
    "    \"\"\"Display a mapping with string keys in a compact multiline form.\"\"\"\n",
    "    width = max(len(key) for key in mapping)\n",
    "    for key, value in mapping.items():\n",
    "        print(f'{key:>{width}}: {value}')"
   ]
  },
  {
   "cell_type": "code",
   "execution_count": 63,
   "metadata": {},
   "outputs": [],
   "source": [
    "breakdown_summaries = {\n",
    "    section.attrib['identifier']:\n",
    "        abbreviate_runs(ET.QName(elem).localname for elem in row)\n",
    "    for section, row in zip(direct_sections, breakdowns)\n",
    "    if len(row) > 1\n",
    "}"
   ]
  },
  {
   "cell_type": "code",
   "execution_count": 64,
   "metadata": {},
   "outputs": [
    {
     "name": "stdout",
     "output_type": "stream",
     "text": [
      "      /us/usc/t42/s201: [('num', 1), ('heading', 1), ('chapeau', 1), ('subsection', 17), ('sourceCredit', 1), ('note', 95)]\n",
      "      /us/usc/t42/s210: [('num', 1), ('heading', 1), ('subsection', 7), ('sourceCredit', 1), ('notes', 1)]\n",
      "      /us/usc/t42/s233: [('num', 1), ('heading', 1), ('subsection', 17), ('sourceCredit', 1), ('notes', 1)]\n",
      "      /us/usc/t42/s241: [('num', 1), ('heading', 1), ('subsection', 8), ('sourceCredit', 1), ('note', 25)]\n",
      "     /us/usc/t42/s242k: [('num', 1), ('heading', 1), ('subsection', 14), ('sourceCredit', 1), ('notes', 1)]\n",
      "     /us/usc/t42/s242m: [('num', 1), ('heading', 1), ('subsection', 6), ('sourceCredit', 1), ('notes', 1)]\n",
      "      /us/usc/t42/s246: [('num', 1), ('heading', 1), ('subsection', 3), ('sourceCredit', 1), ('note', 25)]\n",
      "     /us/usc/t42/s247b: [('num', 1), ('heading', 1), ('subsection', 14), ('sourceCredit', 1), ('notes', 1)]\n",
      "     /us/usc/t42/s247d: [('num', 1), ('heading', 1), ('subsection', 6), ('sourceCredit', 1), ('note', 21)]\n",
      "  /us/usc/t42/s247d–3a: [('num', 1), ('heading', 1), ('subsection', 11), ('sourceCredit', 1), ('notes', 1)]\n",
      "   /us/usc/t42/s247d–4: [('num', 1), ('heading', 1), ('subsection', 10), ('sourceCredit', 1), ('notes', 1)]\n",
      "   /us/usc/t42/s247d–5: [('num', 1), ('heading', 1), ('subsection', 13), ('sourceCredit', 1), ('notes', 1)]\n",
      "  /us/usc/t42/s247d–6a: [('num', 1), ('heading', 1), ('subsection', 6), ('sourceCredit', 1), ('notes', 1)]\n",
      "  /us/usc/t42/s247d–6b: [('num', 1), ('heading', 1), ('subsection', 8), ('sourceCredit', 1), ('note', 14)]\n",
      "  /us/usc/t42/s247d–6d: [('num', 1), ('heading', 1), ('subsection', 9), ('sourceCredit', 1), ('notes', 1)]\n",
      "  /us/usc/t42/s247d–7e: [('num', 1), ('heading', 1), ('subsection', 6), ('sourceCredit', 1), ('notes', 1)]\n",
      "     /us/usc/t42/s254b: [('num', 1), ('heading', 1), ('subsection', 18), ('sourceCredit', 1), ('note', 20)]\n",
      "     /us/usc/t42/s254c: [('num', 1), ('heading', 1), ('subsection', 10), ('sourceCredit', 1), ('notes', 1)]\n",
      "     /us/usc/t42/s254d: [('num', 1), ('heading', 1), ('subsection', 10), ('sourceCredit', 1), ('notes', 1)]\n",
      "     /us/usc/t42/s254l: [('num', 1), ('heading', 1), ('subsection', 8), ('sourceCredit', 1), ('notes', 1)]\n",
      "     /us/usc/t42/s256b: [('num', 1), ('heading', 1), ('subsection', 5), ('sourceCredit', 1), ('notes', 1)]\n",
      "      /us/usc/t42/s262: [('num', 1), ('heading', 1), ('subsection', 14), ('sourceCredit', 1), ('notes', 1)]\n",
      "     /us/usc/t42/s262a: [('num', 1), ('heading', 1), ('subsection', 13), ('sourceCredit', 1), ('notes', 1)]\n",
      "     /us/usc/t42/s263a: [('num', 1), ('heading', 1), ('subsection', 17), ('sourceCredit', 1), ('notes', 1)]\n",
      "     /us/usc/t42/s263b: [('num', 1), ('heading', 1), ('subsection', 18), ('sourceCredit', 1), ('notes', 1)]\n",
      "     /us/usc/t42/s274k: [('num', 1), ('heading', 1), ('subsection', 15), ('sourceCredit', 1), ('notes', 1)]\n",
      "   /us/usc/t42/s280g–4: [('num', 1), ('heading', 1), ('subsection', 8), ('sourceCredit', 1), ('notes', 1)]\n",
      "      /us/usc/t42/s281: [('num', 1), ('heading', 1), ('subsection', 8), ('sourceCredit', 1), ('notes', 1)]\n",
      "      /us/usc/t42/s282: [('num', 1), ('heading', 1), ('subsection', 9), ('num', 1), ('heading', 1), ('paragraph', 7), ('subsection', 5), ('sourceCredit', 1), ('note', 22)]\n",
      "     /us/usc/t42/s290b: [('num', 1), ('heading', 1), ('subsection', 12), ('sourceCredit', 1), ('notes', 1)]\n",
      "    /us/usc/t42/s290aa: [('num', 1), ('heading', 1), ('subsection', 17), ('sourceCredit', 1), ('note', 23)]\n",
      "  /us/usc/t42/s290bb–1: [('num', 1), ('heading', 1), ('subsection', 19), ('sourceCredit', 1), ('notes', 1)]\n",
      " /us/usc/t42/s290bb–25: [('num', 1), ('heading', 1), ('subsection', 15), ('sourceCredit', 1), ('notes', 1)]\n",
      "/us/usc/t42/s290bb–25b: [('num', 1), ('heading', 1), ('subsection', 7), ('sourceCredit', 1), ('notes', 1)]\n",
      "  /us/usc/t42/s290dd–2: [('num', 1), ('heading', 1), ('subsection', 11), ('sourceCredit', 1), ('notes', 1)]\n",
      "     /us/usc/t42/s294q: [('num', 1), ('heading', 1), ('subsection', 9), ('sourceCredit', 1), ('notes', 1)]\n",
      "   /us/usc/t42/s295f–3: [('num', 1), ('heading', 1), ('subsection', 6), ('sourceCredit', 1), ('note', 1), ('heading', 1), ('p', 36)]\n",
      "     /us/usc/t42/s295h: [('num', 1), ('heading', 1), ('subsection', 10), ('sourceCredit', 1), ('notes', 1)]\n",
      "     /us/usc/t42/s297b: [('num', 1), ('heading', 1), ('subsection', 11), ('sourceCredit', 1), ('notes', 1)]\n",
      "      /us/usc/t42/s300: [('num', 1), ('heading', 1), ('subsection', 4), ('sourceCredit', 1), ('notes', 1)]\n",
      "     /us/usc/t42/s300e: [('num', 1), ('heading', 1), ('subsection', 4), ('sourceCredit', 1), ('notes', 1)]\n",
      "   /us/usc/t42/s300g–1: [('num', 1), ('heading', 1), ('subsection', 1), ('num', 1), ('heading', 1), ('paragraph', 15), ('subsection', 3), ('sourceCredit', 1), ('notes', 1)]\n",
      "   /us/usc/t42/s300g–3: [('num', 1), ('heading', 1), ('subsection', 10), ('sourceCredit', 1), ('notes', 1)]\n",
      "  /us/usc/t42/s300j–12: [('num', 1), ('heading', 1), ('subsection', 20), ('sourceCredit', 1), ('note', 8)]\n",
      " /us/usc/t42/s300j–19a: [('num', 1), ('heading', 1), ('subsection', 14), ('sourceCredit', 1), ('notes', 1)]\n",
      "     /us/usc/t42/s300u: [('num', 1), ('heading', 1), ('subsection', 3), ('sourceCredit', 1), ('note', 13)]\n",
      "  /us/usc/t42/s300cc–1: [('num', 1), ('heading', 1), ('subsection', 5), ('sourceCredit', 1), ('note', 15)]\n",
      " /us/usc/t42/s300ff–12: [('num', 1), ('heading', 1), ('subsection', 5), ('sourceCredit', 1), ('notes', 1)]\n",
      " /us/usc/t42/s300ff–13: [('num', 1), ('heading', 1), ('subsection', 5), ('sourceCredit', 1), ('notes', 1)]\n",
      " /us/usc/t42/s300ff–28: [('num', 1), ('heading', 1), ('subsection', 4), ('sourceCredit', 1), ('notes', 1)]\n",
      "  /us/usc/t42/s300gg–3: [('num', 1), ('heading', 1), ('subsection', 7), ('sourceCredit', 1), ('notes', 1)]\n",
      " /us/usc/t42/s300gg–26: [('num', 1), ('heading', 1), ('subsection', 5), ('sourceCredit', 1), ('notes', 1)]\n",
      "/us/usc/t42/s300gg–111: [('num', 1), ('heading', 1), ('subsection', 6), ('sourceCredit', 1), ('notes', 1)]\n",
      " /us/usc/t42/s300hh–10: [('num', 1), ('heading', 1), ('subsection', 6), ('sourceCredit', 1), ('notes', 1)]\n",
      "      /us/usc/t42/s303: [('num', 1), ('heading', 1), ('subsection', 2), ('sourceCredit', 1), ('note', 26)]\n",
      "      /us/usc/t42/s401: [('num', 1), ('heading', 1), ('subsection', 14), ('sourceCredit', 1), ('note', 2), ('heading', 1), ('p', 120), ('note', 38)]\n",
      "      /us/usc/t42/s402: [('num', 1), ('heading', 1), ('subsection', 26), ('sourceCredit', 1), ('note', 3), ('heading', 1), ('p', 621), ('note', 67)]\n",
      "      /us/usc/t42/s403: [('num', 1), ('heading', 1), ('subsection', 12), ('sourceCredit', 1), ('note', 2), ('heading', 1), ('p', 218), ('note', 35)]\n",
      "      /us/usc/t42/s404: [('num', 1), ('heading', 1), ('subsection', 7), ('sourceCredit', 1), ('notes', 1)]\n",
      "      /us/usc/t42/s405: [('num', 1), ('heading', 1), ('subsection', 23), ('sourceCredit', 1), ('note', 4), ('heading', 1), ('p', 231), ('note', 53)]\n",
      "      /us/usc/t42/s406: [('num', 1), ('heading', 1), ('subsection', 5), ('sourceCredit', 1), ('notes', 1)]\n",
      "      /us/usc/t42/s408: [('num', 1), ('heading', 1), ('subsection', 5), ('sourceCredit', 1), ('notes', 1)]\n",
      "      /us/usc/t42/s409: [('num', 1), ('heading', 1), ('subsection', 11), ('sourceCredit', 1), ('note', 43)]\n",
      "      /us/usc/t42/s410: [('num', 1), ('heading', 1), ('chapeau', 1), ('subsection', 18), ('sourceCredit', 1), ('note', 3), ('heading', 1), ('p', 133), ('note', 46)]\n",
      "      /us/usc/t42/s411: [('num', 1), ('heading', 1), ('chapeau', 1), ('subsection', 11), ('sourceCredit', 1), ('note', 33)]\n",
      "      /us/usc/t42/s413: [('num', 1), ('heading', 1), ('subsection', 4), ('sourceCredit', 1), ('notes', 1)]\n",
      "      /us/usc/t42/s415: [('num', 1), ('heading', 1), ('chapeau', 1), ('subsection', 9), ('sourceCredit', 1), ('note', 2), ('heading', 1), ('p', 305), ('note', 54)]\n",
      "      /us/usc/t42/s416: [('num', 1), ('heading', 1), ('chapeau', 1), ('subsection', 12), ('sourceCredit', 1), ('note', 3), ('heading', 1), ('p', 123), ('note', 27)]\n",
      "      /us/usc/t42/s417: [('num', 1), ('heading', 1), ('subsection', 8), ('sourceCredit', 1), ('note', 20)]\n",
      "      /us/usc/t42/s418: [('num', 1), ('heading', 1), ('subsection', 14), ('sourceCredit', 1), ('note', 2), ('heading', 1), ('p', 128), ('note', 41)]\n",
      "      /us/usc/t42/s421: [('num', 1), ('heading', 1), ('subsection', 13), ('sourceCredit', 1), ('note', 25)]\n",
      "      /us/usc/t42/s422: [('num', 1), ('heading', 1), ('subsection', 4), ('sourceCredit', 1), ('notes', 1)]\n",
      "      /us/usc/t42/s423: [('num', 1), ('heading', 1), ('subsection', 10), ('sourceCredit', 1), ('note', 35)]\n",
      "      /us/usc/t42/s426: [('num', 1), ('heading', 1), ('subsection', 9), ('sourceCredit', 1), ('note', 28)]\n",
      "      /us/usc/t42/s430: [('num', 1), ('heading', 1), ('subsection', 4), ('sourceCredit', 1), ('note', 15)]\n",
      "      /us/usc/t42/s503: [('num', 1), ('heading', 1), ('subsection', 13), ('sourceCredit', 1), ('note', 28)]\n",
      "      /us/usc/t42/s601: [('num', 1), ('heading', 1), ('subsection', 2), ('sourceCredit', 1), ('notes', 1)]\n",
      "      /us/usc/t42/s602: [('num', 1), ('heading', 1), ('subsection', 3), ('sourceCredit', 1), ('notes', 1)]\n",
      "      /us/usc/t42/s603: [('num', 1), ('heading', 1), ('num', 1), ('heading', 1), ('paragraph', 4), ('num', 1), ('heading', 1), ('subparagraph', 10), ('subsection', 2), ('sourceCredit', 1), ('note', 4), ('heading', 1), ('p', 129), ('note', 14)]\n",
      "      /us/usc/t42/s604: [('num', 1), ('heading', 1), ('subsection', 11), ('sourceCredit', 1), ('note', 11), ('heading', 1), ('p', 84)]\n",
      "      /us/usc/t42/s607: [('num', 1), ('heading', 1), ('subsection', 9), ('sourceCredit', 1), ('notes', 1)]\n",
      "      /us/usc/t42/s608: [('num', 1), ('heading', 1), ('subsection', 7), ('sourceCredit', 1), ('notes', 1)]\n",
      "      /us/usc/t42/s609: [('num', 1), ('heading', 1), ('subsection', 4), ('sourceCredit', 1), ('notes', 1)]\n",
      "      /us/usc/t42/s611: [('num', 1), ('heading', 1), ('subsection', 4), ('sourceCredit', 1), ('notes', 1)]\n",
      "      /us/usc/t42/s622: [('num', 1), ('heading', 1), ('subsection', 3), ('sourceCredit', 1), ('note', 23)]\n",
      "     /us/usc/t42/s629g: [('num', 1), ('heading', 1), ('subsection', 7), ('sourceCredit', 1), ('notes', 1)]\n",
      "     /us/usc/t42/s629h: [('num', 1), ('heading', 1), ('subsection', 4), ('sourceCredit', 1), ('notes', 1)]\n",
      "      /us/usc/t42/s652: [('num', 1), ('heading', 1), ('subsection', 15), ('sourceCredit', 1), ('note', 2), ('heading', 1), ('p', 104), ('note', 19)]\n",
      "      /us/usc/t42/s653: [('num', 1), ('heading', 1), ('subsection', 16), ('sourceCredit', 1), ('notes', 1)]\n",
      "      /us/usc/t42/s654: [('num', 1), ('heading', 1), ('chapeau', 1), ('paragraph', 34), ('continuation', 1), ('sourceCredit', 1), ('note', 3), ('heading', 1), ('p', 126), ('note', 18)]\n",
      "      /us/usc/t42/s655: [('num', 1), ('heading', 1), ('subsection', 6), ('sourceCredit', 1), ('notes', 1)]\n",
      "      /us/usc/t42/s657: [('num', 1), ('heading', 1), ('subsection', 5), ('sourceCredit', 1), ('notes', 1)]\n",
      "     /us/usc/t42/s658a: [('num', 1), ('heading', 1), ('subsection', 1), ('num', 1), ('heading', 1), ('paragraph', 5), ('num', 1), ('heading', 1), ('subparagraph', 5), ('subsection', 4), ('sourceCredit', 1), ('notes', 1)]\n",
      "      /us/usc/t42/s659: [('num', 1), ('heading', 1), ('subsection', 9), ('sourceCredit', 1), ('notes', 1)]\n",
      "      /us/usc/t42/s666: [('num', 1), ('heading', 1), ('num', 1), ('heading', 1), ('chapeau', 1), ('paragraph', 19), ('continuation', 1), ('subsection', 6), ('sourceCredit', 1), ('note', 20)]\n",
      "      /us/usc/t42/s670: [('num', 1), ('heading', 1), ('content', 1), ('sourceCredit', 1), ('note', 12)]\n",
      "      /us/usc/t42/s671: [('num', 1), ('heading', 1), ('num', 1), ('heading', 1), ('chapeau', 1), ('paragraph', 37), ('subsection', 4), ('sourceCredit', 1), ('note', 32)]\n",
      "      /us/usc/t42/s672: [('num', 1), ('heading', 1), ('subsection', 11), ('sourceCredit', 1), ('notes', 1)]\n",
      "      /us/usc/t42/s673: [('num', 1), ('heading', 1), ('subsection', 5), ('sourceCredit', 1), ('notes', 1)]\n",
      "     /us/usc/t42/s673b: [('num', 1), ('heading', 1), ('subsection', 9), ('sourceCredit', 1), ('notes', 1)]\n",
      "      /us/usc/t42/s674: [('num', 1), ('heading', 1), ('subsection', 7), ('sourceCredit', 1), ('note', 23)]\n",
      "      /us/usc/t42/s675: [('num', 1), ('heading', 1), ('chapeau', 1), ('paragraph', 13), ('sourceCredit', 1), ('note', 20)]\n",
      "      /us/usc/t42/s677: [('num', 1), ('heading', 1), ('subsection', 10), ('sourceCredit', 1), ('note', 20)]\n",
      "      /us/usc/t42/s701: [('num', 1), ('heading', 1), ('subsection', 3), ('sourceCredit', 1), ('notes', 1)]\n",
      "      /us/usc/t42/s711: [('num', 1), ('heading', 1), ('subsection', 11), ('sourceCredit', 1), ('notes', 1)]\n",
      "      /us/usc/t42/s713: [('num', 1), ('heading', 1), ('subsection', 6), ('sourceCredit', 1), ('notes', 1)]\n",
      "     /us/usc/t42/s1007: [('num', 1), ('heading', 1), ('subsection', 12), ('sourceCredit', 1), ('notes', 1)]\n",
      "     /us/usc/t42/s1101: [('num', 1), ('heading', 1), ('subsection', 6), ('sourceCredit', 1), ('notes', 1)]\n",
      "     /us/usc/t42/s1103: [('num', 1), ('heading', 1), ('subsection', 9), ('sourceCredit', 1), ('notes', 1)]\n",
      "     /us/usc/t42/s1301: [('num', 1), ('heading', 1), ('subsection', 4), ('sourceCredit', 1), ('note', 30)]\n",
      "     /us/usc/t42/s1305: [('num', 1), ('heading', 1), ('content', 1), ('sourceCredit', 1), ('note', 55)]\n",
      "     /us/usc/t42/s1308: [('num', 1), ('heading', 1), ('subsection', 8), ('sourceCredit', 1), ('note', 2), ('heading', 1), ('p', 105), ('note', 26)]\n",
      "     /us/usc/t42/s1315: [('num', 1), ('heading', 1), ('subsection', 6), ('sourceCredit', 1), ('note', 19)]\n",
      "  /us/usc/t42/s1320a–7: [('num', 1), ('heading', 1), ('subsection', 10), ('sourceCredit', 1), ('notes', 1)]\n",
      " /us/usc/t42/s1320a–7a: [('num', 1), ('heading', 1), ('subsection', 19), ('sourceCredit', 1), ('note', 2), ('heading', 1), ('p', 118), ('note', 17)]\n",
      " /us/usc/t42/s1320a–7b: [('num', 1), ('heading', 1), ('subsection', 8), ('sourceCredit', 1), ('note', 21)]\n",
      " /us/usc/t42/s1320a–7l: [('num', 1), ('heading', 1), ('subsection', 2), ('sourceCredit', 1), ('notes', 1)]\n",
      "  /us/usc/t42/s1320b–7: [('num', 1), ('heading', 1), ('subsection', 6), ('sourceCredit', 1), ('notes', 1)]\n",
      " /us/usc/t42/s1320b–9a: [('num', 1), ('heading', 1), ('subsection', 9), ('sourceCredit', 1), ('notes', 1)]\n",
      " /us/usc/t42/s1320b–19: [('num', 1), ('heading', 1), ('subsection', 12), ('sourceCredit', 1), ('notes', 1)]\n",
      "  /us/usc/t42/s1320c–3: [('num', 1), ('heading', 1), ('subsection', 6), ('sourceCredit', 1), ('note', 16)]\n",
      "  /us/usc/t42/s1320d–2: [('num', 1), ('heading', 1), ('subsection', 10), ('sourceCredit', 1), ('note', 16)]\n",
      "    /us/usc/t42/s1320e: [('num', 1), ('heading', 1), ('subsection', 10), ('sourceCredit', 1), ('notes', 1)]\n",
      "  /us/usc/t42/s1320f–1: [('num', 1), ('heading', 1), ('subsection', 6), ('sourceCredit', 1), ('notes', 1)]\n",
      "     /us/usc/t42/s1382: [('num', 1), ('heading', 1), ('subsection', 9), ('sourceCredit', 1), ('note', 44)]\n",
      "    /us/usc/t42/s1382a: [('num', 1), ('heading', 1), ('subsection', 2), ('sourceCredit', 1), ('note', 28)]\n",
      "    /us/usc/t42/s1382b: [('num', 1), ('heading', 1), ('subsection', 5), ('sourceCredit', 1), ('notes', 1)]\n",
      "    /us/usc/t42/s1382c: [('num', 1), ('heading', 1), ('subsection', 6), ('sourceCredit', 1), ('note', 18)]\n",
      "    /us/usc/t42/s1382e: [('num', 1), ('heading', 1), ('subsection', 5), ('sourceCredit', 1), ('note', 22)]\n",
      "     /us/usc/t42/s1383: [('num', 1), ('heading', 1), ('num', 1), ('heading', 1), ('paragraph', 1), ('num', 1), ('subparagraph', 9), ('paragraph', 8), ('subsection', 15), ('sourceCredit', 1), ('note', 4), ('heading', 1), ('p', 211), ('note', 39)]\n",
      "  /us/usc/t42/s1395b–1: [('num', 1), ('heading', 1), ('subsection', 2), ('sourceCredit', 1), ('note', 40)]\n",
      "  /us/usc/t42/s1395b–6: [('num', 1), ('heading', 1), ('subsection', 6), ('sourceCredit', 1), ('notes', 1)]\n",
      "    /us/usc/t42/s1395d: [('num', 1), ('heading', 1), ('subsection', 7), ('sourceCredit', 1), ('note', 22)]\n",
      "    /us/usc/t42/s1395f: [('num', 1), ('heading', 1), ('subsection', 12), ('sourceCredit', 1), ('note', 2), ('heading', 1), ('p', 167), ('note', 37)]\n",
      "    /us/usc/t42/s1395g: [('num', 1), ('heading', 1), ('subsection', 6), ('sourceCredit', 1), ('notes', 1)]\n",
      "    /us/usc/t42/s1395h: [('num', 1), ('heading', 1), ('subsection', 7), ('sourceCredit', 1), ('note', 24)]\n",
      "    /us/usc/t42/s1395i: [('num', 1), ('heading', 1), ('subsection', 11), ('sourceCredit', 1), ('note', 19)]\n",
      "  /us/usc/t42/s1395i–2: [('num', 1), ('heading', 1), ('subsection', 7), ('sourceCredit', 1), ('notes', 1)]\n",
      "  /us/usc/t42/s1395i–3: [('num', 1), ('heading', 1), ('subsection', 11), ('sourceCredit', 1), ('note', 27)]\n",
      "  /us/usc/t42/s1395i–4: [('num', 1), ('heading', 1), ('subsection', 10), ('sourceCredit', 1), ('note', 13)]\n",
      "    /us/usc/t42/s1395k: [('num', 1), ('heading', 1), ('subsection', 2), ('sourceCredit', 1), ('note', 24)]\n",
      "    /us/usc/t42/s1395l: [('num', 1), ('heading', 1), ('subsection', 19), ('num', 1), ('heading', 1), ('paragraph', 22), ('subsection', 10), ('sourceCredit', 1), ('note', 3), ('heading', 1), ('p', 671), ('note', 109)]\n",
      "    /us/usc/t42/s1395m: [('num', 1), ('heading', 1), ('num', 1), ('heading', 1), ('paragraph', 22), ('subsection', 24), ('sourceCredit', 1), ('note', 4), ('heading', 1), ('p', 378), ('note', 72)]\n",
      "    /us/usc/t42/s1395n: [('num', 1), ('heading', 1), ('subsection', 5), ('sourceCredit', 1), ('note', 22)]\n",
      "    /us/usc/t42/s1395p: [('num', 1), ('heading', 1), ('subsection', 15), ('sourceCredit', 1), ('notes', 1)]\n",
      "    /us/usc/t42/s1395r: [('num', 1), ('heading', 1), ('subsection', 10), ('sourceCredit', 1), ('note', 2), ('heading', 1), ('p', 134), ('note', 21)]\n",
      "    /us/usc/t42/s1395u: [('num', 1), ('heading', 1), ('subsection', 1), ('num', 1), ('heading', 1), ('paragraph', 19), ('subsection', 17), ('sourceCredit', 1), ('note', 2), ('heading', 1), ('p', 429), ('note', 85)]\n",
      "  /us/usc/t42/s1395w–3: [('num', 1), ('heading', 1), ('subsection', 6), ('sourceCredit', 1), ('notes', 1)]\n",
      " /us/usc/t42/s1395w–3a: [('num', 1), ('heading', 1), ('subsection', 10), ('sourceCredit', 1), ('notes', 1)]\n",
      "  /us/usc/t42/s1395w–4: [('num', 1), ('heading', 1), ('subsection', 2), ('num', 1), ('heading', 1), ('paragraph', 1), ('num', 1), ('heading', 1), ('subparagraph', 15), ('paragraph', 6), ('subsection', 13), ('num', 1), ('heading', 1), ('paragraph', 13), ('subsection', 3), ('sourceCredit', 1), ('note', 3), ('heading', 1), ('p', 422), ('note', 59)]\n",
      " /us/usc/t42/s1395w–21: [('num', 1), ('heading', 1), ('subsection', 10), ('sourceCredit', 1), ('note', 27)]\n",
      " /us/usc/t42/s1395w–22: [('num', 1), ('heading', 1), ('subsection', 14), ('sourceCredit', 1), ('note', 15)]\n",
      " /us/usc/t42/s1395w–23: [('num', 1), ('heading', 1), ('subsection', 15), ('sourceCredit', 1), ('note', 2), ('heading', 1), ('p', 230), ('note', 20)]\n",
      " /us/usc/t42/s1395w–24: [('num', 1), ('heading', 1), ('subsection', 8), ('sourceCredit', 1), ('notes', 1)]\n",
      " /us/usc/t42/s1395w–27: [('num', 1), ('heading', 1), ('subsection', 9), ('sourceCredit', 1), ('notes', 1)]\n",
      " /us/usc/t42/s1395w–28: [('num', 1), ('heading', 1), ('subsection', 9), ('sourceCredit', 1), ('notes', 1)]\n",
      "/us/usc/t42/s1395w–101: [('num', 1), ('heading', 1), ('subsection', 3), ('sourceCredit', 1), ('notes', 1)]\n",
      "/us/usc/t42/s1395w–102: [('num', 1), ('heading', 1), ('subsection', 5), ('sourceCredit', 1), ('notes', 1)]\n",
      "/us/usc/t42/s1395w–104: [('num', 1), ('heading', 1), ('subsection', 2), ('num', 1), ('heading', 1), ('paragraph', 7), ('subsection', 12), ('sourceCredit', 1), ('notes', 1)]\n",
      "/us/usc/t42/s1395w–113: [('num', 1), ('heading', 1), ('subsection', 3), ('sourceCredit', 1), ('notes', 1)]\n",
      "/us/usc/t42/s1395w–114: [('num', 1), ('heading', 1), ('subsection', 6), ('sourceCredit', 1), ('notes', 1)]\n",
      "/us/usc/t42/s1395w–115: [('num', 1), ('heading', 1), ('subsection', 8), ('sourceCredit', 1), ('notes', 1)]\n",
      "/us/usc/t42/s1395w–141: [('num', 1), ('heading', 1), ('subsection', 11), ('sourceCredit', 1), ('notes', 1)]\n",
      "    /us/usc/t42/s1395x: [('num', 1), ('heading', 1), ('chapeau', 1), ('subsection', 64), ('sourceCredit', 1), ('note', 3), ('heading', 1), ('p', 587), ('note', 95)]\n",
      "    /us/usc/t42/s1395y: [('num', 1), ('heading', 1), ('subsection', 1), ('num', 1), ('heading', 1), ('paragraph', 9), ('subsection', 13), ('sourceCredit', 1), ('note', 3), ('heading', 1), ('p', 234), ('note', 54)]\n",
      "   /us/usc/t42/s1395aa: [('num', 1), ('heading', 1), ('subsection', 5), ('sourceCredit', 1), ('notes', 1)]\n",
      "   /us/usc/t42/s1395cc: [('num', 1), ('heading', 1), ('subsection', 11), ('sourceCredit', 1), ('note', 2), ('heading', 1), ('p', 192), ('note', 36)]\n",
      "   /us/usc/t42/s1395dd: [('num', 1), ('heading', 1), ('subsection', 9), ('sourceCredit', 1), ('note', 20)]\n",
      "   /us/usc/t42/s1395ff: [('num', 1), ('heading', 1), ('subsection', 9), ('sourceCredit', 1), ('note', 18)]\n",
      " /us/usc/t42/s1395kk–1: [('num', 1), ('heading', 1), ('subsection', 8), ('sourceCredit', 1), ('notes', 1)]\n",
      "   /us/usc/t42/s1395ll: [('num', 1), ('heading', 1), ('subsection', 2), ('sourceCredit', 1), ('notes', 1)]\n",
      "   /us/usc/t42/s1395mm: [('num', 1), ('heading', 1), ('subsection', 11), ('sourceCredit', 1), ('note', 2), ('heading', 1), ('p', 125), ('note', 37)]\n",
      "   /us/usc/t42/s1395nn: [('num', 1), ('heading', 1), ('subsection', 9), ('sourceCredit', 1), ('note', 20)]\n",
      "   /us/usc/t42/s1395rr: [('num', 1), ('heading', 1), ('subsection', 1), ('num', 1), ('heading', 1), ('paragraph', 14), ('subsection', 6), ('sourceCredit', 1), ('note', 38)]\n",
      "   /us/usc/t42/s1395ss: [('num', 1), ('heading', 1), ('subsection', 26), ('sourceCredit', 1), ('note', 2), ('heading', 1), ('p', 174), ('note', 20)]\n",
      "   /us/usc/t42/s1395ww: [('num', 1), ('heading', 1), ('subsection', 1), ('num', 1), ('heading', 1), ('paragraph', 2), ('num', 1), ('subparagraph', 12), ('paragraph', 4), ('subsection', 1), ('num', 1), ('heading', 1), ('paragraph', 4), ('num', 1), ('subparagraph', 13), ('paragraph', 8), ('subsection', 3), ('num', 1), ('heading', 1), ('paragraph', 9), ('subsection', 12), ('sourceCredit', 1), ('note', 2), ('heading', 1), ('p', 833), ('note', 159)]\n",
      "   /us/usc/t42/s1395yy: [('num', 1), ('heading', 1), ('subsection', 8), ('sourceCredit', 1), ('note', 29)]\n",
      "  /us/usc/t42/s1395aaa: [('num', 1), ('heading', 1), ('subsection', 6), ('sourceCredit', 1), ('notes', 1)]\n",
      "  /us/usc/t42/s1395bbb: [('num', 1), ('heading', 1), ('subsection', 7), ('sourceCredit', 1), ('notes', 1)]\n",
      "  /us/usc/t42/s1395ddd: [('num', 1), ('heading', 1), ('subsection', 10), ('sourceCredit', 1), ('notes', 1)]\n",
      "  /us/usc/t42/s1395eee: [('num', 1), ('heading', 1), ('subsection', 9), ('sourceCredit', 1), ('notes', 1)]\n",
      "  /us/usc/t42/s1395fff: [('num', 1), ('heading', 1), ('subsection', 5), ('sourceCredit', 1), ('note', 24)]\n",
      "  /us/usc/t42/s1395jjj: [('num', 1), ('heading', 1), ('subsection', 13), ('sourceCredit', 1), ('notes', 1)]\n",
      "  /us/usc/t42/s1395lll: [('num', 1), ('heading', 1), ('subsection', 13), ('sourceCredit', 1), ('notes', 1)]\n",
      "     /us/usc/t42/s1396: [('num', 1), ('heading', 1), ('subsection', 6), ('sourceCredit', 1), ('notes', 1)]\n",
      "    /us/usc/t42/s1396a: [('num', 1), ('heading', 1), ('num', 1), ('heading', 1), ('chapeau', 1), ('paragraph', 87), ('continuation', 3), ('subsection', 3), ('num', 1), ('heading', 1), ('paragraph', 16), ('subsection', 40), ('sourceCredit', 1), ('note', 5), ('heading', 1), ('p', 730), ('note', 75), ('heading', 1), ('p', 1), ('ref', 1), ('date', 1), ('ref', 2), ('date', 1), ('ref', 2), ('date', 1), ('ref', 2), ('date', 1), ('ref', 2), ('date', 1), ('ref', 2), ('date', 1), ('ref', 2), ('date', 1), ('ref', 2), ('date', 1), ('ref', 2), ('date', 1), ('ref', 2), ('date', 1), ('ref', 1), ('subsection', 10), ('p', 3), ('note', 38)]\n",
      "    /us/usc/t42/s1396b: [('num', 1), ('heading', 1), ('subsection', 28), ('sourceCredit', 1), ('note', 2), ('heading', 1), ('p', 396), ('note', 63)]\n",
      "    /us/usc/t42/s1396d: [('num', 1), ('heading', 1), ('chapeau', 1), ('subsection', 35), ('sourceCredit', 1), ('note', 3), ('heading', 1), ('p', 300), ('note', 49)]\n",
      "    /us/usc/t42/s1396n: [('num', 1), ('heading', 1), ('subsection', 12), ('sourceCredit', 1), ('note', 25)]\n",
      "    /us/usc/t42/s1396o: [('num', 1), ('heading', 1), ('subsection', 10), ('sourceCredit', 1), ('notes', 1)]\n",
      "  /us/usc/t42/s1396o–1: [('num', 1), ('heading', 1), ('subsection', 5), ('sourceCredit', 1), ('notes', 1)]\n",
      "    /us/usc/t42/s1396p: [('num', 1), ('heading', 1), ('subsection', 8), ('sourceCredit', 1), ('note', 17)]\n",
      "    /us/usc/t42/s1396r: [('num', 1), ('heading', 1), ('subsection', 11), ('sourceCredit', 1), ('note', 4), ('heading', 1), ('p', 125), ('note', 23)]\n",
      "  /us/usc/t42/s1396r–4: [('num', 1), ('heading', 1), ('subsection', 5), ('num', 1), ('heading', 1), ('paragraph', 9), ('subsection', 4), ('sourceCredit', 1), ('note', 4), ('heading', 1), ('p', 140), ('note', 20)]\n",
      "  /us/usc/t42/s1396r–5: [('num', 1), ('heading', 1), ('subsection', 8), ('sourceCredit', 1), ('notes', 1)]\n",
      "  /us/usc/t42/s1396r–6: [('num', 1), ('heading', 1), ('subsection', 6), ('sourceCredit', 1), ('notes', 1)]\n",
      "  /us/usc/t42/s1396r–8: [('num', 1), ('heading', 1), ('subsection', 11), ('sourceCredit', 1), ('note', 4), ('heading', 1), ('p', 150), ('note', 22)]\n",
      "    /us/usc/t42/s1396t: [('num', 1), ('heading', 1), ('subsection', 13), ('sourceCredit', 1), ('notes', 1)]\n",
      "  /us/usc/t42/s1396u–2: [('num', 1), ('heading', 1), ('subsection', 9), ('sourceCredit', 1), ('notes', 1)]\n",
      "  /us/usc/t42/s1396u–4: [('num', 1), ('heading', 1), ('subsection', 10), ('sourceCredit', 1), ('notes', 1)]\n",
      "   /us/usc/t42/s1397cc: [('num', 1), ('heading', 1), ('subsection', 6), ('sourceCredit', 1), ('notes', 1)]\n",
      "   /us/usc/t42/s1397dd: [('num', 1), ('heading', 1), ('subsection', 14), ('sourceCredit', 1), ('note', 2), ('heading', 1), ('p', 153), ('note', 13)]\n",
      "   /us/usc/t42/s1397ee: [('num', 1), ('heading', 1), ('subsection', 7), ('sourceCredit', 1), ('note', 13)]\n",
      "   /us/usc/t42/s1397gg: [('num', 1), ('heading', 1), ('subsection', 7), ('sourceCredit', 1), ('notes', 1)]\n",
      "    /us/usc/t42/s1436a: [('num', 1), ('heading', 1), ('subsection', 9), ('sourceCredit', 1), ('notes', 1)]\n",
      "     /us/usc/t42/s1437: [('num', 1), ('heading', 1), ('subsection', 2), ('sourceCredit', 1), ('note', 25)]\n",
      "    /us/usc/t42/s1437a: [('num', 1), ('heading', 1), ('subsection', 6), ('sourceCredit', 1), ('note', 32)]\n",
      "    /us/usc/t42/s1437c: [('num', 1), ('heading', 1), ('subsection', 9), ('sourceCredit', 1), ('notes', 1)]\n",
      "  /us/usc/t42/s1437c–1: [('num', 1), ('heading', 1), ('subsection', 12), ('sourceCredit', 1), ('notes', 1)]\n",
      "    /us/usc/t42/s1437d: [('num', 1), ('heading', 1), ('subsection', 20), ('sourceCredit', 1), ('note', 3), ('heading', 1), ('p', 135), ('note', 17)]\n",
      "    /us/usc/t42/s1437f: [('num', 1), ('heading', 1), ('subsection', 13), ('num', 1), ('heading', 1), ('paragraph', 21), ('subsection', 15), ('sourceCredit', 1), ('note', 5), ('heading', 1), ('p', 354), ('note', 34), ('heading', 1), ('ref', 1), ('date', 1), ('ref', 2), ('date', 1), ('ref', 2), ('date', 1), ('ref', 2), ('date', 1), ('ref', 2), ('date', 1), ('ref', 3), ('date', 1), ('ref', 2), ('date', 1), ('ref', 2), ('date', 1), ('ref', 2), ('date', 1), ('ref', 2), ('date', 1), ('ref', 1), ('num', 1), ('heading', 1), ('section', 15), ('subtitle', 1), ('p', 5), ('note', 38)]\n",
      "    /us/usc/t42/s1437g: [('num', 1), ('heading', 1), ('subsection', 15), ('sourceCredit', 1), ('note', 21)]\n",
      "    /us/usc/t42/s1437n: [('num', 1), ('heading', 1), ('subsection', 6), ('sourceCredit', 1), ('notes', 1)]\n",
      "    /us/usc/t42/s1437u: [('num', 1), ('heading', 1), ('subsection', 15), ('sourceCredit', 1), ('note', 9)]\n",
      "    /us/usc/t42/s1437v: [('num', 1), ('heading', 1), ('subsection', 15), ('sourceCredit', 1), ('notes', 1)]\n",
      "     /us/usc/t42/s1439: [('num', 1), ('heading', 1), ('subsection', 5), ('sourceCredit', 1), ('notes', 1)]\n",
      "     /us/usc/t42/s1471: [('num', 1), ('heading', 1), ('subsection', 10), ('sourceCredit', 1), ('notes', 1)]\n",
      "     /us/usc/t42/s1472: [('num', 1), ('heading', 1), ('subsection', 9), ('sourceCredit', 1), ('note', 19)]\n",
      "     /us/usc/t42/s1483: [('num', 1), ('heading', 1), ('subsection', 5), ('sourceCredit', 1), ('notes', 1)]\n",
      "     /us/usc/t42/s1485: [('num', 1), ('heading', 1), ('subsection', 27), ('sourceCredit', 1), ('note', 10)]\n",
      "     /us/usc/t42/s1487: [('num', 1), ('heading', 1), ('subsection', 15), ('sourceCredit', 1), ('notes', 1)]\n",
      "    /us/usc/t42/s1490a: [('num', 1), ('heading', 1), ('subsection', 5), ('sourceCredit', 1), ('notes', 1)]\n",
      "     /us/usc/t42/s1586: [('num', 1), ('heading', 1), ('subsection', 4), ('sourceCredit', 1), ('notes', 1)]\n",
      "     /us/usc/t42/s1751: [('num', 1), ('heading', 1), ('content', 1), ('sourceCredit', 1), ('note', 31)]\n",
      "     /us/usc/t42/s1755: [('num', 1), ('heading', 1), ('subsection', 6), ('sourceCredit', 1), ('notes', 1)]\n",
      "     /us/usc/t42/s1758: [('num', 1), ('heading', 1), ('subsection', 1), ('num', 1), ('heading', 1), ('paragraph', 15), ('subsection', 10), ('sourceCredit', 1), ('note', 3), ('heading', 1), ('p', 152), ('note', 20)]\n",
      "    /us/usc/t42/s1759a: [('num', 1), ('heading', 1), ('subsection', 7), ('sourceCredit', 1), ('notes', 1)]\n",
      "     /us/usc/t42/s1760: [('num', 1), ('heading', 1), ('subsection', 18), ('sourceCredit', 1), ('note', 24)]\n",
      "     /us/usc/t42/s1761: [('num', 1), ('heading', 1), ('subsection', 18), ('sourceCredit', 1), ('note', 3), ('heading', 1), ('p', 168), ('note', 14)]\n",
      "     /us/usc/t42/s1766: [('num', 1), ('heading', 1), ('subsection', 21), ('sourceCredit', 1), ('note', 3), ('heading', 1), ('p', 180), ('note', 29)]\n",
      "     /us/usc/t42/s1769: [('num', 1), ('heading', 1), ('subsection', 9), ('sourceCredit', 1), ('notes', 1)]\n",
      "     /us/usc/t42/s1773: [('num', 1), ('heading', 1), ('subsection', 5), ('sourceCredit', 1), ('notes', 1)]\n",
      "     /us/usc/t42/s1776: [('num', 1), ('heading', 1), ('subsection', 10), ('sourceCredit', 1), ('notes', 1)]\n",
      "     /us/usc/t42/s1786: [('num', 1), ('heading', 1), ('subsection', 7), ('num', 1), ('heading', 1), ('paragraph', 14), ('subsection', 11), ('sourceCredit', 1), ('note', 3), ('heading', 1), ('p', 381), ('note', 40)]\n",
      "     /us/usc/t42/s1788: [('num', 1), ('heading', 1), ('subsection', 12), ('sourceCredit', 1), ('notes', 1)]\n",
      "     /us/usc/t42/s1861: [('num', 1), ('heading', 1), ('content', 1), ('sourceCredit', 1), ('note', 33)]\n",
      "     /us/usc/t42/s1862: [('num', 1), ('heading', 1), ('subsection', 7), ('sourceCredit', 1), ('note', 19)]\n",
      "    /us/usc/t42/s1862i: [('num', 1), ('heading', 1), ('subsection', 10), ('sourceCredit', 1), ('notes', 1)]\n",
      "    /us/usc/t42/s1862n: [('num', 1), ('heading', 1), ('subsection', 4), ('sourceCredit', 1), ('notes', 1)]\n",
      "     /us/usc/t42/s1962: [('num', 1), ('heading', 1), ('content', 1), ('sourceCredit', 1), ('note', 10)]\n",
      " /us/usc/t42/s1962d–5b: [('num', 1), ('heading', 1), ('subsection', 8), ('sourceCredit', 1), ('notes', 1)]\n",
      "    /us/usc/t42/s2000e: [('num', 1), ('heading', 1), ('chapeau', 1), ('subsection', 14), ('sourceCredit', 1), ('note', 48)]\n",
      "  /us/usc/t42/s2000e–4: [('num', 1), ('heading', 1), ('subsection', 11), ('sourceCredit', 1), ('note', 24)]\n",
      "   /us/usc/t42/s2000ee: [('num', 1), ('heading', 1), ('subsection', 13), ('sourceCredit', 1), ('notes', 1)]\n",
      "     /us/usc/t42/s2014: [('num', 1), ('heading', 1), ('chapeau', 1), ('subsection', 35), ('sourceCredit', 1), ('notes', 1)]\n",
      "     /us/usc/t42/s2121: [('num', 1), ('heading', 1), ('subsection', 3), ('sourceCredit', 1), ('notes', 1)]\n",
      "     /us/usc/t42/s2153: [('num', 1), ('heading', 1), ('chapeau', 1), ('subsection', 4), ('continuation', 2), ('subsection', 1), ('sourceCredit', 1), ('notes', 1)]\n",
      "    /us/usc/t42/s2160e: [('num', 1), ('heading', 1), ('subsection', 8), ('sourceCredit', 1), ('notes', 1)]\n",
      "     /us/usc/t42/s2201: [('num', 1), ('heading', 1), ('chapeau', 1), ('subsection', 24), ('sourceCredit', 1), ('notes', 1)]\n",
      "     /us/usc/t42/s2210: [('num', 1), ('heading', 1), ('subsection', 20), ('sourceCredit', 1), ('note', 14), ('heading', 1), ('ref', 1), ('date', 1), ('ref', 2), ('date', 1), ('ref', 2), ('date', 1), ('ref', 2), ('date', 1), ('ref', 2), ('date', 1), ('ref', 2), ('date', 1), ('ref', 2), ('date', 1), ('ref', 2), ('date', 1), ('ref', 2), ('date', 1), ('ref', 2), ('date', 1), ('ref', 2), ('date', 1), ('ref', 1), ('section', 14), ('note', 4)]\n",
      "     /us/usc/t42/s3001: [('num', 1), ('heading', 1), ('chapeau', 1), ('paragraph', 10), ('sourceCredit', 1), ('note', 35)]\n",
      "     /us/usc/t42/s3002: [('num', 1), ('heading', 1), ('chapeau', 1), ('paragraph', 56), ('sourceCredit', 1), ('notes', 1)]\n",
      "     /us/usc/t42/s3012: [('num', 1), ('heading', 1), ('subsection', 9), ('sourceCredit', 1), ('note', 13)]\n",
      "     /us/usc/t42/s3013: [('num', 1), ('heading', 1), ('subsection', 3), ('sourceCredit', 1), ('notes', 1)]\n",
      "     /us/usc/t42/s3025: [('num', 1), ('heading', 1), ('subsection', 4), ('sourceCredit', 1), ('notes', 1)]\n",
      "     /us/usc/t42/s3026: [('num', 1), ('heading', 1), ('subsection', 7), ('sourceCredit', 1), ('note', 3), ('heading', 1), ('p', 151), ('note', 8)]\n",
      "     /us/usc/t42/s3027: [('num', 1), ('heading', 1), ('subsection', 6), ('sourceCredit', 1), ('note', 3), ('heading', 1), ('p', 182), ('note', 7)]\n",
      "     /us/usc/t42/s3056: [('num', 1), ('heading', 1), ('subsection', 5), ('sourceCredit', 1), ('notes', 1)]\n",
      "    /us/usc/t42/s3058g: [('num', 1), ('heading', 1), ('subsection', 10), ('sourceCredit', 1), ('notes', 1)]\n",
      "     /us/usc/t42/s3121: [('num', 1), ('heading', 1), ('subsection', 2), ('sourceCredit', 1), ('note', 15), ('heading', 1), ('p', 1), ('ref', 1), ('date', 1), ('ref', 2), ('date', 1), ('ref', 2), ('date', 1), ('ref', 2), ('date', 1), ('ref', 2), ('date', 1), ('ref', 2), ('date', 1), ('ref', 2), ('date', 1), ('ref', 2), ('date', 1), ('ref', 2), ('date', 1), ('ref', 2), ('date', 1), ('ref', 2), ('date', 1), ('ref', 1), ('section', 12), ('p', 2), ('note', 8)]\n",
      "     /us/usc/t42/s3374: [('num', 1), ('heading', 1), ('subsection', 16), ('sourceCredit', 1), ('notes', 1)]\n",
      "     /us/usc/t42/s3501: [('num', 1), ('heading', 1), ('content', 1), ('sourceCredit', 1), ('note', 40)]\n",
      "     /us/usc/t42/s3535: [('num', 1), ('heading', 1), ('subsection', 20), ('sourceCredit', 1), ('notes', 1)]\n",
      "     /us/usc/t42/s3608: [('num', 1), ('heading', 1), ('subsection', 6), ('sourceCredit', 1), ('note', 13)]\n",
      "     /us/usc/t42/s4011: [('num', 1), ('heading', 1), ('subsection', 3), ('sourceCredit', 1), ('notes', 1)]\n",
      "    /us/usc/t42/s4012a: [('num', 1), ('heading', 1), ('subsection', 8), ('sourceCredit', 1), ('notes', 1)]\n",
      "     /us/usc/t42/s4014: [('num', 1), ('heading', 1), ('subsection', 8), ('sourceCredit', 1), ('notes', 1)]\n",
      "     /us/usc/t42/s4321: [('num', 1), ('heading', 1), ('content', 1), ('sourceCredit', 1), ('note', 79), ('heading', 1), ('p', 154), ('signature', 1), ('note', 2)]\n",
      "    /us/usc/t42/s4370m: [('num', 1), ('heading', 1), ('chapeau', 1), ('paragraph', 18), ('sourceCredit', 1), ('notes', 1)]\n",
      "  /us/usc/t42/s4370m–2: [('num', 1), ('heading', 1), ('subsection', 6), ('sourceCredit', 1), ('notes', 1)]\n",
      "     /us/usc/t42/s4822: [('num', 1), ('heading', 1), ('subsection', 7), ('sourceCredit', 1), ('notes', 1)]\n",
      "     /us/usc/t42/s4953: [('num', 1), ('heading', 1), ('subsection', 9), ('sourceCredit', 1), ('notes', 1)]\n",
      "     /us/usc/t42/s5105: [('num', 1), ('heading', 1), ('subsection', 5), ('sourceCredit', 1), ('notes', 1)]\n",
      "     /us/usc/t42/s5106: [('num', 1), ('heading', 1), ('subsection', 3), ('sourceCredit', 1), ('notes', 1)]\n",
      "    /us/usc/t42/s5106a: [('num', 1), ('heading', 1), ('subsection', 6), ('sourceCredit', 1), ('note', 11)]\n",
      "    /us/usc/t42/s5170c: [('num', 1), ('heading', 1), ('subsection', 7), ('sourceCredit', 1), ('notes', 1)]\n",
      "     /us/usc/t42/s5172: [('num', 1), ('heading', 1), ('subsection', 5), ('sourceCredit', 1), ('notes', 1)]\n",
      "     /us/usc/t42/s5174: [('num', 1), ('heading', 1), ('subsection', 10), ('sourceCredit', 1), ('notes', 1)]\n",
      "     /us/usc/t42/s5195: [('num', 1), ('heading', 1), ('content', 1), ('sourceCredit', 1), ('note', 108)]\n",
      "     /us/usc/t42/s5196: [('num', 1), ('heading', 1), ('subsection', 11), ('sourceCredit', 1), ('notes', 1)]\n",
      "     /us/usc/t42/s5301: [('num', 1), ('heading', 1), ('subsection', 4), ('sourceCredit', 1), ('note', 33)]\n",
      "     /us/usc/t42/s5302: [('num', 1), ('heading', 1), ('subsection', 5), ('sourceCredit', 1), ('note', 12)]\n",
      "     /us/usc/t42/s5304: [('num', 1), ('heading', 1), ('subsection', 13), ('sourceCredit', 1), ('note', 17)]\n",
      "     /us/usc/t42/s5305: [('num', 1), ('heading', 1), ('subsection', 8), ('sourceCredit', 1), ('note', 23)]\n",
      "     /us/usc/t42/s5306: [('num', 1), ('heading', 1), ('subsection', 6), ('sourceCredit', 1), ('note', 3), ('heading', 1), ('p', 103), ('note', 10)]\n",
      "     /us/usc/t42/s5308: [('num', 1), ('heading', 1), ('subsection', 18), ('sourceCredit', 1), ('notes', 1)]\n",
      "     /us/usc/t42/s5318: [('num', 1), ('heading', 1), ('subsection', 20), ('sourceCredit', 1), ('note', 12), ('heading', 1), ('ref', 1), ('date', 1), ('ref', 2), ('date', 1), ('ref', 1), ('section', 9), ('note', 2)]\n",
      "     /us/usc/t42/s5403: [('num', 1), ('heading', 1), ('subsection', 8), ('sourceCredit', 1), ('notes', 1)]\n",
      "     /us/usc/t42/s5841: [('num', 1), ('heading', 1), ('subsection', 7), ('sourceCredit', 1), ('note', 24)]\n",
      "     /us/usc/t42/s6201: [('num', 1), ('heading', 1), ('chapeau', 1), ('paragraph', 8), ('sourceCredit', 1), ('note', 19), ('heading', 1), ('ref', 1), ('date', 1), ('ref', 2), ('date', 1), ('ref', 2), ('date', 1), ('ref', 2), ('date', 1), ('ref', 1), ('section', 13), ('note', 4)]\n",
      "     /us/usc/t42/s6240: [('num', 1), ('heading', 1), ('subsection', 7), ('sourceCredit', 1), ('notes', 1)]\n",
      "     /us/usc/t42/s6241: [('num', 1), ('heading', 1), ('subsection', 9), ('sourceCredit', 1), ('notes', 1)]\n",
      "     /us/usc/t42/s6272: [('num', 1), ('heading', 1), ('subsection', 14), ('sourceCredit', 1), ('notes', 1)]\n",
      "     /us/usc/t42/s6291: [('num', 1), ('heading', 1), ('chapeau', 1), ('paragraph', 66), ('sourceCredit', 1), ('notes', 1)]\n",
      "     /us/usc/t42/s6294: [('num', 1), ('heading', 1), ('subsection', 7), ('sourceCredit', 1), ('notes', 1)]\n",
      "     /us/usc/t42/s6295: [('num', 1), ('heading', 1), ('subsection', 36), ('sourceCredit', 1), ('notes', 1)]\n",
      "     /us/usc/t42/s6297: [('num', 1), ('heading', 1), ('subsection', 7), ('sourceCredit', 1), ('notes', 1)]\n",
      "     /us/usc/t42/s6311: [('num', 1), ('heading', 1), ('chapeau', 1), ('paragraph', 24), ('sourceCredit', 1), ('notes', 1)]\n",
      "     /us/usc/t42/s6313: [('num', 1), ('heading', 1), ('subsection', 7), ('sourceCredit', 1), ('notes', 1)]\n",
      "     /us/usc/t42/s6601: [('num', 1), ('heading', 1), ('subsection', 2), ('sourceCredit', 1), ('note', 26)]\n",
      "     /us/usc/t42/s6924: [('num', 1), ('heading', 1), ('subsection', 25), ('sourceCredit', 1), ('notes', 1)]\n",
      "     /us/usc/t42/s6925: [('num', 1), ('heading', 1), ('subsection', 10), ('sourceCredit', 1), ('notes', 1)]\n",
      "    /us/usc/t42/s6991b: [('num', 1), ('heading', 1), ('subsection', 10), ('sourceCredit', 1), ('notes', 1)]\n",
      "     /us/usc/t42/s7401: [('num', 1), ('heading', 1), ('subsection', 3), ('sourceCredit', 1), ('note', 33)]\n",
      "     /us/usc/t42/s7403: [('num', 1), ('heading', 1), ('subsection', 11), ('sourceCredit', 1), ('notes', 1)]\n",
      "     /us/usc/t42/s7407: [('num', 1), ('heading', 1), ('subsection', 5), ('sourceCredit', 1), ('notes', 1)]\n",
      "     /us/usc/t42/s7410: [('num', 1), ('heading', 1), ('subsection', 15), ('sourceCredit', 1), ('notes', 1)]\n",
      "     /us/usc/t42/s7411: [('num', 1), ('heading', 1), ('subsection', 10), ('sourceCredit', 1), ('notes', 1)]\n",
      "     /us/usc/t42/s7412: [('num', 1), ('heading', 1), ('subsection', 17), ('num', 1), ('heading', 1), ('paragraph', 11), ('subsection', 1), ('sourceCredit', 1), ('note', 17)]\n",
      "     /us/usc/t42/s7413: [('num', 1), ('heading', 1), ('subsection', 8), ('sourceCredit', 1), ('notes', 1)]\n",
      "    /us/usc/t42/s7511a: [('num', 1), ('heading', 1), ('subsection', 10), ('sourceCredit', 1), ('notes', 1)]\n",
      "     /us/usc/t42/s7521: [('num', 1), ('heading', 1), ('subsection', 14), ('sourceCredit', 1), ('note', 14)]\n",
      "     /us/usc/t42/s7545: [('num', 1), ('heading', 1), ('subsection', 14), ('num', 1), ('heading', 1), ('paragraph', 12), ('subsection', 6), ('sourceCredit', 1), ('note', 18)]\n",
      "     /us/usc/t42/s7607: [('num', 1), ('heading', 1), ('subsection', 8), ('sourceCredit', 1), ('notes', 1)]\n",
      "    /us/usc/t42/s7651c: [('num', 1), ('heading', 1), ('subsection', 4), ('num', 1), ('heading', 1), ('paragraph', 2), ('num', 1), ('content', 1), ('subsection', 3), ('sourceCredit', 1)]\n",
      "    /us/usc/t42/s7651d: [('num', 1), ('heading', 1), ('subsection', 10), ('sourceCredit', 1), ('notes', 1)]\n",
      "     /us/usc/t42/s7675: [('num', 1), ('heading', 1), ('subsection', 11), ('sourceCredit', 1), ('notes', 1)]\n",
      "     /us/usc/t42/s7704: [('num', 1), ('heading', 1), ('subsection', 3), ('sourceCredit', 1), ('note', 13)]\n",
      "     /us/usc/t42/s7706: [('num', 1), ('heading', 1), ('subsection', 4), ('sourceCredit', 1), ('notes', 1)]\n",
      "     /us/usc/t42/s8011: [('num', 1), ('heading', 1), ('subsection', 15), ('sourceCredit', 1), ('notes', 1)]\n",
      "     /us/usc/t42/s8013: [('num', 1), ('heading', 1), ('subsection', 14), ('sourceCredit', 1), ('notes', 1)]\n",
      "     /us/usc/t42/s8253: [('num', 1), ('heading', 1), ('subsection', 9), ('sourceCredit', 1), ('notes', 1)]\n",
      "     /us/usc/t42/s8624: [('num', 1), ('heading', 1), ('subsection', 12), ('sourceCredit', 1), ('notes', 1)]\n",
      "     /us/usc/t42/s9601: [('num', 1), ('heading', 1), ('chapeau', 1), ('paragraph', 41), ('sourceCredit', 1), ('note', 17)]\n",
      "     /us/usc/t42/s9604: [('num', 1), ('heading', 1), ('subsection', 11), ('sourceCredit', 1), ('notes', 1)]\n",
      "     /us/usc/t42/s9607: [('num', 1), ('heading', 1), ('subsection', 18), ('sourceCredit', 1), ('notes', 1)]\n",
      "     /us/usc/t42/s9611: [('num', 1), ('heading', 1), ('subsection', 16), ('sourceCredit', 1), ('notes', 1)]\n",
      "     /us/usc/t42/s9620: [('num', 1), ('heading', 1), ('subsection', 10), ('sourceCredit', 1), ('notes', 1)]\n",
      "     /us/usc/t42/s9622: [('num', 1), ('heading', 1), ('subsection', 13), ('sourceCredit', 1), ('notes', 1)]\n",
      "     /us/usc/t42/s9660: [('num', 1), ('heading', 1), ('subsection', 7), ('sourceCredit', 1), ('notes', 1)]\n",
      "     /us/usc/t42/s9831: [('num', 1), ('heading', 1), ('chapeau', 1), ('paragraph', 2), ('sourceCredit', 1), ('notes', 1)]\n",
      "     /us/usc/t42/s9835: [('num', 1), ('heading', 1), ('subsection', 15), ('sourceCredit', 1), ('note', 2), ('heading', 1), ('p', 112), ('note', 7)]\n",
      "     /us/usc/t42/s9836: [('num', 1), ('heading', 1), ('subsection', 8), ('sourceCredit', 1), ('notes', 1)]\n",
      "    /us/usc/t42/s9836a: [('num', 1), ('heading', 1), ('subsection', 8), ('sourceCredit', 1), ('notes', 1)]\n",
      "     /us/usc/t42/s9837: [('num', 1), ('heading', 1), ('subsection', 9), ('sourceCredit', 1), ('notes', 1)]\n",
      "     /us/usc/t42/s9843: [('num', 1), ('heading', 1), ('subsection', 7), ('sourceCredit', 1), ('notes', 1)]\n",
      "     /us/usc/t42/s9844: [('num', 1), ('heading', 1), ('subsection', 13), ('sourceCredit', 1), ('notes', 1)]\n",
      "    /us/usc/t42/s9858c: [('num', 1), ('heading', 1), ('subsection', 2), ('num', 1), ('heading', 1), ('paragraph', 5), ('subsection', 1), ('sourceCredit', 1), ('notes', 1)]\n",
      "    /us/usc/t42/s10301: [('num', 1), ('heading', 1), ('chapeau', 1), ('paragraph', 9), ('sourceCredit', 1), ('note', 10)]\n",
      "    /us/usc/t42/s11389: [('num', 1), ('heading', 1), ('chapeau', 1), ('paragraph', 2), ('sourceCredit', 1), ('notes', 1)]\n",
      "    /us/usc/t42/s11411: [('num', 1), ('heading', 1), ('subsection', 9), ('sourceCredit', 1), ('notes', 1)]\n",
      "    /us/usc/t42/s11432: [('num', 1), ('heading', 1), ('subsection', 7), ('sourceCredit', 1), ('notes', 1)]\n",
      "    /us/usc/t42/s12501: [('num', 1), ('heading', 1), ('subsection', 2), ('sourceCredit', 1), ('note', 20)]\n",
      "    /us/usc/t42/s12511: [('num', 1), ('heading', 1), ('chapeau', 1), ('paragraph', 49), ('sourceCredit', 1), ('notes', 1)]\n",
      "    /us/usc/t42/s12572: [('num', 1), ('heading', 1), ('subsection', 11), ('sourceCredit', 1), ('notes', 1)]\n",
      "    /us/usc/t42/s12651: [('num', 1), ('heading', 1), ('content', 1), ('sourceCredit', 1), ('note', 15)]\n",
      "   /us/usc/t42/s12651d: [('num', 1), ('heading', 1), ('subsection', 9), ('sourceCredit', 1), ('notes', 1)]\n",
      "    /us/usc/t42/s15907: [('num', 1), ('heading', 1), ('subsection', 8), ('sourceCredit', 1), ('notes', 1)]\n",
      "    /us/usc/t42/s17231: [('num', 1), ('heading', 1), ('subsection', 17), ('sourceCredit', 1), ('notes', 1)]\n",
      "    /us/usc/t42/s18001: [('num', 1), ('heading', 1), ('subsection', 7), ('sourceCredit', 1), ('note', 12)]\n",
      "    /us/usc/t42/s18031: [('num', 1), ('heading', 1), ('subsection', 11), ('sourceCredit', 1), ('notes', 1)]\n",
      "    /us/usc/t42/s18644: [('num', 1), ('heading', 1), ('subsection', 12), ('sourceCredit', 1), ('notes', 1)]\n",
      "    /us/usc/t42/s18645: [('num', 1), ('heading', 1), ('subsection', 18), ('sourceCredit', 1), ('notes', 1)]\n",
      "    /us/usc/t42/s18741: [('num', 1), ('heading', 1), ('subsection', 6), ('sourceCredit', 1), ('notes', 1)]\n",
      "    /us/usc/t42/s19131: [('num', 1), ('heading', 1), ('chapeau', 1), ('paragraph', 2), ('sourceCredit', 1), ('note', 1), ('heading', 1), ('p', 121), ('signature', 1)]\n",
      "    /us/usc/t42/s19281: [('num', 1), ('heading', 1), ('subsection', 3), ('sourceCredit', 1), ('notes', 1)]\n"
     ]
    }
   ],
   "source": [
    "with output_box(enable=False, height='40em'):\n",
    "    print_with_aligned_keys(breakdown_summaries)"
   ]
  },
  {
   "attachments": {},
   "cell_type": "markdown",
   "metadata": {},
   "source": [
    "### Still to do\n",
    "\n",
    "1. Solve the `<p>` element issue.\n",
    "2. Solve the `<num>` and `<heading>` issue.\n",
    "3. Look for text that is directly in an element whose children we traverse to. Don't lose this text!\n",
    "4. Experiment with semantic search allowing repealed sections to be included or omitted from the search."
   ]
  },
  {
   "cell_type": "code",
   "execution_count": 65,
   "metadata": {},
   "outputs": [],
   "source": [
    "notes_tag = schema_prefix + 'notes'"
   ]
  },
  {
   "cell_type": "code",
   "execution_count": 66,
   "metadata": {},
   "outputs": [
    {
     "data": {
      "text/plain": [
       "7299"
      ]
     },
     "execution_count": 66,
     "metadata": {},
     "output_type": "execute_result"
    }
   ],
   "source": [
    "all_notes = [element for _, element in ET.iterwalk(usc42root, events=('start',), tag=notes_tag)]\n",
    "len(all_notes)"
   ]
  },
  {
   "cell_type": "code",
   "execution_count": 67,
   "metadata": {},
   "outputs": [
    {
     "data": {
      "text/plain": [
       "Counter({'{http://xml.house.gov/schemas/uslm/1.0}section': 7087,\n",
       "         '{http://xml.house.gov/schemas/uslm/1.0}part': 97,\n",
       "         '{http://xml.house.gov/schemas/uslm/1.0}subchapter': 60,\n",
       "         '{http://xml.house.gov/schemas/uslm/1.0}subpart': 37,\n",
       "         '{http://xml.house.gov/schemas/uslm/1.0}chapter': 12,\n",
       "         '{http://xml.house.gov/schemas/uslm/1.0}division': 6})"
      ]
     },
     "execution_count": 67,
     "metadata": {},
     "output_type": "execute_result"
    }
   ],
   "source": [
    "Counter(element.getparent().tag for element in all_notes)"
   ]
  },
  {
   "cell_type": "code",
   "execution_count": 68,
   "metadata": {},
   "outputs": [],
   "source": [
    "big_direct_sections = [\n",
    "    section for section in direct_sections\n",
    "    if usc.count_tokens_xml_clean(section) > embed.CONTEXT_LENGTH\n",
    "]"
   ]
  },
  {
   "cell_type": "code",
   "execution_count": 69,
   "metadata": {},
   "outputs": [
    {
     "data": {
      "text/plain": [
       "356"
      ]
     },
     "execution_count": 69,
     "metadata": {},
     "output_type": "execute_result"
    }
   ],
   "source": [
    "len(big_direct_sections)"
   ]
  },
  {
   "cell_type": "code",
   "execution_count": 70,
   "metadata": {},
   "outputs": [],
   "source": [
    "big_direct_sections_no_notes = copy.deepcopy(big_direct_sections)\n",
    "pruned_notes = []\n",
    "\n",
    "for section in big_direct_sections_no_notes:\n",
    "    for element in section:\n",
    "        if element.tag == notes_tag:\n",
    "            section.remove(element)\n",
    "            pruned_notes.append(element)"
   ]
  },
  {
   "cell_type": "code",
   "execution_count": 71,
   "metadata": {},
   "outputs": [
    {
     "data": {
      "text/plain": [
       "139"
      ]
     },
     "execution_count": 71,
     "metadata": {},
     "output_type": "execute_result"
    }
   ],
   "source": [
    "sum(\n",
    "    1 for section in big_direct_sections_no_notes\n",
    "    if usc.count_tokens_xml_clean(section) > embed.CONTEXT_LENGTH\n",
    ")"
   ]
  },
  {
   "cell_type": "code",
   "execution_count": 72,
   "metadata": {},
   "outputs": [
    {
     "data": {
      "text/plain": [
       "177"
      ]
     },
     "execution_count": 72,
     "metadata": {},
     "output_type": "execute_result"
    }
   ],
   "source": [
    "sum(\n",
    "    1 for notes_element in pruned_notes\n",
    "    if usc.count_tokens_xml_clean(notes_element) > embed.CONTEXT_LENGTH\n",
    ")"
   ]
  },
  {
   "cell_type": "code",
   "execution_count": 73,
   "metadata": {},
   "outputs": [
    {
     "name": "stdout",
     "output_type": "stream",
     "text": [
      "Counter({'/us/usc/t42/s1395ww': 106769,\n",
      "         '/us/usc/t42/s1395w–4': 78519,\n",
      "         '/us/usc/t42/s1396a': 70716,\n",
      "         '/us/usc/t42/s1395l': 65523,\n",
      "         '/us/usc/t42/s1395m': 60549,\n",
      "         '/us/usc/t42/s1395x': 58211,\n",
      "         '/us/usc/t42/s1396b': 50765,\n",
      "         '/us/usc/t42/s6295': 43173,\n",
      "         '/us/usc/t42/s402': 40599,\n",
      "         '/us/usc/t42/s7412': 39573,\n",
      "         '/us/usc/t42/s1786': 35315,\n",
      "         '/us/usc/t42/s7545': 32715,\n",
      "         '/us/usc/t42/s1396r': 32325,\n",
      "         '/us/usc/t42/s1395ss': 32107,\n",
      "         '/us/usc/t42/s1437f': 31864,\n",
      "         '/us/usc/t42/s1395u': 31360,\n",
      "         '/us/usc/t42/s405': 30652,\n",
      "         '/us/usc/t42/s1395w–23': 29404,\n",
      "         '/us/usc/t42/s1383': 28670,\n",
      "         '/us/usc/t42/s1396d': 27860,\n",
      "         '/us/usc/t42/s1396r–8': 26733,\n",
      "         '/us/usc/t42/s1397dd': 25347,\n",
      "         '/us/usc/t42/s1396n': 23985,\n",
      "         '/us/usc/t42/s1395i–3': 23468,\n",
      "         '/us/usc/t42/s1395y': 23010,\n",
      "         '/us/usc/t42/s1758': 22606,\n",
      "         '/us/usc/t42/s1395w–104': 22132,\n",
      "         '/us/usc/t42/s1766': 21580,\n",
      "         '/us/usc/t42/s603': 21153,\n",
      "         '/us/usc/t42/s282': 20901,\n",
      "         '/us/usc/t42/s9604': 19899,\n",
      "         '/us/usc/t42/s415': 18867,\n",
      "         '/us/usc/t42/s1395cc': 18516,\n",
      "         '/us/usc/t42/s1395mm': 17939,\n",
      "         '/us/usc/t42/s1395rr': 17693,\n",
      "         '/us/usc/t42/s1396r–4': 17550,\n",
      "         '/us/usc/t42/s403': 17041,\n",
      "         '/us/usc/t42/s6313': 16762,\n",
      "         '/us/usc/t42/s1395w–22': 16628,\n",
      "         '/us/usc/t42/s6291': 16622,\n",
      "         '/us/usc/t42/s1437d': 16603,\n",
      "         '/us/usc/t42/s671': 16565,\n",
      "         '/us/usc/t42/s300gg–111': 16321,\n",
      "         '/us/usc/t42/s1395f': 16264,\n",
      "         '/us/usc/t42/s1395w–3a': 16067,\n",
      "         '/us/usc/t42/s1397ee': 15647,\n",
      "         '/us/usc/t42/s410': 15567,\n",
      "         '/us/usc/t42/s1395ff': 15230,\n",
      "         '/us/usc/t42/s7651c': 15215,\n",
      "         '/us/usc/t42/s1395yy': 14960,\n",
      "         '/us/usc/t42/s1395w–21': 14763,\n",
      "         '/us/usc/t42/s254b': 14698,\n",
      "         '/us/usc/t42/s233': 14676,\n",
      "         '/us/usc/t42/s9601': 14567,\n",
      "         '/us/usc/t42/s7675': 14456,\n",
      "         '/us/usc/t42/s7521': 14398,\n",
      "         '/us/usc/t42/s1395nn': 14272,\n",
      "         '/us/usc/t42/s666': 14248,\n",
      "         '/us/usc/t42/s9607': 14054,\n",
      "         '/us/usc/t42/s7511a': 13678,\n",
      "         '/us/usc/t42/s1396u–2': 13668,\n",
      "         '/us/usc/t42/s1395w–141': 13568,\n",
      "         '/us/usc/t42/s262': 13519,\n",
      "         '/us/usc/t42/s401': 13244,\n",
      "         '/us/usc/t42/s2210': 13195,\n",
      "         '/us/usc/t42/s653': 13163,\n",
      "         '/us/usc/t42/s1396p': 13070,\n",
      "         '/us/usc/t42/s263b': 12984,\n",
      "         '/us/usc/t42/s6924': 12712,\n",
      "         '/us/usc/t42/s1472': 12708,\n",
      "         '/us/usc/t42/s1761': 12294,\n",
      "         '/us/usc/t42/s300g–1': 12149,\n",
      "         '/us/usc/t42/s8253': 11904,\n",
      "         '/us/usc/t42/s1395w–102': 11885,\n",
      "         '/us/usc/t42/s1437a': 11690,\n",
      "         '/us/usc/t42/s418': 11548,\n",
      "         '/us/usc/t42/s1320a–7a': 11530,\n",
      "         '/us/usc/t42/s9858c': 11524,\n",
      "         '/us/usc/t42/s416': 11523,\n",
      "         '/us/usc/t42/s1485': 11467,\n",
      "         '/us/usc/t42/s423': 11446,\n",
      "         '/us/usc/t42/s300j–12': 11414,\n",
      "         '/us/usc/t42/s8013': 11340,\n",
      "         '/us/usc/t42/s1395w–24': 11180,\n",
      "         '/us/usc/t42/s247d–6b': 11176,\n",
      "         '/us/usc/t42/s1395w–28': 11123,\n",
      "         '/us/usc/t42/s11432': 10802,\n",
      "         '/us/usc/t42/s8011': 10747,\n",
      "         '/us/usc/t42/s300g–3': 10680,\n",
      "         '/us/usc/t42/s658a': 10611,\n",
      "         '/us/usc/t42/s9835': 10518,\n",
      "         '/us/usc/t42/s1395r': 10465,\n",
      "         '/us/usc/t42/s19281': 10398,\n",
      "         '/us/usc/t42/s1396t': 10320,\n",
      "         '/us/usc/t42/s711': 10291,\n",
      "         '/us/usc/t42/s12572': 10274,\n",
      "         '/us/usc/t42/s1308': 10116,\n",
      "         '/us/usc/t42/s1437g': 10033,\n",
      "         '/us/usc/t42/s1759a': 9979,\n",
      "         '/us/usc/t42/s247d–6d': 9978,\n",
      "         '/us/usc/t42/s5106a': 9966,\n",
      "         '/us/usc/t42/s1382': 9736,\n",
      "         '/us/usc/t42/s15907': 9735,\n",
      "         '/us/usc/t42/s1395i': 9653,\n",
      "         '/us/usc/t42/s1103': 9610,\n",
      "         '/us/usc/t42/s503': 9569,\n",
      "         '/us/usc/t42/s1320f–1': 9567,\n",
      "         '/us/usc/t42/s1395eee': 9531,\n",
      "         '/us/usc/t42/s1395w–3': 9498,\n",
      "         '/us/usc/t42/s7410': 9415,\n",
      "         '/us/usc/t42/s7403': 9316,\n",
      "         '/us/usc/t42/s1320e': 9271,\n",
      "         '/us/usc/t42/s3012': 9206,\n",
      "         '/us/usc/t42/s1396u–4': 9166,\n",
      "         '/us/usc/t42/s3002': 9154,\n",
      "         '/us/usc/t42/s9836a': 9125,\n",
      "         '/us/usc/t42/s290aa': 9098,\n",
      "         '/us/usc/t42/s18644': 9066,\n",
      "         '/us/usc/t42/s652': 9013,\n",
      "         '/us/usc/t42/s1586': 8937,\n",
      "         '/us/usc/t42/s300gg–26': 8905,\n",
      "         '/us/usc/t42/s18031': 8892,\n",
      "         '/us/usc/t42/s409': 8826,\n",
      "         '/us/usc/t42/s247d–7e': 8823,\n",
      "         '/us/usc/t42/s609': 8805,\n",
      "         '/us/usc/t42/s1320a–7': 8799,\n",
      "         '/us/usc/t42/s411': 8792,\n",
      "         '/us/usc/t42/s1320b–9a': 8731,\n",
      "         '/us/usc/t42/s1395w–114': 8691,\n",
      "         '/us/usc/t42/s17231': 8674,\n",
      "         '/us/usc/t42/s608': 8668,\n",
      "         '/us/usc/t42/s263a': 8630,\n",
      "         '/us/usc/t42/s1395w–27': 8569,\n",
      "         '/us/usc/t42/s654': 8503,\n",
      "         '/us/usc/t42/s1760': 8473,\n",
      "         '/us/usc/t42/s9622': 8413,\n",
      "         '/us/usc/t42/s2160e': 8403,\n",
      "         '/us/usc/t42/s6991b': 8389,\n",
      "         '/us/usc/t42/s7651d': 8302})\n"
     ]
    }
   ],
   "source": [
    "too_long_without_notes = Counter({\n",
    "    section.attrib['identifier']: count\n",
    "    for section in big_direct_sections_no_notes\n",
    "    if (count := usc.count_tokens_xml_clean(section)) > embed.CONTEXT_LENGTH\n",
    "})\n",
    "\n",
    "pp(too_long_without_notes)"
   ]
  },
  {
   "cell_type": "code",
   "execution_count": 74,
   "metadata": {},
   "outputs": [],
   "source": [
    "# too_long_pruned_notes = Counter({\n",
    "#    'notes in ' + notes_element.getparent().attrib['identifier']: count\n",
    "#    for notes_element in pruned_notes\n",
    "#    if (count := usc.count_tokens_xml_clean(notes_element)) > embed.CONTEXT_LENGTH\n",
    "# })\n",
    "#\n",
    "# pp(too_long_pruned_notes)"
   ]
  },
  {
   "cell_type": "code",
   "execution_count": 75,
   "metadata": {},
   "outputs": [
    {
     "data": {
      "text/plain": [
       "[212559,\n",
       " 210274,\n",
       " 140293,\n",
       " 125228,\n",
       " 115905,\n",
       " 114917,\n",
       " 88486,\n",
       " 79143,\n",
       " 76347,\n",
       " 75712,\n",
       " 73880,\n",
       " 64987,\n",
       " 64786,\n",
       " 59700,\n",
       " 57774,\n",
       " 52409,\n",
       " 49717,\n",
       " 49107,\n",
       " 44490,\n",
       " 42063,\n",
       " 40696,\n",
       " 39807,\n",
       " 39034,\n",
       " 35838,\n",
       " 35783,\n",
       " 35433,\n",
       " 32863,\n",
       " 32273,\n",
       " 32123,\n",
       " 31886,\n",
       " 31292,\n",
       " 30888,\n",
       " 30722,\n",
       " 28962,\n",
       " 28686,\n",
       " 27756,\n",
       " 26890,\n",
       " 26600,\n",
       " 26500,\n",
       " 26264,\n",
       " 26249,\n",
       " 25566,\n",
       " 24379,\n",
       " 23408,\n",
       " 22960,\n",
       " 22754,\n",
       " 22134,\n",
       " 22057,\n",
       " 21874,\n",
       " 21380,\n",
       " 21341,\n",
       " 20973,\n",
       " 20949,\n",
       " 20878,\n",
       " 20761,\n",
       " 20483,\n",
       " 20083,\n",
       " 20077,\n",
       " 20028,\n",
       " 18981,\n",
       " 18565,\n",
       " 18329,\n",
       " 18133,\n",
       " 17554,\n",
       " 17364,\n",
       " 17031,\n",
       " 16970,\n",
       " 16625,\n",
       " 16572,\n",
       " 16449,\n",
       " 16298,\n",
       " 16075,\n",
       " 16012,\n",
       " 15736,\n",
       " 15609,\n",
       " 15516,\n",
       " 15492,\n",
       " 15339,\n",
       " 14643,\n",
       " 14537,\n",
       " 14495,\n",
       " 14393,\n",
       " 14384,\n",
       " 14217,\n",
       " 14088,\n",
       " 13529,\n",
       " 13334,\n",
       " 13140,\n",
       " 13052,\n",
       " 12901,\n",
       " 12783,\n",
       " 12701,\n",
       " 12639,\n",
       " 12584,\n",
       " 12480,\n",
       " 12462,\n",
       " 12430,\n",
       " 12404,\n",
       " 12375,\n",
       " 12355,\n",
       " 12300,\n",
       " 12204,\n",
       " 12199,\n",
       " 12145,\n",
       " 12100,\n",
       " 12078,\n",
       " 12074,\n",
       " 12053,\n",
       " 11915,\n",
       " 11833,\n",
       " 11819,\n",
       " 11811,\n",
       " 11785,\n",
       " 11755,\n",
       " 11727,\n",
       " 11547,\n",
       " 11361,\n",
       " 11348,\n",
       " 11327,\n",
       " 11319,\n",
       " 11191,\n",
       " 11191,\n",
       " 11167,\n",
       " 11145,\n",
       " 11043,\n",
       " 10973,\n",
       " 10968,\n",
       " 10920,\n",
       " 10890,\n",
       " 10883,\n",
       " 10876,\n",
       " 10870,\n",
       " 10853,\n",
       " 10808,\n",
       " 10753,\n",
       " 10692,\n",
       " 10639,\n",
       " 10615,\n",
       " 10513,\n",
       " 10475,\n",
       " 10453,\n",
       " 10302,\n",
       " 10176,\n",
       " 10111,\n",
       " 10081,\n",
       " 10062,\n",
       " 10061,\n",
       " 10053,\n",
       " 9964,\n",
       " 9825,\n",
       " 9807,\n",
       " 9734,\n",
       " 9688,\n",
       " 9673,\n",
       " 9462,\n",
       " 9362,\n",
       " 9331,\n",
       " 9185,\n",
       " 9169,\n",
       " 9086,\n",
       " 8745,\n",
       " 8719,\n",
       " 8606,\n",
       " 8598,\n",
       " 8555,\n",
       " 8549,\n",
       " 8500,\n",
       " 8477,\n",
       " 8471,\n",
       " 8446,\n",
       " 8438,\n",
       " 8418,\n",
       " 8326,\n",
       " 8275,\n",
       " 8238,\n",
       " 8210,\n",
       " 8196]"
      ]
     },
     "execution_count": 75,
     "metadata": {},
     "output_type": "execute_result"
    }
   ],
   "source": [
    "sorted((\n",
    "    count for notes_element in pruned_notes\n",
    "    if (count := usc.count_tokens_xml_clean(notes_element)) > embed.CONTEXT_LENGTH\n",
    "), reverse=True)"
   ]
  },
  {
   "cell_type": "code",
   "execution_count": null,
   "metadata": {},
   "outputs": [],
   "source": []
  }
 ],
 "metadata": {
  "kernelspec": {
   "display_name": "Python 3 (ipykernel)",
   "language": "python",
   "name": "python3"
  },
  "language_info": {
   "codemirror_mode": {
    "name": "ipython",
    "version": 3
   },
   "file_extension": ".py",
   "mimetype": "text/x-python",
   "name": "python",
   "nbconvert_exporter": "python",
   "pygments_lexer": "ipython3",
   "version": "3.11.4"
  }
 },
 "nbformat": 4,
 "nbformat_minor": 2
}
