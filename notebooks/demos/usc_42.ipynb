{
 "cells": [
  {
   "cell_type": "code",
   "execution_count": 1,
   "metadata": {},
   "outputs": [],
   "source": [
    "from collections import Counter\n",
    "import contextlib\n",
    "import copy\n",
    "import itertools\n",
    "import logging\n",
    "from pathlib import Path\n",
    "from pprint import pp\n",
    "import time\n",
    "\n",
    "from IPython.display import display\n",
    "import clock_timer\n",
    "import ipywidgets\n",
    "from lxml import etree as ET\n",
    "\n",
    "import embed\n",
    "from embed.demos import usc"
   ]
  },
  {
   "cell_type": "code",
   "execution_count": 2,
   "metadata": {},
   "outputs": [],
   "source": [
    "def output_box(enable=True, *, height='28em'):\n",
    "    \"\"\"\n",
    "    Context manager to limit output height, giving a vertical scrollbar.\n",
    "\n",
    "    Be aware that boxed output is not typically saved in the .ipynb file.\n",
    "    \"\"\"\n",
    "    if not enable:  # This lets the user easily \"unbox\" and \"rebox\" the cell.\n",
    "        return contextlib.nullcontext()\n",
    "\n",
    "    @contextlib.contextmanager\n",
    "    def using_output_box():\n",
    "        out = ipywidgets.Output(layout=ipywidgets.Layout(height=height))\n",
    "        display(out)\n",
    "        out.clear_output()  # Avoid doubled output.\n",
    "        with out:\n",
    "            yield\n",
    "\n",
    "    return using_output_box()"
   ]
  },
  {
   "cell_type": "code",
   "execution_count": 3,
   "metadata": {},
   "outputs": [],
   "source": [
    "# § 1 - 1j\n",
    "S1 = \"\"\"<section status=\"repealed\" style=\"-uslm-lc:I80\" id=\"idb0fba64f-d970-11ed-a113-e530e1711693\" identifier=\"/us/usc/t42/s1...1j\"><num value=\"1 to 1j\">§§ 1 to 1j.</num><heading> Repealed. <ref href=\"/us/act/1944-07-01/ch373\">July 1, 1944, ch. 373</ref>, title XIII, § 1313, <ref href=\"/us/stat/58/714\">58 Stat. 714</ref></heading><notes type=\"uscNote\" id=\"idb0fba650-d970-11ed-a113-e530e1711693\">\n",
    "<note topic=\"removalDescription\" id=\"idb0fba651-d970-11ed-a113-e530e1711693\">\n",
    "<p style=\"-uslm-lc:I21\" class=\"indent0\">Section 1, acts <ref href=\"/us/act/1902-07-01/ch1370/s1\">July 1, 1902, ch. 1370, § 1</ref>, <ref href=\"/us/stat/32/712\">32 Stat. 712</ref>; <ref href=\"/us/act/1912-08-14/ch288/s1\">Aug. 14, 1912, ch. 288, § 1</ref>, <ref href=\"/us/stat/37/309\">37 Stat. 309</ref>, provided that Public Health and Marine Hospital Service should be known as the Public Health Service. See <ref href=\"/us/usc/t42/s202\">section 202 of this title</ref>.</p>\n",
    "</note>\n",
    "<note topic=\"removalDescription\" id=\"idb0fba652-d970-11ed-a113-e530e1711693\">\n",
    "<p style=\"-uslm-lc:I21\" class=\"indent0\">Section 1a, <ref href=\"/us/act/1943-11-11/ch298/s1\">act Nov. 11, 1943, ch. 298, § 1</ref>, <ref href=\"/us/stat/57/587\">57 Stat. 587</ref>, provided for organization and function of Public Health Service. See <ref href=\"/us/usc/t42/s203\">section 203 of this title</ref>.</p>\n",
    "</note>\n",
    "<note topic=\"removalDescription\" id=\"idb0fba653-d970-11ed-a113-e530e1711693\">\n",
    "<p style=\"-uslm-lc:I21\" class=\"indent0\">Section 1b, <ref href=\"/us/act/1943-11-11/ch298/s2\">act Nov. 11, 1943, ch. 298, § 2</ref>, <ref href=\"/us/stat/57/587\">57 Stat. 587</ref>, provided for appointment of Assistant Surgeons General, their grade, pay, and allowances. See sections 206, 207, and 210 of this title.</p>\n",
    "</note>\n",
    "<note topic=\"removalDescription\" id=\"idb0fba654-d970-11ed-a113-e530e1711693\">\n",
    "<p style=\"-uslm-lc:I21\" class=\"indent0\">Section 1c, <ref href=\"/us/act/1943-11-11/ch298/s3\">act Nov. 11, 1943, ch. 298, § 3</ref>, <ref href=\"/us/stat/57/587\">57 Stat. 587</ref>, provided for chiefs of divisions, their grade, pay and allowances, and creation of a Dental Division and a Sanitary Engineering Division. See sections 206, 207, and 210 of this title.</p>\n",
    "</note>\n",
    "<note topic=\"removalDescription\" id=\"idb0fba655-d970-11ed-a113-e530e1711693\">\n",
    "<p style=\"-uslm-lc:I21\" class=\"indent0\">Section 1d, <ref href=\"/us/act/1943-11-11/ch298/s4\">act Nov. 11, 1943, ch. 298, § 4</ref>, <ref href=\"/us/stat/57/587\">57 Stat. 587</ref>, provided for temporary promotions in regular corps in time of war. See <ref href=\"/us/usc/t42/s211\">section 211 of this title</ref>.</p>\n",
    "</note>\n",
    "<note topic=\"removalDescription\" id=\"idb0fba656-d970-11ed-a113-e530e1711693\">\n",
    "<p style=\"-uslm-lc:I21\" class=\"indent0\">Section 1e, <ref href=\"/us/act/1943-11-11/ch298/s5\">act Nov. 11, 1943, ch. 298, § 5</ref>, <ref href=\"/us/stat/58/588\">58 Stat. 588</ref>, provided for review of record of officers above grade of assistant surgeon and their separation from service. See <ref href=\"/us/usc/t42/s211\">section 211 of this title</ref>.</p>\n",
    "</note>\n",
    "<note topic=\"removalDescription\" id=\"idb0fba657-d970-11ed-a113-e530e1711693\">\n",
    "<p style=\"-uslm-lc:I21\" class=\"indent0\">Section 1f, <ref href=\"/us/act/1943-11-11/ch298/s6\">act Nov. 11, 1943, ch. 298, § 6</ref>, <ref href=\"/us/stat/58/588\">58 Stat. 588</ref>, provided for an acting Surgeon General during absence of Surgeon General and Assistant to Surgeon General. See <ref href=\"/us/usc/t42/s206\">section 206 of this title</ref>.</p>\n",
    "</note>\n",
    "<note topic=\"removalDescription\" id=\"idb0fba658-d970-11ed-a113-e530e1711693\">\n",
    "<p style=\"-uslm-lc:I21\" class=\"indent0\">Section 1g, <ref href=\"/us/act/1943-11-11/ch298/s7\">act Nov. 11, 1943, ch. 298, § 7</ref>, <ref href=\"/us/stat/57/588\">57 Stat. 588</ref>, provided for death and disability benefits of commissioned officers during war and for transfer of Service to military forces. See sections 213 and 217 of this title.</p>\n",
    "</note>\n",
    "<note topic=\"removalDescription\" id=\"idb0fba659-d970-11ed-a113-e530e1711693\">\n",
    "<p style=\"-uslm-lc:I21\" class=\"indent0\">Section 1h, <ref href=\"/us/act/1943-11-11/ch298/s8\">act Nov. 11, 1943, ch. 298, § 8</ref>, <ref href=\"/us/stat/57/589\">57 Stat. 589</ref>, provided for commissioned officers’ benefits as civil officers and employees of United States and election of benefits. See Title 5, Government Organization and Employees.</p>\n",
    "</note>\n",
    "<note topic=\"removalDescription\" id=\"idb0fba65a-d970-11ed-a113-e530e1711693\">\n",
    "<p style=\"-uslm-lc:I21\" class=\"indent0\">Section 1i, <ref href=\"/us/act/1943-11-11/ch298/s9\">act Nov. 11, 1943, ch. 298, § 9</ref>, <ref href=\"/us/stat/57/589\">57 Stat. 589</ref>, provided for beneficiaries’ benefits where commissioned officer lost his life on active duty between <date date=\"1941-12-07\">Dec. 7, 1941</date>, and <date date=\"1943-11-11\">Nov. 11, 1943</date>.</p>\n",
    "</note>\n",
    "<note topic=\"removalDescription\" id=\"idb0fba65b-d970-11ed-a113-e530e1711693\">\n",
    "<p style=\"-uslm-lc:I21\" class=\"indent0\">Section 1j, <ref href=\"/us/act/1943-11-11/ch298/s11\">act Nov. 11, 1943, ch. 298, § 11</ref>, <ref href=\"/us/stat/57/589\">57 Stat. 589</ref>, provided for transfer of appropriations to continue transferred functions. See note set out under <ref href=\"/us/usc/t42/s201\">section 201 of this title</ref>.</p>\n",
    "</note>\n",
    "<note style=\"-uslm-lc:I74\" role=\"crossHeading\" topic=\"statutoryNotes\" id=\"idb0fba65c-d970-11ed-a113-e530e1711693\"><heading class=\"centered\"><b>Statutory Notes and Related Subsidiaries</b></heading></note>\n",
    "<note style=\"-uslm-lc:I74\" topic=\"miscellaneous\" id=\"idb0fba65d-d970-11ed-a113-e530e1711693\"><heading class=\"centered smallCaps\">Renumbering and Repeal of Repealing Act</heading><p style=\"-uslm-lc:I21\" class=\"indent0\">Title XIII, § 1313, formerly title VI, § 611, of act <date date=\"1944-07-01\">July 1, 1944</date>, which repealed these sections, was renumbered title VII, § 711, by <ref href=\"/us/act/1946-08-13/ch958/s5\">act Aug. 13, 1946, ch. 958, § 5</ref>, <ref href=\"/us/stat/60/1049\">60 Stat. 1049</ref>; § 713, by <ref href=\"/us/act/1948-02-28/ch83/s9/b\">act Feb. 28, 1948, ch. 83, § 9(b)</ref>, <ref href=\"/us/stat/62/47\">62 Stat. 47</ref>; title VIII, § 813, by <ref href=\"/us/act/1956-07-30/ch779/s3/b\">act July 30, 1956, ch. 779, § 3(b)</ref>, <ref href=\"/us/stat/70/721\">70 Stat. 721</ref>; title IX, § 913, by <ref href=\"/us/pl/88/581/s4/b\">Pub. L. 88–581, § 4(b)</ref>, <date date=\"1964-09-04\">Sept. 4, 1964</date>, <ref href=\"/us/stat/78/919\">78 Stat. 919</ref>; title X, § 1013, by <ref href=\"/us/pl/89/239/s3/b\">Pub. L. 89–239, § 3(b)</ref>, <date date=\"1965-10-06\">Oct. 6, 1965</date>, <ref href=\"/us/stat/79/931\">79 Stat. 931</ref>; title XI, § 1113, by <ref href=\"/us/pl/91/572/s6/b\">Pub. L. 91–572, § 6(b)</ref>, <date date=\"1970-12-24\">Dec. 24, 1970</date>, <ref href=\"/us/stat/84/1506\">84 Stat. 1506</ref>; title XII, § 1213, by <ref href=\"/us/pl/92/294/s3/b\">Pub. L. 92–294, § 3(b)</ref>, <date date=\"1972-05-16\">May 16, 1972</date>, <ref href=\"/us/stat/86/137\">86 Stat. 137</ref>; title XIII, § 1313, by <ref href=\"/us/pl/93/154/s2/b/2\">Pub. L. 93–154, § 2(b)(2)</ref>, <date date=\"1973-11-16\">Nov. 16, 1973</date>, <ref href=\"/us/stat/87/604\">87 Stat. 604</ref>, and was repealed by <ref href=\"/us/pl/93/222/s7/b\">Pub. L. 93–222, § 7(b)</ref>, <date date=\"1973-12-29\">Dec. 29, 1973</date>, <ref href=\"/us/stat/87/936\">87 Stat. 936</ref>.</p>\n",
    "</note>\n",
    "</notes>\n",
    "</section>\"\"\""
   ]
  },
  {
   "cell_type": "code",
   "execution_count": 4,
   "metadata": {},
   "outputs": [
    {
     "data": {
      "text/plain": [
       "2817"
      ]
     },
     "execution_count": 4,
     "metadata": {},
     "output_type": "execute_result"
    }
   ],
   "source": [
    "embed.count_tokens(S1)"
   ]
  },
  {
   "cell_type": "code",
   "execution_count": 5,
   "metadata": {},
   "outputs": [],
   "source": [
    "data_dir = Path('../../data/')\n",
    "usc.extract_usc(data_dir)\n",
    "usc42 = data_dir / usc.USC_STEM / 'usc42.xml'"
   ]
  },
  {
   "cell_type": "code",
   "execution_count": 6,
   "metadata": {},
   "outputs": [],
   "source": [
    "usc42textorig = usc42.read_text(encoding='utf-8')"
   ]
  },
  {
   "cell_type": "code",
   "execution_count": 7,
   "metadata": {},
   "outputs": [],
   "source": [
    "# embed.count_tokens(usc42textorig)"
   ]
  },
  {
   "cell_type": "code",
   "execution_count": 8,
   "metadata": {},
   "outputs": [],
   "source": [
    "usc42tree = ET.parse(usc42)"
   ]
  },
  {
   "cell_type": "code",
   "execution_count": 9,
   "metadata": {},
   "outputs": [],
   "source": [
    "usc42root = usc42tree.getroot()"
   ]
  },
  {
   "cell_type": "code",
   "execution_count": 10,
   "metadata": {},
   "outputs": [],
   "source": [
    "usc42text = ET.tostring(usc42root, encoding='unicode')"
   ]
  },
  {
   "cell_type": "code",
   "execution_count": 11,
   "metadata": {},
   "outputs": [
    {
     "data": {
      "text/plain": [
       "8761"
      ]
     },
     "execution_count": 11,
     "metadata": {},
     "output_type": "execute_result"
    }
   ],
   "source": [
    "usc42text.count('<section')"
   ]
  },
  {
   "cell_type": "code",
   "execution_count": 12,
   "metadata": {},
   "outputs": [
    {
     "data": {
      "text/plain": [
       "8761"
      ]
     },
     "execution_count": 12,
     "metadata": {},
     "output_type": "execute_result"
    }
   ],
   "source": [
    "usc42textorig.count('<section')"
   ]
  },
  {
   "cell_type": "code",
   "execution_count": 13,
   "metadata": {},
   "outputs": [
    {
     "data": {
      "text/plain": [
       "704"
      ]
     },
     "execution_count": 13,
     "metadata": {},
     "output_type": "execute_result"
    }
   ],
   "source": [
    "usc42textorig.count('status=\"repealed\"')"
   ]
  },
  {
   "cell_type": "code",
   "execution_count": 14,
   "metadata": {},
   "outputs": [
    {
     "data": {
      "text/plain": [
       "{None: 'http://xml.house.gov/schemas/uslm/1.0',\n",
       " 'xsi': 'http://www.w3.org/2001/XMLSchema-instance',\n",
       " 'dc': 'http://purl.org/dc/elements/1.1/',\n",
       " 'dcterms': 'http://purl.org/dc/terms/'}"
      ]
     },
     "execution_count": 14,
     "metadata": {},
     "output_type": "execute_result"
    }
   ],
   "source": [
    "usc42root.nsmap"
   ]
  },
  {
   "cell_type": "code",
   "execution_count": 15,
   "metadata": {},
   "outputs": [],
   "source": [
    "schema_prefix = f'{{{usc42root.nsmap[None]}}}'\n",
    "section_tag = schema_prefix + 'section'\n",
    "sections = usc42tree.findall(f'.//{section_tag}')"
   ]
  },
  {
   "cell_type": "code",
   "execution_count": 16,
   "metadata": {},
   "outputs": [
    {
     "data": {
      "text/plain": [
       "8761"
      ]
     },
     "execution_count": 16,
     "metadata": {},
     "output_type": "execute_result"
    }
   ],
   "source": [
    "len(sections)"
   ]
  },
  {
   "cell_type": "code",
   "execution_count": 17,
   "metadata": {},
   "outputs": [],
   "source": [
    "# sum(\n",
    "#     1 for section in sections\n",
    "#     if usc.count_tokens_xml(section) > embed.CONTEXT_LENGTH\n",
    "# )"
   ]
  },
  {
   "cell_type": "code",
   "execution_count": 18,
   "metadata": {},
   "outputs": [
    {
     "data": {
      "text/plain": [
       "699"
      ]
     },
     "execution_count": 18,
     "metadata": {},
     "output_type": "execute_result"
    }
   ],
   "source": [
    "sum(1 for section in sections if usc.is_repealed(section))"
   ]
  },
  {
   "cell_type": "code",
   "execution_count": 19,
   "metadata": {},
   "outputs": [
    {
     "data": {
      "text/plain": [
       "704"
      ]
     },
     "execution_count": 19,
     "metadata": {},
     "output_type": "execute_result"
    }
   ],
   "source": [
    "sum(1 for element in usc42tree.iter() if usc.is_repealed(element))"
   ]
  },
  {
   "cell_type": "code",
   "execution_count": 20,
   "metadata": {},
   "outputs": [],
   "source": [
    "repealed_sections = {section for section in sections if usc.is_repealed(section)}"
   ]
  },
  {
   "cell_type": "code",
   "execution_count": 21,
   "metadata": {},
   "outputs": [],
   "source": [
    "repealed_elements = {element for element in usc42tree.iter() if usc.is_repealed(element)}"
   ]
  },
  {
   "cell_type": "code",
   "execution_count": 22,
   "metadata": {},
   "outputs": [
    {
     "data": {
      "text/plain": [
       "True"
      ]
     },
     "execution_count": 22,
     "metadata": {},
     "output_type": "execute_result"
    }
   ],
   "source": [
    "repealed_sections.issubset(repealed_elements)"
   ]
  },
  {
   "cell_type": "code",
   "execution_count": 23,
   "metadata": {},
   "outputs": [
    {
     "data": {
      "text/plain": [
       "5"
      ]
     },
     "execution_count": 23,
     "metadata": {},
     "output_type": "execute_result"
    }
   ],
   "source": [
    "repealed_non_sections = repealed_elements - repealed_sections\n",
    "len(repealed_non_sections)"
   ]
  },
  {
   "cell_type": "code",
   "execution_count": 24,
   "metadata": {},
   "outputs": [
    {
     "data": {
      "text/plain": [
       "{<Element {http://xml.house.gov/schemas/uslm/1.0}subsection at 0x7f228431e040>,\n",
       " <Element {http://xml.house.gov/schemas/uslm/1.0}subsection at 0x7f228431e3c0>,\n",
       " <Element {http://xml.house.gov/schemas/uslm/1.0}subsection at 0x7f228431e440>,\n",
       " <Element {http://xml.house.gov/schemas/uslm/1.0}subsection at 0x7f22851733c0>,\n",
       " <Element {http://xml.house.gov/schemas/uslm/1.0}subsection at 0x7f22c686ffc0>}"
      ]
     },
     "execution_count": 24,
     "metadata": {},
     "output_type": "execute_result"
    }
   ],
   "source": [
    "repealed_non_sections"
   ]
  },
  {
   "cell_type": "code",
   "execution_count": 25,
   "metadata": {},
   "outputs": [
    {
     "name": "stdout",
     "output_type": "stream",
     "text": [
      "<subsection xmlns=\"http://xml.house.gov/schemas/uslm/1.0\" xmlns:xsi=\"http://www.w3.org/2001/XMLSchema-instance\" xmlns:dc=\"http://purl.org/dc/elements/1.1/\" xmlns:dcterms=\"http://purl.org/dc/terms/\" style=\"-uslm-lc:I21\" class=\"indent0\" status=\"repealed\"><num value=\"b\">“[(b)</num><content> Repealed. <ref href=\"/us/pl/116/159/dA/s156/d/1\">Pub. L. 116–159, div. A, § 156(d)(1)</ref>, <date date=\"2020-10-01\">Oct. 1, 2020</date>, <ref href=\"/us/stat/134/721\">134 Stat. 721</ref>.]</content>\n",
      "</subsection>\n",
      "\n"
     ]
    }
   ],
   "source": [
    "print(ET.tostring(next(iter(repealed_non_sections)), encoding='unicode'))"
   ]
  },
  {
   "cell_type": "code",
   "execution_count": 26,
   "metadata": {},
   "outputs": [],
   "source": [
    "cleaned_copied = [usc.serialize_xml_clean(section) for section in sections]"
   ]
  },
  {
   "cell_type": "code",
   "execution_count": 27,
   "metadata": {},
   "outputs": [],
   "source": [
    "too_long_counts = [\n",
    "    count for section in sections\n",
    "    if (count := usc.count_tokens_xml_clean(section)) > embed.CONTEXT_LENGTH\n",
    "]"
   ]
  },
  {
   "cell_type": "code",
   "execution_count": 28,
   "metadata": {},
   "outputs": [
    {
     "data": {
      "text/plain": [
       "356"
      ]
     },
     "execution_count": 28,
     "metadata": {},
     "output_type": "execute_result"
    }
   ],
   "source": [
    "len(too_long_counts)"
   ]
  },
  {
   "cell_type": "code",
   "execution_count": 29,
   "metadata": {},
   "outputs": [
    {
     "data": {
      "application/vnd.jupyter.widget-view+json": {
       "model_id": "47078f0b9f214610a9d46c1d22ad1c4e",
       "version_major": 2,
       "version_minor": 0
      },
      "text/plain": [
       "Output(layout=Layout(height='28em'))"
      ]
     },
     "metadata": {},
     "output_type": "display_data"
    }
   ],
   "source": [
    "with output_box():\n",
    "    display(sorted(too_long_counts))"
   ]
  },
  {
   "cell_type": "code",
   "execution_count": 30,
   "metadata": {},
   "outputs": [
    {
     "data": {
      "application/vnd.jupyter.widget-view+json": {
       "model_id": "cff7755226fe430f9ffd829c21c6197b",
       "version_major": 2,
       "version_minor": 0
      },
      "text/plain": [
       "Output(layout=Layout(height='28em'))"
      ]
     },
     "metadata": {},
     "output_type": "display_data"
    }
   ],
   "source": [
    "too_long = Counter({\n",
    "    section.attrib['identifier']: count\n",
    "    for section in sections\n",
    "    if (count := usc.count_tokens_xml_clean(section)) > embed.CONTEXT_LENGTH\n",
    "})\n",
    "\n",
    "with output_box():\n",
    "    display(pp(too_long))"
   ]
  },
  {
   "cell_type": "code",
   "execution_count": 31,
   "metadata": {},
   "outputs": [
    {
     "data": {
      "text/plain": [
       "<Element {http://xml.house.gov/schemas/uslm/1.0}section at 0x7f22842ed440>"
      ]
     },
     "execution_count": 31,
     "metadata": {},
     "output_type": "execute_result"
    }
   ],
   "source": [
    "section1396a = usc42tree.find(f\".//{section_tag}[@identifier = '/us/usc/t42/s1396a']\")\n",
    "section1396a"
   ]
  },
  {
   "cell_type": "code",
   "execution_count": 32,
   "metadata": {},
   "outputs": [
    {
     "data": {
      "text/plain": [
       "239778"
      ]
     },
     "execution_count": 32,
     "metadata": {},
     "output_type": "execute_result"
    }
   ],
   "source": [
    "usc.count_tokens_xml_clean(section1396a)"
   ]
  },
  {
   "cell_type": "code",
   "execution_count": 33,
   "metadata": {},
   "outputs": [
    {
     "data": {
      "application/vnd.jupyter.widget-view+json": {
       "model_id": "079a2271098e4da0aa6bc8d4068fa9ab",
       "version_major": 2,
       "version_minor": 0
      },
      "text/plain": [
       "Output(layout=Layout(height='28em'))"
      ]
     },
     "metadata": {},
     "output_type": "display_data"
    }
   ],
   "source": [
    "with output_box():\n",
    "    display(list(section1396a))"
   ]
  },
  {
   "cell_type": "code",
   "execution_count": 34,
   "metadata": {},
   "outputs": [
    {
     "data": {
      "text/plain": [
       "[<Element {http://xml.house.gov/schemas/uslm/1.0}meta at 0x7f228450c1c0>,\n",
       " <Element {http://xml.house.gov/schemas/uslm/1.0}main at 0x7f228450f0c0>]"
      ]
     },
     "execution_count": 34,
     "metadata": {},
     "output_type": "execute_result"
    }
   ],
   "source": [
    "list(usc42root)"
   ]
  },
  {
   "cell_type": "code",
   "execution_count": 35,
   "metadata": {},
   "outputs": [
    {
     "data": {
      "text/plain": [
       "'{http://xml.house.gov/schemas/uslm/1.0}section'"
      ]
     },
     "execution_count": 35,
     "metadata": {},
     "output_type": "execute_result"
    }
   ],
   "source": [
    "section1396a.tag"
   ]
  },
  {
   "cell_type": "code",
   "execution_count": 36,
   "metadata": {},
   "outputs": [
    {
     "data": {
      "text/plain": [
       "{'{http://xml.house.gov/schemas/uslm/1.0}heading',\n",
       " '{http://xml.house.gov/schemas/uslm/1.0}notes',\n",
       " '{http://xml.house.gov/schemas/uslm/1.0}num',\n",
       " '{http://xml.house.gov/schemas/uslm/1.0}sourceCredit',\n",
       " '{http://xml.house.gov/schemas/uslm/1.0}subsection'}"
      ]
     },
     "execution_count": 36,
     "metadata": {},
     "output_type": "execute_result"
    }
   ],
   "source": [
    "{child.tag for child in section1396a}"
   ]
  },
  {
   "cell_type": "code",
   "execution_count": 37,
   "metadata": {},
   "outputs": [
    {
     "data": {
      "text/plain": [
       "{'{http://xml.house.gov/schemas/uslm/1.0}chapeau',\n",
       " '{http://xml.house.gov/schemas/uslm/1.0}clause',\n",
       " '{http://xml.house.gov/schemas/uslm/1.0}content',\n",
       " '{http://xml.house.gov/schemas/uslm/1.0}continuation',\n",
       " '{http://xml.house.gov/schemas/uslm/1.0}heading',\n",
       " '{http://xml.house.gov/schemas/uslm/1.0}level',\n",
       " '{http://xml.house.gov/schemas/uslm/1.0}note',\n",
       " '{http://xml.house.gov/schemas/uslm/1.0}notes',\n",
       " '{http://xml.house.gov/schemas/uslm/1.0}num',\n",
       " '{http://xml.house.gov/schemas/uslm/1.0}paragraph',\n",
       " '{http://xml.house.gov/schemas/uslm/1.0}sourceCredit',\n",
       " '{http://xml.house.gov/schemas/uslm/1.0}subparagraph',\n",
       " '{http://xml.house.gov/schemas/uslm/1.0}subsection'}"
      ]
     },
     "execution_count": 37,
     "metadata": {},
     "output_type": "execute_result"
    }
   ],
   "source": [
    "unique_tags = {child.tag for section in sections for child in section}\n",
    "unique_tags"
   ]
  },
  {
   "cell_type": "code",
   "execution_count": 38,
   "metadata": {},
   "outputs": [
    {
     "data": {
      "application/vnd.jupyter.widget-view+json": {
       "model_id": "9a48d57d7a8444d68b5974dc42ee64f3",
       "version_major": 2,
       "version_minor": 0
      },
      "text/plain": [
       "Output(layout=Layout(height='28em'))"
      ]
     },
     "metadata": {},
     "output_type": "display_data"
    }
   ],
   "source": [
    "direct_subparagraphs = [\n",
    "    child.get('identifier')\n",
    "    for section in sections\n",
    "    for child in section\n",
    "    if child.tag.endswith('}subparagraph')\n",
    "]\n",
    "\n",
    "with output_box():\n",
    "    display(direct_subparagraphs)"
   ]
  },
  {
   "cell_type": "code",
   "execution_count": 39,
   "metadata": {},
   "outputs": [
    {
     "data": {
      "text/plain": [
       "38"
      ]
     },
     "execution_count": 39,
     "metadata": {},
     "output_type": "execute_result"
    }
   ],
   "source": [
    "len(direct_subparagraphs)"
   ]
  },
  {
   "cell_type": "code",
   "execution_count": 40,
   "metadata": {},
   "outputs": [
    {
     "data": {
      "application/vnd.jupyter.widget-view+json": {
       "model_id": "2cf4495d74174aa0abf8f7c8d978e4ae",
       "version_major": 2,
       "version_minor": 0
      },
      "text/plain": [
       "Output(layout=Layout(height='28em'))"
      ]
     },
     "metadata": {},
     "output_type": "display_data"
    }
   ],
   "source": [
    "no_id = [section for section in sections if section.get('identifier') is None]\n",
    "\n",
    "with output_box():\n",
    "    display(no_id)"
   ]
  },
  {
   "cell_type": "code",
   "execution_count": 41,
   "metadata": {},
   "outputs": [
    {
     "data": {
      "text/plain": [
       "1005"
      ]
     },
     "execution_count": 41,
     "metadata": {},
     "output_type": "execute_result"
    }
   ],
   "source": [
    "usc.count_tokens_xml(no_id[0])"
   ]
  },
  {
   "cell_type": "code",
   "execution_count": 42,
   "metadata": {},
   "outputs": [
    {
     "name": "stdout",
     "output_type": "stream",
     "text": [
      "<section xmlns=\"http://xml.house.gov/schemas/uslm/1.0\" xmlns:xsi=\"http://www.w3.org/2001/XMLSchema-instance\"\n",
      "xmlns:dc=\"http://purl.org/dc/elements/1.1/\" xmlns:dcterms=\"http://purl.org/dc/terms/\" style=\"-uslm-lc:I00\" class=\"inline\"><num\n",
      "value=\"\"/><chapeau>“In the case of any individual—</chapeau><subparagraph style=\"-uslm-lc:I22\" class=\"indent1\"><num\n",
      "value=\"A\">“(A)</num><content> who performed active service (i) as a commissioned officer of the Public Health Service at any time during the\n",
      "period beginning <date date=\"1952-07-04\">July 4, 1952</date>, and ending <date date=\"1956-12-31\">December 31, 1956</date>, or (ii) as a\n",
      "commissioned officer of the Coast and Geodetic Survey at any time during the period beginning <date date=\"1945-07-29\">July 29, 1945</date>,\n",
      "and ending <date date=\"1956-12-31\">December 31, 1956</date>; and</content> </subparagraph> <subparagraph style=\"-uslm-lc:I22\"\n",
      "class=\"indent1\"><num value=\"B\">“(B)</num><clause style=\"-uslm-lc:I22\" class=\"indent1\"><num value=\"i\">(i)</num><content> who became entitled\n",
      "to old-age insurance benefits under section 202(a) of the Social Security Act [<ref href=\"/us/usc/t42/s402/a\">42 U.S.C. 402(a)</ref>] prior\n",
      "to <date date=\"1957-01-01\">January 1, 1957</date>, or</content> </clause> <clause style=\"-uslm-lc:I22\" class=\"indent1\"><num\n",
      "value=\"ii\">“(ii)</num><content> who died prior to <date date=\"1957-01-01\">January 1, 1957</date>, and whose widow, child, or parent is\n",
      "entitled for the month of January 1957, on the basis of his wages and self-employment income, to a monthly survivor’s benefit under section\n",
      "202 of such act [<ref href=\"/us/usc/t42/s402\">42 U.S.C. 402</ref>]; and</content> </clause> </subparagraph> <subparagraph style=\"-uslm-\n",
      "lc:I22\" class=\"indent1\"><num value=\"C\">“(C)</num><content> any part of whose service described in subparagraph (A) was not included in the\n",
      "computation of his primary insurance amount under section 215 of such act [<ref href=\"/us/usc/t42/s415\">42 U.S.C. 415</ref>] but would have\n",
      "been included in such computation if the amendment made by paragraph (1) of this subsection or paragraph (1) of subsection (d) had been\n",
      "effective prior to the date of such computation,</content> </subparagraph>  <continuation style=\"-uslm-lc:I33\" class=\"indent0\n",
      "firstIndent0\">the Secretary of Health, Education, and Welfare [now Health and Human Services] shall, notwithstanding the provisions of\n",
      "section 215(f)(1) of the Social Security Act [<ref href=\"/us/usc/t42/s415/f/1\">42 U.S.C. 415(f)(1)</ref>], recompute the primary insurance\n",
      "amount of such individual upon the filing of an application, after December 1956, by him or (if he dies without filing such an application)\n",
      "by any person entitled to monthly survivor’s benefits under section 202 of such act [<ref href=\"/us/usc/t42/s402\">42 U.S.C. 402</ref>] on\n",
      "the basis of his wages and self-employment income. Such recomputation shall be made only in the manner, provided in title II of the Social\n",
      "Security Act [<ref href=\"/us/usc/t42/s401\">42 U.S.C. 401</ref> et seq.] as in effect at the time of the last previous computation or\n",
      "recomputation of such individual’s primary insurance amount, and as though application therefor was filed in the month in which application\n",
      "for such last previous computation or recomputation was filed. No recomputation made under this paragraph shall be regarded as a\n",
      "recomputation under section 215(f) of the Social Security Act [<ref href=\"/us/usc/t42/s415/f\">42 U.S.C. 415(f)</ref>]. Any such\n",
      "recomputation shall be effective for and after the twelfth month before the month in which the application was filed, but in no case for any\n",
      "month before January 1957.”</continuation> </section>\n"
     ]
    }
   ],
   "source": [
    "usc.show_wrapped(no_id[0])"
   ]
  },
  {
   "cell_type": "code",
   "execution_count": 43,
   "metadata": {},
   "outputs": [
    {
     "name": "stdout",
     "output_type": "stream",
     "text": [
      "<section xmlns=\"http://xml.house.gov/schemas/uslm/1.0\" xmlns:xsi=\"http://www.w3.org/2001/XMLSchema-instance\"\n",
      "xmlns:dc=\"http://purl.org/dc/elements/1.1/\" xmlns:dcterms=\"http://purl.org/dc/terms/\" style=\"-uslm-lc:I580467\"><num value=\"5\">“SEC.\n",
      "5.</num><heading> AUTHORIZATION OF APPROPRIATIONS.</heading><chapeau style=\"-uslm-lc:I21\" class=\"indent0\">“There are authorized to be\n",
      "appropriated—</chapeau><paragraph style=\"-uslm-lc:I22\" class=\"indent1\"><num value=\"1\">“(1)</num><content> for grants, contracts, or\n",
      "cooperative agreements under section 3(a), such sums as may be necessary for fiscal year 2017 and each of the 4 succeeding fiscal\n",
      "years;</content> </paragraph> <paragraph style=\"-uslm-lc:I22\" class=\"indent1\"><num value=\"2\">“(2)</num><content> for grants, contracts, or\n",
      "cooperative agreements under section 3(b), such sums as may be necessary for fiscal year 2017 and each of the 4 succeeding fiscal years;\n",
      "and</content> </paragraph> <paragraph style=\"-uslm-lc:I22\" class=\"indent1\"><num value=\"3\">“(3)</num><content> for grants, contracts, or\n",
      "cooperative agreements under section 3(c), such sums as may be necessary for fiscal year 2017 and each of the 4 succeeding fiscal\n",
      "years.”</content> </paragraph> </section>\n"
     ]
    }
   ],
   "source": [
    "usc.show_wrapped(no_id[-1])"
   ]
  },
  {
   "cell_type": "code",
   "execution_count": 44,
   "metadata": {},
   "outputs": [],
   "source": [
    "# This fails with:\n",
    "#     SyntaxError: prefix 'ancestor' not found in prefix map\n",
    "\n",
    "# direct_sections = usc42root.findall(f'{schema_prefix}title//{section_tag}[not(ancestor::{section_tag})]')"
   ]
  },
  {
   "cell_type": "code",
   "execution_count": 45,
   "metadata": {},
   "outputs": [
    {
     "data": {
      "application/vnd.jupyter.widget-view+json": {
       "model_id": "afda6a9dd1b14ea6b66318ec76a31cb4",
       "version_major": 2,
       "version_minor": 0
      },
      "text/plain": [
       "Output(layout=Layout(height='28em'))"
      ]
     },
     "metadata": {},
     "output_type": "display_data"
    }
   ],
   "source": [
    "with output_box():\n",
    "    treeit = ET.iterwalk(usc42root, events=('start',), tag=section_tag)\n",
    "    for event, element in treeit: \n",
    "        print(element)"
   ]
  },
  {
   "cell_type": "code",
   "execution_count": 46,
   "metadata": {},
   "outputs": [
    {
     "data": {
      "text/plain": [
       "8761"
      ]
     },
     "execution_count": 46,
     "metadata": {},
     "output_type": "execute_result"
    }
   ],
   "source": [
    "sum(1 for _ in ET.iterwalk(usc42root, events=('start',), tag=section_tag))  "
   ]
  },
  {
   "cell_type": "code",
   "execution_count": 47,
   "metadata": {},
   "outputs": [],
   "source": [
    "def get_direct_sections(root):\n",
    "    selection = []\n",
    "    iterator = ET.iterwalk(root, events=('start',), tag=section_tag)\n",
    "    for _, element in iterator:\n",
    "        iterator.skip_subtree()\n",
    "        selection.append(element)\n",
    "    return selection\n",
    "\n",
    "direct_sections = get_direct_sections(usc42root)"
   ]
  },
  {
   "cell_type": "code",
   "execution_count": 48,
   "metadata": {},
   "outputs": [
    {
     "data": {
      "application/vnd.jupyter.widget-view+json": {
       "model_id": "a3356ef5512749aaa49202c99726548e",
       "version_major": 2,
       "version_minor": 0
      },
      "text/plain": [
       "Output(layout=Layout(height='28em'))"
      ]
     },
     "metadata": {},
     "output_type": "display_data"
    }
   ],
   "source": [
    "with output_box():\n",
    "    display(direct_sections)"
   ]
  },
  {
   "cell_type": "code",
   "execution_count": 49,
   "metadata": {},
   "outputs": [
    {
     "data": {
      "text/plain": [
       "8385"
      ]
     },
     "execution_count": 49,
     "metadata": {},
     "output_type": "execute_result"
    }
   ],
   "source": [
    "len(direct_sections)"
   ]
  },
  {
   "cell_type": "code",
   "execution_count": 50,
   "metadata": {},
   "outputs": [
    {
     "data": {
      "text/plain": [
       "[]"
      ]
     },
     "execution_count": 50,
     "metadata": {},
     "output_type": "execute_result"
    }
   ],
   "source": [
    "[section for section in direct_sections if section.get('identifier') is None]"
   ]
  },
  {
   "cell_type": "code",
   "execution_count": 51,
   "metadata": {},
   "outputs": [],
   "source": [
    "too_long_counts_direct = [\n",
    "    count for section in direct_sections\n",
    "    if (count := usc.count_tokens_xml_clean(section)) > embed.CONTEXT_LENGTH\n",
    "]"
   ]
  },
  {
   "cell_type": "code",
   "execution_count": 52,
   "metadata": {},
   "outputs": [
    {
     "data": {
      "text/plain": [
       "356"
      ]
     },
     "execution_count": 52,
     "metadata": {},
     "output_type": "execute_result"
    }
   ],
   "source": [
    "len(too_long_counts_direct)"
   ]
  },
  {
   "cell_type": "code",
   "execution_count": 53,
   "metadata": {},
   "outputs": [],
   "source": [
    "# with output_box():\n",
    "#     display(sorted(too_long_counts_direct))"
   ]
  },
  {
   "cell_type": "code",
   "execution_count": 54,
   "metadata": {},
   "outputs": [
    {
     "name": "stdout",
     "output_type": "stream",
     "text": [
      "Total time elapsed: 17.801658s\n"
     ]
    }
   ],
   "source": [
    "with clock_timer.ClockLogger() as timer:\n",
    "    direct_section_token_counts = [\n",
    "        usc.count_tokens_xml_clean(section) for section in direct_sections\n",
    "    ]"
   ]
  },
  {
   "cell_type": "code",
   "execution_count": 55,
   "metadata": {},
   "outputs": [],
   "source": [
    "# We might try to embed it this way (one embedding per row element).\n",
    "breakdowns = [usc.get_embeddable_elements(section) for section in direct_sections]"
   ]
  },
  {
   "cell_type": "code",
   "execution_count": 56,
   "metadata": {},
   "outputs": [
    {
     "data": {
      "text/plain": [
       "8385"
      ]
     },
     "execution_count": 56,
     "metadata": {},
     "output_type": "execute_result"
    }
   ],
   "source": [
    "len(breakdowns)  # Same as number of direct sections."
   ]
  },
  {
   "cell_type": "code",
   "execution_count": 57,
   "metadata": {},
   "outputs": [
    {
     "data": {
      "text/plain": [
       "True"
      ]
     },
     "execution_count": 57,
     "metadata": {},
     "output_type": "execute_result"
    }
   ],
   "source": [
    "all(row for row in breakdowns)  # No rows should be empty."
   ]
  },
  {
   "cell_type": "code",
   "execution_count": 58,
   "metadata": {},
   "outputs": [
    {
     "data": {
      "text/plain": [
       "356"
      ]
     },
     "execution_count": 58,
     "metadata": {},
     "output_type": "execute_result"
    }
   ],
   "source": [
    "# Same as number of too-long direct sections.\n",
    "sum(1 for row in breakdowns if len(row) > 1)"
   ]
  },
  {
   "cell_type": "code",
   "execution_count": 59,
   "metadata": {},
   "outputs": [
    {
     "data": {
      "text/plain": [
       "Counter({'{http://xml.house.gov/schemas/uslm/1.0}p': 11567,\n",
       "         '{http://xml.house.gov/schemas/uslm/1.0}section': 8092,\n",
       "         '{http://xml.house.gov/schemas/uslm/1.0}note': 4341,\n",
       "         '{http://xml.house.gov/schemas/uslm/1.0}subsection': 3375,\n",
       "         '{http://xml.house.gov/schemas/uslm/1.0}paragraph': 762,\n",
       "         '{http://xml.house.gov/schemas/uslm/1.0}heading': 442,\n",
       "         '{http://xml.house.gov/schemas/uslm/1.0}num': 392,\n",
       "         '{http://xml.house.gov/schemas/uslm/1.0}sourceCredit': 356,\n",
       "         '{http://xml.house.gov/schemas/uslm/1.0}notes': 212,\n",
       "         '{http://xml.house.gov/schemas/uslm/1.0}ref': 97,\n",
       "         '{http://xml.house.gov/schemas/uslm/1.0}subparagraph': 64,\n",
       "         '{http://xml.house.gov/schemas/uslm/1.0}date': 48,\n",
       "         '{http://xml.house.gov/schemas/uslm/1.0}chapeau': 28,\n",
       "         '{http://xml.house.gov/schemas/uslm/1.0}content': 10,\n",
       "         '{http://xml.house.gov/schemas/uslm/1.0}continuation': 7,\n",
       "         '{http://xml.house.gov/schemas/uslm/1.0}signature': 2,\n",
       "         '{http://xml.house.gov/schemas/uslm/1.0}subtitle': 1})"
      ]
     },
     "execution_count": 59,
     "metadata": {},
     "output_type": "execute_result"
    }
   ],
   "source": [
    "# This shows lots of <p> elements. Unlike <paragraph>, the <p> element is from\n",
    "# HTML and I'm not sure it really makes sense to consider a <p> element as a\n",
    "# logical unit within the U.S. Code, conceptually.\n",
    "Counter(elem.tag for row in breakdowns for elem in row)"
   ]
  },
  {
   "cell_type": "code",
   "execution_count": 60,
   "metadata": {},
   "outputs": [
    {
     "data": {
      "application/vnd.jupyter.widget-view+json": {
       "model_id": "e1546b4da2eb4ff88ade1500e36906eb",
       "version_major": 2,
       "version_minor": 0
      },
      "text/plain": [
       "Output(layout=Layout(height='28em'))"
      ]
     },
     "metadata": {},
     "output_type": "display_data"
    }
   ],
   "source": [
    "with output_box():\n",
    "    display({\n",
    "        section.attrib['identifier']: len(row)\n",
    "        for section, row in zip(direct_sections, breakdowns)\n",
    "        if len(row) > 1\n",
    "    })"
   ]
  },
  {
   "cell_type": "code",
   "execution_count": 61,
   "metadata": {},
   "outputs": [],
   "source": [
    "def abbreviate_runs(values):\n",
    "    return [\n",
    "        (value, sum(1 for _ in group))\n",
    "        for value, group in itertools.groupby(values)\n",
    "    ]"
   ]
  },
  {
   "cell_type": "code",
   "execution_count": 62,
   "metadata": {},
   "outputs": [],
   "source": [
    "def print_with_aligned_keys(mapping):\n",
    "    \"\"\"Display a mapping with string keys in a compact multiline form.\"\"\"\n",
    "    width = max(len(key) for key in mapping)\n",
    "    for key, value in mapping.items():\n",
    "        print(f'{key:>{width}}: {value}')"
   ]
  },
  {
   "cell_type": "code",
   "execution_count": 63,
   "metadata": {},
   "outputs": [],
   "source": [
    "breakdown_summaries = {\n",
    "    section.attrib['identifier']:\n",
    "        abbreviate_runs(ET.QName(elem).localname for elem in row)\n",
    "    for section, row in zip(direct_sections, breakdowns)\n",
    "    if len(row) > 1\n",
    "}"
   ]
  },
  {
   "cell_type": "code",
   "execution_count": 64,
   "metadata": {},
   "outputs": [
    {
     "name": "stdout",
     "output_type": "stream",
     "text": [
      "      /us/usc/t42/s201: [('num', 1), ('heading', 1), ('chapeau', 1), ('subsection', 17), ('sourceCredit', 1), ('note', 95)]\n",
      "      /us/usc/t42/s210: [('num', 1), ('heading', 1), ('subsection', 7), ('sourceCredit', 1), ('notes', 1)]\n",
      "      /us/usc/t42/s233: [('num', 1), ('heading', 1), ('subsection', 17), ('sourceCredit', 1), ('notes', 1)]\n",
      "      /us/usc/t42/s241: [('num', 1), ('heading', 1), ('subsection', 8), ('sourceCredit', 1), ('note', 25)]\n",
      "     /us/usc/t42/s242k: [('num', 1), ('heading', 1), ('subsection', 14), ('sourceCredit', 1), ('notes', 1)]\n",
      "     /us/usc/t42/s242m: [('num', 1), ('heading', 1), ('subsection', 6), ('sourceCredit', 1), ('notes', 1)]\n",
      "      /us/usc/t42/s246: [('num', 1), ('heading', 1), ('subsection', 3), ('sourceCredit', 1), ('note', 25)]\n",
      "     /us/usc/t42/s247b: [('num', 1), ('heading', 1), ('subsection', 14), ('sourceCredit', 1), ('notes', 1)]\n",
      "     /us/usc/t42/s247d: [('num', 1), ('heading', 1), ('subsection', 6), ('sourceCredit', 1), ('note', 21)]\n",
      "  /us/usc/t42/s247d–3a: [('num', 1), ('heading', 1), ('subsection', 11), ('sourceCredit', 1), ('notes', 1)]\n",
      "   /us/usc/t42/s247d–4: [('num', 1), ('heading', 1), ('subsection', 10), ('sourceCredit', 1), ('notes', 1)]\n",
      "   /us/usc/t42/s247d–5: [('num', 1), ('heading', 1), ('subsection', 13), ('sourceCredit', 1), ('notes', 1)]\n",
      "  /us/usc/t42/s247d–6a: [('num', 1), ('heading', 1), ('subsection', 6), ('sourceCredit', 1), ('notes', 1)]\n",
      "  /us/usc/t42/s247d–6b: [('num', 1), ('heading', 1), ('subsection', 8), ('sourceCredit', 1), ('note', 14)]\n",
      "  /us/usc/t42/s247d–6d: [('num', 1), ('heading', 1), ('subsection', 9), ('sourceCredit', 1), ('notes', 1)]\n",
      "  /us/usc/t42/s247d–7e: [('num', 1), ('heading', 1), ('subsection', 6), ('sourceCredit', 1), ('notes', 1)]\n",
      "     /us/usc/t42/s254b: [('num', 1), ('heading', 1), ('subsection', 18), ('sourceCredit', 1), ('note', 20)]\n",
      "     /us/usc/t42/s254c: [('num', 1), ('heading', 1), ('subsection', 10), ('sourceCredit', 1), ('notes', 1)]\n",
      "     /us/usc/t42/s254d: [('num', 1), ('heading', 1), ('subsection', 10), ('sourceCredit', 1), ('notes', 1)]\n",
      "     /us/usc/t42/s254l: [('num', 1), ('heading', 1), ('subsection', 8), ('sourceCredit', 1), ('notes', 1)]\n",
      "     /us/usc/t42/s256b: [('num', 1), ('heading', 1), ('subsection', 5), ('sourceCredit', 1), ('notes', 1)]\n",
      "      /us/usc/t42/s262: [('num', 1), ('heading', 1), ('subsection', 14), ('sourceCredit', 1), ('notes', 1)]\n",
      "     /us/usc/t42/s262a: [('num', 1), ('heading', 1), ('subsection', 13), ('sourceCredit', 1), ('notes', 1)]\n",
      "     /us/usc/t42/s263a: [('num', 1), ('heading', 1), ('subsection', 17), ('sourceCredit', 1), ('notes', 1)]\n",
      "     /us/usc/t42/s263b: [('num', 1), ('heading', 1), ('subsection', 18), ('sourceCredit', 1), ('notes', 1)]\n",
      "     /us/usc/t42/s274k: [('num', 1), ('heading', 1), ('subsection', 15), ('sourceCredit', 1), ('notes', 1)]\n",
      "   /us/usc/t42/s280g–4: [('num', 1), ('heading', 1), ('subsection', 8), ('sourceCredit', 1), ('notes', 1)]\n",
      "      /us/usc/t42/s281: [('num', 1), ('heading', 1), ('subsection', 8), ('sourceCredit', 1), ('notes', 1)]\n",
      "      /us/usc/t42/s282: [('num', 1), ('heading', 1), ('subsection', 9), ('num', 1), ('heading', 1), ('paragraph', 7), ('subsection', 5), ('sourceCredit', 1), ('note', 22)]\n",
      "     /us/usc/t42/s290b: [('num', 1), ('heading', 1), ('subsection', 12), ('sourceCredit', 1), ('notes', 1)]\n",
      "    /us/usc/t42/s290aa: [('num', 1), ('heading', 1), ('subsection', 17), ('sourceCredit', 1), ('note', 23)]\n",
      "  /us/usc/t42/s290bb–1: [('num', 1), ('heading', 1), ('subsection', 19), ('sourceCredit', 1), ('notes', 1)]\n",
      " /us/usc/t42/s290bb–25: [('num', 1), ('heading', 1), ('subsection', 15), ('sourceCredit', 1), ('notes', 1)]\n",
      "/us/usc/t42/s290bb–25b: [('num', 1), ('heading', 1), ('subsection', 7), ('sourceCredit', 1), ('notes', 1)]\n",
      "  /us/usc/t42/s290dd–2: [('num', 1), ('heading', 1), ('subsection', 11), ('sourceCredit', 1), ('notes', 1)]\n",
      "     /us/usc/t42/s294q: [('num', 1), ('heading', 1), ('subsection', 9), ('sourceCredit', 1), ('notes', 1)]\n",
      "   /us/usc/t42/s295f–3: [('num', 1), ('heading', 1), ('subsection', 6), ('sourceCredit', 1), ('note', 1), ('heading', 1), ('p', 36)]\n",
      "     /us/usc/t42/s295h: [('num', 1), ('heading', 1), ('subsection', 10), ('sourceCredit', 1), ('notes', 1)]\n",
      "     /us/usc/t42/s297b: [('num', 1), ('heading', 1), ('subsection', 11), ('sourceCredit', 1), ('notes', 1)]\n",
      "      /us/usc/t42/s300: [('num', 1), ('heading', 1), ('subsection', 4), ('sourceCredit', 1), ('notes', 1)]\n",
      "     /us/usc/t42/s300e: [('num', 1), ('heading', 1), ('subsection', 4), ('sourceCredit', 1), ('notes', 1)]\n",
      "   /us/usc/t42/s300g–1: [('num', 1), ('heading', 1), ('subsection', 1), ('num', 1), ('heading', 1), ('paragraph', 15), ('subsection', 3), ('sourceCredit', 1), ('notes', 1)]\n",
      "   /us/usc/t42/s300g–3: [('num', 1), ('heading', 1), ('subsection', 10), ('sourceCredit', 1), ('notes', 1)]\n",
      "  /us/usc/t42/s300j–12: [('num', 1), ('heading', 1), ('subsection', 20), ('sourceCredit', 1), ('note', 8)]\n",
      " /us/usc/t42/s300j–19a: [('num', 1), ('heading', 1), ('subsection', 14), ('sourceCredit', 1), ('notes', 1)]\n",
      "     /us/usc/t42/s300u: [('num', 1), ('heading', 1), ('subsection', 3), ('sourceCredit', 1), ('note', 13)]\n",
      "  /us/usc/t42/s300cc–1: [('num', 1), ('heading', 1), ('subsection', 5), ('sourceCredit', 1), ('note', 15)]\n",
      " /us/usc/t42/s300ff–12: [('num', 1), ('heading', 1), ('subsection', 5), ('sourceCredit', 1), ('notes', 1)]\n",
      " /us/usc/t42/s300ff–13: [('num', 1), ('heading', 1), ('subsection', 5), ('sourceCredit', 1), ('notes', 1)]\n",
      " /us/usc/t42/s300ff–28: [('num', 1), ('heading', 1), ('subsection', 4), ('sourceCredit', 1), ('notes', 1)]\n",
      "  /us/usc/t42/s300gg–3: [('num', 1), ('heading', 1), ('subsection', 7), ('sourceCredit', 1), ('notes', 1)]\n",
      " /us/usc/t42/s300gg–26: [('num', 1), ('heading', 1), ('subsection', 5), ('sourceCredit', 1), ('notes', 1)]\n",
      "/us/usc/t42/s300gg–111: [('num', 1), ('heading', 1), ('subsection', 6), ('sourceCredit', 1), ('notes', 1)]\n",
      " /us/usc/t42/s300hh–10: [('num', 1), ('heading', 1), ('subsection', 6), ('sourceCredit', 1), ('notes', 1)]\n",
      "      /us/usc/t42/s303: [('num', 1), ('heading', 1), ('subsection', 2), ('sourceCredit', 1), ('note', 26)]\n",
      "      /us/usc/t42/s401: [('num', 1), ('heading', 1), ('subsection', 14), ('sourceCredit', 1), ('note', 2), ('heading', 1), ('p', 120), ('note', 38)]\n",
      "      /us/usc/t42/s402: [('num', 1), ('heading', 1), ('subsection', 26), ('sourceCredit', 1), ('note', 3), ('heading', 1), ('p', 621), ('note', 67)]\n",
      "      /us/usc/t42/s403: [('num', 1), ('heading', 1), ('subsection', 12), ('sourceCredit', 1), ('note', 2), ('heading', 1), ('p', 218), ('note', 35)]\n",
      "      /us/usc/t42/s404: [('num', 1), ('heading', 1), ('subsection', 7), ('sourceCredit', 1), ('notes', 1)]\n",
      "      /us/usc/t42/s405: [('num', 1), ('heading', 1), ('subsection', 23), ('sourceCredit', 1), ('note', 4), ('heading', 1), ('p', 231), ('note', 53)]\n",
      "      /us/usc/t42/s406: [('num', 1), ('heading', 1), ('subsection', 5), ('sourceCredit', 1), ('notes', 1)]\n",
      "      /us/usc/t42/s408: [('num', 1), ('heading', 1), ('subsection', 5), ('sourceCredit', 1), ('notes', 1)]\n",
      "      /us/usc/t42/s409: [('num', 1), ('heading', 1), ('subsection', 11), ('sourceCredit', 1), ('note', 43)]\n",
      "      /us/usc/t42/s410: [('num', 1), ('heading', 1), ('chapeau', 1), ('subsection', 18), ('sourceCredit', 1), ('note', 3), ('heading', 1), ('p', 133), ('note', 46)]\n",
      "      /us/usc/t42/s411: [('num', 1), ('heading', 1), ('chapeau', 1), ('subsection', 11), ('sourceCredit', 1), ('note', 33)]\n",
      "      /us/usc/t42/s413: [('num', 1), ('heading', 1), ('subsection', 4), ('sourceCredit', 1), ('notes', 1)]\n",
      "      /us/usc/t42/s415: [('num', 1), ('heading', 1), ('chapeau', 1), ('subsection', 9), ('sourceCredit', 1), ('note', 2), ('heading', 1), ('p', 305), ('note', 54)]\n",
      "      /us/usc/t42/s416: [('num', 1), ('heading', 1), ('chapeau', 1), ('subsection', 12), ('sourceCredit', 1), ('note', 3), ('heading', 1), ('p', 123), ('note', 27)]\n",
      "      /us/usc/t42/s417: [('num', 1), ('heading', 1), ('subsection', 8), ('sourceCredit', 1), ('note', 20)]\n",
      "      /us/usc/t42/s418: [('num', 1), ('heading', 1), ('subsection', 14), ('sourceCredit', 1), ('note', 2), ('heading', 1), ('p', 128), ('note', 41)]\n",
      "      /us/usc/t42/s421: [('num', 1), ('heading', 1), ('subsection', 13), ('sourceCredit', 1), ('note', 25)]\n",
      "      /us/usc/t42/s422: [('num', 1), ('heading', 1), ('subsection', 4), ('sourceCredit', 1), ('notes', 1)]\n",
      "      /us/usc/t42/s423: [('num', 1), ('heading', 1), ('subsection', 10), ('sourceCredit', 1), ('note', 35)]\n",
      "      /us/usc/t42/s426: [('num', 1), ('heading', 1), ('subsection', 9), ('sourceCredit', 1), ('note', 28)]\n",
      "      /us/usc/t42/s430: [('num', 1), ('heading', 1), ('subsection', 4), ('sourceCredit', 1), ('note', 15)]\n",
      "      /us/usc/t42/s503: [('num', 1), ('heading', 1), ('subsection', 13), ('sourceCredit', 1), ('note', 28)]\n",
      "      /us/usc/t42/s601: [('num', 1), ('heading', 1), ('subsection', 2), ('sourceCredit', 1), ('notes', 1)]\n",
      "      /us/usc/t42/s602: [('num', 1), ('heading', 1), ('subsection', 3), ('sourceCredit', 1), ('notes', 1)]\n",
      "      /us/usc/t42/s603: [('num', 1), ('heading', 1), ('num', 1), ('heading', 1), ('paragraph', 4), ('num', 1), ('heading', 1), ('subparagraph', 10), ('subsection', 2), ('sourceCredit', 1), ('note', 4), ('heading', 1), ('p', 129), ('note', 14)]\n",
      "      /us/usc/t42/s604: [('num', 1), ('heading', 1), ('subsection', 11), ('sourceCredit', 1), ('note', 11), ('heading', 1), ('p', 84)]\n",
      "      /us/usc/t42/s607: [('num', 1), ('heading', 1), ('subsection', 9), ('sourceCredit', 1), ('notes', 1)]\n",
      "      /us/usc/t42/s608: [('num', 1), ('heading', 1), ('subsection', 7), ('sourceCredit', 1), ('notes', 1)]\n",
      "      /us/usc/t42/s609: [('num', 1), ('heading', 1), ('subsection', 4), ('sourceCredit', 1), ('notes', 1)]\n",
      "      /us/usc/t42/s611: [('num', 1), ('heading', 1), ('subsection', 4), ('sourceCredit', 1), ('notes', 1)]\n",
      "      /us/usc/t42/s622: [('num', 1), ('heading', 1), ('subsection', 3), ('sourceCredit', 1), ('note', 23)]\n",
      "     /us/usc/t42/s629g: [('num', 1), ('heading', 1), ('subsection', 7), ('sourceCredit', 1), ('notes', 1)]\n",
      "     /us/usc/t42/s629h: [('num', 1), ('heading', 1), ('subsection', 4), ('sourceCredit', 1), ('notes', 1)]\n",
      "      /us/usc/t42/s652: [('num', 1), ('heading', 1), ('subsection', 15), ('sourceCredit', 1), ('note', 2), ('heading', 1), ('p', 104), ('note', 19)]\n",
      "      /us/usc/t42/s653: [('num', 1), ('heading', 1), ('subsection', 16), ('sourceCredit', 1), ('notes', 1)]\n",
      "      /us/usc/t42/s654: [('num', 1), ('heading', 1), ('chapeau', 1), ('paragraph', 34), ('continuation', 1), ('sourceCredit', 1), ('note', 3), ('heading', 1), ('p', 126), ('note', 18)]\n",
      "      /us/usc/t42/s655: [('num', 1), ('heading', 1), ('subsection', 6), ('sourceCredit', 1), ('notes', 1)]\n",
      "      /us/usc/t42/s657: [('num', 1), ('heading', 1), ('subsection', 5), ('sourceCredit', 1), ('notes', 1)]\n",
      "     /us/usc/t42/s658a: [('num', 1), ('heading', 1), ('subsection', 1), ('num', 1), ('heading', 1), ('paragraph', 5), ('num', 1), ('heading', 1), ('subparagraph', 5), ('subsection', 4), ('sourceCredit', 1), ('notes', 1)]\n",
      "      /us/usc/t42/s659: [('num', 1), ('heading', 1), ('subsection', 9), ('sourceCredit', 1), ('notes', 1)]\n",
      "      /us/usc/t42/s666: [('num', 1), ('heading', 1), ('num', 1), ('heading', 1), ('chapeau', 1), ('paragraph', 19), ('continuation', 1), ('subsection', 6), ('sourceCredit', 1), ('note', 20)]\n",
      "      /us/usc/t42/s670: [('num', 1), ('heading', 1), ('content', 1), ('sourceCredit', 1), ('note', 12)]\n",
      "      /us/usc/t42/s671: [('num', 1), ('heading', 1), ('num', 1), ('heading', 1), ('chapeau', 1), ('paragraph', 37), ('subsection', 4), ('sourceCredit', 1), ('note', 32)]\n",
      "      /us/usc/t42/s672: [('num', 1), ('heading', 1), ('subsection', 11), ('sourceCredit', 1), ('notes', 1)]\n",
      "      /us/usc/t42/s673: [('num', 1), ('heading', 1), ('subsection', 5), ('sourceCredit', 1), ('notes', 1)]\n",
      "     /us/usc/t42/s673b: [('num', 1), ('heading', 1), ('subsection', 9), ('sourceCredit', 1), ('notes', 1)]\n",
      "      /us/usc/t42/s674: [('num', 1), ('heading', 1), ('subsection', 7), ('sourceCredit', 1), ('note', 23)]\n",
      "      /us/usc/t42/s675: [('num', 1), ('heading', 1), ('chapeau', 1), ('paragraph', 13), ('sourceCredit', 1), ('note', 20)]\n",
      "      /us/usc/t42/s677: [('num', 1), ('heading', 1), ('subsection', 10), ('sourceCredit', 1), ('note', 20)]\n",
      "      /us/usc/t42/s701: [('num', 1), ('heading', 1), ('subsection', 3), ('sourceCredit', 1), ('notes', 1)]\n",
      "      /us/usc/t42/s711: [('num', 1), ('heading', 1), ('subsection', 11), ('sourceCredit', 1), ('notes', 1)]\n",
      "      /us/usc/t42/s713: [('num', 1), ('heading', 1), ('subsection', 6), ('sourceCredit', 1), ('notes', 1)]\n",
      "     /us/usc/t42/s1007: [('num', 1), ('heading', 1), ('subsection', 12), ('sourceCredit', 1), ('notes', 1)]\n",
      "     /us/usc/t42/s1101: [('num', 1), ('heading', 1), ('subsection', 6), ('sourceCredit', 1), ('notes', 1)]\n",
      "     /us/usc/t42/s1103: [('num', 1), ('heading', 1), ('subsection', 9), ('sourceCredit', 1), ('notes', 1)]\n",
      "     /us/usc/t42/s1301: [('num', 1), ('heading', 1), ('subsection', 4), ('sourceCredit', 1), ('note', 30)]\n",
      "     /us/usc/t42/s1305: [('num', 1), ('heading', 1), ('content', 1), ('sourceCredit', 1), ('note', 55)]\n",
      "     /us/usc/t42/s1308: [('num', 1), ('heading', 1), ('subsection', 8), ('sourceCredit', 1), ('note', 2), ('heading', 1), ('p', 105), ('note', 26)]\n",
      "     /us/usc/t42/s1315: [('num', 1), ('heading', 1), ('subsection', 6), ('sourceCredit', 1), ('note', 19)]\n",
      "  /us/usc/t42/s1320a–7: [('num', 1), ('heading', 1), ('subsection', 10), ('sourceCredit', 1), ('notes', 1)]\n",
      " /us/usc/t42/s1320a–7a: [('num', 1), ('heading', 1), ('subsection', 19), ('sourceCredit', 1), ('note', 2), ('heading', 1), ('p', 118), ('note', 17)]\n",
      " /us/usc/t42/s1320a–7b: [('num', 1), ('heading', 1), ('subsection', 8), ('sourceCredit', 1), ('note', 21)]\n",
      " /us/usc/t42/s1320a–7l: [('num', 1), ('heading', 1), ('subsection', 2), ('sourceCredit', 1), ('notes', 1)]\n",
      "  /us/usc/t42/s1320b–7: [('num', 1), ('heading', 1), ('subsection', 6), ('sourceCredit', 1), ('notes', 1)]\n",
      " /us/usc/t42/s1320b–9a: [('num', 1), ('heading', 1), ('subsection', 9), ('sourceCredit', 1), ('notes', 1)]\n",
      " /us/usc/t42/s1320b–19: [('num', 1), ('heading', 1), ('subsection', 12), ('sourceCredit', 1), ('notes', 1)]\n",
      "  /us/usc/t42/s1320c–3: [('num', 1), ('heading', 1), ('subsection', 6), ('sourceCredit', 1), ('note', 16)]\n",
      "  /us/usc/t42/s1320d–2: [('num', 1), ('heading', 1), ('subsection', 10), ('sourceCredit', 1), ('note', 16)]\n",
      "    /us/usc/t42/s1320e: [('num', 1), ('heading', 1), ('subsection', 10), ('sourceCredit', 1), ('notes', 1)]\n",
      "  /us/usc/t42/s1320f–1: [('num', 1), ('heading', 1), ('subsection', 6), ('sourceCredit', 1), ('notes', 1)]\n",
      "     /us/usc/t42/s1382: [('num', 1), ('heading', 1), ('subsection', 9), ('sourceCredit', 1), ('note', 44)]\n",
      "    /us/usc/t42/s1382a: [('num', 1), ('heading', 1), ('subsection', 2), ('sourceCredit', 1), ('note', 28)]\n",
      "    /us/usc/t42/s1382b: [('num', 1), ('heading', 1), ('subsection', 5), ('sourceCredit', 1), ('notes', 1)]\n",
      "    /us/usc/t42/s1382c: [('num', 1), ('heading', 1), ('subsection', 6), ('sourceCredit', 1), ('note', 18)]\n",
      "    /us/usc/t42/s1382e: [('num', 1), ('heading', 1), ('subsection', 5), ('sourceCredit', 1), ('note', 22)]\n",
      "     /us/usc/t42/s1383: [('num', 1), ('heading', 1), ('num', 1), ('heading', 1), ('paragraph', 1), ('num', 1), ('subparagraph', 9), ('paragraph', 8), ('subsection', 15), ('sourceCredit', 1), ('note', 4), ('heading', 1), ('p', 211), ('note', 39)]\n",
      "  /us/usc/t42/s1395b–1: [('num', 1), ('heading', 1), ('subsection', 2), ('sourceCredit', 1), ('note', 40)]\n",
      "  /us/usc/t42/s1395b–6: [('num', 1), ('heading', 1), ('subsection', 6), ('sourceCredit', 1), ('notes', 1)]\n",
      "    /us/usc/t42/s1395d: [('num', 1), ('heading', 1), ('subsection', 7), ('sourceCredit', 1), ('note', 22)]\n",
      "    /us/usc/t42/s1395f: [('num', 1), ('heading', 1), ('subsection', 12), ('sourceCredit', 1), ('note', 2), ('heading', 1), ('p', 167), ('note', 37)]\n",
      "    /us/usc/t42/s1395g: [('num', 1), ('heading', 1), ('subsection', 6), ('sourceCredit', 1), ('notes', 1)]\n",
      "    /us/usc/t42/s1395h: [('num', 1), ('heading', 1), ('subsection', 7), ('sourceCredit', 1), ('note', 24)]\n",
      "    /us/usc/t42/s1395i: [('num', 1), ('heading', 1), ('subsection', 11), ('sourceCredit', 1), ('note', 19)]\n",
      "  /us/usc/t42/s1395i–2: [('num', 1), ('heading', 1), ('subsection', 7), ('sourceCredit', 1), ('notes', 1)]\n",
      "  /us/usc/t42/s1395i–3: [('num', 1), ('heading', 1), ('subsection', 11), ('sourceCredit', 1), ('note', 27)]\n",
      "  /us/usc/t42/s1395i–4: [('num', 1), ('heading', 1), ('subsection', 10), ('sourceCredit', 1), ('note', 13)]\n",
      "    /us/usc/t42/s1395k: [('num', 1), ('heading', 1), ('subsection', 2), ('sourceCredit', 1), ('note', 24)]\n",
      "    /us/usc/t42/s1395l: [('num', 1), ('heading', 1), ('subsection', 19), ('num', 1), ('heading', 1), ('paragraph', 22), ('subsection', 10), ('sourceCredit', 1), ('note', 3), ('heading', 1), ('p', 671), ('note', 109)]\n",
      "    /us/usc/t42/s1395m: [('num', 1), ('heading', 1), ('num', 1), ('heading', 1), ('paragraph', 22), ('subsection', 24), ('sourceCredit', 1), ('note', 4), ('heading', 1), ('p', 378), ('note', 72)]\n",
      "    /us/usc/t42/s1395n: [('num', 1), ('heading', 1), ('subsection', 5), ('sourceCredit', 1), ('note', 22)]\n",
      "    /us/usc/t42/s1395p: [('num', 1), ('heading', 1), ('subsection', 15), ('sourceCredit', 1), ('notes', 1)]\n",
      "    /us/usc/t42/s1395r: [('num', 1), ('heading', 1), ('subsection', 10), ('sourceCredit', 1), ('note', 2), ('heading', 1), ('p', 134), ('note', 21)]\n",
      "    /us/usc/t42/s1395u: [('num', 1), ('heading', 1), ('subsection', 1), ('num', 1), ('heading', 1), ('paragraph', 19), ('subsection', 17), ('sourceCredit', 1), ('note', 2), ('heading', 1), ('p', 429), ('note', 85)]\n",
      "  /us/usc/t42/s1395w–3: [('num', 1), ('heading', 1), ('subsection', 6), ('sourceCredit', 1), ('notes', 1)]\n",
      " /us/usc/t42/s1395w–3a: [('num', 1), ('heading', 1), ('subsection', 10), ('sourceCredit', 1), ('notes', 1)]\n",
      "  /us/usc/t42/s1395w–4: [('num', 1), ('heading', 1), ('subsection', 2), ('num', 1), ('heading', 1), ('paragraph', 1), ('num', 1), ('heading', 1), ('subparagraph', 15), ('paragraph', 6), ('subsection', 13), ('num', 1), ('heading', 1), ('paragraph', 13), ('subsection', 3), ('sourceCredit', 1), ('note', 3), ('heading', 1), ('p', 422), ('note', 59)]\n",
      " /us/usc/t42/s1395w–21: [('num', 1), ('heading', 1), ('subsection', 10), ('sourceCredit', 1), ('note', 27)]\n",
      " /us/usc/t42/s1395w–22: [('num', 1), ('heading', 1), ('subsection', 14), ('sourceCredit', 1), ('note', 15)]\n",
      " /us/usc/t42/s1395w–23: [('num', 1), ('heading', 1), ('subsection', 15), ('sourceCredit', 1), ('note', 2), ('heading', 1), ('p', 230), ('note', 20)]\n",
      " /us/usc/t42/s1395w–24: [('num', 1), ('heading', 1), ('subsection', 8), ('sourceCredit', 1), ('notes', 1)]\n",
      " /us/usc/t42/s1395w–27: [('num', 1), ('heading', 1), ('subsection', 9), ('sourceCredit', 1), ('notes', 1)]\n",
      " /us/usc/t42/s1395w–28: [('num', 1), ('heading', 1), ('subsection', 9), ('sourceCredit', 1), ('notes', 1)]\n",
      "/us/usc/t42/s1395w–101: [('num', 1), ('heading', 1), ('subsection', 3), ('sourceCredit', 1), ('notes', 1)]\n",
      "/us/usc/t42/s1395w–102: [('num', 1), ('heading', 1), ('subsection', 5), ('sourceCredit', 1), ('notes', 1)]\n",
      "/us/usc/t42/s1395w–104: [('num', 1), ('heading', 1), ('subsection', 2), ('num', 1), ('heading', 1), ('paragraph', 7), ('subsection', 12), ('sourceCredit', 1), ('notes', 1)]\n",
      "/us/usc/t42/s1395w–113: [('num', 1), ('heading', 1), ('subsection', 3), ('sourceCredit', 1), ('notes', 1)]\n",
      "/us/usc/t42/s1395w–114: [('num', 1), ('heading', 1), ('subsection', 6), ('sourceCredit', 1), ('notes', 1)]\n",
      "/us/usc/t42/s1395w–115: [('num', 1), ('heading', 1), ('subsection', 8), ('sourceCredit', 1), ('notes', 1)]\n",
      "/us/usc/t42/s1395w–141: [('num', 1), ('heading', 1), ('subsection', 11), ('sourceCredit', 1), ('notes', 1)]\n",
      "    /us/usc/t42/s1395x: [('num', 1), ('heading', 1), ('chapeau', 1), ('subsection', 64), ('sourceCredit', 1), ('note', 3), ('heading', 1), ('p', 587), ('note', 95)]\n",
      "    /us/usc/t42/s1395y: [('num', 1), ('heading', 1), ('subsection', 1), ('num', 1), ('heading', 1), ('paragraph', 9), ('subsection', 13), ('sourceCredit', 1), ('note', 3), ('heading', 1), ('p', 234), ('note', 54)]\n",
      "   /us/usc/t42/s1395aa: [('num', 1), ('heading', 1), ('subsection', 5), ('sourceCredit', 1), ('notes', 1)]\n",
      "   /us/usc/t42/s1395cc: [('num', 1), ('heading', 1), ('subsection', 11), ('sourceCredit', 1), ('note', 2), ('heading', 1), ('p', 192), ('note', 36)]\n",
      "   /us/usc/t42/s1395dd: [('num', 1), ('heading', 1), ('subsection', 9), ('sourceCredit', 1), ('note', 20)]\n",
      "   /us/usc/t42/s1395ff: [('num', 1), ('heading', 1), ('subsection', 9), ('sourceCredit', 1), ('note', 18)]\n",
      " /us/usc/t42/s1395kk–1: [('num', 1), ('heading', 1), ('subsection', 8), ('sourceCredit', 1), ('notes', 1)]\n",
      "   /us/usc/t42/s1395ll: [('num', 1), ('heading', 1), ('subsection', 2), ('sourceCredit', 1), ('notes', 1)]\n",
      "   /us/usc/t42/s1395mm: [('num', 1), ('heading', 1), ('subsection', 11), ('sourceCredit', 1), ('note', 2), ('heading', 1), ('p', 125), ('note', 37)]\n",
      "   /us/usc/t42/s1395nn: [('num', 1), ('heading', 1), ('subsection', 9), ('sourceCredit', 1), ('note', 20)]\n",
      "   /us/usc/t42/s1395rr: [('num', 1), ('heading', 1), ('subsection', 1), ('num', 1), ('heading', 1), ('paragraph', 14), ('subsection', 6), ('sourceCredit', 1), ('note', 38)]\n",
      "   /us/usc/t42/s1395ss: [('num', 1), ('heading', 1), ('subsection', 26), ('sourceCredit', 1), ('note', 2), ('heading', 1), ('p', 174), ('note', 20)]\n",
      "   /us/usc/t42/s1395ww: [('num', 1), ('heading', 1), ('subsection', 1), ('num', 1), ('heading', 1), ('paragraph', 2), ('num', 1), ('subparagraph', 12), ('paragraph', 4), ('subsection', 1), ('num', 1), ('heading', 1), ('paragraph', 4), ('num', 1), ('subparagraph', 13), ('paragraph', 8), ('subsection', 3), ('num', 1), ('heading', 1), ('paragraph', 9), ('subsection', 12), ('sourceCredit', 1), ('note', 2), ('heading', 1), ('p', 833), ('note', 159)]\n",
      "   /us/usc/t42/s1395yy: [('num', 1), ('heading', 1), ('subsection', 8), ('sourceCredit', 1), ('note', 29)]\n",
      "  /us/usc/t42/s1395aaa: [('num', 1), ('heading', 1), ('subsection', 6), ('sourceCredit', 1), ('notes', 1)]\n",
      "  /us/usc/t42/s1395bbb: [('num', 1), ('heading', 1), ('subsection', 7), ('sourceCredit', 1), ('notes', 1)]\n",
      "  /us/usc/t42/s1395ddd: [('num', 1), ('heading', 1), ('subsection', 10), ('sourceCredit', 1), ('notes', 1)]\n",
      "  /us/usc/t42/s1395eee: [('num', 1), ('heading', 1), ('subsection', 9), ('sourceCredit', 1), ('notes', 1)]\n",
      "  /us/usc/t42/s1395fff: [('num', 1), ('heading', 1), ('subsection', 5), ('sourceCredit', 1), ('note', 24)]\n",
      "  /us/usc/t42/s1395jjj: [('num', 1), ('heading', 1), ('subsection', 13), ('sourceCredit', 1), ('notes', 1)]\n",
      "  /us/usc/t42/s1395lll: [('num', 1), ('heading', 1), ('subsection', 13), ('sourceCredit', 1), ('notes', 1)]\n",
      "     /us/usc/t42/s1396: [('num', 1), ('heading', 1), ('subsection', 6), ('sourceCredit', 1), ('notes', 1)]\n",
      "    /us/usc/t42/s1396a: [('num', 1), ('heading', 1), ('num', 1), ('heading', 1), ('chapeau', 1), ('paragraph', 87), ('continuation', 3), ('subsection', 3), ('num', 1), ('heading', 1), ('paragraph', 16), ('subsection', 40), ('sourceCredit', 1), ('note', 5), ('heading', 1), ('p', 730), ('note', 75), ('heading', 1), ('p', 1), ('ref', 1), ('date', 1), ('ref', 2), ('date', 1), ('ref', 2), ('date', 1), ('ref', 2), ('date', 1), ('ref', 2), ('date', 1), ('ref', 2), ('date', 1), ('ref', 2), ('date', 1), ('ref', 2), ('date', 1), ('ref', 2), ('date', 1), ('ref', 2), ('date', 1), ('ref', 1), ('subsection', 10), ('p', 3), ('note', 38)]\n",
      "    /us/usc/t42/s1396b: [('num', 1), ('heading', 1), ('subsection', 28), ('sourceCredit', 1), ('note', 2), ('heading', 1), ('p', 396), ('note', 63)]\n",
      "    /us/usc/t42/s1396d: [('num', 1), ('heading', 1), ('chapeau', 1), ('subsection', 35), ('sourceCredit', 1), ('note', 3), ('heading', 1), ('p', 300), ('note', 49)]\n",
      "    /us/usc/t42/s1396n: [('num', 1), ('heading', 1), ('subsection', 12), ('sourceCredit', 1), ('note', 25)]\n",
      "    /us/usc/t42/s1396o: [('num', 1), ('heading', 1), ('subsection', 10), ('sourceCredit', 1), ('notes', 1)]\n",
      "  /us/usc/t42/s1396o–1: [('num', 1), ('heading', 1), ('subsection', 5), ('sourceCredit', 1), ('notes', 1)]\n",
      "    /us/usc/t42/s1396p: [('num', 1), ('heading', 1), ('subsection', 8), ('sourceCredit', 1), ('note', 17)]\n",
      "    /us/usc/t42/s1396r: [('num', 1), ('heading', 1), ('subsection', 11), ('sourceCredit', 1), ('note', 4), ('heading', 1), ('p', 125), ('note', 23)]\n",
      "  /us/usc/t42/s1396r–4: [('num', 1), ('heading', 1), ('subsection', 5), ('num', 1), ('heading', 1), ('paragraph', 9), ('subsection', 4), ('sourceCredit', 1), ('note', 4), ('heading', 1), ('p', 140), ('note', 20)]\n",
      "  /us/usc/t42/s1396r–5: [('num', 1), ('heading', 1), ('subsection', 8), ('sourceCredit', 1), ('notes', 1)]\n",
      "  /us/usc/t42/s1396r–6: [('num', 1), ('heading', 1), ('subsection', 6), ('sourceCredit', 1), ('notes', 1)]\n",
      "  /us/usc/t42/s1396r–8: [('num', 1), ('heading', 1), ('subsection', 11), ('sourceCredit', 1), ('note', 4), ('heading', 1), ('p', 150), ('note', 22)]\n",
      "    /us/usc/t42/s1396t: [('num', 1), ('heading', 1), ('subsection', 13), ('sourceCredit', 1), ('notes', 1)]\n",
      "  /us/usc/t42/s1396u–2: [('num', 1), ('heading', 1), ('subsection', 9), ('sourceCredit', 1), ('notes', 1)]\n",
      "  /us/usc/t42/s1396u–4: [('num', 1), ('heading', 1), ('subsection', 10), ('sourceCredit', 1), ('notes', 1)]\n",
      "   /us/usc/t42/s1397cc: [('num', 1), ('heading', 1), ('subsection', 6), ('sourceCredit', 1), ('notes', 1)]\n",
      "   /us/usc/t42/s1397dd: [('num', 1), ('heading', 1), ('subsection', 14), ('sourceCredit', 1), ('note', 2), ('heading', 1), ('p', 153), ('note', 13)]\n",
      "   /us/usc/t42/s1397ee: [('num', 1), ('heading', 1), ('subsection', 7), ('sourceCredit', 1), ('note', 13)]\n",
      "   /us/usc/t42/s1397gg: [('num', 1), ('heading', 1), ('subsection', 7), ('sourceCredit', 1), ('notes', 1)]\n",
      "    /us/usc/t42/s1436a: [('num', 1), ('heading', 1), ('subsection', 9), ('sourceCredit', 1), ('notes', 1)]\n",
      "     /us/usc/t42/s1437: [('num', 1), ('heading', 1), ('subsection', 2), ('sourceCredit', 1), ('note', 25)]\n",
      "    /us/usc/t42/s1437a: [('num', 1), ('heading', 1), ('subsection', 6), ('sourceCredit', 1), ('note', 32)]\n",
      "    /us/usc/t42/s1437c: [('num', 1), ('heading', 1), ('subsection', 9), ('sourceCredit', 1), ('notes', 1)]\n",
      "  /us/usc/t42/s1437c–1: [('num', 1), ('heading', 1), ('subsection', 12), ('sourceCredit', 1), ('notes', 1)]\n",
      "    /us/usc/t42/s1437d: [('num', 1), ('heading', 1), ('subsection', 20), ('sourceCredit', 1), ('note', 3), ('heading', 1), ('p', 135), ('note', 17)]\n",
      "    /us/usc/t42/s1437f: [('num', 1), ('heading', 1), ('subsection', 13), ('num', 1), ('heading', 1), ('paragraph', 21), ('subsection', 15), ('sourceCredit', 1), ('note', 5), ('heading', 1), ('p', 354), ('note', 34), ('heading', 1), ('ref', 1), ('date', 1), ('ref', 2), ('date', 1), ('ref', 2), ('date', 1), ('ref', 2), ('date', 1), ('ref', 2), ('date', 1), ('ref', 3), ('date', 1), ('ref', 2), ('date', 1), ('ref', 2), ('date', 1), ('ref', 2), ('date', 1), ('ref', 2), ('date', 1), ('ref', 1), ('num', 1), ('heading', 1), ('section', 15), ('subtitle', 1), ('p', 5), ('note', 38)]\n",
      "    /us/usc/t42/s1437g: [('num', 1), ('heading', 1), ('subsection', 15), ('sourceCredit', 1), ('note', 21)]\n",
      "    /us/usc/t42/s1437n: [('num', 1), ('heading', 1), ('subsection', 6), ('sourceCredit', 1), ('notes', 1)]\n",
      "    /us/usc/t42/s1437u: [('num', 1), ('heading', 1), ('subsection', 15), ('sourceCredit', 1), ('note', 9)]\n",
      "    /us/usc/t42/s1437v: [('num', 1), ('heading', 1), ('subsection', 15), ('sourceCredit', 1), ('notes', 1)]\n",
      "     /us/usc/t42/s1439: [('num', 1), ('heading', 1), ('subsection', 5), ('sourceCredit', 1), ('notes', 1)]\n",
      "     /us/usc/t42/s1471: [('num', 1), ('heading', 1), ('subsection', 10), ('sourceCredit', 1), ('notes', 1)]\n",
      "     /us/usc/t42/s1472: [('num', 1), ('heading', 1), ('subsection', 9), ('sourceCredit', 1), ('note', 19)]\n",
      "     /us/usc/t42/s1483: [('num', 1), ('heading', 1), ('subsection', 5), ('sourceCredit', 1), ('notes', 1)]\n",
      "     /us/usc/t42/s1485: [('num', 1), ('heading', 1), ('subsection', 27), ('sourceCredit', 1), ('note', 10)]\n",
      "     /us/usc/t42/s1487: [('num', 1), ('heading', 1), ('subsection', 15), ('sourceCredit', 1), ('notes', 1)]\n",
      "    /us/usc/t42/s1490a: [('num', 1), ('heading', 1), ('subsection', 5), ('sourceCredit', 1), ('notes', 1)]\n",
      "     /us/usc/t42/s1586: [('num', 1), ('heading', 1), ('subsection', 4), ('sourceCredit', 1), ('notes', 1)]\n",
      "     /us/usc/t42/s1751: [('num', 1), ('heading', 1), ('content', 1), ('sourceCredit', 1), ('note', 31)]\n",
      "     /us/usc/t42/s1755: [('num', 1), ('heading', 1), ('subsection', 6), ('sourceCredit', 1), ('notes', 1)]\n",
      "     /us/usc/t42/s1758: [('num', 1), ('heading', 1), ('subsection', 1), ('num', 1), ('heading', 1), ('paragraph', 15), ('subsection', 10), ('sourceCredit', 1), ('note', 3), ('heading', 1), ('p', 152), ('note', 20)]\n",
      "    /us/usc/t42/s1759a: [('num', 1), ('heading', 1), ('subsection', 7), ('sourceCredit', 1), ('notes', 1)]\n",
      "     /us/usc/t42/s1760: [('num', 1), ('heading', 1), ('subsection', 18), ('sourceCredit', 1), ('note', 24)]\n",
      "     /us/usc/t42/s1761: [('num', 1), ('heading', 1), ('subsection', 18), ('sourceCredit', 1), ('note', 3), ('heading', 1), ('p', 168), ('note', 14)]\n",
      "     /us/usc/t42/s1766: [('num', 1), ('heading', 1), ('subsection', 21), ('sourceCredit', 1), ('note', 3), ('heading', 1), ('p', 180), ('note', 29)]\n",
      "     /us/usc/t42/s1769: [('num', 1), ('heading', 1), ('subsection', 9), ('sourceCredit', 1), ('notes', 1)]\n",
      "     /us/usc/t42/s1773: [('num', 1), ('heading', 1), ('subsection', 5), ('sourceCredit', 1), ('notes', 1)]\n",
      "     /us/usc/t42/s1776: [('num', 1), ('heading', 1), ('subsection', 10), ('sourceCredit', 1), ('notes', 1)]\n",
      "     /us/usc/t42/s1786: [('num', 1), ('heading', 1), ('subsection', 7), ('num', 1), ('heading', 1), ('paragraph', 14), ('subsection', 11), ('sourceCredit', 1), ('note', 3), ('heading', 1), ('p', 381), ('note', 40)]\n",
      "     /us/usc/t42/s1788: [('num', 1), ('heading', 1), ('subsection', 12), ('sourceCredit', 1), ('notes', 1)]\n",
      "     /us/usc/t42/s1861: [('num', 1), ('heading', 1), ('content', 1), ('sourceCredit', 1), ('note', 33)]\n",
      "     /us/usc/t42/s1862: [('num', 1), ('heading', 1), ('subsection', 7), ('sourceCredit', 1), ('note', 19)]\n",
      "    /us/usc/t42/s1862i: [('num', 1), ('heading', 1), ('subsection', 10), ('sourceCredit', 1), ('notes', 1)]\n",
      "    /us/usc/t42/s1862n: [('num', 1), ('heading', 1), ('subsection', 4), ('sourceCredit', 1), ('notes', 1)]\n",
      "     /us/usc/t42/s1962: [('num', 1), ('heading', 1), ('content', 1), ('sourceCredit', 1), ('note', 10)]\n",
      " /us/usc/t42/s1962d–5b: [('num', 1), ('heading', 1), ('subsection', 8), ('sourceCredit', 1), ('notes', 1)]\n",
      "    /us/usc/t42/s2000e: [('num', 1), ('heading', 1), ('chapeau', 1), ('subsection', 14), ('sourceCredit', 1), ('note', 48)]\n",
      "  /us/usc/t42/s2000e–4: [('num', 1), ('heading', 1), ('subsection', 11), ('sourceCredit', 1), ('note', 24)]\n",
      "   /us/usc/t42/s2000ee: [('num', 1), ('heading', 1), ('subsection', 13), ('sourceCredit', 1), ('notes', 1)]\n",
      "     /us/usc/t42/s2014: [('num', 1), ('heading', 1), ('chapeau', 1), ('subsection', 35), ('sourceCredit', 1), ('notes', 1)]\n",
      "     /us/usc/t42/s2121: [('num', 1), ('heading', 1), ('subsection', 3), ('sourceCredit', 1), ('notes', 1)]\n",
      "     /us/usc/t42/s2153: [('num', 1), ('heading', 1), ('chapeau', 1), ('subsection', 4), ('continuation', 2), ('subsection', 1), ('sourceCredit', 1), ('notes', 1)]\n",
      "    /us/usc/t42/s2160e: [('num', 1), ('heading', 1), ('subsection', 8), ('sourceCredit', 1), ('notes', 1)]\n",
      "     /us/usc/t42/s2201: [('num', 1), ('heading', 1), ('chapeau', 1), ('subsection', 24), ('sourceCredit', 1), ('notes', 1)]\n",
      "     /us/usc/t42/s2210: [('num', 1), ('heading', 1), ('subsection', 20), ('sourceCredit', 1), ('note', 14), ('heading', 1), ('ref', 1), ('date', 1), ('ref', 2), ('date', 1), ('ref', 2), ('date', 1), ('ref', 2), ('date', 1), ('ref', 2), ('date', 1), ('ref', 2), ('date', 1), ('ref', 2), ('date', 1), ('ref', 2), ('date', 1), ('ref', 2), ('date', 1), ('ref', 2), ('date', 1), ('ref', 2), ('date', 1), ('ref', 1), ('section', 14), ('note', 4)]\n",
      "     /us/usc/t42/s3001: [('num', 1), ('heading', 1), ('chapeau', 1), ('paragraph', 10), ('sourceCredit', 1), ('note', 35)]\n",
      "     /us/usc/t42/s3002: [('num', 1), ('heading', 1), ('chapeau', 1), ('paragraph', 56), ('sourceCredit', 1), ('notes', 1)]\n",
      "     /us/usc/t42/s3012: [('num', 1), ('heading', 1), ('subsection', 9), ('sourceCredit', 1), ('note', 13)]\n",
      "     /us/usc/t42/s3013: [('num', 1), ('heading', 1), ('subsection', 3), ('sourceCredit', 1), ('notes', 1)]\n",
      "     /us/usc/t42/s3025: [('num', 1), ('heading', 1), ('subsection', 4), ('sourceCredit', 1), ('notes', 1)]\n",
      "     /us/usc/t42/s3026: [('num', 1), ('heading', 1), ('subsection', 7), ('sourceCredit', 1), ('note', 3), ('heading', 1), ('p', 151), ('note', 8)]\n",
      "     /us/usc/t42/s3027: [('num', 1), ('heading', 1), ('subsection', 6), ('sourceCredit', 1), ('note', 3), ('heading', 1), ('p', 182), ('note', 7)]\n",
      "     /us/usc/t42/s3056: [('num', 1), ('heading', 1), ('subsection', 5), ('sourceCredit', 1), ('notes', 1)]\n",
      "    /us/usc/t42/s3058g: [('num', 1), ('heading', 1), ('subsection', 10), ('sourceCredit', 1), ('notes', 1)]\n",
      "     /us/usc/t42/s3121: [('num', 1), ('heading', 1), ('subsection', 2), ('sourceCredit', 1), ('note', 15), ('heading', 1), ('p', 1), ('ref', 1), ('date', 1), ('ref', 2), ('date', 1), ('ref', 2), ('date', 1), ('ref', 2), ('date', 1), ('ref', 2), ('date', 1), ('ref', 2), ('date', 1), ('ref', 2), ('date', 1), ('ref', 2), ('date', 1), ('ref', 2), ('date', 1), ('ref', 2), ('date', 1), ('ref', 2), ('date', 1), ('ref', 1), ('section', 12), ('p', 2), ('note', 8)]\n",
      "     /us/usc/t42/s3374: [('num', 1), ('heading', 1), ('subsection', 16), ('sourceCredit', 1), ('notes', 1)]\n",
      "     /us/usc/t42/s3501: [('num', 1), ('heading', 1), ('content', 1), ('sourceCredit', 1), ('note', 40)]\n",
      "     /us/usc/t42/s3535: [('num', 1), ('heading', 1), ('subsection', 20), ('sourceCredit', 1), ('notes', 1)]\n",
      "     /us/usc/t42/s3608: [('num', 1), ('heading', 1), ('subsection', 6), ('sourceCredit', 1), ('note', 13)]\n",
      "     /us/usc/t42/s4011: [('num', 1), ('heading', 1), ('subsection', 3), ('sourceCredit', 1), ('notes', 1)]\n",
      "    /us/usc/t42/s4012a: [('num', 1), ('heading', 1), ('subsection', 8), ('sourceCredit', 1), ('notes', 1)]\n",
      "     /us/usc/t42/s4014: [('num', 1), ('heading', 1), ('subsection', 8), ('sourceCredit', 1), ('notes', 1)]\n",
      "     /us/usc/t42/s4321: [('num', 1), ('heading', 1), ('content', 1), ('sourceCredit', 1), ('note', 79), ('heading', 1), ('p', 154), ('signature', 1), ('note', 2)]\n",
      "    /us/usc/t42/s4370m: [('num', 1), ('heading', 1), ('chapeau', 1), ('paragraph', 18), ('sourceCredit', 1), ('notes', 1)]\n",
      "  /us/usc/t42/s4370m–2: [('num', 1), ('heading', 1), ('subsection', 6), ('sourceCredit', 1), ('notes', 1)]\n",
      "     /us/usc/t42/s4822: [('num', 1), ('heading', 1), ('subsection', 7), ('sourceCredit', 1), ('notes', 1)]\n",
      "     /us/usc/t42/s4953: [('num', 1), ('heading', 1), ('subsection', 9), ('sourceCredit', 1), ('notes', 1)]\n",
      "     /us/usc/t42/s5105: [('num', 1), ('heading', 1), ('subsection', 5), ('sourceCredit', 1), ('notes', 1)]\n",
      "     /us/usc/t42/s5106: [('num', 1), ('heading', 1), ('subsection', 3), ('sourceCredit', 1), ('notes', 1)]\n",
      "    /us/usc/t42/s5106a: [('num', 1), ('heading', 1), ('subsection', 6), ('sourceCredit', 1), ('note', 11)]\n",
      "    /us/usc/t42/s5170c: [('num', 1), ('heading', 1), ('subsection', 7), ('sourceCredit', 1), ('notes', 1)]\n",
      "     /us/usc/t42/s5172: [('num', 1), ('heading', 1), ('subsection', 5), ('sourceCredit', 1), ('notes', 1)]\n",
      "     /us/usc/t42/s5174: [('num', 1), ('heading', 1), ('subsection', 10), ('sourceCredit', 1), ('notes', 1)]\n",
      "     /us/usc/t42/s5195: [('num', 1), ('heading', 1), ('content', 1), ('sourceCredit', 1), ('note', 108)]\n",
      "     /us/usc/t42/s5196: [('num', 1), ('heading', 1), ('subsection', 11), ('sourceCredit', 1), ('notes', 1)]\n",
      "     /us/usc/t42/s5301: [('num', 1), ('heading', 1), ('subsection', 4), ('sourceCredit', 1), ('note', 33)]\n",
      "     /us/usc/t42/s5302: [('num', 1), ('heading', 1), ('subsection', 5), ('sourceCredit', 1), ('note', 12)]\n",
      "     /us/usc/t42/s5304: [('num', 1), ('heading', 1), ('subsection', 13), ('sourceCredit', 1), ('note', 17)]\n",
      "     /us/usc/t42/s5305: [('num', 1), ('heading', 1), ('subsection', 8), ('sourceCredit', 1), ('note', 23)]\n",
      "     /us/usc/t42/s5306: [('num', 1), ('heading', 1), ('subsection', 6), ('sourceCredit', 1), ('note', 3), ('heading', 1), ('p', 103), ('note', 10)]\n",
      "     /us/usc/t42/s5308: [('num', 1), ('heading', 1), ('subsection', 18), ('sourceCredit', 1), ('notes', 1)]\n",
      "     /us/usc/t42/s5318: [('num', 1), ('heading', 1), ('subsection', 20), ('sourceCredit', 1), ('note', 12), ('heading', 1), ('ref', 1), ('date', 1), ('ref', 2), ('date', 1), ('ref', 1), ('section', 9), ('note', 2)]\n",
      "     /us/usc/t42/s5403: [('num', 1), ('heading', 1), ('subsection', 8), ('sourceCredit', 1), ('notes', 1)]\n",
      "     /us/usc/t42/s5841: [('num', 1), ('heading', 1), ('subsection', 7), ('sourceCredit', 1), ('note', 24)]\n",
      "     /us/usc/t42/s6201: [('num', 1), ('heading', 1), ('chapeau', 1), ('paragraph', 8), ('sourceCredit', 1), ('note', 19), ('heading', 1), ('ref', 1), ('date', 1), ('ref', 2), ('date', 1), ('ref', 2), ('date', 1), ('ref', 2), ('date', 1), ('ref', 1), ('section', 13), ('note', 4)]\n",
      "     /us/usc/t42/s6240: [('num', 1), ('heading', 1), ('subsection', 7), ('sourceCredit', 1), ('notes', 1)]\n",
      "     /us/usc/t42/s6241: [('num', 1), ('heading', 1), ('subsection', 9), ('sourceCredit', 1), ('notes', 1)]\n",
      "     /us/usc/t42/s6272: [('num', 1), ('heading', 1), ('subsection', 14), ('sourceCredit', 1), ('notes', 1)]\n",
      "     /us/usc/t42/s6291: [('num', 1), ('heading', 1), ('chapeau', 1), ('paragraph', 66), ('sourceCredit', 1), ('notes', 1)]\n",
      "     /us/usc/t42/s6294: [('num', 1), ('heading', 1), ('subsection', 7), ('sourceCredit', 1), ('notes', 1)]\n",
      "     /us/usc/t42/s6295: [('num', 1), ('heading', 1), ('subsection', 36), ('sourceCredit', 1), ('notes', 1)]\n",
      "     /us/usc/t42/s6297: [('num', 1), ('heading', 1), ('subsection', 7), ('sourceCredit', 1), ('notes', 1)]\n",
      "     /us/usc/t42/s6311: [('num', 1), ('heading', 1), ('chapeau', 1), ('paragraph', 24), ('sourceCredit', 1), ('notes', 1)]\n",
      "     /us/usc/t42/s6313: [('num', 1), ('heading', 1), ('subsection', 7), ('sourceCredit', 1), ('notes', 1)]\n",
      "     /us/usc/t42/s6601: [('num', 1), ('heading', 1), ('subsection', 2), ('sourceCredit', 1), ('note', 26)]\n",
      "     /us/usc/t42/s6924: [('num', 1), ('heading', 1), ('subsection', 25), ('sourceCredit', 1), ('notes', 1)]\n",
      "     /us/usc/t42/s6925: [('num', 1), ('heading', 1), ('subsection', 10), ('sourceCredit', 1), ('notes', 1)]\n",
      "    /us/usc/t42/s6991b: [('num', 1), ('heading', 1), ('subsection', 10), ('sourceCredit', 1), ('notes', 1)]\n",
      "     /us/usc/t42/s7401: [('num', 1), ('heading', 1), ('subsection', 3), ('sourceCredit', 1), ('note', 33)]\n",
      "     /us/usc/t42/s7403: [('num', 1), ('heading', 1), ('subsection', 11), ('sourceCredit', 1), ('notes', 1)]\n",
      "     /us/usc/t42/s7407: [('num', 1), ('heading', 1), ('subsection', 5), ('sourceCredit', 1), ('notes', 1)]\n",
      "     /us/usc/t42/s7410: [('num', 1), ('heading', 1), ('subsection', 15), ('sourceCredit', 1), ('notes', 1)]\n",
      "     /us/usc/t42/s7411: [('num', 1), ('heading', 1), ('subsection', 10), ('sourceCredit', 1), ('notes', 1)]\n",
      "     /us/usc/t42/s7412: [('num', 1), ('heading', 1), ('subsection', 17), ('num', 1), ('heading', 1), ('paragraph', 11), ('subsection', 1), ('sourceCredit', 1), ('note', 17)]\n",
      "     /us/usc/t42/s7413: [('num', 1), ('heading', 1), ('subsection', 8), ('sourceCredit', 1), ('notes', 1)]\n",
      "    /us/usc/t42/s7511a: [('num', 1), ('heading', 1), ('subsection', 10), ('sourceCredit', 1), ('notes', 1)]\n",
      "     /us/usc/t42/s7521: [('num', 1), ('heading', 1), ('subsection', 14), ('sourceCredit', 1), ('note', 14)]\n",
      "     /us/usc/t42/s7545: [('num', 1), ('heading', 1), ('subsection', 14), ('num', 1), ('heading', 1), ('paragraph', 12), ('subsection', 6), ('sourceCredit', 1), ('note', 18)]\n",
      "     /us/usc/t42/s7607: [('num', 1), ('heading', 1), ('subsection', 8), ('sourceCredit', 1), ('notes', 1)]\n",
      "    /us/usc/t42/s7651c: [('num', 1), ('heading', 1), ('subsection', 4), ('num', 1), ('heading', 1), ('paragraph', 2), ('num', 1), ('content', 1), ('subsection', 3), ('sourceCredit', 1)]\n",
      "    /us/usc/t42/s7651d: [('num', 1), ('heading', 1), ('subsection', 10), ('sourceCredit', 1), ('notes', 1)]\n",
      "     /us/usc/t42/s7675: [('num', 1), ('heading', 1), ('subsection', 11), ('sourceCredit', 1), ('notes', 1)]\n",
      "     /us/usc/t42/s7704: [('num', 1), ('heading', 1), ('subsection', 3), ('sourceCredit', 1), ('note', 13)]\n",
      "     /us/usc/t42/s7706: [('num', 1), ('heading', 1), ('subsection', 4), ('sourceCredit', 1), ('notes', 1)]\n",
      "     /us/usc/t42/s8011: [('num', 1), ('heading', 1), ('subsection', 15), ('sourceCredit', 1), ('notes', 1)]\n",
      "     /us/usc/t42/s8013: [('num', 1), ('heading', 1), ('subsection', 14), ('sourceCredit', 1), ('notes', 1)]\n",
      "     /us/usc/t42/s8253: [('num', 1), ('heading', 1), ('subsection', 9), ('sourceCredit', 1), ('notes', 1)]\n",
      "     /us/usc/t42/s8624: [('num', 1), ('heading', 1), ('subsection', 12), ('sourceCredit', 1), ('notes', 1)]\n",
      "     /us/usc/t42/s9601: [('num', 1), ('heading', 1), ('chapeau', 1), ('paragraph', 41), ('sourceCredit', 1), ('note', 17)]\n",
      "     /us/usc/t42/s9604: [('num', 1), ('heading', 1), ('subsection', 11), ('sourceCredit', 1), ('notes', 1)]\n",
      "     /us/usc/t42/s9607: [('num', 1), ('heading', 1), ('subsection', 18), ('sourceCredit', 1), ('notes', 1)]\n",
      "     /us/usc/t42/s9611: [('num', 1), ('heading', 1), ('subsection', 16), ('sourceCredit', 1), ('notes', 1)]\n",
      "     /us/usc/t42/s9620: [('num', 1), ('heading', 1), ('subsection', 10), ('sourceCredit', 1), ('notes', 1)]\n",
      "     /us/usc/t42/s9622: [('num', 1), ('heading', 1), ('subsection', 13), ('sourceCredit', 1), ('notes', 1)]\n",
      "     /us/usc/t42/s9660: [('num', 1), ('heading', 1), ('subsection', 7), ('sourceCredit', 1), ('notes', 1)]\n",
      "     /us/usc/t42/s9831: [('num', 1), ('heading', 1), ('chapeau', 1), ('paragraph', 2), ('sourceCredit', 1), ('notes', 1)]\n",
      "     /us/usc/t42/s9835: [('num', 1), ('heading', 1), ('subsection', 15), ('sourceCredit', 1), ('note', 2), ('heading', 1), ('p', 112), ('note', 7)]\n",
      "     /us/usc/t42/s9836: [('num', 1), ('heading', 1), ('subsection', 8), ('sourceCredit', 1), ('notes', 1)]\n",
      "    /us/usc/t42/s9836a: [('num', 1), ('heading', 1), ('subsection', 8), ('sourceCredit', 1), ('notes', 1)]\n",
      "     /us/usc/t42/s9837: [('num', 1), ('heading', 1), ('subsection', 9), ('sourceCredit', 1), ('notes', 1)]\n",
      "     /us/usc/t42/s9843: [('num', 1), ('heading', 1), ('subsection', 7), ('sourceCredit', 1), ('notes', 1)]\n",
      "     /us/usc/t42/s9844: [('num', 1), ('heading', 1), ('subsection', 13), ('sourceCredit', 1), ('notes', 1)]\n",
      "    /us/usc/t42/s9858c: [('num', 1), ('heading', 1), ('subsection', 2), ('num', 1), ('heading', 1), ('paragraph', 5), ('subsection', 1), ('sourceCredit', 1), ('notes', 1)]\n",
      "    /us/usc/t42/s10301: [('num', 1), ('heading', 1), ('chapeau', 1), ('paragraph', 9), ('sourceCredit', 1), ('note', 10)]\n",
      "    /us/usc/t42/s11389: [('num', 1), ('heading', 1), ('chapeau', 1), ('paragraph', 2), ('sourceCredit', 1), ('notes', 1)]\n",
      "    /us/usc/t42/s11411: [('num', 1), ('heading', 1), ('subsection', 9), ('sourceCredit', 1), ('notes', 1)]\n",
      "    /us/usc/t42/s11432: [('num', 1), ('heading', 1), ('subsection', 7), ('sourceCredit', 1), ('notes', 1)]\n",
      "    /us/usc/t42/s12501: [('num', 1), ('heading', 1), ('subsection', 2), ('sourceCredit', 1), ('note', 20)]\n",
      "    /us/usc/t42/s12511: [('num', 1), ('heading', 1), ('chapeau', 1), ('paragraph', 49), ('sourceCredit', 1), ('notes', 1)]\n",
      "    /us/usc/t42/s12572: [('num', 1), ('heading', 1), ('subsection', 11), ('sourceCredit', 1), ('notes', 1)]\n",
      "    /us/usc/t42/s12651: [('num', 1), ('heading', 1), ('content', 1), ('sourceCredit', 1), ('note', 15)]\n",
      "   /us/usc/t42/s12651d: [('num', 1), ('heading', 1), ('subsection', 9), ('sourceCredit', 1), ('notes', 1)]\n",
      "    /us/usc/t42/s15907: [('num', 1), ('heading', 1), ('subsection', 8), ('sourceCredit', 1), ('notes', 1)]\n",
      "    /us/usc/t42/s17231: [('num', 1), ('heading', 1), ('subsection', 17), ('sourceCredit', 1), ('notes', 1)]\n",
      "    /us/usc/t42/s18001: [('num', 1), ('heading', 1), ('subsection', 7), ('sourceCredit', 1), ('note', 12)]\n",
      "    /us/usc/t42/s18031: [('num', 1), ('heading', 1), ('subsection', 11), ('sourceCredit', 1), ('notes', 1)]\n",
      "    /us/usc/t42/s18644: [('num', 1), ('heading', 1), ('subsection', 12), ('sourceCredit', 1), ('notes', 1)]\n",
      "    /us/usc/t42/s18645: [('num', 1), ('heading', 1), ('subsection', 18), ('sourceCredit', 1), ('notes', 1)]\n",
      "    /us/usc/t42/s18741: [('num', 1), ('heading', 1), ('subsection', 6), ('sourceCredit', 1), ('notes', 1)]\n",
      "    /us/usc/t42/s19131: [('num', 1), ('heading', 1), ('chapeau', 1), ('paragraph', 2), ('sourceCredit', 1), ('note', 1), ('heading', 1), ('p', 121), ('signature', 1)]\n",
      "    /us/usc/t42/s19281: [('num', 1), ('heading', 1), ('subsection', 3), ('sourceCredit', 1), ('notes', 1)]\n"
     ]
    }
   ],
   "source": [
    "with output_box(enable=False, height='40em'):\n",
    "    print_with_aligned_keys(breakdown_summaries)"
   ]
  },
  {
   "attachments": {},
   "cell_type": "markdown",
   "metadata": {},
   "source": [
    "### Still to do\n",
    "\n",
    "1. Solve the `<p>` element issue.\n",
    "2. Solve the `<num>` and `<heading>` issue.\n",
    "3. Look for text that is directly in an element whose children we traverse to. Don't lose this text!\n",
    "4. Experiment with semantic search allowing repealed sections to be included or omitted from the search."
   ]
  },
  {
   "cell_type": "code",
   "execution_count": 65,
   "metadata": {},
   "outputs": [],
   "source": [
    "notes_tag = schema_prefix + 'notes'"
   ]
  },
  {
   "cell_type": "code",
   "execution_count": 66,
   "metadata": {},
   "outputs": [
    {
     "data": {
      "text/plain": [
       "7299"
      ]
     },
     "execution_count": 66,
     "metadata": {},
     "output_type": "execute_result"
    }
   ],
   "source": [
    "all_notes = [element for _, element in ET.iterwalk(usc42root, events=('start',), tag=notes_tag)]\n",
    "len(all_notes)"
   ]
  },
  {
   "cell_type": "code",
   "execution_count": 67,
   "metadata": {},
   "outputs": [
    {
     "data": {
      "text/plain": [
       "Counter({'{http://xml.house.gov/schemas/uslm/1.0}section': 7087,\n",
       "         '{http://xml.house.gov/schemas/uslm/1.0}part': 97,\n",
       "         '{http://xml.house.gov/schemas/uslm/1.0}subchapter': 60,\n",
       "         '{http://xml.house.gov/schemas/uslm/1.0}subpart': 37,\n",
       "         '{http://xml.house.gov/schemas/uslm/1.0}chapter': 12,\n",
       "         '{http://xml.house.gov/schemas/uslm/1.0}division': 6})"
      ]
     },
     "execution_count": 67,
     "metadata": {},
     "output_type": "execute_result"
    }
   ],
   "source": [
    "Counter(element.getparent().tag for element in all_notes)"
   ]
  },
  {
   "cell_type": "code",
   "execution_count": 68,
   "metadata": {},
   "outputs": [],
   "source": [
    "big_direct_sections = [\n",
    "    section for section in direct_sections\n",
    "    if usc.count_tokens_xml_clean(section) > embed.CONTEXT_LENGTH\n",
    "]"
   ]
  },
  {
   "cell_type": "code",
   "execution_count": 69,
   "metadata": {},
   "outputs": [
    {
     "data": {
      "text/plain": [
       "356"
      ]
     },
     "execution_count": 69,
     "metadata": {},
     "output_type": "execute_result"
    }
   ],
   "source": [
    "len(big_direct_sections)"
   ]
  },
  {
   "cell_type": "code",
   "execution_count": 70,
   "metadata": {},
   "outputs": [],
   "source": [
    "big_direct_sections_no_notes = copy.deepcopy(big_direct_sections)\n",
    "pruned_notes = []\n",
    "\n",
    "for section in big_direct_sections_no_notes:\n",
    "    for element in section:\n",
    "        if element.tag == notes_tag:\n",
    "            section.remove(element)\n",
    "            pruned_notes.append(element)"
   ]
  },
  {
   "cell_type": "code",
   "execution_count": 71,
   "metadata": {},
   "outputs": [
    {
     "data": {
      "text/plain": [
       "139"
      ]
     },
     "execution_count": 71,
     "metadata": {},
     "output_type": "execute_result"
    }
   ],
   "source": [
    "sum(\n",
    "    1 for section in big_direct_sections_no_notes\n",
    "    if usc.count_tokens_xml_clean(section) > embed.CONTEXT_LENGTH\n",
    ")"
   ]
  },
  {
   "cell_type": "code",
   "execution_count": 72,
   "metadata": {},
   "outputs": [
    {
     "data": {
      "text/plain": [
       "177"
      ]
     },
     "execution_count": 72,
     "metadata": {},
     "output_type": "execute_result"
    }
   ],
   "source": [
    "sum(\n",
    "    1 for notes_element in pruned_notes\n",
    "    if usc.count_tokens_xml_clean(notes_element) > embed.CONTEXT_LENGTH\n",
    ")"
   ]
  },
  {
   "cell_type": "code",
   "execution_count": 73,
   "metadata": {},
   "outputs": [
    {
     "name": "stdout",
     "output_type": "stream",
     "text": [
      "Counter({'/us/usc/t42/s1395ww': 106769,\n",
      "         '/us/usc/t42/s1395w–4': 78519,\n",
      "         '/us/usc/t42/s1396a': 70716,\n",
      "         '/us/usc/t42/s1395l': 65523,\n",
      "         '/us/usc/t42/s1395m': 60549,\n",
      "         '/us/usc/t42/s1395x': 58211,\n",
      "         '/us/usc/t42/s1396b': 50765,\n",
      "         '/us/usc/t42/s6295': 43173,\n",
      "         '/us/usc/t42/s402': 40599,\n",
      "         '/us/usc/t42/s7412': 39573,\n",
      "         '/us/usc/t42/s1786': 35315,\n",
      "         '/us/usc/t42/s7545': 32715,\n",
      "         '/us/usc/t42/s1396r': 32325,\n",
      "         '/us/usc/t42/s1395ss': 32107,\n",
      "         '/us/usc/t42/s1437f': 31864,\n",
      "         '/us/usc/t42/s1395u': 31360,\n",
      "         '/us/usc/t42/s405': 30652,\n",
      "         '/us/usc/t42/s1395w–23': 29404,\n",
      "         '/us/usc/t42/s1383': 28670,\n",
      "         '/us/usc/t42/s1396d': 27860,\n",
      "         '/us/usc/t42/s1396r–8': 26733,\n",
      "         '/us/usc/t42/s1397dd': 25347,\n",
      "         '/us/usc/t42/s1396n': 23985,\n",
      "         '/us/usc/t42/s1395i–3': 23468,\n",
      "         '/us/usc/t42/s1395y': 23010,\n",
      "         '/us/usc/t42/s1758': 22606,\n",
      "         '/us/usc/t42/s1395w–104': 22132,\n",
      "         '/us/usc/t42/s1766': 21580,\n",
      "         '/us/usc/t42/s603': 21153,\n",
      "         '/us/usc/t42/s282': 20901,\n",
      "         '/us/usc/t42/s9604': 19899,\n",
      "         '/us/usc/t42/s415': 18867,\n",
      "         '/us/usc/t42/s1395cc': 18516,\n",
      "         '/us/usc/t42/s1395mm': 17939,\n",
      "         '/us/usc/t42/s1395rr': 17693,\n",
      "         '/us/usc/t42/s1396r–4': 17550,\n",
      "         '/us/usc/t42/s403': 17041,\n",
      "         '/us/usc/t42/s6313': 16762,\n",
      "         '/us/usc/t42/s1395w–22': 16628,\n",
      "         '/us/usc/t42/s6291': 16622,\n",
      "         '/us/usc/t42/s1437d': 16603,\n",
      "         '/us/usc/t42/s671': 16565,\n",
      "         '/us/usc/t42/s300gg–111': 16321,\n",
      "         '/us/usc/t42/s1395f': 16264,\n",
      "         '/us/usc/t42/s1395w–3a': 16067,\n",
      "         '/us/usc/t42/s1397ee': 15647,\n",
      "         '/us/usc/t42/s410': 15567,\n",
      "         '/us/usc/t42/s1395ff': 15230,\n",
      "         '/us/usc/t42/s7651c': 15215,\n",
      "         '/us/usc/t42/s1395yy': 14960,\n",
      "         '/us/usc/t42/s1395w–21': 14763,\n",
      "         '/us/usc/t42/s254b': 14698,\n",
      "         '/us/usc/t42/s233': 14676,\n",
      "         '/us/usc/t42/s9601': 14567,\n",
      "         '/us/usc/t42/s7675': 14456,\n",
      "         '/us/usc/t42/s7521': 14398,\n",
      "         '/us/usc/t42/s1395nn': 14272,\n",
      "         '/us/usc/t42/s666': 14248,\n",
      "         '/us/usc/t42/s9607': 14054,\n",
      "         '/us/usc/t42/s7511a': 13678,\n",
      "         '/us/usc/t42/s1396u–2': 13668,\n",
      "         '/us/usc/t42/s1395w–141': 13568,\n",
      "         '/us/usc/t42/s262': 13519,\n",
      "         '/us/usc/t42/s401': 13244,\n",
      "         '/us/usc/t42/s2210': 13195,\n",
      "         '/us/usc/t42/s653': 13163,\n",
      "         '/us/usc/t42/s1396p': 13070,\n",
      "         '/us/usc/t42/s263b': 12984,\n",
      "         '/us/usc/t42/s6924': 12712,\n",
      "         '/us/usc/t42/s1472': 12708,\n",
      "         '/us/usc/t42/s1761': 12294,\n",
      "         '/us/usc/t42/s300g–1': 12149,\n",
      "         '/us/usc/t42/s8253': 11904,\n",
      "         '/us/usc/t42/s1395w–102': 11885,\n",
      "         '/us/usc/t42/s1437a': 11690,\n",
      "         '/us/usc/t42/s418': 11548,\n",
      "         '/us/usc/t42/s1320a–7a': 11530,\n",
      "         '/us/usc/t42/s9858c': 11524,\n",
      "         '/us/usc/t42/s416': 11523,\n",
      "         '/us/usc/t42/s1485': 11467,\n",
      "         '/us/usc/t42/s423': 11446,\n",
      "         '/us/usc/t42/s300j–12': 11414,\n",
      "         '/us/usc/t42/s8013': 11340,\n",
      "         '/us/usc/t42/s1395w–24': 11180,\n",
      "         '/us/usc/t42/s247d–6b': 11176,\n",
      "         '/us/usc/t42/s1395w–28': 11123,\n",
      "         '/us/usc/t42/s11432': 10802,\n",
      "         '/us/usc/t42/s8011': 10747,\n",
      "         '/us/usc/t42/s300g–3': 10680,\n",
      "         '/us/usc/t42/s658a': 10611,\n",
      "         '/us/usc/t42/s9835': 10518,\n",
      "         '/us/usc/t42/s1395r': 10465,\n",
      "         '/us/usc/t42/s19281': 10398,\n",
      "         '/us/usc/t42/s1396t': 10320,\n",
      "         '/us/usc/t42/s711': 10291,\n",
      "         '/us/usc/t42/s12572': 10274,\n",
      "         '/us/usc/t42/s1308': 10116,\n",
      "         '/us/usc/t42/s1437g': 10033,\n",
      "         '/us/usc/t42/s1759a': 9979,\n",
      "         '/us/usc/t42/s247d–6d': 9978,\n",
      "         '/us/usc/t42/s5106a': 9966,\n",
      "         '/us/usc/t42/s1382': 9736,\n",
      "         '/us/usc/t42/s15907': 9735,\n",
      "         '/us/usc/t42/s1395i': 9653,\n",
      "         '/us/usc/t42/s1103': 9610,\n",
      "         '/us/usc/t42/s503': 9569,\n",
      "         '/us/usc/t42/s1320f–1': 9567,\n",
      "         '/us/usc/t42/s1395eee': 9531,\n",
      "         '/us/usc/t42/s1395w–3': 9498,\n",
      "         '/us/usc/t42/s7410': 9415,\n",
      "         '/us/usc/t42/s7403': 9316,\n",
      "         '/us/usc/t42/s1320e': 9271,\n",
      "         '/us/usc/t42/s3012': 9206,\n",
      "         '/us/usc/t42/s1396u–4': 9166,\n",
      "         '/us/usc/t42/s3002': 9154,\n",
      "         '/us/usc/t42/s9836a': 9125,\n",
      "         '/us/usc/t42/s290aa': 9098,\n",
      "         '/us/usc/t42/s18644': 9066,\n",
      "         '/us/usc/t42/s652': 9013,\n",
      "         '/us/usc/t42/s1586': 8937,\n",
      "         '/us/usc/t42/s300gg–26': 8905,\n",
      "         '/us/usc/t42/s18031': 8892,\n",
      "         '/us/usc/t42/s409': 8826,\n",
      "         '/us/usc/t42/s247d–7e': 8823,\n",
      "         '/us/usc/t42/s609': 8805,\n",
      "         '/us/usc/t42/s1320a–7': 8799,\n",
      "         '/us/usc/t42/s411': 8792,\n",
      "         '/us/usc/t42/s1320b–9a': 8731,\n",
      "         '/us/usc/t42/s1395w–114': 8691,\n",
      "         '/us/usc/t42/s17231': 8674,\n",
      "         '/us/usc/t42/s608': 8668,\n",
      "         '/us/usc/t42/s263a': 8630,\n",
      "         '/us/usc/t42/s1395w–27': 8569,\n",
      "         '/us/usc/t42/s654': 8503,\n",
      "         '/us/usc/t42/s1760': 8473,\n",
      "         '/us/usc/t42/s9622': 8413,\n",
      "         '/us/usc/t42/s2160e': 8403,\n",
      "         '/us/usc/t42/s6991b': 8389,\n",
      "         '/us/usc/t42/s7651d': 8302})\n"
     ]
    }
   ],
   "source": [
    "too_long_without_notes = Counter({\n",
    "    section.attrib['identifier']: count\n",
    "    for section in big_direct_sections_no_notes\n",
    "    if (count := usc.count_tokens_xml_clean(section)) > embed.CONTEXT_LENGTH\n",
    "})\n",
    "\n",
    "pp(too_long_without_notes)"
   ]
  },
  {
   "cell_type": "code",
   "execution_count": 74,
   "metadata": {},
   "outputs": [],
   "source": [
    "# This doesn't work, because the parents don't always have \"identifier\" attributes.\n",
    "\n",
    "# too_long_pruned_notes = Counter({\n",
    "#    'notes in ' + notes_element.getparent().attrib['identifier']: count\n",
    "#    for notes_element in pruned_notes\n",
    "#    if (count := usc.count_tokens_xml_clean(notes_element)) > embed.CONTEXT_LENGTH\n",
    "# })\n",
    "#\n",
    "# pp(too_long_pruned_notes)"
   ]
  },
  {
   "cell_type": "code",
   "execution_count": 75,
   "metadata": {},
   "outputs": [
    {
     "data": {
      "application/vnd.jupyter.widget-view+json": {
       "model_id": "9e5716b2df994a07bb591000bbc84448",
       "version_major": 2,
       "version_minor": 0
      },
      "text/plain": [
       "Output(layout=Layout(height='28em'))"
      ]
     },
     "metadata": {},
     "output_type": "display_data"
    }
   ],
   "source": [
    "# Instead, just examine the token counts for \"notes\" elements too big to embed.\n",
    "too_long_pruned_notes_counts = [\n",
    "    count for notes_element in pruned_notes\n",
    "    if (count := usc.count_tokens_xml_clean(notes_element)) > embed.CONTEXT_LENGTH\n",
    "]\n",
    "\n",
    "with output_box():\n",
    "    display(sorted(too_long_pruned_notes_counts, reverse=True))"
   ]
  },
  {
   "cell_type": "code",
   "execution_count": 76,
   "metadata": {},
   "outputs": [],
   "source": [
    "small_direct_sections = [\n",
    "    section for section in direct_sections\n",
    "    if usc.count_tokens_xml_clean(section) <= embed.CONTEXT_LENGTH\n",
    "]"
   ]
  },
  {
   "cell_type": "code",
   "execution_count": 77,
   "metadata": {},
   "outputs": [
    {
     "data": {
      "text/plain": [
       "8029"
      ]
     },
     "execution_count": 77,
     "metadata": {},
     "output_type": "execute_result"
    }
   ],
   "source": [
    "len(small_direct_sections)"
   ]
  },
  {
   "cell_type": "code",
   "execution_count": 78,
   "metadata": {},
   "outputs": [
    {
     "data": {
      "text/plain": [
       "10311221"
      ]
     },
     "execution_count": 78,
     "metadata": {},
     "output_type": "execute_result"
    }
   ],
   "source": [
    "all_small_count = sum(\n",
    "    usc.count_tokens_xml_clean(section) for section in small_direct_sections\n",
    ")\n",
    "all_small_count"
   ]
  },
  {
   "cell_type": "code",
   "execution_count": 79,
   "metadata": {},
   "outputs": [
    {
     "data": {
      "text/plain": [
       "7626286"
      ]
     },
     "execution_count": 79,
     "metadata": {},
     "output_type": "execute_result"
    }
   ],
   "source": [
    "all_big_count = sum(\n",
    "    usc.count_tokens_xml_clean(section) for section in big_direct_sections\n",
    ")\n",
    "all_big_count"
   ]
  },
  {
   "cell_type": "code",
   "execution_count": 80,
   "metadata": {},
   "outputs": [],
   "source": [
    "all_count = all_small_count + all_big_count"
   ]
  },
  {
   "cell_type": "code",
   "execution_count": 81,
   "metadata": {},
   "outputs": [
    {
     "data": {
      "text/plain": [
       "0.5748413645218369"
      ]
     },
     "execution_count": 81,
     "metadata": {},
     "output_type": "execute_result"
    }
   ],
   "source": [
    "all_small_count / all_count"
   ]
  },
  {
   "cell_type": "code",
   "execution_count": 82,
   "metadata": {},
   "outputs": [
    {
     "data": {
      "text/plain": [
       "0.4251586354781632"
      ]
     },
     "execution_count": 82,
     "metadata": {},
     "output_type": "execute_result"
    }
   ],
   "source": [
    "all_big_count / all_count"
   ]
  },
  {
   "cell_type": "code",
   "execution_count": 83,
   "metadata": {},
   "outputs": [
    {
     "data": {
      "text/plain": [
       "1341545"
      ]
     },
     "execution_count": 83,
     "metadata": {},
     "output_type": "execute_result"
    }
   ],
   "source": [
    "ok_with_pruned_notes_count = sum(\n",
    "    section_count + notes_count\n",
    "    for section, notes in zip(big_direct_sections_no_notes, pruned_notes)\n",
    "    if (section_count := usc.count_tokens_xml_clean(section))\n",
    "        <= embed.CONTEXT_LENGTH\n",
    "    if (notes_count := usc.count_tokens_xml_clean(notes))\n",
    "        <= embed.CONTEXT_LENGTH\n",
    ")\n",
    "ok_with_pruned_notes_count"
   ]
  },
  {
   "cell_type": "code",
   "execution_count": 84,
   "metadata": {},
   "outputs": [
    {
     "data": {
      "text/plain": [
       "7249168"
      ]
     },
     "execution_count": 84,
     "metadata": {},
     "output_type": "execute_result"
    }
   ],
   "source": [
    "big_with_pruned_notes_count = sum(\n",
    "    section_count + notes_count\n",
    "    for section, notes in zip(big_direct_sections_no_notes, pruned_notes)\n",
    "    if ((section_count := usc.count_tokens_xml_clean(section))\n",
    "        > embed.CONTEXT_LENGTH)\n",
    "     | ((notes_count := usc.count_tokens_xml_clean(notes))\n",
    "        > embed.CONTEXT_LENGTH)\n",
    ")\n",
    "big_with_pruned_notes_count"
   ]
  },
  {
   "cell_type": "code",
   "execution_count": 85,
   "metadata": {},
   "outputs": [],
   "source": [
    "all_big_split_count = ok_with_pruned_notes_count + big_with_pruned_notes_count"
   ]
  },
  {
   "cell_type": "code",
   "execution_count": 86,
   "metadata": {},
   "outputs": [
    {
     "data": {
      "text/plain": [
       "True"
      ]
     },
     "execution_count": 86,
     "metadata": {},
     "output_type": "execute_result"
    }
   ],
   "source": [
    "# A simple check for the above logic (should be True).\n",
    "all_big_split_count == sum(\n",
    "    usc.count_tokens_xml_clean(section) + usc.count_tokens_xml_clean(notes)\n",
    "    for section, notes in zip(big_direct_sections_no_notes, pruned_notes)\n",
    ")"
   ]
  },
  {
   "cell_type": "code",
   "execution_count": 87,
   "metadata": {},
   "outputs": [
    {
     "data": {
      "text/plain": [
       "8590713"
      ]
     },
     "execution_count": 87,
     "metadata": {},
     "output_type": "execute_result"
    }
   ],
   "source": [
    "all_big_split_count"
   ]
  },
  {
   "cell_type": "code",
   "execution_count": 88,
   "metadata": {},
   "outputs": [
    {
     "data": {
      "text/plain": [
       "0.15616224171381352"
      ]
     },
     "execution_count": 88,
     "metadata": {},
     "output_type": "execute_result"
    }
   ],
   "source": [
    "ok_with_pruned_notes_count / all_big_split_count"
   ]
  },
  {
   "cell_type": "code",
   "execution_count": 89,
   "metadata": {},
   "outputs": [
    {
     "data": {
      "text/plain": [
       "-964427"
      ]
     },
     "execution_count": 89,
     "metadata": {},
     "output_type": "execute_result"
    }
   ],
   "source": [
    "# Shouldn't this be a small positive number, rather than a moderately large\n",
    "# negative number?\n",
    "all_big_count - all_big_split_count"
   ]
  },
  {
   "cell_type": "code",
   "execution_count": 90,
   "metadata": {},
   "outputs": [
    {
     "name": "stdout",
     "output_type": "stream",
     "text": [
      "<ns0:notes xmlns:ns0=\"http://xml.house.gov/schemas/uslm/1.0\" type=\"uscNote\" id=\"idb109d7c6-d970-11ed-a113-e530e1711693\"> <ns0:note\n",
      "style=\"-uslm-lc:I74\" role=\"crossHeading\" topic=\"editorialNotes\" id=\"idb109d7c7-d970-11ed-a113-e530e1711693\"><ns0:heading\n",
      "class=\"centered\"><ns0:b>Editorial Notes</ns0:b></ns0:heading></ns0:note> <ns0:note style=\"-uslm-lc:I75\" topic=\"referencesInText\"\n",
      "id=\"idb109d7c8-d970-11ed-a113-e530e1711693\"> <ns0:heading class=\"centered smallCaps\">References in Text</ns0:heading><ns0:p style=\"-uslm-\n",
      "lc:I21\" class=\"indent0\"><ns0:ref href=\"/us/usc/t42/s246/g\">Section 246(g) of this title</ns0:ref>, referred to in subsec. (f), was repealed\n",
      "by <ns0:ref href=\"/us/pl/96/398/tI/s107/d\">Pub. L. 96–398, title I, § 107(d)</ns0:ref>, <ns0:date date=\"1980-10-07\">Oct. 7, 1980</ns0:date>,\n",
      "<ns0:ref href=\"/us/stat/94/1571\">94 Stat. 1571</ns0:ref>.</ns0:p> <ns0:p style=\"-uslm-lc:I21\" class=\"indent0\"><ns0:ref\n",
      "href=\"/us/usc/t42/s247c/c/1\">Section 247c(c)(1) of this title</ns0:ref>, referred to in subsec. (f), was repealed by <ns0:ref\n",
      "href=\"/us/pl/94/317/tII/s203/f/1\">Pub. L. 94–317, title II, § 203(f)(1)</ns0:ref>, <ns0:date date=\"1976-06-23\">June 23, 1976</ns0:date>,\n",
      "<ns0:ref href=\"/us/stat/90/704\">90 Stat. 704</ns0:ref>.</ns0:p> <ns0:p style=\"-uslm-lc:I21\" class=\"indent0\"><ns0:ref\n",
      "href=\"/us/usc/t42/s254d/h/3\">Section 254d(h)(3) of this title</ns0:ref>, referred to in subsec. (f), was redesignated <ns0:ref\n",
      "href=\"/us/usc/t42/s254d/i/4\">section 254d(i)(4) of this title</ns0:ref> by <ns0:ref href=\"/us/pl/100/177/tII/s202/b/5\">Pub. L. 100–177,\n",
      "title II, § 202(b)(5)</ns0:ref>, title III, § 301(1), <ns0:date date=\"1987-12-01\">Dec. 1, 1987</ns0:date>, <ns0:ref\n",
      "href=\"/us/stat/101/996\">101 Stat. 996</ns0:ref>, 1003, and was subsequently redesignated <ns0:ref href=\"/us/usc/t42/s254d/j/4\">section\n",
      "254d(j)(4) of this title</ns0:ref> by <ns0:ref href=\"/us/pl/107/251/tIII/s301/b/1\">Pub. L. 107–251, title III, § 301(b)(1)</ns0:ref>,\n",
      "<ns0:date date=\"2002-10-26\">Oct. 26, 2002</ns0:date>, <ns0:ref href=\"/us/stat/116/1643\">116 Stat. 1643</ns0:ref>.</ns0:p> <ns0:p\n",
      "style=\"-uslm-lc:I21\" class=\"indent0\"><ns0:ref href=\"/us/usc/t42/s263c/5\">Section 263c(5) of this title</ns0:ref>, referred to in subsec.\n",
      "(f), was in the original a reference to section 355(5) of the Public Health Service Act which was redesignated section 531(5) of the Federal\n",
      "Food, Drug, and Cosmetic Act by <ns0:ref href=\"/us/pl/101/629/s19/a/3\">Pub. L. 101–629, § 19(a)(3)</ns0:ref>, <ns0:date\n",
      "date=\"1990-11-28\">Nov. 28, 1990</ns0:date>, <ns0:ref href=\"/us/stat/104/4530\">104 Stat. 4530</ns0:ref>, and is now classified to <ns0:ref\n",
      "href=\"/us/usc/t21/s360hh/5\">section 360hh(5) of Title 21</ns0:ref>, Food and Drugs.</ns0:p> <ns0:p style=\"-uslm-lc:I21\"\n",
      "class=\"indent0\"><ns0:ref href=\"/us/usc/t42/s292a\">Section 292a of this title</ns0:ref>, referred to in subsec. (f), contained definitions\n",
      "for purposes of subchapter V of this chapter prior to the general revision of subchapter V by <ns0:ref href=\"/us/pl/102/408/tI/s102\">Pub. L.\n",
      "102–408, title I, § 102</ns0:ref>, <ns0:date date=\"1992-10-13\">Oct. 13, 1992</ns0:date>, <ns0:ref href=\"/us/stat/106/1994\">106 Stat.\n",
      "1994</ns0:ref>. See sections 292<ns0:i>o</ns0:i> and 295p of this title.</ns0:p> <ns0:p style=\"-uslm-lc:I21\" class=\"indent0\"><ns0:ref\n",
      "href=\"/us/usc/t42/s300n\">Section 300n of this title</ns0:ref>, referred to in subsec. (f), was repealed by <ns0:ref\n",
      "href=\"/us/pl/99/660/tVII/s701/a\">Pub. L. 99–660, title VII, § 701(a)</ns0:ref>, <ns0:date date=\"1986-11-14\">Nov. 14, 1986</ns0:date>,\n",
      "<ns0:ref href=\"/us/stat/100/3799\">100 Stat. 3799</ns0:ref>.</ns0:p> <ns0:p style=\"-uslm-lc:I21\" class=\"indent0\"><ns0:ref\n",
      "href=\"/us/usc/t26/s4731/g\">Section 4731(g) of title 26</ns0:ref>, referred to in subsec. (j), was repealed by <ns0:ref\n",
      "href=\"/us/pl/91/513/tIII/s1101/b/3/A\">Pub. L. 91–513, title III, § 1101(b)(3)(A)</ns0:ref>, <ns0:date date=\"1970-10-27\">Oct. 27,\n",
      "1970</ns0:date>, <ns0:ref href=\"/us/stat/84/1292\">84 Stat. 1292</ns0:ref>. A definition of “opiate” is contained in <ns0:ref\n",
      "href=\"/us/pl/91/513/s102\">section 102 of Pub. L. 91–513</ns0:ref>, which is classified to <ns0:ref href=\"/us/usc/t21/s802\">section 802 of\n",
      "Title 21</ns0:ref>, Food and Drugs. Reference to <ns0:ref href=\"/us/usc/t26/s4731/g\">section 4731(g) of title 26</ns0:ref> was substituted\n",
      "for “<ns0:ref href=\"/us/usc/t26/s3228/f\">section 3228(f) of title 26</ns0:ref>” on authority of <ns0:ref href=\"/us/usc/t26/s7852/b\">section\n",
      "7852(b) of Title 26</ns0:ref>, Internal Revenue Code, which provides that a reference in other laws to the Internal Revenue Code of 1939 is\n",
      "deemed a reference to the corresponding provision of the Internal Revenue Code of 1986.</ns0:p> </ns0:note> <ns0:note style=\"-uslm-lc:I76\"\n",
      "topic=\"codification\" id=\"idb109d7c9-d970-11ed-a113-e530e1711693\"><ns0:heading class=\"centered smallCaps\">Codification</ns0:heading> <ns0:p\n",
      "style=\"-uslm-lc:I21\" class=\"indent0\">Section was enacted as part of title I of <ns0:ref href=\"/us/act/1944-07-01/ch373\">act July 1, 1944,\n",
      "ch. 373</ns0:ref>, <ns0:ref href=\"/us/stat/58/682\">58 Stat. 682</ns0:ref>, and not as part of title II of such Act which comprises this\n",
      "subchapter.</ns0:p> </ns0:note> <ns0:note style=\"-uslm-lc:I74\" topic=\"amendments\" id=\"idb109d7ca-d970-11ed-a113-e530e1711693\"><ns0:heading\n",
      "class=\"centered smallCaps\">Amendments</ns0:heading><ns0:p style=\"-uslm-lc:I21\" class=\"indent0\">1993—Subsec. (c). <ns0:ref\n",
      "href=\"/us/pl/103/43\">Pub. L. 103–43</ns0:ref> substituted “Health and Human Services” for “Health, Education, and Welfare”.</ns0:p> <ns0:p\n",
      "style=\"-uslm-lc:I21\" class=\"indent0\">1981—Subsec. (f). <ns0:ref href=\"/us/pl/97/35/s902/d/5\">Pub. L. 97–35, § 902(d)(5)</ns0:ref>, struck\n",
      "out reference to <ns0:ref href=\"/us/usc/t42/s300d/2\">section 300d(2) of this title</ns0:ref>.</ns0:p> <ns0:p style=\"-uslm-lc:I21\"\n",
      "class=\"indent0\">Subsec. (h). <ns0:ref href=\"/us/pl/97/35/s986/a\">Pub. L. 97–35, § 986(a)</ns0:ref>, struck out subsec. (h) which defined\n",
      "“seamen”.</ns0:p> <ns0:p style=\"-uslm-lc:I21\" class=\"indent0\">1979—Subsec. (f). <ns0:ref href=\"/us/pl/96/79\">Pub. L. 96–79</ns0:ref> struck\n",
      "out from enumeration of excepted sections reference to <ns0:ref href=\"/us/usc/t42/s300s–3/1\">section 300s–3(1) of this\n",
      "title</ns0:ref>.</ns0:p> <ns0:p style=\"-uslm-lc:I21\" class=\"indent0\">1977—Subsec. (f). <ns0:ref href=\"/us/pl/95/83\">Pub. L. 95–83</ns0:ref>\n",
      "expanded definition of “State” to include American Samoa and the Trust Territory of the Pacific Islands.</ns0:p> <ns0:p style=\"-uslm-lc:I21\"\n",
      "class=\"indent0\">1976—Subsec. (f). <ns0:ref href=\"/us/pl/94/484\">Pub. L. 94–484</ns0:ref> amended subsec. (f) generally.</ns0:p> <ns0:p\n",
      "style=\"-uslm-lc:I21\" class=\"indent0\"><ns0:ref href=\"/us/pl/94/317\">Pub. L. 94–317</ns0:ref> substituted provisions defining, with certain\n",
      "specific exceptions, “State” to include the several States, the District of Columbia, Guam, Puerto Rico and the Virgin Islands for\n",
      "provisions defining “State” to include a State or the District of Columbia, Puerto Rico, or the Virgin Islands, except in <ns0:ref\n",
      "href=\"/us/usc/t42/s264/d\">section 264(d) of this title</ns0:ref> such term means a State or the District of Columbia, and in subchapter XII\n",
      "of this chapter such term includes Guam, American Samoa, and the Trust Territory of the Pacific Islands.</ns0:p> <ns0:p style=\"-uslm-lc:I21\"\n",
      "class=\"indent0\">1974—Subsec. (f). <ns0:ref href=\"/us/pl/93/523\">Pub. L. 93–523</ns0:ref> designated existing provisions as cl. (1) and added\n",
      "cl. (2).</ns0:p> <ns0:p style=\"-uslm-lc:I21\" class=\"indent0\">1970—Subsec. (c). <ns0:ref href=\"/us/pl/91/212\">Pub. L. 91–212</ns0:ref>\n",
      "amended subsec. (c) generally. Prior to amendment, subsec. (c) read as follows: “The term ‘Administrator’ means the Federal Security\n",
      "Administrator;”.</ns0:p> <ns0:p style=\"-uslm-lc:I21\" class=\"indent0\">Subsec. (q). <ns0:ref href=\"/us/pl/91/513\">Pub. L. 91–513</ns0:ref>\n",
      "added subsec. (q).</ns0:p> <ns0:p style=\"-uslm-lc:I21\" class=\"indent0\">1960—Subsec. (f). <ns0:ref href=\"/us/pl/86/624\">Pub. L.\n",
      "86–624</ns0:ref> struck out “Hawaii,” before “Puerto Rico”.</ns0:p> <ns0:p style=\"-uslm-lc:I21\" class=\"indent0\">Subsec. (p). <ns0:ref\n",
      "href=\"/us/pl/86/415\">Pub. L. 86–415</ns0:ref> added subsec. (p).</ns0:p> <ns0:p style=\"-uslm-lc:I21\" class=\"indent0\">1959—Subsec. (f).\n",
      "<ns0:ref href=\"/us/pl/86/70\">Pub. L. 86–70</ns0:ref> struck out “Alaska,” after “Hawaii,” and substituted “or the District of Columbia” for\n",
      "“, the District of Columbia, or Alaska”.</ns0:p> <ns0:p style=\"-uslm-lc:I21\" class=\"indent0\">1948—Subsec. (j). Act <ns0:date\n",
      "date=\"1948-02-28\">Feb. 28, 1948</ns0:date>, inserted “isonipecaine and its derivatives, compounds, salts, and preparations; opiates (as\n",
      "defined in <ns0:ref href=\"/us/usc/t26/s4731/g\">section 4731(g) of title 26</ns0:ref>)”.</ns0:p> <ns0:p style=\"-uslm-lc:I21\"\n",
      "class=\"indent0\">Subsec. (n). Act <ns0:date date=\"1948-06-16\">June 16, 1948</ns0:date>, added subsec. (n).</ns0:p> <ns0:p style=\"-uslm-\n",
      "lc:I21\" class=\"indent0\">Subsec. (<ns0:i>o</ns0:i>). Act <ns0:date date=\"1948-06-24\">June 24, 1948</ns0:date>, added subsec.\n",
      "(<ns0:i>o</ns0:i>).</ns0:p> <ns0:p style=\"-uslm-lc:I21\" class=\"indent0\">1946—Subsecs. (<ns0:i>l</ns0:i>), (m). Act <ns0:date\n",
      "date=\"1946-07-03\">July 3, 1946</ns0:date>, added subsecs. (<ns0:i>l</ns0:i>) and (m).</ns0:p> </ns0:note> <ns0:note style=\"-uslm-lc:I74\"\n",
      "role=\"crossHeading\" topic=\"statutoryNotes\" id=\"idb10c48cb-d970-11ed-a113-e530e1711693\"><ns0:heading class=\"centered\"><ns0:b>Statutory Notes\n",
      "and Related Subsidiaries</ns0:b></ns0:heading></ns0:note> <ns0:note style=\"-uslm-lc:I78\" topic=\"changeOfName\"\n",
      "id=\"idb10c48cc-d970-11ed-a113-e530e1711693\"> <ns0:heading class=\"centered smallCaps\">Change of Name</ns0:heading> <ns0:p style=\"-uslm-\n",
      "lc:I21\" class=\"indent0\">“Secretary of Health and Human Services” substituted in text for “Secretary of Health, Education, and Welfare”\n",
      "pursuant to <ns0:ref href=\"/us/pl/96/88/s509/b\">section 509(b) of Pub. L. 96–88</ns0:ref>, which is classified to <ns0:ref\n",
      "href=\"/us/usc/t20/s3508/b\">section 3508(b) of Title 20</ns0:ref>, Education.</ns0:p> </ns0:note> <ns0:note style=\"-uslm-lc:I74\"\n",
      "topic=\"effectiveDateOfAmendment\" id=\"idb10c48cd-d970-11ed-a113-e530e1711693\"><ns0:heading class=\"centered smallCaps\">Effective Date of 2000\n",
      "Amendment</ns0:heading><ns0:p><ns0:ref href=\"/us/pl/106/310/dA/tXXIX/s2901\">Pub. L. 106–310, div. A, title XXIX, § 2901</ns0:ref>, <ns0:date\n",
      "date=\"2000-10-17\">Oct. 17, 2000</ns0:date>, <ns0:ref href=\"/us/stat/114/1168\">114 Stat. 1168</ns0:ref>, provided that: <ns0:quotedContent\n",
      "origin=\"/us/pl/106/310/dA/tXXIX/s2901\">“This division [see Tables for classification] and the amendments made by this division take effect\n",
      "<ns0:date date=\"2000-10-01\">October 1, 2000</ns0:date>, or upon the date of the enactment of this Act [<ns0:date date=\"2000-10-17\">Oct. 17,\n",
      "2000</ns0:date>], whichever occurs later.”</ns0:quotedContent> </ns0:p> </ns0:note> <ns0:note style=\"-uslm-lc:I74\"\n",
      "topic=\"effectiveDateOfAmendment\" id=\"idb10c48ce-d970-11ed-a113-e530e1711693\"><ns0:heading class=\"centered smallCaps\">Effective Date of 1993\n",
      "Amendment</ns0:heading><ns0:p><ns0:ref href=\"/us/pl/103/43/tXXI/s2101\">Pub. L. 103–43, title XXI, § 2101</ns0:ref>, <ns0:date\n",
      "date=\"1993-06-10\">June 10, 1993</ns0:date>, <ns0:ref href=\"/us/stat/107/219\">107 Stat. 219</ns0:ref>, provided that: <ns0:quotedContent\n",
      "origin=\"/us/pl/103/43/tXXI/s2101\">“Subject to section 203(c) [enacting provisions set out as a note under <ns0:ref\n",
      "href=\"/us/usc/t42/s283c\">section 283c of this title</ns0:ref>], this Act [see Short Title of 1993 Amendment note below] and the amendments\n",
      "made by this Act take effect upon the date of the enactment of this Act [<ns0:date date=\"1993-06-10\">June 10,\n",
      "1993</ns0:date>].”</ns0:quotedContent> </ns0:p> </ns0:note> <ns0:note style=\"-uslm-lc:I74\" topic=\"effectiveDateOfAmendment\"\n",
      "id=\"idb10c48cf-d970-11ed-a113-e530e1711693\"><ns0:heading class=\"centered smallCaps\">Effective Date of 1981 Amendment</ns0:heading><ns0:p\n",
      "style=\"-uslm-lc:I21\" class=\"indent0\">Amendment by <ns0:ref href=\"/us/pl/97/35/s902/d/5\">section 902(d)(5) of Pub. L. 97–35</ns0:ref>\n",
      "effective <ns0:date date=\"1981-10-01\">Oct. 1, 1981</ns0:date>, see <ns0:ref href=\"/us/pl/97/35/s902/h\">section 902(h) of Pub. L.\n",
      "97–35</ns0:ref>, set out as a note under section 238<ns0:i>l</ns0:i> of this title.</ns0:p> <ns0:p style=\"-uslm-lc:I21\"\n",
      "class=\"indent0\">Amendment by <ns0:ref href=\"/us/pl/97/35/s986/a\">section 986(a) of Pub. L. 97–35</ns0:ref> effective <ns0:date\n",
      "date=\"1981-10-01\">Oct. 1, 1981</ns0:date>, see <ns0:ref href=\"/us/pl/97/35/s986/c\">section 986(c) of Pub. L. 97–35</ns0:ref>, set out as a\n",
      "note under <ns0:ref href=\"/us/usc/t42/s249\">section 249 of this title</ns0:ref>.</ns0:p> </ns0:note> <ns0:note style=\"-uslm-lc:I74\"\n",
      "topic=\"effectiveDateOfAmendment\" id=\"idb10c48d0-d970-11ed-a113-e530e1711693\"><ns0:heading class=\"centered smallCaps\">Effective Date of 1979\n",
      "Amendment</ns0:heading><ns0:p style=\"-uslm-lc:I21\" class=\"indent0\">Amendment by <ns0:ref href=\"/us/pl/96/79\">Pub. L. 96–79</ns0:ref>\n",
      "effective <ns0:date date=\"1979-10-01\">Oct. 1, 1979</ns0:date>, see <ns0:ref href=\"/us/pl/96/79/s204\">section 204 of Pub. L. 96–79</ns0:ref>,\n",
      "set out as a note under <ns0:ref href=\"/us/usc/t42/s300q\">section 300q of this title</ns0:ref>.</ns0:p> </ns0:note> <ns0:note style=\"-uslm-\n",
      "lc:I74\" topic=\"effectiveDateOfAmendment\" id=\"idb10c48d1-d970-11ed-a113-e530e1711693\"><ns0:heading class=\"centered smallCaps\">Effective Date\n",
      "of 1970 Amendment</ns0:heading><ns0:p><ns0:ref href=\"/us/pl/91/212/s12/b\">Pub. L. 91–212, § 12(b)</ns0:ref>, <ns0:date\n",
      "date=\"1970-03-16\">Mar. 16, 1970</ns0:date>, <ns0:ref href=\"/us/stat/84/67\">84 Stat. 67</ns0:ref>, provided that: <ns0:quotedContent\n",
      "origin=\"/us/pl/91/212/s12/b\">“The amendments made by sections 10(d) and 11 [amending this section and sections 276, 277, 278, 280, 280a–1,\n",
      "280b–2 to 280b–9, and 280b–11 of this title] shall take effect on the date of enactment of this Act [<ns0:date date=\"1970-03-13\">Mar. 13,\n",
      "1970</ns0:date>].”</ns0:quotedContent> </ns0:p> </ns0:note> <ns0:note style=\"-uslm-lc:I74\" topic=\"effectiveDateOfAmendment\"\n",
      "id=\"idb10c48d2-d970-11ed-a113-e530e1711693\"><ns0:heading class=\"centered smallCaps\">Effective Date of 1960\n",
      "Amendment</ns0:heading><ns0:p><ns0:ref href=\"/us/pl/86/624/s47/f\">Pub. L. 86–624, § 47(f)</ns0:ref>, <ns0:date date=\"1960-07-12\">July 12,\n",
      "1960</ns0:date>, <ns0:ref href=\"/us/stat/74/423\">74 Stat. 423</ns0:ref>, provided that: <ns0:quotedContent origin=\"/us/pl/86/624/s47/f\">“The\n",
      "amendments made by subsection (c), paragraphs (3) and (4) of subsection (b), and paragraph (4) of subsection (d) of section 14 [amending\n",
      "sections 15i, 15jj, 15ggg, 244, and 645 of Title 20, Education], by section 20(a) [amending <ns0:ref href=\"/us/usc/t29/s41\">section 41 of\n",
      "Title 29</ns0:ref>, Labor], by section 23(b) [amending <ns0:ref href=\"/us/usc/t33/s466j\">section 466j of Title 33</ns0:ref>, Navigation and\n",
      "Navigable Waters], by subsections (a), (b), and (c), and paragraph (4) of subsection (d), of section 29 [amending this section and sections\n",
      "255, 264, and 291i of this title], and by subsection (d), and paragraph (2) of subsection (c), of section 30 [amending sections 410 and 1301\n",
      "of this title] shall become effective on <ns0:date date=\"1959-08-21\">August 21, 1959</ns0:date>.”</ns0:quotedContent> </ns0:p> </ns0:note>\n",
      "<ns0:note style=\"-uslm-lc:I74\" topic=\"effectiveDateOfAmendment\" id=\"idb10c48d3-d970-11ed-a113-e530e1711693\"><ns0:heading class=\"centered\n",
      "smallCaps\">Effective Date of 1959 Amendment</ns0:heading><ns0:p style=\"-uslm-lc:I21\" class=\"indent0\">Amendment by <ns0:ref\n",
      "href=\"/us/pl/86/70\">Pub. L. 86–70</ns0:ref> effective <ns0:date date=\"1959-01-03\">Jan. 3, 1959</ns0:date>, see <ns0:ref\n",
      "href=\"/us/pl/86/70/s47/d\">section 47(d) of Pub. L. 86–70</ns0:ref>.</ns0:p> </ns0:note> <ns0:note style=\"-uslm-lc:I74\"\n",
      "topic=\"shortTitleOfAmendment\" id=\"idb10c48d4-d970-11ed-a113-e530e1711693\"><ns0:heading class=\"centered smallCaps\">Short Title of 2023\n",
      "Amendment</ns0:heading><ns0:p><ns0:ref href=\"/us/pl/117/356/s1\">Pub. L. 117–356, § 1</ns0:ref>, <ns0:date date=\"2023-01-05\">Jan. 5,\n",
      "2023</ns0:date>, <ns0:ref href=\"/us/stat/136/6282\">136 Stat. 6282</ns0:ref>, provided that: <ns0:quotedContent\n",
      "origin=\"/us/pl/117/356/s1\">“This Act [amending <ns0:ref href=\"/us/usc/t42/s254r\">section 254r of this title</ns0:ref>] may be cited as the\n",
      "‘State Offices of Rural Health Program Reauthorization Act of 2022’.”</ns0:quotedContent> </ns0:p> <ns0:p><ns0:ref\n",
      "href=\"/us/pl/117/350/s1\">Pub. L. 117–350, § 1</ns0:ref>, <ns0:date date=\"2023-01-05\">Jan. 5, 2023</ns0:date>, <ns0:ref\n",
      "href=\"/us/stat/136/6262\">136 Stat. 6262</ns0:ref>, provided that: <ns0:quotedContent origin=\"/us/pl/117/350/s1\">“This Act [amending sections\n",
      "285a–11 and 285a–11a of this title] may be cited as the ‘Childhood Cancer Survivorship, Treatment, Access, and Research Reauthorization Act\n",
      "of 2022’ or the ‘Childhood Cancer STAR Reauthorization Act’.”</ns0:quotedContent> </ns0:p> </ns0:note> <ns0:note style=\"-uslm-lc:I74\"\n",
      "topic=\"shortTitleOfAmendment\" id=\"idb10c48d5-d970-11ed-a113-e530e1711693\"><ns0:heading class=\"centered smallCaps\">Short Title of 2022\n",
      "Amendment</ns0:heading><ns0:p><ns0:ref href=\"/us/pl/117/244/s1\">Pub. L. 117–244, § 1</ns0:ref>, <ns0:date date=\"2022-12-20\">Dec. 20,\n",
      "2022</ns0:date>, <ns0:ref href=\"/us/stat/136/2340\">136 Stat. 2340</ns0:ref>, provided that: <ns0:quotedContent\n",
      "origin=\"/us/pl/117/244/s1\">“This Act [enacting <ns0:ref href=\"/us/usc/t42/s285b–9\">section 285b–9 of this title</ns0:ref>] may be cited as\n",
      "the ‘Cardiovascular Advances in Research and Opportunities Legacy Act’.”</ns0:quotedContent> </ns0:p> <ns0:p><ns0:ref\n",
      "href=\"/us/pl/117/241/s1\">Pub. L. 117–241, § 1</ns0:ref>, <ns0:date date=\"2022-12-20\">Dec. 20, 2022</ns0:date>, <ns0:ref\n",
      "href=\"/us/stat/136/2332\">136 Stat. 2332</ns0:ref>, provided that: <ns0:quotedContent origin=\"/us/pl/117/241/s1\">“This Act [amending <ns0:ref\n",
      "href=\"/us/usc/t42/s280g–1\">section 280g–1 of this title</ns0:ref>] may be cited as the ‘Early Hearing Detection and Intervention Act of\n",
      "2022’.”</ns0:quotedContent> </ns0:p> <ns0:p><ns0:ref href=\"/us/pl/117/204/s1\">Pub. L. 117–204, § 1</ns0:ref>, <ns0:date\n",
      "date=\"2022-10-17\">Oct. 17, 2022</ns0:date>, <ns0:ref href=\"/us/stat/136/2231\">136 Stat. 2231</ns0:ref>, provided that: <ns0:quotedContent\n",
      "origin=\"/us/pl/117/204/s1\">“This Act [amending <ns0:ref href=\"/us/usc/t42/s254b\">section 254b of this title</ns0:ref> and enacting\n",
      "provisions set out as a note under <ns0:ref href=\"/us/usc/t42/s254b\">section 254b of this title</ns0:ref>] may be cited as the ‘Maximizing\n",
      "Outcomes through Better Investments in Lifesaving Equipment for (MOBILE) Health Care Act’.”</ns0:quotedContent> </ns0:p> <ns0:p><ns0:ref\n",
      "href=\"/us/pl/117/105/s1\">Pub. L. 117–105, § 1</ns0:ref>, <ns0:date date=\"2022-03-18\">Mar. 18, 2022</ns0:date>, <ns0:ref\n",
      "href=\"/us/stat/136/1118\">136 Stat. 1118</ns0:ref>, provided that: <ns0:quotedContent origin=\"/us/pl/117/105/s1\">“This Act [enacting <ns0:ref\n",
      "href=\"/us/usc/t42/s294t\">section 294t of this title</ns0:ref> and provisions set out as notes under <ns0:ref\n",
      "href=\"/us/usc/t42/s294t\">section 294t of this title</ns0:ref>] may be cited as the ‘Dr. Lorna Breen Health Care Provider Protection\n",
      "Act’.”</ns0:quotedContent> </ns0:p> <ns0:p><ns0:ref href=\"/us/pl/117/104/s1\">Pub. L. 117–104, § 1</ns0:ref>, <ns0:date\n",
      "date=\"2022-03-18\">Mar. 18, 2022</ns0:date>, <ns0:ref href=\"/us/stat/136/1117\">136 Stat. 1117</ns0:ref>, provided that: <ns0:quotedContent\n",
      "origin=\"/us/pl/117/104/s1\">“This Act [amending <ns0:ref href=\"/us/usc/t42/s285t\">section 285t of this title</ns0:ref>] may be cited as the\n",
      "‘John Lewis NIMHD Research Endowment Revitalization Act of 2021’.”</ns0:quotedContent> </ns0:p> <ns0:p><ns0:ref\n",
      "href=\"/us/pl/117/103/dW/tXIII/s1315/a\">Pub. L. 117–103, div. W, title XIII, § 1315(a)</ns0:ref>, <ns0:date date=\"2022-03-15\">Mar. 15,\n",
      "2022</ns0:date>, <ns0:ref href=\"/us/stat/136/938\">136 Stat. 938</ns0:ref>, provided that: <ns0:quotedContent\n",
      "origin=\"/us/pl/117/103/dW/tXIII/s1315/a\">“This section [amending <ns0:ref href=\"/us/usc/t42/s300u–7\">section 300u–7 of this title</ns0:ref>]\n",
      "may be cited as ‘Bree’s Law’.”</ns0:quotedContent> </ns0:p> <ns0:p><ns0:ref href=\"/us/pl/117/100/s1\">Pub. L. 117–100, § 1</ns0:ref>,\n",
      "<ns0:date date=\"2022-03-15\">Mar. 15, 2022</ns0:date>, <ns0:ref href=\"/us/stat/136/44\">136 Stat. 44</ns0:ref>, provided that:\n",
      "<ns0:quotedContent origin=\"/us/pl/117/100/s1\">“This Act [enacting <ns0:ref href=\"/us/usc/t42/s290bb–33\">section 290bb–33 of this\n",
      "title</ns0:ref> and provisions set out as a note under <ns0:ref href=\"/us/usc/t42/s290bb–33\">section 290bb–33 of this title</ns0:ref>] may\n",
      "be cited as the ‘Suicide Training and Awareness Nationally Delivered for Universal Prevention Act of 2021’ or the ‘STANDUP Act of\n",
      "2021’.”</ns0:quotedContent> </ns0:p> </ns0:note> <ns0:note style=\"-uslm-lc:I74\" topic=\"shortTitleOfAmendment\"\n",
      "id=\"idb10c48d6-d970-11ed-a113-e530e1711693\"><ns0:heading class=\"centered smallCaps\">Short Title of 2021\n",
      "Amendment</ns0:heading><ns0:p><ns0:ref href=\"/us/pl/117/15/s1\">Pub. L. 117–15, § 1</ns0:ref>, <ns0:date date=\"2021-05-26\">May 26,\n",
      "2021</ns0:date>, <ns0:ref href=\"/us/stat/135/277\">135 Stat. 277</ns0:ref>, provided that: <ns0:quotedContent origin=\"/us/pl/117/15/s1\">“This\n",
      "Act [amending sections 274k, 274m, and 282 of this title and enacting and amending provisions set out as notes under <ns0:ref\n",
      "href=\"/us/usc/t42/s274k\">section 274k of this title</ns0:ref>] may be cited as the ‘Timely ReAuthorization of Necessary Stem-cell Programs\n",
      "Lends Access to Needed Therapies Act of 2021’ or the ‘TRANSPLANT Act of 2021’.”</ns0:quotedContent> </ns0:p> <ns0:p><ns0:ref\n",
      "href=\"/us/pl/117/8/s1\">Pub. L. 117–8, § 1</ns0:ref>, <ns0:date date=\"2021-04-23\">Apr. 23, 2021</ns0:date>, <ns0:ref\n",
      "href=\"/us/stat/135/254\">135 Stat. 254</ns0:ref>, provided that: <ns0:quotedContent origin=\"/us/pl/117/8/s1\">“This Act [enacting <ns0:ref\n",
      "href=\"/us/usc/t42/s263–1\">section 263–1 of this title</ns0:ref>] may be cited as the ‘Advancing Education on Biosimilars Act of\n",
      "2021’.”</ns0:quotedContent> </ns0:p> <ns0:p><ns0:ref href=\"/us/pl/116/324/s1\">Pub. L. 116–324, § 1</ns0:ref>, <ns0:date\n",
      "date=\"2021-01-05\">Jan. 5, 2021</ns0:date>, <ns0:ref href=\"/us/stat/134/5085\">134 Stat. 5085</ns0:ref>, provided that: <ns0:quotedContent\n",
      "origin=\"/us/pl/116/324/s1\">“This Act [amending sections 300ii–3 and 300ii–4 of this title] may be cited as the ‘Lifespan Respite Care\n",
      "Reauthorization Act of 2020’.”</ns0:quotedContent> </ns0:p> <ns0:p><ns0:ref href=\"/us/pl/116/292/s1\">Pub. L. 116–292, § 1</ns0:ref>,\n",
      "<ns0:date date=\"2021-01-05\">Jan. 5, 2021</ns0:date>, <ns0:ref href=\"/us/stat/134/4896\">134 Stat. 4896</ns0:ref>, provided that:\n",
      "<ns0:quotedContent origin=\"/us/pl/116/292/s1\">“This Act [amending <ns0:ref href=\"/us/usc/t42/s280g\">section 280g of this title</ns0:ref>]\n",
      "may be cited as the ‘School-Based Allergies and Asthma Management Program Act’.”</ns0:quotedContent> </ns0:p> </ns0:note> <ns0:note\n",
      "style=\"-uslm-lc:I74\" topic=\"shortTitleOfAmendment\" id=\"idb10c48d7-d970-11ed-a113-e530e1711693\"><ns0:heading class=\"centered smallCaps\">Short\n",
      "Title of 2020 Amendment</ns0:heading><ns0:p><ns0:ref href=\"/us/pl/116/273/s1\">Pub. L. 116–273, § 1</ns0:ref>, <ns0:date\n",
      "date=\"2020-12-31\">Dec. 31, 2020</ns0:date>, <ns0:ref href=\"/us/stat/134/3352\">134 Stat. 3352</ns0:ref>, provided that: <ns0:quotedContent\n",
      "origin=\"/us/pl/116/273/s1\">“This Act [enacting sections 300c–11 and 300c–14 of this title] may be cited as the ‘Scarlett’s Sunshine on\n",
      "Sudden Unexpected Death Act’.”</ns0:quotedContent> </ns0:p> <ns0:p><ns0:ref href=\"/us/pl/116/260/dBB/tI/s101\">Pub. L. 116–260, div. BB,\n",
      "title I, § 101</ns0:ref>, <ns0:date date=\"2020-12-27\">Dec. 27, 2020</ns0:date>, <ns0:ref href=\"/us/stat/134/2758\">134 Stat. 2758</ns0:ref>,\n",
      "provided that: <ns0:quotedContent origin=\"/us/pl/116/260/dBB/tI/s101\">“This title [see Tables for classification] may be cited as the ‘No\n",
      "Surprises Act’.”</ns0:quotedContent> </ns0:p> <ns0:p><ns0:ref href=\"/us/pl/116/136/dA/tIII/s3001\">Pub. L. 116–136, div. A, title III,\n",
      "§ 3001</ns0:ref>, <ns0:date date=\"2020-03-27\">Mar. 27, 2020</ns0:date>, <ns0:ref href=\"/us/stat/134/360\">134 Stat. 360</ns0:ref>, provided\n",
      "that: <ns0:quotedContent origin=\"/us/pl/116/136/dA/tIII/s3001\">“This subtitle [subtitle A (§§ 3001–3404) of title III of div. A of <ns0:ref\n",
      "href=\"/us/pl/116/136\">Pub. L. 116–136</ns0:ref>, see Tables for classification] may be cited as the ‘Coronavirus Aid, Relief, and Economic\n",
      "Security Act’.”</ns0:quotedContent> </ns0:p> </ns0:note> <ns0:note style=\"-uslm-lc:I74\" topic=\"shortTitleOfAmendment\"\n",
      "id=\"idb10c48d8-d970-11ed-a113-e530e1711693\"><ns0:heading class=\"centered smallCaps\">Short Title of 2019\n",
      "Amendment</ns0:heading><ns0:p><ns0:ref href=\"/us/pl/116/94/dN/tI/s404/a\">Pub. L. 116–94, div. N, title I, § 404(a)</ns0:ref>, <ns0:date\n",
      "date=\"2019-12-20\">Dec. 20, 2019</ns0:date>, <ns0:ref href=\"/us/stat/133/3116\">133 Stat. 3116</ns0:ref>, provided that: <ns0:quotedContent\n",
      "origin=\"/us/pl/116/94/dN/tI/s404/a\">“This section [enacting sections 247b–23 and 300hh–32 of this title] may be cited as the ‘Kay Hagan Tick\n",
      "Act’.”</ns0:quotedContent> </ns0:p> <ns0:p><ns0:ref href=\"/us/pl/116/60/s1\">Pub. L. 116–60, § 1</ns0:ref>, <ns0:date date=\"2019-09-30\">Sept.\n",
      "30, 2019</ns0:date>, <ns0:ref href=\"/us/stat/133/1110\">133 Stat. 1110</ns0:ref>, provided that: <ns0:quotedContent\n",
      "origin=\"/us/pl/116/60/s1\">“This Act [amending sections 280i to 280i–4 and 284g of this title] may be cited as the ‘Autism Collaboration,\n",
      "Accountability, Research, Education, and Support Act of 2019’ or the ‘Autism CARES Act of 2019’.”</ns0:quotedContent> </ns0:p>\n",
      "<ns0:p><ns0:ref href=\"/us/pl/116/49/s1\">Pub. L. 116–49, § 1</ns0:ref>, <ns0:date date=\"2019-08-22\">Aug. 22, 2019</ns0:date>, <ns0:ref\n",
      "href=\"/us/stat/133/1072\">133 Stat. 1072</ns0:ref>, provided that: <ns0:quotedContent origin=\"/us/pl/116/49/s1\">“This Act [amending <ns0:ref\n",
      "href=\"/us/usc/t42/s300w–9\">section 300w–9 of this title</ns0:ref>] may be cited as the ‘Emergency Medical Services for Children Program\n",
      "Reauthorization Act of 2019’.”</ns0:quotedContent> </ns0:p> <ns0:p><ns0:ref href=\"/us/pl/116/22/s1/a\">Pub. L. 116–22, § 1(a)</ns0:ref>,\n",
      "<ns0:date date=\"2019-06-24\">June 24, 2019</ns0:date>, <ns0:ref href=\"/us/stat/133/905\">133 Stat. 905</ns0:ref>, provided that:\n",
      "<ns0:quotedContent origin=\"/us/pl/116/22/s1/a\">“This Act [see Tables for classification] may be cited as the ‘Pandemic and All-Hazards\n",
      "Preparedness and Advancing Innovation Act of 2019’.”</ns0:quotedContent> </ns0:p> </ns0:note> <ns0:note style=\"-uslm-lc:I74\"\n",
      "topic=\"shortTitleOfAmendment\" id=\"idb10c48d9-d970-11ed-a113-e530e1711693\"><ns0:heading class=\"centered smallCaps\">Short Title of 2018\n",
      "Amendment</ns0:heading><ns0:p><ns0:ref href=\"/us/pl/115/408/s1\">Pub. L. 115–408, § 1</ns0:ref>, <ns0:date date=\"2018-12-31\">Dec. 31,\n",
      "2018</ns0:date>, <ns0:ref href=\"/us/stat/132/5384\">132 Stat. 5384</ns0:ref>, provided that: <ns0:quotedContent\n",
      "origin=\"/us/pl/115/408/s1\">“This Act [amending <ns0:ref href=\"/us/usc/t42/s254r\">section 254r of this title</ns0:ref>] may be cited as the\n",
      "‘State Offices of Rural Health Reauthorization Act of 2018’.”</ns0:quotedContent> </ns0:p> <ns0:p><ns0:ref href=\"/us/pl/115/406/s1\">Pub. L.\n",
      "115–406, § 1</ns0:ref>, <ns0:date date=\"2018-12-31\">Dec. 31, 2018</ns0:date>, <ns0:ref href=\"/us/stat/132/5362\">132 Stat. 5362</ns0:ref>,\n",
      "provided that: <ns0:quotedContent origin=\"/us/pl/115/406/s1\">“This Act [enacting <ns0:ref href=\"/us/usc/t42/s280c–4\">section 280c–4 of this\n",
      "title</ns0:ref>, amending sections 280c–3 and 280c–5 of this title, and repealing <ns0:ref href=\"/us/usc/t42/s280c–4\">section 280c–4 of this\n",
      "title</ns0:ref>] may be cited as the ‘Building Our Largest Dementia Infrastructure for Alzheimer’s Act’ or the ‘BOLD Infrastructure for\n",
      "Alzheimer’s Act’.”</ns0:quotedContent> </ns0:p> <ns0:p><ns0:ref href=\"/us/pl/115/398/s1\">Pub. L. 115–398, § 1</ns0:ref>, <ns0:date\n",
      "date=\"2018-12-31\">Dec. 31, 2018</ns0:date>, <ns0:ref href=\"/us/stat/132/5328\">132 Stat. 5328</ns0:ref>, provided that: <ns0:quotedContent\n",
      "origin=\"/us/pl/115/398/s1\">“This Act [enacting <ns0:ref href=\"/us/usc/t42/s300d–54\">section 300d–54 of this title</ns0:ref>] may be cited as\n",
      "the ‘Stop, Observe, Ask, and Respond to Health and Wellness Act of 2018’ or the ‘SOAR to Health and Wellness Act of\n",
      "2018’.”</ns0:quotedContent> </ns0:p> <ns0:p><ns0:ref href=\"/us/pl/115/377/s1\">Pub. L. 115–377, § 1</ns0:ref>, <ns0:date\n",
      "date=\"2018-12-21\">Dec. 21, 2018</ns0:date>, <ns0:ref href=\"/us/stat/132/5114\">132 Stat. 5114</ns0:ref>, provided that: <ns0:quotedContent\n",
      "origin=\"/us/pl/115/377/s1\">“This Act [amending sections 280b–1d, 280b–3, 300d–52 and 300d–53 of this title, and repealing <ns0:ref\n",
      "href=\"/us/usc/t42/s280b–1e\">section 280b–1e of this title</ns0:ref>] may be cited as the ‘Traumatic Brain Injury Program Reauthorization Act\n",
      "of 2018’.”</ns0:quotedContent> </ns0:p> <ns0:p><ns0:ref href=\"/us/pl/115/344/s1\">Pub. L. 115–344, § 1</ns0:ref>, <ns0:date\n",
      "date=\"2018-12-21\">Dec. 21, 2018</ns0:date>, <ns0:ref href=\"/us/stat/132/5047\">132 Stat. 5047</ns0:ref>, provided that: <ns0:quotedContent\n",
      "origin=\"/us/pl/115/344/s1\">“This Act [amending <ns0:ref href=\"/us/usc/t42/s247b–12\">section 247b–12 of this title</ns0:ref>] may be cited as\n",
      "the ‘Preventing Maternal Deaths Act of 2018’.”</ns0:quotedContent> </ns0:p> <ns0:p><ns0:ref href=\"/us/pl/115/342/s1\">Pub. L. 115–342,\n",
      "§ 1</ns0:ref>, <ns0:date date=\"2018-12-21\">Dec. 21, 2018</ns0:date>, <ns0:ref href=\"/us/stat/132/5040\">132 Stat. 5040</ns0:ref>, provided\n",
      "that: <ns0:quotedContent origin=\"/us/pl/115/342/s1\">“This Act [amending <ns0:ref href=\"/us/usc/t42/s280g–13\">section 280g–13 of this\n",
      "title</ns0:ref>] may be cited as the ‘Congenital Heart Futures Reauthorization Act of 2017’.”</ns0:quotedContent> </ns0:p> <ns0:p><ns0:ref\n",
      "href=\"/us/pl/115/328/s1\">Pub. L. 115–328, § 1</ns0:ref>, <ns0:date date=\"2018-12-18\">Dec. 18, 2018</ns0:date>, <ns0:ref\n",
      "href=\"/us/stat/132/4471\">132 Stat. 4471</ns0:ref>, provided that: <ns0:quotedContent origin=\"/us/pl/115/328/s1\">“This Act [amending sections\n",
      "247b–4f and 280g–5 of this title and provisions set out as a note under <ns0:ref href=\"/us/usc/t42/s247b–4f\">section 247b–4f of this\n",
      "title</ns0:ref>] may be cited as the ‘Prematurity Research Expansion and Education for Mothers who deliver Infants Early Reauthorization Act\n",
      "of 2018’ or the ‘PREEMIE Reauthorization Act of 2018’.”</ns0:quotedContent> </ns0:p> <ns0:p><ns0:ref href=\"/us/pl/115/327/s1\">Pub. L.\n",
      "115–327, § 1</ns0:ref>, <ns0:date date=\"2018-12-18\">Dec. 18, 2018</ns0:date>, <ns0:ref href=\"/us/stat/132/4468\">132 Stat. 4468</ns0:ref>,\n",
      "provided that: <ns0:quotedContent origin=\"/us/pl/115/327/s1\">“This Act [enacting and amending <ns0:ref href=\"/us/usc/t42/s300b–5\">section\n",
      "300b–5 of this title</ns0:ref> and amending provisions set out as a note under <ns0:ref href=\"/us/usc/t42/s300b–1\">section 300b–1 of this\n",
      "title</ns0:ref>] may be cited as the ‘Sickle Cell Disease and Other Heritable Blood Disorders Research, Surveillance, Prevention, and\n",
      "Treatment Act of 2018’.”</ns0:quotedContent> </ns0:p> <ns0:p><ns0:ref href=\"/us/pl/115/320/s1\">Pub. L. 115–320, § 1</ns0:ref>, <ns0:date\n",
      "date=\"2018-12-17\">Dec. 17, 2018</ns0:date>, <ns0:ref href=\"/us/stat/132/4437\">132 Stat. 4437</ns0:ref>, provided that: <ns0:quotedContent\n",
      "origin=\"/us/pl/115/320/s1\">“This Act [amending <ns0:ref href=\"/us/usc/t42/s254e\">section 254e of this title</ns0:ref>] may be cited as the\n",
      "‘Improving Access to Maternity Care Act’.”</ns0:quotedContent> </ns0:p> <ns0:p><ns0:ref href=\"/us/pl/115/302/s1\">Pub. L. 115–302,\n",
      "§ 1</ns0:ref>, <ns0:date date=\"2018-12-11\">Dec. 11, 2018</ns0:date>, <ns0:ref href=\"/us/stat/132/4396\">132 Stat. 4396</ns0:ref>, provided\n",
      "that: <ns0:quotedContent origin=\"/us/pl/115/302/s1\">“This Act [amending sections 256g, 280k, and 280k–1 of this title] may be cited as the\n",
      "[‘]Action for Dental Health Act of 2018[’].”</ns0:quotedContent> </ns0:p> <ns0:p><ns0:ref href=\"/us/pl/115/263/s1\">Pub. L. 115–263,\n",
      "§ 1</ns0:ref>, <ns0:date date=\"2018-10-10\">Oct. 10, 2018</ns0:date>, <ns0:ref href=\"/us/stat/132/3672\">132 Stat. 3672</ns0:ref>, provided\n",
      "that: <ns0:quotedContent origin=\"/us/pl/115/263/s1\">“This Act [enacting <ns0:ref href=\"/us/usc/t42/s300gg–19b\">section 300gg–19b of this\n",
      "title</ns0:ref> and amending provisions set out as a note under <ns0:ref href=\"/us/usc/t21/s355\">section 355 of Title 21</ns0:ref>, Food and\n",
      "Drugs] may be cited as the ‘Patient Right to Know Drug Prices Act’.”</ns0:quotedContent> </ns0:p> <ns0:p><ns0:ref\n",
      "href=\"/us/pl/115/241/s1\">Pub. L. 115–241, § 1</ns0:ref>, <ns0:date date=\"2018-09-18\">Sept. 18, 2018</ns0:date>, <ns0:ref\n",
      "href=\"/us/stat/132/2892\">132 Stat. 2892</ns0:ref>, provided that: <ns0:quotedContent origin=\"/us/pl/115/241/s1\">“This Act [amending <ns0:ref\n",
      "href=\"/us/usc/t42/s256e\">section 256e of this title</ns0:ref>] may be cited as the ‘Dr. Benjy Frances Brooks Children’s Hospital GME Support\n",
      "Reauthorization Act of 2018’.”</ns0:quotedContent> </ns0:p> <ns0:p><ns0:ref href=\"/us/pl/115/194/s1\">Pub. L. 115–194, § 1</ns0:ref>,\n",
      "<ns0:date date=\"2018-07-07\">July 7, 2018</ns0:date>, <ns0:ref href=\"/us/stat/132/1506\">132 Stat. 1506</ns0:ref>, provided that:\n",
      "<ns0:quotedContent origin=\"/us/pl/115/194/s1\">“This Act [enacting <ns0:ref href=\"/us/usc/t42/s280e–5\">section 280e–5 of this\n",
      "title</ns0:ref>] may be cited as the [‘]Firefighter Cancer Registry Act of 2018[’].”</ns0:quotedContent> </ns0:p> <ns0:p><ns0:ref\n",
      "href=\"/us/pl/115/180/s1/a\">Pub. L. 115–180, § 1(a)</ns0:ref>, <ns0:date date=\"2018-06-05\">June 5, 2018</ns0:date>, <ns0:ref\n",
      "href=\"/us/stat/132/1382\">132 Stat. 1382</ns0:ref>, provided that: <ns0:quotedContent origin=\"/us/pl/115/180/s1/a\">“This Act [enacting\n",
      "sections 285a–11a and 285a–11b of this title, amending sections 280e–3a, 284a, 285a–10, and 285a–11 of this title, and enacting provisions\n",
      "set out as notes under sections 285a–10 and 285a–11 of this title] may be cited as the ‘Childhood Cancer Survivorship, Treatment, Access,\n",
      "and Research Act of 2018’ or the ‘Childhood Cancer STAR Act’.”</ns0:quotedContent> </ns0:p> </ns0:note> <ns0:note style=\"-uslm-lc:I74\"\n",
      "topic=\"shortTitleOfAmendment\" id=\"idb10c48da-d970-11ed-a113-e530e1711693\"><ns0:heading class=\"centered smallCaps\">Short Title of 2017\n",
      "Amendment</ns0:heading><ns0:p><ns0:ref href=\"/us/pl/115/96/dC\">Pub. L. 115–96, div. C</ns0:ref>, <ns0:date date=\"2017-12-22\">Dec. 22,\n",
      "2017</ns0:date>, <ns0:ref href=\"/us/stat/131/2052\">131 Stat. 2052</ns0:ref>, provided that: <ns0:quotedContent\n",
      "origin=\"/us/pl/115/96/dC\">“This division [amending sections 254b–2, 254c–2, 254c–3, 256h, 300u–11, and 1397dd of this title and <ns0:ref\n",
      "href=\"/us/usc/t18/s3014\">section 3014 of Title 18</ns0:ref>, Crimes and Criminal Procedure, and enacting provisions set out as notes under\n",
      "<ns0:ref href=\"/us/usc/t42/s1397dd\">section 1397dd of this title</ns0:ref>] may be cited as the ‘CHIP and Public Health Funding Extension\n",
      "Act’.”</ns0:quotedContent> </ns0:p> <ns0:p><ns0:ref href=\"/us/pl/115/71/s1\">Pub. L. 115–71, § 1</ns0:ref>, <ns0:date date=\"2017-10-18\">Oct.\n",
      "18, 2017</ns0:date>, <ns0:ref href=\"/us/stat/131/1218\">131 Stat. 1218</ns0:ref>, provided that: <ns0:quotedContent\n",
      "origin=\"/us/pl/115/71/s1\">“This Act [amending <ns0:ref href=\"/us/usc/t42/s280g–1\">section 280g–1 of this title</ns0:ref>] may be cited as\n",
      "the ‘Early Hearing Detection and Intervention Act of 2017’.”</ns0:quotedContent> </ns0:p> </ns0:note> <ns0:note style=\"-uslm-lc:I74\"\n",
      "topic=\"shortTitleOfAmendment\" id=\"idb10c48db-d970-11ed-a113-e530e1711693\"><ns0:heading class=\"centered smallCaps\">Short Title of 2016\n",
      "Amendment</ns0:heading><ns0:p><ns0:ref href=\"/us/pl/114/322/tII/s2001\">Pub. L. 114–322, title II, § 2001</ns0:ref>, <ns0:date\n",
      "date=\"2016-12-16\">Dec. 16, 2016</ns0:date>, <ns0:ref href=\"/us/stat/130/1716\">130 Stat. 1716</ns0:ref>, provided that: <ns0:quotedContent\n",
      "origin=\"/us/pl/114/322/tII/s2001\">“This title [enacting sections 300j–3d, 300j–19a, 300j–19b, and 300j–27 of this title, repealing <ns0:ref\n",
      "href=\"/us/usc/t42/s300j–25\">section 300j–25 of this title</ns0:ref>, amending sections 300f, 300g–3, 300g–6, 300j–1, 300j–12, 300j–24, and\n",
      "6945 of this title, and enacting provisions set out as notes under sections 300j–1, 300j–3d, and 300j–12 of this title] may be cited as the\n",
      "‘Water and Waste Act of 2016’.”</ns0:quotedContent> </ns0:p> <ns0:p><ns0:ref href=\"/us/pl/114/255/s1/a\">Pub. L. 114–255, § 1(a)</ns0:ref>,\n",
      "<ns0:date date=\"2016-12-13\">Dec. 13, 2016</ns0:date>, <ns0:ref href=\"/us/stat/130/1033\">130 Stat. 1033</ns0:ref>, provided that:\n",
      "<ns0:quotedContent origin=\"/us/pl/114/255/s1/a\">“This Act [see Tables for classification] may be cited as the ‘21st Century Cures\n",
      "Act’.”</ns0:quotedContent> </ns0:p> <ns0:p><ns0:ref href=\"/us/pl/114/255/dA/s1000\">Pub. L. 114–255, div. A, § 1000</ns0:ref>, <ns0:date\n",
      "date=\"2016-12-13\">Dec. 13, 2016</ns0:date>, <ns0:ref href=\"/us/stat/130/1039\">130 Stat. 1039</ns0:ref>, provided that: <ns0:quotedContent\n",
      "origin=\"/us/pl/114/255/dA/s1000\">“This Division [see Tables for classification] may be cited as the ‘21st Century Cures\n",
      "Act’.”</ns0:quotedContent> </ns0:p> <ns0:p><ns0:ref href=\"/us/pl/114/255/dB/s6000\">Pub. L. 114–255, div. B, § 6000</ns0:ref>, <ns0:date\n",
      "date=\"2016-12-13\">Dec. 13, 2016</ns0:date>, <ns0:ref href=\"/us/stat/130/1202\">130 Stat. 1202</ns0:ref>, provided that: <ns0:quotedContent\n",
      "origin=\"/us/pl/114/255/dB/s6000\">“This division [see Tables for classification] may be cited as the ‘Helping Families in Mental Health\n",
      "Crisis Reform Act of 2016’.”</ns0:quotedContent> </ns0:p> <ns0:p><ns0:ref href=\"/us/pl/114/198/s1/a\">Pub. L. 114–198, § 1(a)</ns0:ref>,\n",
      "<ns0:date date=\"2016-07-22\">July 22, 2016</ns0:date>, <ns0:ref href=\"/us/stat/130/695\">130 Stat. 695</ns0:ref>, provided that:\n",
      "<ns0:quotedContent origin=\"/us/pl/114/198/s1/a\">“This Act [see Tables for classification] may be cited as the ‘Comprehensive Addiction and\n",
      "Recovery Act of 2016’.”</ns0:quotedContent> </ns0:p> </ns0:note> <ns0:note style=\"-uslm-lc:I74\" topic=\"shortTitleOfAmendment\"\n",
      "id=\"idb10c48dc-d970-11ed-a113-e530e1711693\"><ns0:heading class=\"centered smallCaps\">Short Title of 2015\n",
      "Amendment</ns0:heading><ns0:p><ns0:ref href=\"/us/pl/114/113/dO/tIII/s301\">Pub. L. 114–113, div. O, title III, § 301</ns0:ref>, <ns0:date\n",
      "date=\"2015-12-18\">Dec. 18, 2015</ns0:date>, <ns0:ref href=\"/us/stat/129/2996\">129 Stat. 2996</ns0:ref>, provided that: <ns0:quotedContent\n",
      "origin=\"/us/pl/114/113/dO/tIII/s301\">“This title [amending sections 300mm, 300mm–4, 300mm–21, 300mm–22, 300mm–31, 300mm–41, 300mm–52, and\n",
      "300mm–61 of this title] may be cited as the ‘James Zadroga 9/11 Health and Compensation Reauthorization Act’.”</ns0:quotedContent> </ns0:p>\n",
      "<ns0:p><ns0:ref href=\"/us/pl/114/104/s1\">Pub. L. 114–104, § 1</ns0:ref>, <ns0:date date=\"2015-12-18\">Dec. 18, 2015</ns0:date>, <ns0:ref\n",
      "href=\"/us/stat/129/2216\">129 Stat. 2216</ns0:ref>, provided that: <ns0:quotedContent origin=\"/us/pl/114/104/s1\">“This Act [amending sections\n",
      "274k and 274m of this title, enacting provisions set out as a note under <ns0:ref href=\"/us/usc/t42/s274e\">section 274e of this\n",
      "title</ns0:ref> and amending provisions set out as a note under <ns0:ref href=\"/us/usc/t42/s274k\">section 274k of this title</ns0:ref>] may\n",
      "be cited as the ‘Stem Cell Therapeutic and Research Reauthorization Act of 2015’.”</ns0:quotedContent> </ns0:p> <ns0:p><ns0:ref\n",
      "href=\"/us/pl/114/98/s1\">Pub. L. 114–98, § 1</ns0:ref>, <ns0:date date=\"2015-12-11\">Dec. 11, 2015</ns0:date>, <ns0:ref\n",
      "href=\"/us/stat/129/2199\">129 Stat. 2199</ns0:ref>, provided that: <ns0:quotedContent origin=\"/us/pl/114/98/s1\">“This Act [amending <ns0:ref\n",
      "href=\"/us/usc/t42/s300j–1\">section 300j–1 of this title</ns0:ref> and enacting provisions set out as a note under <ns0:ref\n",
      "href=\"/us/usc/t42/s300j–1\">section 300j–1 of this title</ns0:ref>] may be cited as the ‘Grassroots Rural and Small Community Water Systems\n",
      "Assistance Act’.”</ns0:quotedContent> </ns0:p> <ns0:p><ns0:ref href=\"/us/pl/114/91/s1\">Pub. L. 114–91, § 1</ns0:ref>, <ns0:date\n",
      "date=\"2015-11-25\">Nov. 25, 2015</ns0:date>, <ns0:ref href=\"/us/stat/129/723\">129 Stat. 723</ns0:ref>, provided that: <ns0:quotedContent\n",
      "origin=\"/us/pl/114/91/s1\">“This Act [enacting provisions set out as a note under <ns0:ref href=\"/us/usc/t42/s247b–13\">section 247b–13 of\n",
      "this title</ns0:ref>] may be cited as the ‘Protecting Our Infants Act of 2015’.”</ns0:quotedContent> </ns0:p> <ns0:p><ns0:ref\n",
      "href=\"/us/pl/114/60/s1\">Pub. L. 114–60, § 1</ns0:ref>, <ns0:date date=\"2015-10-07\">Oct. 7, 2015</ns0:date>, <ns0:ref\n",
      "href=\"/us/stat/129/543\">129 Stat. 543</ns0:ref>, provided that: <ns0:quotedContent origin=\"/us/pl/114/60/s1\">“This Act [amending sections\n",
      "300gg–91, 1395iii, and 18024 of this title] may be cited as the ‘Protecting Affordable Coverage for Employees Act’.”</ns0:quotedContent>\n",
      "</ns0:p> <ns0:p><ns0:ref href=\"/us/pl/114/45/s1\">Pub. L. 114–45, § 1</ns0:ref>, <ns0:date date=\"2015-08-07\">Aug. 7, 2015</ns0:date>,\n",
      "<ns0:ref href=\"/us/stat/129/473\">129 Stat. 473</ns0:ref>, provided that: <ns0:quotedContent origin=\"/us/pl/114/45/s1\">“This Act [enacting\n",
      "<ns0:ref href=\"/us/usc/t42/s300j–19\">section 300j–19 of this title</ns0:ref>] may be cited as the ‘Drinking Water Protection\n",
      "Act’.”</ns0:quotedContent> </ns0:p> </ns0:note> <ns0:note style=\"-uslm-lc:I74\" topic=\"shortTitleOfAmendment\"\n",
      "id=\"idb10c48dd-d970-11ed-a113-e530e1711693\"><ns0:heading class=\"centered smallCaps\">Short Title of 2014\n",
      "Amendment</ns0:heading><ns0:p><ns0:ref href=\"/us/pl/113/265/s1\">Pub. L. 113–265, § 1</ns0:ref>, <ns0:date date=\"2014-12-18\">Dec. 18,\n",
      "2014</ns0:date>, <ns0:ref href=\"/us/stat/128/2942\">128 Stat. 2942</ns0:ref>, provided that: <ns0:quotedContent\n",
      "origin=\"/us/pl/113/265/s1\">“This Act [amending <ns0:ref href=\"/us/usc/t42/s280m\">section 280m of this title</ns0:ref>] may be cited as the\n",
      "‘EARLY Act Reauthorization of 2014’.”</ns0:quotedContent> </ns0:p> <ns0:p><ns0:ref href=\"/us/pl/113/240/s1/a\">Pub. L. 113–240,\n",
      "§ 1(a)</ns0:ref>, <ns0:date date=\"2014-12-18\">Dec. 18, 2014</ns0:date>, <ns0:ref href=\"/us/stat/128/2851\">128 Stat. 2851</ns0:ref>, provided\n",
      "that: <ns0:quotedContent origin=\"/us/pl/113/240/s1/a\">“This Act [enacting sections 300b–16 and 300b–17 of this title, amending sections\n",
      "300b–8 to 300b–15 of this title, and enacting provisions set out as a note under <ns0:ref href=\"/us/usc/t42/s289\">section 289 of this\n",
      "title</ns0:ref>] may be cited as the ‘Newborn Screening Saves Lives Reauthorization Act of 2014’.”</ns0:quotedContent> </ns0:p>\n",
      "<ns0:p><ns0:ref href=\"/us/pl/113/236/s1\">Pub. L. 113–236, § 1</ns0:ref>, <ns0:date date=\"2014-12-18\">Dec. 18, 2014</ns0:date>, <ns0:ref\n",
      "href=\"/us/stat/128/2831\">128 Stat. 2831</ns0:ref>, provided that: <ns0:quotedContent origin=\"/us/pl/113/236/s1\">“This Act [enacting <ns0:ref\n",
      "href=\"/us/usc/t42/s300c–13\">section 300c–13 of this title</ns0:ref>] may be cited as the ‘Sudden Unexpected Death Data Enhancement and\n",
      "Awareness Act’.”</ns0:quotedContent> </ns0:p> <ns0:p><ns0:ref href=\"/us/pl/113/196/s1\">Pub. L. 113–196, § 1</ns0:ref>, <ns0:date\n",
      "date=\"2014-11-26\">Nov. 26, 2014</ns0:date>, <ns0:ref href=\"/us/stat/128/2052\">128 Stat. 2052</ns0:ref>, provided that: <ns0:quotedContent\n",
      "origin=\"/us/pl/113/196/s1\">“This Act [amending sections 280b–1c, 280b–3, 300d–52, and 300d–53 of this title] may be cited as the ‘Traumatic\n",
      "Brain Injury Reauthorization Act of 2014’.”</ns0:quotedContent> </ns0:p> <ns0:p><ns0:ref href=\"/us/pl/113/180/s1\">Pub. L. 113–180,\n",
      "§ 1</ns0:ref>, <ns0:date date=\"2014-09-26\">Sept. 26, 2014</ns0:date>, <ns0:ref href=\"/us/stat/128/1915\">128 Stat. 1915</ns0:ref>, provided\n",
      "that: <ns0:quotedContent origin=\"/us/pl/113/180/s1\">“This Act [amending <ns0:ref href=\"/us/usc/t42/s300w–9\">section 300w–9 of this\n",
      "title</ns0:ref>] may be cited as the ‘Emergency Medical Services for Children Reauthorization Act of 2014’.”</ns0:quotedContent> </ns0:p>\n",
      "<ns0:p><ns0:ref href=\"/us/pl/113/166/s1\">Pub. L. 113–166, § 1</ns0:ref>, <ns0:date date=\"2014-09-26\">Sept. 26, 2014</ns0:date>, <ns0:ref\n",
      "href=\"/us/stat/128/1879\">128 Stat. 1879</ns0:ref>, provided that: <ns0:quotedContent origin=\"/us/pl/113/166/s1\">“This Act [amending sections\n",
      "247b–18, 247b–19, and 283g of this title] may be cited as the ‘Paul D. Wellstone Muscular Dystrophy Community Assistance, Research and\n",
      "Education Amendments of 2014’.”</ns0:quotedContent> </ns0:p> <ns0:p><ns0:ref href=\"/us/pl/113/157/s1\">Pub. L. 113–157, § 1</ns0:ref>,\n",
      "<ns0:date date=\"2014-08-08\">Aug. 8, 2014</ns0:date>, <ns0:ref href=\"/us/stat/128/1831\">128 Stat. 1831</ns0:ref>, provided that:\n",
      "<ns0:quotedContent origin=\"/us/pl/113/157/s1\">“This Act [amending sections 280i to 280i–4 of this title and enacting provisions set out as a\n",
      "note under <ns0:ref href=\"/us/usc/t42/s280i\">section 280i of this title</ns0:ref>] may be cited as the ‘Autism Collaboration,\n",
      "Accountability, Research, Education, and Support Act of 2014’ or the ‘Autism CARES Act of 2014’.”</ns0:quotedContent> </ns0:p>\n",
      "<ns0:p><ns0:ref href=\"/us/pl/113/152/s1\">Pub. L. 113–152, § 1</ns0:ref>, <ns0:date date=\"2014-08-08\">Aug. 8, 2014</ns0:date>, <ns0:ref\n",
      "href=\"/us/stat/128/1825\">128 Stat. 1825</ns0:ref>, provided that: <ns0:quotedContent origin=\"/us/pl/113/152/s1\">“This Act [amending sections\n",
      "300d–31 and 300d–61 of this title] may be cited as the ‘Improving Trauma Care Act of 2014’.”</ns0:quotedContent> </ns0:p> <ns0:p><ns0:ref\n",
      "href=\"/us/pl/113/98/s1\">Pub. L. 113–98, § 1</ns0:ref>, <ns0:date date=\"2014-04-07\">Apr. 7, 2014</ns0:date>, <ns0:ref\n",
      "href=\"/us/stat/128/1140\">128 Stat. 1140</ns0:ref>, provided that: <ns0:quotedContent origin=\"/us/pl/113/98/s1\">“This Act [amending <ns0:ref\n",
      "href=\"/us/usc/t42/s256e\">section 256e of this title</ns0:ref>] may be cited as the ‘Children’s Hospital GME Support Reauthorization Act of\n",
      "2013’.”</ns0:quotedContent> </ns0:p> <ns0:p><ns0:ref href=\"/us/pl/113/77/s1\">Pub. L. 113–77, § 1</ns0:ref>, <ns0:date date=\"2014-01-24\">Jan.\n",
      "24, 2014</ns0:date>, <ns0:ref href=\"/us/stat/128/644\">128 Stat. 644</ns0:ref>, provided that: <ns0:quotedContent\n",
      "origin=\"/us/pl/113/77/s1\">“This Act [amending sections 300d–71 to 300d–73 of this title and enacting provisions set out as a note under\n",
      "<ns0:ref href=\"/us/usc/t42/s300d–73\">section 300d–73 of this title</ns0:ref>] may be cited as the ‘Poison Center Network\n",
      "Act’.”</ns0:quotedContent> </ns0:p> </ns0:note> <ns0:note style=\"-uslm-lc:I74\" topic=\"shortTitleOfAmendment\"\n",
      "id=\"idb10c48de-d970-11ed-a113-e530e1711693\"><ns0:heading class=\"centered smallCaps\">Short Title of 2013\n",
      "Amendment</ns0:heading><ns0:p><ns0:ref href=\"/us/pl/113/64/s1\">Pub. L. 113–64, § 1</ns0:ref>, <ns0:date date=\"2013-12-20\">Dec. 20,\n",
      "2013</ns0:date>, <ns0:ref href=\"/us/stat/127/668\">127 Stat. 668</ns0:ref>, provided that: <ns0:quotedContent origin=\"/us/pl/113/64/s1\">“This\n",
      "Act [amending <ns0:ref href=\"/us/usc/t42/s300g–6\">section 300g–6 of this title</ns0:ref> and enacting provisions set out as a note under\n",
      "<ns0:ref href=\"/us/usc/t42/s300g–6\">section 300g–6 of this title</ns0:ref>] may be cited as the ‘Community Fire Safety Act of\n",
      "2013’.”</ns0:quotedContent> </ns0:p> <ns0:p><ns0:ref href=\"/us/pl/113/55/tI/s101\">Pub. L. 113–55, title I, § 101</ns0:ref>, <ns0:date\n",
      "date=\"2013-11-27\">Nov. 27, 2013</ns0:date>, <ns0:ref href=\"/us/stat/127/641\">127 Stat. 641</ns0:ref>, provided that: <ns0:quotedContent\n",
      "origin=\"/us/pl/113/55/tI/s101\">“This title [amending sections 247b–4f, 254c–14, and 280g–5 of this title, repealing <ns0:ref\n",
      "href=\"/us/usc/t42/s247b–4g\">section 247b–4g of this title</ns0:ref>, and enacting provisions set out as a note under <ns0:ref\n",
      "href=\"/us/usc/t42/s247b–4f\">section 247b–4f of this title</ns0:ref>] may be cited as the ‘Prematurity Research Expansion and Education for\n",
      "Mothers who deliver Infants Early Reauthorization Act’ or the ‘PREEMIE Reauthorization Act’.”</ns0:quotedContent> </ns0:p> <ns0:p><ns0:ref\n",
      "href=\"/us/pl/113/55/tII/s201\">Pub. L. 113–55, title II, § 201</ns0:ref>, <ns0:date date=\"2013-11-27\">Nov. 27, 2013</ns0:date>, <ns0:ref\n",
      "href=\"/us/stat/127/644\">127 Stat. 644</ns0:ref>, provided that: <ns0:quotedContent origin=\"/us/pl/113/55/tII/s201\">“This title [amending\n",
      "<ns0:ref href=\"/us/usc/t42/s284h\">section 284h of this title</ns0:ref>] may be cited as the ‘National Pediatric Research Network Act of\n",
      "2013’.”</ns0:quotedContent> </ns0:p> <ns0:p><ns0:ref href=\"/us/pl/113/55/tIII/s301\">Pub. L. 113–55, title III, § 301</ns0:ref>, <ns0:date\n",
      "date=\"2013-11-27\">Nov. 27, 2013</ns0:date>, <ns0:ref href=\"/us/stat/127/646\">127 Stat. 646</ns0:ref>, provided that: <ns0:quotedContent\n",
      "origin=\"/us/pl/113/55/tIII/s301\">“This title [amending <ns0:ref href=\"/us/usc/t42/s283m\">section 283m of this title</ns0:ref>] may be cited\n",
      "as the ‘CHIMP Act Amendments of 2013’.”</ns0:quotedContent> </ns0:p> <ns0:p><ns0:ref href=\"/us/pl/113/51/s1\">Pub. L. 113–51, § 1</ns0:ref>,\n",
      "<ns0:date date=\"2013-11-21\">Nov. 21, 2013</ns0:date>, <ns0:ref href=\"/us/stat/127/579\">127 Stat. 579</ns0:ref>, provided that:\n",
      "<ns0:quotedContent origin=\"/us/pl/113/51/s1\">“This Act [enacting <ns0:ref href=\"/us/usc/t42/s274f–5\">section 274f–5 of this title</ns0:ref>\n",
      "and amending sections 273 and 274 of this title and <ns0:ref href=\"/us/usc/t18/s1122\">section 1122 of Title 18</ns0:ref>, Crimes and\n",
      "Criminal Procedure] may be cited as the ‘HIV Organ Policy Equity Act’.”</ns0:quotedContent> </ns0:p> <ns0:p><ns0:ref\n",
      "href=\"/us/pl/113/48/s1\">Pub. L. 113–48, § 1</ns0:ref>, <ns0:date date=\"2013-11-13\">Nov. 13, 2013</ns0:date>, <ns0:ref\n",
      "href=\"/us/stat/127/575\">127 Stat. 575</ns0:ref>, provided that: <ns0:quotedContent origin=\"/us/pl/113/48/s1\">“This Act [amending <ns0:ref\n",
      "href=\"/us/usc/t42/s280g\">section 280g of this title</ns0:ref>] may be cited as the ‘School Access to Emergency Epinephrine\n",
      "Act’.”</ns0:quotedContent> </ns0:p> <ns0:p><ns0:ref href=\"/us/pl/113/5/s1/a\">Pub. L. 113–5, § 1(a)</ns0:ref>, <ns0:date\n",
      "date=\"2013-03-13\">Mar. 13, 2013</ns0:date>, <ns0:ref href=\"/us/stat/127/161\">127 Stat. 161</ns0:ref>, provided that: <ns0:quotedContent\n",
      "origin=\"/us/pl/113/5/s1/a\">“This Act [enacting <ns0:ref href=\"/us/usc/t42/s300hh–10a\">section 300hh–10a of this title</ns0:ref> and sections\n",
      "360bbb–3a and 360bbb–3b of Title 21, Food and Drugs, amending sections 247d, 247d–1, 247d–3a to 247d–4, 247d–6 to 247d–6b, 247d–6d, 247d–7b,\n",
      "247d–7e, 247d–7f, 284m, 284m–1, 300hh–1, 300hh–10, 300hh–11, 300hh–15, and 300hh–16 of this title, sections 355, 355–1, 355a, 360bbb–3, and\n",
      "360bbb–4 of Title 21, and <ns0:ref href=\"/us/usc/t38/s8117\">section 8117 of Title 38</ns0:ref>, Veterans’ Benefits, repealing <ns0:ref\n",
      "href=\"/us/usc/t42/s247d–6c\">section 247d–6c of this title</ns0:ref>, enacting provisions set out as notes under sections 247d–6a and\n",
      "300hh–10 of this title, and amending provisions set out as a note under <ns0:ref href=\"/us/usc/t42/s247d–6a\">section 247d–6a of this\n",
      "title</ns0:ref>] may be cited as the ‘Pandemic and All-Hazards Preparedness Reauthorization Act of 2013’.”</ns0:quotedContent> </ns0:p>\n",
      "</ns0:note> <ns0:note style=\"-uslm-lc:I74\" topic=\"shortTitleOfAmendment\" id=\"idb10c48df-d970-11ed-a113-e530e1711693\"><ns0:heading\n",
      "class=\"centered smallCaps\">Short Title of 2012 Amendment</ns0:heading><ns0:p><ns0:ref href=\"/us/pl/112/202/s1\">Pub. L. 112–202,\n",
      "§ 1</ns0:ref>, <ns0:date date=\"2012-12-04\">Dec. 4, 2012</ns0:date>, <ns0:ref href=\"/us/stat/126/1483\">126 Stat. 1483</ns0:ref>, provided\n",
      "that: <ns0:quotedContent origin=\"/us/pl/112/202/s1\">“This Act [amending <ns0:ref href=\"/us/usc/t42/s263a\">section 263a of this\n",
      "title</ns0:ref>] may be cited as the ‘Taking Essential Steps for Testing Act of 2012’.”</ns0:quotedContent> </ns0:p> </ns0:note> <ns0:note\n",
      "style=\"-uslm-lc:I74\" topic=\"shortTitleOfAmendment\" id=\"idb10c48e0-d970-11ed-a113-e530e1711693\"><ns0:heading class=\"centered smallCaps\">Short\n",
      "Title of 2011 Amendment</ns0:heading><ns0:p><ns0:ref href=\"/us/pl/112/32/s1\">Pub. L. 112–32, § 1</ns0:ref>, <ns0:date\n",
      "date=\"2011-09-30\">Sept. 30, 2011</ns0:date>, <ns0:ref href=\"/us/stat/125/361\">125 Stat. 361</ns0:ref>, provided that: <ns0:quotedContent\n",
      "origin=\"/us/pl/112/32/s1\">“This Act [amending sections 280i to 280i–4 of this title] may be cited as the ‘Combating Autism Reauthorization\n",
      "Act of 2011’.”</ns0:quotedContent> </ns0:p> <ns0:p><ns0:ref href=\"/us/pl/111/380/s1\">Pub. L. 111–380, § 1</ns0:ref>, <ns0:date\n",
      "date=\"2011-01-04\">Jan. 4, 2011</ns0:date>, <ns0:ref href=\"/us/stat/124/4131\">124 Stat. 4131</ns0:ref>, provided that: <ns0:quotedContent\n",
      "origin=\"/us/pl/111/380/s1\">“This Act [amending <ns0:ref href=\"/us/usc/t42/s300g–6\">section 300g–6 of this title</ns0:ref> and enacting\n",
      "provisions set out as a note under <ns0:ref href=\"/us/usc/t42/s300g–6\">section 300g–6 of this title</ns0:ref>] may be cited as the\n",
      "‘Reduction of Lead in Drinking Water Act’.”</ns0:quotedContent> </ns0:p> <ns0:p><ns0:ref href=\"/us/pl/111/347/s1/a\">Pub. L. 111–347,\n",
      "§ 1(a)</ns0:ref>, <ns0:date date=\"2011-01-02\">Jan. 2, 2011</ns0:date>, <ns0:ref href=\"/us/stat/124/3623\">124 Stat. 3623</ns0:ref>, provided\n",
      "that: <ns0:quotedContent origin=\"/us/pl/111/347/s1/a\">“This Act [enacting subchapter XXXI of this chapter, <ns0:ref\n",
      "href=\"/us/usc/t26/s5000C\">section 5000C of Title 26</ns0:ref>, Internal Revenue Code, and provisions set out as a note under <ns0:ref\n",
      "href=\"/us/usc/t26/s5000C\">section 5000C of Title 26</ns0:ref> and amending provisions set out as notes under <ns0:ref\n",
      "href=\"/us/usc/t8/s1101\">section 1101 of Title 8</ns0:ref>, Aliens and Nationality, and <ns0:ref href=\"/us/usc/t49/s40101\">section 40101 of\n",
      "Title 49</ns0:ref>, Transportation] may be cited as the ‘James Zadroga 9/11 Health and Compensation Act of 2010’.”</ns0:quotedContent>\n",
      "</ns0:p> </ns0:note> <ns0:note style=\"-uslm-lc:I74\" topic=\"shortTitleOfAmendment\" id=\"idb10c48e1-d970-11ed-a113-e530e1711693\"><ns0:heading\n",
      "class=\"centered smallCaps\">Short Title of 2010 Amendment</ns0:heading><ns0:p><ns0:ref href=\"/us/pl/111/337/s1\">Pub. L. 111–337,\n",
      "§ 1</ns0:ref>, <ns0:date date=\"2010-12-22\">Dec. 22, 2010</ns0:date>, <ns0:ref href=\"/us/stat/124/3588\">124 Stat. 3588</ns0:ref>, provided\n",
      "that: <ns0:quotedContent origin=\"/us/pl/111/337/s1\">“This Act [amending <ns0:ref href=\"/us/usc/t42/s280g–1\">section 280g–1 of this\n",
      "title</ns0:ref>] may be cited as the ‘Early Hearing Detection and Intervention Act of 2010’.”</ns0:quotedContent> </ns0:p> <ns0:p><ns0:ref\n",
      "href=\"/us/pl/111/264/s1\">Pub. L. 111–264, § 1</ns0:ref>, <ns0:date date=\"2010-10-08\">Oct. 8, 2010</ns0:date>, <ns0:ref\n",
      "href=\"/us/stat/124/2789\">124 Stat. 2789</ns0:ref>, provided that: <ns0:quotedContent origin=\"/us/pl/111/264/s1\">“This Act [amending sections\n",
      "274k and 274m of this title and amending provisions set out as a note under <ns0:ref href=\"/us/usc/t42/s274k\">section 274k of this\n",
      "title</ns0:ref>] may be cited as the ‘Stem Cell Therapeutic and Research Reauthorization Act of 2010’.”</ns0:quotedContent> </ns0:p>\n",
      "<ns0:p><ns0:ref href=\"/us/pl/111/148/tVII/s7001/a\">Pub. L. 111–148, title VII, § 7001(a)</ns0:ref>, <ns0:date date=\"2010-03-23\">Mar. 23,\n",
      "2010</ns0:date>, <ns0:ref href=\"/us/stat/124/804\">124 Stat. 804</ns0:ref>, provided that: <ns0:quotedContent\n",
      "origin=\"/us/pl/111/148/tVII/s7001/a\">“This subtitle [subtitle A (§§ 7001–7003) of title VII of <ns0:ref href=\"/us/pl/111/148\">Pub. L.\n",
      "111–148</ns0:ref>, amending sections 262 and 284m of this title, sections 355, 355a, 355c, and 379g of Title 21, Food and Drugs, <ns0:ref\n",
      "href=\"/us/usc/t28/s2201\">section 2201 of Title 28</ns0:ref>, Judiciary and Judicial Procedure, and <ns0:ref href=\"/us/usc/t35/s271\">section\n",
      "271 of Title 35</ns0:ref>, Patents, and enacting provisions set out as notes under <ns0:ref href=\"/us/usc/t42/s262\">section 262 of this\n",
      "title</ns0:ref>] may be cited as the ‘Biologics Price Competition and Innovation Act of 2009’.”</ns0:quotedContent> </ns0:p> <ns0:p\n",
      "style=\"-uslm-lc:I21\" class=\"indent0\"><ns0:ref href=\"/us/pl/111/148/tVIII/s8001\">Pub. L. 111–148, title VIII, § 8001</ns0:ref>, <ns0:date\n",
      "date=\"2010-03-23\">Mar. 23, 2010</ns0:date>, <ns0:ref href=\"/us/stat/124/828\">124 Stat. 828</ns0:ref>, which provided that title VIII of\n",
      "<ns0:ref href=\"/us/pl/111/148\">Pub. L. 111–148</ns0:ref>, enacting subchapter XXX of this chapter, amending <ns0:ref\n",
      "href=\"/us/usc/t42/s1396a\">section 1396a of this title</ns0:ref>, enacting provisions set out as notes under section 300<ns0:i>ll</ns0:i> of\n",
      "this title, and amending provisions set out as a note under <ns0:ref href=\"/us/usc/t42/s1396p\">section 1396p of this title</ns0:ref>, could\n",
      "be cited as the “Community Living Assistance Services and Supports Act” or the “CLASS Act”, was repealed by <ns0:ref\n",
      "href=\"/us/pl/112/240/tVI/s642/b/1\">Pub. L. 112–240, title VI, § 642(b)(1)</ns0:ref>, <ns0:date date=\"2013-01-02\">Jan. 2, 2013</ns0:date>,\n",
      "<ns0:ref href=\"/us/stat/126/2358\">126 Stat. 2358</ns0:ref>.</ns0:p> <ns0:p><ns0:ref href=\"/us/pl/111/148/tX/s10409/a\">Pub. L. 111–148, title\n",
      "X, § 10409(a)</ns0:ref>, <ns0:date date=\"2010-03-23\">Mar. 23, 2010</ns0:date>, <ns0:ref href=\"/us/stat/124/978\">124 Stat. 978</ns0:ref>,\n",
      "provided that: <ns0:quotedContent origin=\"/us/pl/111/148/tX/s10409/a\">“This section [enacting <ns0:ref href=\"/us/usc/t42/s282d\">section 282d\n",
      "of this title</ns0:ref> and amending sections 282 and 290b of this title] may be cited as the ‘Cures Acceleration Network Act of\n",
      "2009’.”</ns0:quotedContent> </ns0:p> <ns0:p><ns0:ref href=\"/us/pl/111/148/tX/s10410/a\">Pub. L. 111–148, title X, § 10410(a)</ns0:ref>,\n",
      "<ns0:date date=\"2010-03-23\">Mar. 23, 2010</ns0:date>, <ns0:ref href=\"/us/stat/124/984\">124 Stat. 984</ns0:ref>, provided that:\n",
      "<ns0:quotedContent origin=\"/us/pl/111/148/tX/s10410/a\">“This section [enacting <ns0:ref href=\"/us/usc/t42/s290bb–33\">section 290bb–33 of\n",
      "this title</ns0:ref>] may be cited as the ‘Establishing a Network of Health-Advancing National Centers of Excellence for Depression Act of\n",
      "2009’ or the ‘ENHANCED Act of 2009’.”</ns0:quotedContent> </ns0:p> <ns0:p><ns0:ref href=\"/us/pl/111/148/tX/s10411/a\">Pub. L. 111–148, title\n",
      "X, § 10411(a)</ns0:ref>, <ns0:date date=\"2010-03-23\">Mar. 23, 2010</ns0:date>, <ns0:ref href=\"/us/stat/124/988\">124 Stat. 988</ns0:ref>,\n",
      "provided that: <ns0:quotedContent origin=\"/us/pl/111/148/tX/s10411/a\">“This subtitle [probably means this section, enacting sections 280g–13\n",
      "and 285b–8 of this title] may be cited as the ‘Congenital Heart Futures Act’.”</ns0:quotedContent> </ns0:p> <ns0:p><ns0:ref\n",
      "href=\"/us/pl/111/148/tX/s10413/a\">Pub. L. 111–148, title X, § 10413(a)</ns0:ref>, <ns0:date date=\"2010-03-23\">Mar. 23, 2010</ns0:date>,\n",
      "<ns0:ref href=\"/us/stat/124/990\">124 Stat. 990</ns0:ref>, provided that: <ns0:quotedContent origin=\"/us/pl/111/148/tX/s10413/a\">“This\n",
      "section [enacting part V of subchapter II of this chapter] may be cited as the ‘Young Women’s Breast Health Education and Awareness Requires\n",
      "Learning Young Act of 2009’ or the ‘EARLY Act’.”</ns0:quotedContent> </ns0:p> </ns0:note> <ns0:note style=\"-uslm-lc:I74\"\n",
      "topic=\"shortTitleOfAmendment\" id=\"idb10c48e2-d970-11ed-a113-e530e1711693\"><ns0:heading class=\"centered smallCaps\">Short Title of 2009\n",
      "Amendment</ns0:heading><ns0:p><ns0:ref href=\"/us/pl/111/87/s1/a\">Pub. L. 111–87, § 1(a)</ns0:ref>, <ns0:date date=\"2009-10-30\">Oct. 30,\n",
      "2009</ns0:date>, <ns0:ref href=\"/us/stat/123/2885\">123 Stat. 2885</ns0:ref>, provided that: <ns0:quotedContent\n",
      "origin=\"/us/pl/111/87/s1/a\">“This Act [enacting <ns0:ref href=\"/us/usc/t42/s300ff–87a\">section 300ff–87a of this title</ns0:ref> and part G\n",
      "of subchapter XXIV of this chapter, amending sections 300ff–11 to 300ff–17, 300ff–19 to 300ff–27, 300ff–28, 300ff–29, 300ff–29a, 300ff–30,\n",
      "300ff–31a, 300ff–31b, 300ff–33, 300ff–34, 300ff–37, 300ff–37a, 300ff–38, 300ff–51 to 300ff–55, 300ff–61 to 300ff–67, 300ff–71, 300ff–81 to\n",
      "300ff–88, 300ff–101, 300ff–111, and 300ff–121 of this title, enacting provisions set out as notes under <ns0:ref\n",
      "href=\"/us/usc/t42/s300ff–11\">section 300ff–11 of this title</ns0:ref>, and repealing provisions set out as a note under <ns0:ref\n",
      "href=\"/us/usc/t42/s300ff–11\">section 300ff–11 of this title</ns0:ref>] may be cited as the ‘Ryan White HIV/AIDS Treatment Extension Act of\n",
      "2009’.”</ns0:quotedContent> </ns0:p> <ns0:p><ns0:ref href=\"/us/pl/111/11/tXIV/s14001\">Pub. L. 111–11, title XIV, § 14001</ns0:ref>,\n",
      "<ns0:date date=\"2009-03-30\">Mar. 30, 2009</ns0:date>, <ns0:ref href=\"/us/stat/123/1452\">123 Stat. 1452</ns0:ref>, provided that:\n",
      "<ns0:quotedContent origin=\"/us/pl/111/11/tXIV/s14001\">“This title [enacting sections 280g–9, 284<ns0:i>o</ns0:i>, and 284p of this title]\n",
      "may be cited as the ‘Christopher and Dana Reeve Paralysis Act’.”</ns0:quotedContent> </ns0:p> <ns0:p><ns0:ref\n",
      "href=\"/us/pl/111/5/dA/tXIII/s13001/a\">Pub. L. 111–5, div. A, title XIII, § 13001(a)</ns0:ref>, <ns0:date date=\"2009-02-17\">Feb. 17,\n",
      "2009</ns0:date>, <ns0:ref href=\"/us/stat/123/226\">123 Stat. 226</ns0:ref>, provided that: <ns0:quotedContent\n",
      "origin=\"/us/pl/111/5/dA/tXIII/s13001/a\">“This title [enacting subchapter XXVIII of this chapter and chapter 156 of this title, amending\n",
      "sections 1320d, 1320d–5, and 1320d–6 of this title, and enacting provisions set out as a note under <ns0:ref\n",
      "href=\"/us/usc/t42/s17931\">section 17931 of this title</ns0:ref>] (and title IV of division B [amending sections 1395f, 1395r, 1395w,\n",
      "1395w–4, 1395w–21, 1395w–23, 1395ww, 1395iii, and 1396b of this title, enacting provisions set out as a note under <ns0:ref\n",
      "href=\"/us/usc/t42/s1395ww\">section 1395ww of this title</ns0:ref>, and amending provisions set out as notes under <ns0:ref\n",
      "href=\"/us/usc/t42/s1395ww\">section 1395ww of this title</ns0:ref>]) may be cited as the ‘Health Information Technology for Economic and\n",
      "Clinical Health Act’ or the ‘HITECH Act’.”</ns0:quotedContent> </ns0:p> </ns0:note> <ns0:note style=\"-uslm-lc:I74\"\n",
      "topic=\"shortTitleOfAmendment\" id=\"idb10c48e3-d970-11ed-a113-e530e1711693\"><ns0:heading class=\"centered smallCaps\">Short Title of 2008\n",
      "Amendment</ns0:heading><ns0:p><ns0:ref href=\"/us/pl/110/426/s1\">Pub. L. 110–426, § 1</ns0:ref>, <ns0:date date=\"2008-10-15\">Oct. 15,\n",
      "2008</ns0:date>, <ns0:ref href=\"/us/stat/122/4835\">122 Stat. 4835</ns0:ref>, provided that: <ns0:quotedContent\n",
      "origin=\"/us/pl/110/426/s1\">“This Act [amending <ns0:ref href=\"/us/usc/t42/s274\">section 274 of this title</ns0:ref> and enacting provisions\n",
      "set out as a note under <ns0:ref href=\"/us/usc/t42/s274\">section 274 of this title</ns0:ref>] may be cited as the ‘Stephanie Tubbs Jones\n",
      "Organ Transplant Authorization Act of 2008’.”</ns0:quotedContent> </ns0:p> <ns0:p><ns0:ref href=\"/us/pl/110/413/s1\">Pub. L. 110–413,\n",
      "§ 1</ns0:ref>, <ns0:date date=\"2008-10-14\">Oct. 14, 2008</ns0:date>, <ns0:ref href=\"/us/stat/122/4338\">122 Stat. 4338</ns0:ref>, provided\n",
      "that: <ns0:quotedContent origin=\"/us/pl/110/413/s1\">“This Act [enacting sections 274i to 274i–4 of this title] may be cited as the\n",
      "‘Stephanie Tubbs Jones Gift of Life Medal Act of 2008’.”</ns0:quotedContent> </ns0:p> <ns0:p><ns0:ref href=\"/us/pl/110/392/s1/a\">Pub. L.\n",
      "110–392, § 1(a)</ns0:ref>, <ns0:date date=\"2008-10-13\">Oct. 13, 2008</ns0:date>, <ns0:ref href=\"/us/stat/122/4195\">122 Stat. 4195</ns0:ref>,\n",
      "provided that: <ns0:quotedContent origin=\"/us/pl/110/392/s1/a\">“This Act [enacting <ns0:ref href=\"/us/usc/t42/s285b–7c\">section 285b–7c of\n",
      "this title</ns0:ref>, amending <ns0:ref href=\"/us/usc/t42/s247b–6\">section 247b–6 of this title</ns0:ref>, and enacting provisions set out\n",
      "as notes under sections 247b–6 and 264 of this title] may be cited as the ‘Comprehensive Tuberculosis Elimination Act of\n",
      "2008’.”</ns0:quotedContent> </ns0:p> <ns0:p><ns0:ref href=\"/us/pl/110/381/s1\">Pub. L. 110–381, § 1</ns0:ref>, <ns0:date\n",
      "date=\"2008-10-09\">Oct. 9, 2008</ns0:date>, <ns0:ref href=\"/us/stat/122/4081\">122 Stat. 4081</ns0:ref>, provided that: <ns0:quotedContent\n",
      "origin=\"/us/pl/110/381/s1\">“This Act [enacting sections 300gg–7 and 300gg–54 of this title, <ns0:ref href=\"/us/usc/t26/s9813\">section 9813\n",
      "of Title 26</ns0:ref>, Internal Revenue Code, and <ns0:ref href=\"/us/usc/t29/s1185c\">section 1185c of Title 29</ns0:ref>, Labor, and\n",
      "enacting provisions set out as a note under <ns0:ref href=\"/us/usc/t26/s9813\">section 9813 of Title 26</ns0:ref>] may be cited as\n",
      "‘Michelle’s Law’.”</ns0:quotedContent> </ns0:p> <ns0:p><ns0:ref href=\"/us/pl/110/377/s1\">Pub. L. 110–377, § 1</ns0:ref>, <ns0:date\n",
      "date=\"2008-10-08\">Oct. 8, 2008</ns0:date>, <ns0:ref href=\"/us/stat/122/4063\">122 Stat. 4063</ns0:ref>, provided that: <ns0:quotedContent\n",
      "origin=\"/us/pl/110/377/s1\">“This Act [amending sections 300d–71 to 300d–73 of this title and enacting provisions set out as notes under\n",
      "sections 300d–71 to 300d–73 of this title] may be cited as the ‘Poison Center Support, Enhancement, and Awareness Act of\n",
      "2008’.”</ns0:quotedContent> </ns0:p> <ns0:p><ns0:ref href=\"/us/pl/110/374/s1\">Pub. L. 110–374, § 1</ns0:ref>, <ns0:date\n",
      "date=\"2008-10-08\">Oct. 8, 2008</ns0:date>, <ns0:ref href=\"/us/stat/122/4051\">122 Stat. 4051</ns0:ref>, provided that: <ns0:quotedContent\n",
      "origin=\"/us/pl/110/374/s1\">“This Act [enacting <ns0:ref href=\"/us/usc/t42/s280g–8\">section 280g–8 of this title</ns0:ref> and provisions set\n",
      "out as a note under <ns0:ref href=\"/us/usc/t42/s280g–8\">section 280g–8 of this title</ns0:ref>] may be cited as the ‘Prenatally and\n",
      "Postnatally Diagnosed Conditions Awareness Act’.”</ns0:quotedContent> </ns0:p> <ns0:p><ns0:ref href=\"/us/pl/110/373/s1\">Pub. L. 110–373,\n",
      "§ 1</ns0:ref>, <ns0:date date=\"2008-10-08\">Oct. 8, 2008</ns0:date>, <ns0:ref href=\"/us/stat/122/4047\">122 Stat. 4047</ns0:ref>, provided\n",
      "that: <ns0:quotedContent origin=\"/us/pl/110/373/s1\">“This Act [enacting <ns0:ref href=\"/us/usc/t42/s280g–7\">section 280g–7 of this\n",
      "title</ns0:ref>] may be cited as the ‘ALS Registry Act’.”</ns0:quotedContent> </ns0:p> <ns0:p><ns0:ref href=\"/us/pl/110/361/s1\">Pub. L.\n",
      "110–361, § 1</ns0:ref>, <ns0:date date=\"2008-10-08\">Oct. 8, 2008</ns0:date>, <ns0:ref href=\"/us/stat/122/4010\">122 Stat. 4010</ns0:ref>,\n",
      "provided that: <ns0:quotedContent origin=\"/us/pl/110/361/s1\">“This Act [amending sections 247b–18, 247b–19, and 283g of this title] may be\n",
      "cited as the ‘Paul D. Wellstone Muscular Dystrophy Community Assistance, Research, and Education Amendments of 2008’.”</ns0:quotedContent>\n",
      "</ns0:p> <ns0:p><ns0:ref href=\"/us/pl/110/355/s1\">Pub. L. 110–355, § 1</ns0:ref>, <ns0:date date=\"2008-10-08\">Oct. 8, 2008</ns0:date>,\n",
      "<ns0:ref href=\"/us/stat/122/3988\">122 Stat. 3988</ns0:ref>, provided that: <ns0:quotedContent origin=\"/us/pl/110/355/s1\">“This Act [enacting\n",
      "<ns0:ref href=\"/us/usc/t42/s300hh–17\">section 300hh–17 of this title</ns0:ref>, amending sections 254b, 254c, 254e, 254f, 254h–1, 254k,\n",
      "254q, 254q–1, 256g, and 1395x of this title, and enacting provisions set out as notes under sections 254b and 1395x of this title] may be\n",
      "cited as the ‘Health Care Safety Net Act of 2008’.”</ns0:quotedContent> </ns0:p> <ns0:p><ns0:ref href=\"/us/pl/110/354/s1\">Pub. L. 110–354,\n",
      "§ 1</ns0:ref>, <ns0:date date=\"2008-10-08\">Oct. 8, 2008</ns0:date>, <ns0:ref href=\"/us/stat/122/3984\">122 Stat. 3984</ns0:ref>, provided\n",
      "that: <ns0:quotedContent origin=\"/us/pl/110/354/s1\">“This Act [enacting <ns0:ref href=\"/us/usc/t42/s285a–12\">section 285a–12 of this\n",
      "title</ns0:ref>] may be cited as the ‘Breast Cancer and Environmental Research Act of 2008’.”</ns0:quotedContent> </ns0:p> <ns0:p><ns0:ref\n",
      "href=\"/us/pl/110/343/dC/tV/s511\">Pub. L. 110–343, div. C, title V, § 511</ns0:ref>, <ns0:date date=\"2008-10-03\">Oct. 3, 2008</ns0:date>,\n",
      "<ns0:ref href=\"/us/stat/122/3881\">122 Stat. 3881</ns0:ref>, provided that: <ns0:quotedContent origin=\"/us/pl/110/343/dC/tV/s511\">“This\n",
      "subtitle [subtitle B (§§ 511, 512) of title V of div. C of <ns0:ref href=\"/us/pl/110/343\">Pub. L. 110–343</ns0:ref>, amending <ns0:ref\n",
      "href=\"/us/usc/t42/s300gg–5\">section 300gg–5 of this title</ns0:ref>, <ns0:ref href=\"/us/usc/t26/s9812\">section 9812 of Title 26</ns0:ref>,\n",
      "Internal Revenue Code, and <ns0:ref href=\"/us/usc/t29/s1185a\">section 1185a of Title 29</ns0:ref>, Labor, and enacting provisions set out as\n",
      "notes under <ns0:ref href=\"/us/usc/t42/s300gg–5\">section 300gg–5 of this title</ns0:ref>] may be cited as the ‘Paul Wellstone and Pete\n",
      "Domenici Mental Health Parity and Addiction Equity Act of 2008’.”</ns0:quotedContent> </ns0:p> <ns0:p><ns0:ref href=\"/us/pl/110/339/s1\">Pub.\n",
      "L. 110–339, § 1</ns0:ref>, <ns0:date date=\"2008-10-03\">Oct. 3, 2008</ns0:date>, <ns0:ref href=\"/us/stat/122/3733\">122 Stat. 3733</ns0:ref>,\n",
      "provided that: <ns0:quotedContent origin=\"/us/pl/110/339/s1\">“This Act [amending <ns0:ref href=\"/us/usc/t42/s254c–8\">section 254c–8 of this\n",
      "title</ns0:ref>] may be cited as the ‘Healthy Start Reauthorization Act of 2007’.”</ns0:quotedContent> </ns0:p> <ns0:p><ns0:ref\n",
      "href=\"/us/pl/110/285/s1\">Pub. L. 110–285, § 1</ns0:ref>, <ns0:date date=\"2008-07-29\">July 29, 2008</ns0:date>, <ns0:ref\n",
      "href=\"/us/stat/122/2628\">122 Stat. 2628</ns0:ref>, provided that: <ns0:quotedContent origin=\"/us/pl/110/285/s1\">“This Act [enacting sections\n",
      "280e–3a and 285a–11 of this title, amending <ns0:ref href=\"/us/usc/t42/s280e–4\">section 280e–4 of this title</ns0:ref>, and enacting\n",
      "provisions set out as a note under <ns0:ref href=\"/us/usc/t42/s280e–3a\">section 280e–3a of this title</ns0:ref>] may be cited as the\n",
      "‘Caroline Pryce Walker Conquer Childhood Cancer Act of 2008’.”</ns0:quotedContent> </ns0:p> <ns0:p><ns0:ref href=\"/us/pl/110/206/s1\">Pub. L.\n",
      "110–206, § 1</ns0:ref>, <ns0:date date=\"2008-04-28\">Apr. 28, 2008</ns0:date>, <ns0:ref href=\"/us/stat/122/714\">122 Stat. 714</ns0:ref>,\n",
      "provided that: <ns0:quotedContent origin=\"/us/pl/110/206/s1\">“This Act [enacting <ns0:ref href=\"/us/usc/t42/s280b–1e\">section 280b–1e of\n",
      "this title</ns0:ref> and amending sections 280b–1b, 280b–1c, 280b–1d, 300d–52, 300d–53, and 300d–61 of this title] may be cited as the\n",
      "‘Traumatic Brain Injury Act of 2008’.”</ns0:quotedContent> </ns0:p> <ns0:p><ns0:ref href=\"/us/pl/110/204/s1\">Pub. L. 110–204, § 1</ns0:ref>,\n",
      "<ns0:date date=\"2008-04-24\">Apr. 24, 2008</ns0:date>, <ns0:ref href=\"/us/stat/122/705\">122 Stat. 705</ns0:ref>, as amended by <ns0:ref\n",
      "href=\"/us/pl/110/237/s1/b/1\">Pub. L. 110–237, § 1(b)(1)</ns0:ref>, <ns0:date date=\"2008-05-27\">May 27, 2008</ns0:date>, <ns0:ref\n",
      "href=\"/us/stat/122/1557\">122 Stat. 1557</ns0:ref>, provided that: <ns0:quotedContent origin=\"/us/pl/110/237/s1/b/1\">“This Act [enacting\n",
      "sections 300b–11 to 300b–15 of this title and amending sections 300b–8 to 300b–10 of this title] may be cited as the ‘Newborn Screening\n",
      "Saves Lives Act of 2008’.”</ns0:quotedContent> </ns0:p> <ns0:p><ns0:ref href=\"/us/pl/110/202/s1\">Pub. L. 110–202, § 1</ns0:ref>, <ns0:date\n",
      "date=\"2008-04-23\">Apr. 23, 2008</ns0:date>, <ns0:ref href=\"/us/stat/122/697\">122 Stat. 697</ns0:ref>, provided that: <ns0:quotedContent\n",
      "origin=\"/us/pl/110/202/s1\">“This Act [enacting <ns0:ref href=\"/us/usc/t42/s280b–1f\">section 280b–1f of this title</ns0:ref>] may be cited as\n",
      "the ‘Safety of Seniors Act of 2007’.”</ns0:quotedContent> </ns0:p> </ns0:note> <ns0:note style=\"-uslm-lc:I74\" topic=\"shortTitleOfAmendment\"\n",
      "id=\"idb10c48e4-d970-11ed-a113-e530e1711693\"><ns0:heading class=\"centered smallCaps\">Short Title of 2007\n",
      "Amendment</ns0:heading><ns0:p><ns0:ref href=\"/us/pl/110/170/s1\">Pub. L. 110–170, § 1</ns0:ref>, <ns0:date date=\"2007-12-26\">Dec. 26,\n",
      "2007</ns0:date>, <ns0:ref href=\"/us/stat/121/2465\">121 Stat. 2465</ns0:ref>, provided that: <ns0:quotedContent\n",
      "origin=\"/us/pl/110/170/s1\">“This Act [amending sections 287a–3a and 287a–4 of this title] may be cited as the ‘Chimp Haven is Home\n",
      "Act’.”</ns0:quotedContent> </ns0:p> <ns0:p><ns0:ref href=\"/us/pl/110/144/s1\">Pub. L. 110–144, § 1</ns0:ref>, <ns0:date\n",
      "date=\"2007-12-21\">Dec. 21, 2007</ns0:date>, <ns0:ref href=\"/us/stat/121/1813\">121 Stat. 1813</ns0:ref>, provided that: <ns0:quotedContent\n",
      "origin=\"/us/pl/110/144/s1\">“This Act [enacting <ns0:ref href=\"/us/usc/t42/s273b\">section 273b of this title</ns0:ref>, amending <ns0:ref\n",
      "href=\"/us/usc/t42/s274e\">section 274e of this title</ns0:ref>, and enacting provisions set out as a note under <ns0:ref\n",
      "href=\"/us/usc/t42/s274e\">section 274e of this title</ns0:ref>] may be cited as the ‘Charlie W. Norwood Living Organ Donation\n",
      "Act’.”</ns0:quotedContent> </ns0:p> <ns0:p><ns0:ref href=\"/us/pl/110/23/s1\">Pub. L. 110–23, § 1</ns0:ref>, <ns0:date date=\"2007-05-03\">May\n",
      "3, 2007</ns0:date>, <ns0:ref href=\"/us/stat/121/90\">121 Stat. 90</ns0:ref>, provided that: <ns0:quotedContent\n",
      "origin=\"/us/pl/110/23/s1\">“This Act [enacting <ns0:ref href=\"/us/usc/t42/s300d–5\">section 300d–5 of this title</ns0:ref>, amending sections\n",
      "300d, 300d–3, 300d–12 to 300d–15, 300d–22, 300d–32, 300d–51, and 300d–52 of this title, and repealing sections 300d–2 and 300d–16 of this\n",
      "title] may be cited as the ‘Trauma Care Systems Planning and Development Act of 2007’.”</ns0:quotedContent> </ns0:p> <ns0:p><ns0:ref\n",
      "href=\"/us/pl/110/18/s1\">Pub. L. 110–18, § 1</ns0:ref>, <ns0:date date=\"2007-04-20\">Apr. 20, 2007</ns0:date>, <ns0:ref\n",
      "href=\"/us/stat/121/80\">121 Stat. 80</ns0:ref>, provided that: <ns0:quotedContent origin=\"/us/pl/110/18/s1\">“This Act [amending sections\n",
      "300k, 300m, 300n–4, and 300n–5 of this title] may be cited as the ‘National Breast and Cervical Cancer Early Detection Program\n",
      "Reauthorization Act of 2007’.”</ns0:quotedContent> </ns0:p> <ns0:p><ns0:ref href=\"/us/pl/109/482/s1\">Pub. L. 109–482, § 1</ns0:ref>,\n",
      "<ns0:date date=\"2007-01-15\">Jan. 15, 2007</ns0:date>, <ns0:ref href=\"/us/stat/120/3675\">120 Stat. 3675</ns0:ref>, provided that:\n",
      "<ns0:quotedContent origin=\"/us/pl/109/482/s1\">“This Act [see Tables for classification] may be cited as the ‘National Institutes of Health\n",
      "Reform Act of 2006’.”</ns0:quotedContent> </ns0:p> <ns0:p><ns0:ref href=\"/us/pl/109/475/s1\">Pub. L. 109–475, § 1</ns0:ref>, <ns0:date\n",
      "date=\"2007-01-12\">Jan. 12, 2007</ns0:date>, <ns0:ref href=\"/us/stat/120/3565\">120 Stat. 3565</ns0:ref>, provided that: <ns0:quotedContent\n",
      "origin=\"/us/pl/109/475/s1\">“This Act [amending <ns0:ref href=\"/us/usc/t42/s247b–17\">section 247b–17 of this title</ns0:ref>] may be cited as\n",
      "the ‘Gynecologic Cancer Education and Awareness Act of 2005’ or ‘Johanna’s Law’.”</ns0:quotedContent> </ns0:p> </ns0:note> <ns0:note\n",
      "style=\"-uslm-lc:I74\" topic=\"shortTitleOfAmendment\" id=\"idb10c48e5-d970-11ed-a113-e530e1711693\"><ns0:heading class=\"centered smallCaps\">Short\n",
      "Title of 2006 Amendment</ns0:heading><ns0:p><ns0:ref href=\"/us/pl/109/450/s1\">Pub. L. 109–450, § 1</ns0:ref>, <ns0:date\n",
      "date=\"2006-12-22\">Dec. 22, 2006</ns0:date>, <ns0:ref href=\"/us/stat/120/3341\">120 Stat. 3341</ns0:ref>, provided that: <ns0:quotedContent\n",
      "origin=\"/us/pl/109/450/s1\">“This Act [enacting sections 247b–4f, 247b–4g, and 280g–5 of this title, amending sections 241 and 280g–4 of this\n",
      "title, and enacting provisions set out as a note under <ns0:ref href=\"/us/usc/t42/s247b–4f\">section 247b–4f of this title</ns0:ref>] may be\n",
      "cited as the ‘Prematurity Research Expansion and Education for Mothers who deliver Infants Early Act’ or the ‘PREEMIE\n",
      "Act’.”</ns0:quotedContent> </ns0:p> <ns0:p><ns0:ref href=\"/us/pl/109/442/s1\">Pub. L. 109–442, § 1</ns0:ref>, <ns0:date\n",
      "date=\"2006-12-21\">Dec. 21, 2006</ns0:date>, <ns0:ref href=\"/us/stat/120/3291\">120 Stat. 3291</ns0:ref>, provided that: <ns0:quotedContent\n",
      "origin=\"/us/pl/109/442/s1\">“This Act [enacting sections 300ii to 300ii–4 of this title] may be cited as the ‘Lifespan Respite Care Act of\n",
      "2006’.”</ns0:quotedContent> </ns0:p> <ns0:p><ns0:ref href=\"/us/pl/109/422/s1\">Pub. L. 109–422, § 1</ns0:ref>, <ns0:date\n",
      "date=\"2006-12-20\">Dec. 20, 2006</ns0:date>, <ns0:ref href=\"/us/stat/120/2890\">120 Stat. 2890</ns0:ref>, provided that: <ns0:quotedContent\n",
      "origin=\"/us/pl/109/422/s1\">“This Act [amending <ns0:ref href=\"/us/usc/t42/s290bb–25b\">section 290bb–25b of this title</ns0:ref>] may be\n",
      "cited as the ‘Sober Truth on Preventing Underage Drinking Act’ or the ‘STOP Act’.”</ns0:quotedContent> </ns0:p> <ns0:p><ns0:ref\n",
      "href=\"/us/pl/109/417/s1/a\">Pub. L. 109–417, § 1(a)</ns0:ref>, <ns0:date date=\"2006-12-19\">Dec. 19, 2006</ns0:date>, <ns0:ref\n",
      "href=\"/us/stat/120/2831\">120 Stat. 2831</ns0:ref>, provided that: <ns0:quotedContent origin=\"/us/pl/109/417/s1/a\">“This Act [enacting\n",
      "sections 204a, 247d–7e, 247d–7f, 254u, 300hh–1, 300hh–2, 300hh–10, 300hh–15, and 300hh–16 of this title and <ns0:ref\n",
      "href=\"/us/usc/t21/s360bbb–4\">section 360bbb–4 of Title 21</ns0:ref>, Food and Drugs, amending sections 215, 247d–1, 247d–3a, 247d–3b,\n",
      "247d–4, 247d–6, 247d–6a, 247d–6b, 247d–7b, 254d, 254q–1, 300hh, 300hh–11, and 1320b–5 of this title, sections 313, 314, and 321j of Title 6,\n",
      "Domestic Security, and <ns0:ref href=\"/us/usc/t38/s8117\">section 8117 of Title 38</ns0:ref>, Veterans’ Benefits, repealing sections 247d–2\n",
      "and 247d–3 of this title, and enacting provisions set out as notes under sections 204a, 247d–6a, 262a, 300hh–10, 300hh–11, and 1320b–5 of\n",
      "this title and <ns0:ref href=\"/us/usc/t6/s313\">section 313 of Title 6</ns0:ref>] may be cited as the ‘Pandemic and All-Hazards Preparedness\n",
      "Act’.”</ns0:quotedContent> </ns0:p> <ns0:p><ns0:ref href=\"/us/pl/109/416/s1\">Pub. L. 109–416, § 1</ns0:ref>, <ns0:date\n",
      "date=\"2006-12-19\">Dec. 19, 2006</ns0:date>, <ns0:ref href=\"/us/stat/120/2821\">120 Stat. 2821</ns0:ref>, provided that: <ns0:quotedContent\n",
      "origin=\"/us/pl/109/416/s1\">“This Act [enacting sections 280i to 280i–4 and 283j of this title, amending <ns0:ref\n",
      "href=\"/us/usc/t42/s284g\">section 284g of this title</ns0:ref>, and repealing sections 247b–4b to 247b–4e of this title] may be cited as the\n",
      "‘Combating Autism Act of 2006’.”</ns0:quotedContent> </ns0:p> <ns0:p><ns0:ref href=\"/us/pl/109/415/s1/a\">Pub. L. 109–415, § 1(a)</ns0:ref>,\n",
      "<ns0:date date=\"2006-12-19\">Dec. 19, 2006</ns0:date>, <ns0:ref href=\"/us/stat/120/2767\">120 Stat. 2767</ns0:ref>, provided that:\n",
      "<ns0:quotedContent origin=\"/us/pl/109/415/s1/a\">“This Act [enacting sections 300ff–19, 300ff–20, 300ff–29a, 300ff–31a, 300ff–31b, and\n",
      "300ff–121 of this title, amending sections 300ff–11 to 300ff–17, 300ff–19 to 300ff–27, 300ff–28, 300ff–29, 300ff–29a, 300ff–30, 300ff–31a,\n",
      "300ff–31b, 300ff–33, 300ff–34, 300ff–37, 300ff–37a, 300ff–38, 300ff–51 to 300ff–55, 300ff–61 to 300ff–67, 300ff–71, 300ff–81 to 300ff–88,\n",
      "300ff–101, 300ff–111, and 300ff–121 of this title, and enacting provisions set out as a note under <ns0:ref\n",
      "href=\"/us/usc/t42/s300ff–11\">section 300ff–11 of this title</ns0:ref>] may be cited as the ‘Ryan White HIV/AIDS Treatment Modernization Act\n",
      "of 2006’.”</ns0:quotedContent> </ns0:p> <ns0:p><ns0:ref href=\"/us/pl/109/307/s1\">Pub. L. 109–307, § 1</ns0:ref>, <ns0:date\n",
      "date=\"2006-10-06\">Oct. 6, 2006</ns0:date>, <ns0:ref href=\"/us/stat/120/1721\">120 Stat. 1721</ns0:ref>, provided that: <ns0:quotedContent\n",
      "origin=\"/us/pl/109/307/s1\">“This Act [amending <ns0:ref href=\"/us/usc/t42/s256e\">section 256e of this title</ns0:ref>] may be cited as the\n",
      "‘Children’s Hospital GME Support Reauthorization Act of 2006’.”</ns0:quotedContent> </ns0:p> <ns0:p><ns0:ref href=\"/us/pl/109/242/s1\">Pub.\n",
      "L. 109–242, § 1</ns0:ref>, <ns0:date date=\"2006-07-19\">July 19, 2006</ns0:date>, <ns0:ref href=\"/us/stat/120/570\">120 Stat. 570</ns0:ref>,\n",
      "provided that: <ns0:quotedContent origin=\"/us/pl/109/242/s1\">“This Act [amending <ns0:ref href=\"/us/usc/t42/s289g–2\">section 289g–2 of this\n",
      "title</ns0:ref>] may be cited as the ‘Fetus Farming Prohibition Act of 2006’.”</ns0:quotedContent> </ns0:p> <ns0:p><ns0:ref\n",
      "href=\"/us/pl/109/172/s1\">Pub. L. 109–172, § 1</ns0:ref>, <ns0:date date=\"2006-02-10\">Feb. 10, 2006</ns0:date>, <ns0:ref\n",
      "href=\"/us/stat/120/185\">120 Stat. 185</ns0:ref>, provided that: <ns0:quotedContent origin=\"/us/pl/109/172/s1\">“This Act [amending <ns0:ref\n",
      "href=\"/us/usc/t42/s300gg–45\">section 300gg–45 of this title</ns0:ref>] may be cited as the ‘State High Risk Pool Funding Extension Act of\n",
      "2006’.”</ns0:quotedContent> </ns0:p> </ns0:note> <ns0:note style=\"-uslm-lc:I74\" topic=\"shortTitleOfAmendment\"\n",
      "id=\"idb10c48e6-d970-11ed-a113-e530e1711693\"><ns0:heading class=\"centered smallCaps\">Short Title of 2005\n",
      "Amendments</ns0:heading><ns0:p><ns0:ref href=\"/us/pl/109/148/dC/s1\">Pub. L. 109–148, div. C, § 1</ns0:ref>, <ns0:date date=\"2005-12-30\">Dec.\n",
      "30, 2005</ns0:date>, <ns0:ref href=\"/us/stat/119/2818\">119 Stat. 2818</ns0:ref>, provided that: <ns0:quotedContent\n",
      "origin=\"/us/pl/109/148/dC/s1\">“This division [enacting sections 247d–6d and 247d–6e of this title] may be cited as the ‘Public Readiness and\n",
      "Emergency Preparedness Act’.”</ns0:quotedContent> </ns0:p> <ns0:p><ns0:ref href=\"/us/pl/109/129/s1\">Pub. L. 109–129, § 1</ns0:ref>,\n",
      "<ns0:date date=\"2005-12-20\">Dec. 20, 2005</ns0:date>, <ns0:ref href=\"/us/stat/119/2550\">119 Stat. 2550</ns0:ref>, provided that:\n",
      "<ns0:quotedContent origin=\"/us/pl/109/129/s1\">“This Act [enacting section 274<ns0:i>l</ns0:i>–1 of this title, amending sections 274k,\n",
      "274<ns0:i>l</ns0:i>, and 274m of this title, and enacting provisions set out as a note under <ns0:ref href=\"/us/usc/t42/s274k\">section 274k\n",
      "of this title</ns0:ref>] may be cited as the ‘Stem Cell Therapeutic and Research Act of 2005’.”</ns0:quotedContent> </ns0:p> <ns0:p><ns0:ref\n",
      "href=\"/us/pl/109/60/s1\">Pub. L. 109–60, § 1</ns0:ref>, <ns0:date date=\"2005-08-11\">Aug. 11, 2005</ns0:date>, <ns0:ref\n",
      "href=\"/us/stat/119/1979\">119 Stat. 1979</ns0:ref>, provided that: <ns0:quotedContent origin=\"/us/pl/109/60/s1\">“This Act [enacting <ns0:ref\n",
      "href=\"/us/usc/t42/s280g–3\">section 280g–3 of this title</ns0:ref> and provisions set out as a note under <ns0:ref\n",
      "href=\"/us/usc/t42/s280g–3\">section 280g–3 of this title</ns0:ref>] may be cited as the ‘National All Schedules Prescription Electronic\n",
      "Reporting Act of 2005’.”</ns0:quotedContent> </ns0:p> <ns0:p><ns0:ref href=\"/us/pl/109/41/s1/a\">Pub. L. 109–41, § 1(a)</ns0:ref>, <ns0:date\n",
      "date=\"2005-07-29\">July 29, 2005</ns0:date>, <ns0:ref href=\"/us/stat/119/424\">119 Stat. 424</ns0:ref>, provided that: <ns0:quotedContent\n",
      "origin=\"/us/pl/109/41/s1/a\">“This Act [enacting part C (§ 299b–21 et seq.) of subchapter VII of this chapter, redesignating former part C\n",
      "(§ 299c et seq.) as part D of subchapter VII of this chapter, and amending sections 299c–6 and 299c–7 of this title] may be cited as the\n",
      "‘Patient Safety and Quality Improvement Act of 2005’.”</ns0:quotedContent> </ns0:p> <ns0:p><ns0:ref href=\"/us/pl/109/18/s1\">Pub. L. 109–18,\n",
      "§ 1</ns0:ref>, <ns0:date date=\"2005-06-29\">June 29, 2005</ns0:date>, <ns0:ref href=\"/us/stat/119/340\">119 Stat. 340</ns0:ref>, provided\n",
      "that: <ns0:quotedContent origin=\"/us/pl/109/18/s1\">“This Act [enacting <ns0:ref href=\"/us/usc/t42/s256a\">section 256a of this\n",
      "title</ns0:ref>] may be cited as the ‘Patient Navigator Outreach and Chronic Disease Prevention Act of 2005’.”</ns0:quotedContent> </ns0:p>\n",
      "</ns0:note> <ns0:note style=\"-uslm-lc:I74\" topic=\"shortTitleOfAmendment\" id=\"idb10eb8e7-d970-11ed-a113-e530e1711693\"><ns0:heading\n",
      "class=\"centered smallCaps\">Short Title of 2004 Amendments</ns0:heading><ns0:p><ns0:ref href=\"/us/pl/108/377/s1\">Pub. L. 108–377,\n",
      "§ 1</ns0:ref>, <ns0:date date=\"2004-10-30\">Oct. 30, 2004</ns0:date>, <ns0:ref href=\"/us/stat/118/2202\">118 Stat. 2202</ns0:ref>, provided\n",
      "that: <ns0:quotedContent origin=\"/us/pl/108/377/s1\">“This Act [amending <ns0:ref href=\"/us/usc/t42/s280g\">section 280g of this\n",
      "title</ns0:ref> and enacting provisions set out as notes under <ns0:ref href=\"/us/usc/t42/s280g\">section 280g of this title</ns0:ref>] may\n",
      "be cited as the ‘Asthmatic Schoolchildren’s Treatment and Health Management Act of 2004’.”</ns0:quotedContent> </ns0:p> <ns0:p><ns0:ref\n",
      "href=\"/us/pl/108/365/s1\">Pub. L. 108–365, § 1</ns0:ref>, <ns0:date date=\"2004-10-25\">Oct. 25, 2004</ns0:date>, <ns0:ref\n",
      "href=\"/us/stat/118/1738\">118 Stat. 1738</ns0:ref>, provided that: <ns0:quotedContent origin=\"/us/pl/108/365/s1\">“This Act [amending <ns0:ref\n",
      "href=\"/us/usc/t42/s263b\">section 263b of this title</ns0:ref>] may be cited as the ‘Mammography Quality Standards Reauthorization Act of\n",
      "2004’.”</ns0:quotedContent> </ns0:p> <ns0:p><ns0:ref href=\"/us/pl/108/362/s1\">Pub. L. 108–362, § 1</ns0:ref>, <ns0:date\n",
      "date=\"2004-10-25\">Oct. 25, 2004</ns0:date>, <ns0:ref href=\"/us/stat/118/1703\">118 Stat. 1703</ns0:ref>, provided that: <ns0:quotedContent\n",
      "origin=\"/us/pl/108/362/s1\">“This Act [amending sections 273 and 285c–3 of this title] may be cited as the ‘Pancreatic Islet Cell\n",
      "Transplantation Act of 2004’.”</ns0:quotedContent> </ns0:p> <ns0:p><ns0:ref href=\"/us/pl/108/355/s1\">Pub. L. 108–355, § 1</ns0:ref>,\n",
      "<ns0:date date=\"2004-10-21\">Oct. 21, 2004</ns0:date>, <ns0:ref href=\"/us/stat/118/1404\">118 Stat. 1404</ns0:ref>, provided that:\n",
      "<ns0:quotedContent origin=\"/us/pl/108/355/s1\">“This Act [enacting sections 290bb–36 and 290bb–36b of this title, amending sections 290bb–34\n",
      "and 290bb–36 of this title, renumbering former <ns0:ref href=\"/us/usc/t42/s290bb–36\">section 290bb–36 of this title</ns0:ref> as <ns0:ref\n",
      "href=\"/us/usc/t42/s290bb–36a\">section 290bb–36a of this title</ns0:ref>, and enacting provisions set out as a note under <ns0:ref\n",
      "href=\"/us/usc/t42/s290bb–36\">section 290bb–36 of this title</ns0:ref>] may be cited as the ‘Garrett Lee Smith Memorial\n",
      "Act’.”</ns0:quotedContent> </ns0:p> <ns0:p><ns0:ref href=\"/us/pl/108/276/s1\">Pub. L. 108–276, § 1</ns0:ref>, <ns0:date\n",
      "date=\"2004-07-21\">July 21, 2004</ns0:date>, <ns0:ref href=\"/us/stat/118/835\">118 Stat. 835</ns0:ref>, provided that: <ns0:quotedContent\n",
      "origin=\"/us/pl/108/276/s1\">“This Act [enacting sections 247d–6a and 247d–6c of this title and <ns0:ref href=\"/us/usc/t6/s320\">section 320 of\n",
      "Title 6</ns0:ref>, Domestic Security, amending sections 247d–6, 247d–6b, 287a–2, 300aa–6, and 1320b–5 of this title, sections 312 and 313 of\n",
      "Title 6, and <ns0:ref href=\"/us/usc/t21/s360bbb–3\">section 360bbb–3 of Title 21</ns0:ref>, Food and Drugs, renumbering <ns0:ref\n",
      "href=\"/us/usc/t42/s300hh–12\">section 300hh–12 of this title</ns0:ref> as <ns0:ref href=\"/us/usc/t42/s247d–6b\">section 247d–6b of this\n",
      "title</ns0:ref>, enacting provisions set out as notes under sections 247d–6a and 247d–6b of this title, and repealing provisions set out as\n",
      "a note under <ns0:ref href=\"/us/usc/t10/s1107a\">section 1107a of Title 10</ns0:ref>, Armed Forces] may be cited as the ‘Project BioShield\n",
      "Act of 2004’.”</ns0:quotedContent> </ns0:p> <ns0:p><ns0:ref href=\"/us/pl/108/216/s1\">Pub. L. 108–216, § 1</ns0:ref>, <ns0:date\n",
      "date=\"2004-04-05\">Apr. 5, 2004</ns0:date>, <ns0:ref href=\"/us/stat/118/584\">118 Stat. 584</ns0:ref>, provided that: <ns0:quotedContent\n",
      "origin=\"/us/pl/108/216/s1\">“This Act [enacting sections 273a and 274f–1 to 274f–4 of this title and amending sections 273 and 274f of this\n",
      "title] may be cited as the ‘Organ Donation and Recovery Improvement Act’.”</ns0:quotedContent> </ns0:p> </ns0:note> <ns0:note style=\"-uslm-\n",
      "lc:I74\" topic=\"shortTitleOfAmendment\" id=\"idb10eb8e8-d970-11ed-a113-e530e1711693\"><ns0:heading class=\"centered smallCaps\">Short Title of\n",
      "2003 Amendments</ns0:heading><ns0:p><ns0:ref href=\"/us/pl/108/197/s1\">Pub. L. 108–197, § 1</ns0:ref>, <ns0:date date=\"2003-12-19\">Dec. 19,\n",
      "2003</ns0:date>, <ns0:ref href=\"/us/stat/117/2898\">117 Stat. 2898</ns0:ref>, provided that: <ns0:quotedContent\n",
      "origin=\"/us/pl/108/197/s1\">“This Act [amending <ns0:ref href=\"/us/usc/t42/s300gg–5\">section 300gg–5 of this title</ns0:ref> and <ns0:ref\n",
      "href=\"/us/usc/t29/s1185a\">section 1185a of Title 29</ns0:ref>, Labor] may be cited as the ‘Mental Health Parity Reauthorization Act of\n",
      "2003’.”</ns0:quotedContent> </ns0:p> <ns0:p><ns0:ref href=\"/us/pl/108/194/s1\">Pub. L. 108–194, § 1</ns0:ref>, <ns0:date\n",
      "date=\"2003-12-19\">Dec. 19, 2003</ns0:date>, <ns0:ref href=\"/us/stat/117/2888\">117 Stat. 2888</ns0:ref>, provided that: <ns0:quotedContent\n",
      "origin=\"/us/pl/108/194/s1\">“This Act [enacting part G (§ 300d–71 et seq.) of subchapter X of this chapter, repealing chapter 142 of this\n",
      "title, enacting provisions set out as a note under <ns0:ref href=\"/us/usc/t42/s300d–71\">section 300d–71 of this title</ns0:ref>, and\n",
      "repealing provisions set out as a note under <ns0:ref href=\"/us/usc/t42/s14801\">section 14801 of this title</ns0:ref>] may be cited as the\n",
      "‘Poison Control Center Enhancement and Awareness Act Amendments of 2003’.”</ns0:quotedContent> </ns0:p> <ns0:p><ns0:ref\n",
      "href=\"/us/pl/108/163/s1\">Pub. L. 108–163, § 1</ns0:ref>, <ns0:date date=\"2003-12-06\">Dec. 6, 2003</ns0:date>, <ns0:ref\n",
      "href=\"/us/stat/117/2020\">117 Stat. 2020</ns0:ref>, provided that: <ns0:quotedContent origin=\"/us/pl/108/163/s1\">“This Act [enacting <ns0:ref\n",
      "href=\"/us/usc/t42/s254c–18\">section 254c–18 of this title</ns0:ref>, amending sections 233, 247b–1, 247b–6, 247c–1, 254b, 254c, 254c–14,\n",
      "254c–16, 254e to 254g, 254<ns0:i>l</ns0:i>, 254<ns0:i>l</ns0:i>–1, 254<ns0:i>o</ns0:i>, 300e–12, and 300ff–52 of this title, repealing\n",
      "<ns0:ref href=\"/us/usc/t42/s254c–17\">section 254c–17 of this title</ns0:ref>, enacting provisions set out as a note under <ns0:ref\n",
      "href=\"/us/usc/t42/s233\">section 233 of this title</ns0:ref>, amending provisions set out as notes under sections 254b and 1396a of this\n",
      "title, and repealing provisions set out as notes under sections 254e and 254<ns0:i>o</ns0:i> of this title] may be cited as the ‘Health Care\n",
      "Safety Net Amendments Technical Corrections Act of 2003’.”</ns0:quotedContent> </ns0:p> <ns0:p><ns0:ref href=\"/us/pl/108/154/s1\">Pub. L.\n",
      "108–154, § 1</ns0:ref>, <ns0:date date=\"2003-12-03\">Dec. 3, 2003</ns0:date>, <ns0:ref href=\"/us/stat/117/1933\">117 Stat. 1933</ns0:ref>,\n",
      "provided that: <ns0:quotedContent origin=\"/us/pl/108/154/s1\">“This Act [amending sections 247b–4 and 15022 of this title and enacting\n",
      "provisions set out as notes under sections 247b–4b and 15022 of this title] may be cited as the ‘Birth Defects and Developmental\n",
      "Disabilities Prevention Act of 2003’.”</ns0:quotedContent> </ns0:p> <ns0:p><ns0:ref href=\"/us/pl/108/75/s1\">Pub. L. 108–75, § 1</ns0:ref>,\n",
      "<ns0:date date=\"2003-08-15\">Aug. 15, 2003</ns0:date>, <ns0:ref href=\"/us/stat/117/898\">117 Stat. 898</ns0:ref>, provided that:\n",
      "<ns0:quotedContent origin=\"/us/pl/108/75/s1\">“This Act [enacting sections 247b–21 and 285<ns0:i>l</ns0:i>–6 of this title and amending\n",
      "<ns0:ref href=\"/us/usc/t42/s247b–20\">section 247b–20 of this title</ns0:ref>] may be cited as the ‘Mosquito Abatement for Safety and Health\n",
      "Act’.”</ns0:quotedContent> </ns0:p> <ns0:p><ns0:ref href=\"/us/pl/108/41/s1\">Pub. L. 108–41, § 1</ns0:ref>, <ns0:date date=\"2003-07-01\">July\n",
      "1, 2003</ns0:date>, <ns0:ref href=\"/us/stat/117/839\">117 Stat. 839</ns0:ref>, provided that: <ns0:quotedContent\n",
      "origin=\"/us/pl/108/41/s1\">“This Act [amending <ns0:ref href=\"/us/usc/t42/s244\">section 244 of this title</ns0:ref>] may be cited as the\n",
      "‘Automatic Defibrillation in Adam’s Memory Act’.”</ns0:quotedContent> </ns0:p> <ns0:p><ns0:ref href=\"/us/pl/108/20/s1\">Pub. L. 108–20,\n",
      "§ 1</ns0:ref>, <ns0:date date=\"2003-04-30\">Apr. 30, 2003</ns0:date>, <ns0:ref href=\"/us/stat/117/638\">117 Stat. 638</ns0:ref>, provided\n",
      "that: <ns0:quotedContent origin=\"/us/pl/108/20/s1\">“This Act [enacting part C (§ 239 et seq.) of subchapter I of this chapter, amending\n",
      "<ns0:ref href=\"/us/usc/t42/s233\">section 233 of this title</ns0:ref>, and enacting provisions set out as a note under <ns0:ref\n",
      "href=\"/us/usc/t42/s233\">section 233 of this title</ns0:ref>] may be cited as the ‘Smallpox Emergency Personnel Protection Act of\n",
      "2003’.”</ns0:quotedContent> </ns0:p> </ns0:note> <ns0:note style=\"-uslm-lc:I74\" topic=\"shortTitleOfAmendment\"\n",
      "id=\"idb10eb8e9-d970-11ed-a113-e530e1711693\"><ns0:heading class=\"centered smallCaps\">Short Title of 2002\n",
      "Amendments</ns0:heading><ns0:p><ns0:ref href=\"/us/pl/107/313/s1\">Pub. L. 107–313, § 1</ns0:ref>, <ns0:date date=\"2002-12-02\">Dec. 2,\n",
      "2002</ns0:date>, <ns0:ref href=\"/us/stat/116/2457\">116 Stat. 2457</ns0:ref>, provided that: <ns0:quotedContent\n",
      "origin=\"/us/pl/107/313/s1\">“This Act [amending <ns0:ref href=\"/us/usc/t42/s300gg–5\">section 300gg–5 of this title</ns0:ref> and <ns0:ref\n",
      "href=\"/us/usc/t29/s1185a\">section 1185a of Title 29</ns0:ref>, Labor] may be cited as the ‘Mental Health Parity Reauthorization Act of\n",
      "2002’.”</ns0:quotedContent> </ns0:p> <ns0:p><ns0:ref href=\"/us/pl/107/280/s1\">Pub. L. 107–280, § 1</ns0:ref>, <ns0:date\n",
      "date=\"2002-11-06\">Nov. 6, 2002</ns0:date>, <ns0:ref href=\"/us/stat/116/1988\">116 Stat. 1988</ns0:ref>, provided that: <ns0:quotedContent\n",
      "origin=\"/us/pl/107/280/s1\">“This Act [enacting sections 283h and 283i of this title and provisions set out as a note under <ns0:ref\n",
      "href=\"/us/usc/t42/s283h\">section 283h of this title</ns0:ref>] may be cited as the ‘Rare Diseases Act of 2002’.”</ns0:quotedContent>\n",
      "</ns0:p> <ns0:p><ns0:ref href=\"/us/pl/107/260/s1\">Pub. L. 107–260, § 1</ns0:ref>, <ns0:date date=\"2002-10-29\">Oct. 29, 2002</ns0:date>,\n",
      "<ns0:ref href=\"/us/stat/116/1743\">116 Stat. 1743</ns0:ref>, provided that: <ns0:quotedContent origin=\"/us/pl/107/260/s1\">“This Act [amending\n",
      "<ns0:ref href=\"/us/usc/t42/s280e\">section 280e of this title</ns0:ref> and enacting provisions set out as a note under <ns0:ref\n",
      "href=\"/us/usc/t42/s280e\">section 280e of this title</ns0:ref>] may be cited as the ‘Benign Brain Tumor Cancer Registries Amendment\n",
      "Act’.”</ns0:quotedContent> </ns0:p> <ns0:p><ns0:ref href=\"/us/pl/107/251/s1/a\">Pub. L. 107–251, § 1(a)</ns0:ref>, <ns0:date\n",
      "date=\"2002-10-26\">Oct. 26, 2002</ns0:date>, <ns0:ref href=\"/us/stat/116/1621\">116 Stat. 1621</ns0:ref>, provided that: <ns0:quotedContent\n",
      "origin=\"/us/pl/107/251/s1/a\">“This Act [enacting subparts V (§ 256) and X (§ 256f et seq.) of part D of subchapter II of this chapter and\n",
      "sections 254c–14 to 254c–17, 254g, and 254t of this title, amending sections 233, 247b–1, 247b–6, 247c–1, 254b, 254c, 254d to 254f–1, 254h\n",
      "to 254i, 254k to 254<ns0:i>o</ns0:i>, 254q, 254q–1, 256d, 290cc–34, 294<ns0:i>o</ns0:i>, 295p, 300e–12, and 300ff–52 of this title,\n",
      "repealing sections 254g and 254t of this title, and enacting provisions set out as notes under this section and sections 254b, 254e,\n",
      "254<ns0:i>l</ns0:i>, 254<ns0:i>o</ns0:i>, 256, and 1396a of this title] may be cited as the ‘Health Care Safety Net Amendments of\n",
      "2002’.”</ns0:quotedContent> </ns0:p> <ns0:p><ns0:ref href=\"/us/pl/107/251/tII/s211\">Pub. L. 107–251, title II, § 211</ns0:ref>, <ns0:date\n",
      "date=\"2002-10-26\">Oct. 26, 2002</ns0:date>, <ns0:ref href=\"/us/stat/116/1632\">116 Stat. 1632</ns0:ref>, provided that: <ns0:quotedContent\n",
      "origin=\"/us/pl/107/251/tII/s211\">“This subtitle [subtitle B (§§ 211, 212) of title II of <ns0:ref href=\"/us/pl/107/251\">Pub. L.\n",
      "107–251</ns0:ref>, enacting <ns0:ref href=\"/us/usc/t42/s254c–14\">section 254c–14 of this title</ns0:ref>] may be cited as the ‘Telehealth\n",
      "Grant Consolidation Act of 2002’.”</ns0:quotedContent> </ns0:p> <ns0:p><ns0:ref href=\"/us/pl/107/205/s1\">Pub. L. 107–205, § 1</ns0:ref>,\n",
      "<ns0:date date=\"2002-08-01\">Aug. 1, 2002</ns0:date>, <ns0:ref href=\"/us/stat/116/811\">116 Stat. 811</ns0:ref>, provided that:\n",
      "<ns0:quotedContent origin=\"/us/pl/107/205/s1\">“This Act [enacting sections 297n–1, 297w, 297x, and 298 of this title, amending sections\n",
      "294c, 296, 296p, and 297n of this title, and enacting provisions set out as a note under <ns0:ref href=\"/us/usc/t42/s296\">section 296 of\n",
      "this title</ns0:ref>] may be cited as the ‘Nurse Reinvestment Act’.”</ns0:quotedContent> </ns0:p> <ns0:p><ns0:ref\n",
      "href=\"/us/pl/107/188/s1/a\">Pub. L. 107–188, § 1(a)</ns0:ref>, <ns0:date date=\"2002-06-12\">June 12, 2002</ns0:date>, <ns0:ref\n",
      "href=\"/us/stat/116/594\">116 Stat. 594</ns0:ref>, provided that: <ns0:quotedContent origin=\"/us/pl/107/188/s1/a\">“This Act [see Tables for\n",
      "classification] may be cited as the ‘Public Health Security and Bioterrorism Preparedness and Response Act of 2002’.”</ns0:quotedContent>\n",
      "</ns0:p> <ns0:p><ns0:ref href=\"/us/pl/107/188/tI/s159/a\">Pub. L. 107–188, title I, § 159(a)</ns0:ref>, <ns0:date date=\"2002-06-12\">June 12,\n",
      "2002</ns0:date>, <ns0:ref href=\"/us/stat/116/634\">116 Stat. 634</ns0:ref>, provided that: <ns0:quotedContent\n",
      "origin=\"/us/pl/107/188/tI/s159/a\">“This section [enacting sections 244 and 245 of this title and provisions set out as a note under <ns0:ref\n",
      "href=\"/us/usc/t42/s244\">section 244 of this title</ns0:ref>] may be cited as the ‘Community Access to Emergency Defibrillation Act of\n",
      "2002’.”</ns0:quotedContent> </ns0:p> <ns0:p><ns0:ref href=\"/us/pl/107/172/s1\">Pub. L. 107–172, § 1</ns0:ref>, <ns0:date\n",
      "date=\"2002-05-14\">May 14, 2002</ns0:date>, <ns0:ref href=\"/us/stat/116/541\">116 Stat. 541</ns0:ref>, provided that: <ns0:quotedContent\n",
      "origin=\"/us/pl/107/172/s1\">“This Act [enacting <ns0:ref href=\"/us/usc/t42/s285a–10\">section 285a–10 of this title</ns0:ref> and provisions\n",
      "set out as a note under <ns0:ref href=\"/us/usc/t42/s285a–10\">section 285a–10 of this title</ns0:ref>] may be cited as the ‘Hematological\n",
      "Cancer Research Investment and Education Act of 2002’.”</ns0:quotedContent> </ns0:p> </ns0:note> <ns0:note style=\"-uslm-lc:I74\"\n",
      "topic=\"shortTitleOfAmendment\" id=\"idb10eb8ea-d970-11ed-a113-e530e1711693\"><ns0:heading class=\"centered smallCaps\">Short Title of 2001\n",
      "Amendment</ns0:heading><ns0:p><ns0:ref href=\"/us/pl/107/84/s1\">Pub. L. 107–84, § 1</ns0:ref>, <ns0:date date=\"2001-12-18\">Dec. 18,\n",
      "2001</ns0:date>, <ns0:ref href=\"/us/stat/115/823\">115 Stat. 823</ns0:ref>, provided that: <ns0:quotedContent origin=\"/us/pl/107/84/s1\">“This\n",
      "Act [enacting sections 247b–18, 247b–19, and 283g of this title and enacting provisions set out as notes under sections 247b–18 and 281 of\n",
      "this title] may be cited as the ‘Muscular Dystrophy Community Assistance, Research and Education Amendments of 2001’, or the ‘MD–CARE\n",
      "Act’.”</ns0:quotedContent> </ns0:p> </ns0:note> <ns0:note style=\"-uslm-lc:I74\" topic=\"shortTitleOfAmendment\"\n",
      "id=\"idb10eb8eb-d970-11ed-a113-e530e1711693\"><ns0:heading class=\"centered smallCaps\">Short Title of 2000\n",
      "Amendments</ns0:heading><ns0:p><ns0:ref href=\"/us/pl/106/580/s1\">Pub. L. 106–580, § 1</ns0:ref>, <ns0:date date=\"2000-12-29\">Dec. 29,\n",
      "2000</ns0:date>, <ns0:ref href=\"/us/stat/114/3088\">114 Stat. 3088</ns0:ref>, provided that: <ns0:quotedContent\n",
      "origin=\"/us/pl/106/580/s1\">“This Act [enacting <ns0:ref href=\"/us/usc/t42/s285r\">section 285r of this title</ns0:ref>, amending <ns0:ref\n",
      "href=\"/us/usc/t42/s281\">section 281 of this title</ns0:ref>, and enacting provisions set out as notes under <ns0:ref\n",
      "href=\"/us/usc/t42/s285r\">section 285r of this title</ns0:ref>] may be cited as the ‘National Institute of Biomedical Imaging and\n",
      "Bioengineering Establishment Act’.”</ns0:quotedContent> </ns0:p> <ns0:p><ns0:ref href=\"/us/pl/106/551/s1\">Pub. L. 106–551, § 1</ns0:ref>,\n",
      "<ns0:date date=\"2000-12-20\">Dec. 20, 2000</ns0:date>, <ns0:ref href=\"/us/stat/114/2752\">114 Stat. 2752</ns0:ref>, provided that:\n",
      "<ns0:quotedContent origin=\"/us/pl/106/551/s1\">“This Act [enacting <ns0:ref href=\"/us/usc/t42/s287a–3a\">section 287a–3a of this\n",
      "title</ns0:ref> and provisions set out as a note under <ns0:ref href=\"/us/usc/t42/s287a–3a\">section 287a–3a of this title</ns0:ref>] may be\n",
      "cited as the ‘Chimpanzee Health Improvement, Maintenance, and Protection Act’.”</ns0:quotedContent> </ns0:p> <ns0:p><ns0:ref\n",
      "href=\"/us/pl/106/545/s1\">Pub. L. 106–545, § 1</ns0:ref>, <ns0:date date=\"2000-12-19\">Dec. 19, 2000</ns0:date>, <ns0:ref\n",
      "href=\"/us/stat/114/2721\">114 Stat. 2721</ns0:ref>, provided that: <ns0:quotedContent origin=\"/us/pl/106/545/s1\">“This Act [enacting sections\n",
      "285<ns0:i>l</ns0:i>–2 to 285<ns0:i>l</ns0:i>–5 of this title] may be cited as the ‘ICCVAM Authorization Act of 2000’.”</ns0:quotedContent>\n",
      "</ns0:p> <ns0:p><ns0:ref href=\"/us/pl/106/525/s1/a\">Pub. L. 106–525, § 1(a)</ns0:ref>, <ns0:date date=\"2000-11-22\">Nov. 22, 2000</ns0:date>,\n",
      "<ns0:ref href=\"/us/stat/114/2495\">114 Stat. 2495</ns0:ref>, provided that: <ns0:quotedContent origin=\"/us/pl/106/525/s1/a\">“This Act\n",
      "[enacting sections 287c–31 to 287c–34, 293e, 296e–1, and 299a–1 of this title, amending sections 281, 296f, 299a, 299c–6, and 300u–6 of this\n",
      "title, repealing <ns0:ref href=\"/us/usc/t42/s283b\">section 283b of this title</ns0:ref>, and enacting provisions set out as notes under\n",
      "sections 281, 287c–31, 293e, and 3501 of this title] may be cited as the ‘Minority Health and Health Disparities Research and Education Act\n",
      "of 2000’.”</ns0:quotedContent> </ns0:p> <ns0:p><ns0:ref href=\"/us/pl/106/505/s1/a\">Pub. L. 106–505, § 1(a)</ns0:ref>, <ns0:date\n",
      "date=\"2000-11-13\">Nov. 13, 2000</ns0:date>, <ns0:ref href=\"/us/stat/114/2314\">114 Stat. 2314</ns0:ref>, provided that: <ns0:quotedContent\n",
      "origin=\"/us/pl/106/505/s1/a\">“This Act [enacting sections 238p, 238q, 247d to 247d–7, 254c–9 to 254c–13, 284k, 284<ns0:i>l</ns0:i>, 285d–6a,\n",
      "285e–10a, 285f–3, 287a–4 and 288–5a of this title, amending sections 273, 274b–5, 284d, 285a–8, 285e–11, 285f–3, 287a–2 and 287a–3 of this\n",
      "title, repealing former <ns0:ref href=\"/us/usc/t42/s247d\">section 247d of this title</ns0:ref>, enacting provisions set out as notes under\n",
      "this section and sections 238p, 254c, 273, 284k, 285d–6a, 287, 287a–2 and 289 of this title, and amending provisions set out as a note under\n",
      "<ns0:ref href=\"/us/usc/t42/s289\">section 289 of this title</ns0:ref>] may be cited as the ‘Public Health Improvement\n",
      "Act’.”</ns0:quotedContent> </ns0:p> <ns0:p><ns0:ref href=\"/us/pl/106/505/tI/s101\">Pub. L. 106–505, title I, § 101</ns0:ref>, <ns0:date\n",
      "date=\"2000-11-13\">Nov. 13, 2000</ns0:date>, <ns0:ref href=\"/us/stat/114/2315\">114 Stat. 2315</ns0:ref>, provided that: <ns0:quotedContent\n",
      "origin=\"/us/pl/106/505/tI/s101\">“This title [enacting sections 247d to 247d–7 of this title and repealing former <ns0:ref\n",
      "href=\"/us/usc/t42/s247d\">section 247d of this title</ns0:ref>] may be cited as the ‘Public Health Threats and Emergencies\n",
      "Act’.”</ns0:quotedContent> </ns0:p> <ns0:p><ns0:ref href=\"/us/pl/106/505/tII/s201\">Pub. L. 106–505, title II, § 201</ns0:ref>, <ns0:date\n",
      "date=\"2000-11-13\">Nov. 13, 2000</ns0:date>, <ns0:ref href=\"/us/stat/114/2325\">114 Stat. 2325</ns0:ref>, provided that: <ns0:quotedContent\n",
      "origin=\"/us/pl/106/505/tII/s201\">“This title [enacting sections 284k, 284<ns0:i>l</ns0:i>, 287a–4 and 288a–5 of this title, amending\n",
      "<ns0:ref href=\"/us/usc/t42/s284d\">section 284d of this title</ns0:ref>, and enacting provisions set out as notes under <ns0:ref\n",
      "href=\"/us/usc/t42/s284k\">section 284k of this title</ns0:ref>] may be cited as the ‘Clinical Research Enhancement Act of\n",
      "2000’.”</ns0:quotedContent> </ns0:p> <ns0:p><ns0:ref href=\"/us/pl/106/505/tIII/s301\">Pub. L. 106–505, title III, § 301</ns0:ref>, <ns0:date\n",
      "date=\"2000-11-13\">Nov. 13, 2000</ns0:date>, <ns0:ref href=\"/us/stat/114/2330\">114 Stat. 2330</ns0:ref>, provided that: <ns0:quotedContent\n",
      "origin=\"/us/pl/106/505/tIII/s301\">“This title [enacting <ns0:ref href=\"/us/usc/t42/s287a–2\">section 287a–2 of this title</ns0:ref>, amending\n",
      "<ns0:ref href=\"/us/usc/t42/s287a–3\">section 287a–3 of this title</ns0:ref>, and enacting provisions set out as notes under sections 287 and\n",
      "287a–2 of this title] may be cited as the ‘Twenty-First Century Research Laboratories Act’.”</ns0:quotedContent> </ns0:p> <ns0:p><ns0:ref\n",
      "href=\"/us/pl/106/505/tIV/s401\">Pub. L. 106–505, title IV, § 401</ns0:ref>, <ns0:date date=\"2000-11-13\">Nov. 13, 2000</ns0:date>, <ns0:ref\n",
      "href=\"/us/stat/114/2336\">114 Stat. 2336</ns0:ref>, provided that: <ns0:quotedContent origin=\"/us/pl/106/505/tIV/s401\">“This subtitle\n",
      "[subtitle A (§§ 401–404) of title IV of <ns0:ref href=\"/us/pl/106/505\">Pub. L. 106–505</ns0:ref>, enacting sections 238p and 238q of this\n",
      "title and provisions set out as a note under <ns0:ref href=\"/us/usc/t42/s238p\">section 238p of this title</ns0:ref>] may be cited as the\n",
      "‘Cardiac Arrest Survival Act of 2000’.”</ns0:quotedContent> </ns0:p> <ns0:p><ns0:ref href=\"/us/pl/106/505/tV/s501\">Pub. L. 106–505, title V,\n",
      "§ 501</ns0:ref>, <ns0:date date=\"2000-11-13\">Nov. 13, 2000</ns0:date>, <ns0:ref href=\"/us/stat/114/2342\">114 Stat. 2342</ns0:ref>, provided\n",
      "that: <ns0:quotedContent origin=\"/us/pl/106/505/tV/s501\">“This title [enacting sections 254c–9 to 254c–13 and 285d–6a of this title and\n",
      "provisions set out as a note under <ns0:ref href=\"/us/usc/t42/s285d–6a\">section 285d–6a of this title</ns0:ref>] may be cited as the ‘Lupus\n",
      "Research and Care Amendments of 2000’.”</ns0:quotedContent> </ns0:p> <ns0:p><ns0:ref href=\"/us/pl/106/505/tVI/s601\">Pub. L. 106–505, title\n",
      "VI, § 601</ns0:ref>, <ns0:date date=\"2000-11-13\">Nov. 13, 2000</ns0:date>, <ns0:ref href=\"/us/stat/114/2345\">114 Stat. 2345</ns0:ref>,\n",
      "provided that: <ns0:quotedContent origin=\"/us/pl/106/505/tVI/s601\">“This title [amending sections 247b–5 and 285a–8 of this title] may be\n",
      "cited as the ‘Prostate Cancer Research and Prevention Act’.”</ns0:quotedContent> </ns0:p> <ns0:p><ns0:ref\n",
      "href=\"/us/pl/106/505/tVII/s701/a\">Pub. L. 106–505, title VII, § 701(a)</ns0:ref>, <ns0:date date=\"2000-11-13\">Nov. 13, 2000</ns0:date>,\n",
      "<ns0:ref href=\"/us/stat/114/2346\">114 Stat. 2346</ns0:ref>, provided that: <ns0:quotedContent origin=\"/us/pl/106/505/tVII/s701/a\">“This\n",
      "section [amending <ns0:ref href=\"/us/usc/t42/s273\">section 273 of this title</ns0:ref> and enacting provisions set out as a note under\n",
      "<ns0:ref href=\"/us/usc/t42/s273\">section 273 of this title</ns0:ref>] may be cited as the ‘Organ Procurement Organization Certification Act\n",
      "of 2000’.”</ns0:quotedContent> </ns0:p> <ns0:p><ns0:ref href=\"/us/pl/106/345/s1\">Pub. L. 106–345, § 1</ns0:ref>, <ns0:date\n",
      "date=\"2000-10-20\">Oct. 20, 2000</ns0:date>, <ns0:ref href=\"/us/stat/114/1319\">114 Stat. 1319</ns0:ref>, provided that: <ns0:quotedContent\n",
      "origin=\"/us/pl/106/345/s1\">“This Act [enacting subpart III (§ 300ff–38) of part B of subchapter XXIV of this chapter and sections 247c–2,\n",
      "300ff–30, 300ff–37a, 300ff–75a, and 300ff–75b of this title, redesignating subparts II (§ 300ff–51 et seq.) and III (§ 300ff–61 et seq.) of\n",
      "part C of subchapter XXIV of this chapter as subparts I and II, respectively, of part C of subchapter XXIV of this chapter, amending\n",
      "sections 300ff–12 to 300ff–15, 300ff–21 to 300ff–23, 300ff–26 to 300ff–28, 300ff–33, 300ff–34, 300ff–37, 300ff–53 to 300ff–55, 300ff–61,\n",
      "300ff–62, 300ff–64, 300ff–71, 300ff–73 to 300ff–75, 300ff–77, and 300ff–111 of this title, repealing former subpart I (§ 300ff–41 et seq.)\n",
      "of part C of subchapter XXIV of this chapter and sections 300ff–31, 300ff–35, and 300ff–36 of this title, and enacting provisions set out as\n",
      "notes under sections 300cc, 300ff–11, 300ff–12, and 300ff–111 of this title] may be cited as the ‘Ryan White CARE Act Amendments of\n",
      "2000’.”</ns0:quotedContent> </ns0:p> <ns0:p><ns0:ref href=\"/us/pl/106/310/s1\">Pub. L. 106–310, § 1</ns0:ref>, <ns0:date\n",
      "date=\"2000-10-17\">Oct. 17, 2000</ns0:date>, <ns0:ref href=\"/us/stat/114/1101\">114 Stat. 1101</ns0:ref>, provided that: <ns0:quotedContent\n",
      "origin=\"/us/pl/106/310/s1\">“This Act [see Tables for classification] may be cited as the ‘Children’s Health Act of\n",
      "2000’.”</ns0:quotedContent> </ns0:p> <ns0:p><ns0:ref href=\"/us/pl/106/310/dB/s3001\">Pub. L. 106–310, div. B, § 3001</ns0:ref>, <ns0:date\n",
      "date=\"2000-10-17\">Oct. 17, 2000</ns0:date>, <ns0:ref href=\"/us/stat/114/1168\">114 Stat. 1168</ns0:ref>, provided that: <ns0:quotedContent\n",
      "origin=\"/us/pl/106/310/dB/s3001\">“This division [see Tables for classification] may be cited as the ‘Youth Drug and Mental Health Services\n",
      "Act’.”</ns0:quotedContent> </ns0:p> <ns0:p><ns0:ref href=\"/us/pl/106/310/dB/tXXXVI/s3661\">Pub. L. 106–310, div. B, title XXXVI,\n",
      "§ 3661</ns0:ref>, <ns0:date date=\"2000-10-17\">Oct. 17, 2000</ns0:date>, <ns0:ref href=\"/us/stat/114/1241\">114 Stat. 1241</ns0:ref>, provided\n",
      "that: <ns0:quotedContent origin=\"/us/pl/106/310/dB/tXXXVI/s3661\">“This subtitle [subtitle C (§§ 3661–3665) of title XXXVI of <ns0:ref\n",
      "href=\"/us/pl/106/310\">Pub. L. 106–310</ns0:ref>, enacting <ns0:ref href=\"/us/usc/t42/s290aa–5b\">section 290aa–5b of this title</ns0:ref> and\n",
      "provisions set out as notes under <ns0:ref href=\"/us/usc/t42/s290aa–5b\">section 290aa–5b of this title</ns0:ref> and <ns0:ref\n",
      "href=\"/us/usc/t28/s994\">section 994 of Title 28</ns0:ref>, Judiciary and Judicial Procedure] may be cited as the ‘Ecstasy Anti-Proliferation\n",
      "Act of 2000’.”</ns0:quotedContent> </ns0:p> </ns0:note> <ns0:note style=\"-uslm-lc:I74\" topic=\"shortTitleOfAmendment\"\n",
      "id=\"idb10eb8ec-d970-11ed-a113-e530e1711693\"><ns0:heading class=\"centered smallCaps\">Short Title of 1999\n",
      "Amendment</ns0:heading><ns0:p><ns0:ref href=\"/us/pl/106/129/s1\">Pub. L. 106–129, § 1</ns0:ref>, <ns0:date date=\"1999-12-06\">Dec. 6,\n",
      "1999</ns0:date>, <ns0:ref href=\"/us/stat/113/1653\">113 Stat. 1653</ns0:ref>, provided that: <ns0:quotedContent\n",
      "origin=\"/us/pl/106/129/s1\">“This Act [enacting subchapter VII of this chapter and sections 254c–4 and 256e of this title, amending sections\n",
      "203, 242b, 242q–1, 286d, 288, 289c–1, 290aa, 300cc–18, 300ff–73, 1320b–12, 11221, and 11261 of this title, enacting provisions set out as\n",
      "notes under sections 241, 254c, 295k, and 299 of this title, and amending provisions set out as a note under <ns0:ref\n",
      "href=\"/us/usc/t42/s299a\">section 299a of this title</ns0:ref>] may be cited as the ‘Healthcare Research and Quality Act of\n",
      "1999’.”</ns0:quotedContent> </ns0:p> </ns0:note> <ns0:note style=\"-uslm-lc:I74\" topic=\"shortTitleOfAmendment\"\n",
      "id=\"idb10eb8ed-d970-11ed-a113-e530e1711693\"><ns0:heading class=\"centered smallCaps\">Short Title of 1998\n",
      "Amendments</ns0:heading><ns0:p><ns0:ref href=\"/us/pl/105/392/s1/a\">Pub. L. 105–392, § 1(a)</ns0:ref>, <ns0:date date=\"1998-11-13\">Nov. 13,\n",
      "1998</ns0:date>, <ns0:ref href=\"/us/stat/112/3524\">112 Stat. 3524</ns0:ref>, provided that: <ns0:quotedContent\n",
      "origin=\"/us/pl/105/392/s1/a\">“This Act [see Tables for classification] may be cited as the ‘Health Professions Education Partnerships Act of\n",
      "1998’.”</ns0:quotedContent> </ns0:p> <ns0:p><ns0:ref href=\"/us/pl/105/392/tI/s121\">Pub. L. 105–392, title I, § 121</ns0:ref>, <ns0:date\n",
      "date=\"1998-11-13\">Nov. 13, 1998</ns0:date>, <ns0:ref href=\"/us/stat/112/3562\">112 Stat. 3562</ns0:ref>, provided that: <ns0:quotedContent\n",
      "origin=\"/us/pl/105/392/tI/s121\">“This subtitle [subtitle B (§§ 121–124) of title I of <ns0:ref href=\"/us/pl/105/392\">Pub. L.\n",
      "105–392</ns0:ref>, enacting sections 296, 296a to 296f, 296j, 296m, 296p, 297q, and 297t of this title, transferring <ns0:ref\n",
      "href=\"/us/usc/t42/s298b–2\">section 298b–2 of this title</ns0:ref> to <ns0:ref href=\"/us/usc/t42/s296g\">section 296g of this title</ns0:ref>,\n",
      "repealing sections 296k to 296m, 296r, 297, 297–1, 297c, 298, 298a, 298b, 298b–1, 298b–3 to 298b–5, and 298b–7 of this title, and enacting\n",
      "provisions set out as notes under <ns0:ref href=\"/us/usc/t42/s296\">section 296 of this title</ns0:ref>] may be cited as the ‘Nursing\n",
      "Education and Practice Improvement Act of 1998’.”</ns0:quotedContent> </ns0:p> <ns0:p><ns0:ref href=\"/us/pl/105/392/tIV/s419/a\">Pub. L.\n",
      "105–392, title IV, § 419(a)</ns0:ref>, <ns0:date date=\"1998-11-13\">Nov. 13, 1998</ns0:date>, <ns0:ref href=\"/us/stat/112/3591\">112 Stat.\n",
      "3591</ns0:ref>, provided that: <ns0:quotedContent origin=\"/us/pl/105/392/tIV/s419/a\">“This section [enacting sections 280f to 280f–3 of this\n",
      "title and provisions set out as a note under <ns0:ref href=\"/us/usc/t42/s280f\">section 280f of this title</ns0:ref>] may be cited as the\n",
      "‘Fetal Alcohol Syndrome and Fetal Alcohol Effect Prevention and Services Act’.”</ns0:quotedContent> </ns0:p> <ns0:p><ns0:ref\n",
      "href=\"/us/pl/105/340/s1\">Pub. L. 105–340, § 1</ns0:ref>, <ns0:date date=\"1998-10-31\">Oct. 31, 1998</ns0:date>, <ns0:ref\n",
      "href=\"/us/stat/112/3191\">112 Stat. 3191</ns0:ref>, provided that: <ns0:quotedContent origin=\"/us/pl/105/340/s1\">“This Act [enacting sections\n",
      "285b–7a and 300u–9 of this title and amending sections 242k, 280e–4, 283a, 284e, 285a–8, 285e–10, 287d, 300k, 300n–4a, 300n–5, and 300u–5 of\n",
      "this title] may be cited as the ‘Women’s Health Research and Prevention Amendments of 1998’.”</ns0:quotedContent> </ns0:p> <ns0:p><ns0:ref\n",
      "href=\"/us/pl/105/277/dA/s101/f/tIX/s901\">Pub. L. 105–277, div. A, § 101(f) [title IX, § 901]</ns0:ref>, <ns0:date date=\"1998-10-21\">Oct. 21,\n",
      "1998</ns0:date>, <ns0:ref href=\"/us/stat/112/2681-337\">112 Stat. 2681–337</ns0:ref>, 2681–436, provided that: <ns0:quotedContent\n",
      "origin=\"/us/pl/105/277/dA/s101/f/tIX/s901\">“This title [enacting sections 300gg–6 and 300gg–52 of this title and <ns0:ref\n",
      "href=\"/us/usc/t29/s1185b\">section 1185b of Title 29</ns0:ref>, Labor, and provisions set out as notes under sections 300gg–6 and 300gg–52 of\n",
      "this title and <ns0:ref href=\"/us/usc/t29/s1185b\">section 1185b of Title 29</ns0:ref>] may be cited as the ‘Women’s Health and Cancer Rights\n",
      "Act of 1998’.”</ns0:quotedContent> </ns0:p> <ns0:p><ns0:ref href=\"/us/pl/105/248/s1\">Pub. L. 105–248, § 1</ns0:ref>, <ns0:date\n",
      "date=\"1998-10-09\">Oct. 9, 1998</ns0:date>, <ns0:ref href=\"/us/stat/112/1864\">112 Stat. 1864</ns0:ref>, provided that: <ns0:quotedContent\n",
      "origin=\"/us/pl/105/248/s1\">“This Act [amending <ns0:ref href=\"/us/usc/t42/s263b\">section 263b of this title</ns0:ref>] may be cited as the\n",
      "‘Mammography Quality Standards Reauthorization Act of 1998’.”</ns0:quotedContent> </ns0:p> <ns0:p><ns0:ref href=\"/us/pl/105/196/s1\">Pub. L.\n",
      "105–196, § 1</ns0:ref>, <ns0:date date=\"1998-07-16\">July 16, 1998</ns0:date>, <ns0:ref href=\"/us/stat/112/631\">112 Stat. 631</ns0:ref>,\n",
      "provided that: <ns0:quotedContent origin=\"/us/pl/105/196/s1\">“This Act [enacting sections 274<ns0:i>l</ns0:i> and 274m of this title,\n",
      "amending sections 274g and 274k of this title, repealing former section 274<ns0:i>l</ns0:i> of this title, and enacting provisions set out\n",
      "as notes under <ns0:ref href=\"/us/usc/t42/s274k\">section 274k of this title</ns0:ref>] may be cited as the ‘National Bone Marrow Registry\n",
      "Reauthorization Act of 1998’.”</ns0:quotedContent> </ns0:p> <ns0:p><ns0:ref href=\"/us/pl/105/168/s1/a\">Pub. L. 105–168, § 1(a)</ns0:ref>,\n",
      "<ns0:date date=\"1998-04-21\">Apr. 21, 1998</ns0:date>, <ns0:ref href=\"/us/stat/112/43\">112 Stat. 43</ns0:ref>, provided that:\n",
      "<ns0:quotedContent origin=\"/us/pl/105/168/s1/a\">“This Act [amending <ns0:ref href=\"/us/usc/t42/s247b–4\">section 247b–4 of this\n",
      "title</ns0:ref> and enacting provisions set out as a note under <ns0:ref href=\"/us/usc/t42/s247b–4\">section 247b–4 of this title</ns0:ref>]\n",
      "may be cited as the ‘Birth Defects Prevention Act of 1998’.”</ns0:quotedContent> </ns0:p> </ns0:note> <ns0:note style=\"-uslm-lc:I74\"\n",
      "topic=\"shortTitleOfAmendment\" id=\"idb10eb8ee-d970-11ed-a113-e530e1711693\"><ns0:heading class=\"centered smallCaps\">Short Title of 1997\n",
      "Amendment</ns0:heading><ns0:p><ns0:ref href=\"/us/pl/105/78/tVI/s603/a\">Pub. L. 105–78, title VI, § 603(a)</ns0:ref>, <ns0:date\n",
      "date=\"1997-11-13\">Nov. 13, 1997</ns0:date>, <ns0:ref href=\"/us/stat/111/1519\">111 Stat. 1519</ns0:ref>, provided that: <ns0:quotedContent\n",
      "origin=\"/us/pl/105/78/tVI/s603/a\">“This section [enacting <ns0:ref href=\"/us/usc/t42/s284f\">section 284f of this title</ns0:ref> and\n",
      "provisions set out as a note under <ns0:ref href=\"/us/usc/t42/s284f\">section 284f of this title</ns0:ref>] may be cited as the ‘Morris K.\n",
      "Udall Parkinson’s Disease Research Act of 1997’.”</ns0:quotedContent> </ns0:p> </ns0:note> <ns0:note style=\"-uslm-lc:I74\"\n",
      "topic=\"shortTitleOfAmendment\" id=\"idb10eb8ef-d970-11ed-a113-e530e1711693\"><ns0:heading class=\"centered smallCaps\">Short Title of 1996\n",
      "Amendments</ns0:heading><ns0:p><ns0:ref href=\"/us/pl/104/299/s1\">Pub. L. 104–299, § 1</ns0:ref>, <ns0:date date=\"1996-10-11\">Oct. 11,\n",
      "1996</ns0:date>, <ns0:ref href=\"/us/stat/110/3626\">110 Stat. 3626</ns0:ref>, provided that: <ns0:quotedContent\n",
      "origin=\"/us/pl/104/299/s1\">“This Act [enacting sections 254b and 254c of this title, amending sections 233, 256c, 1395x, and 1396d of this\n",
      "title, repealing sections 256 and 256a of this title, and enacting provisions set out as notes under sections 233 and 254b of this title]\n",
      "may be cited as the ‘Health Centers Consolidation Act of 1996’.”</ns0:quotedContent> </ns0:p> <ns0:p><ns0:ref\n",
      "href=\"/us/pl/104/204/tVI/s601\">Pub. L. 104–204, title VI, § 601</ns0:ref>, <ns0:date date=\"1996-09-26\">Sept. 26, 1996</ns0:date>, <ns0:ref\n",
      "href=\"/us/stat/110/2935\">110 Stat. 2935</ns0:ref>, provided that: <ns0:quotedContent origin=\"/us/pl/104/204/tVI/s601\">“This title [enacting\n",
      "sections 300gg–4 and 300gg–51 of this title and <ns0:ref href=\"/us/usc/t29/s1185\">section 1185 of Title 29</ns0:ref>, Labor, amending\n",
      "sections 300gg–21, 300gg–23, 300gg–44, 300gg–61, and 300gg–62 of this title and sections 1003, 1021, 1022, 1024, 1132, 1136, 1144, 1181,\n",
      "1191, and 1191a of Title 29, and enacting provisions set out as notes under section 300gg–4 and 300gg–44 of this title and <ns0:ref\n",
      "href=\"/us/usc/t29/s1003\">section 1003 of Title 29</ns0:ref>] may be cited as the ‘Newborns’ and Mothers’ Health Protection Act of\n",
      "1996’.”</ns0:quotedContent> </ns0:p> <ns0:p><ns0:ref href=\"/us/pl/104/204/tVII/s701\">Pub. L. 104–204, title VII, § 701</ns0:ref>, <ns0:date\n",
      "date=\"1996-09-26\">Sept. 26, 1996</ns0:date>, <ns0:ref href=\"/us/stat/110/2944\">110 Stat. 2944</ns0:ref>, provided that: <ns0:quotedContent\n",
      "origin=\"/us/pl/104/204/tVII/s701\">“This title [enacting <ns0:ref href=\"/us/usc/t42/s300gg–5\">section 300gg–5 of this title</ns0:ref> and\n",
      "<ns0:ref href=\"/us/usc/t29/s1185a\">section 1185a of Title 29</ns0:ref>, Labor, and enacting provisions set out as notes under <ns0:ref\n",
      "href=\"/us/usc/t42/s300gg–5\">section 300gg–5 of this title</ns0:ref> and <ns0:ref href=\"/us/usc/t29/s1185a\">section 1185a of Title\n",
      "29</ns0:ref>] may be cited as the ‘Mental Health Parity Act of 1996’.”</ns0:quotedContent> </ns0:p> <ns0:p><ns0:ref\n",
      "href=\"/us/pl/104/191/s1/a\">Pub. L. 104–191, § 1(a)</ns0:ref>, <ns0:date date=\"1996-08-21\">Aug. 21, 1996</ns0:date>, <ns0:ref\n",
      "href=\"/us/stat/110/1936\">110 Stat. 1936</ns0:ref>, provided that: <ns0:quotedContent origin=\"/us/pl/104/191/s1/a\">“This Act [see Tables for\n",
      "classification] may be cited as the ‘Health Insurance Portability and Accountability Act of 1996’.”</ns0:quotedContent> </ns0:p>\n",
      "<ns0:p><ns0:ref href=\"/us/pl/104/182/s1/a\">Pub. L. 104–182, § 1(a)</ns0:ref>, <ns0:date date=\"1996-08-06\">Aug. 6, 1996</ns0:date>, <ns0:ref\n",
      "href=\"/us/stat/110/1613\">110 Stat. 1613</ns0:ref>, provided that: <ns0:quotedContent origin=\"/us/pl/104/182/s1/a\">“This Act [enacting\n",
      "sections 300g–7 to 300g–9, 300h–8, 300j–3c, and 300j–12 to 300j–18 of this title and <ns0:ref href=\"/us/usc/t33/s1263a\">section 1263a of\n",
      "Title 33</ns0:ref>, Navigation and Navigable Waters, amending sections 300f, 300g–1 to 300g–6, 300h, 300h–5 to 300h–7, 300i, 300i–1, 300j to\n",
      "300j–2, 300j–4 to 300j–8, 300j–11, and 300j–21 to 300j–25 of this title, sections 4701 and 4721 of Title 16, Conservation, and <ns0:ref\n",
      "href=\"/us/usc/t21/s349\">section 349 of Title 21</ns0:ref>, Food and Drugs, repealing <ns0:ref href=\"/us/usc/t42/s13551\">section 13551 of\n",
      "this title</ns0:ref>, enacting provisions set out as notes under this section, sections 300f, 300g–1, 300j–1, and 300j–12 of this title,\n",
      "<ns0:ref href=\"/us/usc/t33/s1281\">section 1281 of Title 33</ns0:ref>, and section 45 of former Title 40, Public Buildings, Property, and\n",
      "Works, and amending provisions set out as a note under this section] may be cited as the ‘Safe Drinking Water Act Amendments of\n",
      "1996’.”</ns0:quotedContent> </ns0:p> <ns0:p><ns0:ref href=\"/us/pl/104/146/s1\">Pub. L. 104–146, § 1</ns0:ref>, <ns0:date\n",
      "date=\"1996-05-20\">May 20, 1996</ns0:date>, <ns0:ref href=\"/us/stat/110/1346\">110 Stat. 1346</ns0:ref>, provided that: <ns0:quotedContent\n",
      "origin=\"/us/pl/104/146/s1\">“This Act [enacting sections 300ff–27a, 300ff–31, 300ff–33 to 300ff–37, 300ff–77, 300ff–78, 300ff–101, and\n",
      "300ff–111 of this title, amending sections 294n, 300d, 300ff–11 to 300ff–17, 300ff–21 to 300ff–23, 300ff–26 to 300ff–29, 300ff–47 to\n",
      "300ff–49, 300ff–51, 300ff–52, 300ff–54, 300ff–55, 300ff–64, 300ff–71, 300ff–74, 300ff–76, and 300ff–84 of this title, transferring <ns0:ref\n",
      "href=\"/us/usc/t42/s294n\">section 294n of this title</ns0:ref> to <ns0:ref href=\"/us/usc/t42/s300ff–111\">section 300ff–111 of this\n",
      "title</ns0:ref>, repealing sections 300ff–18 and 300ff–30 of this title, and enacting provisions set out as notes under sections 300cc,\n",
      "300ff–11, and 300ff–33 of this title and <ns0:ref href=\"/us/usc/t5/s4103\">section 4103 of Title 5</ns0:ref>, Government Organization and\n",
      "Employees] may be cited as the ‘Ryan White CARE Act Amendments of 1996’.”</ns0:quotedContent> </ns0:p> </ns0:note> <ns0:note style=\"-uslm-\n",
      "lc:I74\" topic=\"shortTitleOfAmendment\" id=\"idb10eb8f0-d970-11ed-a113-e530e1711693\"><ns0:heading class=\"centered smallCaps\">Short Title of\n",
      "1995 Amendment</ns0:heading><ns0:p><ns0:ref href=\"/us/pl/104/73/s1/a\">Pub. L. 104–73, § 1(a)</ns0:ref>, <ns0:date date=\"1995-12-26\">Dec. 26,\n",
      "1995</ns0:date>, <ns0:ref href=\"/us/stat/109/777\">109 Stat. 777</ns0:ref>, provided that: <ns0:quotedContent\n",
      "origin=\"/us/pl/104/73/s1/a\">“This Act [amending <ns0:ref href=\"/us/usc/t42/s233\">section 233 of this title</ns0:ref> and enacting provisions\n",
      "set out as a note under <ns0:ref href=\"/us/usc/t42/s233\">section 233 of this title</ns0:ref>] may be cited as the ‘Federally Supported\n",
      "Health Centers Assistance Act of 1995’.”</ns0:quotedContent> </ns0:p> </ns0:note> <ns0:note style=\"-uslm-lc:I74\"\n",
      "topic=\"shortTitleOfAmendment\" id=\"idb10eb8f1-d970-11ed-a113-e530e1711693\"><ns0:heading class=\"centered smallCaps\">Short Title of 1993\n",
      "Amendments</ns0:heading><ns0:p><ns0:ref href=\"/us/pl/103/183/s1/a\">Pub. L. 103–183, § 1(a)</ns0:ref>, <ns0:date date=\"1993-12-14\">Dec. 14,\n",
      "1993</ns0:date>, <ns0:ref href=\"/us/stat/107/2226\">107 Stat. 2226</ns0:ref>, provided that: <ns0:quotedContent\n",
      "origin=\"/us/pl/103/183/s1/a\">“This Act [enacting sections 247b–6, 247b–7, 256d, 280b–1a, 285f–2, 300n–4a, and 300u–8 of this title, amending\n",
      "sections 233, 238j, 242b, 242k, 242<ns0:i>l</ns0:i>, 242m, 247b, 247b–1, 247b–5, 247c, 247c–1, 254j, 280b, 280b–1, 280b–2, 280b–3, 280e–4,\n",
      "300d, 300d–2, 300d–3, 300d–12, 300d–13, 300d–16, 300d–22, 300d–31, 300d–32, 300k, 300m, 300n, 300n–1, 300n–4, 300n–5, 300u–5, 300w, and\n",
      "300aa–26 of this title, repealing sections 300d–1 and 300d–33 of this title, and enacting provisions set out as notes under sections 238j,\n",
      "263b, 285f–2, and 300m of this title] may be cited as the ‘Preventive Health Amendments of 1993’.”</ns0:quotedContent> </ns0:p>\n",
      "<ns0:p><ns0:ref href=\"/us/pl/103/43/s1/a\">Pub. L. 103–43, § 1(a)</ns0:ref>, <ns0:date date=\"1993-06-10\">June 10, 1993</ns0:date>, <ns0:ref\n",
      "href=\"/us/stat/107/122\">107 Stat. 122</ns0:ref>, provided that: <ns0:quotedContent origin=\"/us/pl/103/43/s1/a\">“This Act [see Tables for\n",
      "classification] may be cited as the ‘National Institutes of Health Revitalization Act of 1993’.”</ns0:quotedContent> </ns0:p> </ns0:note>\n",
      "<ns0:note style=\"-uslm-lc:I74\" topic=\"shortTitleOfAmendment\" id=\"idb10eb8f2-d970-11ed-a113-e530e1711693\"><ns0:heading class=\"centered\n",
      "smallCaps\">Short Title of 1992 Amendments</ns0:heading><ns0:p><ns0:ref href=\"/us/pl/102/539/s1\">Pub. L. 102–539, § 1</ns0:ref>, <ns0:date\n",
      "date=\"1992-10-27\">Oct. 27, 1992</ns0:date>, <ns0:ref href=\"/us/stat/106/3547\">106 Stat. 3547</ns0:ref>, provided that: <ns0:quotedContent\n",
      "origin=\"/us/pl/102/539/s1\">“This Act [enacting <ns0:ref href=\"/us/usc/t42/s263b\">section 263b of this title</ns0:ref> and provisions set out\n",
      "as a note under <ns0:ref href=\"/us/usc/t42/s263b\">section 263b of this title</ns0:ref>] may be cited as the ‘Mammography Quality Standards\n",
      "Act of 1992’.”</ns0:quotedContent> </ns0:p> <ns0:p><ns0:ref href=\"/us/pl/102/531/s1/a\">Pub. L. 102–531, § 1(a)</ns0:ref>, <ns0:date\n",
      "date=\"1992-10-27\">Oct. 27, 1992</ns0:date>, <ns0:ref href=\"/us/stat/106/3469\">106 Stat. 3469</ns0:ref>, provided that: <ns0:quotedContent\n",
      "origin=\"/us/pl/102/531/s1/a\">“This Act [enacting sections 247b–3 to 247b–5, 247c–1, 256c, 280d–11, 300<ns0:i>l</ns0:i>–1, and 300u–7 of this\n",
      "title, amending sections 236, 242<ns0:i>l</ns0:i>, 247b–1, 247d, 254b, 254c, 256, 256a, 280b to 280b–2, 285c–4, 285d–7, 285m–4, 289c,\n",
      "290aa–9, 290bb–1, 292y, 293j, 293<ns0:i>l</ns0:i>, 294n, 295j, 295<ns0:i>l</ns0:i>, 295n, 295<ns0:i>o</ns0:i>, 296k, 298b–7, 300u, 300u–1,\n",
      "300u–5, 300w, 300w–3 to 300w–5, 300aa–2, 300aa–15, 300aa–19, 300aa–26, 300cc, 300cc–2, 300cc–15, 300cc–17, 300cc–20, 300cc–31, 300ee–1,\n",
      "300ee–2, 300ee–31, 300ee–32, 300ee–34, 300ff–11 to 300ff–13, 300ff–17, 300ff–27, 300ff–28, 300ff–41, 300ff–43, 300ff–49, 300ff–75, 4841, and\n",
      "9604 of this title, <ns0:ref href=\"/us/usc/t15/s1341\">section 1341 of Title 15</ns0:ref>, Trade and Commerce, and <ns0:ref\n",
      "href=\"/us/usc/t25/s2001\">section 2001 of Title 25</ns0:ref>, Indians, repealing <ns0:ref href=\"/us/usc/t42/s297j\">section 297j of this\n",
      "title</ns0:ref>, enacting provisions set out as notes under sections 236, 292y, 300e, and 300w–4 of this title, amending provisions set out\n",
      "as notes under sections 241, 281, and 295k of this title and <ns0:ref href=\"/us/usc/t38/s303\">section 303 of Title 38</ns0:ref>, Veterans’\n",
      "Benefits, and repealing provisions set out as notes under section 246 and 300e of this title] may be cited as the ‘Preventive Health\n",
      "Amendments of 1992’.”</ns0:quotedContent> </ns0:p> <ns0:p><ns0:ref href=\"/us/pl/102/515/s1\">Pub. L. 102–515, § 1</ns0:ref>, <ns0:date\n",
      "date=\"1992-10-24\">Oct. 24, 1992</ns0:date>, <ns0:ref href=\"/us/stat/106/3372\">106 Stat. 3372</ns0:ref>, provided that: <ns0:quotedContent\n",
      "origin=\"/us/pl/102/515/s1\">“This Act [enacting sections 280e to 280e–4 of this title and provisions set out as a note under <ns0:ref\n",
      "href=\"/us/usc/t42/s280e\">section 280e of this title</ns0:ref>] may be cited as the ‘Cancer Registries Amendment Act’.”</ns0:quotedContent>\n",
      "</ns0:p> <ns0:p><ns0:ref href=\"/us/pl/102/501/s1\">Pub. L. 102–501, § 1</ns0:ref>, <ns0:date date=\"1992-10-24\">Oct. 24, 1992</ns0:date>,\n",
      "<ns0:ref href=\"/us/stat/106/3268\">106 Stat. 3268</ns0:ref>, provided that: <ns0:quotedContent origin=\"/us/pl/102/501/s1\">“This Act [amending\n",
      "<ns0:ref href=\"/us/usc/t42/s233\">section 233 of this title</ns0:ref> and enacting provisions set out as notes under <ns0:ref\n",
      "href=\"/us/usc/t42/s233\">section 233 of this title</ns0:ref>] may be cited as the ‘Federally Supported Health Centers Assistance Act of\n",
      "1992’.”</ns0:quotedContent> </ns0:p> <ns0:p><ns0:ref href=\"/us/pl/102/493/s1\">Pub. L. 102–493, § 1</ns0:ref>, <ns0:date\n",
      "date=\"1992-10-24\">Oct. 24, 1992</ns0:date>, <ns0:ref href=\"/us/stat/106/3146\">106 Stat. 3146</ns0:ref>, provided that: <ns0:quotedContent\n",
      "origin=\"/us/pl/102/493/s1\">“This Act [enacting sections 263a–1 to 263a–7 of this title and provisions set out as a note under <ns0:ref\n",
      "href=\"/us/usc/t42/s263a–1\">section 263a–1 of this title</ns0:ref>] may be cited as the ‘Fertility Clinic Success Rate and Certification Act\n",
      "of 1992’.”</ns0:quotedContent> </ns0:p> <ns0:p><ns0:ref href=\"/us/pl/102/410/s1/a\">Pub. L. 102–410, § 1(a)</ns0:ref>, <ns0:date\n",
      "date=\"1992-10-13\">Oct. 13, 1992</ns0:date>, <ns0:ref href=\"/us/stat/106/2094\">106 Stat. 2094</ns0:ref>, provided that: <ns0:quotedContent\n",
      "origin=\"/us/pl/102/410/s1/a\">“This Act [amending sections 299 to 299a–2, 299b to 299b–3, 299c to 299c–3, 299c–5, and 300w–9 of this title\n",
      "and enacting provisions set out as notes under sections 299a–2, 299b–1, and 299b–2 of this title] may be cited as the ‘Agency for Health\n",
      "Care Policy and Research Reauthorization Act of 1992’.”</ns0:quotedContent> </ns0:p> <ns0:p><ns0:ref href=\"/us/pl/102/409/s1\">Pub. L.\n",
      "102–409, § 1</ns0:ref>, <ns0:date date=\"1992-10-13\">Oct. 13, 1992</ns0:date>, <ns0:ref href=\"/us/stat/106/2092\">106 Stat. 2092</ns0:ref>,\n",
      "provided that: <ns0:quotedContent origin=\"/us/pl/102/409/s1\">“This Act [enacting <ns0:ref href=\"/us/usc/t42/s283a\">section 283a of this\n",
      "title</ns0:ref>] may be cited as the ‘DES Education and Research Amendments of 1992’.”</ns0:quotedContent> </ns0:p> <ns0:p><ns0:ref\n",
      "href=\"/us/pl/102/408/s1/a\">Pub. L. 102–408, § 1(a)</ns0:ref>, <ns0:date date=\"1992-10-13\">Oct. 13, 1992</ns0:date>, <ns0:ref\n",
      "href=\"/us/stat/106/1992\">106 Stat. 1992</ns0:ref>, provided that: <ns0:quotedContent origin=\"/us/pl/102/408/s1/a\">“This Act [enacting\n",
      "subchapter V of this chapter and sections 297n, 298b–7, and 300d–51 of this title, amending sections 242a, 296k to 296m, 296r, 297, 297–1,\n",
      "297b, 297d, 297e, 298, 298b, and 298b–6 of this title and <ns0:ref href=\"/us/usc/t20/s1078–3\">section 1078–3 of Title 20</ns0:ref>,\n",
      "Education, repealing sections 295g–10a, 297c–1, and 297n of this title, enacting provisions set out as notes under this section, sections\n",
      "292, 295j, 295k, 296k, and 297b of this title, <ns0:ref href=\"/us/usc/t20/s1078–3\">section 1078–3 of Title 20</ns0:ref>, and <ns0:ref\n",
      "href=\"/us/usc/t21/s343–1\">section 343–1 of Title 21</ns0:ref>, Food and Drugs, and amending provisions set out as a note under <ns0:ref\n",
      "href=\"/us/usc/t42/s300x\">section 300x of this title</ns0:ref>] may be cited as the ‘Health Professions Education Extension Amendments of\n",
      "1992’.”</ns0:quotedContent> </ns0:p> <ns0:p><ns0:ref href=\"/us/pl/102/408/tII/s201\">Pub. L. 102–408, title II, § 201</ns0:ref>, <ns0:date\n",
      "date=\"1992-10-13\">Oct. 13, 1992</ns0:date>, <ns0:ref href=\"/us/stat/106/2069\">106 Stat. 2069</ns0:ref>, provided that: <ns0:quotedContent\n",
      "origin=\"/us/pl/102/408/tII/s201\">“This title [enacting sections 297n and 298b–7 of this title, amending sections 296k to 296m, 296r, 297,\n",
      "297–1, 297b, 297d, 297e, 298, 298b, and 298b–6 of this title, repealing sections 297c–1 and 297n of this title, and enacting provisions set\n",
      "out as notes under sections 296k and 297b of this title] may be referred to as the Nurse Education and Practice Improvement Amendments of\n",
      "1992.”</ns0:quotedContent> </ns0:p> <ns0:p><ns0:ref href=\"/us/pl/102/352/s1\">Pub. L. 102–352, § 1</ns0:ref>, <ns0:date\n",
      "date=\"1992-08-26\">Aug. 26, 1992</ns0:date>, <ns0:ref href=\"/us/stat/106/938\">106 Stat. 938</ns0:ref>, provided that: <ns0:quotedContent\n",
      "origin=\"/us/pl/102/352/s1\">“This Act [amending sections 285n, 285n–2, 285<ns0:i>o</ns0:i>, 285<ns0:i>o</ns0:i>–2, 285p, 290aa–1, 290aa–3,\n",
      "290cc–21, 290cc–28, 290cc–30, 300x–7, 300x–27, 300x–33, 300x–53, and 300y of this title, enacting provisions set out as a note under\n",
      "<ns0:ref href=\"/us/usc/t42/s285n\">section 285n of this title</ns0:ref>, and amending provisions set out as notes under sections 290aa and\n",
      "300x of this title] may be cited as the ‘Public Health Service Act Technical Amendments Act’.”</ns0:quotedContent> </ns0:p> <ns0:p><ns0:ref\n",
      "href=\"/us/pl/102/321/s1/a\">Pub. L. 102–321, § 1(a)</ns0:ref>, <ns0:date date=\"1992-07-10\">July 10, 1992</ns0:date>, <ns0:ref\n",
      "href=\"/us/stat/106/323\">106 Stat. 323</ns0:ref>, provided that: <ns0:quotedContent origin=\"/us/pl/102/321/s1/a\">“This Act [see Tables for\n",
      "classification] may be cited as the ‘ADAMHA Reorganization Act’.”</ns0:quotedContent> </ns0:p> </ns0:note> <ns0:note style=\"-uslm-lc:I74\"\n",
      "topic=\"shortTitleOfAmendment\" id=\"idb10eb8f3-d970-11ed-a113-e530e1711693\"><ns0:heading class=\"centered smallCaps\">Short Title of 1991\n",
      "Amendments</ns0:heading><ns0:p><ns0:ref href=\"/us/pl/102/168/s1\">Pub. L. 102–168, § 1</ns0:ref>, <ns0:date date=\"1991-11-26\">Nov. 26,\n",
      "1991</ns0:date>, <ns0:ref href=\"/us/stat/105/1102\">105 Stat. 1102</ns0:ref>, provided that: <ns0:quotedContent\n",
      "origin=\"/us/pl/102/168/s1\">“This Act [amending sections 300u, 300u–5, 300aa–11, 300aa–12, 300aa–15, 300aa–16, 300aa–19, and 300aa–21 of this\n",
      "title, enacting provisions set out as a note under <ns0:ref href=\"/us/usc/t42/s300aa–11\">section 300aa–11 of this title</ns0:ref>, and\n",
      "amending provisions set out as a note under <ns0:ref href=\"/us/usc/t42/s300aa–1\">section 300aa–1 of this title</ns0:ref>] may be cited as\n",
      "the ‘Health Information, Health Promotion, and Vaccine Injury Compensation Amendments of 1991’.”</ns0:quotedContent> </ns0:p>\n",
      "<ns0:p><ns0:ref href=\"/us/pl/102/96/s1\">Pub. L. 102–96, § 1</ns0:ref>, <ns0:date date=\"1991-08-14\">Aug. 14, 1991</ns0:date>, <ns0:ref\n",
      "href=\"/us/stat/105/481\">105 Stat. 481</ns0:ref>, provided that: <ns0:quotedContent origin=\"/us/pl/102/96/s1\">“This Act [amending <ns0:ref\n",
      "href=\"/us/usc/t42/s300cc–13\">section 300cc–13 of this title</ns0:ref> and enacting provisions set out as a note under <ns0:ref\n",
      "href=\"/us/usc/t42/s300cc–13\">section 300cc–13 of this title</ns0:ref>] may be cited as the ‘Terry Beirn Community Based AIDS Research\n",
      "Initiative Act of 1991’.”</ns0:quotedContent> </ns0:p> </ns0:note> <ns0:note style=\"-uslm-lc:I74\" topic=\"shortTitleOfAmendment\"\n",
      "id=\"idb10eb8f4-d970-11ed-a113-e530e1711693\"><ns0:heading class=\"centered smallCaps\">Short Title of 1990\n",
      "Amendments</ns0:heading><ns0:p><ns0:ref href=\"/us/pl/101/639/s1\">Pub. L. 101–639, § 1</ns0:ref>, <ns0:date date=\"1990-11-28\">Nov. 28,\n",
      "1990</ns0:date>, <ns0:ref href=\"/us/stat/104/4600\">104 Stat. 4600</ns0:ref>, provided that: <ns0:quotedContent\n",
      "origin=\"/us/pl/101/639/s1\">“This Act [amending sections 290cc–13, 299a, 300x–3, and 300x–10 to 300x–12 of this title] may be cited as the\n",
      "‘Mental Health Amendments of 1990’.”</ns0:quotedContent> </ns0:p> <ns0:p><ns0:ref href=\"/us/pl/101/616/s1\">Pub. L. 101–616, § 1</ns0:ref>,\n",
      "<ns0:date date=\"1990-11-16\">Nov. 16, 1990</ns0:date>, <ns0:ref href=\"/us/stat/104/3279\">104 Stat. 3279</ns0:ref>, provided that:\n",
      "<ns0:quotedContent origin=\"/us/pl/101/616/s1\">“This Act [enacting sections 274f, 274g, 274k, and 274<ns0:i>l</ns0:i> of this title, amending\n",
      "sections 273 to 274d of this title, enacting provisions set out as notes under sections 273, 274, and 274k of this title, and repealing\n",
      "provisions set out as a note under <ns0:ref href=\"/us/usc/t42/s273\">section 273 of this title</ns0:ref>] may be cited as the ‘Transplant\n",
      "Amendments Act of 1990’.”</ns0:quotedContent> </ns0:p> <ns0:p><ns0:ref href=\"/us/pl/101/613/s1\">Pub. L. 101–613, § 1</ns0:ref>, <ns0:date\n",
      "date=\"1990-11-16\">Nov. 16, 1990</ns0:date>, <ns0:ref href=\"/us/stat/104/3224\">104 Stat. 3224</ns0:ref>, provided that: <ns0:quotedContent\n",
      "origin=\"/us/pl/101/613/s1\">“This Act [enacting sections 285g–4 and 290b of this title and provisions set out as a note under <ns0:ref\n",
      "href=\"/us/usc/t42/s285g–4\">section 285g–4 of this title</ns0:ref>] may be cited as the ‘National Institutes of Health Amendments of\n",
      "1990’.”</ns0:quotedContent> </ns0:p> <ns0:p><ns0:ref href=\"/us/pl/101/597/s1\">Pub. L. 101–597, § 1</ns0:ref>, <ns0:date\n",
      "date=\"1990-11-16\">Nov. 16, 1990</ns0:date>, <ns0:ref href=\"/us/stat/104/3013\">104 Stat. 3013</ns0:ref>, provided that: <ns0:quotedContent\n",
      "origin=\"/us/pl/101/597/s1\">“This Act [enacting sections 254f–1, 254<ns0:i>o</ns0:i>–1, and 254r of this title, amending sections 242a, 254d\n",
      "to 254i, 254k, 254<ns0:i>l</ns0:i> to 254q–1, 254s, 294h, 294n, 294aa, 295g–1, 296m, 1320c–5, 1395<ns0:i>l</ns0:i>, 1395u, 1395x, 3505d, and\n",
      "9840 of this title and <ns0:ref href=\"/us/usc/t10/s2123\">section 2123 of Title 10</ns0:ref>, Armed Forces, and enacting provisions set out\n",
      "as notes under sections 242a, 254<ns0:i>l</ns0:i>–1, and 254<ns0:i>o</ns0:i> of this title] may be cited as the ‘National Health Service\n",
      "Corps Revitalization Amendments of 1990’.”</ns0:quotedContent> </ns0:p> <ns0:p><ns0:ref href=\"/us/pl/101/590/s1\">Pub. L. 101–590,\n",
      "§ 1</ns0:ref>, <ns0:date date=\"1990-11-16\">Nov. 16, 1990</ns0:date>, <ns0:ref href=\"/us/stat/104/2915\">104 Stat. 2915</ns0:ref>, provided\n",
      "that: <ns0:quotedContent origin=\"/us/pl/101/590/s1\">“This Act [enacting subchapter X of this chapter, amending sections 300w–4 and 300w–9 of\n",
      "this title, and enacting provisions set out as a note under <ns0:ref href=\"/us/usc/t42/s300d\">section 300d of this title</ns0:ref>] may be\n",
      "cited as the ‘Trauma Care Systems Planning and Development Act of 1990’.”</ns0:quotedContent> </ns0:p> <ns0:p><ns0:ref\n",
      "href=\"/us/pl/101/558/s1\">Pub. L. 101–558, § 1</ns0:ref>, <ns0:date date=\"1990-11-15\">Nov. 15, 1990</ns0:date>, <ns0:ref\n",
      "href=\"/us/stat/104/2772\">104 Stat. 2772</ns0:ref>, provided that: <ns0:quotedContent origin=\"/us/pl/101/558/s1\">“This Act [amending sections\n",
      "280b to 280b–3 of this title] may be cited as the ‘Injury Control Act of 1990’.”</ns0:quotedContent> </ns0:p> <ns0:p><ns0:ref\n",
      "href=\"/us/pl/101/557/s1\">Pub. L. 101–557, § 1</ns0:ref>, <ns0:date date=\"1990-11-15\">Nov. 15, 1990</ns0:date>, <ns0:ref\n",
      "href=\"/us/stat/104/2766\">104 Stat. 2766</ns0:ref>, provided that: <ns0:quotedContent origin=\"/us/pl/101/557/s1\">“This Act [enacting sections\n",
      "242q to 242q–5 of this title, amending sections 280c, 280c–2, 280c–3, 280c–5, 285e–2, 285e–3, 300u–6, 300ff–17, 300ff–51, and 300ff–52 of\n",
      "this title and <ns0:ref href=\"/us/usc/t20/s4512\">section 4512 of Title 20</ns0:ref>, Education, and enacting provisions set out as a note\n",
      "under <ns0:ref href=\"/us/usc/t42/s300u–6\">section 300u–6 of this title</ns0:ref>] may be cited as the ‘Home Health Care and Alzheimer’s\n",
      "Disease Amendments of 1990’.”</ns0:quotedContent> </ns0:p> <ns0:p><ns0:ref href=\"/us/pl/101/527/s1/a\">Pub. L. 101–527, § 1(a)</ns0:ref>,\n",
      "<ns0:date date=\"1990-11-06\">Nov. 6, 1990</ns0:date>, <ns0:ref href=\"/us/stat/104/2311\">104 Stat. 2311</ns0:ref>, provided that:\n",
      "<ns0:quotedContent origin=\"/us/pl/101/527/s1/a\">“This Act [enacting sections 254c–1, 254t, 256a, 294bb, 294cc, and 300u–6 of this title,\n",
      "amending sections 242k, 242m, 254b, 254c, 294m, 294<ns0:i>o</ns0:i>, and 295g–2 of this title, enacting provisions set out as notes under\n",
      "sections 242k and 300u–6 of this title, and repealing provisions set out as a note under <ns0:ref href=\"/us/usc/t42/s292h\">section 292h of\n",
      "this title</ns0:ref>] may be cited as the ‘Disadvantaged Minority Health Improvement Act of 1990’.”</ns0:quotedContent> </ns0:p>\n",
      "<ns0:p><ns0:ref href=\"/us/pl/101/502/s1\">Pub. L. 101–502, § 1</ns0:ref>, <ns0:date date=\"1990-11-03\">Nov. 3, 1990</ns0:date>, <ns0:ref\n",
      "href=\"/us/stat/104/1285\">104 Stat. 1285</ns0:ref>, provided that: <ns0:quotedContent origin=\"/us/pl/101/502/s1\">“This Act [amending sections\n",
      "207, 247b, 300aa–6, 300aa–11 to 300aa–13, 300aa–15, 300aa–16, 300aa–21, 300ff–13, 300ff–47, and 300ff–49 of this title, <ns0:ref\n",
      "href=\"/us/usc/t21/s331\">section 331 of Title 21</ns0:ref>, Food and Drugs, and <ns0:ref href=\"/us/usc/t37/s201\">section 201 of Title\n",
      "37</ns0:ref>, Pay and Allowances of the Uniformed Services, enacting provisions set out as notes under sections 300aa–2, 300aa–11, and\n",
      "300aa–12 of this title and <ns0:ref href=\"/us/usc/t37/s201\">section 201 of Title 37</ns0:ref>, and amending provisions set out as a note\n",
      "under <ns0:ref href=\"/us/usc/t42/s300aa–1\">section 300aa–1 of this title</ns0:ref>] may be cited as the ‘Vaccine and Immunization Amendments\n",
      "of 1990’.”</ns0:quotedContent> </ns0:p> <ns0:p><ns0:ref href=\"/us/pl/101/381/s1\">Pub. L. 101–381, § 1</ns0:ref>, <ns0:date\n",
      "date=\"1990-08-18\">Aug. 18, 1990</ns0:date>, <ns0:ref href=\"/us/stat/104/576\">104 Stat. 576</ns0:ref>, provided that: <ns0:quotedContent\n",
      "origin=\"/us/pl/101/381/s1\">“This Act [enacting subchapter XXIV of this chapter, transferring <ns0:ref href=\"/us/usc/t42/s300ee–6\">section\n",
      "300ee–6 of this title</ns0:ref> to <ns0:ref href=\"/us/usc/t42/s300ff–48\">section 300ff–48 of this title</ns0:ref>, amending sections 284a,\n",
      "286, 287a, 287c–2, 289f, 290aa–3a, 299c–5, 300ff–48, and 300aaa to 300aaa–13 of this title, and enacting provisions set out as notes under\n",
      "sections 300x–4, 300ff–11, 300ff–46, and 300ff–80 of this title] may be cited as the ‘Ryan White Comprehensive AIDS Resources Emergency Act\n",
      "of 1990’.”</ns0:quotedContent> </ns0:p> <ns0:p><ns0:ref href=\"/us/pl/101/374/s1\">Pub. L. 101–374, § 1</ns0:ref>, <ns0:date\n",
      "date=\"1990-08-15\">Aug. 15, 1990</ns0:date>, <ns0:ref href=\"/us/stat/104/456\">104 Stat. 456</ns0:ref>, provided that: <ns0:quotedContent\n",
      "origin=\"/us/pl/101/374/s1\">“This Act [amending sections 290aa–12, 290cc–2, and 300x–4 of this title, enacting provisions set out as notes\n",
      "under sections 289e, 290aa–12, 290cc–2, and 300x–4 of this title, and amending provisions set out as a note under <ns0:ref\n",
      "href=\"/us/usc/t42/s289e\">section 289e of this title</ns0:ref>] may be cited as the ‘Drug Abuse Treatment Waiting Period Reduction Amendments\n",
      "of 1990’.”</ns0:quotedContent> </ns0:p> <ns0:p><ns0:ref href=\"/us/pl/101/368/s1\">Pub. L. 101–368, § 1</ns0:ref>, <ns0:date\n",
      "date=\"1990-08-15\">Aug. 15, 1990</ns0:date>, <ns0:ref href=\"/us/stat/104/446\">104 Stat. 446</ns0:ref>, provided that: <ns0:quotedContent\n",
      "origin=\"/us/pl/101/368/s1\">“This Act [amending <ns0:ref href=\"/us/usc/t42/s247b\">section 247b of this title</ns0:ref>] may be cited as the\n",
      "‘Tuberculosis Prevention Amendments of 1990’.”</ns0:quotedContent> </ns0:p> <ns0:p><ns0:ref href=\"/us/pl/101/354/s1\">Pub. L. 101–354,\n",
      "§ 1</ns0:ref>, <ns0:date date=\"1990-08-10\">Aug. 10, 1990</ns0:date>, <ns0:ref href=\"/us/stat/104/409\">104 Stat. 409</ns0:ref>, provided\n",
      "that: <ns0:quotedContent origin=\"/us/pl/101/354/s1\">“This Act [enacting subchapter XIII of this chapter] may be cited as the ‘Breast and\n",
      "Cervical Cancer Mortality Prevention Act of 1990’.”</ns0:quotedContent> </ns0:p> </ns0:note> <ns0:note style=\"-uslm-lc:I74\"\n",
      "topic=\"shortTitleOfAmendment\" id=\"idb10eb8f5-d970-11ed-a113-e530e1711693\"><ns0:heading class=\"centered smallCaps\">Short Title of 1989\n",
      "Amendment</ns0:heading><ns0:p><ns0:ref href=\"/us/pl/101/93/s1\">Pub. L. 101–93, § 1</ns0:ref>, <ns0:date date=\"1989-08-16\">Aug. 16,\n",
      "1989</ns0:date>, <ns0:ref href=\"/us/stat/103/603\">103 Stat. 603</ns0:ref>, provided that: <ns0:quotedContent origin=\"/us/pl/101/93/s1\">“This\n",
      "Act [see Tables for classification] may be cited as the ‘Drug Abuse Treatment Technical Corrections Act of 1989’.”</ns0:quotedContent>\n",
      "</ns0:p> </ns0:note> <ns0:note style=\"-uslm-lc:I74\" topic=\"shortTitleOfAmendment\" id=\"idb10eb8f6-d970-11ed-a113-e530e1711693\"><ns0:heading\n",
      "class=\"centered smallCaps\">Short Title of 1988 Amendments</ns0:heading><ns0:p><ns0:ref href=\"/us/pl/100/690/s2011\">Pub. L. 100–690,\n",
      "§ 2011</ns0:ref>, <ns0:date date=\"1988-11-18\">Nov. 18, 1988</ns0:date>, <ns0:ref href=\"/us/stat/102/4193\">102 Stat. 4193</ns0:ref>, provided\n",
      "that: <ns0:quotedContent origin=\"/us/pl/100/690/s2011\">“This subtitle [subtitle A (§§ 2011–2081) of title II of <ns0:ref\n",
      "href=\"/us/pl/100/690\">Pub. L. 100–690</ns0:ref>, enacting sections 290aa–11 to 290aa–14, 290cc–11 to 290cc–13, 290ff, 300x–1a, 300x–4a,\n",
      "300x–9a, and 300x–9b of this title, amending sections 242a, 290aa, 290aa–3, 290aa–6, 290aa–8, 290bb–2, 290cc to 290cc–2, 300x, 300x–1a to\n",
      "300x–4, 300x–5, 300x–9, and 300x–10 to 300x–12 of this title and section 484 of former Title 40, Public Buildings, Property, and Works,\n",
      "repealing sections 300y to 300y–2 of this title, enacting provisions set out as notes under this section and sections 290aa, 290cc–11,\n",
      "300x–9a, and 300x–11 of this title, and amending provisions set out as a note under <ns0:ref href=\"/us/usc/t21/s801\">section 801 of Title\n",
      "21</ns0:ref>, Food and Drugs] may be cited as the ‘Comprehensive Alcohol Abuse, Drug Abuse, and Mental Health Amendments Act of\n",
      "1988’.”</ns0:quotedContent> </ns0:p> <ns0:p><ns0:ref href=\"/us/pl/100/607/s1/a\">Pub. L. 100–607, § 1(a)</ns0:ref>, <ns0:date\n",
      "date=\"1988-11-04\">Nov. 4, 1988</ns0:date>, <ns0:ref href=\"/us/stat/102/3048\">102 Stat. 3048</ns0:ref>, provided that: <ns0:quotedContent\n",
      "origin=\"/us/pl/100/607/s1/a\">“This Act [see Tables for classification] may be cited as the ‘Health Omnibus Programs Extension of\n",
      "1988’.”</ns0:quotedContent> </ns0:p> <ns0:p><ns0:ref href=\"/us/pl/100/607/tI/s100/a\">Pub. L. 100–607, title I, § 100(a)</ns0:ref>, <ns0:date\n",
      "date=\"1988-11-04\">Nov. 4, 1988</ns0:date>, <ns0:ref href=\"/us/stat/102/3048\">102 Stat. 3048</ns0:ref>, provided that: <ns0:quotedContent\n",
      "origin=\"/us/pl/100/607/tI/s100/a\">“This title [see Tables for classification] may be cited as the ‘National Institute on Deafness and Other\n",
      "Communication Disorders and Health Research Extension Act of 1988’.”</ns0:quotedContent> </ns0:p> <ns0:p><ns0:ref\n",
      "href=\"/us/pl/100/607/tII/s200\">Pub. L. 100–607, title II, § 200</ns0:ref>, <ns0:date date=\"1988-11-04\">Nov. 4, 1988</ns0:date>, <ns0:ref\n",
      "href=\"/us/stat/102/3062\">102 Stat. 3062</ns0:ref>, provided that: <ns0:quotedContent origin=\"/us/pl/100/607/tII/s200\">“This title [see\n",
      "Tables for classification] may be cited as the ‘AIDS Amendments of 1988’.”</ns0:quotedContent> </ns0:p> <ns0:p><ns0:ref\n",
      "href=\"/us/pl/100/607/tIV/s401/a\">Pub. L. 100–607, title IV, § 401(a)</ns0:ref>, <ns0:date date=\"1988-11-04\">Nov. 4, 1988</ns0:date>,\n",
      "<ns0:ref href=\"/us/stat/102/3114\">102 Stat. 3114</ns0:ref>, provided that: <ns0:quotedContent origin=\"/us/pl/100/607/tIV/s401/a\">“This title\n",
      "[enacting sections 300y–21 to 300y–27 of this title, amending sections 273 to 274e of this title, and enacting provisions set out as notes\n",
      "under sections 273 and 300y–21 of this title] may be cited as the ‘Organ Transplant Amendments Act of 1988’.”</ns0:quotedContent> </ns0:p>\n",
      "<ns0:p><ns0:ref href=\"/us/pl/100/607/tVI/s601/a\">Pub. L. 100–607, title VI, § 601(a)</ns0:ref>, <ns0:date date=\"1988-11-04\">Nov. 4,\n",
      "1988</ns0:date>, <ns0:ref href=\"/us/stat/102/3122\">102 Stat. 3122</ns0:ref>, as amended by <ns0:ref href=\"/us/pl/100/690/tII/s2603/a/1\">Pub.\n",
      "L. 100–690, title II, § 2603(a)(1)</ns0:ref>, <ns0:date date=\"1988-11-18\">Nov. 18, 1988</ns0:date>, <ns0:ref href=\"/us/stat/102/4234\">102\n",
      "Stat. 4234</ns0:ref>, provided that: <ns0:quotedContent origin=\"/us/pl/100/690/tII/s2603/a/1\">“This title [see Tables for classification]\n",
      "may be cited as the ‘Health Professions Reauthorization Act of 1988’.”</ns0:quotedContent> </ns0:p> <ns0:p><ns0:ref\n",
      "href=\"/us/pl/100/607/tVII/s700/a\">Pub. L. 100–607, title VII, § 700(a)</ns0:ref>, <ns0:date date=\"1988-11-04\">Nov. 4, 1988</ns0:date>,\n",
      "<ns0:ref href=\"/us/stat/102/3153\">102 Stat. 3153</ns0:ref>, provided that: <ns0:quotedContent origin=\"/us/pl/100/607/tVII/s700/a\">“This\n",
      "title [enacting sections 296r, 297c–1, 297j, 297n, and 298b–6 of this title, amending sections 210, 294a, 296k, 296<ns0:i>l</ns0:i>, 296m,\n",
      "297, 297–1, 297a, 297b, 297d, 297e, 298, and 298b–3 of this title, and enacting provisions set out as a note under <ns0:ref\n",
      "href=\"/us/usc/t42/s297d\">section 297d of this title</ns0:ref>] may be cited as the ‘Nursing Shortage Reduction and Education Extension Act\n",
      "of 1988’.”</ns0:quotedContent> </ns0:p> <ns0:p><ns0:ref href=\"/us/pl/100/607/tIX/s901\">Pub. L. 100–607, title IX, § 901</ns0:ref>, <ns0:date\n",
      "date=\"1988-11-04\">Nov. 4, 1988</ns0:date>, <ns0:ref href=\"/us/stat/102/3171\">102 Stat. 3171</ns0:ref>, provided that: <ns0:quotedContent\n",
      "origin=\"/us/pl/100/607/tIX/s901\">“This title [enacting <ns0:ref href=\"/us/usc/t42/s300ee–6\">section 300ee–6 of this title</ns0:ref> and\n",
      "provisions set out as notes under such section] may be cited as the ‘Prison Testing Act of 1988’.”</ns0:quotedContent> </ns0:p>\n",
      "<ns0:p><ns0:ref href=\"/us/pl/100/578/s1\">Pub. L. 100–578, § 1</ns0:ref>, <ns0:date date=\"1988-10-31\">Oct. 31, 1988</ns0:date>, <ns0:ref\n",
      "href=\"/us/stat/102/2903\">102 Stat. 2903</ns0:ref>, provided that: <ns0:quotedContent origin=\"/us/pl/100/578/s1\">“This Act [amending <ns0:ref\n",
      "href=\"/us/usc/t42/s263a\">section 263a of this title</ns0:ref> and enacting provisions set out as notes under <ns0:ref\n",
      "href=\"/us/usc/t42/s263a\">section 263a of this title</ns0:ref>] may be cited as the ‘Clinical Laboratory Improvement Amendments of\n",
      "1988’.”</ns0:quotedContent> </ns0:p> <ns0:p><ns0:ref href=\"/us/pl/100/572/s1\">Pub. L. 100–572, § 1</ns0:ref>, <ns0:date\n",
      "date=\"1988-10-31\">Oct. 31, 1988</ns0:date>, <ns0:ref href=\"/us/stat/102/2884\">102 Stat. 2884</ns0:ref>, provided that: <ns0:quotedContent\n",
      "origin=\"/us/pl/100/572/s1\">“This Act [enacting sections 247b–1 and 300j–21 to 300j–26 of this title, and amending <ns0:ref\n",
      "href=\"/us/usc/t42/s300j–4\">section 300j–4 of this title</ns0:ref>] may be cited as the ‘Lead Contamination Control Act of\n",
      "1988’.”</ns0:quotedContent> </ns0:p> <ns0:p><ns0:ref href=\"/us/pl/100/553/s1\">Pub. L. 100–553, § 1</ns0:ref>, <ns0:date\n",
      "date=\"1988-10-28\">Oct. 28, 1988</ns0:date>, <ns0:ref href=\"/us/stat/102/2769\">102 Stat. 2769</ns0:ref>, provided that: <ns0:quotedContent\n",
      "origin=\"/us/pl/100/553/s1\">“This Act [enacting sections 285m to 285m–6 of this title, amending sections 281 and 285j of this title, and\n",
      "enacting provisions set out as a note under <ns0:ref href=\"/us/usc/t42/s285m\">section 285m of this title</ns0:ref>] shall be cited as the\n",
      "‘National Deafness and Other Communication Disorders Act of 1988’.”</ns0:quotedContent> </ns0:p> <ns0:p><ns0:ref\n",
      "href=\"/us/pl/100/517/s1/a\">Pub. L. 100–517, § 1(a)</ns0:ref>, <ns0:date date=\"1988-10-24\">Oct. 24, 1988</ns0:date>, <ns0:ref\n",
      "href=\"/us/stat/102/2578\">102 Stat. 2578</ns0:ref>, provided that: <ns0:quotedContent origin=\"/us/pl/100/517/s1/a\">“This Act [amending\n",
      "sections 300e, 300e–1, 300e–9, and 300e–10 of this title, enacting provisions set out as notes under sections 300e, 300e–9, and 1302 of this\n",
      "title, and repealing provisions set out as notes under <ns0:ref href=\"/us/usc/t42/s300e–1\">section 300e–1 of this title</ns0:ref>] may be\n",
      "cited as the ‘Health Maintenance Organization Amendments of 1988’.”</ns0:quotedContent> </ns0:p> <ns0:p><ns0:ref\n",
      "href=\"/us/pl/100/386/s1/a\">Pub. L. 100–386, § 1(a)</ns0:ref>, <ns0:date date=\"1988-08-10\">Aug. 10, 1988</ns0:date>, <ns0:ref\n",
      "href=\"/us/stat/102/919\">102 Stat. 919</ns0:ref>, provided that: <ns0:quotedContent origin=\"/us/pl/100/386/s1/a\">“This Act [amending sections\n",
      "254b and 254c of this title and enacting provisions set out as a note under <ns0:ref href=\"/us/usc/t42/s254b\">section 254b of this\n",
      "title</ns0:ref>] may be cited as the ‘Community and Migrant Health Centers Amendments of 1988’.”</ns0:quotedContent> </ns0:p> </ns0:note>\n",
      "<ns0:note style=\"-uslm-lc:I74\" topic=\"shortTitleOfAmendment\" id=\"idb10eb8f7-d970-11ed-a113-e530e1711693\"><ns0:heading class=\"centered\n",
      "smallCaps\">Short Title of 1987 Amendments</ns0:heading><ns0:p><ns0:ref href=\"/us/pl/100/203/tIV/s4301/a\">Pub. L. 100–203, title IV,\n",
      "§ 4301(a)</ns0:ref>, <ns0:date date=\"1987-12-22\">Dec. 22, 1987</ns0:date>, <ns0:ref href=\"/us/stat/101/1330-221\">101 Stat.\n",
      "1330–221</ns0:ref>, provided that: <ns0:quotedContent origin=\"/us/pl/100/203/tIV/s4301/a\">“This subtitle [subtitle D (§§ 4301–4307) of title\n",
      "IV of <ns0:ref href=\"/us/pl/100/203\">Pub. L. 100–203</ns0:ref>, enacting <ns0:ref href=\"/us/usc/t42/s300aa–34\">section 300aa–34 of this\n",
      "title</ns0:ref>, amending sections 300aa–11 to 300aa–13, 300aa–15 to 300aa–17, 300aa–19, 300aa–21 to 300aa–23, 300aa–25 to 300aa–28, and\n",
      "300aa–31 of this title, repealing <ns0:ref href=\"/us/usc/t42/s300aa–18\">section 300aa–18 of this title</ns0:ref>, and amending provisions\n",
      "set out as a note under <ns0:ref href=\"/us/usc/t42/s300aa–1\">section 300aa–1 of this title</ns0:ref>] may be cited as the ‘Vaccine\n",
      "Compensation Amendments of 1987’.”</ns0:quotedContent> </ns0:p> <ns0:p><ns0:ref href=\"/us/pl/100/177/s1/a\">Pub. L. 100–177,\n",
      "§ 1(a)</ns0:ref>, <ns0:date date=\"1987-12-01\">Dec. 1, 1987</ns0:date>, <ns0:ref href=\"/us/stat/101/986\">101 Stat. 986</ns0:ref>, provided\n",
      "that: <ns0:quotedContent origin=\"/us/pl/100/177/s1/a\">“This Act [enacting sections 254<ns0:i>l</ns0:i>–1, 254q, and 254q–1 of this title,\n",
      "amending sections 242a, 242c, 242k, 242m, 242n, 242p, 247b, 254d to 254g, 254h–1, 254k, 254m to 254q, 254r, 295g–8, and 11137 of this title,\n",
      "repealing former <ns0:ref href=\"/us/usc/t42/s254q\">section 254q of this title</ns0:ref>, and enacting provisions set out as notes under\n",
      "sections 242c, 242k, 242m, 254<ns0:i>l</ns0:i>–1, 254<ns0:i>o</ns0:i>, 300aa–2, and 11137 of this title] may be cited as the ‘Public Health\n",
      "Service Amendments of 1987’.”</ns0:quotedContent> </ns0:p> <ns0:p><ns0:ref href=\"/us/pl/100/175/tVI/s601\">Pub. L. 100–175, title VI,\n",
      "§ 601</ns0:ref>, <ns0:date date=\"1987-11-29\">Nov. 29, 1987</ns0:date>, <ns0:ref href=\"/us/stat/101/979\">101 Stat. 979</ns0:ref>, provided\n",
      "that: <ns0:quotedContent origin=\"/us/pl/100/175/tVI/s601\">“This title [enacting part K (§ 280c et seq.) of subchapter II of this chapter]\n",
      "may be cited as the ‘Health Care Services in the Home Act of 1987’.”</ns0:quotedContent> </ns0:p> <ns0:p><ns0:ref\n",
      "href=\"/us/pl/100/97/s1\">Pub. L. 100–97, § 1</ns0:ref>, <ns0:date date=\"1987-08-18\">Aug. 18, 1987</ns0:date>, <ns0:ref\n",
      "href=\"/us/stat/101/713\">101 Stat. 713</ns0:ref>, provided: <ns0:quotedContent origin=\"/us/pl/100/97/s1\">“That this Act [enacting <ns0:ref\n",
      "href=\"/us/usc/t42/s295g–8a\">section 295g–8a of this title</ns0:ref> and provisions set out as a note under <ns0:ref\n",
      "href=\"/us/usc/t42/s295g–8a\">section 295g–8a of this title</ns0:ref>] may be cited as the ‘Excellence in Minority Health Education and Care\n",
      "Act’.”</ns0:quotedContent> </ns0:p> </ns0:note> <ns0:note style=\"-uslm-lc:I74\" topic=\"shortTitleOfAmendment\"\n",
      "id=\"idb10eb8f8-d970-11ed-a113-e530e1711693\"><ns0:heading class=\"centered smallCaps\">Short Title of 1986\n",
      "Amendments</ns0:heading><ns0:p><ns0:ref href=\"/us/pl/99/660/tIII/s301\">Pub. L. 99–660, title III, § 301</ns0:ref>, <ns0:date\n",
      "date=\"1986-11-14\">Nov. 14, 1986</ns0:date>, <ns0:ref href=\"/us/stat/100/3755\">100 Stat. 3755</ns0:ref>, provided that: <ns0:quotedContent\n",
      "origin=\"/us/pl/99/660/tIII/s301\">“This title [enacting sections 300aa–1 to 300aa–33 of this title, amending sections 218, 242c, 262, 286,\n",
      "and 289f of this title, redesignating former sections 300aa to 300aa–15 of this title as sections 300cc to 300cc–15 of this title, and\n",
      "enacting provisions set out as notes under sections 300aa–1 and 300aa–4 of this title] may be cited as the ‘National Childhood Vaccine\n",
      "Injury Act of 1986’.”</ns0:quotedContent> </ns0:p> <ns0:p><ns0:ref href=\"/us/pl/99/660/tV/s501\">Pub. L. 99–660, title V, § 501</ns0:ref>,\n",
      "<ns0:date date=\"1986-11-14\">Nov. 14, 1986</ns0:date>, <ns0:ref href=\"/us/stat/100/3794\">100 Stat. 3794</ns0:ref>, provided that:\n",
      "<ns0:quotedContent origin=\"/us/pl/99/660/tV/s501\">“This title [enacting sections 300x–10 to 300x–13 of this title and amending sections\n",
      "290aa–3 and 300x–4 of this title] may be cited as the ‘State Comprehensive Mental Health Services Plan Act of 1986’.”</ns0:quotedContent>\n",
      "</ns0:p> <ns0:p><ns0:ref href=\"/us/pl/99/660/tVIII/s801\">Pub. L. 99–660, title VIII, § 801</ns0:ref>, <ns0:date date=\"1986-11-14\">Nov. 14,\n",
      "1986</ns0:date>, <ns0:ref href=\"/us/stat/100/3799\">100 Stat. 3799</ns0:ref>, provided that: <ns0:quotedContent\n",
      "origin=\"/us/pl/99/660/tVIII/s801\">“This title [amending sections 300e–1, 300e–4, 300e–5 to 300e–10, 300e–16, and 300e–17 of this title,\n",
      "repealing sections 300e–2, 300e–3, and 300e–4a of this title, and enacting provisions set out as notes under sections 300e, 300e–1, 300e–4,\n",
      "and 300e–5 of this title] may be cited as the ‘Health Maintenance Organization Amendments of 1986’.”</ns0:quotedContent> </ns0:p>\n",
      "<ns0:p><ns0:ref href=\"/us/pl/99/649/s1\">Pub. L. 99–649, § 1</ns0:ref>, <ns0:date date=\"1986-11-10\">Nov. 10, 1986</ns0:date>, <ns0:ref\n",
      "href=\"/us/stat/100/3633\">100 Stat. 3633</ns0:ref>, provided: <ns0:quotedContent origin=\"/us/pl/99/649/s1\">“That this Act [enacting sections\n",
      "280b to 280b–3 of this title and provisions set out as a note under <ns0:ref href=\"/us/usc/t42/s280b\">section 280b of this title</ns0:ref>]\n",
      "may be cited as the ‘Injury Prevention Act of 1986’.”</ns0:quotedContent> </ns0:p> <ns0:p><ns0:ref href=\"/us/pl/99/570/tIV/s4001/a\">Pub. L.\n",
      "99–570, title IV, § 4001(a)</ns0:ref>, <ns0:date date=\"1986-10-27\">Oct. 27, 1986</ns0:date>, <ns0:ref href=\"/us/stat/100/3207-103\">100 Stat.\n",
      "3207–103</ns0:ref>, provided that: <ns0:quotedContent origin=\"/us/pl/99/570/tIV/s4001/a\">“This subtitle [subtitle A (§§ 4001–4022) of title\n",
      "IV of <ns0:ref href=\"/us/pl/99/570\">Pub. L. 99–570</ns0:ref>, enacting sections 290aa–3a, 290aa–6 to 290aa–10, and 300y to 300y–2 of this\n",
      "title, amending sections 218, 241, 290aa to 290aa–3, 290aa–4, 290aa–5, 290bb–1, 290bb–2, 290cc, and 290cc–2 of this title and sections 331\n",
      "and 350a of Title 21, Food and Drugs, and enacting provisions set out as notes under sections 290aa–3, 290aa–3a, and 290bb of this title]\n",
      "may be cited as the ‘Alcohol and Drug Abuse Amendments of 1986’.”</ns0:quotedContent> </ns0:p> <ns0:p><ns0:ref href=\"/us/pl/99/339/s1\">Pub.\n",
      "L. 99–339, § 1</ns0:ref>, <ns0:date date=\"1986-06-19\">June 19, 1986</ns0:date>, <ns0:ref href=\"/us/stat/100/642\">100 Stat. 642</ns0:ref>,\n",
      "provided that: <ns0:quotedContent origin=\"/us/pl/99/339/s1\">“This Act [enacting sections 300g–6, 300h–5 to 300h–7, 300i–1, and 300j–11 of\n",
      "this title, amending sections 300f, 300g–1 to 300g–5, 300h to 300h–2, 300h–4, 300h–6, 300h–7, 300i, 300j to 300j–4, 300j–7, and 6979a of\n",
      "this title and sections 1261 and 1263 of Title 15, Commerce and Trade, transferring section 6939b to 6979a of this title, and enacting\n",
      "provisions set out as notes under sections 300g–6 and 300j–1 of this title and <ns0:ref href=\"/us/usc/t15/s1261\">section 1261 of Title\n",
      "15</ns0:ref>] may be cited as the ‘Safe Drinking Water Act Amendments of 1986’.”</ns0:quotedContent> </ns0:p> <ns0:p><ns0:ref\n",
      "href=\"/us/pl/99/280/s1/a\">Pub. L. 99–280, § 1(a)</ns0:ref>, <ns0:date date=\"1986-04-24\">Apr. 24, 1986</ns0:date>, <ns0:ref\n",
      "href=\"/us/stat/100/399\">100 Stat. 399</ns0:ref>, provided that: <ns0:quotedContent origin=\"/us/pl/99/280/s1/a\">“This Act [amending sections\n",
      "254b and 254c of this title and repealing sections 300y to 300y–11 of this title] may be cited as the ‘Health Services Amendments Act of\n",
      "1986’.”</ns0:quotedContent> </ns0:p> </ns0:note> <ns0:note style=\"-uslm-lc:I74\" topic=\"shortTitleOfAmendment\"\n",
      "id=\"idb10eb8f9-d970-11ed-a113-e530e1711693\"><ns0:heading class=\"centered smallCaps\">Short Title of 1985\n",
      "Amendments</ns0:heading><ns0:p><ns0:ref href=\"/us/pl/99/158/s1/a\">Pub. L. 99–158, § 1(a)</ns0:ref>, <ns0:date date=\"1985-11-20\">Nov. 20,\n",
      "1985</ns0:date>, <ns0:ref href=\"/us/stat/99/820\">99 Stat. 820</ns0:ref>, provided that: <ns0:quotedContent origin=\"/us/pl/99/158/s1/a\">“This\n",
      "Act [enacting sections 275, 281 to 283, 284 to 284c, 285 to 285a–5, 285b to 285b–6, 285c to 285c–7, 285d to 285d–7, 285e to 285e–2, 285f,\n",
      "285g to 285g–3, 285h, 285i, 285j to 285j–2, 285k, 285<ns0:i>l</ns0:i>, 286 to 286a–1, 286b to 286b–8, 287 to 287a–1, 287b, 287c to 287c–3,\n",
      "288 to 288b, and 289 to 289h of this title, amending sections 217a, 218, 241, 290aa–5, and 300c–12 of this title, repealing sections 275 to\n",
      "280a–1, 280b to 280b–2, 280b–4, 280b–5, and 280b–7 to 280b–11 of this title, omitting sections 286c to 286e, 287d to 287i, 288c, 289, 289c–1\n",
      "to 289c–3, 289c–4 to 289c–7, 289i to 289k, 289k–2 to 289k–5, and 289<ns0:i>l</ns0:i> to 289<ns0:i>l</ns0:i>–8 of this title, enacting\n",
      "provisions set out as notes under sections 218, 281, 285c, 285e, 285e–2, 285j–1 and 289d of this title, and repealing provisions set out as\n",
      "a note under <ns0:ref href=\"/us/usc/t42/s287i\">section 287i of this title</ns0:ref>] may be cited as the ‘Health Research Extension Act of\n",
      "1985’.”</ns0:quotedContent> </ns0:p> <ns0:p><ns0:ref href=\"/us/pl/99/129/s1\">Pub. L. 99–129, § 1</ns0:ref>, <ns0:date date=\"1985-10-22\">Oct.\n",
      "22, 1985</ns0:date>, <ns0:ref href=\"/us/stat/99/523\">99 Stat. 523</ns0:ref>, provided: <ns0:quotedContent origin=\"/us/pl/99/129/s1\">“That\n",
      "this Act [enacting sections 294q–1 to 294q–3 of this title, amending sections 254<ns0:i>l</ns0:i>, 292a, 292b, 292h, 292j, 293c, 294a, 294b,\n",
      "294d, 294e, 294g, 294j, 294m to 294p, 294z, 295f to 295f–2, 295g, 295g–1, 295g–3, 295g–4, 295g–6 to 295g–8, 295g–8b, 295h, 295h–1a to\n",
      "295h–1c, 296k, 296<ns0:i>l</ns0:i>, 296m, 297a, 298b–5, and 300aa–14 of this title, repealing sections 292c, 295 to 295e–5, 295g–2, 295g–5,\n",
      "295g–8a, and 295g–9 of this title, enacting provisions set out as notes under sections 254<ns0:i>l</ns0:i>, 292h, 293c, 294d, 294n, and\n",
      "300aa–14 of this title and <ns0:ref href=\"/us/usc/t50/s3811\">section 3811 of Title 50</ns0:ref>, War and National Defense, and amending\n",
      "provisions set out as a note under <ns0:ref href=\"/us/usc/t42/s298b–5\">section 298b–5 of this title</ns0:ref>] may be cited as the ‘Health\n",
      "Professions Training Assistance Act of 1985’.”</ns0:quotedContent> </ns0:p> <ns0:p><ns0:ref href=\"/us/pl/99/117/s1/a\">Pub. L. 99–117,\n",
      "§ 1(a)</ns0:ref>, <ns0:date date=\"1985-10-07\">Oct. 7, 1985</ns0:date>, <ns0:ref href=\"/us/stat/99/491\">99 Stat. 491</ns0:ref>, provided\n",
      "that: <ns0:quotedContent origin=\"/us/pl/99/117/s1/a\">“this Act [amending sections 207, 210, 213a, 242c, 242n, 243, 246, 247b, 247e, 253,\n",
      "290aa–3, 300x–4, 300x–5, and 300x–9 of this title and <ns0:ref href=\"/us/usc/t15/s1333\">section 1333 of Title 15</ns0:ref>, Commerce and\n",
      "Trade, repealing sections 247, 254a–1, 299 to 299j, 300d–4, 300d–6, and 300aa–4 of this title, and enacting provisions set out as notes\n",
      "under sections 210, 241, and 242n of this title] may be cited as the ‘Health Services Amendments of 1985’.”</ns0:quotedContent> </ns0:p>\n",
      "<ns0:p><ns0:ref href=\"/us/pl/99/92/s1\">Pub. L. 99–92, § 1</ns0:ref>, <ns0:date date=\"1985-08-16\">Aug. 16, 1985</ns0:date>, <ns0:ref\n",
      "href=\"/us/stat/99/393\">99 Stat. 393</ns0:ref>, provided: <ns0:quotedContent origin=\"/us/pl/99/92/s1\">“That this Act [enacting <ns0:ref\n",
      "href=\"/us/usc/t42/s297i\">section 297i of this title</ns0:ref>, transferring section 296c to <ns0:ref href=\"/us/usc/t42/s298b–5\">section\n",
      "298b–5 of this title</ns0:ref>, amending sections 296k to 296m, 297, 297–1, 297a, 297b, 297d, 297e, 298, 298b, and 298b–5 of this title,\n",
      "sections 1332, 1333, 1336, and 1341 of Title 15, Commerce and Trade, and <ns0:ref href=\"/us/usc/t26/s6103\">section 6103 of Title\n",
      "26</ns0:ref>, Internal Revenue Code, repealing sections 296 to 296b, 296d to 296f, 296j, 297h, and 297j of this title, and enacting\n",
      "provisions set out as notes under sections 296k and 298b–5 of this title and <ns0:ref href=\"/us/usc/t15/s1333\">section 1333 of Title\n",
      "15</ns0:ref>] may be cited as the ‘Nurse Education Amendments of 1985’.”</ns0:quotedContent> </ns0:p> </ns0:note> <ns0:note style=\"-uslm-\n",
      "lc:I74\" topic=\"shortTitleOfAmendment\" id=\"idb11102ea-d970-11ed-a113-e530e1711693\"><ns0:heading class=\"centered smallCaps\">Short Title of\n",
      "1984 Amendments</ns0:heading><ns0:p><ns0:ref href=\"/us/pl/98/555/s1/a\">Pub. L. 98–555, § 1(a)</ns0:ref>, <ns0:date date=\"1984-10-30\">Oct.\n",
      "30, 1984</ns0:date>, <ns0:ref href=\"/us/stat/98/2854\">98 Stat. 2854</ns0:ref>, provided that: <ns0:quotedContent\n",
      "origin=\"/us/pl/98/555/s1/a\">“this Act [enacting sections 300w–9 and 300w–10 of this title and amending sections 247b, 247c, 255, 300, 300w,\n",
      "300w–4, and 300w–5 of this title] may be cited as the ‘Preventive Health Amendments of 1984’.”</ns0:quotedContent> </ns0:p> <ns0:p><ns0:ref\n",
      "href=\"/us/pl/98/551/s1\">Pub. L. 98–551, § 1</ns0:ref>, <ns0:date date=\"1984-10-30\">Oct. 30, 1984</ns0:date>, <ns0:ref\n",
      "href=\"/us/stat/98/2815\">98 Stat. 2815</ns0:ref>, provided: <ns0:quotedContent origin=\"/us/pl/98/551/s1\">“That this Act [enacting <ns0:ref\n",
      "href=\"/us/usc/t42/s300u–5\">section 300u–5 of this title</ns0:ref>, amending sections 242b, 242c, 242m, 242n, 254r, 300u, and 300u–3 of this\n",
      "title and sections 360bb and 360ee of Title 21, Food and Drugs, and repealing sections 300u–5 to 300u–9 of this title] may be cited as the\n",
      "‘Health Promotion and Disease Prevention Amendments of 1984’.”</ns0:quotedContent> </ns0:p> <ns0:p><ns0:ref href=\"/us/pl/98/509/s1/a\">Pub.\n",
      "L. 98–509, § 1(a)</ns0:ref>, <ns0:date date=\"1984-10-19\">Oct. 19, 1984</ns0:date>, <ns0:ref href=\"/us/stat/98/2353\">98 Stat. 2353</ns0:ref>,\n",
      "provided that: <ns0:quotedContent origin=\"/us/pl/98/509/s1/a\">“this Act [enacting sections 290bb–1a, 290cc–1, 290cc–2, and 300x–1a of this\n",
      "title, amending sections 218, 290aa, 290aa–1 to 290aa–3, 290bb, 290bb–2, 290cc, 290dd, 290dd–1, 300x, 300x–1, and 300x–2 to 300x–9 of this\n",
      "title and <ns0:ref href=\"/us/usc/t21/s802\">section 802 of Title 21</ns0:ref>, Food and Drugs, repealing sections 1161 to 1165 of Title 21,\n",
      "and enacting provisions set out as notes under sections 300x and 300x–1a of this title and <ns0:ref href=\"/us/usc/t21/s802\">section 802 of\n",
      "Title 21</ns0:ref>] may be cited as the ‘Alcohol Abuse, Drug Abuse, and Mental Health Amendments of 1984’.”</ns0:quotedContent> </ns0:p>\n",
      "<ns0:p><ns0:ref href=\"/us/pl/98/507/s1\">Pub. L. 98–507, § 1</ns0:ref>, <ns0:date date=\"1984-10-19\">Oct. 19, 1984</ns0:date>, <ns0:ref\n",
      "href=\"/us/stat/98/2339\">98 Stat. 2339</ns0:ref>, provided: <ns0:quotedContent origin=\"/us/pl/98/507/s1\">“That this Act [enacting sections\n",
      "273 to 274e of this title and provisions set out as notes under <ns0:ref href=\"/us/usc/t42/s273\">section 273 of this title</ns0:ref>] may be\n",
      "cited as the ‘National Organ Transplant Act’.”</ns0:quotedContent> </ns0:p> </ns0:note> <ns0:note style=\"-uslm-lc:I74\"\n",
      "topic=\"shortTitleOfAmendment\" id=\"idb11102eb-d970-11ed-a113-e530e1711693\"><ns0:heading class=\"centered smallCaps\">Short Title of 1983\n",
      "Amendments</ns0:heading><ns0:p><ns0:ref href=\"/us/pl/98/194/s1\">Pub. L. 98–194, § 1</ns0:ref>, <ns0:date date=\"1983-12-01\">Dec. 1,\n",
      "1983</ns0:date>, <ns0:ref href=\"/us/stat/97/1345\">97 Stat. 1345</ns0:ref>, provided: <ns0:quotedContent origin=\"/us/pl/98/194/s1\">“That this\n",
      "Act [amending <ns0:ref href=\"/us/usc/t42/s254g\">section 254g of this title</ns0:ref> and enacting provisions set out as notes under <ns0:ref\n",
      "href=\"/us/usc/t42/s254g\">section 254g of this title</ns0:ref>] may be cited as the ‘Rural Health Clinics Act of 1983’.”</ns0:quotedContent>\n",
      "</ns0:p> <ns0:p><ns0:ref href=\"/us/pl/98/24/s1/a\">Pub. L. 98–24, § 1(a)</ns0:ref>, <ns0:date date=\"1983-04-26\">Apr. 26, 1983</ns0:date>,\n",
      "<ns0:ref href=\"/us/stat/97/175\">97 Stat. 175</ns0:ref>, provided that: <ns0:quotedContent origin=\"/us/pl/98/24/s1/a\">“This Act [enacting\n",
      "sections 290aa–4 and 290aa–5 of this title, transferring sections 219 to 224, 225a to 227, 228 to 229d, 289k–1, 3511, 4551, 4585, 4587,\n",
      "4588, 4571, 4561, 4581, and 4582 of this title to sections 300aa to 300aa–5, 300aa–6 to 300aa–8, 300aa–9 to 300aa–14, 290aa–3, 290aa,\n",
      "290aa–1, 290bb, 290bb–1, 290bb–2, 290dd, 290dd–1, 290dd–2, and 290dd–3 of this title, respectively, and sections 1173(a), 1174, 1175, 1180,\n",
      "1191, 1192, and 1193 of Title 21, Food and Drugs, to sections 290aa–2(e), 290ee–2, 290ee–3, 290ee–1, 290aa–2, 290ee, and 290cc of this\n",
      "title, respectively, amending sections 218, 278, 289<ns0:i>l</ns0:i>–4, 290aa to 290aa–2, 290bb to 290bb–2, 290cc, 290dd to 290dd–2, 290ee\n",
      "to 290ee–3, and 4577 of this title and sections 1165, 1173, and 1177 of Title 21, repealing sections 4552, 4553, and 4586 of this title and\n",
      "sections 1117, 1172, and 1194 of Title 21, enacting provisions set out as a note under <ns0:ref href=\"/us/usc/t42/s290aa\">section 290aa of\n",
      "this title</ns0:ref>, amending provisions set out as a note under <ns0:ref href=\"/us/usc/t42/s4541\">section 4541 of this title</ns0:ref>,\n",
      "and repealing provisions set out as a note under <ns0:ref href=\"/us/usc/t42/s242\">section 242 of this title</ns0:ref>] may be cited as the\n",
      "‘Alcohol and Drug Abuse Amendments of 1983’.”</ns0:quotedContent> </ns0:p> </ns0:note> <ns0:note style=\"-uslm-lc:I74\"\n",
      "topic=\"shortTitleOfAmendment\" id=\"idb11102ec-d970-11ed-a113-e530e1711693\"><ns0:heading class=\"centered smallCaps\">Short Title of 1981\n",
      "Amendment</ns0:heading><ns0:p><ns0:ref href=\"/us/pl/97/35/tIX/s940/a\">Pub. L. 97–35, title IX, § 940(a)</ns0:ref>, <ns0:date\n",
      "date=\"1981-08-13\">Aug. 13, 1981</ns0:date>, <ns0:ref href=\"/us/stat/95/572\">95 Stat. 572</ns0:ref>, provided that: <ns0:quotedContent\n",
      "origin=\"/us/pl/97/35/tIX/s940/a\">“This subtitle [subtitle F (§§ 940–949) of title IX of <ns0:ref href=\"/us/pl/97/35\">Pub. L.\n",
      "97–35</ns0:ref>, amending sections 300e to 300e–4a, 300e–6 to 300e–9, 300e–11, 300e–17, and 300m–6 of this title, repealing sections 300e–13\n",
      "and 300e–15 of this title, and enacting provisions set out as notes under sections 300e–9 and 300m–6 of this title] may be cited as the\n",
      "‘Health Maintenance Organization Amendments of 1981’.”</ns0:quotedContent> </ns0:p> </ns0:note> <ns0:note style=\"-uslm-lc:I74\"\n",
      "topic=\"shortTitleOfAmendment\" id=\"idb11102ed-d970-11ed-a113-e530e1711693\"><ns0:heading class=\"centered smallCaps\">Short Title of 1980\n",
      "Amendment</ns0:heading><ns0:p><ns0:ref href=\"/us/pl/96/538/s1/a\">Pub. L. 96–538, § 1(a)</ns0:ref>, <ns0:date date=\"1980-12-17\">Dec. 17,\n",
      "1980</ns0:date>, <ns0:ref href=\"/us/stat/94/3183\">94 Stat. 3183</ns0:ref>, provided that: <ns0:quotedContent\n",
      "origin=\"/us/pl/96/538/s1/a\">“this Act [enacting sections 289c–3, 289c–4, 289c–7 of this title, amending sections 286e, 287c, 287i, 289a,\n",
      "289c–1, 289c–2, 289c–5, 289c–6, 294a, 294d, 294v, 300k–1, 300<ns0:i>l</ns0:i>–5, 300m, 300m–3, 300m–6, 300n, and 300n–1 of this title and\n",
      "<ns0:ref href=\"/us/usc/t8/s1182\">section 1182 of Title 8</ns0:ref>, Aliens and Nationality, repealing sections 289c–3a and 289c–8 and former\n",
      "sections 289c–3, 289c–4, and 289c–7 of this title, and enacting provisions set out as notes under sections 289, 300<ns0:i>l</ns0:i>–5, and\n",
      "300m–6 of this title] may be cited as the ‘Health Programs Extension Act of 1980’.”</ns0:quotedContent> </ns0:p> </ns0:note> <ns0:note\n",
      "style=\"-uslm-lc:I74\" topic=\"shortTitleOfAmendment\" id=\"idb11102ee-d970-11ed-a113-e530e1711693\"><ns0:heading class=\"centered smallCaps\">Short\n",
      "Title of 1979 Amendments</ns0:heading><ns0:p><ns0:ref href=\"/us/pl/96/142/tI/s101\">Pub. L. 96–142, title I, § 101</ns0:ref>, <ns0:date\n",
      "date=\"1979-12-12\">Dec. 12, 1979</ns0:date>, <ns0:ref href=\"/us/stat/93/1067\">93 Stat. 1067</ns0:ref>, provided that: <ns0:quotedContent\n",
      "origin=\"/us/pl/96/142/tI/s101\">“This title [amending sections 295g–9, 300d–1, 300d–3, 300d–5, 300d–6, 300d–8, and 300d–21 of this title and\n",
      "enacting provisions set out as a note under <ns0:ref href=\"/us/usc/t42/s295g–9\">section 295g–9 of this title</ns0:ref>] may be cited as the\n",
      "‘Emergency Medical Services Systems Amendments of 1979’.”</ns0:quotedContent> </ns0:p> <ns0:p><ns0:ref href=\"/us/pl/96/142/tII/s201\">Pub. L.\n",
      "96–142, title II, § 201</ns0:ref>, <ns0:date date=\"1979-12-12\">Dec. 12, 1979</ns0:date>, <ns0:ref href=\"/us/stat/93/1070\">93 Stat.\n",
      "1070</ns0:ref>, provided that: <ns0:quotedContent origin=\"/us/pl/96/142/tII/s201\">“This title [enacting section 300c–12 and amending\n",
      "<ns0:ref href=\"/us/usc/t42/s300c–11\">section 300c–11 of this title</ns0:ref>] may be cited as the ‘Sudden Infant Death Syndrome Amendments\n",
      "of 1979’.”</ns0:quotedContent> </ns0:p> <ns0:p><ns0:ref href=\"/us/pl/96/79/s1/a\">Pub. L. 96–79, § 1(a)</ns0:ref>, <ns0:date\n",
      "date=\"1979-10-04\">Oct. 4, 1979</ns0:date>, <ns0:ref href=\"/us/stat/93/592\">93 Stat. 592</ns0:ref>, provided that: <ns0:quotedContent\n",
      "origin=\"/us/pl/96/79/s1/a\">“This Act [enacting sections 300m–6, 300s, 300s–1, 300s–6, and 300t–11 to 300t–14 of this title, amending this\n",
      "section and sections 246, 300k–1 to 300k–3, 300<ns0:i>l</ns0:i> to 300<ns0:i>l–</ns0:i>5, 300m to 300m–5, 300n, 300n–1, 300n–3, 300n–5,\n",
      "300q, 300q–2, 300r, 300s–3, 300s–5, 300t, 1396b, 2689t, and 4573 of this title and <ns0:ref href=\"/us/usc/t21/s1176\">section 1176 of Title\n",
      "21</ns0:ref>, Food and Drugs, repealing sections 300<ns0:i>o</ns0:i> to 300<ns0:i>o–</ns0:i>3, 300p to 300p–3, 300q–1, and former <ns0:ref\n",
      "href=\"/us/usc/t42/s300s\">section 300s of this title</ns0:ref>, redesignating former section 300s–1 as 300s–1a of this title, and enacting\n",
      "provisions set out as notes under sections 300k–1, 300<ns0:i>l</ns0:i>, 300<ns0:i>l–</ns0:i>1, 300<ns0:i>l–</ns0:i>4, 300<ns0:i>l–</ns0:i>5,\n",
      "300m, 300m–6, 300n, 300q, and 300t–11 of this title] may be cited as the ‘Health Planning and Resources Development Amendments of\n",
      "1979’.”</ns0:quotedContent> </ns0:p> <ns0:p><ns0:ref href=\"/us/pl/96/76/tI/s101/a\">Pub. L. 96–76, title I, § 101(a)</ns0:ref>, <ns0:date\n",
      "date=\"1979-09-29\">Sept. 29, 1979</ns0:date>, <ns0:ref href=\"/us/stat/93/579\">93 Stat. 579</ns0:ref>, provided that: <ns0:quotedContent\n",
      "origin=\"/us/pl/96/76/tI/s101/a\">“This title [enacting <ns0:ref href=\"/us/usc/t42/s297–1\">section 297–1 of this title</ns0:ref>, amending\n",
      "sections 296, 296d, 296e, 296k to 296m, 297 to 297c, 297e, and 297j of this title, and enacting provisions set out as notes under sections\n",
      "296 and 297j of this title] may be cited as the ‘Nurse Training Amendments of 1979’.”</ns0:quotedContent> </ns0:p> <ns0:p><ns0:ref\n",
      "href=\"/us/pl/96/76/tIII/s301\">Pub. L. 96–76, title III, § 301</ns0:ref>, <ns0:date date=\"1979-09-29\">Sept. 29, 1979</ns0:date>, <ns0:ref\n",
      "href=\"/us/stat/93/584\">93 Stat. 584</ns0:ref>, provided that: <ns0:quotedContent origin=\"/us/pl/96/76/tIII/s301\">“This title [amending\n",
      "sections 204, 206, 207, 209, 210–1, 210b, 211, 212, 213a, 215, and 218a of this title and sections 201, 415, and 1006 of Title 37, Pay and\n",
      "Allowances of the Uniformed Services, and enacting provisions set out as a note under <ns0:ref href=\"/us/usc/t42/s206\">section 206 of this\n",
      "title</ns0:ref>] may be cited as the ‘Public Health Service Administrative Amendments of 1979’.”</ns0:quotedContent> </ns0:p> </ns0:note>\n",
      "<ns0:note style=\"-uslm-lc:I74\" topic=\"shortTitleOfAmendment\" id=\"idb11102ef-d970-11ed-a113-e530e1711693\"><ns0:heading class=\"centered\n",
      "smallCaps\">Short Title of 1978 Amendments</ns0:heading><ns0:p><ns0:ref href=\"/us/pl/95/626/s1/a\">Pub. L. 95–626, § 1(a)</ns0:ref>, <ns0:date\n",
      "date=\"1978-11-10\">Nov. 10, 1978</ns0:date>, <ns0:ref href=\"/us/stat/92/3551\">92 Stat. 3551</ns0:ref>, provided that: <ns0:quotedContent\n",
      "origin=\"/us/pl/95/626/s1/a\">“This Act [enacting sections 242p, 247, 247a, 247b–1, 254a–1, 255, 256, 256a, 300a–21 to 300a–29, 300a–41,\n",
      "300b–6, and 300u–6 to 300u–9 of this title, amending sections 218, 246, 247b, 247c, 247e, 254a, 254b, 254c, 254k, 294t, 294u, 295h–1, 300b,\n",
      "300b–3, 300c–21, 300c–22, 300d–2, 300d–3, 300d–5, 300d–6, 300e–12, 300e–14a, 300u–5, 1396b, and 4846 of this title, repealing sections 256,\n",
      "4801, 4811, 4844, and 4845 of this title, enacting provisions set out as notes under this section and sections 246, 247a, 247c, 254a–1, 254b\n",
      "to 254d, 256, 256a, 289b, 289d, 300a–21, 300d–2, and 300d–3 of this title, and amending provisions set out as notes under sections 300b and\n",
      "1395x of this title] may be cited as the ‘Health Services and Centers Amendments of 1978’.”</ns0:quotedContent> </ns0:p> <ns0:p><ns0:ref\n",
      "href=\"/us/pl/95/626/tI/s101\">Pub. L. 95–626, title I, § 101</ns0:ref>, <ns0:date date=\"1978-11-10\">Nov. 10, 1978</ns0:date>, <ns0:ref\n",
      "href=\"/us/stat/92/3551\">92 Stat. 3551</ns0:ref>, provided that: <ns0:quotedContent origin=\"/us/pl/95/626/tI/s101\">“This part [part A\n",
      "(§§ 101–107) of title I of <ns0:ref href=\"/us/pl/95/626\">Pub. L. 95–626</ns0:ref>, enacting <ns0:ref href=\"/us/usc/t42/s256a\">section 256a\n",
      "of this title</ns0:ref>, amending sections 218, 247e, 254b, 254c, 255, 300e–12, 300e–14a, and 1396b of this title, repealing <ns0:ref\n",
      "href=\"/us/usc/t42/s256\">section 256 of this title</ns0:ref>, and enacting provisions set out as notes under sections 254b, 254c, and 256a of\n",
      "this title] may be cited as the ‘Migrant and Community Health Centers Amendments of 1978’.”</ns0:quotedContent> </ns0:p> <ns0:p><ns0:ref\n",
      "href=\"/us/pl/95/626/tI/s111\">Pub. L. 95–626, title I, § 111</ns0:ref>, <ns0:date date=\"1978-11-10\">Nov. 10, 1978</ns0:date>, <ns0:ref\n",
      "href=\"/us/stat/92/3562\">92 Stat. 3562</ns0:ref>, provided that: <ns0:quotedContent origin=\"/us/pl/95/626/tI/s111\">“This part [part B\n",
      "(§§ 111–116) of title I of <ns0:ref href=\"/us/pl/95/626\">Pub. L. 95–626</ns0:ref>, enacting sections 254a–1 and 256 of this title, amending\n",
      "sections 294t and 294u of this title, and enacting provisions set out as notes under sections 254a–1, 254d, and 256 of this title] may be\n",
      "cited as the ‘Primary Health Care Act of 1978’.”</ns0:quotedContent> </ns0:p> <ns0:p><ns0:ref href=\"/us/pl/95/626/tII/s200\">Pub. L. 95–626,\n",
      "title II, § 200</ns0:ref>, <ns0:date date=\"1978-11-10\">Nov. 10, 1978</ns0:date>, <ns0:ref href=\"/us/stat/92/3570\">92 Stat. 3570</ns0:ref>,\n",
      "provided that: <ns0:quotedContent origin=\"/us/pl/95/626/tII/s200\">“This title [enacting sections 247, 247a, 255, and 300b–6 of this title,\n",
      "amending sections 246, 247b, 247c, 300b, 300b–3, 300c–21, 300c–22, 300d–2, 300d–3, 300d–5, 300d–6, and 4846 of this title, repealing\n",
      "sections 4801, 4811, 4844, and 4845 of this title, enacting provisions set out as notes under sections 246, 247a, 247c, 289d, 300d–2, and\n",
      "300d–3 of this title, and amending provisions set out as notes under sections 300b and 1395x of this title] may be cited as the ‘Health\n",
      "Services Extension Act of 1978’.”</ns0:quotedContent> </ns0:p> <ns0:p><ns0:ref href=\"/us/pl/95/623/s1/a\">Pub. L. 95–623, § 1(a)</ns0:ref>,\n",
      "<ns0:date date=\"1978-11-09\">Nov. 9, 1978</ns0:date>, <ns0:ref href=\"/us/stat/92/3443\">92 Stat. 3443</ns0:ref>, provided that:\n",
      "<ns0:quotedContent origin=\"/us/pl/95/623/s1/a\">“This Act [enacting sections 229c, 242n, and 4362a of this title, amending sections 210,\n",
      "242b, 242c, 242k, 242m, 242<ns0:i>o</ns0:i>, 289k, 289<ns0:i>l–</ns0:i>1, 292e, 292h, 292i, 294t, 295f–1, 295f–2, 295g–2, 295g–8, 295h–2,\n",
      "7411, 7412, 7417, and 7617 of this title, repealing <ns0:ref href=\"/us/usc/t42/s280c\">section 280c of this title</ns0:ref>, enacting\n",
      "provisions set out as a note under <ns0:ref href=\"/us/usc/t42/s242m\">section 242m of this title</ns0:ref>, and amending provisions set out\n",
      "as notes under sections 292h, 295h–4, and 296 of this title] may be cited as the ‘Health Services Research, Health Statistics, and Health\n",
      "Care Technology Act of 1978’.”</ns0:quotedContent> </ns0:p> <ns0:p><ns0:ref href=\"/us/pl/95/622/tII/s201/a\">Pub. L. 95–622, title II,\n",
      "§ 201(a)</ns0:ref>, <ns0:date date=\"1978-11-09\">Nov. 9, 1978</ns0:date>, <ns0:ref href=\"/us/stat/92/3420\">92 Stat. 3420</ns0:ref>, provided\n",
      "that: <ns0:quotedContent origin=\"/us/pl/95/622/tII/s201/a\">“This title [enacting sections 289<ns0:i>l</ns0:i>–6 to 289<ns0:i>l</ns0:i>–8 of\n",
      "this title, amending sections, 241, 248, 277, 280b, 281 to 286g, 287a to 287d, 287g, 287i, 289c–6, 289<ns0:i>l</ns0:i> to\n",
      "289<ns0:i>l</ns0:i>–2, 289<ns0:i>l</ns0:i>–4, 4541, 4573, and 4585 of this title, and enacting provisions set out as notes under sections\n",
      "241, 286b, 286f, 289a, and 289<ns0:i>l</ns0:i>–1 of this title] may be cited as the ‘Biomedical Research and Research Training Amendments of\n",
      "1978’.”</ns0:quotedContent> </ns0:p> <ns0:p><ns0:ref href=\"/us/pl/95/559/s1/a\">Pub. L. 95–559, § 1(a)</ns0:ref>, <ns0:date\n",
      "date=\"1978-11-01\">Nov. 1, 1978</ns0:date>, <ns0:ref href=\"/us/stat/92/2131\">92 Stat. 2131</ns0:ref>, provided that: <ns0:quotedContent\n",
      "origin=\"/us/pl/95/559/s1/a\">“This Act [enacting sections 300e–4a, 300e–16, and 300e–17 of this title, amending sections 300e, 300e–1,\n",
      "300e–3, 300e–4, 300e–5, 300e–7, 300e–8, 300e–9, 300e–11 to 300e–13, 1320a–1, 1396a, and 1396b of this title, and enacting provisions set out\n",
      "as notes under sections 300e–3, 300e–4, 300e–16, and 1396a of this title] may be cited as the ‘Health Maintenance Organization Amendments of\n",
      "1978’.”</ns0:quotedContent> </ns0:p> </ns0:note> <ns0:note style=\"-uslm-lc:I74\" topic=\"shortTitleOfAmendment\"\n",
      "id=\"idb11102f0-d970-11ed-a113-e530e1711693\"><ns0:heading class=\"centered smallCaps\">Short Title of 1977\n",
      "Amendments</ns0:heading><ns0:p><ns0:ref href=\"/us/pl/95/190/s1\">Pub. L. 95–190, § 1</ns0:ref>, <ns0:date date=\"1977-11-16\">Nov. 16,\n",
      "1977</ns0:date>, <ns0:ref href=\"/us/stat/91/1393\">91 Stat. 1393</ns0:ref>, provided that: <ns0:quotedContent origin=\"/us/pl/95/190/s1\">“This\n",
      "Act [enacting sections 300j–10 and 7625a of this title, amending sections 300f, 300g–1, 300g–3, 300g–5, 300h, 300h–1, 300j to 300j–2,\n",
      "300j–4, 300j–6, 300j–8, 7410, 7411, 7413, 7414, 7416, 7419, 7420, 7426, 7472 to 7475, 7478, 7479, 7502, 7503, 7506, 7521, 7522, 7525, 7541,\n",
      "7545, 7549, 7602, 7604, 7607, 7623, and 7626 of this title, enacting provisions set out as notes under <ns0:ref\n",
      "href=\"/us/usc/t42/s300f\">section 300f of this title</ns0:ref>, and <ns0:ref href=\"/us/usc/t5/s5108\">section 5108 of Title 5</ns0:ref>,\n",
      "Government Organization and Employees, and amending provisions set out as notes under sections 300f, 7401, and 7502 of this title] may be\n",
      "cited as the ‘Safe Drinking Water Amendments of 1977’.”</ns0:quotedContent> </ns0:p> <ns0:p><ns0:ref href=\"/us/pl/95/83/tI/s101\">Pub. L.\n",
      "95–83, title I, § 101</ns0:ref>, <ns0:date date=\"1977-08-01\">Aug. 1, 1977</ns0:date>, <ns0:ref href=\"/us/stat/91/383\">91 Stat.\n",
      "383</ns0:ref>, provided that: <ns0:quotedContent origin=\"/us/pl/95/83/tI/s101\">“This title [amending this section and sections 242m, 300e–8,\n",
      "300k–3, 300<ns0:i>l</ns0:i> to 300<ns0:i>l–</ns0:i>5, 300m, 300m–2, 300m–4, 300m–5, 300n–3, 300n–5, 300<ns0:i>o–</ns0:i>1 to\n",
      "300<ns0:i>o–</ns0:i>3, 300p, 300p–3, 300q, 300q–2, 300r, 300s–3, 300t, and 1396b of this title, and enacting provisions set out as a note\n",
      "under <ns0:ref href=\"/us/usc/t42/s1396b\">section 1396b of this title</ns0:ref>] may be cited as the ‘Health Planning and Health Services\n",
      "Research and Statistics Extension Act of 1977’.”</ns0:quotedContent> </ns0:p> <ns0:p><ns0:ref href=\"/us/pl/95/83/tII/s201\">Pub. L. 95–83,\n",
      "title II, § 201</ns0:ref>, <ns0:date date=\"1977-08-01\">Aug. 1, 1977</ns0:date>, <ns0:ref href=\"/us/stat/91/386\">91 Stat. 386</ns0:ref>,\n",
      "provided that: <ns0:quotedContent origin=\"/us/pl/95/83/tII/s201\">“This title [amending sections 280b, 286b, 286c, 286d, 286f, 286g, 287c,\n",
      "287d, 287f, 287h, 287i, and 289<ns0:i>l–</ns0:i>1 of this title] may be cited as the ‘Biomedical Research Extension Act of\n",
      "1977’.”</ns0:quotedContent> </ns0:p> <ns0:p><ns0:ref href=\"/us/pl/95/83/tIII/s301\">Pub. L. 95–83, title III, § 301</ns0:ref>, <ns0:date\n",
      "date=\"1977-08-01\">Aug. 1, 1977</ns0:date>, <ns0:ref href=\"/us/stat/91/387\">91 Stat. 387</ns0:ref>, provided that: <ns0:quotedContent\n",
      "origin=\"/us/pl/95/83/tIII/s301\">“This title [enacting <ns0:ref href=\"/us/usc/t42/s294y–1\">section 294y–1 of this title</ns0:ref>, amending\n",
      "sections 210, 246, 247d, 254c, 292g, 292h, 293a, 294d, 294e, 294h, 294i, 294j, 294n, 294r, 294s, 294w, 294z, 295f–1, 295g–1, 295g–9, 295h–5,\n",
      "295h–5c, 296e, 296m, 297, 300, 300a–1, 300a–2, 300a–3, 300c–11, 300c–21, 300c–22, 701, 2689a to 2689e, 2689h, 2689p, 2689q, 4572, 4573, and\n",
      "4577 of this title, sections 1101 and 1182 of Title 8, Aliens and Nationality, sections 1112 and 1176 of Title 21, Food and Drugs, and\n",
      "<ns0:ref href=\"/us/usc/t25/s1614\">section 1614 of Title 25</ns0:ref>, Indians, enacting provisions set out as notes under sections 242b,\n",
      "242<ns0:i>l</ns0:i>, 294d, 294i, 294n, 294r, 294t, 294y–1, 294z, 295f–1, 295g–1, 295h–5, and 296m of this title and sections 1101 and 1182\n",
      "of Title 8, and amending provisions set out as notes under sections 289k–2, 1395x, and 1396b of this title] may be cited as the ‘Health\n",
      "Services Extension Act of 1977’.”</ns0:quotedContent> </ns0:p> </ns0:note> <ns0:note style=\"-uslm-lc:I74\" topic=\"shortTitleOfAmendment\"\n",
      "id=\"idb11102f1-d970-11ed-a113-e530e1711693\"><ns0:heading class=\"centered smallCaps\">Short Title of 1976\n",
      "Amendments</ns0:heading><ns0:p><ns0:ref href=\"/us/pl/94/573/s1/a\">Pub. L. 94–573, § 1(a)</ns0:ref>, <ns0:date date=\"1976-10-21\">Oct. 21,\n",
      "1976</ns0:date>, <ns0:ref href=\"/us/stat/90/2709\">90 Stat. 2709</ns0:ref>, provided that: <ns0:quotedContent\n",
      "origin=\"/us/pl/94/573/s1/a\">“This Act [enacting <ns0:ref href=\"/us/usc/t42/s300d–21\">section 300d–21 of this title</ns0:ref>, amending\n",
      "sections 295f–6 and 300d to 300d–9 of this title, enacting provisions set out as notes under sections 242b, 300d, 300d–7, and 300d–9 of this\n",
      "title, and amending provisions set out as notes under sections 218, 289c–1, and 289<ns0:i>l–</ns0:i>1 of this title] may be cited as the\n",
      "‘Emergency Medical Services Amendments of 1976’.”</ns0:quotedContent> </ns0:p> <ns0:p><ns0:ref href=\"/us/pl/94/562/s1/a\">Pub. L. 94–562,\n",
      "§ 1(a)</ns0:ref>, <ns0:date date=\"1976-10-19\">Oct. 19, 1976</ns0:date>, <ns0:ref href=\"/us/stat/90/2645\">90 Stat. 2645</ns0:ref>, provided\n",
      "that: <ns0:quotedContent origin=\"/us/pl/94/562/s1/a\">“This Act [enacting sections 289c–3a, 289c–7, and 289c–8 of this title, amending\n",
      "sections 289c–2, 289c–5, and 289c–6 of this title, and enacting provisions set out as notes under sections 289a, 289c–3a, and 289c–7 of this\n",
      "title] may be cited as the ‘Arthritis, Diabetes, and Digestive Disease Amendments of 1976’.”</ns0:quotedContent> </ns0:p> <ns0:p><ns0:ref\n",
      "href=\"/us/pl/94/484/s1/a\">Pub. L. 94–484, § 1(a)</ns0:ref>, <ns0:date date=\"1976-10-12\">Oct. 12, 1976</ns0:date>, <ns0:ref\n",
      "href=\"/us/stat/90/2243\">90 Stat. 2243</ns0:ref>, provided that: <ns0:quotedContent origin=\"/us/pl/94/484/s1/a\">“This Act [enacting sections\n",
      "254 to 254k, 292, 292e to 292k, 294 to 294<ns0:i>l</ns0:i>, 294r to 294z, 294aa, 295f–1, 295g to 295g–8, 295g–10, 295h to 295h–2, and 295h–4\n",
      "to 295h–7 of this title; renumbering sections 293d as 292a, 293e as 292b, 295h–8 as 292c, 295h–9 as 292d, 293g to 293i as 293d to 293f, 294\n",
      "to 294c as 294m to 294p, 294e as 294q, 295f–5 as 295f–2, and 295f–6 as 295g–9 of this title; amending this section and sections 234, 244–1,\n",
      "245a, 246, 247c, 254b, 263c, 292a to 292c, 293 to 293d, 293f, 294g, 294m to 294p, 295e–1 to 295e–4, 295f to 295f–4, 295g, 295g–11, 295g–23,\n",
      "295h–1 to 295h–3, 297, 300a, 300d, 300d–7, 300f, 300<ns0:i>l</ns0:i>–1, 300n, and 300s–3 of this title and sections 1101 and 1182 of Title\n",
      "8, Aliens and Nationality; repealing sections 234, 244–1, 245a, 254b, 292 to 292j, 293f, 294d, 294f, 294g, 295f–1, to 295f–4, 295g, 295g–1,\n",
      "295g–11, and 295g–21 to 295g–23 of this title; omitting sections 295h to 295h–2, 295h–3a to 295h–3d, 295h–4, 295h–5, and 295h–7 of this\n",
      "title; and enacting provisions set out as notes under sections 254d, 292, 292b, 292h, 293, 293f, 294, 294n, 294<ns0:i>o</ns0:i>, 294q, 294r,\n",
      "294t, 294z, 295g, 295g–1, 295g–9, 295g–10, 295h, 295h–4, and 300<ns0:i>l</ns0:i>–1 of this title and <ns0:ref\n",
      "href=\"/us/usc/t8/s1182\">section 1182 of Title 8</ns0:ref>] may be cited as the ‘Health Professions Educational Assistance Act of\n",
      "1976’.”</ns0:quotedContent> </ns0:p> <ns0:p><ns0:ref href=\"/us/pl/94/460/s1/a\">Pub. L. 94–460, § 1(a)</ns0:ref>, <ns0:date\n",
      "date=\"1976-10-08\">Oct. 8, 1976</ns0:date>, <ns0:ref href=\"/us/stat/90/1945\">90 Stat. 1945</ns0:ref>, provided that: <ns0:quotedContent\n",
      "origin=\"/us/pl/94/460/s1/a\">“This Act [enacting <ns0:ref href=\"/us/usc/t42/s300e–15\">section 300e–15 of this title</ns0:ref>, amending\n",
      "sections 242c, 289k–2, 300e, 300e–1 to 300e–11, 300e–13, 300n–1, 1395x note, 1395mm, and 1396b of this title, <ns0:ref\n",
      "href=\"/us/usc/t5/s8902\">section 8902 of Title 5</ns0:ref>, Government Organization and Employees, and <ns0:ref\n",
      "href=\"/us/usc/t21/s360d\">section 360d of Title 21</ns0:ref>, Food and Drugs, and enacting provisions set out as notes under sections 300e\n",
      "and 1396b of this title] may be cited as the ‘Health Maintenance Organization Amendments of 1976’.”</ns0:quotedContent> </ns0:p>\n",
      "<ns0:p><ns0:ref href=\"/us/pl/94/380/s1\">Pub. L. 94–380, § 1</ns0:ref>, <ns0:date date=\"1976-08-12\">Aug. 12, 1976</ns0:date>, <ns0:ref\n",
      "href=\"/us/stat/90/1113\">90 Stat. 1113</ns0:ref>, provided: <ns0:quotedContent origin=\"/us/pl/94/380/s1\">“That this Act [amending <ns0:ref\n",
      "href=\"/us/usc/t42/s247b\">section 247b of this title</ns0:ref> and enacting provisions set out as a note under <ns0:ref\n",
      "href=\"/us/usc/t42/s247b\">section 247b of this title</ns0:ref>] may be cited as the ‘National Swine Flu Immunization Program of\n",
      "1976’.”</ns0:quotedContent> </ns0:p> <ns0:p><ns0:ref href=\"/us/pl/94/317/tI/s101\">Pub. L. 94–317, title I, § 101</ns0:ref>, <ns0:date\n",
      "date=\"1976-06-23\">June 23, 1976</ns0:date>, <ns0:ref href=\"/us/stat/90/695\">90 Stat. 695</ns0:ref>, provided that: <ns0:quotedContent\n",
      "origin=\"/us/pl/94/317/tI/s101\">“This title [enacting subchapter XV of this chapter] may be cited as the ‘National Consumer Health\n",
      "Information and Health Promotion Act of 1976’.”</ns0:quotedContent> </ns0:p> <ns0:p><ns0:ref href=\"/us/pl/94/317/tII/s201\">Pub. L. 94–317,\n",
      "title II, § 201</ns0:ref>, <ns0:date date=\"1976-06-23\">June 23, 1976</ns0:date>, <ns0:ref href=\"/us/stat/90/700\">90 Stat. 700</ns0:ref>,\n",
      "provided that: <ns0:quotedContent origin=\"/us/pl/94/317/tII/s201\">“This title [amending sections 243, 247b, 247c, 4801, 4831, and 4841 to\n",
      "4843 of this title and enacting provisions set out as notes under sections 247b and 247c of this title] may be cited as the ‘Disease Control\n",
      "Amendments of 1976’.”</ns0:quotedContent> </ns0:p> <ns0:p><ns0:ref href=\"/us/pl/94/278/s1/a\">Pub. L. 94–278, § 1(a)</ns0:ref>, <ns0:date\n",
      "date=\"1976-04-22\">Apr. 22, 1976</ns0:date>, <ns0:ref href=\"/us/stat/90/401\">90 Stat. 401</ns0:ref>, provided that: <ns0:quotedContent\n",
      "origin=\"/us/pl/94/278/s1/a\">“This Act [enacting sections 217a–1, 289<ns0:i>l–</ns0:i>5, 300b, 300b–1 to 300b–5 of this title and sections\n",
      "350 and 378 of Title 21, Food and Drugs, and amending sections 213e, 225a, 234, 241, 247d, 254c, 287, 287a to 287d, 287f to 287i, 289a,\n",
      "289c–1, 289c–5, 289c–6, 289<ns0:i>l</ns0:i>–1, 289<ns0:i>l</ns0:i>–2, 294b, 295g–23, 300c–11, 300<ns0:i>l</ns0:i>, 300p–3, 300s–1, 6062 and\n",
      "6064 of this title and sections 321, 333, 334 and 343 of Title 21, and enacting provisions set out as notes under sections 218, 287, 289c–1,\n",
      "289c–2, 289<ns0:i>l–</ns0:i>1, 300b and 6001 of this title and sections 334 and 350 of Title 21] may be cited as the ‘Health Research and\n",
      "Health Services Amendment of 1976’.”</ns0:quotedContent> </ns0:p> <ns0:p><ns0:ref href=\"/us/pl/94/278/tIV/s401\">Pub. L. 94–278, title IV,\n",
      "§ 401</ns0:ref>, <ns0:date date=\"1976-04-22\">Apr. 22, 1976</ns0:date>, <ns0:ref href=\"/us/stat/90/407\">90 Stat. 407</ns0:ref>, provided\n",
      "that: <ns0:quotedContent origin=\"/us/pl/94/278/tIV/s401\">“This title [enacting part A of subchapter IX of this chapter, omitting former Part\n",
      "B of subchapter IX of this chapter relating to Cooley’s Anemia Programs, redesignating former Parts C and D of subchapter IX of this chapter\n",
      "as Parts B and C of subchapter IX of this chapter, respectively, and amending <ns0:ref href=\"/us/usc/t42/s300c–11\">section 300c–11 of this\n",
      "title</ns0:ref>] may be cited as the ‘National Sickle Cell Anemia, Cooley’s Anemia, Tay-Sachs, and Genetic Diseases\n",
      "Act’.”</ns0:quotedContent> </ns0:p> <ns0:p><ns0:ref href=\"/us/pl/94/278/tVI/s601\">Pub. L. 94–278, title VI, § 601</ns0:ref>, <ns0:date\n",
      "date=\"1976-04-22\">Apr. 22, 1976</ns0:date>, <ns0:ref href=\"/us/stat/90/413\">90 Stat. 413</ns0:ref>, provided that: <ns0:quotedContent\n",
      "origin=\"/us/pl/94/278/tVI/s601\">“This title [amending sections 289a, 289c–1, 289c–5, and 289c–6 of this title and amending provisions set\n",
      "out as notes under <ns0:ref href=\"/us/usc/t42/s289c–1\">section 289c–1 of this title</ns0:ref>] may be cited as the ‘National Arthritis Act\n",
      "Technical Amendments of 1976’.”</ns0:quotedContent> </ns0:p> </ns0:note> <ns0:note style=\"-uslm-lc:I74\" topic=\"shortTitleOfAmendment\"\n",
      "id=\"idb11102f2-d970-11ed-a113-e530e1711693\"><ns0:heading class=\"centered smallCaps\">Short Title of 1975\n",
      "Amendments</ns0:heading><ns0:p><ns0:ref href=\"/us/pl/94/63/tI/s101\">Pub. L. 94–63, title I, § 101</ns0:ref>, <ns0:date\n",
      "date=\"1975-07-29\">July 29, 1975</ns0:date>, <ns0:ref href=\"/us/stat/89/304\">89 Stat. 304</ns0:ref>, provided that: <ns0:quotedContent\n",
      "origin=\"/us/pl/94/63/tI/s101\">“This title [amending <ns0:ref href=\"/us/usc/t42/s246\">section 246 of this title</ns0:ref> and enacting\n",
      "provisions set out as a note under <ns0:ref href=\"/us/usc/t42/s246\">section 246 of this title</ns0:ref>] may be cited as the ‘Special Health\n",
      "Revenue Sharing Act of 1975’.”</ns0:quotedContent> </ns0:p> <ns0:p><ns0:ref href=\"/us/pl/94/63/tII/s201\">Pub. L. 94–63, title II,\n",
      "§ 201</ns0:ref>, <ns0:date date=\"1975-07-29\">July 29, 1975</ns0:date>, <ns0:ref href=\"/us/stat/89/306\">89 Stat. 306</ns0:ref>, provided\n",
      "that: <ns0:quotedContent origin=\"/us/pl/94/63/tII/s201\">“This title [enacting sections 300a–6a and 300a–8 of this title, amending sections\n",
      "300, 300a–1 to 300a–4 of this title, and repealing <ns0:ref href=\"/us/usc/t42/s3505c\">section 3505c of this title</ns0:ref>] may be cited as\n",
      "the ‘Family Planning and Population Research Act of 1975’.”</ns0:quotedContent> </ns0:p> <ns0:p><ns0:ref href=\"/us/pl/94/63/tIX/s901/a\">Pub.\n",
      "L. 94–63, title IX, § 901(a)</ns0:ref>, <ns0:date date=\"1975-07-29\">July 29, 1975</ns0:date>, <ns0:ref href=\"/us/stat/89/354\">89 Stat.\n",
      "354</ns0:ref>, provided that: <ns0:quotedContent origin=\"/us/pl/94/63/tIX/s901/a\">“This title [enacting sections 296j to 296m and 298b–3 of\n",
      "this title, amending sections 296 to 296i, 297 to 297e, 297g to 297h, 298 to 298b–2, 298c, 298c–1 and 298c–7 of this title, repealing\n",
      "sections 296g, 296i, 297f, 298c–7, and 298c–8 of this title, and enacting provisions set out as notes under sections 296, 296a, 296d, 296e,\n",
      "296m, 297, and 297b of this title and former <ns0:ref href=\"/us/usc/t42/s297f\">section 297f of this title</ns0:ref>] may be cited as the\n",
      "‘Nurse Training Act of 1975’.”</ns0:quotedContent> </ns0:p> <ns0:p><ns0:ref href=\"/us/pl/93/641/s1\">Pub. L. 93–641, § 1</ns0:ref>, <ns0:date\n",
      "date=\"1975-01-04\">Jan. 4, 1975</ns0:date>, <ns0:ref href=\"/us/stat/88/2225\">88 Stat. 2225</ns0:ref>, provided that: <ns0:quotedContent\n",
      "origin=\"/us/pl/93/641/s1\">“This Act [enacting subchapter XIII of this chapter amending <ns0:ref href=\"/us/usc/t42/s300e–4\">section 300e–4 of\n",
      "this title</ns0:ref>, repealing <ns0:ref href=\"/us/usc/t42/s247a\">section 247a of this title</ns0:ref>, and enacting provisions set out as\n",
      "notes under sections 217a, 229, 291b, 300<ns0:i>l</ns0:i>–4, and 300m of this title] may be cited as the ‘National Health Planning and\n",
      "Resources Development Act of 1974’.”</ns0:quotedContent> </ns0:p> </ns0:note> <ns0:note style=\"-uslm-lc:I74\" topic=\"shortTitleOfAmendment\"\n",
      "id=\"idb11102f3-d970-11ed-a113-e530e1711693\"><ns0:heading class=\"centered smallCaps\">Short Title of 1974\n",
      "Amendments</ns0:heading><ns0:p><ns0:ref href=\"/us/pl/93/640/s1\">Pub. L. 93–640, § 1</ns0:ref>, <ns0:date date=\"1975-01-04\">Jan. 4,\n",
      "1975</ns0:date>, <ns0:ref href=\"/us/stat/88/2217\">88 Stat. 2217</ns0:ref>, provided that: <ns0:quotedContent origin=\"/us/pl/93/640/s1\">“This\n",
      "Act [enacting sections 289c–4, 289c–5, and 289c–6 of this title, amending sections 289a and 289c–1 of this title, and enacting provisions\n",
      "set out as notes under <ns0:ref href=\"/us/usc/t42/s289c–1\">section 289c–1 of this title</ns0:ref>] may be cited as the ‘National Arthritis\n",
      "Act of 1974’.”</ns0:quotedContent> </ns0:p> <ns0:p><ns0:ref href=\"/us/pl/93/523/s1\">Pub. L. 93–523, § 1</ns0:ref>, <ns0:date\n",
      "date=\"1974-12-16\">Dec. 16, 1974</ns0:date>, <ns0:ref href=\"/us/stat/88/1660\">88 Stat. 1660</ns0:ref>, as amended by <ns0:ref\n",
      "href=\"/us/pl/104/182/tV/s501/e\">Pub. L. 104–182, title V, § 501(e)</ns0:ref>, <ns0:date date=\"1996-08-06\">Aug. 6, 1996</ns0:date>, <ns0:ref\n",
      "href=\"/us/stat/110/1691\">110 Stat. 1691</ns0:ref>, provided that: <ns0:quotedContent origin=\"/us/pl/104/182/tV/s501/e\">“This Act [enacting\n",
      "subchapter XII of this chapter and <ns0:ref href=\"/us/usc/t21/s349\">section 349 of Title 21</ns0:ref>, Food and Drugs, amending this\n",
      "section, and enacting provisions set out as a note under <ns0:ref href=\"/us/usc/t42/s300f\">section 300f of this title</ns0:ref>] may be\n",
      "cited as the ‘Safe Drinking Water Act of 1974’.”</ns0:quotedContent> </ns0:p> <ns0:p><ns0:ref href=\"/us/pl/93/354/s1\">Pub. L. 93–354,\n",
      "§ 1</ns0:ref>, <ns0:date date=\"1974-07-23\">July 23, 1974</ns0:date>, <ns0:ref href=\"/us/stat/88/373\">88 Stat. 373</ns0:ref>, provided that:\n",
      "<ns0:quotedContent origin=\"/us/pl/93/354/s1\">“This Act [enacting sections 289c–1a, 289c–2, and 289c–3 of this title, amending sections 247b\n",
      "and 289c–1 of this title, and enacting provisions set out as notes under <ns0:ref href=\"/us/usc/t42/s289c–2\">section 289c–2 of this\n",
      "title</ns0:ref>] may be cited as the ‘National Diabetes Mellitus Research and Education Act’.”</ns0:quotedContent> </ns0:p> <ns0:p><ns0:ref\n",
      "href=\"/us/pl/93/353/s1/a\">Pub. L. 93–353, § 1(a)</ns0:ref>, <ns0:date date=\"1974-07-23\">July 23, 1974</ns0:date>, <ns0:ref\n",
      "href=\"/us/stat/88/362\">88 Stat. 362</ns0:ref>, provided that: <ns0:quotedContent origin=\"/us/pl/93/353/s1/a\">“This Act [enacting sections\n",
      "242k, 242m to 242<ns0:i>o</ns0:i>, and 253b of this title, renumbering former sections 242i, 242j, 242f, 242d, 242g, and 242h as sections\n",
      "235, 236, 242<ns0:i>l</ns0:i>, 244–1, 245a, and 247d of this title, amending sections 236, 242b, 242c, 242<ns0:i>l</ns0:i>, 244–1, 245a,\n",
      "280b, 280b–1, 280b–2, 280b–4, 280b–5, and 280b–7 to 280b–9, and repealing sections 242e, 244, 244a, 245, 247, 280b–3, and 280b–12 of this\n",
      "title, and enacting provisions set out as notes under sections 242m, 253b, and 280b of this title] may be cited as the ‘Health Services\n",
      "Research, Health Statistics, and Medical Libraries Act of 1974’.”</ns0:quotedContent> </ns0:p> <ns0:p><ns0:ref\n",
      "href=\"/us/pl/93/353/tI/s101\">Pub. L. 93–353, title I, § 101</ns0:ref>, <ns0:date date=\"1974-07-23\">July 23, 1974</ns0:date>, <ns0:ref\n",
      "href=\"/us/stat/88/362\">88 Stat. 362</ns0:ref>, provided that: <ns0:quotedContent origin=\"/us/pl/93/353/tI/s101\">“This title [enacting\n",
      "sections 242k, 242m to 242<ns0:i>o</ns0:i>, and 253b, renumbering former sections 242i, 242j, 242f, 242d, 242g, and 242h as sections 235,\n",
      "236, 242<ns0:i>l</ns0:i>, 244–1, 245a, and 247d of this title, amending sections 236, 242b, 242c, 242<ns0:i>l</ns0:i>, 244–1, and 245a,\n",
      "repealing sections 242e, 244, 244a, 245, and 247 of this title, and enacting provisions set out as notes under sections 242m and 253b of\n",
      "this title] may be cited as the ‘Health Services Research and Evaluation and Health Statistics Act of 1974’.”</ns0:quotedContent> </ns0:p>\n",
      "<ns0:p><ns0:ref href=\"/us/pl/93/352/tI/s101\">Pub. L. 93–352, title I, § 101</ns0:ref>, <ns0:date date=\"1974-07-23\">July 23, 1974</ns0:date>,\n",
      "<ns0:ref href=\"/us/stat/88/358\">88 Stat. 358</ns0:ref>, provided that: <ns0:quotedContent origin=\"/us/pl/93/352/tI/s101\">“This title\n",
      "[enacting section 289<ns0:i>l</ns0:i>–4 of this title, amending sections 241, 282, 286a, 286b, 286c, 286d, 286g, and 289<ns0:i>l</ns0:i> of\n",
      "this title, enacting provisions set out as notes under sections 289<ns0:i>l</ns0:i> and 289<ns0:i>l–</ns0:i>1 of this title, and amending\n",
      "provisions set out as a note under this section] may be cited as the ‘National Cancer Act Amendments of 1974’.”</ns0:quotedContent> </ns0:p>\n",
      "<ns0:p><ns0:ref href=\"/us/pl/93/348/tI/s1\">Pub. L. 93–348, title I, § 1</ns0:ref>, <ns0:date date=\"1974-07-12\">July 12, 1974</ns0:date>,\n",
      "<ns0:ref href=\"/us/stat/88/342\">88 Stat. 342</ns0:ref>, provided that: <ns0:quotedContent origin=\"/us/pl/93/348/tI/s1\">“This Act [enacting\n",
      "sections 289<ns0:i>l</ns0:i>–1 to 289<ns0:i>l</ns0:i>–3 of this title, amending sections 218, 241, 242a, 282, 286a, 286b, 287a, 287b, 287d,\n",
      "288a, 289c, 289c–1, 289g, 289k, and 300a–7 of this title, and enacting provisions set out as notes under sections 218, 241,\n",
      "289<ns0:i>l–</ns0:i>1, and 289<ns0:i>l–</ns0:i>3 of this title] may be cited as the ‘National Research Act’.”</ns0:quotedContent> </ns0:p>\n",
      "<ns0:p><ns0:ref href=\"/us/pl/93/348/tI/s101\">Pub. L. 93–348, title I, § 101</ns0:ref>, <ns0:date date=\"1974-07-12\">July 12, 1974</ns0:date>,\n",
      "<ns0:ref href=\"/us/stat/88/342\">88 Stat. 342</ns0:ref>, provided that: <ns0:quotedContent origin=\"/us/pl/93/348/tI/s101\">“This title\n",
      "[enacting sections 289<ns0:i>l</ns0:i>–1 and 289<ns0:i>l–</ns0:i>2 and amending sections 241, 242a, 282, 286a, 286b, 287a, 287b, 287d, 288a,\n",
      "289c, 289c–1, 289g, 289k, 295f–3, and 295h–9 of this title] may be cited as the ‘National Research Service Award Act of\n",
      "1974’.”</ns0:quotedContent> </ns0:p> <ns0:p><ns0:ref href=\"/us/pl/93/296/s1\">Pub. L. 93–296, § 1</ns0:ref>, <ns0:date date=\"1974-05-31\">May\n",
      "31, 1974</ns0:date>, <ns0:ref href=\"/us/stat/88/184\">88 Stat. 184</ns0:ref>, provided that: <ns0:quotedContent\n",
      "origin=\"/us/pl/93/296/s1\">“This Act [enacting Part H of subchapter III of this chapter and provisions set out as notes under <ns0:ref\n",
      "href=\"/us/usc/t42/s289k–2\">section 289k–2 of this title</ns0:ref>] may be cited as the ‘Research on Aging Act of 1974’.”</ns0:quotedContent>\n",
      "</ns0:p> <ns0:p><ns0:ref href=\"/us/pl/93/270/s1\">Pub. L. 93–270, § 1</ns0:ref>, <ns0:date date=\"1974-04-22\">Apr. 22, 1974</ns0:date>,\n",
      "<ns0:ref href=\"/us/stat/88/90\">88 Stat. 90</ns0:ref>, provided that: <ns0:quotedContent origin=\"/us/pl/93/270/s1\">“This Act [enacting part B\n",
      "of subchapter IX of this chapter, amending sections 289d and 289g of this title, and enacting provisions set out as a note under <ns0:ref\n",
      "href=\"/us/usc/t42/s289g\">section 289g of this title</ns0:ref>] may be cited as the ‘Sudden Infant Death Syndrome Act of\n",
      "1974’.”</ns0:quotedContent> </ns0:p> </ns0:note> <ns0:note style=\"-uslm-lc:I74\" topic=\"shortTitleOfAmendment\"\n",
      "id=\"idb11102f4-d970-11ed-a113-e530e1711693\"><ns0:heading class=\"centered smallCaps\">Short Title of 1973 Amendments</ns0:heading><ns0:p\n",
      "style=\"-uslm-lc:I21\" class=\"indent0\"><ns0:ref href=\"/us/pl/93/222/s1\">Pub. L. 93–222, § 1</ns0:ref>, <ns0:date date=\"1973-12-29\">Dec. 29,\n",
      "1973</ns0:date>, <ns0:ref href=\"/us/stat/87/914\">87 Stat. 914</ns0:ref>, provided in part that <ns0:ref href=\"/us/pl/93/222\">Pub. L.\n",
      "93–222</ns0:ref> [enacting subchapter XI of this chapter and <ns0:ref href=\"/us/usc/t42/s280c\">section 280c of this title</ns0:ref>,\n",
      "amending <ns0:ref href=\"/us/usc/t42/s2001\">section 2001 of this title</ns0:ref> and <ns0:ref href=\"/us/usc/t12/s172\">section 172 of Title\n",
      "12</ns0:ref>, Bank and Banking, repealing <ns0:ref href=\"/us/usc/t33/s763c\">section 763c of Title 33</ns0:ref>, Navigation and Navigable\n",
      "Waters, enacting provisions set out as notes under sections 300e and 300e–1 of this title, amending provisions set out as notes under this\n",
      "section, and repealing provisions set out as notes under this section and sections 211a, 212a, and 222 of this title] shall be cited as the\n",
      "“Health Maintenance Organization Act of 1973.”</ns0:p> <ns0:p><ns0:ref href=\"/us/pl/93/154/s1\">Pub. L. 93–154, § 1</ns0:ref>, <ns0:date\n",
      "date=\"1973-11-16\">Nov. 16, 1973</ns0:date>, <ns0:ref href=\"/us/stat/87/594\">87 Stat. 594</ns0:ref>, provided that: <ns0:quotedContent\n",
      "origin=\"/us/pl/93/154/s1\">“This Act [enacting subchapter X of this chapter and <ns0:ref href=\"/us/usc/t42/s295f–6\">section 295f–6 of this\n",
      "title</ns0:ref>, amending sections 295f–2 and 295f–4 of this title, and enacting provisions set out as a note under this section] may be\n",
      "cited as the ‘Emergency Medical Services Systems Act of 1973’.”</ns0:quotedContent> </ns0:p> <ns0:p><ns0:ref href=\"/us/pl/93/45/s1\">Pub. L.\n",
      "93–45, § 1</ns0:ref>, <ns0:date date=\"1973-06-18\">June 18, 1973</ns0:date>, <ns0:ref href=\"/us/stat/87/91\">87 Stat. 91</ns0:ref>, provided\n",
      "that: <ns0:quotedContent origin=\"/us/pl/93/45/s1\">“This Act [enacting <ns0:ref href=\"/us/usc/t42/s300a–7\">section 300a–7 of this\n",
      "title</ns0:ref>, amending sections 242b, 242c, 244–1, 245a, 246, 280b–4, 280b–5 280b–7, 280b–8, 280b–9, 291a, 291j–1, 291j–5, 295h–1,\n",
      "295h–2, 295h–3a, 299a, 300, 300a–1, 300a–2, 300a–3, 2661, 2671, 2677, 2681, 2687, 2688a, 2688d, 2688j–1, 2688j–2, 2688<ns0:i>l</ns0:i>,\n",
      "2688<ns0:i>l</ns0:i>–1, 2688n–1, 2688<ns0:i>o</ns0:i>, and 2688u of this title, and enacting provisions set out as amendment to note\n",
      "provisions under this section] may be cited as the ‘Health Programs Extension Act of 1973’.”</ns0:quotedContent> </ns0:p> </ns0:note>\n",
      "<ns0:note style=\"-uslm-lc:I74\" topic=\"shortTitleOfAmendment\" id=\"idb11102f5-d970-11ed-a113-e530e1711693\"><ns0:heading class=\"centered\n",
      "smallCaps\">Short Title of 1972 Amendments</ns0:heading><ns0:p><ns0:ref href=\"/us/pl/92/585/s1\">Pub. L. 92–585, § 1</ns0:ref>, <ns0:date\n",
      "date=\"1972-10-27\">Oct. 27, 1972</ns0:date>, <ns0:ref href=\"/us/stat/86/1290\">86 Stat. 1290</ns0:ref>, provided that: <ns0:quotedContent\n",
      "origin=\"/us/pl/92/585/s1\">“This Act [enacting <ns0:ref href=\"/us/usc/t42/s234\">section 234 of this title</ns0:ref>, amending sections 254b\n",
      "and 294a of this title, and enacting provisions set out as a note under <ns0:ref href=\"/us/usc/t42/s246\">section 246 of this\n",
      "title</ns0:ref>] may be cited as the ‘Emergency Health Personnel Act Amendments of 1972’.”</ns0:quotedContent> </ns0:p> <ns0:p><ns0:ref\n",
      "href=\"/us/pl/92/449/s1\">Pub. L. 92–449, § 1</ns0:ref>, <ns0:date date=\"1972-09-30\">Sept. 30, 1972</ns0:date>, <ns0:ref\n",
      "href=\"/us/stat/86/748\">86 Stat. 748</ns0:ref>, provided that: <ns0:quotedContent origin=\"/us/pl/92/449/s1\">“This Act [enacting <ns0:ref\n",
      "href=\"/us/usc/t42/s247c\">section 247c of this title</ns0:ref>, amending sections 247b and 300 of this title, and enacting provisions set out\n",
      "as notes under <ns0:ref href=\"/us/usc/t42/s247c\">section 247c of this title</ns0:ref>] may be cited as the ‘Communicable Disease Control\n",
      "Amendments Act of 1972’.”</ns0:quotedContent> </ns0:p> <ns0:p><ns0:ref href=\"/us/pl/92/449/tII/s201\">Pub. L. 92–449, title II,\n",
      "§ 201</ns0:ref>, <ns0:date date=\"1972-09-30\">Sept. 30, 1972</ns0:date>, <ns0:ref href=\"/us/stat/86/750\">86 Stat. 750</ns0:ref>, provided\n",
      "that: <ns0:quotedContent origin=\"/us/pl/92/449/tII/s201\">“This title [enacting <ns0:ref href=\"/us/usc/t42/s247c\">section 247c of this\n",
      "title</ns0:ref> and provisions set out as notes under <ns0:ref href=\"/us/usc/t42/s247c\">section 247c of this title</ns0:ref>] may be cited\n",
      "as the ‘National Venereal Disease Prevention and Control Act’.”</ns0:quotedContent> </ns0:p> <ns0:p><ns0:ref href=\"/us/pl/92/423/s1\">Pub. L.\n",
      "92–423, § 1</ns0:ref>, <ns0:date date=\"1972-09-19\">Sept. 19, 1972</ns0:date>, <ns0:ref href=\"/us/stat/86/679\">86 Stat. 679</ns0:ref>,\n",
      "provided that: <ns0:quotedContent origin=\"/us/pl/92/423/s1\">“This Act [enacting sections 287b to 287f and 287i of this title, amending\n",
      "sections 218, 241, 287, 287a, 287g, and 287h of this title, and enacting provisions set out as notes under <ns0:ref\n",
      "href=\"/us/usc/t42/s287\">section 287 of this title</ns0:ref>] may be cited as the ‘National Heart, Blood Vessel, Lung, and Blood Act of\n",
      "1972’.”</ns0:quotedContent> </ns0:p> </ns0:note> <ns0:note style=\"-uslm-lc:I74\" topic=\"shortTitleOfAmendment\"\n",
      "id=\"idb11102f6-d970-11ed-a113-e530e1711693\"><ns0:heading class=\"centered smallCaps\">Short Title of 1971\n",
      "Amendments</ns0:heading><ns0:p><ns0:ref href=\"/us/pl/92/218/s1\">Pub. L. 92–218, § 1</ns0:ref>, <ns0:date date=\"1971-12-23\">Dec. 23,\n",
      "1971</ns0:date>, <ns0:ref href=\"/us/stat/85/778\">85 Stat. 778</ns0:ref>, provided that: <ns0:quotedContent origin=\"/us/pl/92/218/s1\">“This\n",
      "Act [enacting sections 286a to 286g and 289<ns0:i>l</ns0:i> of this title, amending sections 218, 241, 282, 283, and 284 of this title, and\n",
      "enacting provisions set out as notes under sections 281, 286, and 289<ns0:i>l</ns0:i> of this title] may be cited as ‘The National Cancer\n",
      "Act of 1971’.”</ns0:quotedContent> </ns0:p> <ns0:p><ns0:ref href=\"/us/pl/92/158/s1/a\">Pub. L. 92–158, § 1(a)</ns0:ref>, <ns0:date\n",
      "date=\"1971-11-18\">Nov. 18, 1971</ns0:date>, <ns0:ref href=\"/us/stat/85/465\">85 Stat. 465</ns0:ref>, provided that: <ns0:quotedContent\n",
      "origin=\"/us/pl/92/158/s1/a\">“This Act [enacting sections 296h, 296i, 297i, 298b–1, and 298b–2 of this title, amending sections 296, 296a,\n",
      "296b, 296c, 296d, 296e, 296f, 296g, 297, 297a, 297b, 297c, 297e, 297f, 298, 298b, 298c, and 298c–7 of this title and enacting provisions set\n",
      "out as notes under sections 296, 296a, 296d, 296e, 297b, and 298c of this title] may be cited as the ‘Nurse Training Act of\n",
      "1971’.”</ns0:quotedContent> </ns0:p> <ns0:p><ns0:ref href=\"/us/pl/92/157/tI/s101/a\">Pub. L. 92–157, title I, § 101(a)</ns0:ref>, <ns0:date\n",
      "date=\"1971-11-18\">Nov. 18, 1971</ns0:date>, <ns0:ref href=\"/us/stat/85/431\">85 Stat. 431</ns0:ref>, provided that: <ns0:quotedContent\n",
      "origin=\"/us/pl/92/157/tI/s101/a\">“This title [enacting sections 293i, 294g, 295e–1 to 295e–5, 295f–5, 295g–11, 295g–21 to 295g–23, and 3505d\n",
      "of this title, amending sections 210 to 218, 242i, 254, 276, 277, 280, 280a–1, 292b, 292d to 292f, 292h to 292j, 293 to 293e, 293g, 293h,\n",
      "294 to 294f, 295f to 295f–4, 295g, 295g–1, 295h–3d, 295h–4, 295h–8, 295h–9, 1857c–6, 1857c–8, 1857f–6c, 1857h–5, and 2676 of this title and\n",
      "<ns0:ref href=\"/us/usc/t21/s346a\">section 346a of Title 21</ns0:ref>, Food and Drugs, and enacting provisions set out as notes under\n",
      "<ns0:ref href=\"/us/usc/t42/s295h–8\">section 295h–8 of this title</ns0:ref>] may be cited as the ‘Comprehensive Health Manpower Training Act\n",
      "of 1971’.”</ns0:quotedContent> </ns0:p> </ns0:note> <ns0:note style=\"-uslm-lc:I74\" topic=\"shortTitleOfAmendment\"\n",
      "id=\"idb11102f7-d970-11ed-a113-e530e1711693\"><ns0:heading class=\"centered smallCaps\">Short Title of 1970\n",
      "Amendments</ns0:heading><ns0:p><ns0:ref href=\"/us/pl/91/623/s1\">Pub. L. 91–623, § 1</ns0:ref>, <ns0:date date=\"1970-12-31\">Dec. 31,\n",
      "1970</ns0:date>, <ns0:ref href=\"/us/stat/84/1868\">84 Stat. 1868</ns0:ref>, provided: <ns0:quotedContent origin=\"/us/pl/91/623/s1\">“That this\n",
      "Act [enacting sections 233 and 254b of this title] may be cited as the ‘Emergency Health Personnel Act of 1970’.”</ns0:quotedContent>\n",
      "</ns0:p> <ns0:p><ns0:ref href=\"/us/pl/91/572/s1\">Pub. L. 91–572, § 1</ns0:ref>, Dec. 24. 1970, <ns0:ref href=\"/us/stat/84/1504\">84 Stat.\n",
      "1504</ns0:ref>, provided that: <ns0:quotedContent origin=\"/us/pl/91/572/s1\">“This Act [enacting sections 300 to 300a–6 and 3505a to 3505c of\n",
      "this title, amending sections 211a, 212a of this title and <ns0:ref href=\"/us/usc/t33/s763c\">section 763c of Title 33</ns0:ref>, Navigation\n",
      "and Navigable Waters, and enacting provisions set out as notes under sections 201, 222, and 300 of this title] may be cited as the ‘Family\n",
      "Planning Services and Population Research Act of 1970’.”</ns0:quotedContent> </ns0:p> <ns0:p><ns0:ref href=\"/us/pl/91/519/s1\">Pub. L.\n",
      "91–519, § 1</ns0:ref>, <ns0:date date=\"1970-11-02\">Nov. 2, 1970</ns0:date>, <ns0:ref href=\"/us/stat/84/1342\">84 Stat. 1342</ns0:ref>,\n",
      "provided that: <ns0:quotedContent origin=\"/us/pl/91/519/s1\">“This Act [enacting sections 295h–3a to 295h–3d, 295h–8, and 296h–9 of this\n",
      "title, amending sections 295f–1, 295f–2, 295h to 295h–2, 295h–4, and 295h–7 of this title, repealing <ns0:ref\n",
      "href=\"/us/usc/t42/s295h–3\">section 295h–3 of this title</ns0:ref>, and enacting provisions set out as notes under sections 295f–1, 295–f2,\n",
      "and 295h–4 of this title] may be cited as the ‘Health Training Improvement Act of 1970’.”</ns0:quotedContent> </ns0:p> <ns0:p><ns0:ref\n",
      "href=\"/us/pl/91/515/tI/s101\">Pub. L. 91–515, title I, § 101</ns0:ref>, <ns0:date date=\"1970-10-30\">Oct. 30, 1970</ns0:date>, <ns0:ref\n",
      "href=\"/us/stat/84/1297\">84 Stat. 1297</ns0:ref>, provided that: <ns0:quotedContent origin=\"/us/pl/91/515/tI/s101\">“This title [amending\n",
      "sections 299 to 299g, 299i, and 299j of this title] may be cited as the ‘Heart Disease, Cancer, Stroke, and Kidney Disease Amendments of\n",
      "1970’.”</ns0:quotedContent> </ns0:p> <ns0:p><ns0:ref href=\"/us/pl/91/464/s1\">Pub. L. 91–464, § 1</ns0:ref>, <ns0:date date=\"1970-10-16\">Oct.\n",
      "16, 1970</ns0:date>, <ns0:ref href=\"/us/stat/84/988\">84 Stat. 988</ns0:ref>, provided: <ns0:quotedContent origin=\"/us/pl/91/464/s1\">“That\n",
      "this Act [amending <ns0:ref href=\"/us/usc/t42/s247b\">section 247b of this title</ns0:ref>] may be cited as the ‘Communicable Disease Control\n",
      "Amendments of 1970’.”</ns0:quotedContent> </ns0:p> <ns0:p><ns0:ref href=\"/us/pl/91/296/s1/a\">Pub. L. 91–296, § 1(a)</ns0:ref>, <ns0:date\n",
      "date=\"1970-06-30\">June 30, 1970</ns0:date>, <ns0:ref href=\"/us/stat/84/336\">84 Stat. 336</ns0:ref>, provided that: <ns0:quotedContent\n",
      "origin=\"/us/pl/91/296/s1/a\">“This Act [enacting sections 229b, 291j–1 to 291j–10, and 291<ns0:i>o</ns0:i>–1 of this title, amending sections\n",
      "291a, 242b, 245a, 246, 291 note, 291b, 291c, 291d, 291e, 291f, 291i, 291k to 291m–1, 291<ns0:i>o</ns0:i>, and 299a of this title and\n",
      "<ns0:ref href=\"/us/usc/t12/s1717\">section 1717 of Title 12</ns0:ref>, Banks and Banking, enacting provisions set out as notes under this\n",
      "section and sections 242, 245a, 246, 291a, 291b, 291c, 291e, 291f, 291<ns0:i>o</ns0:i>, 295h–6, and 2688p of this title, and repealing\n",
      "sections 295h–6 and 2688p of this title] may be cited as the ‘Medical Facilities Construction and Modernization Amendments of\n",
      "1970’.”</ns0:quotedContent> </ns0:p> <ns0:p><ns0:ref href=\"/us/pl/91/212/s1\">Pub. L. 91–212, § 1</ns0:ref>, <ns0:date date=\"1970-03-13\">Mar.\n",
      "13, 1970</ns0:date>, <ns0:ref href=\"/us/stat/84/63\">84 Stat. 63</ns0:ref>, provided that: <ns0:quotedContent origin=\"/us/pl/91/212/s1\">“This\n",
      "Act [enacting <ns0:ref href=\"/us/usc/t42/s280b–12\">section 280b–12 of this title</ns0:ref> and amending this section and sections 276 to\n",
      "278, 280, 280a–1, 280b, 280b–2 to 280b–9, and 280b–11 of this title] may be cited as the ‘Medical Library Assistance Extension Act of\n",
      "1970’.”</ns0:quotedContent> </ns0:p> </ns0:note> <ns0:note style=\"-uslm-lc:I74\" topic=\"shortTitleOfAmendment\"\n",
      "id=\"idb11102f8-d970-11ed-a113-e530e1711693\"><ns0:heading class=\"centered smallCaps\">Short Title of 1968\n",
      "Amendments</ns0:heading><ns0:p><ns0:ref href=\"/us/pl/90/574/tIV/s401\">Pub. L. 90–574, title IV, § 401</ns0:ref>, <ns0:date\n",
      "date=\"1968-10-15\">Oct. 15, 1968</ns0:date>, <ns0:ref href=\"/us/stat/82/1011\">82 Stat. 1011</ns0:ref>, provided that: <ns0:quotedContent\n",
      "origin=\"/us/pl/90/574/tIV/s401\">“This title [amending sections 291a and 291b of this title] may be cited as the ‘Hospital and Medical\n",
      "Facilities Construction and Modernization Assistance Amendments of 1968’.”</ns0:quotedContent> </ns0:p> <ns0:p><ns0:ref\n",
      "href=\"/us/pl/90/490/s1\">Pub. L. 90–490, § 1</ns0:ref>, <ns0:date date=\"1968-08-16\">Aug. 16, 1968</ns0:date>, <ns0:ref\n",
      "href=\"/us/stat/82/773\">82 Stat. 773</ns0:ref>, provided: <ns0:quotedContent origin=\"/us/pl/90/490/s1\">“That this Act [enacting sections\n",
      "294f, 295g–1, 295h–6, 295h–7, 296f, 296g, and 297h of this title, amending sections 242d, 242g, 292b to 292e, 293 to 293d, 294 to 294d, 295f\n",
      "to 295f–4, 295g, 295h to 295h–3, 296 to 296b, 296d, 296e, 297 to 297f, 298b, 298c, and 298c–1 of this title, omitting sections 298c–2 to\n",
      "298c–6 of this title, and enacting provisions set out as notes under sections 292b, 292e, 293 to 293c, 294f, 295f, 295f–2, 295g, 296, 296d,\n",
      "296f, and 297a of this title] may be cited as the ‘Health Manpower Act of 1968’.”</ns0:quotedContent> </ns0:p> </ns0:note> <ns0:note\n",
      "style=\"-uslm-lc:I74\" topic=\"shortTitleOfAmendment\" id=\"idb11102f9-d970-11ed-a113-e530e1711693\"><ns0:heading class=\"centered smallCaps\">Short\n",
      "Title of 1967 Amendments</ns0:heading><ns0:p><ns0:ref href=\"/us/pl/90/174/s1\">Pub. L. 90–174, § 1</ns0:ref>, <ns0:date\n",
      "date=\"1967-12-05\">Dec. 5, 1967</ns0:date>, <ns0:ref href=\"/us/stat/81/533\">81 Stat. 533</ns0:ref>, provided: <ns0:quotedContent\n",
      "origin=\"/us/pl/90/174/s1\">“That this Act [enacting sections 217b, 254a, 263a, and 291m–1 of this title, amending sections 241, 242, 242b,\n",
      "243, 244, 246, 249, 251, 293e, 295h–4, and 296e of this title, repealing <ns0:ref href=\"/us/usc/t42/s291n\">section 291n of this\n",
      "title</ns0:ref>, and enacting provisions set out as notes under this section and sections 242b, 242c, 246, 263a, and 296e of this title] may\n",
      "be cited as the ‘Partnership for Health Amendments of 1967’.”</ns0:quotedContent> </ns0:p> <ns0:p><ns0:ref href=\"/us/pl/90/174/s5/c\">Pub. L.\n",
      "90–174, § 5(c)</ns0:ref>, <ns0:date date=\"1967-12-05\">Dec. 5, 1967</ns0:date>, <ns0:ref href=\"/us/stat/81/539\">81 Stat. 539</ns0:ref>,\n",
      "provided that: <ns0:quotedContent origin=\"/us/pl/90/174/s5/c\">“This section [enacting <ns0:ref href=\"/us/usc/t42/s263a\">section 263a of this\n",
      "title</ns0:ref> and provisions set out as notes under <ns0:ref href=\"/us/usc/t42/s263a\">section 263a of this title</ns0:ref>] may be cited\n",
      "as the ‘Clinical Laboratories Improvement Act of 1967’.”</ns0:quotedContent> </ns0:p> <ns0:p><ns0:ref href=\"/us/pl/90/31/s1\">Pub. L. 90–31,\n",
      "§ 1</ns0:ref>, <ns0:date date=\"1967-06-24\">June 24, 1967</ns0:date>, <ns0:ref href=\"/us/stat/81/79\">81 Stat. 79</ns0:ref>, provided:\n",
      "<ns0:quotedContent origin=\"/us/pl/90/31/s1\">“That this Act [enacting <ns0:ref href=\"/us/usc/t42/s225a\">section 225a of this title</ns0:ref>\n",
      "and amending sections 2681, 2684, 2687, 2688a, 2688d, and 2691 of this title] may be cited as the ‘Mental Health Amendments of\n",
      "1967’.”</ns0:quotedContent> </ns0:p> </ns0:note> <ns0:note style=\"-uslm-lc:I74\" topic=\"shortTitleOfAmendment\"\n",
      "id=\"idb11102fa-d970-11ed-a113-e530e1711693\"><ns0:heading class=\"centered smallCaps\">Short Title of 1966\n",
      "Amendments</ns0:heading><ns0:p><ns0:ref href=\"/us/pl/89/751/s1\">Pub. L. 89–751, § 1</ns0:ref>, <ns0:date date=\"1966-11-03\">Nov. 3,\n",
      "1966</ns0:date>, <ns0:ref href=\"/us/stat/80/1222\">80 Stat. 1222</ns0:ref>, provided: <ns0:quotedContent origin=\"/us/pl/89/751/s1\">“That this\n",
      "Act [enacting sections 295h to 295h–5 and 298c to 298c–8 of this title, amending sections 292b, 294d, 294n to 294p, 296, 297c to 297f, and\n",
      "298 of this title and <ns0:ref href=\"/us/usc/t12/s1717\">section 1717 of Title 12</ns0:ref>, Banks and Banking, and enacting provisions set\n",
      "out as notes under sections 294, 294d, 297c, and 297f of this title] may be cited as the ‘Allied Health Professions Personnel Training Act\n",
      "of 1966’.”</ns0:quotedContent> </ns0:p> <ns0:p><ns0:ref href=\"/us/pl/89/749/s1\">Pub. L. 89–749, § 1</ns0:ref>, <ns0:date\n",
      "date=\"1966-11-03\">Nov. 3, 1966</ns0:date>, <ns0:ref href=\"/us/stat/80/1180\">80 Stat. 1180</ns0:ref>, provided: <ns0:quotedContent\n",
      "origin=\"/us/pl/89/749/s1\">“That this Act [amending 243, 245a, and 246 of this title, repealing sections 247a and 247c of this title, and\n",
      "enacting provisions set out as notes under this section and sections 243 and 245a of this title] may be cited as the ‘Comprehensive Health\n",
      "Planning and Public Health Services Amendments of 1966’.”</ns0:quotedContent> </ns0:p> <ns0:p><ns0:ref href=\"/us/pl/89/709/s1\">Pub. L.\n",
      "89–709, § 1</ns0:ref>, <ns0:date date=\"1966-11-02\">Nov. 2, 1966</ns0:date>, <ns0:ref href=\"/us/stat/80/1103\">80 Stat. 1103</ns0:ref>,\n",
      "provided: <ns0:quotedContent origin=\"/us/pl/89/709/s1\">“That this Act [amending sections 293, 293a, 293d, 293e, 294, 294a, and 294b of this\n",
      "title] may be cited as the ‘Veterinary Medical Education Act of 1966’.”</ns0:quotedContent> </ns0:p> </ns0:note> <ns0:note style=\"-uslm-\n",
      "lc:I74\" topic=\"shortTitleOfAmendment\" id=\"idb11102fb-d970-11ed-a113-e530e1711693\"><ns0:heading class=\"centered smallCaps\">Short Title of\n",
      "1965 Amendments</ns0:heading><ns0:p><ns0:ref href=\"/us/pl/89/291/s1\">Pub. L. 89–291, § 1</ns0:ref>, <ns0:date date=\"1965-10-22\">Oct. 22,\n",
      "1965</ns0:date>, <ns0:ref href=\"/us/stat/79/1059\">79 Stat. 1059</ns0:ref>, provided that: <ns0:quotedContent origin=\"/us/pl/89/291/s1\">“This\n",
      "Act [enacting <ns0:ref href=\"/us/usc/t42/s280a–1\">section 280a–1 of this title</ns0:ref> and Part J of subchapter II of this chapter and\n",
      "amending <ns0:ref href=\"/us/usc/t42/s277\">section 277 of this title</ns0:ref>] may be cited as the ‘Medical Library Assistance Act of\n",
      "1965’.”</ns0:quotedContent> </ns0:p> <ns0:p><ns0:ref href=\"/us/pl/89/290/s1\">Pub. L. 89–290, § 1</ns0:ref>, <ns0:date date=\"1965-10-22\">Oct.\n",
      "22, 1965</ns0:date>, <ns0:ref href=\"/us/stat/79/1052\">79 Stat. 1052</ns0:ref>, provided that: <ns0:quotedContent\n",
      "origin=\"/us/pl/89/290/s1\">“This Act [enacting sections 295f to 295f–4 and 295g of this title and amending sections 293, 293a, 293d, 294 to\n",
      "294d, 297b, and 298b of this title] may be cited as the ‘Health Professions Educational Assistance Amendments of 1965’.”</ns0:quotedContent>\n",
      "</ns0:p> <ns0:p><ns0:ref href=\"/us/pl/89/239/s1\">Pub. L. 89–239, § 1</ns0:ref>, <ns0:date date=\"1965-10-06\">Oct. 6, 1965</ns0:date>,\n",
      "<ns0:ref href=\"/us/stat/79/926\">79 Stat. 926</ns0:ref>, provided: <ns0:quotedContent origin=\"/us/pl/89/239/s1\">“That this Act [enacting\n",
      "sections 299 to 299i of this title, amending sections 211a and 212a of this title, sections 757, 790, 800 of former Title 5, Executive\n",
      "Departments and Government Officers and Employees, and <ns0:ref href=\"/us/usc/t33/s763c\">section 763c of Title 33</ns0:ref>, Navigation and\n",
      "Navigable Waters, and enacting provisions set out as notes under sections 201, 214, 222, and 249 of this title] may be cited as the ‘Heart\n",
      "Disease, Cancer, and Stroke Amendments of 1965’.”</ns0:quotedContent> </ns0:p> <ns0:p><ns0:ref href=\"/us/pl/89/115/s1\">Pub. L. 89–115,\n",
      "§ 1</ns0:ref>, <ns0:date date=\"1965-08-09\">Aug. 9, 1965</ns0:date>, <ns0:ref href=\"/us/stat/79/448\">79 Stat. 448</ns0:ref>, provided:\n",
      "<ns0:quotedContent origin=\"/us/pl/89/115/s1\">“That this Act [amending sections 241, 292c, and 292d of this title and section 2211 of former\n",
      "Title 5, Executive Departments and Government Officers and Employees, and enacting section 623h of former Title 5 and provisions set out as\n",
      "a note thereunder] may be cited as the ‘Health Research Facilities Amendments of 1965’.”</ns0:quotedContent> </ns0:p> <ns0:p><ns0:ref\n",
      "href=\"/us/pl/89/109/s1\">Pub. L. 89–109, § 1</ns0:ref>, <ns0:date date=\"1965-08-05\">Aug. 5, 1965</ns0:date>, <ns0:ref\n",
      "href=\"/us/stat/79/435\">79 Stat. 435</ns0:ref>, provided: <ns0:quotedContent origin=\"/us/pl/89/109/s1\">“That this Act [amending sections 246,\n",
      "247a, 247b, and 247d of this title] may be cited as the ‘Community Health Services Extension Amendments of 1965’.”</ns0:quotedContent>\n",
      "</ns0:p> </ns0:note> <ns0:note style=\"-uslm-lc:I74\" topic=\"shortTitleOfAmendment\" id=\"idb11102fc-d970-11ed-a113-e530e1711693\"><ns0:heading\n",
      "class=\"centered smallCaps\">Short Title of 1964 Amendments</ns0:heading><ns0:p><ns0:ref href=\"/us/pl/88/581/s1\">Pub. L. 88–581,\n",
      "§ 1</ns0:ref>, <ns0:date date=\"1964-09-04\">Sept. 4, 1964</ns0:date>, <ns0:ref href=\"/us/stat/78/908\">78 Stat. 908</ns0:ref>, provided:\n",
      "<ns0:quotedContent origin=\"/us/pl/88/581/s1\">“That this Act [enacting subchapter VI of this chapter, amending sections 291c,\n",
      "291<ns0:i>o</ns0:i>, 293, 293a, 293e, and 293h of this title, and enacting provisions set out as notes under sections 201, 211a, 212a, 222,\n",
      "291c, 293, 293e, and 293h of this title, sections 757, 790, and 800 of former Title 5, Executive Departments and Government Officers and\n",
      "Employees, and <ns0:ref href=\"/us/usc/t33/s763c\">section 763c of Title 33</ns0:ref>, Navigation and Navigable Waters] may be cited as the\n",
      "‘Nurse Training Act of 1964’.”</ns0:quotedContent> </ns0:p> <ns0:p><ns0:ref href=\"/us/pl/88/497/s1\">Pub. L. 88–497, § 1</ns0:ref>, <ns0:date\n",
      "date=\"1964-08-27\">Aug. 27, 1964</ns0:date>, <ns0:ref href=\"/us/stat/78/613\">78 Stat. 613</ns0:ref>, provided that: <ns0:quotedContent\n",
      "origin=\"/us/pl/88/497/s1\">“This Act [amending sections 244–1 and 245a of this title] may be cited as the ‘Graduate Public Health Training\n",
      "Amendments of 1964’.”</ns0:quotedContent> </ns0:p> <ns0:p><ns0:ref href=\"/us/pl/88/443/s1\">Pub. L. 88–443, § 1</ns0:ref>, <ns0:date\n",
      "date=\"1964-08-18\">Aug. 18, 1964</ns0:date>, <ns0:ref href=\"/us/stat/78/447\">78 Stat. 447</ns0:ref>, provided that: <ns0:quotedContent\n",
      "origin=\"/us/pl/88/443/s1\">“This Act [enacting sections 247c, 291 to 291j, 291k to 291m, 291n, and 291<ns0:i>o</ns0:i> of this title and\n",
      "enacting provisions set out as notes under <ns0:ref href=\"/us/usc/t42/s291\">section 291 of this title</ns0:ref>] may be cited as the\n",
      "‘Hospital and Medical Facilities Amendments of 1964’.”</ns0:quotedContent> </ns0:p> </ns0:note> <ns0:note style=\"-uslm-lc:I74\"\n",
      "topic=\"shortTitleOfAmendment\" id=\"idb11102fd-d970-11ed-a113-e530e1711693\"><ns0:heading class=\"centered smallCaps\">Short Title of 1963\n",
      "Amendment</ns0:heading><ns0:p><ns0:ref href=\"/us/pl/88/129/s1\">Pub. L. 88–129, § 1</ns0:ref>, <ns0:date date=\"1963-09-24\">Sept. 24,\n",
      "1963</ns0:date>, <ns0:ref href=\"/us/stat/77/164\">77 Stat. 164</ns0:ref>, provided: <ns0:quotedContent origin=\"/us/pl/88/129/s1\">“That this\n",
      "Act [enacting sections 292j, 293 to 293h, and 294 to 294e and amending sections 292 to 292b and 292d to 292i of this title] may be cited as\n",
      "the ‘Health Professions Educational Assistance Act of 1963’.”</ns0:quotedContent> </ns0:p> </ns0:note> <ns0:note style=\"-uslm-lc:I74\"\n",
      "topic=\"shortTitleOfAmendment\" id=\"idb11102fe-d970-11ed-a113-e530e1711693\"><ns0:heading class=\"centered smallCaps\">Short Title of 1962\n",
      "Amendment</ns0:heading><ns0:p style=\"-uslm-lc:I21\" class=\"indent0\"><ns0:ref href=\"/us/pl/87/868/s1\">Pub. L. 87–868, § 1</ns0:ref>, <ns0:date\n",
      "date=\"1962-10-23\">Oct. 23, 1962</ns0:date>, <ns0:ref href=\"/us/stat/76/1155\">76 Stat. 1155</ns0:ref>, provided that this Act [enacting\n",
      "<ns0:ref href=\"/us/usc/t42/s247b\">section 247b of this title</ns0:ref>] may be cited as the “Vaccination Assistance Act of 1962.”</ns0:p>\n",
      "</ns0:note> <ns0:note style=\"-uslm-lc:I74\" topic=\"shortTitleOfAmendment\" id=\"idb11102ff-d970-11ed-a113-e530e1711693\"><ns0:heading\n",
      "class=\"centered smallCaps\">Short Title of 1961 Amendment</ns0:heading><ns0:p><ns0:ref href=\"/us/pl/87/395/s1\">Pub. L. 87–395, § 1</ns0:ref>,\n",
      "<ns0:date date=\"1961-10-05\">Oct. 5, 1961</ns0:date>, <ns0:ref href=\"/us/stat/75/824\">75 Stat. 824</ns0:ref>, provided: <ns0:quotedContent\n",
      "origin=\"/us/pl/87/395/s1\">“That this Act [enacting <ns0:ref href=\"/us/usc/t42/s247a\">section 247a of this title</ns0:ref>, amending sections\n",
      "246, 289c, 291i, 291n, 291s, 291t, 291w, and 292c to 292g of this title, and enacting provisions set out as a note under <ns0:ref\n",
      "href=\"/us/usc/t42/s291s\">section 291s of this title</ns0:ref>] may be cited as the ‘Community Health Services and Facilities Act of\n",
      "1961’.”</ns0:quotedContent> </ns0:p> </ns0:note> <ns0:note style=\"-uslm-lc:I74\" topic=\"shortTitleOfAmendment\"\n",
      "id=\"idb1110300-d970-11ed-a113-e530e1711693\"><ns0:heading class=\"centered smallCaps\">Short Title of 1960\n",
      "Amendment</ns0:heading><ns0:p><ns0:ref href=\"/us/pl/86/415/s1\">Pub. L. 86–415, § 1</ns0:ref>, <ns0:date date=\"1960-04-08\">Apr. 8,\n",
      "1960</ns0:date>, <ns0:ref href=\"/us/stat/74/32\">74 Stat. 32</ns0:ref>, provided: <ns0:quotedContent origin=\"/us/pl/86/415/s1\">“That this Act\n",
      "[amending this section and sections 209, 210, 211, 212, 253, and 415 of this title and section 2251 of former Title 5, Executive Departments\n",
      "and Government Officers and Employees, and enacting provisions set out as notes under sections 209 and 212 of this title and section 2253 of\n",
      "former Title 5] may be cited as the ‘Public Health Service Commissioned Corps Personnel Act of 1960’.”</ns0:quotedContent> </ns0:p>\n",
      "</ns0:note> <ns0:note style=\"-uslm-lc:I74\" topic=\"shortTitleOfAmendment\" id=\"idb1110301-d970-11ed-a113-e530e1711693\"><ns0:heading\n",
      "class=\"centered smallCaps\">Short Title of 1956 Amendments</ns0:heading><ns0:p><ns0:ref href=\"/us/act/1956-08-03/ch907/s2\">Act Aug. 3, 1956,\n",
      "ch. 907, § 2</ns0:ref>, <ns0:ref href=\"/us/stat/70/962\">70 Stat. 962</ns0:ref>, provided that: <ns0:quotedContent\n",
      "origin=\"/us/act/1956-08-03/ch907/s2\">“This Act [enacting part I of subchapter II of this chapter] may be cited as the ‘National Library of\n",
      "Medicine Act’.”</ns0:quotedContent> </ns0:p> <ns0:p><ns0:ref href=\"/us/act/1956-07-03/ch510/s1\">Act July 3, 1956, ch. 510, § 1</ns0:ref>,\n",
      "<ns0:ref href=\"/us/stat/70/489\">70 Stat. 489</ns0:ref>, provided that: <ns0:quotedContent origin=\"/us/act/1956-07-03/ch510/s1\">“This Act\n",
      "[enacting <ns0:ref href=\"/us/usc/t42/s246\">section 246 of this title</ns0:ref>, amended <ns0:ref href=\"/us/usc/t42/s241\">section 241 of this\n",
      "title</ns0:ref>, and enacting provisions set out as a note under <ns0:ref href=\"/us/usc/t42/s246\">section 246 of this title</ns0:ref>] may\n",
      "be cited as the ‘National Health Survey Act’.”</ns0:quotedContent> </ns0:p> </ns0:note> <ns0:note style=\"-uslm-lc:I74\"\n",
      "topic=\"shortTitleOfAmendment\" id=\"idb1110302-d970-11ed-a113-e530e1711693\"><ns0:heading class=\"centered smallCaps\">Short Title of 1955\n",
      "Amendment</ns0:heading><ns0:p style=\"-uslm-lc:I21\" class=\"indent0\">Joint Res. <ns0:ref href=\"/us/act/1955-07-28/ch417/s1\">July 28, 1955, ch.\n",
      "417, § 1</ns0:ref>, <ns0:ref href=\"/us/stat/69/382\">69 Stat. 382</ns0:ref>, provided that: “This joint resolution [enacting <ns0:ref\n",
      "href=\"/us/usc/t42/s242b\">section 242b of this title</ns0:ref> and provisions set out as a note under <ns0:ref\n",
      "href=\"/us/usc/t42/s242b\">section 242b of this title</ns0:ref>] may be cited as the ‘Mental Health Study Act of 1955’.”</ns0:p> </ns0:note>\n",
      "<ns0:note style=\"-uslm-lc:I74\" topic=\"shortTitleOfAmendment\" id=\"idb1110303-d970-11ed-a113-e530e1711693\"><ns0:heading class=\"centered\n",
      "smallCaps\">Short Title of 1948 Amendments</ns0:heading><ns0:p><ns0:ref href=\"/us/act/1948-06-24/ch621/s1\">Act June 24, 1948, ch. 621,\n",
      "§ 1</ns0:ref>, <ns0:ref href=\"/us/stat/62/598\">62 Stat. 598</ns0:ref>, provided that: <ns0:quotedContent\n",
      "origin=\"/us/act/1948-06-24/ch621/s1\">“This Act [enacting part C of subchapter III of this chapter and amending this section and sections\n",
      "210, 218, and 241 of this title] may be cited as the ‘National Dental Research Act’.”</ns0:quotedContent> </ns0:p> <ns0:p>Act <ns0:date\n",
      "date=\"1948-06-16\">June 16, 1948</ns0:date>, § 1, <ns0:ref href=\"/us/stat/62/464\">62 Stat. 464</ns0:ref>, provided that: <ns0:quotedContent\n",
      "origin=\"/us/stat/62/464\">“This Act [enacting sections 287 to 287c of this title and amending this section and sections 203, 206, 210, 218,\n",
      "219, 241, 246, 281, 283, and 286 of this title] may be cited as the ‘National Heart Act’.”</ns0:quotedContent> </ns0:p> </ns0:note>\n",
      "<ns0:note style=\"-uslm-lc:I74\" topic=\"shortTitleOfAmendment\" id=\"idb1110304-d970-11ed-a113-e530e1711693\"><ns0:heading class=\"centered\n",
      "smallCaps\">Short Title of 1946 <ns0:inline class=\"small-caps\">Amendment</ns0:inline></ns0:heading><ns0:p><ns0:ref\n",
      "href=\"/us/act/1946-07-03/ch538/s1\">Act July 3, 1946, ch. 538, § 1</ns0:ref>, <ns0:ref href=\"/us/stat/60/421\">60 Stat. 421</ns0:ref>,\n",
      "provided: <ns0:quotedContent origin=\"/us/act/1946-07-03/ch538/s1\">“That this Act [enacting sections 232 and 242a of this title, amending\n",
      "this section and sections 209, 210, 215, 218, 219, 241, 244, and 246 of this title, and enacting provisions set out as a note under this\n",
      "section] may be cited as the ‘National Mental Health Act’.”</ns0:quotedContent> </ns0:p> </ns0:note> <ns0:note style=\"-uslm-lc:I74\"\n",
      "topic=\"shortTitle\" id=\"idb1110305-d970-11ed-a113-e530e1711693\"><ns0:heading class=\"centered smallCaps\">Short\n",
      "Title</ns0:heading><ns0:p><ns0:ref href=\"/us/act/1944-07-01/ch373/tI/s1\">Act July 1, 1944, ch. 373, title I, § 1</ns0:ref>, <ns0:ref\n",
      "href=\"/us/stat/58/682\">58 Stat. 682</ns0:ref>, as amended by acts <ns0:ref href=\"/us/act/1946-08-13/ch958/s4\">Aug. 13, 1946, ch. 958,\n",
      "§ 4</ns0:ref>, <ns0:ref href=\"/us/stat/60/1049\">60 Stat. 1049</ns0:ref>; <ns0:ref href=\"/us/act/1956-07-30/ch779/s3/a\">July 30, 1956, ch.\n",
      "779, § 3(a)</ns0:ref>, <ns0:ref href=\"/us/stat/70/720\">70 Stat. 720</ns0:ref>; <ns0:date date=\"1964-09-04\">Sept. 4, 1964</ns0:date>,\n",
      "<ns0:ref href=\"/us/pl/88/581/s4/a\">Pub. L. 88–581, § 4(a)</ns0:ref>, <ns0:ref href=\"/us/stat/78/919\">78 Stat. 919</ns0:ref>; <ns0:date\n",
      "date=\"1965-10-06\">Oct. 6, 1965</ns0:date>, <ns0:ref href=\"/us/pl/89/239/s3/a\">Pub. L. 89–239, § 3(a)</ns0:ref>, <ns0:ref\n",
      "href=\"/us/stat/79/930\">79 Stat. 930</ns0:ref>; <ns0:date date=\"1970-12-24\">Dec. 24, 1970</ns0:date>, <ns0:ref href=\"/us/pl/91/572/s6/a\">Pub.\n",
      "L. 91–572, § 6(a)</ns0:ref>, <ns0:ref href=\"/us/stat/84/1506\">84 Stat. 1506</ns0:ref>; <ns0:date date=\"1972-05-16\">May 16, 1972</ns0:date>,\n",
      "<ns0:ref href=\"/us/pl/92/294/s3/a\">Pub. L. 92–294, § 3(a)</ns0:ref>, <ns0:ref href=\"/us/stat/86/137\">86 Stat. 137</ns0:ref>; <ns0:date\n",
      "date=\"1973-11-16\">Nov. 16, 1973</ns0:date>, <ns0:ref href=\"/us/pl/93/154/s2/b/1\">Pub. L. 93–154, § 2(b)(1)</ns0:ref>, <ns0:ref\n",
      "href=\"/us/stat/87/604\">87 Stat. 604</ns0:ref>; <ns0:date date=\"1973-12-29\">Dec. 29, 1973</ns0:date>, <ns0:ref href=\"/us/pl/93/222/s7/a\">Pub.\n",
      "L. 93–222, § 7(a)</ns0:ref>, <ns0:ref href=\"/us/stat/87/936\">87 Stat. 936</ns0:ref>, provided that: <ns0:quotedContent\n",
      "origin=\"/us/pl/93/222/s7/a\">“This Act [enacting this chapter] may be cited as the ‘Public Health Service Act’.”</ns0:quotedContent> </ns0:p>\n",
      "<ns0:p style=\"-uslm-lc:I21\" class=\"indent0\"><ns0:ref href=\"/us/act/1944-07-01/ch373/tIII/s329\">Act July 1, 1944, ch. 373, title III,\n",
      "§ 329</ns0:ref>, formerly § 310, as added by <ns0:ref href=\"/us/pl/87/692\">Pub. L. 87–692</ns0:ref>, <ns0:date date=\"1962-09-25\">Sept. 25,\n",
      "1962</ns0:date>, <ns0:ref href=\"/us/stat/76/592\">76 Stat. 592</ns0:ref>, amended and renumbered, formerly classified to <ns0:ref\n",
      "href=\"/us/usc/t42/s254b\">section 254b of this title</ns0:ref>, was popularly known as the “Migrant Health Act”.</ns0:p> <ns0:p><ns0:ref\n",
      "href=\"/us/act/1944-07-01/ch373/tXIV/s1400\">Act July 1, 1944, ch. 373, title XIV, § 1400</ns0:ref>, as added <ns0:date date=\"1996-08-06\">Aug.\n",
      "6, 1996</ns0:date>, <ns0:ref href=\"/us/pl/104/182/tV/s501/e\">Pub. L. 104–182, title V, § 501(e)</ns0:ref>, <ns0:ref\n",
      "href=\"/us/stat/110/1691\">110 Stat. 1691</ns0:ref>, provided that: <ns0:quotedContent origin=\"/us/pl/104/182/tV/s501/e\">“This title [enacting\n",
      "subchapter XII of this chapter] may be cited as the ‘Safe Drinking Water Act’.”</ns0:quotedContent> </ns0:p> </ns0:note> <ns0:note\n",
      "style=\"-uslm-lc:I74\" topic=\"miscellaneous\" id=\"idb1110306-d970-11ed-a113-e530e1711693\"><ns0:heading class=\"centered smallCaps\">Renumbering\n",
      "and Repeal of Repealing Act</ns0:heading><ns0:p style=\"-uslm-lc:I21\" class=\"indent0\"><ns0:ref\n",
      "href=\"/us/act/1944-07-01/ch373/tXIII/s1313\">Act July 1, 1944, ch. 373, title XIII, § 1313</ns0:ref>, formerly title VI, § 611, <ns0:ref\n",
      "href=\"/us/stat/58/714\">58 Stat. 714</ns0:ref>; renumbered title VII, § 711, by <ns0:ref href=\"/us/act/1946-08-13/ch958/s5\">act Aug. 13,\n",
      "1946, ch. 958, § 5</ns0:ref>, <ns0:ref href=\"/us/stat/60/1049\">60 Stat. 1049</ns0:ref>; renumbered § 713 by <ns0:ref\n",
      "href=\"/us/act/1948-02-28/ch83/s9/b\">act Feb. 28, 1948, ch. 83, § 9(b)</ns0:ref>, <ns0:ref href=\"/us/stat/62/47\">62 Stat. 47</ns0:ref>;\n",
      "renumbered title VIII, § 813, by <ns0:ref href=\"/us/act/1956-07-30/ch779/s3/b\">act July 30, 1956, ch. 779, § 3(b)</ns0:ref>, <ns0:ref\n",
      "href=\"/us/stat/70/721\">70 Stat. 721</ns0:ref>; renumbered title IX, § 913, by <ns0:ref href=\"/us/pl/88/581/s4/b\">Pub. L. 88–581,\n",
      "§ 4(b)</ns0:ref>, <ns0:date date=\"1964-09-04\">Sept. 4, 1964</ns0:date>, <ns0:ref href=\"/us/stat/78/919\">78 Stat. 919</ns0:ref>; renumbered\n",
      "title X, § 1013, by <ns0:ref href=\"/us/pl/89/239/s3/b\">Pub. L. 89–239, § 3(b)</ns0:ref>, <ns0:date date=\"1965-10-06\">Oct. 6,\n",
      "1965</ns0:date>, <ns0:ref href=\"/us/stat/79/931\">79 Stat. 931</ns0:ref>; renumbered title XI, § 1113, by <ns0:ref\n",
      "href=\"/us/pl/91/572/s6/b\">Pub. L. 91–572, § 6(b)</ns0:ref>, <ns0:date date=\"1970-12-24\">Dec. 24, 1970</ns0:date>, <ns0:ref\n",
      "href=\"/us/stat/84/1506\">84 Stat. 1506</ns0:ref>; renumbered title XII, § 1213, by <ns0:ref href=\"/us/pl/92/294/s3/b\">Pub. L. 92–294,\n",
      "§ 3(b)</ns0:ref>, <ns0:date date=\"1972-05-16\">May 16, 1972</ns0:date>, <ns0:ref href=\"/us/stat/86/137\">86 Stat. 137</ns0:ref>; renumbered\n",
      "title XIII, § 1313, by <ns0:ref href=\"/us/pl/93/154/s2/b/2\">Pub. L. 93–154, § 2(b)(2)</ns0:ref>, <ns0:date date=\"1973-11-16\">Nov. 16,\n",
      "1973</ns0:date>, <ns0:ref href=\"/us/stat/87/604\">87 Stat. 604</ns0:ref>, repealed and amended sections in this title and in Title 8, Aliens\n",
      "and Nationality, Title 14, Coast Guard, Title 21, Food and Drugs, Title 24, Hospitals and Asylums, former Title 31, Money and Finance, Title\n",
      "33, Navigation and Navigable Waters, former Title 34, Navy, Title 44, Public Printing and Documents, former Title 46, Shipping, Title 48,\n",
      "Territories and Insular Possessions, and former Title 49, Transportation, and was itself repealed by <ns0:ref href=\"/us/pl/93/222/s7/b\">Pub.\n",
      "L. 93–222, § 7(b)</ns0:ref>, <ns0:date date=\"1973-12-29\">Dec. 29, 1973</ns0:date>, <ns0:ref href=\"/us/stat/87/936\">87 Stat.\n",
      "936</ns0:ref>.</ns0:p> </ns0:note> <ns0:note style=\"-uslm-lc:I74\" topic=\"savings\" id=\"idb1110307-d970-11ed-a113-e530e1711693\"><ns0:heading\n",
      "class=\"centered smallCaps\">Savings Provision</ns0:heading><ns0:p style=\"-uslm-lc:I21\" class=\"indent0\"><ns0:ref\n",
      "href=\"/us/act/1944-07-01/ch373/tXIII/s1314\">Act July 1, 1944, ch. 373, title XIII, § 1314</ns0:ref>, formerly title VI, § 612, <ns0:ref\n",
      "href=\"/us/stat/58/720\">58 Stat. 720</ns0:ref>, as renumbered by acts <ns0:ref href=\"/us/act/1946-08-13/ch958/s5\">Aug. 13, 1946, ch. 958,\n",
      "§ 5</ns0:ref>, <ns0:ref href=\"/us/stat/60/1049\">60 Stat. 1049</ns0:ref>; <ns0:ref href=\"/us/act/1948-02-28/ch83/s9/b\">Feb. 28, 1948, ch. 83,\n",
      "§ 9(b)</ns0:ref>, <ns0:ref href=\"/us/stat/62/47\">62 Stat. 47</ns0:ref>; <ns0:ref href=\"/us/act/1956-07-30/ch779/s3/b\">July 30, 1956, ch.\n",
      "779, § 3(b)</ns0:ref>, <ns0:ref href=\"/us/stat/70/720\">70 Stat. 720</ns0:ref>; <ns0:ref href=\"/us/pl/88/581/s4/b\">Pub. L. 88–581,\n",
      "§ 4(b)</ns0:ref>, <ns0:date date=\"1964-09-04\">Sept. 4, 1964</ns0:date>, <ns0:ref href=\"/us/stat/78/919\">78 Stat. 919</ns0:ref>; <ns0:ref\n",
      "href=\"/us/pl/89/239/s3/b\">Pub. L. 89–239, § 3(b)</ns0:ref>, <ns0:date date=\"1965-10-06\">Oct. 6, 1965</ns0:date>, <ns0:ref\n",
      "href=\"/us/stat/79/931\">79 Stat. 931</ns0:ref>; <ns0:ref href=\"/us/pl/91/572/s6/b\">Pub. L. 91–572, § 6(b)</ns0:ref>, <ns0:date\n",
      "date=\"1970-12-24\">Dec. 24, 1970</ns0:date>, <ns0:ref href=\"/us/stat/84/1506\">84 Stat. 1506</ns0:ref>; <ns0:ref\n",
      "href=\"/us/pl/92/294/s3/b\">Pub. L. 92–294, § 3(b)</ns0:ref>, <ns0:date date=\"1972-05-16\">May 16, 1972</ns0:date>, <ns0:ref\n",
      "href=\"/us/stat/86/137\">86 Stat. 137</ns0:ref>; <ns0:ref href=\"/us/pl/93/154/s2/b/2\">Pub. L. 93–154, § 2(b)(2)</ns0:ref>, <ns0:date\n",
      "date=\"1973-11-16\">Nov. 16, 1973</ns0:date>, <ns0:ref href=\"/us/stat/87/604\">87 Stat. 604</ns0:ref>, provided that the repeal of statutes and\n",
      "parts of statutes by sections 1313, formerly § 611, of act <ns0:date date=\"1944-07-01\">July 1, 1944</ns0:date>, not affect any act done,\n",
      "right accruing or accrued, or suit or proceeding had or commenced in any civil cause before such repeal, and was repealed by <ns0:ref\n",
      "href=\"/us/pl/93/222/s7/b\">Pub. L. 93–222, § 7(b)</ns0:ref>, <ns0:date date=\"1973-12-29\">Dec. 29, 1973</ns0:date>, <ns0:ref\n",
      "href=\"/us/stat/87/936\">87 Stat. 936</ns0:ref>.</ns0:p> </ns0:note> <ns0:note style=\"-uslm-lc:I85\" topic=\"transferOfFunctions\"\n",
      "id=\"idb1137408-d970-11ed-a113-e530e1711693\"> <ns0:heading class=\"centered smallCaps\">Transfer of Functions</ns0:heading> <ns0:p\n",
      "style=\"-uslm-lc:I21\" class=\"indent0\">For transfer of authorities, functions, personnel, and assets of the Coast Guard, including the\n",
      "authorities and functions of the Secretary of Transportation relating thereto, to the Department of Homeland Security, and for treatment of\n",
      "related references, see sections 468(b), 551(d), 552(d), and 557 of Title 6, Domestic Security, and the Department of Homeland Security\n",
      "Reorganization Plan of <ns0:date date=\"2002-11-25\">November 25, 2002</ns0:date>, as modified, set out as a note under <ns0:ref\n",
      "href=\"/us/usc/t6/s542\">section 542 of Title 6</ns0:ref>.</ns0:p> </ns0:note> <ns0:note style=\"-uslm-lc:I74\" topic=\"miscellaneous\"\n",
      "id=\"idb1137409-d970-11ed-a113-e530e1711693\"><ns0:heading class=\"centered smallCaps\">Congressional Declaration of Purpose for Comprehensive\n",
      "Alcohol Abuse, Drug Abuse, and Mental Health Amendments Act of 1988</ns0:heading><ns0:p><ns0:ref href=\"/us/pl/100/690/tII/s2012\">Pub. L.\n",
      "100–690, title II, § 2012</ns0:ref>, <ns0:date date=\"1988-11-18\">Nov. 18, 1988</ns0:date>, <ns0:ref href=\"/us/stat/102/4193\">102 Stat.\n",
      "4193</ns0:ref>, provided that: <ns0:quotedContent origin=\"/us/pl/100/690/tII/s2012\"> <ns0:inline>“The purposes of this subtitle [subtitle A\n",
      "(§§ 2011–2081) of title II of <ns0:ref href=\"/us/pl/100/690\">Pub. L. 100–690</ns0:ref>, see Tables for classification] with respect to\n",
      "substance abuse are—</ns0:inline> <ns0:paragraph style=\"-uslm-lc:I22\" class=\"indent1\"><ns0:num value=\"1\">“(1)</ns0:num><ns0:content> to\n",
      "prevent the transmission of the etiologic agent for acquired immune deficiency syndrome by ensuring that treatment services for intravenous\n",
      "drug abuse are available to intravenous drug abusers;</ns0:content> </ns0:paragraph> <ns0:paragraph style=\"-uslm-lc:I22\"\n",
      "class=\"indent1\"><ns0:num value=\"2\">“(2)</ns0:num><ns0:content> to continue the Federal Government’s partnership with the States in the\n",
      "development, maintenance, and improvement of community-based alcohol and drug abuse programs;</ns0:content> </ns0:paragraph> <ns0:paragraph\n",
      "style=\"-uslm-lc:I22\" class=\"indent1\"><ns0:num value=\"3\">“(3)</ns0:num><ns0:content> to provide financial and technical assistance to the\n",
      "States and communities in their efforts to develop and maintain a core of prevention services for the purpose of reducing the incidence of\n",
      "substance abuse and the demand for alcohol and drug abuse treatment;</ns0:content> </ns0:paragraph> <ns0:paragraph style=\"-uslm-lc:I22\"\n",
      "class=\"indent1\"><ns0:num value=\"4\">“(4)</ns0:num><ns0:content> to assist and encourage States in the initiation and expansion of prevention\n",
      "and treatment services to underserved populations;</ns0:content> </ns0:paragraph> <ns0:paragraph style=\"-uslm-lc:I22\"\n",
      "class=\"indent1\"><ns0:num value=\"5\">“(5)</ns0:num><ns0:content> to increase, to the greatest extent possible, the availability and quality of\n",
      "treatment services so that treatment on request may be provided to all individuals desiring to rid themselves of their substance abuse\n",
      "problem; and</ns0:content> </ns0:paragraph> <ns0:paragraph style=\"-uslm-lc:I22\" class=\"indent1\"><ns0:num\n",
      "value=\"6\">“(6)</ns0:num><ns0:content> to increase understanding about the extent of alcohol abuse and other forms of drug abuse by expanding\n",
      "data collection activities and supporting research on the comparative cost and efficacy of substance abuse prevention and treatment\n",
      "services.”</ns0:content> </ns0:paragraph> </ns0:quotedContent> </ns0:p> </ns0:note> <ns0:note style=\"-uslm-lc:I74\" topic=\"miscellaneous\"\n",
      "id=\"idb113740a-d970-11ed-a113-e530e1711693\"><ns0:heading class=\"centered smallCaps\">Purpose of Act <ns0:date date=\"1946-07-03\">July 3,\n",
      "1946</ns0:date></ns0:heading><ns0:p><ns0:ref href=\"/us/act/1946-07-03/ch538/s2\">Act July 3, 1946, ch. 538, § 2</ns0:ref>, <ns0:ref\n",
      "href=\"/us/stat/60/421\">60 Stat. 421</ns0:ref>, provided: <ns0:quotedContent origin=\"/us/act/1946-07-03/ch538/s2\">“The purpose of this Act\n",
      "[see Short Title of 1946 Amendment note above] is the improvement of the mental health of the people of the United States through the\n",
      "conducting of researches, investigations, experiments, and demonstrations relating to the cause, diagnosis, and treatment of psychiatric\n",
      "disorders; assisting and fostering such research activities by public and private agencies, and promoting the coordination of all such\n",
      "researches and activities and the useful application of their results; training personnel in matters relating to mental health; and\n",
      "developing, and assisting States in the use of, the most effective methods of prevention, diagnosis, and treatment of psychiatric\n",
      "disorders.”</ns0:quotedContent> </ns0:p> </ns0:note> <ns0:note style=\"-uslm-lc:I74\" topic=\"miscellaneous\"\n",
      "id=\"idb113740b-d970-11ed-a113-e530e1711693\"><ns0:heading class=\"centered smallCaps\">Existing Positions, Procedures, Regulations, Funds,\n",
      "Appropriations, and Property</ns0:heading><ns0:p style=\"-uslm-lc:I21\" class=\"indent0\"><ns0:ref href=\"/us/act/1944-07-01/ch373/tXIII\">Act\n",
      "July 1, 1944, ch. 373, title XIII</ns0:ref>, §§ 1301–1303, formerly title VI, §§ 601–603, <ns0:ref href=\"/us/stat/58/711\">58 Stat.\n",
      "711</ns0:ref>, 712, as renumbered by acts <ns0:ref href=\"/us/act/1946-08-13/ch958/s5\">Aug. 13, 1946, ch. 958, § 5</ns0:ref>, <ns0:ref\n",
      "href=\"/us/stat/60/1049\">60 Stat. 1049</ns0:ref>; <ns0:ref href=\"/us/act/1956-07-30/ch779/s3/b\">July 30, 1956, ch. 779, § 3(b)</ns0:ref>,\n",
      "<ns0:ref href=\"/us/stat/70/720\">70 Stat. 720</ns0:ref>; <ns0:ref href=\"/us/pl/88/581/s4/b\">Pub. L. 88–581, § 4(b)</ns0:ref>, <ns0:date\n",
      "date=\"1964-09-03\">Sept. 3, 1964</ns0:date>, <ns0:ref href=\"/us/stat/78/919\">78 Stat. 919</ns0:ref>; <ns0:ref href=\"/us/pl/89/239/s3/b\">Pub.\n",
      "L. 89–239, § 3(b)</ns0:ref>, <ns0:date date=\"1965-10-06\">Oct. 6, 1965</ns0:date>, <ns0:ref href=\"/us/stat/79/931\">79 Stat. 931</ns0:ref>;\n",
      "<ns0:ref href=\"/us/pl/91/572/s6/b\">Pub. L. 91–572, § 6(b)</ns0:ref>, <ns0:date date=\"1970-12-24\">Dec. 24, 1970</ns0:date>, <ns0:ref\n",
      "href=\"/us/stat/84/1506\">84 Stat. 1506</ns0:ref>; <ns0:ref href=\"/us/pl/92/294/s3/b\">Pub. L. 92–294, § 3(b)</ns0:ref>, <ns0:date\n",
      "date=\"1972-05-16\">May 16, 1972</ns0:date>, <ns0:ref href=\"/us/stat/86/137\">86 Stat. 137</ns0:ref>; <ns0:ref href=\"/us/pl/93/154/s2/b/2\">Pub.\n",
      "L. 93–154, § 2(b)(2)</ns0:ref>, <ns0:date date=\"1973-11-16\">Nov. 16, 1973</ns0:date>, <ns0:ref href=\"/us/stat/87/604\">87 Stat.\n",
      "604</ns0:ref>, related to the effect of this chapter on existing positions, procedures, regulations, funds, appropriations, and property,\n",
      "and was repealed by <ns0:ref href=\"/us/pl/93/222/s7/b\">Pub. L. 93–222, § 7(b)</ns0:ref>, <ns0:date date=\"1973-12-29\">Dec. 29,\n",
      "1973</ns0:date>, <ns0:ref href=\"/us/stat/87/936\">87 Stat. 936</ns0:ref>.</ns0:p> </ns0:note> <ns0:note style=\"-uslm-lc:I74\"\n",
      "topic=\"miscellaneous\" id=\"idb113740c-d970-11ed-a113-e530e1711693\"><ns0:heading class=\"centered smallCaps\">Appropriations for Emergency\n",
      "Health and Sanitation Activities</ns0:heading><ns0:p style=\"-uslm-lc:I21\" class=\"indent0\">Act <ns0:date date=\"1944-07-01\">July 1,\n",
      "1944</ns0:date>, title XIII, § 1304, formerly title VI, § 604, <ns0:ref href=\"/us/stat/58/712\">58 Stat. 712</ns0:ref>, as renumbered by acts\n",
      "<ns0:ref href=\"/us/act/1946-08-13/ch958/s5\">Aug. 13, 1946, ch. 958, § 5</ns0:ref>, <ns0:ref href=\"/us/stat/60/1049\">60 Stat. 1049</ns0:ref>;\n",
      "<ns0:ref href=\"/us/act/1956-07-30/ch779/s3/b\">July 30, 1956, ch. 779, § 3(b)</ns0:ref>, <ns0:ref href=\"/us/stat/70/720\">70 Stat.\n",
      "720</ns0:ref>; <ns0:ref href=\"/us/pl/88/581/s4/b\">Pub. L. 88–581, § 4(b)</ns0:ref>, <ns0:date date=\"1964-09-04\">Sept. 4, 1964</ns0:date>,\n",
      "<ns0:ref href=\"/us/stat/78/919\">78 Stat. 919</ns0:ref>; <ns0:ref href=\"/us/pl/89/239/s3/b\">Pub. L. 89–239, § 3(b)</ns0:ref>, <ns0:date\n",
      "date=\"1965-10-06\">Oct. 6, 1965</ns0:date>, <ns0:ref href=\"/us/stat/79/931\">79 Stat. 931</ns0:ref>; <ns0:ref href=\"/us/pl/91/572/s6/b\">Pub.\n",
      "L. 91–572, § 6(b)</ns0:ref>, <ns0:date date=\"1970-12-24\">Dec. 24, 1970</ns0:date>, <ns0:ref href=\"/us/stat/84/1506\">84 Stat. 1506</ns0:ref>;\n",
      "<ns0:ref href=\"/us/pl/92/294/s3/b\">Pub. L. 92–294, § 3(b)</ns0:ref>, <ns0:date date=\"1972-05-16\">May 16, 1972</ns0:date>, <ns0:ref\n",
      "href=\"/us/stat/86/137\">86 Stat. 137</ns0:ref>; <ns0:ref href=\"/us/pl/93/154/s2/b/2\">Pub. L. 93–154, § 2(b)(2)</ns0:ref>, <ns0:date\n",
      "date=\"1973-11-16\">Nov. 16, 1973</ns0:date>, <ns0:ref href=\"/us/stat/87/604\">87 Stat. 604</ns0:ref>, authorized annual appropriations during\n",
      "World War II and during period of demobilization to conduct health and sanitation activities in military, naval, or industrial areas, and\n",
      "was repealed by <ns0:ref href=\"/us/pl/93/222/s7/b\">Pub. L. 93–222, § 7(b)</ns0:ref>, <ns0:date date=\"1973-12-29\">Dec. 29, 1973</ns0:date>,\n",
      "<ns0:ref href=\"/us/stat/87/936\">87 Stat. 936</ns0:ref>. Joint Res. <ns0:ref href=\"/us/act/1947-07-25/ch327/s3\">July 25, 1947, ch. 327,\n",
      "§ 3</ns0:ref>, <ns0:ref href=\"/us/stat/61/451\">61 Stat. 451</ns0:ref>, provided that in the interpretation of section 1004 of act <ns0:date\n",
      "date=\"1944-07-01\">July 1, 1944</ns0:date>, the date <ns0:date date=\"1947-07-25\">July 25, 1947</ns0:date>, shall be deemed to be the date of\n",
      "termination of any state of war theretofore declared by Congress and of the national emergencies proclaimed by the President on <ns0:date\n",
      "date=\"1939-09-08\">September 8, 1939</ns0:date>, and <ns0:date date=\"1941-05-27\">May 27, 1941</ns0:date>.</ns0:p> </ns0:note> <ns0:note\n",
      "style=\"-uslm-lc:I74\" topic=\"miscellaneous\" id=\"idb113740d-d970-11ed-a113-e530e1711693\"><ns0:heading class=\"centered smallCaps\">Availability\n",
      "of Appropriations</ns0:heading><ns0:p><ns0:ref href=\"/us/pl/91/296/tVI/s601\">Pub. L. 91–296, title VI, § 601</ns0:ref>, <ns0:date\n",
      "date=\"1970-06-30\">June 30, 1970</ns0:date>, <ns0:ref href=\"/us/stat/84/353\">84 Stat. 353</ns0:ref>, as amended <ns0:ref\n",
      "href=\"/us/pl/93/45/tIV/s401/a\">Pub. L. 93–45, title IV, § 401(a)</ns0:ref>, <ns0:date date=\"1973-06-18\">June 18, 1973</ns0:date>, <ns0:ref\n",
      "href=\"/us/stat/87/95\">87 Stat. 95</ns0:ref>; <ns0:ref href=\"/us/pl/93/352/tI/s113\">Pub. L. 93–352, title I, § 113</ns0:ref>, <ns0:date\n",
      "date=\"1974-07-23\">July 23, 1974</ns0:date>, <ns0:ref href=\"/us/stat/88/360\">88 Stat. 360</ns0:ref>, provided that: <ns0:quotedContent\n",
      "origin=\"/us/pl/93/352/tI/s113\">“Notwithstanding any other provision of law, unless enacted after the enactment of this Act [<ns0:date\n",
      "date=\"1970-06-30\">June 30, 1970</ns0:date>] expressly in limitation of the provisions of this section, funds appropriated for any fiscal\n",
      "year to carry out any program for which appropriations are authorized by the Public Health Service Act (Public Law 410, Seventy-eighth\n",
      "Congress, as amended) [<ns0:ref href=\"/us/usc/t42/s201\">42 U.S.C. 201</ns0:ref> et seq.] or the Mental Retardation Facilities and Community\n",
      "Mental Health Centers Construction Act of 1963 (<ns0:ref href=\"/us/pl/88/164\">Public Law 88–164</ns0:ref>, as amended) [former <ns0:ref\n",
      "href=\"/us/usc/t42/s2689\">42 U.S.C. 2689</ns0:ref> et seq., 6001 et seq.] shall remain available for obligation and expenditure until the end\n",
      "of such fiscal year.”</ns0:quotedContent> </ns0:p> </ns0:note> <ns0:note style=\"-uslm-lc:I74\" topic=\"miscellaneous\"\n",
      "id=\"idb113740e-d970-11ed-a113-e530e1711693\"><ns0:heading class=\"centered smallCaps\">Federal Accountability</ns0:heading><ns0:p><ns0:ref\n",
      "href=\"/us/pl/102/321/tII/s203/b\">Pub. L. 102–321, title II, § 203(b)</ns0:ref>, <ns0:date date=\"1992-07-10\">July 10, 1992</ns0:date>,\n",
      "<ns0:ref href=\"/us/stat/106/410\">106 Stat. 410</ns0:ref>, provided that: <ns0:quotedContent origin=\"/us/pl/102/321/tII/s203/b\">“Any rule or\n",
      "regulation of the Department of Health and Human Services that is inconsistent with the amendments made by this Act [see Tables for\n",
      "classification] shall not have any legal effect, including section 50(e) of part 96 of title 45, Code of Federal Regulations (45 CFR\n",
      "96.50(e)).”</ns0:quotedContent> </ns0:p> </ns0:note> <ns0:note style=\"-uslm-lc:I74\" topic=\"miscellaneous\"\n",
      "id=\"idb113740f-d970-11ed-a113-e530e1711693\"><ns0:heading class=\"centered smallCaps\">Hazardous Substances</ns0:heading><ns0:p style=\"-uslm-\n",
      "lc:I21\" class=\"indent0\">Federal Hazardous Substances Act as not modifying this chapter, see <ns0:ref href=\"/us/pl/86/613/s18\">Pub. L.\n",
      "86–613, § 18</ns0:ref>, <ns0:date date=\"1960-07-12\">July 12, 1960</ns0:date>, <ns0:ref href=\"/us/stat/74/380\">74 Stat. 380</ns0:ref>, set\n",
      "out as a note under <ns0:ref href=\"/us/usc/t15/s1261\">section 1261 of Title 15</ns0:ref>, Commerce and Trade.</ns0:p> </ns0:note> <ns0:note\n",
      "style=\"-uslm-lc:I87\" topic=\"definitions\" id=\"idb1137410-d970-11ed-a113-e530e1711693\"> <ns0:heading class=\"centered smallCaps\">Definition of\n",
      "“Secretary”</ns0:heading> <ns0:p><ns0:ref href=\"/us/pl/90/574/tV/s507\">Pub. L. 90–574, title V, § 507</ns0:ref>, <ns0:date\n",
      "date=\"1968-10-15\">Oct. 15, 1968</ns0:date>, <ns0:ref href=\"/us/stat/82/1013\">82 Stat. 1013</ns0:ref>, as amended by <ns0:ref\n",
      "href=\"/us/pl/96/88/tV/s509/b\">Pub. L. 96–88, title V, § 509(b)</ns0:ref>, <ns0:ref href=\"/us/stat/93/695\">93 Stat. 695</ns0:ref>, provided\n",
      "that: <ns0:quotedContent origin=\"/us/pl/96/88/tV/s509/b\">“As used in the amendments made by this Act [enacting sections 229a, 299j, 2688e to\n",
      "2688q, and 2697a of this title, amending sections 210g, 242h, 291a, 291b, 299a to 299e, 2693, and 3259 of this title, repealing <ns0:ref\n",
      "href=\"/us/usc/t42/s3442\">section 3442 of this title</ns0:ref>, and enacting provisions set out as notes under sections 291a, 2688e, 3442 of\n",
      "this title, <ns0:ref href=\"/us/usc/t22/s278\">section 278 of Title 22</ns0:ref>, Foreign Relations and Intercourse, and <ns0:ref\n",
      "href=\"/us/usc/t38/s3681\">section 3681 of Title 38</ns0:ref>, Veterans’ Benefits], the term ‘Secretary’ means the Secretary of Health and\n",
      "Human Services.”</ns0:quotedContent> </ns0:p> <ns0:p><ns0:ref href=\"/us/pl/90/174/s15\">Pub. L. 90–174, § 15</ns0:ref>, <ns0:date\n",
      "date=\"1967-12-05\">Dec. 5, 1967</ns0:date>, <ns0:ref href=\"/us/stat/81/542\">81 Stat. 542</ns0:ref>, as amended by <ns0:ref\n",
      "href=\"/us/pl/96/88/tV/s509/b\">Pub. L. 96–88, title V, § 509(b)</ns0:ref>, <ns0:date date=\"1979-10-17\">Oct. 17, 1979</ns0:date>, <ns0:ref\n",
      "href=\"/us/stat/93/695\">93 Stat. 695</ns0:ref>, provided that: <ns0:quotedContent origin=\"/us/pl/96/88/tV/s509/b\">“As used in the amendments\n",
      "made by this Act [enacting sections 217b, 243(c), 251(b), 254a, 263a, and 291m–1 and amending sections 242b, 242g(c), 246(d)(1), (e), and\n",
      "296e(c)(1) of this title] the term ‘Secretary’ means the Secretary of Health and Human Services.”</ns0:quotedContent> </ns0:p> </ns0:note>\n",
      "<ns0:note style=\"-uslm-lc:I74\" role=\"crossHeading\" topic=\"execDoc\" id=\"idb1137411-d970-11ed-a113-e530e1711693\"><ns0:heading\n",
      "class=\"centered\"><ns0:b>Executive Documents</ns0:b></ns0:heading></ns0:note> <ns0:note style=\"-uslm-lc:I78\" topic=\"changeOfName\"\n",
      "id=\"idb1137412-d970-11ed-a113-e530e1711693\"> <ns0:heading class=\"centered smallCaps\">Change of Name</ns0:heading> <ns0:p style=\"-uslm-\n",
      "lc:I21\" class=\"indent0\">Coast and Geodetic Survey consolidated with Weather Bureau to form a new agency in Department of Commerce to be\n",
      "known as Environmental Science Services Administration, and commissioned officers of Survey transferred to ESSA, by Reorg. Plan No. 2 of\n",
      "1965, eff. <ns0:date date=\"1965-07-13\">July 13, 1965</ns0:date>, 30 F.R. 8819, <ns0:ref href=\"/us/stat/79/1318\">79 Stat. 1318</ns0:ref>, set\n",
      "out in the Appendix to Title 5, Government Organization and Employees. Reorg. Plan No. 4 of 1970, eff. <ns0:date date=\"1970-10-03\">Oct. 3,\n",
      "1970</ns0:date>, 35 F.R. 15627, <ns0:ref href=\"/us/stat/84/2090\">84 Stat. 2090</ns0:ref>, abolished Environmental Science Services\n",
      "Administration, established National Oceanic and Atmospheric Administration, and redesignated Commissioned Officer Corps of ESSA as\n",
      "Commissioned Officer Corps of NOAA. For further details, see Transfer of Functions note set out under <ns0:ref\n",
      "href=\"/us/usc/t33/s851\">section 851 of Title 33</ns0:ref>, Navigation and Navigable Waters.</ns0:p> </ns0:note> <ns0:note style=\"-uslm-\n",
      "lc:I85\" topic=\"transferOfFunctions\" id=\"idb1137413-d970-11ed-a113-e530e1711693\"> <ns0:heading class=\"centered smallCaps\">Transfer of\n",
      "Functions</ns0:heading> <ns0:p style=\"-uslm-lc:I21\" class=\"indent0\">Functions of Public Health Service, Surgeon General of Public Health\n",
      "Service, and all other officers and employees of Public Health Service, and functions of all agencies of or in Public Health Service\n",
      "transferred to Secretary of Health, Education, and Welfare by Reorg. Plan No. 3, of 1966, eff. <ns0:date date=\"1966-06-25\">June 25,\n",
      "1966</ns0:date>, 31 F.R. 8855, <ns0:ref href=\"/us/stat/80/1610\">80 Stat. 1610</ns0:ref>, set out as a note under <ns0:ref\n",
      "href=\"/us/usc/t42/s202\">section 202 of this title</ns0:ref>.</ns0:p> <ns0:p style=\"-uslm-lc:I21\" class=\"indent0\">Functions of Federal\n",
      "Security Administrator transferred to Secretary of Health, Education, and Welfare and all agencies of Federal Security Agency transferred to\n",
      "Department of Health, Education, and Welfare by section 5 of Reorg. Plan No. 1 of 1953, set out as a note under <ns0:ref\n",
      "href=\"/us/usc/t42/s3501\">section 3501 of this title</ns0:ref>. Federal Security Agency and office of Administrator abolished by section 8 of\n",
      "Reorg. Plan No. 1 of 1953.</ns0:p> </ns0:note> <ns0:note style=\"-uslm-lc:I85\" topic=\"miscellaneous\"\n",
      "id=\"idb1137414-d970-11ed-a113-e530e1711693\"> <ns0:heading class=\"centered smallCaps\">Termination of Trust Territory of the Pacific\n",
      "Islands</ns0:heading> <ns0:p style=\"-uslm-lc:I21\" class=\"indent0\">For termination of Trust Territory of the Pacific Islands, see note set\n",
      "out preceding <ns0:ref href=\"/us/usc/t48/s1681\">section 1681 of Title 48</ns0:ref>, Territories and Insular Possessions.</ns0:p> </ns0:note>\n",
      "<ns0:note style=\"-uslm-lc:I86\" topic=\"executiveOrder\" id=\"idb1137415-d970-11ed-a113-e530e1711693\"> <ns0:heading class=\"centered\n",
      "smallCaps\">Executive Order No. 13507</ns0:heading> <ns0:p style=\"-uslm-lc:I21\" class=\"indent0\">Ex. Ord. No. 13507, <ns0:date\n",
      "date=\"2009-04-08\">Apr. 8, 2009</ns0:date>, 74 F.R. 17071, which established the White House Office of Health Reform, was revoked by Ex. Ord.\n",
      "No. 13569, § 6, <ns0:date date=\"2011-04-05\">Apr. 5, 2011</ns0:date>, 76 F.R. 19891, set out as a note preceding <ns0:ref\n",
      "href=\"/us/usc/t3/s101\">section 101 of Title 3</ns0:ref>, The President.</ns0:p> </ns0:note> </ns0:notes>\n"
     ]
    }
   ],
   "source": [
    "# The problem appears to be that namespace qualifications were re-added.\n",
    "usc.show_wrapped(pruned_notes[0])"
   ]
  },
  {
   "cell_type": "code",
   "execution_count": 91,
   "metadata": {},
   "outputs": [
    {
     "name": "stdout",
     "output_type": "stream",
     "text": [
      "<section xmlns=\"http://xml.house.gov/schemas/uslm/1.0\" style=\"-uslm-lc:I80\" id=\"idb109d7b3-d970-11ed-a113-e530e1711693\"\n",
      "identifier=\"/us/usc/t42/s201\"><num value=\"201\">§ 201.</num><heading> Definitions</heading> <chapeau style=\"-uslm-lc:I11\"\n",
      "class=\"indent0\">When used in this chapter—</chapeau><subsection style=\"-uslm-lc:I11\" class=\"indent0\"\n",
      "id=\"idb109d7b4-d970-11ed-a113-e530e1711693\" identifier=\"/us/usc/t42/s201/a\"><num value=\"a\">(a)</num><content> The term “Service” means the\n",
      "Public Health Service;</content> </subsection> <subsection style=\"-uslm-lc:I11\" class=\"indent0\" id=\"idb109d7b5-d970-11ed-a113-e530e1711693\"\n",
      "identifier=\"/us/usc/t42/s201/b\"><num value=\"b\">(b)</num><content> The term “Surgeon General” means the Surgeon General of the Public Health\n",
      "Service;</content> </subsection> <subsection style=\"-uslm-lc:I11\" class=\"indent0\" id=\"idb109d7b6-d970-11ed-a113-e530e1711693\"\n",
      "identifier=\"/us/usc/t42/s201/c\"><num value=\"c\">(c)</num><content> Unless the context otherwise requires, the term “Secretary” means the\n",
      "Secretary of Health and Human Services.</content> </subsection> <subsection style=\"-uslm-lc:I11\" class=\"indent0\"\n",
      "id=\"idb109d7b7-d970-11ed-a113-e530e1711693\" identifier=\"/us/usc/t42/s201/d\"><num value=\"d\">(d)</num><content> The term “regulations”, except\n",
      "when otherwise specified, means rules and regulations made by the Surgeon General with the approval of the Secretary;</content>\n",
      "</subsection> <subsection style=\"-uslm-lc:I11\" class=\"indent0\" id=\"idb109d7b8-d970-11ed-a113-e530e1711693\"\n",
      "identifier=\"/us/usc/t42/s201/e\"><num value=\"e\">(e)</num><content> The term “executive department” means any executive department, agency, or\n",
      "independent establishment of the United States or any corporation wholly owned by the United States;</content> </subsection> <subsection\n",
      "style=\"-uslm-lc:I11\" class=\"indent0\" id=\"idb109d7b9-d970-11ed-a113-e530e1711693\" identifier=\"/us/usc/t42/s201/f\"><num\n",
      "value=\"f\">(f)</num><content> Except as provided in sections 246(g)(4)(B),<ref class=\"footnoteRef\" idref=\"fn002000\">1</ref><note\n",
      "type=\"footnote\" id=\"fn002000\"><num>1</num> See References in Text note below.</note> 247c(c)(1),<ref class=\"footnoteRef\"\n",
      "idref=\"fn002000\">1</ref> 254d(h)(3),<ref class=\"footnoteRef\" idref=\"fn002000\">1</ref> 263c(5),<ref class=\"footnoteRef\"\n",
      "idref=\"fn002000\">1</ref> 264(d), 292a(9),<ref class=\"footnoteRef\" idref=\"fn002000\">1</ref> 300a(c), 300f(13), and 300n(1) <ref\n",
      "class=\"footnoteRef\" idref=\"fn002000\">1</ref> of this title, the term “State” includes, in addition to the several States, only the District\n",
      "of Columbia, Guam, the Commonwealth of Puerto Rico, the Northern Mariana Islands, the Virgin Islands, American Samoa, and the Trust\n",
      "Territory of the Pacific Islands.</content> </subsection> <subsection style=\"-uslm-lc:I11\" class=\"indent0\"\n",
      "id=\"idb109d7ba-d970-11ed-a113-e530e1711693\" identifier=\"/us/usc/t42/s201/g\"><num value=\"g\">(g)</num><content> The term “possession”\n",
      "includes, among other possessions, Puerto Rico and the Virgin Islands;</content> </subsection> <subsection style=\"-uslm-lc:I11\"\n",
      "class=\"indent0\" id=\"idb109d7bb-d970-11ed-a113-e530e1711693\" identifier=\"/us/usc/t42/s201/h\"><num value=\"h\">(h)</num><content> Repealed. <ref\n",
      "href=\"/us/pl/97/35/tIX/s986/a\">Pub. L. 97–35, title IX, § 986(a)</ref>, <date date=\"1981-08-13\">Aug. 13, 1981</date>, <ref\n",
      "href=\"/us/stat/95/603\">95 Stat. 603</ref>.</content> </subsection> <subsection style=\"-uslm-lc:I11\" class=\"indent0\"\n",
      "id=\"idb109d7bc-d970-11ed-a113-e530e1711693\" identifier=\"/us/usc/t42/s201/i\"><num value=\"i\">(i)</num><content> The term “vessel” includes\n",
      "every description of watercraft or other artificial contrivance used, or capable of being used, as a means of transportation on water,\n",
      "exclusive of aircraft and amphibious contrivances;</content> </subsection> <subsection style=\"-uslm-lc:I11\" class=\"indent0\"\n",
      "id=\"idb109d7bd-d970-11ed-a113-e530e1711693\" identifier=\"/us/usc/t42/s201/j\"><num value=\"j\">(j)</num><content> The term “habit-forming\n",
      "narcotic drug” or “narcotic” means opium and coca leaves and the several alkaloids derived therefrom, the best known of these alkaloids\n",
      "being morphia, heroin, and codeine, obtained from opium, and cocaine derived from the coca plant; all compounds, salts, preparations, or\n",
      "other derivatives obtained either from the raw material or from the various alkaloids; Indian hemp and its various derivatives, compounds,\n",
      "and preparations, and peyote in its various forms; isonipecaine and its derivatives, compounds, salts, and preparations; opiates (as defined\n",
      "in section 4731(g) <sup>1</sup> of title 26);</content> </subsection> <subsection style=\"-uslm-lc:I11\" class=\"indent0\"\n",
      "id=\"idb109d7be-d970-11ed-a113-e530e1711693\" identifier=\"/us/usc/t42/s201/k\"><num value=\"k\">(k)</num><content> The term “addict” means any\n",
      "person who habitually uses any habit-forming narcotic drugs so as to endanger the public morals, health, safety, or welfare, or who is or\n",
      "has been so far addicted to the use of such habit-forming narcotic drugs as to have lost the power of self-control with reference to his\n",
      "addiction;</content> </subsection> <subsection style=\"-uslm-lc:I11\" class=\"indent0\" id=\"idb109d7bf-d970-11ed-a113-e530e1711693\"\n",
      "identifier=\"/us/usc/t42/s201/l\"><num value=\"l\">(l)</num><content> The term “psychiatric disorders” includes diseases of the nervous system\n",
      "which affect mental health;</content> </subsection> <subsection style=\"-uslm-lc:I11\" class=\"indent0\"\n",
      "id=\"idb109d7c0-d970-11ed-a113-e530e1711693\" identifier=\"/us/usc/t42/s201/m\"><num value=\"m\">(m)</num><content> The term “State mental health\n",
      "authority” means the State health authority, except that, in the case of any State in which there is a single State agency, other than the\n",
      "State health authority, charged with responsibility for administering the mental health program of the State, it means such other State\n",
      "agency;</content> </subsection> <subsection style=\"-uslm-lc:I11\" class=\"indent0\" id=\"idb109d7c1-d970-11ed-a113-e530e1711693\"\n",
      "identifier=\"/us/usc/t42/s201/n\"><num value=\"n\">(n)</num><content> The term “heart diseases” means diseases of the heart and\n",
      "circulation;</content> </subsection> <subsection style=\"-uslm-lc:I11\" class=\"indent0\" id=\"idb109d7c2-d970-11ed-a113-e530e1711693\"\n",
      "identifier=\"/us/usc/t42/s201/o\"><num value=\"o\">(o)</num><content> The term “dental diseases and conditions” means diseases and conditions\n",
      "affecting teeth and their supporting structures, and other related diseases of the mouth; and</content> </subsection> <subsection\n",
      "style=\"-uslm-lc:I11\" class=\"indent0\" id=\"idb109d7c3-d970-11ed-a113-e530e1711693\" identifier=\"/us/usc/t42/s201/p\"><num\n",
      "value=\"p\">(p)</num><content> The term “uniformed service” means the Army, Navy, Air Force, Marine Corps, Coast Guard, Public Health Service,\n",
      "or National Oceanic and Atmospheric Administration.</content> </subsection> <subsection style=\"-uslm-lc:I11\" class=\"indent0\"\n",
      "id=\"idb109d7c4-d970-11ed-a113-e530e1711693\" identifier=\"/us/usc/t42/s201/q\"><num value=\"q\">(q)</num><content> The term “drug dependent\n",
      "person” means a person who is using a controlled substance (as defined in <ref href=\"/us/usc/t21/s802\">section 802 of title 21</ref>) and\n",
      "who is in a state of psychic or physical dependence, or both, arising from the use of that substance on a continuous basis. Drug dependence\n",
      "is characterized by behavioral and other responses which include a strong compulsion to take the substance on a continuous basis in order to\n",
      "experience its psychic effects or to avoid the discomfort caused by its absence.</content> </subsection> <sourceCredit\n",
      "id=\"idb109d7c5-d970-11ed-a113-e530e1711693\">(<ref href=\"/us/act/1944-07-01/ch373\">July 1, 1944, ch. 373</ref>, title I, § 2, <ref\n",
      "href=\"/us/stat/58/682\">58 Stat. 682</ref>; <ref href=\"/us/act/1946-07-03/ch538/s3\">July 3, 1946, ch. 538, § 3</ref>, <ref\n",
      "href=\"/us/stat/60/421\">60 Stat. 421</ref>; <ref href=\"/us/act/1948-02-28/ch83/s1\">Feb. 28, 1948, ch. 83, § 1</ref>, <ref\n",
      "href=\"/us/stat/62/38\">62 Stat. 38</ref>; <ref href=\"/us/act/1948-06-16/ch481/s6/a\">June 16, 1948, ch. 481, § 6(a)</ref>, <ref\n",
      "href=\"/us/stat/62/469\">62 Stat. 469</ref>; <ref href=\"/us/act/1948-06-24/ch621/s6/a\">June 24, 1948, ch. 621, § 6(a)</ref>, <ref\n",
      "href=\"/us/stat/62/601\">62 Stat. 601</ref>; 1953 Reorg. Plan No. 1, §§ 5, 8, eff. <date date=\"1953-04-11\">Apr. 11, 1953</date>, 18 F.R. 2053,\n",
      "<ref href=\"/us/stat/67/631\">67 Stat. 631</ref>; <ref href=\"/us/pl/86/70/s31/a\">Pub. L. 86–70, § 31(a)</ref>, <date date=\"1959-06-25\">June\n",
      "25, 1959</date>, <ref href=\"/us/stat/73/148\">73 Stat. 148</ref>; <ref href=\"/us/pl/86/415/s5/a\">Pub. L. 86–415, § 5(a)</ref>, <date\n",
      "date=\"1960-04-08\">Apr. 8, 1960</date>, <ref href=\"/us/stat/74/34\">74 Stat. 34</ref>; <ref href=\"/us/pl/86/624/s29/a\">Pub. L. 86–624,\n",
      "§ 29(a)</ref>, <date date=\"1960-07-12\">July 12, 1960</date>, <ref href=\"/us/stat/74/419\">74 Stat. 419</ref>; 1965 Reorg. Plan No. 2, eff.\n",
      "<date date=\"1965-07-13\">July 13, 1965</date>, 30 F.R. 8819, <ref href=\"/us/stat/79/1318\">79 Stat. 1318</ref>; <ref\n",
      "href=\"/us/pl/91/212/s11\">Pub. L. 91–212, § 11</ref>, <date date=\"1970-03-13\">Mar. 13, 1970</date>, <ref href=\"/us/stat/84/67\">84 Stat.\n",
      "67</ref>; 1970 Reorg. Plan No. 4, eff. <date date=\"1970-10-03\">Oct. 3, 1970</date>, 35 F.R. 15627, <ref href=\"/us/stat/84/2090\">84 Stat.\n",
      "2090</ref>; <ref href=\"/us/pl/91/513/tI/s2/b\">Pub. L. 91–513, title I, § 2(b)</ref>, <date date=\"1970-10-27\">Oct. 27, 1970</date>, <ref\n",
      "href=\"/us/stat/84/1240\">84 Stat. 1240</ref>; <ref href=\"/us/pl/93/523/s2/b\">Pub. L. 93–523, § 2(b)</ref>, <date date=\"1974-12-16\">Dec. 16,\n",
      "1974</date>, <ref href=\"/us/stat/88/1693\">88 Stat. 1693</ref>; <ref href=\"/us/pl/94/317/tIII/s301/a\">Pub. L. 94–317, title III,\n",
      "§ 301(a)</ref>, <date date=\"1976-06-23\">June 23, 1976</date>, <ref href=\"/us/stat/90/707\">90 Stat. 707</ref>; <ref\n",
      "href=\"/us/pl/94/484/tIX/s905/a\">Pub. L. 94–484, title IX, § 905(a)</ref>, <date date=\"1976-10-12\">Oct. 12, 1976</date>, <ref\n",
      "href=\"/us/stat/90/2325\">90 Stat. 2325</ref>; <ref href=\"/us/pl/95/83/tI/s107\">Pub. L. 95–83, title I, § 107</ref>, <date\n",
      "date=\"1977-08-01\">Aug. 1, 1977</date>, <ref href=\"/us/stat/91/386\">91 Stat. 386</ref>; <ref href=\"/us/pl/96/79/tII/s203/e/2\">Pub. L. 96–79,\n",
      "title II, § 203(e)(2)</ref>, <date date=\"1979-10-04\">Oct. 4, 1979</date>, <ref href=\"/us/stat/93/635\">93 Stat. 635</ref>; <ref\n",
      "href=\"/us/pl/97/35/tIX\">Pub. L. 97–35, title IX</ref>, §§ 902(d)(5), 986(a), <date date=\"1981-08-13\">Aug. 13, 1981</date>, <ref\n",
      "href=\"/us/stat/95/560\">95 Stat. 560</ref>, 603; <ref href=\"/us/pl/103/43/tXX/s2008/e\">Pub. L. 103–43, title XX, § 2008(e)</ref>, <date\n",
      "date=\"1993-06-10\">June 10, 1993</date>, <ref href=\"/us/stat/107/212\">107 Stat. 212</ref>.)</sourceCredit> </section>\n"
     ]
    }
   ],
   "source": [
    "# The section elements the notes were pruned from don't seem to have the\n",
    "# namespace qualifications. Copying the notes elements should cause the\n",
    "# namespace qualifications to be omitted when they are converted to strings.\n",
    "# (That effect on other elements has been observed throughout this notebook.)\n",
    "usc.show_wrapped(big_direct_sections_no_notes[0])"
   ]
  },
  {
   "cell_type": "code",
   "execution_count": null,
   "metadata": {},
   "outputs": [],
   "source": []
  }
 ],
 "metadata": {
  "kernelspec": {
   "display_name": "Python 3 (ipykernel)",
   "language": "python",
   "name": "python3"
  },
  "language_info": {
   "codemirror_mode": {
    "name": "ipython",
    "version": 3
   },
   "file_extension": ".py",
   "mimetype": "text/x-python",
   "name": "python",
   "nbconvert_exporter": "python",
   "pygments_lexer": "ipython3",
   "version": "3.11.4"
  }
 },
 "nbformat": 4,
 "nbformat_minor": 2
}
