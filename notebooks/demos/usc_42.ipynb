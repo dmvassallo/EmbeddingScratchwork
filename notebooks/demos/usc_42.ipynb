{
 "cells": [
  {
   "cell_type": "code",
   "execution_count": 1,
   "metadata": {},
   "outputs": [],
   "source": [
    "from collections import Counter\n",
    "from copy import deepcopy\n",
    "from pathlib import Path\n",
    "from pprint import pp\n",
    "\n",
    "from lxml import etree as ET\n",
    "\n",
    "import embed"
   ]
  },
  {
   "cell_type": "code",
   "execution_count": 2,
   "metadata": {},
   "outputs": [],
   "source": [
    "# § 1 - 1j\n",
    "S1 = \"\"\"<section status=\"repealed\" style=\"-uslm-lc:I80\" id=\"idb0fba64f-d970-11ed-a113-e530e1711693\" identifier=\"/us/usc/t42/s1...1j\"><num value=\"1 to 1j\">§§ 1 to 1j.</num><heading> Repealed. <ref href=\"/us/act/1944-07-01/ch373\">July 1, 1944, ch. 373</ref>, title XIII, § 1313, <ref href=\"/us/stat/58/714\">58 Stat. 714</ref></heading><notes type=\"uscNote\" id=\"idb0fba650-d970-11ed-a113-e530e1711693\">\n",
    "<note topic=\"removalDescription\" id=\"idb0fba651-d970-11ed-a113-e530e1711693\">\n",
    "<p style=\"-uslm-lc:I21\" class=\"indent0\">Section 1, acts <ref href=\"/us/act/1902-07-01/ch1370/s1\">July 1, 1902, ch. 1370, § 1</ref>, <ref href=\"/us/stat/32/712\">32 Stat. 712</ref>; <ref href=\"/us/act/1912-08-14/ch288/s1\">Aug. 14, 1912, ch. 288, § 1</ref>, <ref href=\"/us/stat/37/309\">37 Stat. 309</ref>, provided that Public Health and Marine Hospital Service should be known as the Public Health Service. See <ref href=\"/us/usc/t42/s202\">section 202 of this title</ref>.</p>\n",
    "</note>\n",
    "<note topic=\"removalDescription\" id=\"idb0fba652-d970-11ed-a113-e530e1711693\">\n",
    "<p style=\"-uslm-lc:I21\" class=\"indent0\">Section 1a, <ref href=\"/us/act/1943-11-11/ch298/s1\">act Nov. 11, 1943, ch. 298, § 1</ref>, <ref href=\"/us/stat/57/587\">57 Stat. 587</ref>, provided for organization and function of Public Health Service. See <ref href=\"/us/usc/t42/s203\">section 203 of this title</ref>.</p>\n",
    "</note>\n",
    "<note topic=\"removalDescription\" id=\"idb0fba653-d970-11ed-a113-e530e1711693\">\n",
    "<p style=\"-uslm-lc:I21\" class=\"indent0\">Section 1b, <ref href=\"/us/act/1943-11-11/ch298/s2\">act Nov. 11, 1943, ch. 298, § 2</ref>, <ref href=\"/us/stat/57/587\">57 Stat. 587</ref>, provided for appointment of Assistant Surgeons General, their grade, pay, and allowances. See sections 206, 207, and 210 of this title.</p>\n",
    "</note>\n",
    "<note topic=\"removalDescription\" id=\"idb0fba654-d970-11ed-a113-e530e1711693\">\n",
    "<p style=\"-uslm-lc:I21\" class=\"indent0\">Section 1c, <ref href=\"/us/act/1943-11-11/ch298/s3\">act Nov. 11, 1943, ch. 298, § 3</ref>, <ref href=\"/us/stat/57/587\">57 Stat. 587</ref>, provided for chiefs of divisions, their grade, pay and allowances, and creation of a Dental Division and a Sanitary Engineering Division. See sections 206, 207, and 210 of this title.</p>\n",
    "</note>\n",
    "<note topic=\"removalDescription\" id=\"idb0fba655-d970-11ed-a113-e530e1711693\">\n",
    "<p style=\"-uslm-lc:I21\" class=\"indent0\">Section 1d, <ref href=\"/us/act/1943-11-11/ch298/s4\">act Nov. 11, 1943, ch. 298, § 4</ref>, <ref href=\"/us/stat/57/587\">57 Stat. 587</ref>, provided for temporary promotions in regular corps in time of war. See <ref href=\"/us/usc/t42/s211\">section 211 of this title</ref>.</p>\n",
    "</note>\n",
    "<note topic=\"removalDescription\" id=\"idb0fba656-d970-11ed-a113-e530e1711693\">\n",
    "<p style=\"-uslm-lc:I21\" class=\"indent0\">Section 1e, <ref href=\"/us/act/1943-11-11/ch298/s5\">act Nov. 11, 1943, ch. 298, § 5</ref>, <ref href=\"/us/stat/58/588\">58 Stat. 588</ref>, provided for review of record of officers above grade of assistant surgeon and their separation from service. See <ref href=\"/us/usc/t42/s211\">section 211 of this title</ref>.</p>\n",
    "</note>\n",
    "<note topic=\"removalDescription\" id=\"idb0fba657-d970-11ed-a113-e530e1711693\">\n",
    "<p style=\"-uslm-lc:I21\" class=\"indent0\">Section 1f, <ref href=\"/us/act/1943-11-11/ch298/s6\">act Nov. 11, 1943, ch. 298, § 6</ref>, <ref href=\"/us/stat/58/588\">58 Stat. 588</ref>, provided for an acting Surgeon General during absence of Surgeon General and Assistant to Surgeon General. See <ref href=\"/us/usc/t42/s206\">section 206 of this title</ref>.</p>\n",
    "</note>\n",
    "<note topic=\"removalDescription\" id=\"idb0fba658-d970-11ed-a113-e530e1711693\">\n",
    "<p style=\"-uslm-lc:I21\" class=\"indent0\">Section 1g, <ref href=\"/us/act/1943-11-11/ch298/s7\">act Nov. 11, 1943, ch. 298, § 7</ref>, <ref href=\"/us/stat/57/588\">57 Stat. 588</ref>, provided for death and disability benefits of commissioned officers during war and for transfer of Service to military forces. See sections 213 and 217 of this title.</p>\n",
    "</note>\n",
    "<note topic=\"removalDescription\" id=\"idb0fba659-d970-11ed-a113-e530e1711693\">\n",
    "<p style=\"-uslm-lc:I21\" class=\"indent0\">Section 1h, <ref href=\"/us/act/1943-11-11/ch298/s8\">act Nov. 11, 1943, ch. 298, § 8</ref>, <ref href=\"/us/stat/57/589\">57 Stat. 589</ref>, provided for commissioned officers’ benefits as civil officers and employees of United States and election of benefits. See Title 5, Government Organization and Employees.</p>\n",
    "</note>\n",
    "<note topic=\"removalDescription\" id=\"idb0fba65a-d970-11ed-a113-e530e1711693\">\n",
    "<p style=\"-uslm-lc:I21\" class=\"indent0\">Section 1i, <ref href=\"/us/act/1943-11-11/ch298/s9\">act Nov. 11, 1943, ch. 298, § 9</ref>, <ref href=\"/us/stat/57/589\">57 Stat. 589</ref>, provided for beneficiaries’ benefits where commissioned officer lost his life on active duty between <date date=\"1941-12-07\">Dec. 7, 1941</date>, and <date date=\"1943-11-11\">Nov. 11, 1943</date>.</p>\n",
    "</note>\n",
    "<note topic=\"removalDescription\" id=\"idb0fba65b-d970-11ed-a113-e530e1711693\">\n",
    "<p style=\"-uslm-lc:I21\" class=\"indent0\">Section 1j, <ref href=\"/us/act/1943-11-11/ch298/s11\">act Nov. 11, 1943, ch. 298, § 11</ref>, <ref href=\"/us/stat/57/589\">57 Stat. 589</ref>, provided for transfer of appropriations to continue transferred functions. See note set out under <ref href=\"/us/usc/t42/s201\">section 201 of this title</ref>.</p>\n",
    "</note>\n",
    "<note style=\"-uslm-lc:I74\" role=\"crossHeading\" topic=\"statutoryNotes\" id=\"idb0fba65c-d970-11ed-a113-e530e1711693\"><heading class=\"centered\"><b>Statutory Notes and Related Subsidiaries</b></heading></note>\n",
    "<note style=\"-uslm-lc:I74\" topic=\"miscellaneous\" id=\"idb0fba65d-d970-11ed-a113-e530e1711693\"><heading class=\"centered smallCaps\">Renumbering and Repeal of Repealing Act</heading><p style=\"-uslm-lc:I21\" class=\"indent0\">Title XIII, § 1313, formerly title VI, § 611, of act <date date=\"1944-07-01\">July 1, 1944</date>, which repealed these sections, was renumbered title VII, § 711, by <ref href=\"/us/act/1946-08-13/ch958/s5\">act Aug. 13, 1946, ch. 958, § 5</ref>, <ref href=\"/us/stat/60/1049\">60 Stat. 1049</ref>; § 713, by <ref href=\"/us/act/1948-02-28/ch83/s9/b\">act Feb. 28, 1948, ch. 83, § 9(b)</ref>, <ref href=\"/us/stat/62/47\">62 Stat. 47</ref>; title VIII, § 813, by <ref href=\"/us/act/1956-07-30/ch779/s3/b\">act July 30, 1956, ch. 779, § 3(b)</ref>, <ref href=\"/us/stat/70/721\">70 Stat. 721</ref>; title IX, § 913, by <ref href=\"/us/pl/88/581/s4/b\">Pub. L. 88–581, § 4(b)</ref>, <date date=\"1964-09-04\">Sept. 4, 1964</date>, <ref href=\"/us/stat/78/919\">78 Stat. 919</ref>; title X, § 1013, by <ref href=\"/us/pl/89/239/s3/b\">Pub. L. 89–239, § 3(b)</ref>, <date date=\"1965-10-06\">Oct. 6, 1965</date>, <ref href=\"/us/stat/79/931\">79 Stat. 931</ref>; title XI, § 1113, by <ref href=\"/us/pl/91/572/s6/b\">Pub. L. 91–572, § 6(b)</ref>, <date date=\"1970-12-24\">Dec. 24, 1970</date>, <ref href=\"/us/stat/84/1506\">84 Stat. 1506</ref>; title XII, § 1213, by <ref href=\"/us/pl/92/294/s3/b\">Pub. L. 92–294, § 3(b)</ref>, <date date=\"1972-05-16\">May 16, 1972</date>, <ref href=\"/us/stat/86/137\">86 Stat. 137</ref>; title XIII, § 1313, by <ref href=\"/us/pl/93/154/s2/b/2\">Pub. L. 93–154, § 2(b)(2)</ref>, <date date=\"1973-11-16\">Nov. 16, 1973</date>, <ref href=\"/us/stat/87/604\">87 Stat. 604</ref>, and was repealed by <ref href=\"/us/pl/93/222/s7/b\">Pub. L. 93–222, § 7(b)</ref>, <date date=\"1973-12-29\">Dec. 29, 1973</date>, <ref href=\"/us/stat/87/936\">87 Stat. 936</ref>.</p>\n",
    "</note>\n",
    "</notes>\n",
    "</section>\"\"\""
   ]
  },
  {
   "cell_type": "code",
   "execution_count": 3,
   "metadata": {},
   "outputs": [
    {
     "data": {
      "text/plain": [
       "2817"
      ]
     },
     "execution_count": 3,
     "metadata": {},
     "output_type": "execute_result"
    }
   ],
   "source": [
    "embed.count_tokens(S1)"
   ]
  },
  {
   "cell_type": "code",
   "execution_count": 4,
   "metadata": {},
   "outputs": [],
   "source": [
    "# TODO: Parse Title 42, get each section element, count tokens with and without\n",
    "# attributes, experiment with semantic search allowing repealed sections to be\n",
    "# included or omitted from the search."
   ]
  },
  {
   "cell_type": "code",
   "execution_count": 5,
   "metadata": {},
   "outputs": [],
   "source": [
    "data_dir = Path('../../data/')\n",
    "usc_stem = 'xml_uscAll@118-3not328'\n",
    "usc42 = data_dir / usc_stem / 'usc42.xml'"
   ]
  },
  {
   "cell_type": "code",
   "execution_count": 6,
   "metadata": {},
   "outputs": [],
   "source": [
    "usc42textorig = usc42.read_text(encoding='utf-8')"
   ]
  },
  {
   "cell_type": "code",
   "execution_count": 7,
   "metadata": {},
   "outputs": [],
   "source": [
    "#embed.count_tokens(usc42textorig)"
   ]
  },
  {
   "cell_type": "code",
   "execution_count": 8,
   "metadata": {},
   "outputs": [],
   "source": [
    "usc42tree = ET.parse(usc42)"
   ]
  },
  {
   "cell_type": "code",
   "execution_count": 9,
   "metadata": {},
   "outputs": [],
   "source": [
    "usc42root = usc42tree.getroot()"
   ]
  },
  {
   "cell_type": "code",
   "execution_count": 10,
   "metadata": {},
   "outputs": [],
   "source": [
    "usc42text = ET.tostring(usc42root, encoding='unicode')"
   ]
  },
  {
   "cell_type": "code",
   "execution_count": 11,
   "metadata": {},
   "outputs": [
    {
     "data": {
      "text/plain": [
       "8761"
      ]
     },
     "execution_count": 11,
     "metadata": {},
     "output_type": "execute_result"
    }
   ],
   "source": [
    "usc42text.count('<section')"
   ]
  },
  {
   "cell_type": "code",
   "execution_count": 12,
   "metadata": {},
   "outputs": [
    {
     "data": {
      "text/plain": [
       "8761"
      ]
     },
     "execution_count": 12,
     "metadata": {},
     "output_type": "execute_result"
    }
   ],
   "source": [
    "usc42textorig.count('<section')"
   ]
  },
  {
   "cell_type": "code",
   "execution_count": 13,
   "metadata": {},
   "outputs": [
    {
     "data": {
      "text/plain": [
       "704"
      ]
     },
     "execution_count": 13,
     "metadata": {},
     "output_type": "execute_result"
    }
   ],
   "source": [
    "usc42textorig.count('status=\"repealed\"')"
   ]
  },
  {
   "cell_type": "code",
   "execution_count": 14,
   "metadata": {},
   "outputs": [
    {
     "data": {
      "text/plain": [
       "{None: 'http://xml.house.gov/schemas/uslm/1.0',\n",
       " 'xsi': 'http://www.w3.org/2001/XMLSchema-instance',\n",
       " 'dc': 'http://purl.org/dc/elements/1.1/',\n",
       " 'dcterms': 'http://purl.org/dc/terms/'}"
      ]
     },
     "execution_count": 14,
     "metadata": {},
     "output_type": "execute_result"
    }
   ],
   "source": [
    "usc42root.nsmap"
   ]
  },
  {
   "cell_type": "code",
   "execution_count": 15,
   "metadata": {},
   "outputs": [],
   "source": [
    "default_schema = usc42root.nsmap[None]\n",
    "sections = usc42tree.findall(f'.//{{{default_schema}}}section')"
   ]
  },
  {
   "cell_type": "code",
   "execution_count": 16,
   "metadata": {},
   "outputs": [
    {
     "data": {
      "text/plain": [
       "8761"
      ]
     },
     "execution_count": 16,
     "metadata": {},
     "output_type": "execute_result"
    }
   ],
   "source": [
    "len(sections)"
   ]
  },
  {
   "cell_type": "code",
   "execution_count": 17,
   "metadata": {},
   "outputs": [],
   "source": [
    "def count_tokens_xml(element):\n",
    "    \"\"\"Count the tokens in an XML element (node or whole tree).\"\"\"\n",
    "    text = ET.tostring(element, encoding='unicode')\n",
    "    return embed.count_tokens(text)"
   ]
  },
  {
   "cell_type": "code",
   "execution_count": 18,
   "metadata": {},
   "outputs": [],
   "source": [
    "#sum(1 for section in sections if count_tokens_xml(section) > 8191)"
   ]
  },
  {
   "cell_type": "code",
   "execution_count": 19,
   "metadata": {},
   "outputs": [],
   "source": [
    "def is_repealed(element): \n",
    "    return element.attrib.get('status') == 'repealed'"
   ]
  },
  {
   "cell_type": "code",
   "execution_count": 20,
   "metadata": {},
   "outputs": [
    {
     "data": {
      "text/plain": [
       "699"
      ]
     },
     "execution_count": 20,
     "metadata": {},
     "output_type": "execute_result"
    }
   ],
   "source": [
    "sum(1 for section in sections if is_repealed(section))"
   ]
  },
  {
   "cell_type": "code",
   "execution_count": 21,
   "metadata": {},
   "outputs": [
    {
     "data": {
      "text/plain": [
       "704"
      ]
     },
     "execution_count": 21,
     "metadata": {},
     "output_type": "execute_result"
    }
   ],
   "source": [
    "sum(1 for element in usc42tree.iter() if is_repealed(element))"
   ]
  },
  {
   "cell_type": "code",
   "execution_count": 22,
   "metadata": {},
   "outputs": [],
   "source": [
    "repealed_sections = {section for section in sections if is_repealed(section)}"
   ]
  },
  {
   "cell_type": "code",
   "execution_count": 23,
   "metadata": {},
   "outputs": [],
   "source": [
    "repealed_elements = {element for element in usc42tree.iter() if is_repealed(element)}"
   ]
  },
  {
   "cell_type": "code",
   "execution_count": 24,
   "metadata": {},
   "outputs": [
    {
     "data": {
      "text/plain": [
       "True"
      ]
     },
     "execution_count": 24,
     "metadata": {},
     "output_type": "execute_result"
    }
   ],
   "source": [
    "repealed_sections.issubset(repealed_elements)"
   ]
  },
  {
   "cell_type": "code",
   "execution_count": 25,
   "metadata": {},
   "outputs": [
    {
     "data": {
      "text/plain": [
       "5"
      ]
     },
     "execution_count": 25,
     "metadata": {},
     "output_type": "execute_result"
    }
   ],
   "source": [
    "repealed_non_sections = repealed_elements - repealed_sections\n",
    "len(repealed_non_sections)"
   ]
  },
  {
   "cell_type": "code",
   "execution_count": 26,
   "metadata": {},
   "outputs": [
    {
     "data": {
      "text/plain": [
       "{<Element {http://xml.house.gov/schemas/uslm/1.0}subsection at 0x7f65b7e48800>,\n",
       " <Element {http://xml.house.gov/schemas/uslm/1.0}subsection at 0x7f65b8738040>,\n",
       " <Element {http://xml.house.gov/schemas/uslm/1.0}subsection at 0x7f65b87386c0>,\n",
       " <Element {http://xml.house.gov/schemas/uslm/1.0}subsection at 0x7f65b9650700>,\n",
       " <Element {http://xml.house.gov/schemas/uslm/1.0}subsection at 0x7f65fa2afc40>}"
      ]
     },
     "execution_count": 26,
     "metadata": {},
     "output_type": "execute_result"
    }
   ],
   "source": [
    "repealed_non_sections"
   ]
  },
  {
   "cell_type": "code",
   "execution_count": 27,
   "metadata": {},
   "outputs": [
    {
     "name": "stdout",
     "output_type": "stream",
     "text": [
      "<subsection xmlns=\"http://xml.house.gov/schemas/uslm/1.0\" xmlns:xsi=\"http://www.w3.org/2001/XMLSchema-instance\" xmlns:dc=\"http://purl.org/dc/elements/1.1/\" xmlns:dcterms=\"http://purl.org/dc/terms/\" style=\"-uslm-lc:I21\" class=\"indent0\" status=\"repealed\"><num value=\"d\">“[(d)</num><content> Repealed. <ref href=\"/us/pl/109/482/tI/s104/b/3/E\">Pub. L. 109–482, title I, § 104(b)(3)(E)</ref>, <date date=\"2007-01-15\">Jan. 15, 2007</date>, <ref href=\"/us/stat/120/3694\">120 Stat. 3694</ref>.]</content>\n",
      "</subsection>\n",
      "\n"
     ]
    }
   ],
   "source": [
    "print(ET.tostring(next(iter(repealed_non_sections)), encoding='unicode'))"
   ]
  },
  {
   "cell_type": "code",
   "execution_count": 28,
   "metadata": {},
   "outputs": [],
   "source": [
    "def drop_attributes(element):\n",
    "    dup = deepcopy(element)\n",
    "    for subelement in dup.iter():\n",
    "        subelement.attrib.clear()\n",
    "    return ET.tostring(dup, encoding='unicode')"
   ]
  },
  {
   "cell_type": "code",
   "execution_count": 29,
   "metadata": {},
   "outputs": [],
   "source": [
    "cleaned_copied = [drop_attributes(section) for section in sections]"
   ]
  },
  {
   "cell_type": "code",
   "execution_count": 30,
   "metadata": {},
   "outputs": [],
   "source": [
    "def count_tokens_xml_clean(element): \n",
    "    \"\"\"Count the tokens in an XML element (node or whole tree).\"\"\"\n",
    "    cleaned = drop_attributes(element)\n",
    "    return embed.count_tokens(cleaned)"
   ]
  },
  {
   "cell_type": "code",
   "execution_count": 31,
   "metadata": {},
   "outputs": [
    {
     "data": {
      "text/plain": [
       "356"
      ]
     },
     "execution_count": 31,
     "metadata": {},
     "output_type": "execute_result"
    }
   ],
   "source": [
    "sum(1 for section in sections if count_tokens_xml_clean(section) > 8191)"
   ]
  },
  {
   "cell_type": "code",
   "execution_count": 32,
   "metadata": {},
   "outputs": [],
   "source": [
    "too_long_count = [count for section in sections if (count := count_tokens_xml_clean(section)) > 8191]"
   ]
  },
  {
   "cell_type": "code",
   "execution_count": 33,
   "metadata": {},
   "outputs": [
    {
     "data": {
      "text/plain": [
       "356"
      ]
     },
     "execution_count": 33,
     "metadata": {},
     "output_type": "execute_result"
    }
   ],
   "source": [
    "len(too_long_count)"
   ]
  },
  {
   "cell_type": "code",
   "execution_count": 34,
   "metadata": {},
   "outputs": [
    {
     "data": {
      "text/plain": [
       "[8194,\n",
       " 8211,\n",
       " 8229,\n",
       " 8231,\n",
       " 8237,\n",
       " 8258,\n",
       " 8304,\n",
       " 8313,\n",
       " 8326,\n",
       " 8331,\n",
       " 8339,\n",
       " 8357,\n",
       " 8382,\n",
       " 8384,\n",
       " 8390,\n",
       " 8417,\n",
       " 8431,\n",
       " 8432,\n",
       " 8437,\n",
       " 8439,\n",
       " 8471,\n",
       " 8486,\n",
       " 8490,\n",
       " 8500,\n",
       " 8512,\n",
       " 8524,\n",
       " 8537,\n",
       " 8566,\n",
       " 8566,\n",
       " 8575,\n",
       " 8585,\n",
       " 8597,\n",
       " 8598,\n",
       " 8620,\n",
       " 8639,\n",
       " 8643,\n",
       " 8679,\n",
       " 8684,\n",
       " 8734,\n",
       " 8741,\n",
       " 8755,\n",
       " 8761,\n",
       " 8783,\n",
       " 8801,\n",
       " 8848,\n",
       " 8851,\n",
       " 8890,\n",
       " 8899,\n",
       " 8900,\n",
       " 8950,\n",
       " 8961,\n",
       " 8998,\n",
       " 9013,\n",
       " 9015,\n",
       " 9033,\n",
       " 9045,\n",
       " 9060,\n",
       " 9069,\n",
       " 9088,\n",
       " 9098,\n",
       " 9151,\n",
       " 9163,\n",
       " 9165,\n",
       " 9170,\n",
       " 9184,\n",
       " 9238,\n",
       " 9268,\n",
       " 9269,\n",
       " 9279,\n",
       " 9295,\n",
       " 9327,\n",
       " 9358,\n",
       " 9369,\n",
       " 9374,\n",
       " 9380,\n",
       " 9450,\n",
       " 9459,\n",
       " 9459,\n",
       " 9468,\n",
       " 9509,\n",
       " 9509,\n",
       " 9526,\n",
       " 9544,\n",
       " 9544,\n",
       " 9570,\n",
       " 9632,\n",
       " 9682,\n",
       " 9686,\n",
       " 9721,\n",
       " 9737,\n",
       " 9772,\n",
       " 9855,\n",
       " 9878,\n",
       " 9879,\n",
       " 9912,\n",
       " 9934,\n",
       " 9966,\n",
       " 10025,\n",
       " 10035,\n",
       " 10043,\n",
       " 10093,\n",
       " 10101,\n",
       " 10170,\n",
       " 10226,\n",
       " 10239,\n",
       " 10270,\n",
       " 10288,\n",
       " 10315,\n",
       " 10340,\n",
       " 10342,\n",
       " 10358,\n",
       " 10373,\n",
       " 10376,\n",
       " 10390,\n",
       " 10430,\n",
       " 10543,\n",
       " 10545,\n",
       " 10583,\n",
       " 10630,\n",
       " 10642,\n",
       " 10649,\n",
       " 10657,\n",
       " 10669,\n",
       " 10684,\n",
       " 10714,\n",
       " 10730,\n",
       " 10741,\n",
       " 10768,\n",
       " 10783,\n",
       " 10807,\n",
       " 10817,\n",
       " 10821,\n",
       " 10827,\n",
       " 10853,\n",
       " 10861,\n",
       " 10893,\n",
       " 10928,\n",
       " 10979,\n",
       " 10996,\n",
       " 11011,\n",
       " 11017,\n",
       " 11038,\n",
       " 11082,\n",
       " 11104,\n",
       " 11112,\n",
       " 11114,\n",
       " 11137,\n",
       " 11161,\n",
       " 11209,\n",
       " 11266,\n",
       " 11329,\n",
       " 11349,\n",
       " 11350,\n",
       " 11468,\n",
       " 11474,\n",
       " 11491,\n",
       " 11685,\n",
       " 11747,\n",
       " 11769,\n",
       " 11815,\n",
       " 11834,\n",
       " 11915,\n",
       " 11930,\n",
       " 11981,\n",
       " 12029,\n",
       " 12066,\n",
       " 12093,\n",
       " 12149,\n",
       " 12213,\n",
       " 12259,\n",
       " 12262,\n",
       " 12361,\n",
       " 12467,\n",
       " 12561,\n",
       " 12632,\n",
       " 12637,\n",
       " 12735,\n",
       " 12759,\n",
       " 12771,\n",
       " 12896,\n",
       " 13042,\n",
       " 13178,\n",
       " 13230,\n",
       " 13307,\n",
       " 13315,\n",
       " 13356,\n",
       " 13404,\n",
       " 13448,\n",
       " 13460,\n",
       " 13520,\n",
       " 13577,\n",
       " 13605,\n",
       " 13624,\n",
       " 13656,\n",
       " 13656,\n",
       " 13954,\n",
       " 13985,\n",
       " 14021,\n",
       " 14069,\n",
       " 14096,\n",
       " 14157,\n",
       " 14191,\n",
       " 14207,\n",
       " 14237,\n",
       " 14254,\n",
       " 14387,\n",
       " 14396,\n",
       " 14426,\n",
       " 14454,\n",
       " 14559,\n",
       " 14684,\n",
       " 14691,\n",
       " 14781,\n",
       " 14814,\n",
       " 14825,\n",
       " 14854,\n",
       " 14919,\n",
       " 14973,\n",
       " 14991,\n",
       " 15022,\n",
       " 15158,\n",
       " 15215,\n",
       " 15263,\n",
       " 15397,\n",
       " 15657,\n",
       " 15676,\n",
       " 15697,\n",
       " 15792,\n",
       " 15807,\n",
       " 16092,\n",
       " 16103,\n",
       " 16199,\n",
       " 16313,\n",
       " 16330,\n",
       " 16475,\n",
       " 16660,\n",
       " 16716,\n",
       " 16936,\n",
       " 16988,\n",
       " 17111,\n",
       " 17146,\n",
       " 17214,\n",
       " 17219,\n",
       " 17400,\n",
       " 17633,\n",
       " 17702,\n",
       " 17725,\n",
       " 17776,\n",
       " 18071,\n",
       " 18160,\n",
       " 18371,\n",
       " 18590,\n",
       " 18955,\n",
       " 18971,\n",
       " 18997,\n",
       " 19199,\n",
       " 19235,\n",
       " 19355,\n",
       " 19435,\n",
       " 19635,\n",
       " 19642,\n",
       " 19663,\n",
       " 19820,\n",
       " 20277,\n",
       " 20334,\n",
       " 20425,\n",
       " 20564,\n",
       " 20696,\n",
       " 20900,\n",
       " 21079,\n",
       " 21102,\n",
       " 21225,\n",
       " 21411,\n",
       " 21667,\n",
       " 22086,\n",
       " 22481,\n",
       " 22563,\n",
       " 22591,\n",
       " 22657,\n",
       " 22863,\n",
       " 22911,\n",
       " 23024,\n",
       " 23177,\n",
       " 23821,\n",
       " 24235,\n",
       " 24473,\n",
       " 24779,\n",
       " 24781,\n",
       " 24882,\n",
       " 24891,\n",
       " 24900,\n",
       " 24948,\n",
       " 24958,\n",
       " 25628,\n",
       " 26595,\n",
       " 26655,\n",
       " 26758,\n",
       " 26774,\n",
       " 27800,\n",
       " 28073,\n",
       " 28160,\n",
       " 28500,\n",
       " 29016,\n",
       " 30224,\n",
       " 30571,\n",
       " 31238,\n",
       " 31284,\n",
       " 33216,\n",
       " 33342,\n",
       " 33452,\n",
       " 33874,\n",
       " 34592,\n",
       " 34769,\n",
       " 35396,\n",
       " 36900,\n",
       " 37195,\n",
       " 38360,\n",
       " 38780,\n",
       " 39037,\n",
       " 39109,\n",
       " 39126,\n",
       " 39698,\n",
       " 40199,\n",
       " 41645,\n",
       " 42694,\n",
       " 42797,\n",
       " 43183,\n",
       " 45435,\n",
       " 45763,\n",
       " 47480,\n",
       " 47864,\n",
       " 49636,\n",
       " 49778,\n",
       " 50928,\n",
       " 51126,\n",
       " 51477,\n",
       " 55797,\n",
       " 57136,\n",
       " 59042,\n",
       " 60577,\n",
       " 63330,\n",
       " 69043,\n",
       " 71108,\n",
       " 73919,\n",
       " 75819,\n",
       " 77986,\n",
       " 103270,\n",
       " 112584,\n",
       " 119511,\n",
       " 131487,\n",
       " 137315,\n",
       " 144683,\n",
       " 151195,\n",
       " 166426,\n",
       " 239778,\n",
       " 274927]"
      ]
     },
     "execution_count": 34,
     "metadata": {},
     "output_type": "execute_result"
    }
   ],
   "source": [
    "sorted(too_long_count)"
   ]
  },
  {
   "cell_type": "code",
   "execution_count": 35,
   "metadata": {},
   "outputs": [],
   "source": [
    "too_long = Counter({section.attrib['identifier']: count for section in sections if (count := count_tokens_xml_clean(section)) > 8191})"
   ]
  },
  {
   "cell_type": "code",
   "execution_count": 36,
   "metadata": {},
   "outputs": [
    {
     "name": "stdout",
     "output_type": "stream",
     "text": [
      "Counter({'/us/usc/t42/s1395ww': 274927,\n",
      "         '/us/usc/t42/s1396a': 239778,\n",
      "         '/us/usc/t42/s1395l': 166426,\n",
      "         '/us/usc/t42/s1395x': 151195,\n",
      "         '/us/usc/t42/s1437f': 144683,\n",
      "         '/us/usc/t42/s402': 137315,\n",
      "         '/us/usc/t42/s1395w–4': 131487,\n",
      "         '/us/usc/t42/s1395m': 119511,\n",
      "         '/us/usc/t42/s1396b': 112584,\n",
      "         '/us/usc/t42/s1395u': 103270,\n",
      "         '/us/usc/t42/s1786': 77986,\n",
      "         '/us/usc/t42/s1396d': 75819,\n",
      "         '/us/usc/t42/s415': 73919,\n",
      "         '/us/usc/t42/s405': 71108,\n",
      "         '/us/usc/t42/s4321': 69043,\n",
      "         '/us/usc/t42/s201': 63330,\n",
      "         '/us/usc/t42/s1383': 60577,\n",
      "         '/us/usc/t42/s1395y': 59042,\n",
      "         '/us/usc/t42/s1395ss': 57136,\n",
      "         '/us/usc/t42/s1395w–23': 55797,\n",
      "         '/us/usc/t42/s1395mm': 51477,\n",
      "         '/us/usc/t42/s6295': 51126,\n",
      "         '/us/usc/t42/s403': 50928,\n",
      "         '/us/usc/t42/s1396r': 49778,\n",
      "         '/us/usc/t42/s5195': 49636,\n",
      "         '/us/usc/t42/s7412': 47864,\n",
      "         '/us/usc/t42/s1395cc': 47480,\n",
      "         '/us/usc/t42/s1396r–8': 45763,\n",
      "         '/us/usc/t42/s2000e': 45435,\n",
      "         '/us/usc/t42/s1395f': 43183,\n",
      "         '/us/usc/t42/s7545': 42797,\n",
      "         '/us/usc/t42/s1766': 42694,\n",
      "         '/us/usc/t42/s1395i–3': 41645,\n",
      "         '/us/usc/t42/s1396n': 40199,\n",
      "         '/us/usc/t42/s401': 39698,\n",
      "         '/us/usc/t42/s1397dd': 39126,\n",
      "         '/us/usc/t42/s410': 39109,\n",
      "         '/us/usc/t42/s1758': 39037,\n",
      "         '/us/usc/t42/s1382': 38780,\n",
      "         '/us/usc/t42/s1395rr': 38360,\n",
      "         '/us/usc/t42/s418': 37195,\n",
      "         '/us/usc/t42/s603': 36900,\n",
      "         '/us/usc/t42/s2210': 35396,\n",
      "         '/us/usc/t42/s1437d': 34769,\n",
      "         '/us/usc/t42/s1396r–4': 34592,\n",
      "         '/us/usc/t42/s416': 33874,\n",
      "         '/us/usc/t42/s1305': 33452,\n",
      "         '/us/usc/t42/s1437a': 33342,\n",
      "         '/us/usc/t42/s671': 33216,\n",
      "         '/us/usc/t42/s254b': 31284,\n",
      "         '/us/usc/t42/s423': 31238,\n",
      "         '/us/usc/t42/s247d–6b': 30571,\n",
      "         '/us/usc/t42/s282': 30224,\n",
      "         '/us/usc/t42/s1395b–1': 29016,\n",
      "         '/us/usc/t42/s247d': 28500,\n",
      "         '/us/usc/t42/s1395w–104': 28160,\n",
      "         '/us/usc/t42/s1395w–21': 28073,\n",
      "         '/us/usc/t42/s1761': 27800,\n",
      "         '/us/usc/t42/s6601': 26774,\n",
      "         '/us/usc/t42/s409': 26758,\n",
      "         '/us/usc/t42/s290aa': 26655,\n",
      "         '/us/usc/t42/s1395yy': 26595,\n",
      "         '/us/usc/t42/s1395w–22': 25628,\n",
      "         '/us/usc/t42/s9604': 24958,\n",
      "         '/us/usc/t42/s666': 24948,\n",
      "         '/us/usc/t42/s7521': 24900,\n",
      "         '/us/usc/t42/s1320a–7a': 24891,\n",
      "         '/us/usc/t42/s1395ff': 24882,\n",
      "         '/us/usc/t42/s654': 24781,\n",
      "         '/us/usc/t42/s1395r': 24779,\n",
      "         '/us/usc/t42/s1397ee': 24473,\n",
      "         '/us/usc/t42/s6201': 24235,\n",
      "         '/us/usc/t42/s1395nn': 23821,\n",
      "         '/us/usc/t42/s9601': 23177,\n",
      "         '/us/usc/t42/s1396p': 23024,\n",
      "         '/us/usc/t42/s1395fff': 22911,\n",
      "         '/us/usc/t42/s1308': 22863,\n",
      "         '/us/usc/t42/s652': 22657,\n",
      "         '/us/usc/t42/s411': 22591,\n",
      "         '/us/usc/t42/s5301': 22563,\n",
      "         '/us/usc/t42/s1472': 22481,\n",
      "         '/us/usc/t42/s5318': 22086,\n",
      "         '/us/usc/t42/s1760': 21667,\n",
      "         '/us/usc/t42/s262': 21411,\n",
      "         '/us/usc/t42/s3027': 21225,\n",
      "         '/us/usc/t42/s1395i': 21102,\n",
      "         '/us/usc/t42/s9835': 21079,\n",
      "         '/us/usc/t42/s3001': 20900,\n",
      "         '/us/usc/t42/s653': 20696,\n",
      "         '/us/usc/t42/s1485': 20564,\n",
      "         '/us/usc/t42/s300j–12': 20425,\n",
      "         '/us/usc/t42/s5306': 20334,\n",
      "         '/us/usc/t42/s3026': 20277,\n",
      "         '/us/usc/t42/s6313': 19820,\n",
      "         '/us/usc/t42/s6291': 19663,\n",
      "         '/us/usc/t42/s3012': 19642,\n",
      "         '/us/usc/t42/s604': 19635,\n",
      "         '/us/usc/t42/s5106a': 19435,\n",
      "         '/us/usc/t42/s233': 19355,\n",
      "         '/us/usc/t42/s1395w–3a': 19235,\n",
      "         '/us/usc/t42/s9607': 19199,\n",
      "         '/us/usc/t42/s8013': 18997,\n",
      "         '/us/usc/t42/s1395w–102': 18971,\n",
      "         '/us/usc/t42/s1437g': 18955,\n",
      "         '/us/usc/t42/s1395i–4': 18590,\n",
      "         '/us/usc/t42/s7704': 18371,\n",
      "         '/us/usc/t42/s503': 18160,\n",
      "         '/us/usc/t42/s1320c–3': 18071,\n",
      "         '/us/usc/t42/s1395w–24': 17776,\n",
      "         '/us/usc/t42/s3501': 17725,\n",
      "         '/us/usc/t42/s1395eee': 17702,\n",
      "         '/us/usc/t42/s1382a': 17633,\n",
      "         '/us/usc/t42/s5304': 17400,\n",
      "         '/us/usc/t42/s1396u–2': 17219,\n",
      "         '/us/usc/t42/s5305': 17214,\n",
      "         '/us/usc/t42/s1395dd': 17146,\n",
      "         '/us/usc/t42/s300gg–111': 17111,\n",
      "         '/us/usc/t42/s622': 16988,\n",
      "         '/us/usc/t42/s677': 16936,\n",
      "         '/us/usc/t42/s3121': 16716,\n",
      "         '/us/usc/t42/s1320d–2': 16660,\n",
      "         '/us/usc/t42/s8253': 16475,\n",
      "         '/us/usc/t42/s263b': 16330,\n",
      "         '/us/usc/t42/s5302': 16313,\n",
      "         '/us/usc/t42/s675': 16199,\n",
      "         '/us/usc/t42/s674': 16103,\n",
      "         '/us/usc/t42/s426': 16092,\n",
      "         '/us/usc/t42/s1320a–7': 15807,\n",
      "         '/us/usc/t42/s1759a': 15792,\n",
      "         '/us/usc/t42/s1382c': 15697,\n",
      "         '/us/usc/t42/s300g–1': 15676,\n",
      "         '/us/usc/t42/s246': 15657,\n",
      "         '/us/usc/t42/s9858c': 15397,\n",
      "         '/us/usc/t42/s3002': 15263,\n",
      "         '/us/usc/t42/s7651c': 15215,\n",
      "         '/us/usc/t42/s1395w–28': 15158,\n",
      "         '/us/usc/t42/s7511a': 15022,\n",
      "         '/us/usc/t42/s1437u': 14991,\n",
      "         '/us/usc/t42/s421': 14973,\n",
      "         '/us/usc/t42/s7410': 14919,\n",
      "         '/us/usc/t42/s1103': 14854,\n",
      "         '/us/usc/t42/s1395kk–1': 14825,\n",
      "         '/us/usc/t42/s417': 14814,\n",
      "         '/us/usc/t42/s1320a–7b': 14781,\n",
      "         '/us/usc/t42/s609': 14691,\n",
      "         '/us/usc/t42/s7675': 14684,\n",
      "         '/us/usc/t42/s300ff–13': 14559,\n",
      "         '/us/usc/t42/s1395w–141': 14454,\n",
      "         '/us/usc/t42/s18001': 14426,\n",
      "         '/us/usc/t42/s1395p': 14396,\n",
      "         '/us/usc/t42/s300ff–28': 14387,\n",
      "         '/us/usc/t42/s1395n': 14254,\n",
      "         '/us/usc/t42/s247d–7e': 14237,\n",
      "         '/us/usc/t42/s6924': 14207,\n",
      "         '/us/usc/t42/s1382b': 14191,\n",
      "         '/us/usc/t42/s1395w–3': 14157,\n",
      "         '/us/usc/t42/s300g–3': 14096,\n",
      "         '/us/usc/t42/s241': 14069,\n",
      "         '/us/usc/t42/s7403': 14021,\n",
      "         '/us/usc/t42/s300gg–26': 13985,\n",
      "         '/us/usc/t42/s3535': 13954,\n",
      "         '/us/usc/t42/s1395w–27': 13656,\n",
      "         '/us/usc/t42/s1751': 13656,\n",
      "         '/us/usc/t42/s711': 13624,\n",
      "         '/us/usc/t42/s8624': 13605,\n",
      "         '/us/usc/t42/s8011': 13577,\n",
      "         '/us/usc/t42/s673': 13520,\n",
      "         '/us/usc/t42/s256b': 13460,\n",
      "         '/us/usc/t42/s608': 13448,\n",
      "         '/us/usc/t42/s1437c': 13404,\n",
      "         '/us/usc/t42/s11432': 13356,\n",
      "         '/us/usc/t42/s1395k': 13315,\n",
      "         '/us/usc/t42/s274k': 13307,\n",
      "         '/us/usc/t42/s1382e': 13230,\n",
      "         '/us/usc/t42/s1320b–19': 13178,\n",
      "         '/us/usc/t42/s1769': 13042,\n",
      "         '/us/usc/t42/s1315': 12896,\n",
      "         '/us/usc/t42/s7706': 12771,\n",
      "         '/us/usc/t42/s670': 12759,\n",
      "         '/us/usc/t42/s1301': 12735,\n",
      "         '/us/usc/t42/s655': 12637,\n",
      "         '/us/usc/t42/s10301': 12632,\n",
      "         '/us/usc/t42/s672': 12561,\n",
      "         '/us/usc/t42/s1395d': 12467,\n",
      "         '/us/usc/t42/s1395w–114': 12361,\n",
      "         '/us/usc/t42/s1436a': 12262,\n",
      "         '/us/usc/t42/s303': 12259,\n",
      "         '/us/usc/t42/s247d–3a': 12213,\n",
      "         '/us/usc/t42/s1396r–5': 12149,\n",
      "         '/us/usc/t42/s4012a': 12093,\n",
      "         '/us/usc/t42/s262a': 12066,\n",
      "         '/us/usc/t42/s300cc–1': 12029,\n",
      "         '/us/usc/t42/s1776': 11981,\n",
      "         '/us/usc/t42/s2201': 11930,\n",
      "         '/us/usc/t42/s658a': 11915,\n",
      "         '/us/usc/t42/s290b': 11834,\n",
      "         '/us/usc/t42/s1395ddd': 11815,\n",
      "         '/us/usc/t42/s701': 11769,\n",
      "         '/us/usc/t42/s247b': 11747,\n",
      "         '/us/usc/t42/s9837': 11685,\n",
      "         '/us/usc/t42/s1395h': 11491,\n",
      "         '/us/usc/t42/s12572': 11474,\n",
      "         '/us/usc/t42/s9620': 11468,\n",
      "         '/us/usc/t42/s9836a': 11350,\n",
      "         '/us/usc/t42/s5106': 11349,\n",
      "         '/us/usc/t42/s1396r–6': 11329,\n",
      "         '/us/usc/t42/s2000e–4': 11266,\n",
      "         '/us/usc/t42/s9836': 11209,\n",
      "         '/us/usc/t42/s1437': 11161,\n",
      "         '/us/usc/t42/s5172': 11137,\n",
      "         '/us/usc/t42/s430': 11114,\n",
      "         '/us/usc/t42/s1437n': 11112,\n",
      "         '/us/usc/t42/s3058g': 11104,\n",
      "         '/us/usc/t42/s290bb–25': 11082,\n",
      "         '/us/usc/t42/s18031': 11038,\n",
      "         '/us/usc/t42/s1396': 11017,\n",
      "         '/us/usc/t42/s673b': 11011,\n",
      "         '/us/usc/t42/s3013': 10996,\n",
      "         '/us/usc/t42/s12501': 10979,\n",
      "         '/us/usc/t42/s4953': 10928,\n",
      "         '/us/usc/t42/s406': 10893,\n",
      "         '/us/usc/t42/s247d–6d': 10861,\n",
      "         '/us/usc/t42/s1396o': 10853,\n",
      "         '/us/usc/t42/s1396t': 10827,\n",
      "         '/us/usc/t42/s247d–4': 10821,\n",
      "         '/us/usc/t42/s6991b': 10817,\n",
      "         '/us/usc/t42/s629g': 10807,\n",
      "         '/us/usc/t42/s413': 10783,\n",
      "         '/us/usc/t42/s300u': 10768,\n",
      "         '/us/usc/t42/s2153': 10741,\n",
      "         '/us/usc/t42/s1788': 10730,\n",
      "         '/us/usc/t42/s3056': 10714,\n",
      "         '/us/usc/t42/s1320e': 10684,\n",
      "         '/us/usc/t42/s3374': 10669,\n",
      "         '/us/usc/t42/s5841': 10657,\n",
      "         '/us/usc/t42/s5105': 10649,\n",
      "         '/us/usc/t42/s1395w–101': 10642,\n",
      "         '/us/usc/t42/s263a': 10630,\n",
      "         '/us/usc/t42/s19281': 10583,\n",
      "         '/us/usc/t42/s1320b–7': 10545,\n",
      "         '/us/usc/t42/s1437v': 10543,\n",
      "         '/us/usc/t42/s9611': 10430,\n",
      "         '/us/usc/t42/s1395aa': 10390,\n",
      "         '/us/usc/t42/s1396u–4': 10376,\n",
      "         '/us/usc/t42/s1862': 10373,\n",
      "         '/us/usc/t42/s9844': 10358,\n",
      "         '/us/usc/t42/s242k': 10342,\n",
      "         '/us/usc/t42/s6294': 10340,\n",
      "         '/us/usc/t42/s9660': 10315,\n",
      "         '/us/usc/t42/s1773': 10288,\n",
      "         '/us/usc/t42/s1395i–2': 10270,\n",
      "         '/us/usc/t42/s3608': 10239,\n",
      "         '/us/usc/t42/s1320f–1': 10226,\n",
      "         '/us/usc/t42/s1586': 10170,\n",
      "         '/us/usc/t42/s1395lll': 10101,\n",
      "         '/us/usc/t42/s254c': 10093,\n",
      "         '/us/usc/t42/s602': 10043,\n",
      "         '/us/usc/t42/s7607': 10035,\n",
      "         '/us/usc/t42/s1395aaa': 10025,\n",
      "         '/us/usc/t42/s15907': 9966,\n",
      "         '/us/usc/t42/s18644': 9934,\n",
      "         '/us/usc/t42/s1395bbb': 9912,\n",
      "         '/us/usc/t42/s300e': 9879,\n",
      "         '/us/usc/t42/s300j–19a': 9878,\n",
      "         '/us/usc/t42/s607': 9855,\n",
      "         '/us/usc/t42/s5174': 9772,\n",
      "         '/us/usc/t42/s1320b–9a': 9737,\n",
      "         '/us/usc/t42/s1437c–1': 9721,\n",
      "         '/us/usc/t42/s1862i': 9686,\n",
      "         '/us/usc/t42/s242m': 9682,\n",
      "         '/us/usc/t42/s4014': 9632,\n",
      "         '/us/usc/t42/s1483': 9570,\n",
      "         '/us/usc/t42/s290bb–1': 9544,\n",
      "         '/us/usc/t42/s12651': 9544,\n",
      "         '/us/usc/t42/s7401': 9526,\n",
      "         '/us/usc/t42/s1755': 9509,\n",
      "         '/us/usc/t42/s1862n': 9509,\n",
      "         '/us/usc/t42/s7411': 9468,\n",
      "         '/us/usc/t42/s657': 9459,\n",
      "         '/us/usc/t42/s2121': 9459,\n",
      "         '/us/usc/t42/s294q': 9450,\n",
      "         '/us/usc/t42/s7413': 9380,\n",
      "         '/us/usc/t42/s19131': 9374,\n",
      "         '/us/usc/t42/s1395g': 9369,\n",
      "         '/us/usc/t42/s18645': 9358,\n",
      "         '/us/usc/t42/s1396o–1': 9327,\n",
      "         '/us/usc/t42/s17231': 9295,\n",
      "         '/us/usc/t42/s1962d–5b': 9279,\n",
      "         '/us/usc/t42/s5308': 9269,\n",
      "         '/us/usc/t42/s1397cc': 9268,\n",
      "         '/us/usc/t42/s1397gg': 9238,\n",
      "         '/us/usc/t42/s1320a–7l': 9184,\n",
      "         '/us/usc/t42/s2014': 9170,\n",
      "         '/us/usc/t42/s1471': 9165,\n",
      "         '/us/usc/t42/s295f–3': 9163,\n",
      "         '/us/usc/t42/s1101': 9151,\n",
      "         '/us/usc/t42/s254l': 9098,\n",
      "         '/us/usc/t42/s3025': 9088,\n",
      "         '/us/usc/t42/s12511': 9069,\n",
      "         '/us/usc/t42/s1861': 9060,\n",
      "         '/us/usc/t42/s300hh–10': 9045,\n",
      "         '/us/usc/t42/s404': 9033,\n",
      "         '/us/usc/t42/s1439': 9015,\n",
      "         '/us/usc/t42/s1490a': 9013,\n",
      "         '/us/usc/t42/s1962': 8998,\n",
      "         '/us/usc/t42/s2160e': 8961,\n",
      "         '/us/usc/t42/s9622': 8950,\n",
      "         '/us/usc/t42/s1395b–6': 8900,\n",
      "         '/us/usc/t42/s422': 8899,\n",
      "         '/us/usc/t42/s280g–4': 8890,\n",
      "         '/us/usc/t42/s300gg–3': 8851,\n",
      "         '/us/usc/t42/s281': 8848,\n",
      "         '/us/usc/t42/s247d–5': 8801,\n",
      "         '/us/usc/t42/s6240': 8783,\n",
      "         '/us/usc/t42/s254d': 8761,\n",
      "         '/us/usc/t42/s2000ee': 8755,\n",
      "         '/us/usc/t42/s659': 8741,\n",
      "         '/us/usc/t42/s6297': 8734,\n",
      "         '/us/usc/t42/s7407': 8684,\n",
      "         '/us/usc/t42/s629h': 8679,\n",
      "         '/us/usc/t42/s12651d': 8643,\n",
      "         '/us/usc/t42/s713': 8639,\n",
      "         '/us/usc/t42/s5196': 8620,\n",
      "         '/us/usc/t42/s6241': 8598,\n",
      "         '/us/usc/t42/s6311': 8597,\n",
      "         '/us/usc/t42/s5170c': 8585,\n",
      "         '/us/usc/t42/s1395w–115': 8575,\n",
      "         '/us/usc/t42/s297b': 8566,\n",
      "         '/us/usc/t42/s5403': 8566,\n",
      "         '/us/usc/t42/s7651d': 8537,\n",
      "         '/us/usc/t42/s601': 8524,\n",
      "         '/us/usc/t42/s611': 8512,\n",
      "         '/us/usc/t42/s1395w–113': 8500,\n",
      "         '/us/usc/t42/s295h': 8490,\n",
      "         '/us/usc/t42/s6272': 8486,\n",
      "         '/us/usc/t42/s9843': 8471,\n",
      "         '/us/usc/t42/s4370m–2': 8439,\n",
      "         '/us/usc/t42/s290bb–25b': 8437,\n",
      "         '/us/usc/t42/s18741': 8432,\n",
      "         '/us/usc/t42/s4011': 8431,\n",
      "         '/us/usc/t42/s9831': 8417,\n",
      "         '/us/usc/t42/s6925': 8390,\n",
      "         '/us/usc/t42/s11389': 8384,\n",
      "         '/us/usc/t42/s247d–6a': 8382,\n",
      "         '/us/usc/t42/s300': 8357,\n",
      "         '/us/usc/t42/s4370m': 8339,\n",
      "         '/us/usc/t42/s1007': 8331,\n",
      "         '/us/usc/t42/s408': 8326,\n",
      "         '/us/usc/t42/s1395jjj': 8313,\n",
      "         '/us/usc/t42/s290dd–2': 8304,\n",
      "         '/us/usc/t42/s11411': 8258,\n",
      "         '/us/usc/t42/s300ff–12': 8237,\n",
      "         '/us/usc/t42/s1395ll': 8231,\n",
      "         '/us/usc/t42/s210': 8229,\n",
      "         '/us/usc/t42/s1487': 8211,\n",
      "         '/us/usc/t42/s4822': 8194})\n"
     ]
    }
   ],
   "source": [
    "pp(too_long)"
   ]
  },
  {
   "cell_type": "code",
   "execution_count": 37,
   "metadata": {},
   "outputs": [],
   "source": [
    "section1396a = usc42tree.find(f\".//{{{default_schema}}}section[@identifier = '/us/usc/t42/s1396a']\")"
   ]
  },
  {
   "cell_type": "code",
   "execution_count": 38,
   "metadata": {},
   "outputs": [
    {
     "data": {
      "text/plain": [
       "<Element {http://xml.house.gov/schemas/uslm/1.0}section at 0x7f65b7e1e480>"
      ]
     },
     "execution_count": 38,
     "metadata": {},
     "output_type": "execute_result"
    }
   ],
   "source": [
    "section1396a"
   ]
  },
  {
   "cell_type": "code",
   "execution_count": 39,
   "metadata": {},
   "outputs": [
    {
     "data": {
      "text/plain": [
       "239778"
      ]
     },
     "execution_count": 39,
     "metadata": {},
     "output_type": "execute_result"
    }
   ],
   "source": [
    "count_tokens_xml_clean(section1396a)"
   ]
  },
  {
   "cell_type": "code",
   "execution_count": 40,
   "metadata": {},
   "outputs": [
    {
     "data": {
      "text/plain": [
       "[<Element {http://xml.house.gov/schemas/uslm/1.0}num at 0x7f65b873a800>,\n",
       " <Element {http://xml.house.gov/schemas/uslm/1.0}heading at 0x7f65b8738b00>,\n",
       " <Element {http://xml.house.gov/schemas/uslm/1.0}subsection at 0x7f65b8738100>,\n",
       " <Element {http://xml.house.gov/schemas/uslm/1.0}subsection at 0x7f65b873b940>,\n",
       " <Element {http://xml.house.gov/schemas/uslm/1.0}subsection at 0x7f65b8730080>,\n",
       " <Element {http://xml.house.gov/schemas/uslm/1.0}subsection at 0x7f65b87300c0>,\n",
       " <Element {http://xml.house.gov/schemas/uslm/1.0}subsection at 0x7f65b8730280>,\n",
       " <Element {http://xml.house.gov/schemas/uslm/1.0}subsection at 0x7f65b87302c0>,\n",
       " <Element {http://xml.house.gov/schemas/uslm/1.0}subsection at 0x7f65b8730300>,\n",
       " <Element {http://xml.house.gov/schemas/uslm/1.0}subsection at 0x7f65b8730340>,\n",
       " <Element {http://xml.house.gov/schemas/uslm/1.0}subsection at 0x7f65b8730380>,\n",
       " <Element {http://xml.house.gov/schemas/uslm/1.0}subsection at 0x7f65b87303c0>,\n",
       " <Element {http://xml.house.gov/schemas/uslm/1.0}subsection at 0x7f65b8730400>,\n",
       " <Element {http://xml.house.gov/schemas/uslm/1.0}subsection at 0x7f65b8730440>,\n",
       " <Element {http://xml.house.gov/schemas/uslm/1.0}subsection at 0x7f65b8730480>,\n",
       " <Element {http://xml.house.gov/schemas/uslm/1.0}subsection at 0x7f65b87304c0>,\n",
       " <Element {http://xml.house.gov/schemas/uslm/1.0}subsection at 0x7f65b8730500>,\n",
       " <Element {http://xml.house.gov/schemas/uslm/1.0}subsection at 0x7f65b8730540>,\n",
       " <Element {http://xml.house.gov/schemas/uslm/1.0}subsection at 0x7f65b8730580>,\n",
       " <Element {http://xml.house.gov/schemas/uslm/1.0}subsection at 0x7f65b87305c0>,\n",
       " <Element {http://xml.house.gov/schemas/uslm/1.0}subsection at 0x7f65b8730600>,\n",
       " <Element {http://xml.house.gov/schemas/uslm/1.0}subsection at 0x7f65b8730640>,\n",
       " <Element {http://xml.house.gov/schemas/uslm/1.0}subsection at 0x7f65b8730680>,\n",
       " <Element {http://xml.house.gov/schemas/uslm/1.0}subsection at 0x7f65b87306c0>,\n",
       " <Element {http://xml.house.gov/schemas/uslm/1.0}subsection at 0x7f65b8730700>,\n",
       " <Element {http://xml.house.gov/schemas/uslm/1.0}subsection at 0x7f65b8730740>,\n",
       " <Element {http://xml.house.gov/schemas/uslm/1.0}subsection at 0x7f65b8730780>,\n",
       " <Element {http://xml.house.gov/schemas/uslm/1.0}subsection at 0x7f65b87307c0>,\n",
       " <Element {http://xml.house.gov/schemas/uslm/1.0}subsection at 0x7f65b8730800>,\n",
       " <Element {http://xml.house.gov/schemas/uslm/1.0}subsection at 0x7f65b8730840>,\n",
       " <Element {http://xml.house.gov/schemas/uslm/1.0}subsection at 0x7f65b8730880>,\n",
       " <Element {http://xml.house.gov/schemas/uslm/1.0}subsection at 0x7f65b87308c0>,\n",
       " <Element {http://xml.house.gov/schemas/uslm/1.0}subsection at 0x7f65b8730900>,\n",
       " <Element {http://xml.house.gov/schemas/uslm/1.0}subsection at 0x7f65b8730940>,\n",
       " <Element {http://xml.house.gov/schemas/uslm/1.0}subsection at 0x7f65b8730980>,\n",
       " <Element {http://xml.house.gov/schemas/uslm/1.0}subsection at 0x7f65b87309c0>,\n",
       " <Element {http://xml.house.gov/schemas/uslm/1.0}subsection at 0x7f65b8730a00>,\n",
       " <Element {http://xml.house.gov/schemas/uslm/1.0}subsection at 0x7f65b8730a40>,\n",
       " <Element {http://xml.house.gov/schemas/uslm/1.0}subsection at 0x7f65b8730a80>,\n",
       " <Element {http://xml.house.gov/schemas/uslm/1.0}subsection at 0x7f65b8730ac0>,\n",
       " <Element {http://xml.house.gov/schemas/uslm/1.0}subsection at 0x7f65b8730b00>,\n",
       " <Element {http://xml.house.gov/schemas/uslm/1.0}subsection at 0x7f65b8730b40>,\n",
       " <Element {http://xml.house.gov/schemas/uslm/1.0}subsection at 0x7f65b8730b80>,\n",
       " <Element {http://xml.house.gov/schemas/uslm/1.0}subsection at 0x7f65b8730bc0>,\n",
       " <Element {http://xml.house.gov/schemas/uslm/1.0}subsection at 0x7f65b8730c00>,\n",
       " <Element {http://xml.house.gov/schemas/uslm/1.0}subsection at 0x7f65b8730c40>,\n",
       " <Element {http://xml.house.gov/schemas/uslm/1.0}subsection at 0x7f65b8730c80>,\n",
       " <Element {http://xml.house.gov/schemas/uslm/1.0}sourceCredit at 0x7f65b8730cc0>,\n",
       " <Element {http://xml.house.gov/schemas/uslm/1.0}notes at 0x7f65b8730d00>]"
      ]
     },
     "execution_count": 40,
     "metadata": {},
     "output_type": "execute_result"
    }
   ],
   "source": [
    "list(section1396a)"
   ]
  },
  {
   "cell_type": "code",
   "execution_count": 42,
   "metadata": {},
   "outputs": [
    {
     "data": {
      "text/plain": [
       "[<Element {http://xml.house.gov/schemas/uslm/1.0}meta at 0x7f65b8730fc0>,\n",
       " <Element {http://xml.house.gov/schemas/uslm/1.0}main at 0x7f65b7e49980>]"
      ]
     },
     "execution_count": 42,
     "metadata": {},
     "output_type": "execute_result"
    }
   ],
   "source": [
    "list(usc42root)"
   ]
  },
  {
   "cell_type": "code",
   "execution_count": 43,
   "metadata": {},
   "outputs": [
    {
     "data": {
      "text/plain": [
       "'{http://xml.house.gov/schemas/uslm/1.0}section'"
      ]
     },
     "execution_count": 43,
     "metadata": {},
     "output_type": "execute_result"
    }
   ],
   "source": [
    "section1396a.tag"
   ]
  },
  {
   "cell_type": "code",
   "execution_count": 45,
   "metadata": {},
   "outputs": [
    {
     "data": {
      "text/plain": [
       "{'{http://xml.house.gov/schemas/uslm/1.0}heading',\n",
       " '{http://xml.house.gov/schemas/uslm/1.0}notes',\n",
       " '{http://xml.house.gov/schemas/uslm/1.0}num',\n",
       " '{http://xml.house.gov/schemas/uslm/1.0}sourceCredit',\n",
       " '{http://xml.house.gov/schemas/uslm/1.0}subsection'}"
      ]
     },
     "execution_count": 45,
     "metadata": {},
     "output_type": "execute_result"
    }
   ],
   "source": [
    "{child.tag for child in section1396a}"
   ]
  },
  {
   "cell_type": "code",
   "execution_count": 47,
   "metadata": {},
   "outputs": [
    {
     "data": {
      "text/plain": [
       "{'{http://xml.house.gov/schemas/uslm/1.0}chapeau',\n",
       " '{http://xml.house.gov/schemas/uslm/1.0}clause',\n",
       " '{http://xml.house.gov/schemas/uslm/1.0}content',\n",
       " '{http://xml.house.gov/schemas/uslm/1.0}continuation',\n",
       " '{http://xml.house.gov/schemas/uslm/1.0}heading',\n",
       " '{http://xml.house.gov/schemas/uslm/1.0}level',\n",
       " '{http://xml.house.gov/schemas/uslm/1.0}note',\n",
       " '{http://xml.house.gov/schemas/uslm/1.0}notes',\n",
       " '{http://xml.house.gov/schemas/uslm/1.0}num',\n",
       " '{http://xml.house.gov/schemas/uslm/1.0}paragraph',\n",
       " '{http://xml.house.gov/schemas/uslm/1.0}sourceCredit',\n",
       " '{http://xml.house.gov/schemas/uslm/1.0}subparagraph',\n",
       " '{http://xml.house.gov/schemas/uslm/1.0}subsection'}"
      ]
     },
     "execution_count": 47,
     "metadata": {},
     "output_type": "execute_result"
    }
   ],
   "source": [
    "unique_tags = {child.tag for section in sections for child in section}\n",
    "unique_tags"
   ]
  }
 ],
 "metadata": {
  "kernelspec": {
   "display_name": "embeddingscratchwork-aY-6i6sv-py3.11",
   "language": "python",
   "name": "python3"
  },
  "language_info": {
   "codemirror_mode": {
    "name": "ipython",
    "version": 3
   },
   "file_extension": ".py",
   "mimetype": "text/x-python",
   "name": "python",
   "nbconvert_exporter": "python",
   "pygments_lexer": "ipython3",
   "version": "3.11.3"
  },
  "orig_nbformat": 4
 },
 "nbformat": 4,
 "nbformat_minor": 2
}
