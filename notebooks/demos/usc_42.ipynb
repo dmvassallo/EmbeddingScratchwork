{
 "cells": [
  {
   "cell_type": "code",
   "execution_count": 1,
   "metadata": {},
   "outputs": [],
   "source": [
    "from collections import Counter\n",
    "import contextlib\n",
    "from copy import deepcopy\n",
    "import itertools\n",
    "from pathlib import Path\n",
    "from pprint import pp\n",
    "import textwrap\n",
    "import time\n",
    "\n",
    "from IPython.display import display\n",
    "from ipywidgets import Layout, Output\n",
    "from lxml import etree as ET\n",
    "\n",
    "import embed"
   ]
  },
  {
   "cell_type": "code",
   "execution_count": 2,
   "metadata": {},
   "outputs": [],
   "source": [
    "@contextlib.contextmanager\n",
    "def output_box():\n",
    "    \"\"\"Context manager to limit output height, giving a vertical scrollbar.\"\"\"\n",
    "    out = Output(layout=Layout(height='28em'))\n",
    "    display(out)\n",
    "    out.clear_output()\n",
    "    with out:\n",
    "        yield"
   ]
  },
  {
   "cell_type": "code",
   "execution_count": 3,
   "metadata": {},
   "outputs": [],
   "source": [
    "# § 1 - 1j\n",
    "S1 = \"\"\"<section status=\"repealed\" style=\"-uslm-lc:I80\" id=\"idb0fba64f-d970-11ed-a113-e530e1711693\" identifier=\"/us/usc/t42/s1...1j\"><num value=\"1 to 1j\">§§ 1 to 1j.</num><heading> Repealed. <ref href=\"/us/act/1944-07-01/ch373\">July 1, 1944, ch. 373</ref>, title XIII, § 1313, <ref href=\"/us/stat/58/714\">58 Stat. 714</ref></heading><notes type=\"uscNote\" id=\"idb0fba650-d970-11ed-a113-e530e1711693\">\n",
    "<note topic=\"removalDescription\" id=\"idb0fba651-d970-11ed-a113-e530e1711693\">\n",
    "<p style=\"-uslm-lc:I21\" class=\"indent0\">Section 1, acts <ref href=\"/us/act/1902-07-01/ch1370/s1\">July 1, 1902, ch. 1370, § 1</ref>, <ref href=\"/us/stat/32/712\">32 Stat. 712</ref>; <ref href=\"/us/act/1912-08-14/ch288/s1\">Aug. 14, 1912, ch. 288, § 1</ref>, <ref href=\"/us/stat/37/309\">37 Stat. 309</ref>, provided that Public Health and Marine Hospital Service should be known as the Public Health Service. See <ref href=\"/us/usc/t42/s202\">section 202 of this title</ref>.</p>\n",
    "</note>\n",
    "<note topic=\"removalDescription\" id=\"idb0fba652-d970-11ed-a113-e530e1711693\">\n",
    "<p style=\"-uslm-lc:I21\" class=\"indent0\">Section 1a, <ref href=\"/us/act/1943-11-11/ch298/s1\">act Nov. 11, 1943, ch. 298, § 1</ref>, <ref href=\"/us/stat/57/587\">57 Stat. 587</ref>, provided for organization and function of Public Health Service. See <ref href=\"/us/usc/t42/s203\">section 203 of this title</ref>.</p>\n",
    "</note>\n",
    "<note topic=\"removalDescription\" id=\"idb0fba653-d970-11ed-a113-e530e1711693\">\n",
    "<p style=\"-uslm-lc:I21\" class=\"indent0\">Section 1b, <ref href=\"/us/act/1943-11-11/ch298/s2\">act Nov. 11, 1943, ch. 298, § 2</ref>, <ref href=\"/us/stat/57/587\">57 Stat. 587</ref>, provided for appointment of Assistant Surgeons General, their grade, pay, and allowances. See sections 206, 207, and 210 of this title.</p>\n",
    "</note>\n",
    "<note topic=\"removalDescription\" id=\"idb0fba654-d970-11ed-a113-e530e1711693\">\n",
    "<p style=\"-uslm-lc:I21\" class=\"indent0\">Section 1c, <ref href=\"/us/act/1943-11-11/ch298/s3\">act Nov. 11, 1943, ch. 298, § 3</ref>, <ref href=\"/us/stat/57/587\">57 Stat. 587</ref>, provided for chiefs of divisions, their grade, pay and allowances, and creation of a Dental Division and a Sanitary Engineering Division. See sections 206, 207, and 210 of this title.</p>\n",
    "</note>\n",
    "<note topic=\"removalDescription\" id=\"idb0fba655-d970-11ed-a113-e530e1711693\">\n",
    "<p style=\"-uslm-lc:I21\" class=\"indent0\">Section 1d, <ref href=\"/us/act/1943-11-11/ch298/s4\">act Nov. 11, 1943, ch. 298, § 4</ref>, <ref href=\"/us/stat/57/587\">57 Stat. 587</ref>, provided for temporary promotions in regular corps in time of war. See <ref href=\"/us/usc/t42/s211\">section 211 of this title</ref>.</p>\n",
    "</note>\n",
    "<note topic=\"removalDescription\" id=\"idb0fba656-d970-11ed-a113-e530e1711693\">\n",
    "<p style=\"-uslm-lc:I21\" class=\"indent0\">Section 1e, <ref href=\"/us/act/1943-11-11/ch298/s5\">act Nov. 11, 1943, ch. 298, § 5</ref>, <ref href=\"/us/stat/58/588\">58 Stat. 588</ref>, provided for review of record of officers above grade of assistant surgeon and their separation from service. See <ref href=\"/us/usc/t42/s211\">section 211 of this title</ref>.</p>\n",
    "</note>\n",
    "<note topic=\"removalDescription\" id=\"idb0fba657-d970-11ed-a113-e530e1711693\">\n",
    "<p style=\"-uslm-lc:I21\" class=\"indent0\">Section 1f, <ref href=\"/us/act/1943-11-11/ch298/s6\">act Nov. 11, 1943, ch. 298, § 6</ref>, <ref href=\"/us/stat/58/588\">58 Stat. 588</ref>, provided for an acting Surgeon General during absence of Surgeon General and Assistant to Surgeon General. See <ref href=\"/us/usc/t42/s206\">section 206 of this title</ref>.</p>\n",
    "</note>\n",
    "<note topic=\"removalDescription\" id=\"idb0fba658-d970-11ed-a113-e530e1711693\">\n",
    "<p style=\"-uslm-lc:I21\" class=\"indent0\">Section 1g, <ref href=\"/us/act/1943-11-11/ch298/s7\">act Nov. 11, 1943, ch. 298, § 7</ref>, <ref href=\"/us/stat/57/588\">57 Stat. 588</ref>, provided for death and disability benefits of commissioned officers during war and for transfer of Service to military forces. See sections 213 and 217 of this title.</p>\n",
    "</note>\n",
    "<note topic=\"removalDescription\" id=\"idb0fba659-d970-11ed-a113-e530e1711693\">\n",
    "<p style=\"-uslm-lc:I21\" class=\"indent0\">Section 1h, <ref href=\"/us/act/1943-11-11/ch298/s8\">act Nov. 11, 1943, ch. 298, § 8</ref>, <ref href=\"/us/stat/57/589\">57 Stat. 589</ref>, provided for commissioned officers’ benefits as civil officers and employees of United States and election of benefits. See Title 5, Government Organization and Employees.</p>\n",
    "</note>\n",
    "<note topic=\"removalDescription\" id=\"idb0fba65a-d970-11ed-a113-e530e1711693\">\n",
    "<p style=\"-uslm-lc:I21\" class=\"indent0\">Section 1i, <ref href=\"/us/act/1943-11-11/ch298/s9\">act Nov. 11, 1943, ch. 298, § 9</ref>, <ref href=\"/us/stat/57/589\">57 Stat. 589</ref>, provided for beneficiaries’ benefits where commissioned officer lost his life on active duty between <date date=\"1941-12-07\">Dec. 7, 1941</date>, and <date date=\"1943-11-11\">Nov. 11, 1943</date>.</p>\n",
    "</note>\n",
    "<note topic=\"removalDescription\" id=\"idb0fba65b-d970-11ed-a113-e530e1711693\">\n",
    "<p style=\"-uslm-lc:I21\" class=\"indent0\">Section 1j, <ref href=\"/us/act/1943-11-11/ch298/s11\">act Nov. 11, 1943, ch. 298, § 11</ref>, <ref href=\"/us/stat/57/589\">57 Stat. 589</ref>, provided for transfer of appropriations to continue transferred functions. See note set out under <ref href=\"/us/usc/t42/s201\">section 201 of this title</ref>.</p>\n",
    "</note>\n",
    "<note style=\"-uslm-lc:I74\" role=\"crossHeading\" topic=\"statutoryNotes\" id=\"idb0fba65c-d970-11ed-a113-e530e1711693\"><heading class=\"centered\"><b>Statutory Notes and Related Subsidiaries</b></heading></note>\n",
    "<note style=\"-uslm-lc:I74\" topic=\"miscellaneous\" id=\"idb0fba65d-d970-11ed-a113-e530e1711693\"><heading class=\"centered smallCaps\">Renumbering and Repeal of Repealing Act</heading><p style=\"-uslm-lc:I21\" class=\"indent0\">Title XIII, § 1313, formerly title VI, § 611, of act <date date=\"1944-07-01\">July 1, 1944</date>, which repealed these sections, was renumbered title VII, § 711, by <ref href=\"/us/act/1946-08-13/ch958/s5\">act Aug. 13, 1946, ch. 958, § 5</ref>, <ref href=\"/us/stat/60/1049\">60 Stat. 1049</ref>; § 713, by <ref href=\"/us/act/1948-02-28/ch83/s9/b\">act Feb. 28, 1948, ch. 83, § 9(b)</ref>, <ref href=\"/us/stat/62/47\">62 Stat. 47</ref>; title VIII, § 813, by <ref href=\"/us/act/1956-07-30/ch779/s3/b\">act July 30, 1956, ch. 779, § 3(b)</ref>, <ref href=\"/us/stat/70/721\">70 Stat. 721</ref>; title IX, § 913, by <ref href=\"/us/pl/88/581/s4/b\">Pub. L. 88–581, § 4(b)</ref>, <date date=\"1964-09-04\">Sept. 4, 1964</date>, <ref href=\"/us/stat/78/919\">78 Stat. 919</ref>; title X, § 1013, by <ref href=\"/us/pl/89/239/s3/b\">Pub. L. 89–239, § 3(b)</ref>, <date date=\"1965-10-06\">Oct. 6, 1965</date>, <ref href=\"/us/stat/79/931\">79 Stat. 931</ref>; title XI, § 1113, by <ref href=\"/us/pl/91/572/s6/b\">Pub. L. 91–572, § 6(b)</ref>, <date date=\"1970-12-24\">Dec. 24, 1970</date>, <ref href=\"/us/stat/84/1506\">84 Stat. 1506</ref>; title XII, § 1213, by <ref href=\"/us/pl/92/294/s3/b\">Pub. L. 92–294, § 3(b)</ref>, <date date=\"1972-05-16\">May 16, 1972</date>, <ref href=\"/us/stat/86/137\">86 Stat. 137</ref>; title XIII, § 1313, by <ref href=\"/us/pl/93/154/s2/b/2\">Pub. L. 93–154, § 2(b)(2)</ref>, <date date=\"1973-11-16\">Nov. 16, 1973</date>, <ref href=\"/us/stat/87/604\">87 Stat. 604</ref>, and was repealed by <ref href=\"/us/pl/93/222/s7/b\">Pub. L. 93–222, § 7(b)</ref>, <date date=\"1973-12-29\">Dec. 29, 1973</date>, <ref href=\"/us/stat/87/936\">87 Stat. 936</ref>.</p>\n",
    "</note>\n",
    "</notes>\n",
    "</section>\"\"\""
   ]
  },
  {
   "cell_type": "code",
   "execution_count": 4,
   "metadata": {},
   "outputs": [
    {
     "data": {
      "text/plain": [
       "2817"
      ]
     },
     "execution_count": 4,
     "metadata": {},
     "output_type": "execute_result"
    }
   ],
   "source": [
    "embed.count_tokens(S1)"
   ]
  },
  {
   "cell_type": "code",
   "execution_count": 5,
   "metadata": {},
   "outputs": [],
   "source": [
    "# TODO: Parse Title 42, get each section element, count tokens with and without\n",
    "# attributes, experiment with semantic search allowing repealed sections to be\n",
    "# included or omitted from the search."
   ]
  },
  {
   "cell_type": "code",
   "execution_count": 6,
   "metadata": {},
   "outputs": [],
   "source": [
    "data_dir = Path('../../data/')\n",
    "usc_stem = 'xml_uscAll@118-3not328'\n",
    "usc42 = data_dir / usc_stem / 'usc42.xml'"
   ]
  },
  {
   "cell_type": "code",
   "execution_count": 7,
   "metadata": {},
   "outputs": [],
   "source": [
    "usc42textorig = usc42.read_text(encoding='utf-8')"
   ]
  },
  {
   "cell_type": "code",
   "execution_count": 8,
   "metadata": {},
   "outputs": [],
   "source": [
    "# embed.count_tokens(usc42textorig)"
   ]
  },
  {
   "cell_type": "code",
   "execution_count": 9,
   "metadata": {},
   "outputs": [],
   "source": [
    "usc42tree = ET.parse(usc42)"
   ]
  },
  {
   "cell_type": "code",
   "execution_count": 10,
   "metadata": {},
   "outputs": [],
   "source": [
    "usc42root = usc42tree.getroot()"
   ]
  },
  {
   "cell_type": "code",
   "execution_count": 11,
   "metadata": {},
   "outputs": [],
   "source": [
    "usc42text = ET.tostring(usc42root, encoding='unicode')"
   ]
  },
  {
   "cell_type": "code",
   "execution_count": 12,
   "metadata": {},
   "outputs": [
    {
     "data": {
      "text/plain": [
       "8761"
      ]
     },
     "execution_count": 12,
     "metadata": {},
     "output_type": "execute_result"
    }
   ],
   "source": [
    "usc42text.count('<section')"
   ]
  },
  {
   "cell_type": "code",
   "execution_count": 13,
   "metadata": {},
   "outputs": [
    {
     "data": {
      "text/plain": [
       "8761"
      ]
     },
     "execution_count": 13,
     "metadata": {},
     "output_type": "execute_result"
    }
   ],
   "source": [
    "usc42textorig.count('<section')"
   ]
  },
  {
   "cell_type": "code",
   "execution_count": 14,
   "metadata": {},
   "outputs": [
    {
     "data": {
      "text/plain": [
       "704"
      ]
     },
     "execution_count": 14,
     "metadata": {},
     "output_type": "execute_result"
    }
   ],
   "source": [
    "usc42textorig.count('status=\"repealed\"')"
   ]
  },
  {
   "cell_type": "code",
   "execution_count": 15,
   "metadata": {},
   "outputs": [
    {
     "data": {
      "text/plain": [
       "{None: 'http://xml.house.gov/schemas/uslm/1.0',\n",
       " 'xsi': 'http://www.w3.org/2001/XMLSchema-instance',\n",
       " 'dc': 'http://purl.org/dc/elements/1.1/',\n",
       " 'dcterms': 'http://purl.org/dc/terms/'}"
      ]
     },
     "execution_count": 15,
     "metadata": {},
     "output_type": "execute_result"
    }
   ],
   "source": [
    "usc42root.nsmap"
   ]
  },
  {
   "cell_type": "code",
   "execution_count": 16,
   "metadata": {},
   "outputs": [],
   "source": [
    "schema_prefix = f'{{{usc42root.nsmap[None]}}}'\n",
    "section_tag = schema_prefix + 'section'\n",
    "sections = usc42tree.findall(f'.//{section_tag}')"
   ]
  },
  {
   "cell_type": "code",
   "execution_count": 17,
   "metadata": {},
   "outputs": [
    {
     "data": {
      "text/plain": [
       "8761"
      ]
     },
     "execution_count": 17,
     "metadata": {},
     "output_type": "execute_result"
    }
   ],
   "source": [
    "len(sections)"
   ]
  },
  {
   "cell_type": "code",
   "execution_count": 18,
   "metadata": {},
   "outputs": [],
   "source": [
    "def count_tokens_xml(element):\n",
    "    \"\"\"Count the tokens in an XML element (node or whole tree).\"\"\"\n",
    "    text = ET.tostring(element, encoding='unicode')\n",
    "    return embed.count_tokens(text)"
   ]
  },
  {
   "cell_type": "code",
   "execution_count": 19,
   "metadata": {},
   "outputs": [],
   "source": [
    "#sum(1 for section in sections if count_tokens_xml(section) > 8191)"
   ]
  },
  {
   "cell_type": "code",
   "execution_count": 20,
   "metadata": {},
   "outputs": [],
   "source": [
    "def is_repealed(element): \n",
    "    return element.get('status') == 'repealed'"
   ]
  },
  {
   "cell_type": "code",
   "execution_count": 21,
   "metadata": {},
   "outputs": [
    {
     "data": {
      "text/plain": [
       "699"
      ]
     },
     "execution_count": 21,
     "metadata": {},
     "output_type": "execute_result"
    }
   ],
   "source": [
    "sum(1 for section in sections if is_repealed(section))"
   ]
  },
  {
   "cell_type": "code",
   "execution_count": 22,
   "metadata": {},
   "outputs": [
    {
     "data": {
      "text/plain": [
       "704"
      ]
     },
     "execution_count": 22,
     "metadata": {},
     "output_type": "execute_result"
    }
   ],
   "source": [
    "sum(1 for element in usc42tree.iter() if is_repealed(element))"
   ]
  },
  {
   "cell_type": "code",
   "execution_count": 23,
   "metadata": {},
   "outputs": [],
   "source": [
    "repealed_sections = {section for section in sections if is_repealed(section)}"
   ]
  },
  {
   "cell_type": "code",
   "execution_count": 24,
   "metadata": {},
   "outputs": [],
   "source": [
    "repealed_elements = {element for element in usc42tree.iter() if is_repealed(element)}"
   ]
  },
  {
   "cell_type": "code",
   "execution_count": 25,
   "metadata": {},
   "outputs": [
    {
     "data": {
      "text/plain": [
       "True"
      ]
     },
     "execution_count": 25,
     "metadata": {},
     "output_type": "execute_result"
    }
   ],
   "source": [
    "repealed_sections.issubset(repealed_elements)"
   ]
  },
  {
   "cell_type": "code",
   "execution_count": 26,
   "metadata": {},
   "outputs": [
    {
     "data": {
      "text/plain": [
       "5"
      ]
     },
     "execution_count": 26,
     "metadata": {},
     "output_type": "execute_result"
    }
   ],
   "source": [
    "repealed_non_sections = repealed_elements - repealed_sections\n",
    "len(repealed_non_sections)"
   ]
  },
  {
   "cell_type": "code",
   "execution_count": 27,
   "metadata": {},
   "outputs": [
    {
     "data": {
      "text/plain": [
       "{<Element {http://xml.house.gov/schemas/uslm/1.0}subsection at 0x7f5964504f80>,\n",
       " <Element {http://xml.house.gov/schemas/uslm/1.0}subsection at 0x7f596499e940>,\n",
       " <Element {http://xml.house.gov/schemas/uslm/1.0}subsection at 0x7f59649be800>,\n",
       " <Element {http://xml.house.gov/schemas/uslm/1.0}subsection at 0x7f596501ab40>,\n",
       " <Element {http://xml.house.gov/schemas/uslm/1.0}subsection at 0x7f596605ed80>}"
      ]
     },
     "execution_count": 27,
     "metadata": {},
     "output_type": "execute_result"
    }
   ],
   "source": [
    "repealed_non_sections"
   ]
  },
  {
   "cell_type": "code",
   "execution_count": 28,
   "metadata": {},
   "outputs": [
    {
     "name": "stdout",
     "output_type": "stream",
     "text": [
      "<subsection xmlns=\"http://xml.house.gov/schemas/uslm/1.0\" xmlns:xsi=\"http://www.w3.org/2001/XMLSchema-instance\" xmlns:dc=\"http://purl.org/dc/elements/1.1/\" xmlns:dcterms=\"http://purl.org/dc/terms/\" style=\"-uslm-lc:I21\" class=\"indent0\" status=\"repealed\"><num value=\"b\">“[(b)</num><content> Repealed. <ref href=\"/us/pl/109/482/tI/s104/b/3/C\">Pub. L. 109–482, title I, § 104(b)(3)(C)</ref>, <date date=\"2007-01-15\">Jan. 15, 2007</date>, <ref href=\"/us/stat/120/3694\">120 Stat. 3694</ref>.]”</content>\n",
      "</subsection>\n",
      "\n"
     ]
    }
   ],
   "source": [
    "print(ET.tostring(next(iter(repealed_non_sections)), encoding='unicode'))"
   ]
  },
  {
   "cell_type": "code",
   "execution_count": 29,
   "metadata": {},
   "outputs": [],
   "source": [
    "def drop_attributes(element):\n",
    "    dup = deepcopy(element)\n",
    "    for subelement in dup.iter():\n",
    "        subelement.attrib.clear()\n",
    "    return ET.tostring(dup, encoding='unicode')"
   ]
  },
  {
   "cell_type": "code",
   "execution_count": 30,
   "metadata": {},
   "outputs": [],
   "source": [
    "cleaned_copied = [drop_attributes(section) for section in sections]"
   ]
  },
  {
   "cell_type": "code",
   "execution_count": 31,
   "metadata": {},
   "outputs": [],
   "source": [
    "def count_tokens_xml_clean(element): \n",
    "    \"\"\"Count the tokens in an XML element (node or whole tree).\"\"\"\n",
    "    cleaned = drop_attributes(element)\n",
    "    return embed.count_tokens(cleaned)"
   ]
  },
  {
   "cell_type": "code",
   "execution_count": 32,
   "metadata": {},
   "outputs": [
    {
     "data": {
      "text/plain": [
       "356"
      ]
     },
     "execution_count": 32,
     "metadata": {},
     "output_type": "execute_result"
    }
   ],
   "source": [
    "sum(1 for section in sections if count_tokens_xml_clean(section) > 8191)"
   ]
  },
  {
   "cell_type": "code",
   "execution_count": 33,
   "metadata": {},
   "outputs": [],
   "source": [
    "too_long_count = [count for section in sections if (count := count_tokens_xml_clean(section)) > 8191]"
   ]
  },
  {
   "cell_type": "code",
   "execution_count": 34,
   "metadata": {},
   "outputs": [
    {
     "data": {
      "text/plain": [
       "356"
      ]
     },
     "execution_count": 34,
     "metadata": {},
     "output_type": "execute_result"
    }
   ],
   "source": [
    "len(too_long_count)"
   ]
  },
  {
   "cell_type": "code",
   "execution_count": 35,
   "metadata": {},
   "outputs": [
    {
     "data": {
      "application/vnd.jupyter.widget-view+json": {
       "model_id": "3fcd351315a645fb8a89dc091fe21d7e",
       "version_major": 2,
       "version_minor": 0
      },
      "text/plain": [
       "Output(layout=Layout(height='28em'))"
      ]
     },
     "metadata": {},
     "output_type": "display_data"
    }
   ],
   "source": [
    "with output_box():\n",
    "    display(sorted(too_long_count))"
   ]
  },
  {
   "cell_type": "code",
   "execution_count": 36,
   "metadata": {},
   "outputs": [
    {
     "data": {
      "application/vnd.jupyter.widget-view+json": {
       "model_id": "a02d20dbf4284b77b50aa4f17f75ac26",
       "version_major": 2,
       "version_minor": 0
      },
      "text/plain": [
       "Output(layout=Layout(height='28em'))"
      ]
     },
     "metadata": {},
     "output_type": "display_data"
    }
   ],
   "source": [
    "too_long = Counter({\n",
    "    section.attrib['identifier']: count\n",
    "    for section in sections\n",
    "    if (count := count_tokens_xml_clean(section)) > 8191\n",
    "})\n",
    "\n",
    "with output_box():\n",
    "    display(pp(too_long))"
   ]
  },
  {
   "cell_type": "code",
   "execution_count": 37,
   "metadata": {},
   "outputs": [
    {
     "data": {
      "text/plain": [
       "<Element {http://xml.house.gov/schemas/uslm/1.0}section at 0x7f59644dd540>"
      ]
     },
     "execution_count": 37,
     "metadata": {},
     "output_type": "execute_result"
    }
   ],
   "source": [
    "section1396a = usc42tree.find(f\".//{section_tag}[@identifier = '/us/usc/t42/s1396a']\")\n",
    "section1396a"
   ]
  },
  {
   "cell_type": "code",
   "execution_count": 38,
   "metadata": {},
   "outputs": [
    {
     "data": {
      "text/plain": [
       "239778"
      ]
     },
     "execution_count": 38,
     "metadata": {},
     "output_type": "execute_result"
    }
   ],
   "source": [
    "count_tokens_xml_clean(section1396a)"
   ]
  },
  {
   "cell_type": "code",
   "execution_count": 39,
   "metadata": {},
   "outputs": [
    {
     "data": {
      "application/vnd.jupyter.widget-view+json": {
       "model_id": "1154c592938b484d898f6a8ad5b5425f",
       "version_major": 2,
       "version_minor": 0
      },
      "text/plain": [
       "Output(layout=Layout(height='28em'))"
      ]
     },
     "metadata": {},
     "output_type": "display_data"
    }
   ],
   "source": [
    "with output_box():\n",
    "    display(list(section1396a))"
   ]
  },
  {
   "cell_type": "code",
   "execution_count": 40,
   "metadata": {},
   "outputs": [
    {
     "data": {
      "text/plain": [
       "[<Element {http://xml.house.gov/schemas/uslm/1.0}meta at 0x7f596492b140>,\n",
       " <Element {http://xml.house.gov/schemas/uslm/1.0}main at 0x7f596492b040>]"
      ]
     },
     "execution_count": 40,
     "metadata": {},
     "output_type": "execute_result"
    }
   ],
   "source": [
    "list(usc42root)"
   ]
  },
  {
   "cell_type": "code",
   "execution_count": 41,
   "metadata": {},
   "outputs": [
    {
     "data": {
      "text/plain": [
       "'{http://xml.house.gov/schemas/uslm/1.0}section'"
      ]
     },
     "execution_count": 41,
     "metadata": {},
     "output_type": "execute_result"
    }
   ],
   "source": [
    "section1396a.tag"
   ]
  },
  {
   "cell_type": "code",
   "execution_count": 42,
   "metadata": {},
   "outputs": [
    {
     "data": {
      "text/plain": [
       "{'{http://xml.house.gov/schemas/uslm/1.0}heading',\n",
       " '{http://xml.house.gov/schemas/uslm/1.0}notes',\n",
       " '{http://xml.house.gov/schemas/uslm/1.0}num',\n",
       " '{http://xml.house.gov/schemas/uslm/1.0}sourceCredit',\n",
       " '{http://xml.house.gov/schemas/uslm/1.0}subsection'}"
      ]
     },
     "execution_count": 42,
     "metadata": {},
     "output_type": "execute_result"
    }
   ],
   "source": [
    "{child.tag for child in section1396a}"
   ]
  },
  {
   "cell_type": "code",
   "execution_count": 43,
   "metadata": {},
   "outputs": [
    {
     "data": {
      "text/plain": [
       "{'{http://xml.house.gov/schemas/uslm/1.0}chapeau',\n",
       " '{http://xml.house.gov/schemas/uslm/1.0}clause',\n",
       " '{http://xml.house.gov/schemas/uslm/1.0}content',\n",
       " '{http://xml.house.gov/schemas/uslm/1.0}continuation',\n",
       " '{http://xml.house.gov/schemas/uslm/1.0}heading',\n",
       " '{http://xml.house.gov/schemas/uslm/1.0}level',\n",
       " '{http://xml.house.gov/schemas/uslm/1.0}note',\n",
       " '{http://xml.house.gov/schemas/uslm/1.0}notes',\n",
       " '{http://xml.house.gov/schemas/uslm/1.0}num',\n",
       " '{http://xml.house.gov/schemas/uslm/1.0}paragraph',\n",
       " '{http://xml.house.gov/schemas/uslm/1.0}sourceCredit',\n",
       " '{http://xml.house.gov/schemas/uslm/1.0}subparagraph',\n",
       " '{http://xml.house.gov/schemas/uslm/1.0}subsection'}"
      ]
     },
     "execution_count": 43,
     "metadata": {},
     "output_type": "execute_result"
    }
   ],
   "source": [
    "unique_tags = {child.tag for section in sections for child in section}\n",
    "unique_tags"
   ]
  },
  {
   "cell_type": "code",
   "execution_count": 44,
   "metadata": {},
   "outputs": [
    {
     "data": {
      "application/vnd.jupyter.widget-view+json": {
       "model_id": "771b31f858e54bd6b59d84b9b73cfe8e",
       "version_major": 2,
       "version_minor": 0
      },
      "text/plain": [
       "Output(layout=Layout(height='28em'))"
      ]
     },
     "metadata": {},
     "output_type": "display_data"
    }
   ],
   "source": [
    "direct_subparagraphs = [child.get('identifier') for section in sections for child in section if child.tag.endswith('}subparagraph')]\n",
    "\n",
    "with output_box():\n",
    "    display(direct_subparagraphs)"
   ]
  },
  {
   "cell_type": "code",
   "execution_count": 45,
   "metadata": {},
   "outputs": [
    {
     "data": {
      "text/plain": [
       "38"
      ]
     },
     "execution_count": 45,
     "metadata": {},
     "output_type": "execute_result"
    }
   ],
   "source": [
    "len(direct_subparagraphs)"
   ]
  },
  {
   "cell_type": "code",
   "execution_count": 46,
   "metadata": {},
   "outputs": [
    {
     "data": {
      "application/vnd.jupyter.widget-view+json": {
       "model_id": "54741e7f6dff46059f2689ba1b1ec0a3",
       "version_major": 2,
       "version_minor": 0
      },
      "text/plain": [
       "Output(layout=Layout(height='28em'))"
      ]
     },
     "metadata": {},
     "output_type": "display_data"
    }
   ],
   "source": [
    "no_id = [section for section in sections if section.get('identifier') is None]\n",
    "\n",
    "with output_box():\n",
    "    display(no_id)"
   ]
  },
  {
   "cell_type": "code",
   "execution_count": 47,
   "metadata": {},
   "outputs": [
    {
     "data": {
      "text/plain": [
       "1005"
      ]
     },
     "execution_count": 47,
     "metadata": {},
     "output_type": "execute_result"
    }
   ],
   "source": [
    "count_tokens_xml(no_id[0])"
   ]
  },
  {
   "cell_type": "code",
   "execution_count": 48,
   "metadata": {},
   "outputs": [
    {
     "name": "stdout",
     "output_type": "stream",
     "text": [
      "<section xmlns=\"http://xml.house.gov/schemas/uslm/1.0\" xmlns:xsi=\"http://www.w3.org/2001/XMLSchema-instance\"\n",
      "xmlns:dc=\"http://purl.org/dc/elements/1.1/\" xmlns:dcterms=\"http://purl.org/dc/terms/\" style=\"-uslm-lc:I00\" class=\"inline\"><num\n",
      "value=\"\"/><chapeau>“In the case of any individual—</chapeau><subparagraph style=\"-uslm-lc:I22\" class=\"indent1\"><num\n",
      "value=\"A\">“(A)</num><content> who performed active service (i) as a commissioned officer of the Public Health Service at any time during the\n",
      "period beginning <date date=\"1952-07-04\">July 4, 1952</date>, and ending <date date=\"1956-12-31\">December 31, 1956</date>, or (ii) as a\n",
      "commissioned officer of the Coast and Geodetic Survey at any time during the period beginning <date date=\"1945-07-29\">July 29, 1945</date>,\n",
      "and ending <date date=\"1956-12-31\">December 31, 1956</date>; and</content> </subparagraph> <subparagraph style=\"-uslm-lc:I22\"\n",
      "class=\"indent1\"><num value=\"B\">“(B)</num><clause style=\"-uslm-lc:I22\" class=\"indent1\"><num value=\"i\">(i)</num><content> who became entitled\n",
      "to old-age insurance benefits under section 202(a) of the Social Security Act [<ref href=\"/us/usc/t42/s402/a\">42 U.S.C. 402(a)</ref>] prior\n",
      "to <date date=\"1957-01-01\">January 1, 1957</date>, or</content> </clause> <clause style=\"-uslm-lc:I22\" class=\"indent1\"><num\n",
      "value=\"ii\">“(ii)</num><content> who died prior to <date date=\"1957-01-01\">January 1, 1957</date>, and whose widow, child, or parent is\n",
      "entitled for the month of January 1957, on the basis of his wages and self-employment income, to a monthly survivor’s benefit under section\n",
      "202 of such act [<ref href=\"/us/usc/t42/s402\">42 U.S.C. 402</ref>]; and</content> </clause> </subparagraph> <subparagraph style=\"-uslm-\n",
      "lc:I22\" class=\"indent1\"><num value=\"C\">“(C)</num><content> any part of whose service described in subparagraph (A) was not included in the\n",
      "computation of his primary insurance amount under section 215 of such act [<ref href=\"/us/usc/t42/s415\">42 U.S.C. 415</ref>] but would have\n",
      "been included in such computation if the amendment made by paragraph (1) of this subsection or paragraph (1) of subsection (d) had been\n",
      "effective prior to the date of such computation,</content> </subparagraph>  <continuation style=\"-uslm-lc:I33\" class=\"indent0\n",
      "firstIndent0\">the Secretary of Health, Education, and Welfare [now Health and Human Services] shall, notwithstanding the provisions of\n",
      "section 215(f)(1) of the Social Security Act [<ref href=\"/us/usc/t42/s415/f/1\">42 U.S.C. 415(f)(1)</ref>], recompute the primary insurance\n",
      "amount of such individual upon the filing of an application, after December 1956, by him or (if he dies without filing such an application)\n",
      "by any person entitled to monthly survivor’s benefits under section 202 of such act [<ref href=\"/us/usc/t42/s402\">42 U.S.C. 402</ref>] on\n",
      "the basis of his wages and self-employment income. Such recomputation shall be made only in the manner, provided in title II of the Social\n",
      "Security Act [<ref href=\"/us/usc/t42/s401\">42 U.S.C. 401</ref> et seq.] as in effect at the time of the last previous computation or\n",
      "recomputation of such individual’s primary insurance amount, and as though application therefor was filed in the month in which application\n",
      "for such last previous computation or recomputation was filed. No recomputation made under this paragraph shall be regarded as a\n",
      "recomputation under section 215(f) of the Social Security Act [<ref href=\"/us/usc/t42/s415/f\">42 U.S.C. 415(f)</ref>]. Any such\n",
      "recomputation shall be effective for and after the twelfth month before the month in which the application was filed, but in no case for any\n",
      "month before January 1957.”</continuation> </section>\n"
     ]
    }
   ],
   "source": [
    "no_id_first_text = ET.tostring(no_id[0], encoding='unicode')\n",
    "print('\\n'.join(textwrap.wrap(no_id_first_text, width=140)))"
   ]
  },
  {
   "cell_type": "code",
   "execution_count": 49,
   "metadata": {},
   "outputs": [
    {
     "name": "stdout",
     "output_type": "stream",
     "text": [
      "<section xmlns=\"http://xml.house.gov/schemas/uslm/1.0\" xmlns:xsi=\"http://www.w3.org/2001/XMLSchema-instance\"\n",
      "xmlns:dc=\"http://purl.org/dc/elements/1.1/\" xmlns:dcterms=\"http://purl.org/dc/terms/\" style=\"-uslm-lc:I580467\"><num value=\"5\">“SEC.\n",
      "5.</num><heading> AUTHORIZATION OF APPROPRIATIONS.</heading><chapeau style=\"-uslm-lc:I21\" class=\"indent0\">“There are authorized to be\n",
      "appropriated—</chapeau><paragraph style=\"-uslm-lc:I22\" class=\"indent1\"><num value=\"1\">“(1)</num><content> for grants, contracts, or\n",
      "cooperative agreements under section 3(a), such sums as may be necessary for fiscal year 2017 and each of the 4 succeeding fiscal\n",
      "years;</content> </paragraph> <paragraph style=\"-uslm-lc:I22\" class=\"indent1\"><num value=\"2\">“(2)</num><content> for grants, contracts, or\n",
      "cooperative agreements under section 3(b), such sums as may be necessary for fiscal year 2017 and each of the 4 succeeding fiscal years;\n",
      "and</content> </paragraph> <paragraph style=\"-uslm-lc:I22\" class=\"indent1\"><num value=\"3\">“(3)</num><content> for grants, contracts, or\n",
      "cooperative agreements under section 3(c), such sums as may be necessary for fiscal year 2017 and each of the 4 succeeding fiscal\n",
      "years.”</content> </paragraph> </section>\n"
     ]
    }
   ],
   "source": [
    "no_id_last_text = ET.tostring(no_id[-1], encoding='unicode')\n",
    "print('\\n'.join(textwrap.wrap(no_id_last_text, width=140)))"
   ]
  },
  {
   "cell_type": "code",
   "execution_count": 50,
   "metadata": {},
   "outputs": [],
   "source": [
    "# This fails with:\n",
    "#     SyntaxError: prefix 'ancestor' not found in prefix map\n",
    "\n",
    "# direct_sections = usc42root.findall(f'{schema_prefix}title//{section_tag}[not(ancestor::{section_tag})]')"
   ]
  },
  {
   "cell_type": "code",
   "execution_count": 51,
   "metadata": {
    "jupyter": {
     "source_hidden": true
    }
   },
   "outputs": [
    {
     "data": {
      "application/vnd.jupyter.widget-view+json": {
       "model_id": "ee91b80a6a1c42579c02978283935c21",
       "version_major": 2,
       "version_minor": 0
      },
      "text/plain": [
       "Output(layout=Layout(height='28em'))"
      ]
     },
     "metadata": {},
     "output_type": "display_data"
    }
   ],
   "source": [
    "with output_box():\n",
    "    treeit = ET.iterwalk(usc42root, events=('start',), tag=section_tag)\n",
    "    for event, elem in treeit: \n",
    "        print(elem)"
   ]
  },
  {
   "cell_type": "code",
   "execution_count": 52,
   "metadata": {},
   "outputs": [
    {
     "data": {
      "text/plain": [
       "8761"
      ]
     },
     "execution_count": 52,
     "metadata": {},
     "output_type": "execute_result"
    }
   ],
   "source": [
    "sum(1 for _ in ET.iterwalk(usc42root, events=('start',), tag=section_tag))  "
   ]
  },
  {
   "cell_type": "code",
   "execution_count": 53,
   "metadata": {},
   "outputs": [],
   "source": [
    "def get_direct_sections(root):\n",
    "    it = ET.iterwalk(root, events=('start',), tag=section_tag)\n",
    "    for _, elem in it:\n",
    "        it.skip_subtree()\n",
    "        yield elem\n",
    "\n",
    "direct_sections = list(get_direct_sections(usc42root))"
   ]
  },
  {
   "cell_type": "code",
   "execution_count": 54,
   "metadata": {},
   "outputs": [
    {
     "data": {
      "application/vnd.jupyter.widget-view+json": {
       "model_id": "5e16fa42d9c44d249ccb486a28b628ae",
       "version_major": 2,
       "version_minor": 0
      },
      "text/plain": [
       "Output(layout=Layout(height='28em'))"
      ]
     },
     "metadata": {},
     "output_type": "display_data"
    }
   ],
   "source": [
    "with output_box():\n",
    "    display(direct_sections)"
   ]
  },
  {
   "cell_type": "code",
   "execution_count": 55,
   "metadata": {},
   "outputs": [
    {
     "data": {
      "text/plain": [
       "8385"
      ]
     },
     "execution_count": 55,
     "metadata": {},
     "output_type": "execute_result"
    }
   ],
   "source": [
    "len(direct_sections)"
   ]
  },
  {
   "cell_type": "code",
   "execution_count": 56,
   "metadata": {},
   "outputs": [
    {
     "data": {
      "text/plain": [
       "[]"
      ]
     },
     "execution_count": 56,
     "metadata": {},
     "output_type": "execute_result"
    }
   ],
   "source": [
    "[section for section in direct_sections if section.get('identifier') is None]"
   ]
  },
  {
   "cell_type": "code",
   "execution_count": 57,
   "metadata": {},
   "outputs": [],
   "source": [
    "too_long_count_direct = [count for section in direct_sections if (count := count_tokens_xml_clean(section)) > 8191]"
   ]
  },
  {
   "cell_type": "code",
   "execution_count": 58,
   "metadata": {},
   "outputs": [
    {
     "data": {
      "text/plain": [
       "356"
      ]
     },
     "execution_count": 58,
     "metadata": {},
     "output_type": "execute_result"
    }
   ],
   "source": [
    "len(too_long_count_direct)"
   ]
  },
  {
   "cell_type": "code",
   "execution_count": 59,
   "metadata": {},
   "outputs": [
    {
     "data": {
      "text/plain": [
       "18.089491400000043"
      ]
     },
     "execution_count": 59,
     "metadata": {},
     "output_type": "execute_result"
    }
   ],
   "source": [
    "start_time = time.perf_counter()\n",
    "direct_section_token_counts = [count_tokens_xml_clean(section) for section in direct_sections]\n",
    "end_time = time.perf_counter()\n",
    "end_time - start_time"
   ]
  },
  {
   "cell_type": "code",
   "execution_count": 60,
   "metadata": {},
   "outputs": [],
   "source": [
    "# FIXME: (1) Don't lose text appearing directly in elements whose subelements\n",
    "#            we traverse to!\n",
    "#\n",
    "#        (2) Avoid traversing into elements like <em> that are not conceptually\n",
    "#            logical portions of the U.S. Code.\n",
    "#\n",
    "def get_embeddable_elements(section):\n",
    "    it = ET.iterwalk(section, events=('start',))\n",
    "    for _, elem in it:\n",
    "        token_count = count_tokens_xml_clean(elem)\n",
    "        if token_count <= 8191:  # We can embed this subtree.\n",
    "            it.skip_subtree()\n",
    "            yield elem\n",
    "        elif len(elem) == 0:  # We're at the bottom and it's still too big.\n",
    "            print(f'Too-big leaf f{elem} ({token_count} tokens).')"
   ]
  },
  {
   "cell_type": "code",
   "execution_count": 61,
   "metadata": {},
   "outputs": [],
   "source": [
    "# We might try to embed it this way (one embedding per row element).\n",
    "breakdowns = [list(get_embeddable_elements(section)) for section in direct_sections]"
   ]
  },
  {
   "cell_type": "code",
   "execution_count": 62,
   "metadata": {},
   "outputs": [
    {
     "data": {
      "text/plain": [
       "8385"
      ]
     },
     "execution_count": 62,
     "metadata": {},
     "output_type": "execute_result"
    }
   ],
   "source": [
    "len(breakdowns)  # Same as number of direct sections."
   ]
  },
  {
   "cell_type": "code",
   "execution_count": 63,
   "metadata": {},
   "outputs": [
    {
     "data": {
      "text/plain": [
       "True"
      ]
     },
     "execution_count": 63,
     "metadata": {},
     "output_type": "execute_result"
    }
   ],
   "source": [
    "all(row for row in breakdowns)  # No rows should be empty."
   ]
  },
  {
   "cell_type": "code",
   "execution_count": 64,
   "metadata": {},
   "outputs": [
    {
     "data": {
      "text/plain": [
       "356"
      ]
     },
     "execution_count": 64,
     "metadata": {},
     "output_type": "execute_result"
    }
   ],
   "source": [
    "# Same as number of too-long direct sections.\n",
    "sum(1 for row in breakdowns if len(row) > 1)"
   ]
  },
  {
   "cell_type": "code",
   "execution_count": 65,
   "metadata": {},
   "outputs": [
    {
     "data": {
      "text/plain": [
       "Counter({'{http://xml.house.gov/schemas/uslm/1.0}section': 8092,\n",
       "         '{http://xml.house.gov/schemas/uslm/1.0}num': 392,\n",
       "         '{http://xml.house.gov/schemas/uslm/1.0}heading': 442,\n",
       "         '{http://xml.house.gov/schemas/uslm/1.0}chapeau': 28,\n",
       "         '{http://xml.house.gov/schemas/uslm/1.0}subsection': 3375,\n",
       "         '{http://xml.house.gov/schemas/uslm/1.0}sourceCredit': 356,\n",
       "         '{http://xml.house.gov/schemas/uslm/1.0}note': 4341,\n",
       "         '{http://xml.house.gov/schemas/uslm/1.0}notes': 212,\n",
       "         '{http://xml.house.gov/schemas/uslm/1.0}paragraph': 762,\n",
       "         '{http://xml.house.gov/schemas/uslm/1.0}p': 11567,\n",
       "         '{http://xml.house.gov/schemas/uslm/1.0}subparagraph': 64,\n",
       "         '{http://xml.house.gov/schemas/uslm/1.0}continuation': 7,\n",
       "         '{http://xml.house.gov/schemas/uslm/1.0}content': 10,\n",
       "         '{http://xml.house.gov/schemas/uslm/1.0}ref': 97,\n",
       "         '{http://xml.house.gov/schemas/uslm/1.0}date': 48,\n",
       "         '{http://xml.house.gov/schemas/uslm/1.0}subtitle': 1,\n",
       "         '{http://xml.house.gov/schemas/uslm/1.0}signature': 2})"
      ]
     },
     "execution_count": 65,
     "metadata": {},
     "output_type": "execute_result"
    }
   ],
   "source": [
    "# This shows lots of <p> elements. Unlike <paragraph>, the <p> element is from\n",
    "# HTML and I'm not sure it really makes sense to consider a <p> element as a\n",
    "# logical unit within the U.S. Code, conceptually.\n",
    "Counter(elem.tag for row in breakdowns for elem in row)"
   ]
  },
  {
   "cell_type": "code",
   "execution_count": 66,
   "metadata": {},
   "outputs": [
    {
     "data": {
      "application/vnd.jupyter.widget-view+json": {
       "model_id": "ce30427097b04b9a80c4e6fb7483c53c",
       "version_major": 2,
       "version_minor": 0
      },
      "text/plain": [
       "Output(layout=Layout(height='28em'))"
      ]
     },
     "metadata": {},
     "output_type": "display_data"
    }
   ],
   "source": [
    "with output_box():\n",
    "    display({\n",
    "        section.attrib['identifier']: len(row)\n",
    "        for section, row in zip(direct_sections, breakdowns)\n",
    "        if len(row) > 1\n",
    "    })"
   ]
  },
  {
   "cell_type": "code",
   "execution_count": 67,
   "metadata": {},
   "outputs": [],
   "source": [
    "def abbreviate_runs(values):\n",
    "    return [\n",
    "        (value, sum(1 for _ in group))\n",
    "        for value, group in itertools.groupby(values)\n",
    "    ]"
   ]
  },
  {
   "cell_type": "code",
   "execution_count": 68,
   "metadata": {},
   "outputs": [],
   "source": [
    "def print_with_aligned_keys(mapping):\n",
    "    \"\"\"Display a mapping with string keys in a compact multiline form.\"\"\"\n",
    "    width = max(len(key) for key in mapping)\n",
    "    for key, value in mapping.items():\n",
    "        print(f'{key:>{width}}: {value}')"
   ]
  },
  {
   "cell_type": "code",
   "execution_count": 69,
   "metadata": {},
   "outputs": [],
   "source": [
    "breakdown_summaries = {\n",
    "    section.attrib['identifier']:\n",
    "        abbreviate_runs(ET.QName(elem).localname for elem in row)\n",
    "    for section, row in zip(direct_sections, breakdowns)\n",
    "    if len(row) > 1\n",
    "}"
   ]
  },
  {
   "cell_type": "code",
   "execution_count": 70,
   "metadata": {},
   "outputs": [
    {
     "data": {
      "application/vnd.jupyter.widget-view+json": {
       "model_id": "ddce6039ed4142cc8de9e798c93a9e86",
       "version_major": 2,
       "version_minor": 0
      },
      "text/plain": [
       "Output(layout=Layout(height='28em'))"
      ]
     },
     "metadata": {},
     "output_type": "display_data"
    }
   ],
   "source": [
    "with output_box():\n",
    "    print_with_aligned_keys(breakdown_summaries)"
   ]
  },
  {
   "cell_type": "code",
   "execution_count": null,
   "metadata": {},
   "outputs": [],
   "source": []
  }
 ],
 "metadata": {
  "kernelspec": {
   "display_name": "Python 3 (ipykernel)",
   "language": "python",
   "name": "python3"
  },
  "language_info": {
   "codemirror_mode": {
    "name": "ipython",
    "version": 3
   },
   "file_extension": ".py",
   "mimetype": "text/x-python",
   "name": "python",
   "nbconvert_exporter": "python",
   "pygments_lexer": "ipython3",
   "version": "3.11.4"
  }
 },
 "nbformat": 4,
 "nbformat_minor": 2
}
