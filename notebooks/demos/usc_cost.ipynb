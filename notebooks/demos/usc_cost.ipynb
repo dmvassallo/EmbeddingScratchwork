{
 "cells": [
  {
   "attachments": {},
   "cell_type": "markdown",
   "metadata": {},
   "source": [
    "# Estimate cost to embed U.S. Code"
   ]
  },
  {
   "cell_type": "code",
   "execution_count": 1,
   "metadata": {},
   "outputs": [],
   "source": [
    "from decimal import Decimal\n",
    "from pathlib import Path\n",
    "\n",
    "from IPython.display import display\n",
    "import polars as pl\n",
    "\n",
    "from embed.demos import usc"
   ]
  },
  {
   "cell_type": "code",
   "execution_count": 2,
   "metadata": {},
   "outputs": [],
   "source": [
    "# As of this writing, https://openai.com/pricing lists the cost for\n",
    "# text-embedding-ada-002 as \"$0.0001 / 1K tokens\".\n",
    "TOKEN_COST = Decimal('0.0001') / 1000"
   ]
  },
  {
   "cell_type": "code",
   "execution_count": 3,
   "metadata": {},
   "outputs": [],
   "source": [
    "data_dir = Path('../../data/')"
   ]
  },
  {
   "cell_type": "code",
   "execution_count": 4,
   "metadata": {},
   "outputs": [],
   "source": [
    "df = usc.full_tabulate_token_counts(data_dir, TOKEN_COST)"
   ]
  },
  {
   "cell_type": "code",
   "execution_count": 5,
   "metadata": {},
   "outputs": [
    {
     "data": {
      "text/html": [
       "<div><style>\n",
       ".dataframe > thead > tr > th,\n",
       ".dataframe > tbody > tr > td {\n",
       "  text-align: right;\n",
       "}\n",
       "</style>\n",
       "<small>shape: (59, 5)</small><table border=\"1\" class=\"dataframe\"><thead><tr><th>Title</th><th>Tokens</th><th>Cost ($)</th><th>Clean Tokens</th><th>Clean Cost ($)</th></tr><tr><td>str</td><td>i64</td><td>decimal[7]</td><td>i64</td><td>decimal[7]</td></tr></thead><tbody><tr><td>&quot;usc01&quot;</td><td>85612</td><td>0.0085612</td><td>49319</td><td>0.0049319</td></tr><tr><td>&quot;usc02&quot;</td><td>2767913</td><td>0.2767913</td><td>1437089</td><td>0.1437089</td></tr><tr><td>&quot;usc03&quot;</td><td>254388</td><td>0.0254388</td><td>150486</td><td>0.0150486</td></tr><tr><td>&quot;usc04&quot;</td><td>88628</td><td>0.0088628</td><td>45535</td><td>0.0045535</td></tr><tr><td>&quot;usc05&quot;</td><td>5797942</td><td>0.5797942</td><td>3013402</td><td>0.3013402</td></tr><tr><td>&quot;usc05A&quot;</td><td>402768</td><td>0.0402768</td><td>293862</td><td>0.0293862</td></tr><tr><td>&quot;usc06&quot;</td><td>1920290</td><td>0.192029</td><td>924886</td><td>0.0924886</td></tr><tr><td>&quot;usc07&quot;</td><td>8966523</td><td>0.8966523</td><td>4632796</td><td>0.4632796</td></tr><tr><td>&quot;usc08&quot;</td><td>2153419</td><td>0.2153419</td><td>1267539</td><td>0.1267539</td></tr><tr><td>&quot;usc09&quot;</td><td>35457</td><td>0.0035457</td><td>17123</td><td>0.0017123</td></tr><tr><td>&quot;usc10&quot;</td><td>15487333</td><td>1.5487333</td><td>8562127</td><td>0.8562127</td></tr><tr><td>&quot;usc11&quot;</td><td>1340723</td><td>0.1340723</td><td>727241</td><td>0.0727241</td></tr><tr><td>&quot;usc11a&quot;</td><td>507661</td><td>0.0507661</td><td>317719</td><td>0.0317719</td></tr><tr><td>&quot;usc12&quot;</td><td>7219724</td><td>0.7219724</td><td>3974186</td><td>0.3974186</td></tr><tr><td>&quot;usc13&quot;</td><td>150735</td><td>0.0150735</td><td>85902</td><td>0.0085902</td></tr><tr><td>&quot;usc14&quot;</td><td>1044043</td><td>0.1044043</td><td>549399</td><td>0.0549399</td></tr><tr><td>&quot;usc15&quot;</td><td>9250401</td><td>0.9250401</td><td>4880147</td><td>0.4880147</td></tr><tr><td>&quot;usc16&quot;</td><td>10034103</td><td>1.0034103</td><td>5310655</td><td>0.5310655</td></tr><tr><td>&quot;usc17&quot;</td><td>767021</td><td>0.0767021</td><td>459214</td><td>0.0459214</td></tr><tr><td>&quot;usc18&quot;</td><td>3762174</td><td>0.3762174</td><td>2069758</td><td>0.2069758</td></tr><tr><td>&quot;usc18a&quot;</td><td>531657</td><td>0.0531657</td><td>374853</td><td>0.0374853</td></tr><tr><td>&quot;usc19&quot;</td><td>4373664</td><td>0.4373664</td><td>2454517</td><td>0.2454517</td></tr><tr><td>&quot;usc20&quot;</td><td>7279194</td><td>0.7279194</td><td>3772190</td><td>0.377219</td></tr><tr><td>&quot;usc21&quot;</td><td>3724234</td><td>0.3724234</td><td>1980285</td><td>0.1980285</td></tr><tr><td>&quot;usc22&quot;</td><td>8254631</td><td>0.8254631</td><td>4521348</td><td>0.4521348</td></tr><tr><td>&quot;usc23&quot;</td><td>1940631</td><td>0.1940631</td><td>1113354</td><td>0.1113354</td></tr><tr><td>&quot;usc24&quot;</td><td>219691</td><td>0.0219691</td><td>114008</td><td>0.0114008</td></tr><tr><td>&quot;usc25&quot;</td><td>3236980</td><td>0.323698</td><td>1599565</td><td>0.1599565</td></tr><tr><td>&quot;usc26&quot;</td><td>17497706</td><td>1.7497706</td><td>9626361</td><td>0.9626361</td></tr><tr><td>&quot;usc27&quot;</td><td>74672</td><td>0.0074672</td><td>41368</td><td>0.0041368</td></tr><tr><td>&quot;usc28&quot;</td><td>2651141</td><td>0.2651141</td><td>1465576</td><td>0.1465576</td></tr><tr><td>&quot;usc28a&quot;</td><td>1235669</td><td>0.1235669</td><td>852094</td><td>0.0852094</td></tr><tr><td>&quot;usc29&quot;</td><td>3583053</td><td>0.3583053</td><td>1914217</td><td>0.1914217</td></tr><tr><td>&quot;usc30&quot;</td><td>1236141</td><td>0.1236141</td><td>691651</td><td>0.0691651</td></tr><tr><td>&quot;usc31&quot;</td><td>2621207</td><td>0.2621207</td><td>1330485</td><td>0.1330485</td></tr><tr><td>&quot;usc32&quot;</td><td>273368</td><td>0.0273368</td><td>138060</td><td>0.013806</td></tr><tr><td>&quot;usc33&quot;</td><td>3760854</td><td>0.3760854</td><td>1989990</td><td>0.198999</td></tr><tr><td>&quot;usc34&quot;</td><td>2724360</td><td>0.272436</td><td>1355130</td><td>0.135513</td></tr><tr><td>&quot;usc35&quot;</td><td>589159</td><td>0.0589159</td><td>335787</td><td>0.0335787</td></tr><tr><td>&quot;usc36&quot;</td><td>2361608</td><td>0.2361608</td><td>906977</td><td>0.0906977</td></tr><tr><td>&quot;usc37&quot;</td><td>1212230</td><td>0.121223</td><td>655510</td><td>0.065551</td></tr><tr><td>&quot;usc38&quot;</td><td>5627808</td><td>0.5627808</td><td>3171266</td><td>0.3171266</td></tr><tr><td>&quot;usc39&quot;</td><td>638662</td><td>0.0638662</td><td>308436</td><td>0.0308436</td></tr><tr><td>&quot;usc40&quot;</td><td>1508160</td><td>0.150816</td><td>673254</td><td>0.0673254</td></tr><tr><td>&quot;usc41&quot;</td><td>997202</td><td>0.0997202</td><td>468640</td><td>0.046864</td></tr><tr><td>&quot;usc42&quot;</td><td>33833321</td><td>3.3833321</td><td>18403173</td><td>1.8403173</td></tr><tr><td>&quot;usc43&quot;</td><td>2475578</td><td>0.2475578</td><td>1328154</td><td>0.1328154</td></tr><tr><td>&quot;usc44&quot;</td><td>846013</td><td>0.0846013</td><td>460149</td><td>0.0460149</td></tr><tr><td>&quot;usc45&quot;</td><td>952733</td><td>0.0952733</td><td>562290</td><td>0.056229</td></tr><tr><td>&quot;usc46&quot;</td><td>2995204</td><td>0.2995204</td><td>1402170</td><td>0.140217</td></tr><tr><td>&quot;usc47&quot;</td><td>1760172</td><td>0.1760172</td><td>919397</td><td>0.0919397</td></tr><tr><td>&quot;usc48&quot;</td><td>1314470</td><td>0.131447</td><td>765719</td><td>0.0765719</td></tr><tr><td>&quot;usc49&quot;</td><td>7692350</td><td>0.769235</td><td>3924609</td><td>0.3924609</td></tr><tr><td>&quot;usc50&quot;</td><td>4422262</td><td>0.4422262</td><td>2381700</td><td>0.23817</td></tr><tr><td>&quot;usc50A&quot;</td><td>486</td><td>0.0000486</td><td>395</td><td>0.0000395</td></tr><tr><td>&quot;usc51&quot;</td><td>836861</td><td>0.0836861</td><td>408334</td><td>0.0408334</td></tr><tr><td>&quot;usc52&quot;</td><td>544366</td><td>0.0544366</td><td>270381</td><td>0.0270381</td></tr><tr><td>&quot;usc54&quot;</td><td>1002907</td><td>0.1002907</td><td>444102</td><td>0.0444102</td></tr><tr><td>&quot;TOTALS&quot;</td><td>208867263</td><td>20.8867263</td><td>111893880</td><td>11.189388</td></tr></tbody></table></div>"
      ],
      "text/plain": [
       "shape: (59, 5)\n",
       "┌────────┬───────────┬────────────┬──────────────┬────────────────┐\n",
       "│ Title  ┆ Tokens    ┆ Cost ($)   ┆ Clean Tokens ┆ Clean Cost ($) │\n",
       "│ ---    ┆ ---       ┆ ---        ┆ ---          ┆ ---            │\n",
       "│ str    ┆ i64       ┆ decimal[7] ┆ i64          ┆ decimal[7]     │\n",
       "╞════════╪═══════════╪════════════╪══════════════╪════════════════╡\n",
       "│ usc01  ┆ 85612     ┆ 0.0085612  ┆ 49319        ┆ 0.0049319      │\n",
       "│ usc02  ┆ 2767913   ┆ 0.2767913  ┆ 1437089      ┆ 0.1437089      │\n",
       "│ usc03  ┆ 254388    ┆ 0.0254388  ┆ 150486       ┆ 0.0150486      │\n",
       "│ usc04  ┆ 88628     ┆ 0.0088628  ┆ 45535        ┆ 0.0045535      │\n",
       "│ usc05  ┆ 5797942   ┆ 0.5797942  ┆ 3013402      ┆ 0.3013402      │\n",
       "│ usc05A ┆ 402768    ┆ 0.0402768  ┆ 293862       ┆ 0.0293862      │\n",
       "│ usc06  ┆ 1920290   ┆ 0.192029   ┆ 924886       ┆ 0.0924886      │\n",
       "│ usc07  ┆ 8966523   ┆ 0.8966523  ┆ 4632796      ┆ 0.4632796      │\n",
       "│ usc08  ┆ 2153419   ┆ 0.2153419  ┆ 1267539      ┆ 0.1267539      │\n",
       "│ usc09  ┆ 35457     ┆ 0.0035457  ┆ 17123        ┆ 0.0017123      │\n",
       "│ usc10  ┆ 15487333  ┆ 1.5487333  ┆ 8562127      ┆ 0.8562127      │\n",
       "│ usc11  ┆ 1340723   ┆ 0.1340723  ┆ 727241       ┆ 0.0727241      │\n",
       "│ usc11a ┆ 507661    ┆ 0.0507661  ┆ 317719       ┆ 0.0317719      │\n",
       "│ usc12  ┆ 7219724   ┆ 0.7219724  ┆ 3974186      ┆ 0.3974186      │\n",
       "│ usc13  ┆ 150735    ┆ 0.0150735  ┆ 85902        ┆ 0.0085902      │\n",
       "│ usc14  ┆ 1044043   ┆ 0.1044043  ┆ 549399       ┆ 0.0549399      │\n",
       "│ usc15  ┆ 9250401   ┆ 0.9250401  ┆ 4880147      ┆ 0.4880147      │\n",
       "│ usc16  ┆ 10034103  ┆ 1.0034103  ┆ 5310655      ┆ 0.5310655      │\n",
       "│ usc17  ┆ 767021    ┆ 0.0767021  ┆ 459214       ┆ 0.0459214      │\n",
       "│ usc18  ┆ 3762174   ┆ 0.3762174  ┆ 2069758      ┆ 0.2069758      │\n",
       "│ usc18a ┆ 531657    ┆ 0.0531657  ┆ 374853       ┆ 0.0374853      │\n",
       "│ usc19  ┆ 4373664   ┆ 0.4373664  ┆ 2454517      ┆ 0.2454517      │\n",
       "│ usc20  ┆ 7279194   ┆ 0.7279194  ┆ 3772190      ┆ 0.377219       │\n",
       "│ usc21  ┆ 3724234   ┆ 0.3724234  ┆ 1980285      ┆ 0.1980285      │\n",
       "│ usc22  ┆ 8254631   ┆ 0.8254631  ┆ 4521348      ┆ 0.4521348      │\n",
       "│ usc23  ┆ 1940631   ┆ 0.1940631  ┆ 1113354      ┆ 0.1113354      │\n",
       "│ usc24  ┆ 219691    ┆ 0.0219691  ┆ 114008       ┆ 0.0114008      │\n",
       "│ usc25  ┆ 3236980   ┆ 0.323698   ┆ 1599565      ┆ 0.1599565      │\n",
       "│ usc26  ┆ 17497706  ┆ 1.7497706  ┆ 9626361      ┆ 0.9626361      │\n",
       "│ usc27  ┆ 74672     ┆ 0.0074672  ┆ 41368        ┆ 0.0041368      │\n",
       "│ usc28  ┆ 2651141   ┆ 0.2651141  ┆ 1465576      ┆ 0.1465576      │\n",
       "│ usc28a ┆ 1235669   ┆ 0.1235669  ┆ 852094       ┆ 0.0852094      │\n",
       "│ usc29  ┆ 3583053   ┆ 0.3583053  ┆ 1914217      ┆ 0.1914217      │\n",
       "│ usc30  ┆ 1236141   ┆ 0.1236141  ┆ 691651       ┆ 0.0691651      │\n",
       "│ usc31  ┆ 2621207   ┆ 0.2621207  ┆ 1330485      ┆ 0.1330485      │\n",
       "│ usc32  ┆ 273368    ┆ 0.0273368  ┆ 138060       ┆ 0.013806       │\n",
       "│ usc33  ┆ 3760854   ┆ 0.3760854  ┆ 1989990      ┆ 0.198999       │\n",
       "│ usc34  ┆ 2724360   ┆ 0.272436   ┆ 1355130      ┆ 0.135513       │\n",
       "│ usc35  ┆ 589159    ┆ 0.0589159  ┆ 335787       ┆ 0.0335787      │\n",
       "│ usc36  ┆ 2361608   ┆ 0.2361608  ┆ 906977       ┆ 0.0906977      │\n",
       "│ usc37  ┆ 1212230   ┆ 0.121223   ┆ 655510       ┆ 0.065551       │\n",
       "│ usc38  ┆ 5627808   ┆ 0.5627808  ┆ 3171266      ┆ 0.3171266      │\n",
       "│ usc39  ┆ 638662    ┆ 0.0638662  ┆ 308436       ┆ 0.0308436      │\n",
       "│ usc40  ┆ 1508160   ┆ 0.150816   ┆ 673254       ┆ 0.0673254      │\n",
       "│ usc41  ┆ 997202    ┆ 0.0997202  ┆ 468640       ┆ 0.046864       │\n",
       "│ usc42  ┆ 33833321  ┆ 3.3833321  ┆ 18403173     ┆ 1.8403173      │\n",
       "│ usc43  ┆ 2475578   ┆ 0.2475578  ┆ 1328154      ┆ 0.1328154      │\n",
       "│ usc44  ┆ 846013    ┆ 0.0846013  ┆ 460149       ┆ 0.0460149      │\n",
       "│ usc45  ┆ 952733    ┆ 0.0952733  ┆ 562290       ┆ 0.056229       │\n",
       "│ usc46  ┆ 2995204   ┆ 0.2995204  ┆ 1402170      ┆ 0.140217       │\n",
       "│ usc47  ┆ 1760172   ┆ 0.1760172  ┆ 919397       ┆ 0.0919397      │\n",
       "│ usc48  ┆ 1314470   ┆ 0.131447   ┆ 765719       ┆ 0.0765719      │\n",
       "│ usc49  ┆ 7692350   ┆ 0.769235   ┆ 3924609      ┆ 0.3924609      │\n",
       "│ usc50  ┆ 4422262   ┆ 0.4422262  ┆ 2381700      ┆ 0.23817        │\n",
       "│ usc50A ┆ 486       ┆ 0.0000486  ┆ 395          ┆ 0.0000395      │\n",
       "│ usc51  ┆ 836861    ┆ 0.0836861  ┆ 408334       ┆ 0.0408334      │\n",
       "│ usc52  ┆ 544366    ┆ 0.0544366  ┆ 270381       ┆ 0.0270381      │\n",
       "│ usc54  ┆ 1002907   ┆ 0.1002907  ┆ 444102       ┆ 0.0444102      │\n",
       "│ TOTALS ┆ 208867263 ┆ 20.8867263 ┆ 111893880    ┆ 11.189388      │\n",
       "└────────┴───────────┴────────────┴──────────────┴────────────────┘"
      ]
     },
     "metadata": {},
     "output_type": "display_data"
    }
   ],
   "source": [
    "with pl.Config(tbl_rows=500):\n",
    "    display(df)"
   ]
  },
  {
   "attachments": {},
   "cell_type": "markdown",
   "metadata": {},
   "source": [
    "By that rough estimate, embedding the whole U.S. Code, even with tag attributes\n",
    "removed, would cost about $11, require making at least [13 661\n",
    "requests](https://www.wolframalpha.com/input?i=111893880.0+%2F+8191), and would\n",
    "take about [80\n",
    "MiB](https://www.wolframalpha.com/input?i=%28111893880+%2F+8191%29+*+4+*+1536+bytes+in+MiB)\n",
    "to store, if stored as compactly as NumPy represents them in memory.\n",
    "(Uncompressed JSON would be significantly bigger.)"
   ]
  },
  {
   "attachments": {},
   "cell_type": "markdown",
   "metadata": {},
   "source": [
    "## How many of the tokens are Title 42?"
   ]
  },
  {
   "cell_type": "code",
   "execution_count": 6,
   "metadata": {},
   "outputs": [
    {
     "data": {
      "text/html": [
       "<div><style>\n",
       ".dataframe > thead > tr > th,\n",
       ".dataframe > tbody > tr > td {\n",
       "  text-align: right;\n",
       "}\n",
       "</style>\n",
       "<small>shape: (2, 3)</small><table border=\"1\" class=\"dataframe\"><thead><tr><th>Title</th><th>Tokens</th><th>Clean Tokens</th></tr><tr><td>str</td><td>i64</td><td>i64</td></tr></thead><tbody><tr><td>&quot;usc42&quot;</td><td>33833321</td><td>18403173</td></tr><tr><td>&quot;TOTALS&quot;</td><td>208867263</td><td>111893880</td></tr></tbody></table></div>"
      ],
      "text/plain": [
       "shape: (2, 3)\n",
       "┌────────┬───────────┬──────────────┐\n",
       "│ Title  ┆ Tokens    ┆ Clean Tokens │\n",
       "│ ---    ┆ ---       ┆ ---          │\n",
       "│ str    ┆ i64       ┆ i64          │\n",
       "╞════════╪═══════════╪══════════════╡\n",
       "│ usc42  ┆ 33833321  ┆ 18403173     │\n",
       "│ TOTALS ┆ 208867263 ┆ 111893880    │\n",
       "└────────┴───────────┴──────────────┘"
      ]
     },
     "execution_count": 6,
     "metadata": {},
     "output_type": "execute_result"
    }
   ],
   "source": [
    "(\n",
    "    df.filter(pl.col('Title').is_in(['usc42', 'TOTALS']))\n",
    "      .select('Title', 'Tokens', 'Clean Tokens')\n",
    ")"
   ]
  },
  {
   "cell_type": "code",
   "execution_count": 7,
   "metadata": {},
   "outputs": [],
   "source": [
    "usc42_row = df.filter(pl.col('Title') == 'usc42')\n",
    "usc42_tokens = usc42_row.get_column('Tokens')[0]\n",
    "usc42_clean_tokens = usc42_row.get_column('Clean Tokens')[0]\n",
    "\n",
    "totals_row = df.filter(pl.col('Title') == 'TOTALS')\n",
    "total_tokens = totals_row.get_column('Tokens')[0]\n",
    "total_clean_tokens = totals_row.get_column('Clean Tokens')[0]"
   ]
  },
  {
   "cell_type": "code",
   "execution_count": 8,
   "metadata": {},
   "outputs": [
    {
     "name": "stdout",
     "output_type": "stream",
     "text": [
      "33833321 / 208867263 = 0.162\n"
     ]
    }
   ],
   "source": [
    "# Unclean title 42 ratio.\n",
    "print(f'{usc42_tokens} / {total_tokens} = '\n",
    "      f'{(usc42_tokens / total_tokens):.3F}')"
   ]
  },
  {
   "cell_type": "code",
   "execution_count": 9,
   "metadata": {},
   "outputs": [
    {
     "name": "stdout",
     "output_type": "stream",
     "text": [
      "18403173 / 111893880 = 0.164\n"
     ]
    }
   ],
   "source": [
    "# Clean title 42 ratio.\n",
    "print(f'{usc42_clean_tokens} / {total_clean_tokens} = '\n",
    "      f'{(usc42_clean_tokens / total_clean_tokens):.3F}')"
   ]
  },
  {
   "cell_type": "code",
   "execution_count": null,
   "metadata": {},
   "outputs": [],
   "source": []
  }
 ],
 "metadata": {
  "kernelspec": {
   "display_name": "Python 3 (ipykernel)",
   "language": "python",
   "name": "python3"
  },
  "language_info": {
   "codemirror_mode": {
    "name": "ipython",
    "version": 3
   },
   "file_extension": ".py",
   "mimetype": "text/x-python",
   "name": "python",
   "nbconvert_exporter": "python",
   "pygments_lexer": "ipython3",
   "version": "3.11.4"
  }
 },
 "nbformat": 4,
 "nbformat_minor": 2
}
