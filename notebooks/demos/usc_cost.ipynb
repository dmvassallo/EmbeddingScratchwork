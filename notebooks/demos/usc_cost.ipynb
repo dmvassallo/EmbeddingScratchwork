{
 "cells": [
  {
   "attachments": {},
   "cell_type": "markdown",
   "metadata": {},
   "source": [
    "# Estimate cost to embed U.S. Code"
   ]
  },
  {
   "cell_type": "code",
   "execution_count": 1,
   "metadata": {},
   "outputs": [],
   "source": [
    "from decimal import Decimal\n",
    "from pathlib import Path\n",
    "import polars as pl\n",
    "import xml.etree.ElementTree as ET\n",
    "\n",
    "import tiktoken"
   ]
  },
  {
   "cell_type": "code",
   "execution_count": 2,
   "metadata": {},
   "outputs": [],
   "source": [
    "# As of this writing, https://openai.com/pricing lists the cost for\n",
    "# text-embedding-ada-002 as \"$0.0004 / 1K tokens\".\n",
    "TOKEN_COST = Decimal('0.0004') / 1000"
   ]
  },
  {
   "cell_type": "code",
   "execution_count": 3,
   "metadata": {},
   "outputs": [],
   "source": [
    "data_dir = Path('../../data/')  # FIXME: See data_dir fixme in usc.ipynb."
   ]
  },
  {
   "cell_type": "code",
   "execution_count": 4,
   "metadata": {},
   "outputs": [],
   "source": [
    "encoding = tiktoken.encoding_for_model('text-embedding-ada-002')"
   ]
  },
  {
   "cell_type": "code",
   "execution_count": 5,
   "metadata": {},
   "outputs": [],
   "source": [
    "def count_tokens(text):\n",
    "    return len(encoding.encode(text))"
   ]
  },
  {
   "cell_type": "code",
   "execution_count": 6,
   "metadata": {},
   "outputs": [],
   "source": [
    "def drop_attributes(element_text):  # See usc_manual.ipynb.\n",
    "    tree = ET.fromstring(element_text)\n",
    "    for element in tree.iter():\n",
    "        element.attrib.clear()\n",
    "    return ET.tostring(tree, encoding='unicode')"
   ]
  },
  {
   "cell_type": "code",
   "execution_count": 7,
   "metadata": {},
   "outputs": [],
   "source": [
    "def compute_totals(rows):\n",
    "    \"\"\"Make a \"TOTALS\" row with the sums of all four numbers.\"\"\"\n",
    "    return CostTableRow(\n",
    "        title='TOTALS',\n",
    "        tokens=sum(row.tokens for row in rows),\n",
    "        cost=sum(row.cost for row in rows),\n",
    "        clean_tokens=sum(row.clean_tokens for row in rows),\n",
    "        clean_cost=sum(row.clean_cost for row in rows),\n",
    "    )"
   ]
  },
  {
   "cell_type": "code",
   "execution_count": 8,
   "metadata": {},
   "outputs": [],
   "source": [
    "# FIXME: Remove or completely rewrite this, when switching to Polars.\n",
    "def build_table_rows(dir):\n",
    "    unsorted = (CostTableRow.compute(path) for path in Path(dir).glob('*.xml'))\n",
    "    without_totals = sorted(unsorted, key=lambda row: row.title)\n",
    "    with_totals = [*without_totals, compute_totals(without_totals)]\n",
    "    return [attrs.astuple(row) for row in with_totals]"
   ]
  },
  {
   "cell_type": "code",
   "execution_count": 9,
   "metadata": {},
   "outputs": [],
   "source": [
    "token_table_path = data_dir / 'usc_token_counts.csv'\n",
    "try:\n",
    "    df = pl.read_csv(token_table_path)\n",
    "except OSError:\n",
    "    df = pl.DataFrame(\n",
    "        {\n",
    "            'Title': path.stem,\n",
    "            'Tokens': count_tokens(full_text := path.read_text(encoding='utf-8')),\n",
    "            'Clean Tokens': count_tokens(drop_attributes(full_text)),\n",
    "        }\n",
    "        for path in (data_dir / 'xml_uscAll@118-3not328/').glob('usc0?.xml')\n",
    "        # FIXME: After debugging, change pattern to '*.xml' to use all the files. ^\n",
    "    ).sort('Title')\n",
    "\n",
    "    df.write_csv(token_table_path)\n",
    "    assert pl.read_csv(token_table_path).frame_equal(df)"
   ]
  },
  {
   "cell_type": "code",
   "execution_count": 10,
   "metadata": {},
   "outputs": [],
   "source": [
    "df = df.with_columns(\n",
    "    pl.col('Tokens').apply(TOKEN_COST.__mul__).alias('Cost ($)'),\n",
    "    pl.col('Clean Tokens').apply(TOKEN_COST.__mul__).alias('Clean Cost ($)'),\n",
    ").select('Title', 'Tokens', 'Cost ($)', 'Clean Tokens', 'Clean Cost ($)')"
   ]
  },
  {
   "cell_type": "code",
   "execution_count": 11,
   "metadata": {},
   "outputs": [],
   "source": [
    "# FIXME: Remove or completely rewrite this, when switching to Polars.\n",
    "\n",
    "# headers = ['Title', 'Tokens', 'Cost ($)', 'Clean Tokens', 'Clean Cost ($)']\n",
    "# table_rows = build_table_rows('../../data/xml_uscAll@118-3not328/')\n",
    "# tabulate(table_rows, headers=headers, tablefmt='html')"
   ]
  },
  {
   "cell_type": "code",
   "execution_count": 17,
   "metadata": {},
   "outputs": [
    {
     "ename": "ModuleNotFoundError",
     "evalue": "No module named 'pyarrow'",
     "output_type": "error",
     "traceback": [
      "\u001b[0;31m---------------------------------------------------------------------------\u001b[0m",
      "\u001b[0;31mModuleNotFoundError\u001b[0m                       Traceback (most recent call last)",
      "Cell \u001b[0;32mIn[17], line 1\u001b[0m\n\u001b[0;32m----> 1\u001b[0m df\u001b[39m.\u001b[39;49mto_pandas()\u001b[39m.\u001b[39msum(numeric_only\u001b[39m=\u001b[39m\u001b[39mFalse\u001b[39;00m)\n",
      "File \u001b[0;32m~/.cache/pypoetry/virtualenvs/embeddingscratchwork-1-tkkp3O-py3.11/lib/python3.11/site-packages/polars/dataframe/frame.py:2134\u001b[0m, in \u001b[0;36mDataFrame.to_pandas\u001b[0;34m(self, use_pyarrow_extension_array, *args, **kwargs)\u001b[0m\n\u001b[1;32m   2124\u001b[0m     \u001b[39mif\u001b[39;00m \u001b[39mnot\u001b[39;00m _PYARROW_AVAILABLE \u001b[39mor\u001b[39;00m parse_version(pa\u001b[39m.\u001b[39m__version__) \u001b[39m<\u001b[39m parse_version(\n\u001b[1;32m   2125\u001b[0m         \u001b[39m\"\u001b[39m\u001b[39m8\u001b[39m\u001b[39m\"\u001b[39m\n\u001b[1;32m   2126\u001b[0m     ):\n\u001b[1;32m   2127\u001b[0m         \u001b[39mraise\u001b[39;00m \u001b[39mModuleNotFoundError\u001b[39;00m(\n\u001b[1;32m   2128\u001b[0m             \u001b[39mf\u001b[39m\u001b[39m'\u001b[39m\u001b[39mpyarrow>=8.0.0 is required for `to_pandas(\u001b[39m\u001b[39m\"\u001b[39m\u001b[39muse_pyarrow_extension_array=True\u001b[39m\u001b[39m\"\u001b[39m\u001b[39m)`\u001b[39m\u001b[39m'\u001b[39m\n\u001b[1;32m   2129\u001b[0m             \u001b[39mf\u001b[39m\u001b[39m\"\u001b[39m\u001b[39m, found pyarrow \u001b[39m\u001b[39m{\u001b[39;00mpa\u001b[39m.\u001b[39m__version__\u001b[39m}\u001b[39;00m\u001b[39m.\u001b[39m\u001b[39m\"\u001b[39m\n\u001b[1;32m   2130\u001b[0m             \u001b[39mif\u001b[39;00m _PYARROW_AVAILABLE\n\u001b[1;32m   2131\u001b[0m             \u001b[39melse\u001b[39;00m \u001b[39m\"\u001b[39m\u001b[39m.\u001b[39m\u001b[39m\"\u001b[39m\n\u001b[1;32m   2132\u001b[0m         )\n\u001b[0;32m-> 2134\u001b[0m record_batches \u001b[39m=\u001b[39m \u001b[39mself\u001b[39;49m\u001b[39m.\u001b[39;49m_df\u001b[39m.\u001b[39;49mto_pandas()\n\u001b[1;32m   2135\u001b[0m tbl \u001b[39m=\u001b[39m pa\u001b[39m.\u001b[39mTable\u001b[39m.\u001b[39mfrom_batches(record_batches)\n\u001b[1;32m   2136\u001b[0m \u001b[39mif\u001b[39;00m use_pyarrow_extension_array:\n",
      "\u001b[0;31mModuleNotFoundError\u001b[0m: No module named 'pyarrow'"
     ]
    }
   ],
   "source": [
    "df.to_pandas().sum(numeric_only=False)"
   ]
  },
  {
   "attachments": {},
   "cell_type": "markdown",
   "metadata": {},
   "source": [
    "By this rough estimate, embedding the whole U.S. Code, even with tag attributes removed, would cost about $60, require making at least [17947 requests](https://www.wolframalpha.com/input?i=147002851.0+%2F+8191), and would take about [105 MiB](https://www.wolframalpha.com/input?i=%28147002851+%2F+8191%29+*+4+*+1536+bytes+in+MiB) to store, if stored as compactly as NumPy represents them in memory. (Uncompressed JSON would be significantly bigger.)"
   ]
  },
  {
   "cell_type": "code",
   "execution_count": 13,
   "metadata": {},
   "outputs": [
    {
     "data": {
      "text/plain": [
       "0.16040464680247346"
      ]
     },
     "execution_count": 13,
     "metadata": {},
     "output_type": "execute_result"
    }
   ],
   "source": [
    "# unclean title 42 ratio\n",
    "33311058/207668909"
   ]
  },
  {
   "cell_type": "code",
   "execution_count": 14,
   "metadata": {},
   "outputs": [
    {
     "data": {
      "text/plain": [
       "0.16247878757126963"
      ]
     },
     "execution_count": 14,
     "metadata": {},
     "output_type": "execute_result"
    }
   ],
   "source": [
    "# clean title 42 ratio\n",
    "23884845/147002851"
   ]
  },
  {
   "cell_type": "code",
   "execution_count": null,
   "metadata": {},
   "outputs": [],
   "source": []
  }
 ],
 "metadata": {
  "kernelspec": {
   "display_name": "embeddingscratchwork-aY-6i6sv-py3.11",
   "language": "python",
   "name": "python3"
  },
  "language_info": {
   "codemirror_mode": {
    "name": "ipython",
    "version": 3
   },
   "file_extension": ".py",
   "mimetype": "text/x-python",
   "name": "python",
   "nbconvert_exporter": "python",
   "pygments_lexer": "ipython3",
   "version": "3.11.3"
  },
  "orig_nbformat": 4
 },
 "nbformat": 4,
 "nbformat_minor": 2
}
