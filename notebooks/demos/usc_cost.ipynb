{
 "cells": [
  {
   "attachments": {},
   "cell_type": "markdown",
   "metadata": {},
   "source": [
    "# Estimate cost to embed U.S. Code\n",
    "\n",
    "***FIXME:* Switch this notebook to `lxml` instead of `xml.etree` (like the\n",
    "others). This automatically avoids emitting fully qualified tag names when\n",
    "converting to text, which in turn will affect the “clean” token counts and\n",
    "cost, perhaps significantly. The “clean” estimates here should be considered\n",
    "inaccurate until that is done.**"
   ]
  },
  {
   "cell_type": "code",
   "execution_count": 1,
   "metadata": {},
   "outputs": [],
   "source": [
    "from decimal import Decimal\n",
    "from pathlib import Path\n",
    "import polars as pl\n",
    "import xml.etree.ElementTree as ET\n",
    "\n",
    "from embed import count_tokens"
   ]
  },
  {
   "cell_type": "code",
   "execution_count": 2,
   "metadata": {},
   "outputs": [],
   "source": [
    "# As of this writing, https://openai.com/pricing lists the cost for\n",
    "# text-embedding-ada-002 as \"$0.0004 / 1K tokens\".\n",
    "TOKEN_COST = Decimal('0.0004') / 1000"
   ]
  },
  {
   "cell_type": "code",
   "execution_count": 3,
   "metadata": {},
   "outputs": [],
   "source": [
    "data_dir = Path('../../data/')  # FIXME: See data_dir fixme in usc.ipynb."
   ]
  },
  {
   "cell_type": "code",
   "execution_count": 4,
   "metadata": {},
   "outputs": [],
   "source": [
    "def drop_attributes(element_text):  # See usc_manual.ipynb.\n",
    "    tree = ET.fromstring(element_text)\n",
    "    for element in tree.iter():\n",
    "        element.attrib.clear()\n",
    "    return ET.tostring(tree, encoding='unicode')"
   ]
  },
  {
   "cell_type": "code",
   "execution_count": 5,
   "metadata": {},
   "outputs": [],
   "source": [
    "def with_cost_columns(df_without_costs):\n",
    "    return df_without_costs.with_columns(\n",
    "        pl.col('Tokens')\n",
    "          .apply(TOKEN_COST.__mul__)\n",
    "          .alias('Cost ($)'),\n",
    "        pl.col('Clean Tokens')\n",
    "          .apply(TOKEN_COST.__mul__)\n",
    "          .alias('Clean Cost ($)'),\n",
    "    ).select('Title', 'Tokens', 'Cost ($)', 'Clean Tokens', 'Clean Cost ($)')"
   ]
  },
  {
   "cell_type": "code",
   "execution_count": 6,
   "metadata": {},
   "outputs": [],
   "source": [
    "token_table_path = data_dir / 'usc_token_counts.csv'\n",
    "try:\n",
    "    df = pl.read_csv(token_table_path)\n",
    "except OSError:\n",
    "    df = pl.DataFrame(\n",
    "        {\n",
    "            'Title': path.stem,\n",
    "            'Tokens': count_tokens(full_text := path.read_text(encoding='utf-8')),\n",
    "            'Clean Tokens': count_tokens(drop_attributes(full_text)),\n",
    "        }\n",
    "        for path in (data_dir / 'xml_uscAll@118-3not328/').glob('*.xml')\n",
    "    ).sort('Title')\n",
    "\n",
    "    df.write_csv(token_table_path)\n",
    "    assert pl.read_csv(token_table_path).frame_equal(df)"
   ]
  },
  {
   "cell_type": "code",
   "execution_count": 7,
   "metadata": {},
   "outputs": [],
   "source": [
    "totals = df.sum().with_columns(pl.Series(\"Title\", [\"TOTALS\"]))\n",
    "df = pl.concat([df, totals])\n",
    "df = with_cost_columns(df)"
   ]
  },
  {
   "cell_type": "code",
   "execution_count": 8,
   "metadata": {},
   "outputs": [
    {
     "data": {
      "text/html": [
       "<div><style>\n",
       ".dataframe > thead > tr > th,\n",
       ".dataframe > tbody > tr > td {\n",
       "  text-align: right;\n",
       "}\n",
       "</style>\n",
       "<small>shape: (59, 5)</small><table border=\"1\" class=\"dataframe\"><thead><tr><th>Title</th><th>Tokens</th><th>Cost ($)</th><th>Clean Tokens</th><th>Clean Cost ($)</th></tr><tr><td>str</td><td>i64</td><td>decimal[7]</td><td>i64</td><td>decimal[7]</td></tr></thead><tbody><tr><td>&quot;usc01&quot;</td><td>86448</td><td>0.0345792</td><td>65046</td><td>0.0260184</td></tr><tr><td>&quot;usc02&quot;</td><td>2787354</td><td>1.1149416</td><td>1926874</td><td>0.7707496</td></tr><tr><td>&quot;usc03&quot;</td><td>241628</td><td>0.0966512</td><td>183674</td><td>0.0734696</td></tr><tr><td>&quot;usc04&quot;</td><td>88632</td><td>0.0354528</td><td>60806</td><td>0.0243224</td></tr><tr><td>&quot;usc05&quot;</td><td>5752131</td><td>2.3008524</td><td>3975940</td><td>1.590376</td></tr><tr><td>&quot;usc05A&quot;</td><td>402069</td><td>0.1608276</td><td>338226</td><td>0.1352904</td></tr><tr><td>&quot;usc06&quot;</td><td>1868609</td><td>0.7474436</td><td>1270617</td><td>0.5082468</td></tr><tr><td>&quot;usc07&quot;</td><td>8890968</td><td>3.5563872</td><td>6136383</td><td>2.4545532</td></tr><tr><td>&quot;usc08&quot;</td><td>2211879</td><td>0.8847516</td><td>1634466</td><td>0.6537864</td></tr><tr><td>&quot;usc09&quot;</td><td>35461</td><td>0.0141844</td><td>23886</td><td>0.0095544</td></tr><tr><td>&quot;usc10&quot;</td><td>15460864</td><td>6.1843456</td><td>11402364</td><td>4.5609456</td></tr><tr><td>&quot;usc11&quot;</td><td>1340727</td><td>0.5362908</td><td>927439</td><td>0.3709756</td></tr><tr><td>&quot;usc11a&quot;</td><td>507665</td><td>0.203066</td><td>384620</td><td>0.153848</td></tr><tr><td>&quot;usc12&quot;</td><td>7314539</td><td>2.9258156</td><td>5189790</td><td>2.075916</td></tr><tr><td>&quot;usc13&quot;</td><td>150739</td><td>0.0602956</td><td>112147</td><td>0.0448588</td></tr><tr><td>&quot;usc14&quot;</td><td>1044047</td><td>0.4176188</td><td>745734</td><td>0.2982936</td></tr><tr><td>&quot;usc15&quot;</td><td>9246980</td><td>3.698792</td><td>6418973</td><td>2.5675892</td></tr><tr><td>&quot;usc16&quot;</td><td>10023036</td><td>4.0092144</td><td>7012129</td><td>2.8048516</td></tr><tr><td>&quot;usc17&quot;</td><td>767025</td><td>0.30681</td><td>574350</td><td>0.22974</td></tr><tr><td>&quot;usc18&quot;</td><td>3763742</td><td>1.5054968</td><td>2709403</td><td>1.0837612</td></tr><tr><td>&quot;usc18a&quot;</td><td>531661</td><td>0.2126644</td><td>435598</td><td>0.1742392</td></tr><tr><td>&quot;usc19&quot;</td><td>4368676</td><td>1.7474704</td><td>3237123</td><td>1.2948492</td></tr><tr><td>&quot;usc20&quot;</td><td>7191993</td><td>2.8767972</td><td>5029604</td><td>2.0118416</td></tr><tr><td>&quot;usc21&quot;</td><td>3485277</td><td>1.3941108</td><td>2485466</td><td>0.9941864</td></tr><tr><td>&quot;usc22&quot;</td><td>8256183</td><td>3.3024732</td><td>5994625</td><td>2.39785</td></tr><tr><td>&quot;usc23&quot;</td><td>1944971</td><td>0.7779884</td><td>1485505</td><td>0.594202</td></tr><tr><td>&quot;usc24&quot;</td><td>219695</td><td>0.087878</td><td>154531</td><td>0.0618124</td></tr><tr><td>&quot;usc25&quot;</td><td>3301536</td><td>1.3206144</td><td>2193884</td><td>0.8775536</td></tr><tr><td>&quot;usc26&quot;</td><td>17446919</td><td>6.9787676</td><td>12506334</td><td>5.0025336</td></tr><tr><td>&quot;usc27&quot;</td><td>74676</td><td>0.0298704</td><td>53681</td><td>0.0214724</td></tr><tr><td>&quot;usc28&quot;</td><td>2654461</td><td>1.0617844</td><td>1922996</td><td>0.7691984</td></tr><tr><td>&quot;usc28a&quot;</td><td>1235673</td><td>0.4942692</td><td>988936</td><td>0.3955744</td></tr><tr><td>&quot;usc29&quot;</td><td>3562750</td><td>1.4251</td><td>2481727</td><td>0.9926908</td></tr><tr><td>&quot;usc30&quot;</td><td>1251411</td><td>0.5005644</td><td>896317</td><td>0.3585268</td></tr><tr><td>&quot;usc31&quot;</td><td>2610530</td><td>1.044212</td><td>1757811</td><td>0.7031244</td></tr><tr><td>&quot;usc32&quot;</td><td>273372</td><td>0.1093488</td><td>181647</td><td>0.0726588</td></tr><tr><td>&quot;usc33&quot;</td><td>3735748</td><td>1.4942992</td><td>2656220</td><td>1.062488</td></tr><tr><td>&quot;usc34&quot;</td><td>2755439</td><td>1.1021756</td><td>1827121</td><td>0.7308484</td></tr><tr><td>&quot;usc35&quot;</td><td>581597</td><td>0.2326388</td><td>432942</td><td>0.1731768</td></tr><tr><td>&quot;usc36&quot;</td><td>2329985</td><td>0.931994</td><td>1290092</td><td>0.5160368</td></tr><tr><td>&quot;usc37&quot;</td><td>1218527</td><td>0.4874108</td><td>857617</td><td>0.3430468</td></tr><tr><td>&quot;usc38&quot;</td><td>5435890</td><td>2.174356</td><td>4071710</td><td>1.628684</td></tr><tr><td>&quot;usc39&quot;</td><td>638666</td><td>0.2554664</td><td>420076</td><td>0.1680304</td></tr><tr><td>&quot;usc40&quot;</td><td>1467685</td><td>0.587074</td><td>916554</td><td>0.3666216</td></tr><tr><td>&quot;usc41&quot;</td><td>985688</td><td>0.3942752</td><td>632248</td><td>0.2528992</td></tr><tr><td>&quot;usc42&quot;</td><td>33311058</td><td>13.3244232</td><td>23884845</td><td>9.553938</td></tr><tr><td>&quot;usc43&quot;</td><td>2413908</td><td>0.9655632</td><td>1752121</td><td>0.7008484</td></tr><tr><td>&quot;usc44&quot;</td><td>845278</td><td>0.3381112</td><td>619890</td><td>0.247956</td></tr><tr><td>&quot;usc45&quot;</td><td>952737</td><td>0.3810948</td><td>713094</td><td>0.2852376</td></tr><tr><td>&quot;usc46&quot;</td><td>2991558</td><td>1.1966232</td><td>1906635</td><td>0.762654</td></tr><tr><td>&quot;usc47&quot;</td><td>1774912</td><td>0.7099648</td><td>1227743</td><td>0.4910972</td></tr><tr><td>&quot;usc48&quot;</td><td>1317092</td><td>0.5268368</td><td>998878</td><td>0.3995512</td></tr><tr><td>&quot;usc49&quot;</td><td>7698432</td><td>3.0793728</td><td>5252649</td><td>2.1010596</td></tr><tr><td>&quot;usc50&quot;</td><td>4432277</td><td>1.7729108</td><td>3133072</td><td>1.2532288</td></tr><tr><td>&quot;usc50A&quot;</td><td>488</td><td>0.0001952</td><td>455</td><td>0.000182</td></tr><tr><td>&quot;usc51&quot;</td><td>837325</td><td>0.33493</td><td>553526</td><td>0.2214104</td></tr><tr><td>&quot;usc52&quot;</td><td>544370</td><td>0.217748</td><td>361084</td><td>0.1444336</td></tr><tr><td>&quot;usc54&quot;</td><td>1005922</td><td>0.4023688</td><td>595627</td><td>0.2382508</td></tr><tr><td>&quot;TOTALS&quot;</td><td>207668909</td><td>83.0675636</td><td>147002851</td><td>58.8011404</td></tr></tbody></table></div>"
      ],
      "text/plain": [
       "shape: (59, 5)\n",
       "┌────────┬───────────┬────────────┬──────────────┬────────────────┐\n",
       "│ Title  ┆ Tokens    ┆ Cost ($)   ┆ Clean Tokens ┆ Clean Cost ($) │\n",
       "│ ---    ┆ ---       ┆ ---        ┆ ---          ┆ ---            │\n",
       "│ str    ┆ i64       ┆ decimal[7] ┆ i64          ┆ decimal[7]     │\n",
       "╞════════╪═══════════╪════════════╪══════════════╪════════════════╡\n",
       "│ usc01  ┆ 86448     ┆ 0.0345792  ┆ 65046        ┆ 0.0260184      │\n",
       "│ usc02  ┆ 2787354   ┆ 1.1149416  ┆ 1926874      ┆ 0.7707496      │\n",
       "│ usc03  ┆ 241628    ┆ 0.0966512  ┆ 183674       ┆ 0.0734696      │\n",
       "│ usc04  ┆ 88632     ┆ 0.0354528  ┆ 60806        ┆ 0.0243224      │\n",
       "│ usc05  ┆ 5752131   ┆ 2.3008524  ┆ 3975940      ┆ 1.590376       │\n",
       "│ usc05A ┆ 402069    ┆ 0.1608276  ┆ 338226       ┆ 0.1352904      │\n",
       "│ usc06  ┆ 1868609   ┆ 0.7474436  ┆ 1270617      ┆ 0.5082468      │\n",
       "│ usc07  ┆ 8890968   ┆ 3.5563872  ┆ 6136383      ┆ 2.4545532      │\n",
       "│ usc08  ┆ 2211879   ┆ 0.8847516  ┆ 1634466      ┆ 0.6537864      │\n",
       "│ usc09  ┆ 35461     ┆ 0.0141844  ┆ 23886        ┆ 0.0095544      │\n",
       "│ usc10  ┆ 15460864  ┆ 6.1843456  ┆ 11402364     ┆ 4.5609456      │\n",
       "│ usc11  ┆ 1340727   ┆ 0.5362908  ┆ 927439       ┆ 0.3709756      │\n",
       "│ usc11a ┆ 507665    ┆ 0.203066   ┆ 384620       ┆ 0.153848       │\n",
       "│ usc12  ┆ 7314539   ┆ 2.9258156  ┆ 5189790      ┆ 2.075916       │\n",
       "│ usc13  ┆ 150739    ┆ 0.0602956  ┆ 112147       ┆ 0.0448588      │\n",
       "│ usc14  ┆ 1044047   ┆ 0.4176188  ┆ 745734       ┆ 0.2982936      │\n",
       "│ usc15  ┆ 9246980   ┆ 3.698792   ┆ 6418973      ┆ 2.5675892      │\n",
       "│ usc16  ┆ 10023036  ┆ 4.0092144  ┆ 7012129      ┆ 2.8048516      │\n",
       "│ usc17  ┆ 767025    ┆ 0.30681    ┆ 574350       ┆ 0.22974        │\n",
       "│ usc18  ┆ 3763742   ┆ 1.5054968  ┆ 2709403      ┆ 1.0837612      │\n",
       "│ usc18a ┆ 531661    ┆ 0.2126644  ┆ 435598       ┆ 0.1742392      │\n",
       "│ usc19  ┆ 4368676   ┆ 1.7474704  ┆ 3237123      ┆ 1.2948492      │\n",
       "│ usc20  ┆ 7191993   ┆ 2.8767972  ┆ 5029604      ┆ 2.0118416      │\n",
       "│ usc21  ┆ 3485277   ┆ 1.3941108  ┆ 2485466      ┆ 0.9941864      │\n",
       "│ usc22  ┆ 8256183   ┆ 3.3024732  ┆ 5994625      ┆ 2.39785        │\n",
       "│ usc23  ┆ 1944971   ┆ 0.7779884  ┆ 1485505      ┆ 0.594202       │\n",
       "│ usc24  ┆ 219695    ┆ 0.087878   ┆ 154531       ┆ 0.0618124      │\n",
       "│ usc25  ┆ 3301536   ┆ 1.3206144  ┆ 2193884      ┆ 0.8775536      │\n",
       "│ usc26  ┆ 17446919  ┆ 6.9787676  ┆ 12506334     ┆ 5.0025336      │\n",
       "│ usc27  ┆ 74676     ┆ 0.0298704  ┆ 53681        ┆ 0.0214724      │\n",
       "│ usc28  ┆ 2654461   ┆ 1.0617844  ┆ 1922996      ┆ 0.7691984      │\n",
       "│ usc28a ┆ 1235673   ┆ 0.4942692  ┆ 988936       ┆ 0.3955744      │\n",
       "│ usc29  ┆ 3562750   ┆ 1.4251     ┆ 2481727      ┆ 0.9926908      │\n",
       "│ usc30  ┆ 1251411   ┆ 0.5005644  ┆ 896317       ┆ 0.3585268      │\n",
       "│ usc31  ┆ 2610530   ┆ 1.044212   ┆ 1757811      ┆ 0.7031244      │\n",
       "│ usc32  ┆ 273372    ┆ 0.1093488  ┆ 181647       ┆ 0.0726588      │\n",
       "│ usc33  ┆ 3735748   ┆ 1.4942992  ┆ 2656220      ┆ 1.062488       │\n",
       "│ usc34  ┆ 2755439   ┆ 1.1021756  ┆ 1827121      ┆ 0.7308484      │\n",
       "│ usc35  ┆ 581597    ┆ 0.2326388  ┆ 432942       ┆ 0.1731768      │\n",
       "│ usc36  ┆ 2329985   ┆ 0.931994   ┆ 1290092      ┆ 0.5160368      │\n",
       "│ usc37  ┆ 1218527   ┆ 0.4874108  ┆ 857617       ┆ 0.3430468      │\n",
       "│ usc38  ┆ 5435890   ┆ 2.174356   ┆ 4071710      ┆ 1.628684       │\n",
       "│ usc39  ┆ 638666    ┆ 0.2554664  ┆ 420076       ┆ 0.1680304      │\n",
       "│ usc40  ┆ 1467685   ┆ 0.587074   ┆ 916554       ┆ 0.3666216      │\n",
       "│ usc41  ┆ 985688    ┆ 0.3942752  ┆ 632248       ┆ 0.2528992      │\n",
       "│ usc42  ┆ 33311058  ┆ 13.3244232 ┆ 23884845     ┆ 9.553938       │\n",
       "│ usc43  ┆ 2413908   ┆ 0.9655632  ┆ 1752121      ┆ 0.7008484      │\n",
       "│ usc44  ┆ 845278    ┆ 0.3381112  ┆ 619890       ┆ 0.247956       │\n",
       "│ usc45  ┆ 952737    ┆ 0.3810948  ┆ 713094       ┆ 0.2852376      │\n",
       "│ usc46  ┆ 2991558   ┆ 1.1966232  ┆ 1906635      ┆ 0.762654       │\n",
       "│ usc47  ┆ 1774912   ┆ 0.7099648  ┆ 1227743      ┆ 0.4910972      │\n",
       "│ usc48  ┆ 1317092   ┆ 0.5268368  ┆ 998878       ┆ 0.3995512      │\n",
       "│ usc49  ┆ 7698432   ┆ 3.0793728  ┆ 5252649      ┆ 2.1010596      │\n",
       "│ usc50  ┆ 4432277   ┆ 1.7729108  ┆ 3133072      ┆ 1.2532288      │\n",
       "│ usc50A ┆ 488       ┆ 0.0001952  ┆ 455          ┆ 0.000182       │\n",
       "│ usc51  ┆ 837325    ┆ 0.33493    ┆ 553526       ┆ 0.2214104      │\n",
       "│ usc52  ┆ 544370    ┆ 0.217748   ┆ 361084       ┆ 0.1444336      │\n",
       "│ usc54  ┆ 1005922   ┆ 0.4023688  ┆ 595627       ┆ 0.2382508      │\n",
       "│ TOTALS ┆ 207668909 ┆ 83.0675636 ┆ 147002851    ┆ 58.8011404     │\n",
       "└────────┴───────────┴────────────┴──────────────┴────────────────┘"
      ]
     },
     "metadata": {},
     "output_type": "display_data"
    }
   ],
   "source": [
    "with pl.Config(tbl_rows=500):\n",
    "    display(df)"
   ]
  },
  {
   "attachments": {},
   "cell_type": "markdown",
   "metadata": {},
   "source": [
    "By that rough estimate, embedding the whole U.S. Code, even with tag attributes\n",
    "removed, would cost about $60, require making at least [17947\n",
    "requests](https://www.wolframalpha.com/input?i=147002851.0+%2F+8191), and would\n",
    "take about [105\n",
    "MiB](https://www.wolframalpha.com/input?i=%28147002851+%2F+8191%29+*+4+*+1536+bytes+in+MiB)\n",
    "to store, if stored as compactly as NumPy represents them in memory.\n",
    "(Uncompressed JSON would be significantly bigger.)"
   ]
  },
  {
   "attachments": {},
   "cell_type": "markdown",
   "metadata": {},
   "source": [
    "## How many of the tokens are Title 42?"
   ]
  },
  {
   "cell_type": "code",
   "execution_count": 9,
   "metadata": {},
   "outputs": [
    {
     "data": {
      "text/html": [
       "<div><style>\n",
       ".dataframe > thead > tr > th,\n",
       ".dataframe > tbody > tr > td {\n",
       "  text-align: right;\n",
       "}\n",
       "</style>\n",
       "<small>shape: (2, 3)</small><table border=\"1\" class=\"dataframe\"><thead><tr><th>Title</th><th>Tokens</th><th>Clean Tokens</th></tr><tr><td>str</td><td>i64</td><td>i64</td></tr></thead><tbody><tr><td>&quot;usc42&quot;</td><td>33311058</td><td>23884845</td></tr><tr><td>&quot;TOTALS&quot;</td><td>207668909</td><td>147002851</td></tr></tbody></table></div>"
      ],
      "text/plain": [
       "shape: (2, 3)\n",
       "┌────────┬───────────┬──────────────┐\n",
       "│ Title  ┆ Tokens    ┆ Clean Tokens │\n",
       "│ ---    ┆ ---       ┆ ---          │\n",
       "│ str    ┆ i64       ┆ i64          │\n",
       "╞════════╪═══════════╪══════════════╡\n",
       "│ usc42  ┆ 33311058  ┆ 23884845     │\n",
       "│ TOTALS ┆ 207668909 ┆ 147002851    │\n",
       "└────────┴───────────┴──────────────┘"
      ]
     },
     "execution_count": 9,
     "metadata": {},
     "output_type": "execute_result"
    }
   ],
   "source": [
    "(\n",
    "    df.filter(pl.col('Title').is_in(['usc42', 'TOTALS']))\n",
    "      .select('Title', 'Tokens', 'Clean Tokens')\n",
    ")"
   ]
  },
  {
   "cell_type": "code",
   "execution_count": 10,
   "metadata": {},
   "outputs": [],
   "source": [
    "usc42_row = df.filter(pl.col('Title') == 'usc42')\n",
    "usc42_tokens = usc42_row.get_column('Tokens')[0]\n",
    "usc42_clean_tokens = usc42_row.get_column('Clean Tokens')[0]\n",
    "\n",
    "totals_row = df.filter(pl.col('Title') == 'TOTALS')\n",
    "total_tokens = totals_row.get_column('Tokens')[0]\n",
    "total_clean_tokens = totals_row.get_column('Clean Tokens')[0]"
   ]
  },
  {
   "cell_type": "code",
   "execution_count": 11,
   "metadata": {},
   "outputs": [
    {
     "name": "stdout",
     "output_type": "stream",
     "text": [
      "33311058 / 207668909 = 0.160\n"
     ]
    }
   ],
   "source": [
    "# Unclean title 42 ratio.\n",
    "print(f'{usc42_tokens} / {total_tokens} = '\n",
    "      f'{(usc42_tokens / total_tokens):.3F}')"
   ]
  },
  {
   "cell_type": "code",
   "execution_count": 12,
   "metadata": {},
   "outputs": [
    {
     "name": "stdout",
     "output_type": "stream",
     "text": [
      "23884845 / 147002851 = 0.162\n"
     ]
    }
   ],
   "source": [
    "# Clean title 42 ratio.\n",
    "print(f'{usc42_clean_tokens} / {total_clean_tokens} = '\n",
    "      f'{(usc42_clean_tokens / total_clean_tokens):.3F}')"
   ]
  },
  {
   "cell_type": "code",
   "execution_count": null,
   "metadata": {},
   "outputs": [],
   "source": []
  }
 ],
 "metadata": {
  "kernelspec": {
   "display_name": "embeddingscratchwork-aY-6i6sv-py3.11",
   "language": "python",
   "name": "python3"
  },
  "language_info": {
   "codemirror_mode": {
    "name": "ipython",
    "version": 3
   },
   "file_extension": ".py",
   "mimetype": "text/x-python",
   "name": "python",
   "nbconvert_exporter": "python",
   "pygments_lexer": "ipython3",
   "version": "3.11.3"
  },
  "orig_nbformat": 4
 },
 "nbformat": 4,
 "nbformat_minor": 2
}
