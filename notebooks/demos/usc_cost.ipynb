{
 "cells": [
  {
   "attachments": {},
   "cell_type": "markdown",
   "metadata": {},
   "source": [
    "# Estimate cost to embed U.S. Code"
   ]
  },
  {
   "cell_type": "code",
   "execution_count": 1,
   "metadata": {},
   "outputs": [],
   "source": [
    "from decimal import Decimal\n",
    "from pathlib import Path\n",
    "\n",
    "from IPython.display import display\n",
    "import polars as pl\n",
    "\n",
    "from embed.demos import usc"
   ]
  },
  {
   "cell_type": "code",
   "execution_count": 2,
   "metadata": {},
   "outputs": [],
   "source": [
    "# As of this writing, https://openai.com/pricing lists the cost for\n",
    "# text-embedding-ada-002 as \"$0.0001 / 1K tokens\".\n",
    "TOKEN_COST = Decimal('0.0001') / 1000"
   ]
  },
  {
   "cell_type": "code",
   "execution_count": 3,
   "metadata": {},
   "outputs": [],
   "source": [
    "data_dir = Path('../../data/')"
   ]
  },
  {
   "cell_type": "code",
   "execution_count": 4,
   "metadata": {},
   "outputs": [],
   "source": [
    "df = usc.full_tabulate_token_counts(data_dir, TOKEN_COST)"
   ]
  },
  {
   "cell_type": "code",
   "execution_count": 5,
   "metadata": {},
   "outputs": [
    {
     "data": {
      "text/html": [
       "<div><style>\n",
       ".dataframe > thead > tr > th,\n",
       ".dataframe > tbody > tr > td {\n",
       "  text-align: right;\n",
       "}\n",
       "</style>\n",
       "<small>shape: (59, 5)</small><table border=\"1\" class=\"dataframe\"><thead><tr><th>Title</th><th>Tokens</th><th>Cost ($)</th><th>Clean Tokens</th><th>Clean Cost ($)</th></tr><tr><td>str</td><td>i64</td><td>decimal[7]</td><td>i64</td><td>decimal[7]</td></tr></thead><tbody><tr><td>&quot;usc01&quot;</td><td>86448</td><td>0.0086448</td><td>49186</td><td>0.0049186</td></tr><tr><td>&quot;usc02&quot;</td><td>2787354</td><td>0.2787354</td><td>1429091</td><td>0.1429091</td></tr><tr><td>&quot;usc03&quot;</td><td>241628</td><td>0.0241628</td><td>143233</td><td>0.0143233</td></tr><tr><td>&quot;usc04&quot;</td><td>88632</td><td>0.0088632</td><td>45539</td><td>0.0045539</td></tr><tr><td>&quot;usc05&quot;</td><td>5752131</td><td>0.5752131</td><td>3022284</td><td>0.3022284</td></tr><tr><td>&quot;usc05A&quot;</td><td>402069</td><td>0.0402069</td><td>292921</td><td>0.0292921</td></tr><tr><td>&quot;usc06&quot;</td><td>1868609</td><td>0.1868609</td><td>923624</td><td>0.0923624</td></tr><tr><td>&quot;usc07&quot;</td><td>8890968</td><td>0.8890968</td><td>4600229</td><td>0.4600229</td></tr><tr><td>&quot;usc08&quot;</td><td>2211879</td><td>0.2211879</td><td>1266676</td><td>0.1266676</td></tr><tr><td>&quot;usc09&quot;</td><td>35461</td><td>0.0035461</td><td>17127</td><td>0.0017127</td></tr><tr><td>&quot;usc10&quot;</td><td>15460864</td><td>1.5460864</td><td>8558418</td><td>0.8558418</td></tr><tr><td>&quot;usc11&quot;</td><td>1340727</td><td>0.1340727</td><td>727245</td><td>0.0727245</td></tr><tr><td>&quot;usc11a&quot;</td><td>507665</td><td>0.0507665</td><td>317723</td><td>0.0317723</td></tr><tr><td>&quot;usc12&quot;</td><td>7314539</td><td>0.7314539</td><td>3973107</td><td>0.3973107</td></tr><tr><td>&quot;usc13&quot;</td><td>150739</td><td>0.0150739</td><td>85906</td><td>0.0085906</td></tr><tr><td>&quot;usc14&quot;</td><td>1044047</td><td>0.1044047</td><td>549403</td><td>0.0549403</td></tr><tr><td>&quot;usc15&quot;</td><td>9246980</td><td>0.924698</td><td>4857950</td><td>0.485795</td></tr><tr><td>&quot;usc16&quot;</td><td>10023036</td><td>1.0023036</td><td>5281865</td><td>0.5281865</td></tr><tr><td>&quot;usc17&quot;</td><td>767025</td><td>0.0767025</td><td>459218</td><td>0.0459218</td></tr><tr><td>&quot;usc18&quot;</td><td>3763742</td><td>0.3763742</td><td>2068117</td><td>0.2068117</td></tr><tr><td>&quot;usc18a&quot;</td><td>531661</td><td>0.0531661</td><td>374857</td><td>0.0374857</td></tr><tr><td>&quot;usc19&quot;</td><td>4368676</td><td>0.4368676</td><td>2454427</td><td>0.2454427</td></tr><tr><td>&quot;usc20&quot;</td><td>7191993</td><td>0.7191993</td><td>3769767</td><td>0.3769767</td></tr><tr><td>&quot;usc21&quot;</td><td>3485277</td><td>0.3485277</td><td>1896521</td><td>0.1896521</td></tr><tr><td>&quot;usc22&quot;</td><td>8256183</td><td>0.8256183</td><td>4507432</td><td>0.4507432</td></tr><tr><td>&quot;usc23&quot;</td><td>1944971</td><td>0.1944971</td><td>1113203</td><td>0.1113203</td></tr><tr><td>&quot;usc24&quot;</td><td>219695</td><td>0.0219695</td><td>114012</td><td>0.0114012</td></tr><tr><td>&quot;usc25&quot;</td><td>3301536</td><td>0.3301536</td><td>1596349</td><td>0.1596349</td></tr><tr><td>&quot;usc26&quot;</td><td>17446919</td><td>1.7446919</td><td>9522451</td><td>0.9522451</td></tr><tr><td>&quot;usc27&quot;</td><td>74676</td><td>0.0074676</td><td>41372</td><td>0.0041372</td></tr><tr><td>&quot;usc28&quot;</td><td>2654461</td><td>0.2654461</td><td>1465117</td><td>0.1465117</td></tr><tr><td>&quot;usc28a&quot;</td><td>1235673</td><td>0.1235673</td><td>852098</td><td>0.0852098</td></tr><tr><td>&quot;usc29&quot;</td><td>3562750</td><td>0.356275</td><td>1881235</td><td>0.1881235</td></tr><tr><td>&quot;usc30&quot;</td><td>1251411</td><td>0.1251411</td><td>690684</td><td>0.0690684</td></tr><tr><td>&quot;usc31&quot;</td><td>2610530</td><td>0.261053</td><td>1324794</td><td>0.1324794</td></tr><tr><td>&quot;usc32&quot;</td><td>273372</td><td>0.0273372</td><td>138064</td><td>0.0138064</td></tr><tr><td>&quot;usc33&quot;</td><td>3735748</td><td>0.3735748</td><td>1989096</td><td>0.1989096</td></tr><tr><td>&quot;usc34&quot;</td><td>2755439</td><td>0.2755439</td><td>1351529</td><td>0.1351529</td></tr><tr><td>&quot;usc35&quot;</td><td>581597</td><td>0.0581597</td><td>331616</td><td>0.0331616</td></tr><tr><td>&quot;usc36&quot;</td><td>2329985</td><td>0.2329985</td><td>906934</td><td>0.0906934</td></tr><tr><td>&quot;usc37&quot;</td><td>1218527</td><td>0.1218527</td><td>654905</td><td>0.0654905</td></tr><tr><td>&quot;usc38&quot;</td><td>5435890</td><td>0.543589</td><td>3087799</td><td>0.3087799</td></tr><tr><td>&quot;usc39&quot;</td><td>638666</td><td>0.0638666</td><td>308440</td><td>0.030844</td></tr><tr><td>&quot;usc40&quot;</td><td>1467685</td><td>0.1467685</td><td>666749</td><td>0.0666749</td></tr><tr><td>&quot;usc41&quot;</td><td>985688</td><td>0.0985688</td><td>468588</td><td>0.0468588</td></tr><tr><td>&quot;usc42&quot;</td><td>33311058</td><td>3.3311058</td><td>18184537</td><td>1.8184537</td></tr><tr><td>&quot;usc43&quot;</td><td>2413908</td><td>0.2413908</td><td>1321574</td><td>0.1321574</td></tr><tr><td>&quot;usc44&quot;</td><td>845278</td><td>0.0845278</td><td>457066</td><td>0.0457066</td></tr><tr><td>&quot;usc45&quot;</td><td>952737</td><td>0.0952737</td><td>562294</td><td>0.0562294</td></tr><tr><td>&quot;usc46&quot;</td><td>2991558</td><td>0.2991558</td><td>1402047</td><td>0.1402047</td></tr><tr><td>&quot;usc47&quot;</td><td>1774912</td><td>0.1774912</td><td>921339</td><td>0.0921339</td></tr><tr><td>&quot;usc48&quot;</td><td>1317092</td><td>0.1317092</td><td>765673</td><td>0.0765673</td></tr><tr><td>&quot;usc49&quot;</td><td>7698432</td><td>0.7698432</td><td>3913537</td><td>0.3913537</td></tr><tr><td>&quot;usc50&quot;</td><td>4432277</td><td>0.4432277</td><td>2368213</td><td>0.2368213</td></tr><tr><td>&quot;usc50A&quot;</td><td>488</td><td>0.0000488</td><td>397</td><td>0.0000397</td></tr><tr><td>&quot;usc51&quot;</td><td>837325</td><td>0.0837325</td><td>407851</td><td>0.0407851</td></tr><tr><td>&quot;usc52&quot;</td><td>544370</td><td>0.054437</td><td>270385</td><td>0.0270385</td></tr><tr><td>&quot;usc54&quot;</td><td>1005922</td><td>0.1005922</td><td>437749</td><td>0.0437749</td></tr><tr><td>&quot;TOTALS&quot;</td><td>207668909</td><td>20.7668909</td><td>111189563</td><td>11.1189563</td></tr></tbody></table></div>"
      ],
      "text/plain": [
       "shape: (59, 5)\n",
       "┌────────┬───────────┬────────────┬──────────────┬────────────────┐\n",
       "│ Title  ┆ Tokens    ┆ Cost ($)   ┆ Clean Tokens ┆ Clean Cost ($) │\n",
       "│ ---    ┆ ---       ┆ ---        ┆ ---          ┆ ---            │\n",
       "│ str    ┆ i64       ┆ decimal[7] ┆ i64          ┆ decimal[7]     │\n",
       "╞════════╪═══════════╪════════════╪══════════════╪════════════════╡\n",
       "│ usc01  ┆ 86448     ┆ 0.0086448  ┆ 49186        ┆ 0.0049186      │\n",
       "│ usc02  ┆ 2787354   ┆ 0.2787354  ┆ 1429091      ┆ 0.1429091      │\n",
       "│ usc03  ┆ 241628    ┆ 0.0241628  ┆ 143233       ┆ 0.0143233      │\n",
       "│ usc04  ┆ 88632     ┆ 0.0088632  ┆ 45539        ┆ 0.0045539      │\n",
       "│ usc05  ┆ 5752131   ┆ 0.5752131  ┆ 3022284      ┆ 0.3022284      │\n",
       "│ usc05A ┆ 402069    ┆ 0.0402069  ┆ 292921       ┆ 0.0292921      │\n",
       "│ usc06  ┆ 1868609   ┆ 0.1868609  ┆ 923624       ┆ 0.0923624      │\n",
       "│ usc07  ┆ 8890968   ┆ 0.8890968  ┆ 4600229      ┆ 0.4600229      │\n",
       "│ usc08  ┆ 2211879   ┆ 0.2211879  ┆ 1266676      ┆ 0.1266676      │\n",
       "│ usc09  ┆ 35461     ┆ 0.0035461  ┆ 17127        ┆ 0.0017127      │\n",
       "│ usc10  ┆ 15460864  ┆ 1.5460864  ┆ 8558418      ┆ 0.8558418      │\n",
       "│ usc11  ┆ 1340727   ┆ 0.1340727  ┆ 727245       ┆ 0.0727245      │\n",
       "│ usc11a ┆ 507665    ┆ 0.0507665  ┆ 317723       ┆ 0.0317723      │\n",
       "│ usc12  ┆ 7314539   ┆ 0.7314539  ┆ 3973107      ┆ 0.3973107      │\n",
       "│ usc13  ┆ 150739    ┆ 0.0150739  ┆ 85906        ┆ 0.0085906      │\n",
       "│ usc14  ┆ 1044047   ┆ 0.1044047  ┆ 549403       ┆ 0.0549403      │\n",
       "│ usc15  ┆ 9246980   ┆ 0.924698   ┆ 4857950      ┆ 0.485795       │\n",
       "│ usc16  ┆ 10023036  ┆ 1.0023036  ┆ 5281865      ┆ 0.5281865      │\n",
       "│ usc17  ┆ 767025    ┆ 0.0767025  ┆ 459218       ┆ 0.0459218      │\n",
       "│ usc18  ┆ 3763742   ┆ 0.3763742  ┆ 2068117      ┆ 0.2068117      │\n",
       "│ usc18a ┆ 531661    ┆ 0.0531661  ┆ 374857       ┆ 0.0374857      │\n",
       "│ usc19  ┆ 4368676   ┆ 0.4368676  ┆ 2454427      ┆ 0.2454427      │\n",
       "│ usc20  ┆ 7191993   ┆ 0.7191993  ┆ 3769767      ┆ 0.3769767      │\n",
       "│ usc21  ┆ 3485277   ┆ 0.3485277  ┆ 1896521      ┆ 0.1896521      │\n",
       "│ usc22  ┆ 8256183   ┆ 0.8256183  ┆ 4507432      ┆ 0.4507432      │\n",
       "│ usc23  ┆ 1944971   ┆ 0.1944971  ┆ 1113203      ┆ 0.1113203      │\n",
       "│ usc24  ┆ 219695    ┆ 0.0219695  ┆ 114012       ┆ 0.0114012      │\n",
       "│ usc25  ┆ 3301536   ┆ 0.3301536  ┆ 1596349      ┆ 0.1596349      │\n",
       "│ usc26  ┆ 17446919  ┆ 1.7446919  ┆ 9522451      ┆ 0.9522451      │\n",
       "│ usc27  ┆ 74676     ┆ 0.0074676  ┆ 41372        ┆ 0.0041372      │\n",
       "│ usc28  ┆ 2654461   ┆ 0.2654461  ┆ 1465117      ┆ 0.1465117      │\n",
       "│ usc28a ┆ 1235673   ┆ 0.1235673  ┆ 852098       ┆ 0.0852098      │\n",
       "│ usc29  ┆ 3562750   ┆ 0.356275   ┆ 1881235      ┆ 0.1881235      │\n",
       "│ usc30  ┆ 1251411   ┆ 0.1251411  ┆ 690684       ┆ 0.0690684      │\n",
       "│ usc31  ┆ 2610530   ┆ 0.261053   ┆ 1324794      ┆ 0.1324794      │\n",
       "│ usc32  ┆ 273372    ┆ 0.0273372  ┆ 138064       ┆ 0.0138064      │\n",
       "│ usc33  ┆ 3735748   ┆ 0.3735748  ┆ 1989096      ┆ 0.1989096      │\n",
       "│ usc34  ┆ 2755439   ┆ 0.2755439  ┆ 1351529      ┆ 0.1351529      │\n",
       "│ usc35  ┆ 581597    ┆ 0.0581597  ┆ 331616       ┆ 0.0331616      │\n",
       "│ usc36  ┆ 2329985   ┆ 0.2329985  ┆ 906934       ┆ 0.0906934      │\n",
       "│ usc37  ┆ 1218527   ┆ 0.1218527  ┆ 654905       ┆ 0.0654905      │\n",
       "│ usc38  ┆ 5435890   ┆ 0.543589   ┆ 3087799      ┆ 0.3087799      │\n",
       "│ usc39  ┆ 638666    ┆ 0.0638666  ┆ 308440       ┆ 0.030844       │\n",
       "│ usc40  ┆ 1467685   ┆ 0.1467685  ┆ 666749       ┆ 0.0666749      │\n",
       "│ usc41  ┆ 985688    ┆ 0.0985688  ┆ 468588       ┆ 0.0468588      │\n",
       "│ usc42  ┆ 33311058  ┆ 3.3311058  ┆ 18184537     ┆ 1.8184537      │\n",
       "│ usc43  ┆ 2413908   ┆ 0.2413908  ┆ 1321574      ┆ 0.1321574      │\n",
       "│ usc44  ┆ 845278    ┆ 0.0845278  ┆ 457066       ┆ 0.0457066      │\n",
       "│ usc45  ┆ 952737    ┆ 0.0952737  ┆ 562294       ┆ 0.0562294      │\n",
       "│ usc46  ┆ 2991558   ┆ 0.2991558  ┆ 1402047      ┆ 0.1402047      │\n",
       "│ usc47  ┆ 1774912   ┆ 0.1774912  ┆ 921339       ┆ 0.0921339      │\n",
       "│ usc48  ┆ 1317092   ┆ 0.1317092  ┆ 765673       ┆ 0.0765673      │\n",
       "│ usc49  ┆ 7698432   ┆ 0.7698432  ┆ 3913537      ┆ 0.3913537      │\n",
       "│ usc50  ┆ 4432277   ┆ 0.4432277  ┆ 2368213      ┆ 0.2368213      │\n",
       "│ usc50A ┆ 488       ┆ 0.0000488  ┆ 397          ┆ 0.0000397      │\n",
       "│ usc51  ┆ 837325    ┆ 0.0837325  ┆ 407851       ┆ 0.0407851      │\n",
       "│ usc52  ┆ 544370    ┆ 0.054437   ┆ 270385       ┆ 0.0270385      │\n",
       "│ usc54  ┆ 1005922   ┆ 0.1005922  ┆ 437749       ┆ 0.0437749      │\n",
       "│ TOTALS ┆ 207668909 ┆ 20.7668909 ┆ 111189563    ┆ 11.1189563     │\n",
       "└────────┴───────────┴────────────┴──────────────┴────────────────┘"
      ]
     },
     "metadata": {},
     "output_type": "display_data"
    }
   ],
   "source": [
    "with pl.Config(tbl_rows=500):\n",
    "    display(df)"
   ]
  },
  {
   "attachments": {},
   "cell_type": "markdown",
   "metadata": {},
   "source": [
    "By that rough estimate, embedding the whole U.S. Code, even with tag attributes\n",
    "removed, would cost about $11, require making at least [13 575\n",
    "requests](https://www.wolframalpha.com/input?i=111189563.0+%2F+8191), and would\n",
    "take about [80\n",
    "MiB](https://www.wolframalpha.com/input?i=%28111189563+%2F+8191%29+*+4+*+1536+bytes+in+MiB)\n",
    "to store, if stored as compactly as NumPy represents them in memory.\n",
    "(Uncompressed JSON would be significantly bigger.)"
   ]
  },
  {
   "attachments": {},
   "cell_type": "markdown",
   "metadata": {},
   "source": [
    "## How many of the tokens are Title 42?"
   ]
  },
  {
   "cell_type": "code",
   "execution_count": 6,
   "metadata": {},
   "outputs": [
    {
     "data": {
      "text/html": [
       "<div><style>\n",
       ".dataframe > thead > tr > th,\n",
       ".dataframe > tbody > tr > td {\n",
       "  text-align: right;\n",
       "}\n",
       "</style>\n",
       "<small>shape: (2, 3)</small><table border=\"1\" class=\"dataframe\"><thead><tr><th>Title</th><th>Tokens</th><th>Clean Tokens</th></tr><tr><td>str</td><td>i64</td><td>i64</td></tr></thead><tbody><tr><td>&quot;usc42&quot;</td><td>33311058</td><td>18184537</td></tr><tr><td>&quot;TOTALS&quot;</td><td>207668909</td><td>111189563</td></tr></tbody></table></div>"
      ],
      "text/plain": [
       "shape: (2, 3)\n",
       "┌────────┬───────────┬──────────────┐\n",
       "│ Title  ┆ Tokens    ┆ Clean Tokens │\n",
       "│ ---    ┆ ---       ┆ ---          │\n",
       "│ str    ┆ i64       ┆ i64          │\n",
       "╞════════╪═══════════╪══════════════╡\n",
       "│ usc42  ┆ 33311058  ┆ 18184537     │\n",
       "│ TOTALS ┆ 207668909 ┆ 111189563    │\n",
       "└────────┴───────────┴──────────────┘"
      ]
     },
     "execution_count": 6,
     "metadata": {},
     "output_type": "execute_result"
    }
   ],
   "source": [
    "(\n",
    "    df.filter(pl.col('Title').is_in(['usc42', 'TOTALS']))\n",
    "      .select('Title', 'Tokens', 'Clean Tokens')\n",
    ")"
   ]
  },
  {
   "cell_type": "code",
   "execution_count": 7,
   "metadata": {},
   "outputs": [],
   "source": [
    "usc42_row = df.filter(pl.col('Title') == 'usc42')\n",
    "usc42_tokens = usc42_row.get_column('Tokens')[0]\n",
    "usc42_clean_tokens = usc42_row.get_column('Clean Tokens')[0]\n",
    "\n",
    "totals_row = df.filter(pl.col('Title') == 'TOTALS')\n",
    "total_tokens = totals_row.get_column('Tokens')[0]\n",
    "total_clean_tokens = totals_row.get_column('Clean Tokens')[0]"
   ]
  },
  {
   "cell_type": "code",
   "execution_count": 8,
   "metadata": {},
   "outputs": [
    {
     "name": "stdout",
     "output_type": "stream",
     "text": [
      "33311058 / 207668909 = 0.160\n"
     ]
    }
   ],
   "source": [
    "# Unclean title 42 ratio.\n",
    "print(f'{usc42_tokens} / {total_tokens} = '\n",
    "      f'{(usc42_tokens / total_tokens):.3F}')"
   ]
  },
  {
   "cell_type": "code",
   "execution_count": 9,
   "metadata": {},
   "outputs": [
    {
     "name": "stdout",
     "output_type": "stream",
     "text": [
      "18184537 / 111189563 = 0.164\n"
     ]
    }
   ],
   "source": [
    "# Clean title 42 ratio.\n",
    "print(f'{usc42_clean_tokens} / {total_clean_tokens} = '\n",
    "      f'{(usc42_clean_tokens / total_clean_tokens):.3F}')"
   ]
  },
  {
   "cell_type": "code",
   "execution_count": null,
   "metadata": {},
   "outputs": [],
   "source": []
  }
 ],
 "metadata": {
  "kernelspec": {
   "display_name": "Python 3 (ipykernel)",
   "language": "python",
   "name": "python3"
  },
  "language_info": {
   "codemirror_mode": {
    "name": "ipython",
    "version": 3
   },
   "file_extension": ".py",
   "mimetype": "text/x-python",
   "name": "python",
   "nbconvert_exporter": "python",
   "pygments_lexer": "ipython3",
   "version": "3.11.4"
  }
 },
 "nbformat": 4,
 "nbformat_minor": 2
}
