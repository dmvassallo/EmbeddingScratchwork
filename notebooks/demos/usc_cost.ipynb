{
 "cells": [
  {
   "attachments": {},
   "cell_type": "markdown",
   "metadata": {},
   "source": [
    "# Estimate cost to embed U.S. Code"
   ]
  },
  {
   "cell_type": "code",
   "execution_count": 1,
   "metadata": {},
   "outputs": [],
   "source": [
    "from decimal import Decimal\n",
    "from pathlib import Path\n",
    "import polars as pl\n",
    "import xml.etree.ElementTree as ET\n",
    "\n",
    "import tiktoken"
   ]
  },
  {
   "cell_type": "code",
   "execution_count": 2,
   "metadata": {},
   "outputs": [],
   "source": [
    "# As of this writing, https://openai.com/pricing lists the cost for\n",
    "# text-embedding-ada-002 as \"$0.0004 / 1K tokens\".\n",
    "TOKEN_COST = Decimal('0.0004') / 1000"
   ]
  },
  {
   "cell_type": "code",
   "execution_count": 3,
   "metadata": {},
   "outputs": [],
   "source": [
    "data_dir = Path('../../data/')  # FIXME: See data_dir fixme in usc.ipynb."
   ]
  },
  {
   "cell_type": "code",
   "execution_count": 4,
   "metadata": {},
   "outputs": [],
   "source": [
    "encoding = tiktoken.encoding_for_model('text-embedding-ada-002')"
   ]
  },
  {
   "cell_type": "code",
   "execution_count": 5,
   "metadata": {},
   "outputs": [],
   "source": [
    "def count_tokens(text):\n",
    "    return len(encoding.encode(text))"
   ]
  },
  {
   "cell_type": "code",
   "execution_count": 6,
   "metadata": {},
   "outputs": [],
   "source": [
    "def drop_attributes(element_text):  # See usc_manual.ipynb.\n",
    "    tree = ET.fromstring(element_text)\n",
    "    for element in tree.iter():\n",
    "        element.attrib.clear()\n",
    "    return ET.tostring(tree, encoding='unicode')"
   ]
  },
  {
   "cell_type": "code",
   "execution_count": 7,
   "metadata": {},
   "outputs": [],
   "source": [
    "def with_cost_columns(df_without_costs):\n",
    "    return df_without_costs.with_columns(\n",
    "        pl.col('Tokens')\n",
    "          .apply(TOKEN_COST.__mul__)\n",
    "          .alias('Cost ($)'),\n",
    "        pl.col('Clean Tokens')\n",
    "          .apply(TOKEN_COST.__mul__)\n",
    "          .alias('Clean Cost ($)'),\n",
    "    ).select('Title', 'Tokens', 'Cost ($)', 'Clean Tokens', 'Clean Cost ($)')"
   ]
  },
  {
   "cell_type": "code",
   "execution_count": 8,
   "metadata": {},
   "outputs": [],
   "source": [
    "token_table_path = data_dir / 'usc_token_counts.csv'\n",
    "try:\n",
    "    df = pl.read_csv(token_table_path)\n",
    "except OSError:\n",
    "    df = pl.DataFrame(\n",
    "        {\n",
    "            'Title': path.stem,\n",
    "            'Tokens': count_tokens(full_text := path.read_text(encoding='utf-8')),\n",
    "            'Clean Tokens': count_tokens(drop_attributes(full_text)),\n",
    "        }\n",
    "        for path in (data_dir / 'xml_uscAll@118-3not328/').glob('usc0?.xml')\n",
    "        # FIXME: After debugging, change pattern to '*.xml' to use all the files. ^\n",
    "    ).sort('Title')\n",
    "\n",
    "    df.write_csv(token_table_path)\n",
    "    assert pl.read_csv(token_table_path).frame_equal(df)"
   ]
  },
  {
   "cell_type": "code",
   "execution_count": 9,
   "metadata": {},
   "outputs": [
    {
     "data": {
      "text/html": [
       "<div><style>\n",
       ".dataframe > thead > tr > th,\n",
       ".dataframe > tbody > tr > td {\n",
       "  text-align: right;\n",
       "}\n",
       "</style>\n",
       "<small>shape: (10, 5)</small><table border=\"1\" class=\"dataframe\"><thead><tr><th>Title</th><th>Tokens</th><th>Cost ($)</th><th>Clean Tokens</th><th>Clean Cost ($)</th></tr><tr><td>str</td><td>i64</td><td>decimal[7]</td><td>i64</td><td>decimal[7]</td></tr></thead><tbody><tr><td>&quot;usc01&quot;</td><td>86448</td><td>0.0345792</td><td>65046</td><td>0.0260184</td></tr><tr><td>&quot;usc02&quot;</td><td>2787354</td><td>1.1149416</td><td>1926874</td><td>0.7707496</td></tr><tr><td>&quot;usc03&quot;</td><td>241628</td><td>0.0966512</td><td>183674</td><td>0.0734696</td></tr><tr><td>&quot;usc04&quot;</td><td>88632</td><td>0.0354528</td><td>60806</td><td>0.0243224</td></tr><tr><td>&quot;usc05&quot;</td><td>5752131</td><td>2.3008524</td><td>3975940</td><td>1.590376</td></tr><tr><td>&quot;usc06&quot;</td><td>1868609</td><td>0.7474436</td><td>1270617</td><td>0.5082468</td></tr><tr><td>&quot;usc07&quot;</td><td>8890968</td><td>3.5563872</td><td>6136383</td><td>2.4545532</td></tr><tr><td>&quot;usc08&quot;</td><td>2211879</td><td>0.8847516</td><td>1634466</td><td>0.6537864</td></tr><tr><td>&quot;usc09&quot;</td><td>35461</td><td>0.0141844</td><td>23886</td><td>0.0095544</td></tr><tr><td>&quot;TOTALS&quot;</td><td>21963110</td><td>8.785244</td><td>15277692</td><td>6.1110768</td></tr></tbody></table></div>"
      ],
      "text/plain": [
       "shape: (10, 5)\n",
       "┌────────┬──────────┬────────────┬──────────────┬────────────────┐\n",
       "│ Title  ┆ Tokens   ┆ Cost ($)   ┆ Clean Tokens ┆ Clean Cost ($) │\n",
       "│ ---    ┆ ---      ┆ ---        ┆ ---          ┆ ---            │\n",
       "│ str    ┆ i64      ┆ decimal[7] ┆ i64          ┆ decimal[7]     │\n",
       "╞════════╪══════════╪════════════╪══════════════╪════════════════╡\n",
       "│ usc01  ┆ 86448    ┆ 0.0345792  ┆ 65046        ┆ 0.0260184      │\n",
       "│ usc02  ┆ 2787354  ┆ 1.1149416  ┆ 1926874      ┆ 0.7707496      │\n",
       "│ usc03  ┆ 241628   ┆ 0.0966512  ┆ 183674       ┆ 0.0734696      │\n",
       "│ usc04  ┆ 88632    ┆ 0.0354528  ┆ 60806        ┆ 0.0243224      │\n",
       "│ …      ┆ …        ┆ …          ┆ …            ┆ …              │\n",
       "│ usc07  ┆ 8890968  ┆ 3.5563872  ┆ 6136383      ┆ 2.4545532      │\n",
       "│ usc08  ┆ 2211879  ┆ 0.8847516  ┆ 1634466      ┆ 0.6537864      │\n",
       "│ usc09  ┆ 35461    ┆ 0.0141844  ┆ 23886        ┆ 0.0095544      │\n",
       "│ TOTALS ┆ 21963110 ┆ 8.785244   ┆ 15277692     ┆ 6.1110768      │\n",
       "└────────┴──────────┴────────────┴──────────────┴────────────────┘"
      ]
     },
     "execution_count": 9,
     "metadata": {},
     "output_type": "execute_result"
    }
   ],
   "source": [
    "totals = df.sum().with_columns(pl.Series(\"Title\", [\"TOTALS\"]))\n",
    "df = pl.concat([df, totals])\n",
    "df = with_cost_columns(df)\n",
    "df"
   ]
  },
  {
   "attachments": {},
   "cell_type": "markdown",
   "metadata": {},
   "source": [
    "By this rough estimate, embedding the whole U.S. Code, even with tag attributes removed, would cost about $60, require making at least [17947 requests](https://www.wolframalpha.com/input?i=147002851.0+%2F+8191), and would take about [105 MiB](https://www.wolframalpha.com/input?i=%28147002851+%2F+8191%29+*+4+*+1536+bytes+in+MiB) to store, if stored as compactly as NumPy represents them in memory. (Uncompressed JSON would be significantly bigger.)"
   ]
  },
  {
   "cell_type": "code",
   "execution_count": 10,
   "metadata": {},
   "outputs": [
    {
     "data": {
      "text/plain": [
       "0.16040464680247346"
      ]
     },
     "execution_count": 10,
     "metadata": {},
     "output_type": "execute_result"
    }
   ],
   "source": [
    "# unclean title 42 ratio\n",
    "33311058/207668909"
   ]
  },
  {
   "cell_type": "code",
   "execution_count": 11,
   "metadata": {},
   "outputs": [
    {
     "data": {
      "text/plain": [
       "0.16247878757126963"
      ]
     },
     "execution_count": 11,
     "metadata": {},
     "output_type": "execute_result"
    }
   ],
   "source": [
    "# clean title 42 ratio\n",
    "23884845/147002851"
   ]
  },
  {
   "cell_type": "code",
   "execution_count": null,
   "metadata": {},
   "outputs": [],
   "source": []
  }
 ],
 "metadata": {
  "kernelspec": {
   "display_name": "embeddingscratchwork-aY-6i6sv-py3.11",
   "language": "python",
   "name": "python3"
  },
  "language_info": {
   "codemirror_mode": {
    "name": "ipython",
    "version": 3
   },
   "file_extension": ".py",
   "mimetype": "text/x-python",
   "name": "python",
   "nbconvert_exporter": "python",
   "pygments_lexer": "ipython3",
   "version": "3.11.3"
  },
  "orig_nbformat": 4
 },
 "nbformat": 4,
 "nbformat_minor": 2
}
