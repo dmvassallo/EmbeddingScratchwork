{
 "cells": [
  {
   "attachments": {},
   "cell_type": "markdown",
   "metadata": {},
   "source": [
    "# Estimate cost to embed U.S. Code"
   ]
  },
  {
   "cell_type": "code",
   "execution_count": 1,
   "metadata": {},
   "outputs": [],
   "source": [
    "import attrs\n",
    "from decimal import Decimal\n",
    "from pathlib import Path\n",
    "import xml.etree.ElementTree as ET\n",
    "\n",
    "from tabulate import tabulate\n",
    "import tiktoken"
   ]
  },
  {
   "cell_type": "code",
   "execution_count": 2,
   "metadata": {},
   "outputs": [],
   "source": [
    "# As of this writing, https://openai.com/pricing lists the cost for\n",
    "# text-embedding-ada-002 as \"$0.0004 / 1K tokens\".\n",
    "TOKEN_COST = Decimal('0.0004') / 1000"
   ]
  },
  {
   "cell_type": "code",
   "execution_count": 3,
   "metadata": {},
   "outputs": [],
   "source": [
    "encoding = tiktoken.encoding_for_model('text-embedding-ada-002')"
   ]
  },
  {
   "cell_type": "code",
   "execution_count": 4,
   "metadata": {},
   "outputs": [],
   "source": [
    "def count_tokens(text):\n",
    "    return len(encoding.encode(text))"
   ]
  },
  {
   "cell_type": "code",
   "execution_count": 5,
   "metadata": {},
   "outputs": [],
   "source": [
    "def drop_attributes(element_text):  # See usc_manual.ipynb.\n",
    "    tree = ET.fromstring(element_text)\n",
    "    for element in tree.iter():\n",
    "        element.attrib.clear()\n",
    "    return ET.tostring(tree, encoding='unicode')"
   ]
  },
  {
   "cell_type": "code",
   "execution_count": 6,
   "metadata": {},
   "outputs": [],
   "source": [
    "@attrs.frozen\n",
    "class CostTableRow:  # TODO: Maybe use a pandas or Polars data frame instead.\n",
    "    \"\"\"A row in a table of token count and cost information.\"\"\"\n",
    "\n",
    "    title = attrs.field()\n",
    "    \"\"\"Name of the full USC title, represented as its XML file's basename.\"\"\"\n",
    "\n",
    "    tokens = attrs.field()\n",
    "    \"\"\"Number of tokens in the full USC title.\"\"\"\n",
    "\n",
    "    cost = attrs.field()\n",
    "    \"\"\"Cost to embed the full USC title, in US dollars.\"\"\"\n",
    "\n",
    "    clean_tokens = attrs.field()\n",
    "    \"\"\"Number of tokens in the USC title if tag attributes are removed.\"\"\"\n",
    "\n",
    "    clean_cost = attrs.field()\n",
    "    \"\"\"Cost to embed the USC title with tag attributes removed.\"\"\"\n",
    "\n",
    "    @classmethod\n",
    "    def compute(cls, path):\n",
    "        \"\"\"Compute a ``CostTableRow`` for a USC title, given its file path.\"\"\"\n",
    "        path = Path(path)  # In case it was given as a string.\n",
    "        full_text = path.read_text(encoding='utf-8')\n",
    "        tokens = count_tokens(full_text)\n",
    "        clean_tokens = count_tokens(drop_attributes(full_text))\n",
    "\n",
    "        return cls(\n",
    "            title=path.stem,\n",
    "            tokens=tokens,\n",
    "            cost=(tokens * TOKEN_COST),\n",
    "            clean_tokens=clean_tokens,\n",
    "            clean_cost=(clean_tokens * TOKEN_COST),\n",
    "        )"
   ]
  },
  {
   "cell_type": "code",
   "execution_count": 7,
   "metadata": {},
   "outputs": [
    {
     "data": {
      "text/plain": [
       "CostTableRow(title='usc01', tokens=86448, cost=Decimal('0.0345792'), clean_tokens=65046, clean_cost=Decimal('0.0260184'))"
      ]
     },
     "execution_count": 7,
     "metadata": {},
     "output_type": "execute_result"
    }
   ],
   "source": [
    "# Try this out on just one of the files first.\n",
    "CostTableRow.compute('../../data/xml_uscAll@118-3not328/usc01.xml')"
   ]
  },
  {
   "cell_type": "code",
   "execution_count": 8,
   "metadata": {},
   "outputs": [],
   "source": [
    "def compute_totals(rows):\n",
    "    \"\"\"Make a \"TOTALS\" row with the sums of all four numbers.\"\"\"\n",
    "    return CostTableRow(\n",
    "        title='TOTALS',\n",
    "        tokens=sum(row.tokens for row in rows),\n",
    "        cost=sum(row.cost for row in rows),\n",
    "        clean_tokens=sum(row.clean_tokens for row in rows),\n",
    "        clean_cost=sum(row.clean_cost for row in rows),\n",
    "    )"
   ]
  },
  {
   "cell_type": "code",
   "execution_count": 9,
   "metadata": {},
   "outputs": [],
   "source": [
    "def build_table_rows(dir):\n",
    "    unsorted = (CostTableRow.compute(path) for path in Path(dir).glob('*.xml'))\n",
    "    without_totals = sorted(unsorted, key=lambda row: row.title)\n",
    "    with_totals = [*without_totals, compute_totals(without_totals)]\n",
    "    return [attrs.astuple(row) for row in with_totals]"
   ]
  },
  {
   "cell_type": "code",
   "execution_count": 10,
   "metadata": {},
   "outputs": [
    {
     "data": {
      "text/html": [
       "<table>\n",
       "<thead>\n",
       "<tr><th>Title  </th><th style=\"text-align: right;\">   Tokens</th><th style=\"text-align: right;\">  Cost ($)</th><th style=\"text-align: right;\">  Clean Tokens</th><th style=\"text-align: right;\">  Clean Cost ($)</th></tr>\n",
       "</thead>\n",
       "<tbody>\n",
       "<tr><td>usc01  </td><td style=\"text-align: right;\">    86448</td><td style=\"text-align: right;\"> 0.0345792</td><td style=\"text-align: right;\">         65046</td><td style=\"text-align: right;\">       0.0260184</td></tr>\n",
       "<tr><td>usc02  </td><td style=\"text-align: right;\">  2787354</td><td style=\"text-align: right;\"> 1.11494  </td><td style=\"text-align: right;\">       1926874</td><td style=\"text-align: right;\">       0.77075  </td></tr>\n",
       "<tr><td>usc03  </td><td style=\"text-align: right;\">   241628</td><td style=\"text-align: right;\"> 0.0966512</td><td style=\"text-align: right;\">        183674</td><td style=\"text-align: right;\">       0.0734696</td></tr>\n",
       "<tr><td>usc04  </td><td style=\"text-align: right;\">    88632</td><td style=\"text-align: right;\"> 0.0354528</td><td style=\"text-align: right;\">         60806</td><td style=\"text-align: right;\">       0.0243224</td></tr>\n",
       "<tr><td>usc05  </td><td style=\"text-align: right;\">  5752131</td><td style=\"text-align: right;\"> 2.30085  </td><td style=\"text-align: right;\">       3975940</td><td style=\"text-align: right;\">       1.59038  </td></tr>\n",
       "<tr><td>usc05A </td><td style=\"text-align: right;\">   402069</td><td style=\"text-align: right;\"> 0.160828 </td><td style=\"text-align: right;\">        338226</td><td style=\"text-align: right;\">       0.13529  </td></tr>\n",
       "<tr><td>usc06  </td><td style=\"text-align: right;\">  1868609</td><td style=\"text-align: right;\"> 0.747444 </td><td style=\"text-align: right;\">       1270617</td><td style=\"text-align: right;\">       0.508247 </td></tr>\n",
       "<tr><td>usc07  </td><td style=\"text-align: right;\">  8890968</td><td style=\"text-align: right;\"> 3.55639  </td><td style=\"text-align: right;\">       6136383</td><td style=\"text-align: right;\">       2.45455  </td></tr>\n",
       "<tr><td>usc08  </td><td style=\"text-align: right;\">  2211879</td><td style=\"text-align: right;\"> 0.884752 </td><td style=\"text-align: right;\">       1634466</td><td style=\"text-align: right;\">       0.653786 </td></tr>\n",
       "<tr><td>usc09  </td><td style=\"text-align: right;\">    35461</td><td style=\"text-align: right;\"> 0.0141844</td><td style=\"text-align: right;\">         23886</td><td style=\"text-align: right;\">       0.0095544</td></tr>\n",
       "<tr><td>usc10  </td><td style=\"text-align: right;\"> 15460864</td><td style=\"text-align: right;\"> 6.18435  </td><td style=\"text-align: right;\">      11402364</td><td style=\"text-align: right;\">       4.56095  </td></tr>\n",
       "<tr><td>usc11  </td><td style=\"text-align: right;\">  1340727</td><td style=\"text-align: right;\"> 0.536291 </td><td style=\"text-align: right;\">        927439</td><td style=\"text-align: right;\">       0.370976 </td></tr>\n",
       "<tr><td>usc11a </td><td style=\"text-align: right;\">   507665</td><td style=\"text-align: right;\"> 0.203066 </td><td style=\"text-align: right;\">        384620</td><td style=\"text-align: right;\">       0.153848 </td></tr>\n",
       "<tr><td>usc12  </td><td style=\"text-align: right;\">  7314539</td><td style=\"text-align: right;\"> 2.92582  </td><td style=\"text-align: right;\">       5189790</td><td style=\"text-align: right;\">       2.07592  </td></tr>\n",
       "<tr><td>usc13  </td><td style=\"text-align: right;\">   150739</td><td style=\"text-align: right;\"> 0.0602956</td><td style=\"text-align: right;\">        112147</td><td style=\"text-align: right;\">       0.0448588</td></tr>\n",
       "<tr><td>usc14  </td><td style=\"text-align: right;\">  1044047</td><td style=\"text-align: right;\"> 0.417619 </td><td style=\"text-align: right;\">        745734</td><td style=\"text-align: right;\">       0.298294 </td></tr>\n",
       "<tr><td>usc15  </td><td style=\"text-align: right;\">  9246980</td><td style=\"text-align: right;\"> 3.69879  </td><td style=\"text-align: right;\">       6418973</td><td style=\"text-align: right;\">       2.56759  </td></tr>\n",
       "<tr><td>usc16  </td><td style=\"text-align: right;\"> 10023036</td><td style=\"text-align: right;\"> 4.00921  </td><td style=\"text-align: right;\">       7012129</td><td style=\"text-align: right;\">       2.80485  </td></tr>\n",
       "<tr><td>usc17  </td><td style=\"text-align: right;\">   767025</td><td style=\"text-align: right;\"> 0.30681  </td><td style=\"text-align: right;\">        574350</td><td style=\"text-align: right;\">       0.22974  </td></tr>\n",
       "<tr><td>usc18  </td><td style=\"text-align: right;\">  3763742</td><td style=\"text-align: right;\"> 1.5055   </td><td style=\"text-align: right;\">       2709403</td><td style=\"text-align: right;\">       1.08376  </td></tr>\n",
       "<tr><td>usc18a </td><td style=\"text-align: right;\">   531661</td><td style=\"text-align: right;\"> 0.212664 </td><td style=\"text-align: right;\">        435598</td><td style=\"text-align: right;\">       0.174239 </td></tr>\n",
       "<tr><td>usc19  </td><td style=\"text-align: right;\">  4368676</td><td style=\"text-align: right;\"> 1.74747  </td><td style=\"text-align: right;\">       3237123</td><td style=\"text-align: right;\">       1.29485  </td></tr>\n",
       "<tr><td>usc20  </td><td style=\"text-align: right;\">  7191993</td><td style=\"text-align: right;\"> 2.8768   </td><td style=\"text-align: right;\">       5029604</td><td style=\"text-align: right;\">       2.01184  </td></tr>\n",
       "<tr><td>usc21  </td><td style=\"text-align: right;\">  3485277</td><td style=\"text-align: right;\"> 1.39411  </td><td style=\"text-align: right;\">       2485466</td><td style=\"text-align: right;\">       0.994186 </td></tr>\n",
       "<tr><td>usc22  </td><td style=\"text-align: right;\">  8256183</td><td style=\"text-align: right;\"> 3.30247  </td><td style=\"text-align: right;\">       5994625</td><td style=\"text-align: right;\">       2.39785  </td></tr>\n",
       "<tr><td>usc23  </td><td style=\"text-align: right;\">  1944971</td><td style=\"text-align: right;\"> 0.777988 </td><td style=\"text-align: right;\">       1485505</td><td style=\"text-align: right;\">       0.594202 </td></tr>\n",
       "<tr><td>usc24  </td><td style=\"text-align: right;\">   219695</td><td style=\"text-align: right;\"> 0.087878 </td><td style=\"text-align: right;\">        154531</td><td style=\"text-align: right;\">       0.0618124</td></tr>\n",
       "<tr><td>usc25  </td><td style=\"text-align: right;\">  3301536</td><td style=\"text-align: right;\"> 1.32061  </td><td style=\"text-align: right;\">       2193884</td><td style=\"text-align: right;\">       0.877554 </td></tr>\n",
       "<tr><td>usc26  </td><td style=\"text-align: right;\"> 17446919</td><td style=\"text-align: right;\"> 6.97877  </td><td style=\"text-align: right;\">      12506334</td><td style=\"text-align: right;\">       5.00253  </td></tr>\n",
       "<tr><td>usc27  </td><td style=\"text-align: right;\">    74676</td><td style=\"text-align: right;\"> 0.0298704</td><td style=\"text-align: right;\">         53681</td><td style=\"text-align: right;\">       0.0214724</td></tr>\n",
       "<tr><td>usc28  </td><td style=\"text-align: right;\">  2654461</td><td style=\"text-align: right;\"> 1.06178  </td><td style=\"text-align: right;\">       1922996</td><td style=\"text-align: right;\">       0.769198 </td></tr>\n",
       "<tr><td>usc28a </td><td style=\"text-align: right;\">  1235673</td><td style=\"text-align: right;\"> 0.494269 </td><td style=\"text-align: right;\">        988936</td><td style=\"text-align: right;\">       0.395574 </td></tr>\n",
       "<tr><td>usc29  </td><td style=\"text-align: right;\">  3562750</td><td style=\"text-align: right;\"> 1.4251   </td><td style=\"text-align: right;\">       2481727</td><td style=\"text-align: right;\">       0.992691 </td></tr>\n",
       "<tr><td>usc30  </td><td style=\"text-align: right;\">  1251411</td><td style=\"text-align: right;\"> 0.500564 </td><td style=\"text-align: right;\">        896317</td><td style=\"text-align: right;\">       0.358527 </td></tr>\n",
       "<tr><td>usc31  </td><td style=\"text-align: right;\">  2610530</td><td style=\"text-align: right;\"> 1.04421  </td><td style=\"text-align: right;\">       1757811</td><td style=\"text-align: right;\">       0.703124 </td></tr>\n",
       "<tr><td>usc32  </td><td style=\"text-align: right;\">   273372</td><td style=\"text-align: right;\"> 0.109349 </td><td style=\"text-align: right;\">        181647</td><td style=\"text-align: right;\">       0.0726588</td></tr>\n",
       "<tr><td>usc33  </td><td style=\"text-align: right;\">  3735748</td><td style=\"text-align: right;\"> 1.4943   </td><td style=\"text-align: right;\">       2656220</td><td style=\"text-align: right;\">       1.06249  </td></tr>\n",
       "<tr><td>usc34  </td><td style=\"text-align: right;\">  2755439</td><td style=\"text-align: right;\"> 1.10218  </td><td style=\"text-align: right;\">       1827121</td><td style=\"text-align: right;\">       0.730848 </td></tr>\n",
       "<tr><td>usc35  </td><td style=\"text-align: right;\">   581597</td><td style=\"text-align: right;\"> 0.232639 </td><td style=\"text-align: right;\">        432942</td><td style=\"text-align: right;\">       0.173177 </td></tr>\n",
       "<tr><td>usc36  </td><td style=\"text-align: right;\">  2329985</td><td style=\"text-align: right;\"> 0.931994 </td><td style=\"text-align: right;\">       1290092</td><td style=\"text-align: right;\">       0.516037 </td></tr>\n",
       "<tr><td>usc37  </td><td style=\"text-align: right;\">  1218527</td><td style=\"text-align: right;\"> 0.487411 </td><td style=\"text-align: right;\">        857617</td><td style=\"text-align: right;\">       0.343047 </td></tr>\n",
       "<tr><td>usc38  </td><td style=\"text-align: right;\">  5435890</td><td style=\"text-align: right;\"> 2.17436  </td><td style=\"text-align: right;\">       4071710</td><td style=\"text-align: right;\">       1.62868  </td></tr>\n",
       "<tr><td>usc39  </td><td style=\"text-align: right;\">   638666</td><td style=\"text-align: right;\"> 0.255466 </td><td style=\"text-align: right;\">        420076</td><td style=\"text-align: right;\">       0.16803  </td></tr>\n",
       "<tr><td>usc40  </td><td style=\"text-align: right;\">  1467685</td><td style=\"text-align: right;\"> 0.587074 </td><td style=\"text-align: right;\">        916554</td><td style=\"text-align: right;\">       0.366622 </td></tr>\n",
       "<tr><td>usc41  </td><td style=\"text-align: right;\">   985688</td><td style=\"text-align: right;\"> 0.394275 </td><td style=\"text-align: right;\">        632248</td><td style=\"text-align: right;\">       0.252899 </td></tr>\n",
       "<tr><td>usc42  </td><td style=\"text-align: right;\"> 33311058</td><td style=\"text-align: right;\">13.3244   </td><td style=\"text-align: right;\">      23884845</td><td style=\"text-align: right;\">       9.55394  </td></tr>\n",
       "<tr><td>usc43  </td><td style=\"text-align: right;\">  2413908</td><td style=\"text-align: right;\"> 0.965563 </td><td style=\"text-align: right;\">       1752121</td><td style=\"text-align: right;\">       0.700848 </td></tr>\n",
       "<tr><td>usc44  </td><td style=\"text-align: right;\">   845278</td><td style=\"text-align: right;\"> 0.338111 </td><td style=\"text-align: right;\">        619890</td><td style=\"text-align: right;\">       0.247956 </td></tr>\n",
       "<tr><td>usc45  </td><td style=\"text-align: right;\">   952737</td><td style=\"text-align: right;\"> 0.381095 </td><td style=\"text-align: right;\">        713094</td><td style=\"text-align: right;\">       0.285238 </td></tr>\n",
       "<tr><td>usc46  </td><td style=\"text-align: right;\">  2991558</td><td style=\"text-align: right;\"> 1.19662  </td><td style=\"text-align: right;\">       1906635</td><td style=\"text-align: right;\">       0.762654 </td></tr>\n",
       "<tr><td>usc47  </td><td style=\"text-align: right;\">  1774912</td><td style=\"text-align: right;\"> 0.709965 </td><td style=\"text-align: right;\">       1227743</td><td style=\"text-align: right;\">       0.491097 </td></tr>\n",
       "<tr><td>usc48  </td><td style=\"text-align: right;\">  1317092</td><td style=\"text-align: right;\"> 0.526837 </td><td style=\"text-align: right;\">        998878</td><td style=\"text-align: right;\">       0.399551 </td></tr>\n",
       "<tr><td>usc49  </td><td style=\"text-align: right;\">  7698432</td><td style=\"text-align: right;\"> 3.07937  </td><td style=\"text-align: right;\">       5252649</td><td style=\"text-align: right;\">       2.10106  </td></tr>\n",
       "<tr><td>usc50  </td><td style=\"text-align: right;\">  4432277</td><td style=\"text-align: right;\"> 1.77291  </td><td style=\"text-align: right;\">       3133072</td><td style=\"text-align: right;\">       1.25323  </td></tr>\n",
       "<tr><td>usc50A </td><td style=\"text-align: right;\">      488</td><td style=\"text-align: right;\"> 0.0001952</td><td style=\"text-align: right;\">           455</td><td style=\"text-align: right;\">       0.000182 </td></tr>\n",
       "<tr><td>usc51  </td><td style=\"text-align: right;\">   837325</td><td style=\"text-align: right;\"> 0.33493  </td><td style=\"text-align: right;\">        553526</td><td style=\"text-align: right;\">       0.22141  </td></tr>\n",
       "<tr><td>usc52  </td><td style=\"text-align: right;\">   544370</td><td style=\"text-align: right;\"> 0.217748 </td><td style=\"text-align: right;\">        361084</td><td style=\"text-align: right;\">       0.144434 </td></tr>\n",
       "<tr><td>usc54  </td><td style=\"text-align: right;\">  1005922</td><td style=\"text-align: right;\"> 0.402369 </td><td style=\"text-align: right;\">        595627</td><td style=\"text-align: right;\">       0.238251 </td></tr>\n",
       "<tr><td>TOTALS </td><td style=\"text-align: right;\">207668909</td><td style=\"text-align: right;\">83.0676   </td><td style=\"text-align: right;\">     147002851</td><td style=\"text-align: right;\">      58.8011   </td></tr>\n",
       "</tbody>\n",
       "</table>"
      ],
      "text/plain": [
       "'<table>\\n<thead>\\n<tr><th>Title  </th><th style=\"text-align: right;\">   Tokens</th><th style=\"text-align: right;\">  Cost ($)</th><th style=\"text-align: right;\">  Clean Tokens</th><th style=\"text-align: right;\">  Clean Cost ($)</th></tr>\\n</thead>\\n<tbody>\\n<tr><td>usc01  </td><td style=\"text-align: right;\">    86448</td><td style=\"text-align: right;\"> 0.0345792</td><td style=\"text-align: right;\">         65046</td><td style=\"text-align: right;\">       0.0260184</td></tr>\\n<tr><td>usc02  </td><td style=\"text-align: right;\">  2787354</td><td style=\"text-align: right;\"> 1.11494  </td><td style=\"text-align: right;\">       1926874</td><td style=\"text-align: right;\">       0.77075  </td></tr>\\n<tr><td>usc03  </td><td style=\"text-align: right;\">   241628</td><td style=\"text-align: right;\"> 0.0966512</td><td style=\"text-align: right;\">        183674</td><td style=\"text-align: right;\">       0.0734696</td></tr>\\n<tr><td>usc04  </td><td style=\"text-align: right;\">    88632</td><td style=\"text-align: right;\"> 0.0354528</td><td style=\"text-align: right;\">         60806</td><td style=\"text-align: right;\">       0.0243224</td></tr>\\n<tr><td>usc05  </td><td style=\"text-align: right;\">  5752131</td><td style=\"text-align: right;\"> 2.30085  </td><td style=\"text-align: right;\">       3975940</td><td style=\"text-align: right;\">       1.59038  </td></tr>\\n<tr><td>usc05A </td><td style=\"text-align: right;\">   402069</td><td style=\"text-align: right;\"> 0.160828 </td><td style=\"text-align: right;\">        338226</td><td style=\"text-align: right;\">       0.13529  </td></tr>\\n<tr><td>usc06  </td><td style=\"text-align: right;\">  1868609</td><td style=\"text-align: right;\"> 0.747444 </td><td style=\"text-align: right;\">       1270617</td><td style=\"text-align: right;\">       0.508247 </td></tr>\\n<tr><td>usc07  </td><td style=\"text-align: right;\">  8890968</td><td style=\"text-align: right;\"> 3.55639  </td><td style=\"text-align: right;\">       6136383</td><td style=\"text-align: right;\">       2.45455  </td></tr>\\n<tr><td>usc08  </td><td style=\"text-align: right;\">  2211879</td><td style=\"text-align: right;\"> 0.884752 </td><td style=\"text-align: right;\">       1634466</td><td style=\"text-align: right;\">       0.653786 </td></tr>\\n<tr><td>usc09  </td><td style=\"text-align: right;\">    35461</td><td style=\"text-align: right;\"> 0.0141844</td><td style=\"text-align: right;\">         23886</td><td style=\"text-align: right;\">       0.0095544</td></tr>\\n<tr><td>usc10  </td><td style=\"text-align: right;\"> 15460864</td><td style=\"text-align: right;\"> 6.18435  </td><td style=\"text-align: right;\">      11402364</td><td style=\"text-align: right;\">       4.56095  </td></tr>\\n<tr><td>usc11  </td><td style=\"text-align: right;\">  1340727</td><td style=\"text-align: right;\"> 0.536291 </td><td style=\"text-align: right;\">        927439</td><td style=\"text-align: right;\">       0.370976 </td></tr>\\n<tr><td>usc11a </td><td style=\"text-align: right;\">   507665</td><td style=\"text-align: right;\"> 0.203066 </td><td style=\"text-align: right;\">        384620</td><td style=\"text-align: right;\">       0.153848 </td></tr>\\n<tr><td>usc12  </td><td style=\"text-align: right;\">  7314539</td><td style=\"text-align: right;\"> 2.92582  </td><td style=\"text-align: right;\">       5189790</td><td style=\"text-align: right;\">       2.07592  </td></tr>\\n<tr><td>usc13  </td><td style=\"text-align: right;\">   150739</td><td style=\"text-align: right;\"> 0.0602956</td><td style=\"text-align: right;\">        112147</td><td style=\"text-align: right;\">       0.0448588</td></tr>\\n<tr><td>usc14  </td><td style=\"text-align: right;\">  1044047</td><td style=\"text-align: right;\"> 0.417619 </td><td style=\"text-align: right;\">        745734</td><td style=\"text-align: right;\">       0.298294 </td></tr>\\n<tr><td>usc15  </td><td style=\"text-align: right;\">  9246980</td><td style=\"text-align: right;\"> 3.69879  </td><td style=\"text-align: right;\">       6418973</td><td style=\"text-align: right;\">       2.56759  </td></tr>\\n<tr><td>usc16  </td><td style=\"text-align: right;\"> 10023036</td><td style=\"text-align: right;\"> 4.00921  </td><td style=\"text-align: right;\">       7012129</td><td style=\"text-align: right;\">       2.80485  </td></tr>\\n<tr><td>usc17  </td><td style=\"text-align: right;\">   767025</td><td style=\"text-align: right;\"> 0.30681  </td><td style=\"text-align: right;\">        574350</td><td style=\"text-align: right;\">       0.22974  </td></tr>\\n<tr><td>usc18  </td><td style=\"text-align: right;\">  3763742</td><td style=\"text-align: right;\"> 1.5055   </td><td style=\"text-align: right;\">       2709403</td><td style=\"text-align: right;\">       1.08376  </td></tr>\\n<tr><td>usc18a </td><td style=\"text-align: right;\">   531661</td><td style=\"text-align: right;\"> 0.212664 </td><td style=\"text-align: right;\">        435598</td><td style=\"text-align: right;\">       0.174239 </td></tr>\\n<tr><td>usc19  </td><td style=\"text-align: right;\">  4368676</td><td style=\"text-align: right;\"> 1.74747  </td><td style=\"text-align: right;\">       3237123</td><td style=\"text-align: right;\">       1.29485  </td></tr>\\n<tr><td>usc20  </td><td style=\"text-align: right;\">  7191993</td><td style=\"text-align: right;\"> 2.8768   </td><td style=\"text-align: right;\">       5029604</td><td style=\"text-align: right;\">       2.01184  </td></tr>\\n<tr><td>usc21  </td><td style=\"text-align: right;\">  3485277</td><td style=\"text-align: right;\"> 1.39411  </td><td style=\"text-align: right;\">       2485466</td><td style=\"text-align: right;\">       0.994186 </td></tr>\\n<tr><td>usc22  </td><td style=\"text-align: right;\">  8256183</td><td style=\"text-align: right;\"> 3.30247  </td><td style=\"text-align: right;\">       5994625</td><td style=\"text-align: right;\">       2.39785  </td></tr>\\n<tr><td>usc23  </td><td style=\"text-align: right;\">  1944971</td><td style=\"text-align: right;\"> 0.777988 </td><td style=\"text-align: right;\">       1485505</td><td style=\"text-align: right;\">       0.594202 </td></tr>\\n<tr><td>usc24  </td><td style=\"text-align: right;\">   219695</td><td style=\"text-align: right;\"> 0.087878 </td><td style=\"text-align: right;\">        154531</td><td style=\"text-align: right;\">       0.0618124</td></tr>\\n<tr><td>usc25  </td><td style=\"text-align: right;\">  3301536</td><td style=\"text-align: right;\"> 1.32061  </td><td style=\"text-align: right;\">       2193884</td><td style=\"text-align: right;\">       0.877554 </td></tr>\\n<tr><td>usc26  </td><td style=\"text-align: right;\"> 17446919</td><td style=\"text-align: right;\"> 6.97877  </td><td style=\"text-align: right;\">      12506334</td><td style=\"text-align: right;\">       5.00253  </td></tr>\\n<tr><td>usc27  </td><td style=\"text-align: right;\">    74676</td><td style=\"text-align: right;\"> 0.0298704</td><td style=\"text-align: right;\">         53681</td><td style=\"text-align: right;\">       0.0214724</td></tr>\\n<tr><td>usc28  </td><td style=\"text-align: right;\">  2654461</td><td style=\"text-align: right;\"> 1.06178  </td><td style=\"text-align: right;\">       1922996</td><td style=\"text-align: right;\">       0.769198 </td></tr>\\n<tr><td>usc28a </td><td style=\"text-align: right;\">  1235673</td><td style=\"text-align: right;\"> 0.494269 </td><td style=\"text-align: right;\">        988936</td><td style=\"text-align: right;\">       0.395574 </td></tr>\\n<tr><td>usc29  </td><td style=\"text-align: right;\">  3562750</td><td style=\"text-align: right;\"> 1.4251   </td><td style=\"text-align: right;\">       2481727</td><td style=\"text-align: right;\">       0.992691 </td></tr>\\n<tr><td>usc30  </td><td style=\"text-align: right;\">  1251411</td><td style=\"text-align: right;\"> 0.500564 </td><td style=\"text-align: right;\">        896317</td><td style=\"text-align: right;\">       0.358527 </td></tr>\\n<tr><td>usc31  </td><td style=\"text-align: right;\">  2610530</td><td style=\"text-align: right;\"> 1.04421  </td><td style=\"text-align: right;\">       1757811</td><td style=\"text-align: right;\">       0.703124 </td></tr>\\n<tr><td>usc32  </td><td style=\"text-align: right;\">   273372</td><td style=\"text-align: right;\"> 0.109349 </td><td style=\"text-align: right;\">        181647</td><td style=\"text-align: right;\">       0.0726588</td></tr>\\n<tr><td>usc33  </td><td style=\"text-align: right;\">  3735748</td><td style=\"text-align: right;\"> 1.4943   </td><td style=\"text-align: right;\">       2656220</td><td style=\"text-align: right;\">       1.06249  </td></tr>\\n<tr><td>usc34  </td><td style=\"text-align: right;\">  2755439</td><td style=\"text-align: right;\"> 1.10218  </td><td style=\"text-align: right;\">       1827121</td><td style=\"text-align: right;\">       0.730848 </td></tr>\\n<tr><td>usc35  </td><td style=\"text-align: right;\">   581597</td><td style=\"text-align: right;\"> 0.232639 </td><td style=\"text-align: right;\">        432942</td><td style=\"text-align: right;\">       0.173177 </td></tr>\\n<tr><td>usc36  </td><td style=\"text-align: right;\">  2329985</td><td style=\"text-align: right;\"> 0.931994 </td><td style=\"text-align: right;\">       1290092</td><td style=\"text-align: right;\">       0.516037 </td></tr>\\n<tr><td>usc37  </td><td style=\"text-align: right;\">  1218527</td><td style=\"text-align: right;\"> 0.487411 </td><td style=\"text-align: right;\">        857617</td><td style=\"text-align: right;\">       0.343047 </td></tr>\\n<tr><td>usc38  </td><td style=\"text-align: right;\">  5435890</td><td style=\"text-align: right;\"> 2.17436  </td><td style=\"text-align: right;\">       4071710</td><td style=\"text-align: right;\">       1.62868  </td></tr>\\n<tr><td>usc39  </td><td style=\"text-align: right;\">   638666</td><td style=\"text-align: right;\"> 0.255466 </td><td style=\"text-align: right;\">        420076</td><td style=\"text-align: right;\">       0.16803  </td></tr>\\n<tr><td>usc40  </td><td style=\"text-align: right;\">  1467685</td><td style=\"text-align: right;\"> 0.587074 </td><td style=\"text-align: right;\">        916554</td><td style=\"text-align: right;\">       0.366622 </td></tr>\\n<tr><td>usc41  </td><td style=\"text-align: right;\">   985688</td><td style=\"text-align: right;\"> 0.394275 </td><td style=\"text-align: right;\">        632248</td><td style=\"text-align: right;\">       0.252899 </td></tr>\\n<tr><td>usc42  </td><td style=\"text-align: right;\"> 33311058</td><td style=\"text-align: right;\">13.3244   </td><td style=\"text-align: right;\">      23884845</td><td style=\"text-align: right;\">       9.55394  </td></tr>\\n<tr><td>usc43  </td><td style=\"text-align: right;\">  2413908</td><td style=\"text-align: right;\"> 0.965563 </td><td style=\"text-align: right;\">       1752121</td><td style=\"text-align: right;\">       0.700848 </td></tr>\\n<tr><td>usc44  </td><td style=\"text-align: right;\">   845278</td><td style=\"text-align: right;\"> 0.338111 </td><td style=\"text-align: right;\">        619890</td><td style=\"text-align: right;\">       0.247956 </td></tr>\\n<tr><td>usc45  </td><td style=\"text-align: right;\">   952737</td><td style=\"text-align: right;\"> 0.381095 </td><td style=\"text-align: right;\">        713094</td><td style=\"text-align: right;\">       0.285238 </td></tr>\\n<tr><td>usc46  </td><td style=\"text-align: right;\">  2991558</td><td style=\"text-align: right;\"> 1.19662  </td><td style=\"text-align: right;\">       1906635</td><td style=\"text-align: right;\">       0.762654 </td></tr>\\n<tr><td>usc47  </td><td style=\"text-align: right;\">  1774912</td><td style=\"text-align: right;\"> 0.709965 </td><td style=\"text-align: right;\">       1227743</td><td style=\"text-align: right;\">       0.491097 </td></tr>\\n<tr><td>usc48  </td><td style=\"text-align: right;\">  1317092</td><td style=\"text-align: right;\"> 0.526837 </td><td style=\"text-align: right;\">        998878</td><td style=\"text-align: right;\">       0.399551 </td></tr>\\n<tr><td>usc49  </td><td style=\"text-align: right;\">  7698432</td><td style=\"text-align: right;\"> 3.07937  </td><td style=\"text-align: right;\">       5252649</td><td style=\"text-align: right;\">       2.10106  </td></tr>\\n<tr><td>usc50  </td><td style=\"text-align: right;\">  4432277</td><td style=\"text-align: right;\"> 1.77291  </td><td style=\"text-align: right;\">       3133072</td><td style=\"text-align: right;\">       1.25323  </td></tr>\\n<tr><td>usc50A </td><td style=\"text-align: right;\">      488</td><td style=\"text-align: right;\"> 0.0001952</td><td style=\"text-align: right;\">           455</td><td style=\"text-align: right;\">       0.000182 </td></tr>\\n<tr><td>usc51  </td><td style=\"text-align: right;\">   837325</td><td style=\"text-align: right;\"> 0.33493  </td><td style=\"text-align: right;\">        553526</td><td style=\"text-align: right;\">       0.22141  </td></tr>\\n<tr><td>usc52  </td><td style=\"text-align: right;\">   544370</td><td style=\"text-align: right;\"> 0.217748 </td><td style=\"text-align: right;\">        361084</td><td style=\"text-align: right;\">       0.144434 </td></tr>\\n<tr><td>usc54  </td><td style=\"text-align: right;\">  1005922</td><td style=\"text-align: right;\"> 0.402369 </td><td style=\"text-align: right;\">        595627</td><td style=\"text-align: right;\">       0.238251 </td></tr>\\n<tr><td>TOTALS </td><td style=\"text-align: right;\">207668909</td><td style=\"text-align: right;\">83.0676   </td><td style=\"text-align: right;\">     147002851</td><td style=\"text-align: right;\">      58.8011   </td></tr>\\n</tbody>\\n</table>'"
      ]
     },
     "execution_count": 10,
     "metadata": {},
     "output_type": "execute_result"
    }
   ],
   "source": [
    "headers = ['Title', 'Tokens', 'Cost ($)', 'Clean Tokens', 'Clean Cost ($)']\n",
    "table_rows = build_table_rows('../../data/xml_uscAll@118-3not328/')\n",
    "tabulate(table_rows, headers=headers, tablefmt='html')"
   ]
  },
  {
   "attachments": {},
   "cell_type": "markdown",
   "metadata": {},
   "source": [
    "By this rough estimate, embedding the whole U.S. Code, even with tag attributes removed, would cost about $60, require making at least [17947 requests](https://www.wolframalpha.com/input?i=147002851.0+%2F+8191), and would take about [105 MiB](https://www.wolframalpha.com/input?i=%28147002851+%2F+8191%29+*+4+*+1536+bytes+in+MiB) to store, if stored as compactly as NumPy represents them in memory. (Uncompressed JSON would be significantly bigger.)"
   ]
  }
 ],
 "metadata": {
  "kernelspec": {
   "display_name": "embeddingscratchwork-aY-6i6sv-py3.11",
   "language": "python",
   "name": "python3"
  },
  "language_info": {
   "codemirror_mode": {
    "name": "ipython",
    "version": 3
   },
   "file_extension": ".py",
   "mimetype": "text/x-python",
   "name": "python",
   "nbconvert_exporter": "python",
   "pygments_lexer": "ipython3",
   "version": "3.11.3"
  },
  "orig_nbformat": 4
 },
 "nbformat": 4,
 "nbformat_minor": 2
}
