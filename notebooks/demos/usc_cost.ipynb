{
 "cells": [
  {
   "attachments": {},
   "cell_type": "markdown",
   "metadata": {},
   "source": [
    "# Estimate cost to embed U.S. Code"
   ]
  },
  {
   "cell_type": "code",
   "execution_count": 1,
   "metadata": {},
   "outputs": [],
   "source": [
    "from decimal import Decimal\n",
    "from pathlib import Path\n",
    "\n",
    "from lxml import etree as ET\n",
    "import polars as pl\n",
    "\n",
    "from embed import count_tokens"
   ]
  },
  {
   "cell_type": "code",
   "execution_count": 2,
   "metadata": {},
   "outputs": [],
   "source": [
    "# As of this writing, https://openai.com/pricing lists the cost for\n",
    "# text-embedding-ada-002 as \"$0.0004 / 1K tokens\".\n",
    "TOKEN_COST = Decimal('0.0004') / 1000"
   ]
  },
  {
   "cell_type": "code",
   "execution_count": 3,
   "metadata": {},
   "outputs": [],
   "source": [
    "data_dir = Path('../../data/')  # FIXME: See data_dir fixme in usc.ipynb."
   ]
  },
  {
   "cell_type": "code",
   "execution_count": 4,
   "metadata": {},
   "outputs": [],
   "source": [
    "def drop_attributes(element_text):  # See usc_manual.ipynb.\n",
    "    tree = ET.fromstring(element_text.encode('utf-8'))\n",
    "    for element in tree.iter():\n",
    "        element.attrib.clear()\n",
    "    return ET.tostring(tree, encoding='unicode')"
   ]
  },
  {
   "cell_type": "code",
   "execution_count": 5,
   "metadata": {},
   "outputs": [],
   "source": [
    "def with_cost_columns(df_without_costs):\n",
    "    return df_without_costs.with_columns(\n",
    "        pl.col('Tokens')\n",
    "          .apply(TOKEN_COST.__mul__)\n",
    "          .alias('Cost ($)'),\n",
    "        pl.col('Clean Tokens')\n",
    "          .apply(TOKEN_COST.__mul__)\n",
    "          .alias('Clean Cost ($)'),\n",
    "    ).select('Title', 'Tokens', 'Cost ($)', 'Clean Tokens', 'Clean Cost ($)')"
   ]
  },
  {
   "cell_type": "code",
   "execution_count": 6,
   "metadata": {},
   "outputs": [],
   "source": [
    "token_table_path = data_dir / 'usc_token_counts.csv'\n",
    "try:\n",
    "    df = pl.read_csv(token_table_path)\n",
    "except OSError:\n",
    "    # Find paths to relevant XML files, failing clearly if none were found.\n",
    "    paths = sorted((data_dir / 'xml_uscAll@118-3not328/').glob('*.xml'))\n",
    "    assert paths, 'No XML files found.'\n",
    "\n",
    "    # Read the files and count tokens with and without tag attributes.\n",
    "    named_full_texts = (\n",
    "        (path.stem, path.read_text(encoding='utf-8')) for path in paths\n",
    "    )\n",
    "    df = pl.DataFrame(\n",
    "        {\n",
    "            'Title': name,\n",
    "            'Tokens': count_tokens(full_text),\n",
    "            'Clean Tokens': count_tokens(drop_attributes(full_text)),\n",
    "        }\n",
    "        for name, full_text in named_full_texts\n",
    "    )\n",
    "\n",
    "    # Save the results and check that they were saved correctly.\n",
    "    df.write_csv(token_table_path)\n",
    "    assert pl.read_csv(token_table_path).frame_equal(df)"
   ]
  },
  {
   "cell_type": "code",
   "execution_count": 7,
   "metadata": {},
   "outputs": [],
   "source": [
    "# Add a totals row at the bottom, and cost columns for each tokens column.\n",
    "totals = df.sum().with_columns(pl.Series(\"Title\", [\"TOTALS\"]))\n",
    "df = pl.concat([df, totals])\n",
    "df = with_cost_columns(df)"
   ]
  },
  {
   "cell_type": "code",
   "execution_count": 8,
   "metadata": {},
   "outputs": [
    {
     "data": {
      "text/html": [
       "<div><style>\n",
       ".dataframe > thead > tr > th,\n",
       ".dataframe > tbody > tr > td {\n",
       "  text-align: right;\n",
       "}\n",
       "</style>\n",
       "<small>shape: (59, 5)</small><table border=\"1\" class=\"dataframe\"><thead><tr><th>Title</th><th>Tokens</th><th>Cost ($)</th><th>Clean Tokens</th><th>Clean Cost ($)</th></tr><tr><td>str</td><td>i64</td><td>decimal[7]</td><td>i64</td><td>decimal[7]</td></tr></thead><tbody><tr><td>&quot;usc01&quot;</td><td>86448</td><td>0.0345792</td><td>49186</td><td>0.0196744</td></tr><tr><td>&quot;usc02&quot;</td><td>2787354</td><td>1.1149416</td><td>1429091</td><td>0.5716364</td></tr><tr><td>&quot;usc03&quot;</td><td>241628</td><td>0.0966512</td><td>143233</td><td>0.0572932</td></tr><tr><td>&quot;usc04&quot;</td><td>88632</td><td>0.0354528</td><td>45539</td><td>0.0182156</td></tr><tr><td>&quot;usc05&quot;</td><td>5752131</td><td>2.3008524</td><td>3022284</td><td>1.2089136</td></tr><tr><td>&quot;usc05A&quot;</td><td>402069</td><td>0.1608276</td><td>292921</td><td>0.1171684</td></tr><tr><td>&quot;usc06&quot;</td><td>1868609</td><td>0.7474436</td><td>923624</td><td>0.3694496</td></tr><tr><td>&quot;usc07&quot;</td><td>8890968</td><td>3.5563872</td><td>4600229</td><td>1.8400916</td></tr><tr><td>&quot;usc08&quot;</td><td>2211879</td><td>0.8847516</td><td>1266676</td><td>0.5066704</td></tr><tr><td>&quot;usc09&quot;</td><td>35461</td><td>0.0141844</td><td>17127</td><td>0.0068508</td></tr><tr><td>&quot;usc10&quot;</td><td>15460864</td><td>6.1843456</td><td>8558418</td><td>3.4233672</td></tr><tr><td>&quot;usc11&quot;</td><td>1340727</td><td>0.5362908</td><td>727245</td><td>0.290898</td></tr><tr><td>&quot;usc11a&quot;</td><td>507665</td><td>0.203066</td><td>317723</td><td>0.1270892</td></tr><tr><td>&quot;usc12&quot;</td><td>7314539</td><td>2.9258156</td><td>3973107</td><td>1.5892428</td></tr><tr><td>&quot;usc13&quot;</td><td>150739</td><td>0.0602956</td><td>85906</td><td>0.0343624</td></tr><tr><td>&quot;usc14&quot;</td><td>1044047</td><td>0.4176188</td><td>549403</td><td>0.2197612</td></tr><tr><td>&quot;usc15&quot;</td><td>9246980</td><td>3.698792</td><td>4857950</td><td>1.94318</td></tr><tr><td>&quot;usc16&quot;</td><td>10023036</td><td>4.0092144</td><td>5281865</td><td>2.112746</td></tr><tr><td>&quot;usc17&quot;</td><td>767025</td><td>0.30681</td><td>459218</td><td>0.1836872</td></tr><tr><td>&quot;usc18&quot;</td><td>3763742</td><td>1.5054968</td><td>2068117</td><td>0.8272468</td></tr><tr><td>&quot;usc18a&quot;</td><td>531661</td><td>0.2126644</td><td>374857</td><td>0.1499428</td></tr><tr><td>&quot;usc19&quot;</td><td>4368676</td><td>1.7474704</td><td>2454427</td><td>0.9817708</td></tr><tr><td>&quot;usc20&quot;</td><td>7191993</td><td>2.8767972</td><td>3769767</td><td>1.5079068</td></tr><tr><td>&quot;usc21&quot;</td><td>3485277</td><td>1.3941108</td><td>1896521</td><td>0.7586084</td></tr><tr><td>&quot;usc22&quot;</td><td>8256183</td><td>3.3024732</td><td>4507432</td><td>1.8029728</td></tr><tr><td>&quot;usc23&quot;</td><td>1944971</td><td>0.7779884</td><td>1113203</td><td>0.4452812</td></tr><tr><td>&quot;usc24&quot;</td><td>219695</td><td>0.087878</td><td>114012</td><td>0.0456048</td></tr><tr><td>&quot;usc25&quot;</td><td>3301536</td><td>1.3206144</td><td>1596349</td><td>0.6385396</td></tr><tr><td>&quot;usc26&quot;</td><td>17446919</td><td>6.9787676</td><td>9522451</td><td>3.8089804</td></tr><tr><td>&quot;usc27&quot;</td><td>74676</td><td>0.0298704</td><td>41372</td><td>0.0165488</td></tr><tr><td>&quot;usc28&quot;</td><td>2654461</td><td>1.0617844</td><td>1465117</td><td>0.5860468</td></tr><tr><td>&quot;usc28a&quot;</td><td>1235673</td><td>0.4942692</td><td>852098</td><td>0.3408392</td></tr><tr><td>&quot;usc29&quot;</td><td>3562750</td><td>1.4251</td><td>1881235</td><td>0.752494</td></tr><tr><td>&quot;usc30&quot;</td><td>1251411</td><td>0.5005644</td><td>690684</td><td>0.2762736</td></tr><tr><td>&quot;usc31&quot;</td><td>2610530</td><td>1.044212</td><td>1324794</td><td>0.5299176</td></tr><tr><td>&quot;usc32&quot;</td><td>273372</td><td>0.1093488</td><td>138064</td><td>0.0552256</td></tr><tr><td>&quot;usc33&quot;</td><td>3735748</td><td>1.4942992</td><td>1989096</td><td>0.7956384</td></tr><tr><td>&quot;usc34&quot;</td><td>2755439</td><td>1.1021756</td><td>1351529</td><td>0.5406116</td></tr><tr><td>&quot;usc35&quot;</td><td>581597</td><td>0.2326388</td><td>331616</td><td>0.1326464</td></tr><tr><td>&quot;usc36&quot;</td><td>2329985</td><td>0.931994</td><td>906934</td><td>0.3627736</td></tr><tr><td>&quot;usc37&quot;</td><td>1218527</td><td>0.4874108</td><td>654905</td><td>0.261962</td></tr><tr><td>&quot;usc38&quot;</td><td>5435890</td><td>2.174356</td><td>3087799</td><td>1.2351196</td></tr><tr><td>&quot;usc39&quot;</td><td>638666</td><td>0.2554664</td><td>308440</td><td>0.123376</td></tr><tr><td>&quot;usc40&quot;</td><td>1467685</td><td>0.587074</td><td>666749</td><td>0.2666996</td></tr><tr><td>&quot;usc41&quot;</td><td>985688</td><td>0.3942752</td><td>468588</td><td>0.1874352</td></tr><tr><td>&quot;usc42&quot;</td><td>33311058</td><td>13.3244232</td><td>18184537</td><td>7.2738148</td></tr><tr><td>&quot;usc43&quot;</td><td>2413908</td><td>0.9655632</td><td>1321574</td><td>0.5286296</td></tr><tr><td>&quot;usc44&quot;</td><td>845278</td><td>0.3381112</td><td>457066</td><td>0.1828264</td></tr><tr><td>&quot;usc45&quot;</td><td>952737</td><td>0.3810948</td><td>562294</td><td>0.2249176</td></tr><tr><td>&quot;usc46&quot;</td><td>2991558</td><td>1.1966232</td><td>1402047</td><td>0.5608188</td></tr><tr><td>&quot;usc47&quot;</td><td>1774912</td><td>0.7099648</td><td>921339</td><td>0.3685356</td></tr><tr><td>&quot;usc48&quot;</td><td>1317092</td><td>0.5268368</td><td>765673</td><td>0.3062692</td></tr><tr><td>&quot;usc49&quot;</td><td>7698432</td><td>3.0793728</td><td>3913537</td><td>1.5654148</td></tr><tr><td>&quot;usc50&quot;</td><td>4432277</td><td>1.7729108</td><td>2368213</td><td>0.9472852</td></tr><tr><td>&quot;usc50A&quot;</td><td>488</td><td>0.0001952</td><td>397</td><td>0.0001588</td></tr><tr><td>&quot;usc51&quot;</td><td>837325</td><td>0.33493</td><td>407851</td><td>0.1631404</td></tr><tr><td>&quot;usc52&quot;</td><td>544370</td><td>0.217748</td><td>270385</td><td>0.108154</td></tr><tr><td>&quot;usc54&quot;</td><td>1005922</td><td>0.4023688</td><td>437749</td><td>0.1750996</td></tr><tr><td>&quot;TOTALS&quot;</td><td>207668909</td><td>83.0675636</td><td>111189563</td><td>44.4758252</td></tr></tbody></table></div>"
      ],
      "text/plain": [
       "shape: (59, 5)\n",
       "┌────────┬───────────┬────────────┬──────────────┬────────────────┐\n",
       "│ Title  ┆ Tokens    ┆ Cost ($)   ┆ Clean Tokens ┆ Clean Cost ($) │\n",
       "│ ---    ┆ ---       ┆ ---        ┆ ---          ┆ ---            │\n",
       "│ str    ┆ i64       ┆ decimal[7] ┆ i64          ┆ decimal[7]     │\n",
       "╞════════╪═══════════╪════════════╪══════════════╪════════════════╡\n",
       "│ usc01  ┆ 86448     ┆ 0.0345792  ┆ 49186        ┆ 0.0196744      │\n",
       "│ usc02  ┆ 2787354   ┆ 1.1149416  ┆ 1429091      ┆ 0.5716364      │\n",
       "│ usc03  ┆ 241628    ┆ 0.0966512  ┆ 143233       ┆ 0.0572932      │\n",
       "│ usc04  ┆ 88632     ┆ 0.0354528  ┆ 45539        ┆ 0.0182156      │\n",
       "│ usc05  ┆ 5752131   ┆ 2.3008524  ┆ 3022284      ┆ 1.2089136      │\n",
       "│ usc05A ┆ 402069    ┆ 0.1608276  ┆ 292921       ┆ 0.1171684      │\n",
       "│ usc06  ┆ 1868609   ┆ 0.7474436  ┆ 923624       ┆ 0.3694496      │\n",
       "│ usc07  ┆ 8890968   ┆ 3.5563872  ┆ 4600229      ┆ 1.8400916      │\n",
       "│ usc08  ┆ 2211879   ┆ 0.8847516  ┆ 1266676      ┆ 0.5066704      │\n",
       "│ usc09  ┆ 35461     ┆ 0.0141844  ┆ 17127        ┆ 0.0068508      │\n",
       "│ usc10  ┆ 15460864  ┆ 6.1843456  ┆ 8558418      ┆ 3.4233672      │\n",
       "│ usc11  ┆ 1340727   ┆ 0.5362908  ┆ 727245       ┆ 0.290898       │\n",
       "│ usc11a ┆ 507665    ┆ 0.203066   ┆ 317723       ┆ 0.1270892      │\n",
       "│ usc12  ┆ 7314539   ┆ 2.9258156  ┆ 3973107      ┆ 1.5892428      │\n",
       "│ usc13  ┆ 150739    ┆ 0.0602956  ┆ 85906        ┆ 0.0343624      │\n",
       "│ usc14  ┆ 1044047   ┆ 0.4176188  ┆ 549403       ┆ 0.2197612      │\n",
       "│ usc15  ┆ 9246980   ┆ 3.698792   ┆ 4857950      ┆ 1.94318        │\n",
       "│ usc16  ┆ 10023036  ┆ 4.0092144  ┆ 5281865      ┆ 2.112746       │\n",
       "│ usc17  ┆ 767025    ┆ 0.30681    ┆ 459218       ┆ 0.1836872      │\n",
       "│ usc18  ┆ 3763742   ┆ 1.5054968  ┆ 2068117      ┆ 0.8272468      │\n",
       "│ usc18a ┆ 531661    ┆ 0.2126644  ┆ 374857       ┆ 0.1499428      │\n",
       "│ usc19  ┆ 4368676   ┆ 1.7474704  ┆ 2454427      ┆ 0.9817708      │\n",
       "│ usc20  ┆ 7191993   ┆ 2.8767972  ┆ 3769767      ┆ 1.5079068      │\n",
       "│ usc21  ┆ 3485277   ┆ 1.3941108  ┆ 1896521      ┆ 0.7586084      │\n",
       "│ usc22  ┆ 8256183   ┆ 3.3024732  ┆ 4507432      ┆ 1.8029728      │\n",
       "│ usc23  ┆ 1944971   ┆ 0.7779884  ┆ 1113203      ┆ 0.4452812      │\n",
       "│ usc24  ┆ 219695    ┆ 0.087878   ┆ 114012       ┆ 0.0456048      │\n",
       "│ usc25  ┆ 3301536   ┆ 1.3206144  ┆ 1596349      ┆ 0.6385396      │\n",
       "│ usc26  ┆ 17446919  ┆ 6.9787676  ┆ 9522451      ┆ 3.8089804      │\n",
       "│ usc27  ┆ 74676     ┆ 0.0298704  ┆ 41372        ┆ 0.0165488      │\n",
       "│ usc28  ┆ 2654461   ┆ 1.0617844  ┆ 1465117      ┆ 0.5860468      │\n",
       "│ usc28a ┆ 1235673   ┆ 0.4942692  ┆ 852098       ┆ 0.3408392      │\n",
       "│ usc29  ┆ 3562750   ┆ 1.4251     ┆ 1881235      ┆ 0.752494       │\n",
       "│ usc30  ┆ 1251411   ┆ 0.5005644  ┆ 690684       ┆ 0.2762736      │\n",
       "│ usc31  ┆ 2610530   ┆ 1.044212   ┆ 1324794      ┆ 0.5299176      │\n",
       "│ usc32  ┆ 273372    ┆ 0.1093488  ┆ 138064       ┆ 0.0552256      │\n",
       "│ usc33  ┆ 3735748   ┆ 1.4942992  ┆ 1989096      ┆ 0.7956384      │\n",
       "│ usc34  ┆ 2755439   ┆ 1.1021756  ┆ 1351529      ┆ 0.5406116      │\n",
       "│ usc35  ┆ 581597    ┆ 0.2326388  ┆ 331616       ┆ 0.1326464      │\n",
       "│ usc36  ┆ 2329985   ┆ 0.931994   ┆ 906934       ┆ 0.3627736      │\n",
       "│ usc37  ┆ 1218527   ┆ 0.4874108  ┆ 654905       ┆ 0.261962       │\n",
       "│ usc38  ┆ 5435890   ┆ 2.174356   ┆ 3087799      ┆ 1.2351196      │\n",
       "│ usc39  ┆ 638666    ┆ 0.2554664  ┆ 308440       ┆ 0.123376       │\n",
       "│ usc40  ┆ 1467685   ┆ 0.587074   ┆ 666749       ┆ 0.2666996      │\n",
       "│ usc41  ┆ 985688    ┆ 0.3942752  ┆ 468588       ┆ 0.1874352      │\n",
       "│ usc42  ┆ 33311058  ┆ 13.3244232 ┆ 18184537     ┆ 7.2738148      │\n",
       "│ usc43  ┆ 2413908   ┆ 0.9655632  ┆ 1321574      ┆ 0.5286296      │\n",
       "│ usc44  ┆ 845278    ┆ 0.3381112  ┆ 457066       ┆ 0.1828264      │\n",
       "│ usc45  ┆ 952737    ┆ 0.3810948  ┆ 562294       ┆ 0.2249176      │\n",
       "│ usc46  ┆ 2991558   ┆ 1.1966232  ┆ 1402047      ┆ 0.5608188      │\n",
       "│ usc47  ┆ 1774912   ┆ 0.7099648  ┆ 921339       ┆ 0.3685356      │\n",
       "│ usc48  ┆ 1317092   ┆ 0.5268368  ┆ 765673       ┆ 0.3062692      │\n",
       "│ usc49  ┆ 7698432   ┆ 3.0793728  ┆ 3913537      ┆ 1.5654148      │\n",
       "│ usc50  ┆ 4432277   ┆ 1.7729108  ┆ 2368213      ┆ 0.9472852      │\n",
       "│ usc50A ┆ 488       ┆ 0.0001952  ┆ 397          ┆ 0.0001588      │\n",
       "│ usc51  ┆ 837325    ┆ 0.33493    ┆ 407851       ┆ 0.1631404      │\n",
       "│ usc52  ┆ 544370    ┆ 0.217748   ┆ 270385       ┆ 0.108154       │\n",
       "│ usc54  ┆ 1005922   ┆ 0.4023688  ┆ 437749       ┆ 0.1750996      │\n",
       "│ TOTALS ┆ 207668909 ┆ 83.0675636 ┆ 111189563    ┆ 44.4758252     │\n",
       "└────────┴───────────┴────────────┴──────────────┴────────────────┘"
      ]
     },
     "metadata": {},
     "output_type": "display_data"
    }
   ],
   "source": [
    "with pl.Config(tbl_rows=500):\n",
    "    display(df)"
   ]
  },
  {
   "attachments": {},
   "cell_type": "markdown",
   "metadata": {},
   "source": [
    "By that rough estimate, embedding the whole U.S. Code, even with tag attributes\n",
    "removed, would cost about $45, require making at least [13 575\n",
    "requests](https://www.wolframalpha.com/input?i=111189563.0+%2F+8191), and would\n",
    "take about [80\n",
    "MiB](https://www.wolframalpha.com/input?i=%28111189563+%2F+8191%29+*+4+*+1536+bytes+in+MiB)\n",
    "to store, if stored as compactly as NumPy represents them in memory.\n",
    "(Uncompressed JSON would be significantly bigger.)"
   ]
  },
  {
   "attachments": {},
   "cell_type": "markdown",
   "metadata": {},
   "source": [
    "## How many of the tokens are Title 42?"
   ]
  },
  {
   "cell_type": "code",
   "execution_count": 9,
   "metadata": {},
   "outputs": [
    {
     "data": {
      "text/html": [
       "<div><style>\n",
       ".dataframe > thead > tr > th,\n",
       ".dataframe > tbody > tr > td {\n",
       "  text-align: right;\n",
       "}\n",
       "</style>\n",
       "<small>shape: (2, 3)</small><table border=\"1\" class=\"dataframe\"><thead><tr><th>Title</th><th>Tokens</th><th>Clean Tokens</th></tr><tr><td>str</td><td>i64</td><td>i64</td></tr></thead><tbody><tr><td>&quot;usc42&quot;</td><td>33311058</td><td>18184537</td></tr><tr><td>&quot;TOTALS&quot;</td><td>207668909</td><td>111189563</td></tr></tbody></table></div>"
      ],
      "text/plain": [
       "shape: (2, 3)\n",
       "┌────────┬───────────┬──────────────┐\n",
       "│ Title  ┆ Tokens    ┆ Clean Tokens │\n",
       "│ ---    ┆ ---       ┆ ---          │\n",
       "│ str    ┆ i64       ┆ i64          │\n",
       "╞════════╪═══════════╪══════════════╡\n",
       "│ usc42  ┆ 33311058  ┆ 18184537     │\n",
       "│ TOTALS ┆ 207668909 ┆ 111189563    │\n",
       "└────────┴───────────┴──────────────┘"
      ]
     },
     "execution_count": 9,
     "metadata": {},
     "output_type": "execute_result"
    }
   ],
   "source": [
    "(\n",
    "    df.filter(pl.col('Title').is_in(['usc42', 'TOTALS']))\n",
    "      .select('Title', 'Tokens', 'Clean Tokens')\n",
    ")"
   ]
  },
  {
   "cell_type": "code",
   "execution_count": 10,
   "metadata": {},
   "outputs": [],
   "source": [
    "usc42_row = df.filter(pl.col('Title') == 'usc42')\n",
    "usc42_tokens = usc42_row.get_column('Tokens')[0]\n",
    "usc42_clean_tokens = usc42_row.get_column('Clean Tokens')[0]\n",
    "\n",
    "totals_row = df.filter(pl.col('Title') == 'TOTALS')\n",
    "total_tokens = totals_row.get_column('Tokens')[0]\n",
    "total_clean_tokens = totals_row.get_column('Clean Tokens')[0]"
   ]
  },
  {
   "cell_type": "code",
   "execution_count": 11,
   "metadata": {},
   "outputs": [
    {
     "name": "stdout",
     "output_type": "stream",
     "text": [
      "33311058 / 207668909 = 0.160\n"
     ]
    }
   ],
   "source": [
    "# Unclean title 42 ratio.\n",
    "print(f'{usc42_tokens} / {total_tokens} = '\n",
    "      f'{(usc42_tokens / total_tokens):.3F}')"
   ]
  },
  {
   "cell_type": "code",
   "execution_count": 12,
   "metadata": {},
   "outputs": [
    {
     "name": "stdout",
     "output_type": "stream",
     "text": [
      "18184537 / 111189563 = 0.164\n"
     ]
    }
   ],
   "source": [
    "# Clean title 42 ratio.\n",
    "print(f'{usc42_clean_tokens} / {total_clean_tokens} = '\n",
    "      f'{(usc42_clean_tokens / total_clean_tokens):.3F}')"
   ]
  },
  {
   "cell_type": "code",
   "execution_count": null,
   "metadata": {},
   "outputs": [],
   "source": []
  }
 ],
 "metadata": {
  "kernelspec": {
   "display_name": "embeddingscratchwork-aY-6i6sv-py3.11",
   "language": "python",
   "name": "python3"
  },
  "language_info": {
   "codemirror_mode": {
    "name": "ipython",
    "version": 3
   },
   "file_extension": ".py",
   "mimetype": "text/x-python",
   "name": "python",
   "nbconvert_exporter": "python",
   "pygments_lexer": "ipython3",
   "version": "3.11.3"
  },
  "orig_nbformat": 4
 },
 "nbformat": 4,
 "nbformat_minor": 2
}
