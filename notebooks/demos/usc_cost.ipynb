{
 "cells": [
  {
   "attachments": {},
   "cell_type": "markdown",
   "metadata": {},
   "source": [
    "# Estimate cost to embed U.S. Code"
   ]
  },
  {
   "cell_type": "code",
   "execution_count": 1,
   "metadata": {},
   "outputs": [],
   "source": [
    "from decimal import Decimal\n",
    "from pathlib import Path\n",
    "import polars as pl\n",
    "import xml.etree.ElementTree as ET\n",
    "\n",
    "import tiktoken"
   ]
  },
  {
   "cell_type": "code",
   "execution_count": 2,
   "metadata": {},
   "outputs": [],
   "source": [
    "# As of this writing, https://openai.com/pricing lists the cost for\n",
    "# text-embedding-ada-002 as \"$0.0004 / 1K tokens\".\n",
    "TOKEN_COST = Decimal('0.0004') / 1000"
   ]
  },
  {
   "cell_type": "code",
   "execution_count": 3,
   "metadata": {},
   "outputs": [],
   "source": [
    "data_dir = Path('../../data/')  # FIXME: See data_dir fixme in usc.ipynb."
   ]
  },
  {
   "cell_type": "code",
   "execution_count": 4,
   "metadata": {},
   "outputs": [],
   "source": [
    "encoding = tiktoken.encoding_for_model('text-embedding-ada-002')"
   ]
  },
  {
   "cell_type": "code",
   "execution_count": 5,
   "metadata": {},
   "outputs": [],
   "source": [
    "def count_tokens(text):\n",
    "    return len(encoding.encode(text))"
   ]
  },
  {
   "cell_type": "code",
   "execution_count": 6,
   "metadata": {},
   "outputs": [],
   "source": [
    "def drop_attributes(element_text):  # See usc_manual.ipynb.\n",
    "    tree = ET.fromstring(element_text)\n",
    "    for element in tree.iter():\n",
    "        element.attrib.clear()\n",
    "    return ET.tostring(tree, encoding='unicode')"
   ]
  },
  {
   "cell_type": "code",
   "execution_count": 7,
   "metadata": {},
   "outputs": [],
   "source": [
    "def with_cost_columns(df_without_costs):\n",
    "    return df_without_costs.with_columns(\n",
    "        pl.col('Tokens')\n",
    "          .apply(TOKEN_COST.__mul__)\n",
    "          .alias('Cost ($)'),\n",
    "        pl.col('Clean Tokens')\n",
    "          .apply(TOKEN_COST.__mul__)\n",
    "          .alias('Clean Cost ($)'),\n",
    "    ).select('Title', 'Tokens', 'Cost ($)', 'Clean Tokens', 'Clean Cost ($)')"
   ]
  },
  {
   "cell_type": "code",
   "execution_count": 8,
   "metadata": {},
   "outputs": [],
   "source": [
    "token_table_path = data_dir / 'usc_token_counts.csv'\n",
    "try:\n",
    "    df = pl.read_csv(token_table_path)\n",
    "except OSError:\n",
    "    df = pl.DataFrame(\n",
    "        {\n",
    "            'Title': path.stem,\n",
    "            'Tokens': count_tokens(full_text := path.read_text(encoding='utf-8')),\n",
    "            'Clean Tokens': count_tokens(drop_attributes(full_text)),\n",
    "        }\n",
    "        for path in (data_dir / 'xml_uscAll@118-3not328/').glob('*.xml')\n",
    "    ).sort('Title')\n",
    "\n",
    "    df.write_csv(token_table_path)\n",
    "    assert pl.read_csv(token_table_path).frame_equal(df)"
   ]
  },
  {
   "cell_type": "code",
   "execution_count": 9,
   "metadata": {},
   "outputs": [
    {
     "data": {
      "text/html": [
       "<div><style>\n",
       ".dataframe > thead > tr > th,\n",
       ".dataframe > tbody > tr > td {\n",
       "  text-align: right;\n",
       "}\n",
       "</style>\n",
       "<small>shape: (59, 5)</small><table border=\"1\" class=\"dataframe\"><thead><tr><th>Title</th><th>Tokens</th><th>Cost ($)</th><th>Clean Tokens</th><th>Clean Cost ($)</th></tr><tr><td>str</td><td>i64</td><td>decimal[7]</td><td>i64</td><td>decimal[7]</td></tr></thead><tbody><tr><td>&quot;usc01&quot;</td><td>86448</td><td>0.0345792</td><td>65046</td><td>0.0260184</td></tr><tr><td>&quot;usc02&quot;</td><td>2787354</td><td>1.1149416</td><td>1926874</td><td>0.7707496</td></tr><tr><td>&quot;usc03&quot;</td><td>241628</td><td>0.0966512</td><td>183674</td><td>0.0734696</td></tr><tr><td>&quot;usc04&quot;</td><td>88632</td><td>0.0354528</td><td>60806</td><td>0.0243224</td></tr><tr><td>&quot;usc05&quot;</td><td>5752131</td><td>2.3008524</td><td>3975940</td><td>1.590376</td></tr><tr><td>&quot;usc05A&quot;</td><td>402069</td><td>0.1608276</td><td>338226</td><td>0.1352904</td></tr><tr><td>&quot;usc06&quot;</td><td>1868609</td><td>0.7474436</td><td>1270617</td><td>0.5082468</td></tr><tr><td>&quot;usc07&quot;</td><td>8890968</td><td>3.5563872</td><td>6136383</td><td>2.4545532</td></tr><tr><td>&quot;usc08&quot;</td><td>2211879</td><td>0.8847516</td><td>1634466</td><td>0.6537864</td></tr><tr><td>&quot;usc09&quot;</td><td>35461</td><td>0.0141844</td><td>23886</td><td>0.0095544</td></tr><tr><td>&quot;usc10&quot;</td><td>15460864</td><td>6.1843456</td><td>11402364</td><td>4.5609456</td></tr><tr><td>&quot;usc11&quot;</td><td>1340727</td><td>0.5362908</td><td>927439</td><td>0.3709756</td></tr><tr><td>&hellip;</td><td>&hellip;</td><td>&hellip;</td><td>&hellip;</td><td>&hellip;</td></tr><tr><td>&quot;usc44&quot;</td><td>845278</td><td>0.3381112</td><td>619890</td><td>0.247956</td></tr><tr><td>&quot;usc45&quot;</td><td>952737</td><td>0.3810948</td><td>713094</td><td>0.2852376</td></tr><tr><td>&quot;usc46&quot;</td><td>2991558</td><td>1.1966232</td><td>1906635</td><td>0.762654</td></tr><tr><td>&quot;usc47&quot;</td><td>1774912</td><td>0.7099648</td><td>1227743</td><td>0.4910972</td></tr><tr><td>&quot;usc48&quot;</td><td>1317092</td><td>0.5268368</td><td>998878</td><td>0.3995512</td></tr><tr><td>&quot;usc49&quot;</td><td>7698432</td><td>3.0793728</td><td>5252649</td><td>2.1010596</td></tr><tr><td>&quot;usc50&quot;</td><td>4432277</td><td>1.7729108</td><td>3133072</td><td>1.2532288</td></tr><tr><td>&quot;usc50A&quot;</td><td>488</td><td>0.0001952</td><td>455</td><td>0.000182</td></tr><tr><td>&quot;usc51&quot;</td><td>837325</td><td>0.33493</td><td>553526</td><td>0.2214104</td></tr><tr><td>&quot;usc52&quot;</td><td>544370</td><td>0.217748</td><td>361084</td><td>0.1444336</td></tr><tr><td>&quot;usc54&quot;</td><td>1005922</td><td>0.4023688</td><td>595627</td><td>0.2382508</td></tr><tr><td>&quot;TOTALS&quot;</td><td>207668909</td><td>83.0675636</td><td>147002851</td><td>58.8011404</td></tr></tbody></table></div>"
      ],
      "text/plain": [
       "shape: (59, 5)\n",
       "┌────────┬───────────┬────────────┬──────────────┬────────────────┐\n",
       "│ Title  ┆ Tokens    ┆ Cost ($)   ┆ Clean Tokens ┆ Clean Cost ($) │\n",
       "│ ---    ┆ ---       ┆ ---        ┆ ---          ┆ ---            │\n",
       "│ str    ┆ i64       ┆ decimal[7] ┆ i64          ┆ decimal[7]     │\n",
       "╞════════╪═══════════╪════════════╪══════════════╪════════════════╡\n",
       "│ usc01  ┆ 86448     ┆ 0.0345792  ┆ 65046        ┆ 0.0260184      │\n",
       "│ usc02  ┆ 2787354   ┆ 1.1149416  ┆ 1926874      ┆ 0.7707496      │\n",
       "│ usc03  ┆ 241628    ┆ 0.0966512  ┆ 183674       ┆ 0.0734696      │\n",
       "│ usc04  ┆ 88632     ┆ 0.0354528  ┆ 60806        ┆ 0.0243224      │\n",
       "│ …      ┆ …         ┆ …          ┆ …            ┆ …              │\n",
       "│ usc51  ┆ 837325    ┆ 0.33493    ┆ 553526       ┆ 0.2214104      │\n",
       "│ usc52  ┆ 544370    ┆ 0.217748   ┆ 361084       ┆ 0.1444336      │\n",
       "│ usc54  ┆ 1005922   ┆ 0.4023688  ┆ 595627       ┆ 0.2382508      │\n",
       "│ TOTALS ┆ 207668909 ┆ 83.0675636 ┆ 147002851    ┆ 58.8011404     │\n",
       "└────────┴───────────┴────────────┴──────────────┴────────────────┘"
      ]
     },
     "execution_count": 9,
     "metadata": {},
     "output_type": "execute_result"
    }
   ],
   "source": [
    "totals = df.sum().with_columns(pl.Series(\"Title\", [\"TOTALS\"]))\n",
    "df = pl.concat([df, totals])\n",
    "df = with_cost_columns(df)\n",
    "df"
   ]
  },
  {
   "attachments": {},
   "cell_type": "markdown",
   "metadata": {},
   "source": [
    "By this rough estimate, embedding the whole U.S. Code, even with tag attributes removed, would cost about $60, require making at least [17947 requests](https://www.wolframalpha.com/input?i=147002851.0+%2F+8191), and would take about [105 MiB](https://www.wolframalpha.com/input?i=%28147002851+%2F+8191%29+*+4+*+1536+bytes+in+MiB) to store, if stored as compactly as NumPy represents them in memory. (Uncompressed JSON would be significantly bigger.)"
   ]
  },
  {
   "cell_type": "code",
   "execution_count": 10,
   "metadata": {},
   "outputs": [
    {
     "data": {
      "text/plain": [
       "0.16040464680247346"
      ]
     },
     "execution_count": 10,
     "metadata": {},
     "output_type": "execute_result"
    }
   ],
   "source": [
    "# unclean title 42 ratio\n",
    "33311058/207668909"
   ]
  },
  {
   "cell_type": "code",
   "execution_count": 11,
   "metadata": {},
   "outputs": [
    {
     "data": {
      "text/plain": [
       "0.16247878757126963"
      ]
     },
     "execution_count": 11,
     "metadata": {},
     "output_type": "execute_result"
    }
   ],
   "source": [
    "# clean title 42 ratio\n",
    "23884845/147002851"
   ]
  },
  {
   "cell_type": "code",
   "execution_count": null,
   "metadata": {},
   "outputs": [],
   "source": []
  }
 ],
 "metadata": {
  "kernelspec": {
   "display_name": "embeddingscratchwork-aY-6i6sv-py3.11",
   "language": "python",
   "name": "python3"
  },
  "language_info": {
   "codemirror_mode": {
    "name": "ipython",
    "version": 3
   },
   "file_extension": ".py",
   "mimetype": "text/x-python",
   "name": "python",
   "nbconvert_exporter": "python",
   "pygments_lexer": "ipython3",
   "version": "3.11.3"
  },
  "orig_nbformat": 4
 },
 "nbformat": 4,
 "nbformat_minor": 2
}
