{
 "cells": [
  {
   "attachments": {},
   "cell_type": "markdown",
   "metadata": {},
   "source": [
    "# Experiments with embeddings"
   ]
  },
  {
   "cell_type": "code",
   "execution_count": 1,
   "metadata": {},
   "outputs": [],
   "source": [
    "import numpy as np\n",
    "from tabulate import tabulate\n",
    "\n",
    "from embed import embed_one, embed_many"
   ]
  },
  {
   "cell_type": "code",
   "execution_count": 2,
   "metadata": {},
   "outputs": [
    {
     "data": {
      "text/plain": [
       "array([1., 2., 3., 4.], dtype=float32)"
      ]
     },
     "execution_count": 2,
     "metadata": {},
     "output_type": "execute_result"
    }
   ],
   "source": [
    "np.array([1, 2, 3, 4], dtype=np.float32)"
   ]
  },
  {
   "cell_type": "code",
   "execution_count": 3,
   "metadata": {},
   "outputs": [],
   "source": [
    "embedding = embed_one(\"Your text string goes here\")"
   ]
  },
  {
   "cell_type": "code",
   "execution_count": 4,
   "metadata": {},
   "outputs": [
    {
     "data": {
      "text/plain": [
       "array([-6.9292835e-03, -5.3364220e-03,  1.1875892e-02, ...,\n",
       "       -1.7017407e-02, -4.5471323e-05, -2.4047505e-02], dtype=float32)"
      ]
     },
     "execution_count": 4,
     "metadata": {},
     "output_type": "execute_result"
    }
   ],
   "source": [
    "embedding"
   ]
  },
  {
   "cell_type": "code",
   "execution_count": 5,
   "metadata": {},
   "outputs": [
    {
     "data": {
      "text/plain": [
       "numpy.ndarray"
      ]
     },
     "execution_count": 5,
     "metadata": {},
     "output_type": "execute_result"
    }
   ],
   "source": [
    "type(embedding)"
   ]
  },
  {
   "cell_type": "code",
   "execution_count": 6,
   "metadata": {},
   "outputs": [],
   "source": [
    "cat = embed_one(\"cat\")\n",
    "gato = embed_one(\"gato\")"
   ]
  },
  {
   "cell_type": "code",
   "execution_count": 7,
   "metadata": {},
   "outputs": [
    {
     "data": {
      "text/plain": [
       "0.8444619"
      ]
     },
     "execution_count": 7,
     "metadata": {},
     "output_type": "execute_result"
    }
   ],
   "source": [
    "np.dot(cat, gato)"
   ]
  },
  {
   "cell_type": "code",
   "execution_count": 8,
   "metadata": {},
   "outputs": [
    {
     "data": {
      "text/plain": [
       "0.76415867"
      ]
     },
     "execution_count": 8,
     "metadata": {},
     "output_type": "execute_result"
    }
   ],
   "source": [
    "np.dot(cat, embedding)"
   ]
  },
  {
   "cell_type": "code",
   "execution_count": 9,
   "metadata": {},
   "outputs": [],
   "source": [
    "catrun_en = embed_one(\"The cat runs.\")\n",
    "catrun_es = embed_one(\"El gato corre.\")\n",
    "dogwalk_en = embed_one(\"The dog walks.\")\n",
    "dogwalk_es = embed_one(\"El perro camina.\")"
   ]
  },
  {
   "cell_type": "code",
   "execution_count": 10,
   "metadata": {},
   "outputs": [
    {
     "data": {
      "text/plain": [
       "0.9224139"
      ]
     },
     "execution_count": 10,
     "metadata": {},
     "output_type": "execute_result"
    }
   ],
   "source": [
    "np.dot(catrun_en, catrun_es)"
   ]
  },
  {
   "cell_type": "code",
   "execution_count": 11,
   "metadata": {},
   "outputs": [
    {
     "data": {
      "text/plain": [
       "0.76497674"
      ]
     },
     "execution_count": 11,
     "metadata": {},
     "output_type": "execute_result"
    }
   ],
   "source": [
    "np.dot(catrun_en, embedding)"
   ]
  },
  {
   "cell_type": "code",
   "execution_count": 12,
   "metadata": {},
   "outputs": [
    {
     "data": {
      "text/plain": [
       "0.9269187"
      ]
     },
     "execution_count": 12,
     "metadata": {},
     "output_type": "execute_result"
    }
   ],
   "source": [
    "np.dot(dogwalk_en, dogwalk_es)"
   ]
  },
  {
   "cell_type": "code",
   "execution_count": 13,
   "metadata": {},
   "outputs": [
    {
     "data": {
      "text/plain": [
       "0.8857113"
      ]
     },
     "execution_count": 13,
     "metadata": {},
     "output_type": "execute_result"
    }
   ],
   "source": [
    "np.dot(catrun_en, dogwalk_en)"
   ]
  },
  {
   "cell_type": "code",
   "execution_count": 14,
   "metadata": {},
   "outputs": [
    {
     "data": {
      "text/plain": [
       "0.8966301"
      ]
     },
     "execution_count": 14,
     "metadata": {},
     "output_type": "execute_result"
    }
   ],
   "source": [
    "np.dot(catrun_es, dogwalk_es)"
   ]
  },
  {
   "cell_type": "code",
   "execution_count": 15,
   "metadata": {},
   "outputs": [
    {
     "data": {
      "text/plain": [
       "0.8422663"
      ]
     },
     "execution_count": 15,
     "metadata": {},
     "output_type": "execute_result"
    }
   ],
   "source": [
    "np.dot(catrun_en, dogwalk_es)"
   ]
  },
  {
   "cell_type": "code",
   "execution_count": 16,
   "metadata": {},
   "outputs": [
    {
     "data": {
      "text/plain": [
       "0.8305974"
      ]
     },
     "execution_count": 16,
     "metadata": {},
     "output_type": "execute_result"
    }
   ],
   "source": [
    "np.dot(catrun_es, dogwalk_en)"
   ]
  },
  {
   "cell_type": "code",
   "execution_count": 17,
   "metadata": {},
   "outputs": [
    {
     "data": {
      "text/plain": [
       "(1536,)"
      ]
     },
     "execution_count": 17,
     "metadata": {},
     "output_type": "execute_result"
    }
   ],
   "source": [
    "catrun_en.shape"
   ]
  },
  {
   "cell_type": "code",
   "execution_count": 18,
   "metadata": {},
   "outputs": [
    {
     "data": {
      "text/plain": [
       "(5, 1536)"
      ]
     },
     "execution_count": 18,
     "metadata": {},
     "output_type": "execute_result"
    }
   ],
   "source": [
    "many = embed_many([\n",
    "    \"Your text string goes here\",\n",
    "    \"The cat runs.\",\n",
    "    \"El gato corre.\",\n",
    "    \"The dog walks.\",\n",
    "    \"El perro camina.\",\n",
    "])\n",
    "many.shape"
   ]
  },
  {
   "cell_type": "code",
   "execution_count": 19,
   "metadata": {},
   "outputs": [
    {
     "data": {
      "text/plain": [
       "array([[-6.9754184e-03, -5.3491648e-03,  1.1907940e-02, ...,\n",
       "        -1.7028622e-02, -8.8358240e-05, -2.4030920e-02],\n",
       "       [-9.0430975e-03, -4.0786345e-03, -1.1095160e-02, ...,\n",
       "        -2.4764959e-02,  5.5921902e-03, -2.4191400e-02],\n",
       "       [-1.4204165e-02, -2.9433765e-03,  4.0550550e-04, ...,\n",
       "        -8.1148576e-03,  4.9277819e-03, -6.8172398e-03],\n",
       "       [ 9.5597431e-03, -6.3604913e-03, -5.9328689e-03, ...,\n",
       "        -1.2309198e-02, -3.6862658e-04, -1.7130248e-02],\n",
       "       [ 3.4267190e-03, -7.4588875e-03,  1.3607008e-03, ...,\n",
       "         4.5837829e-04, -8.7634120e-03, -6.1512413e-03]], dtype=float32)"
      ]
     },
     "execution_count": 19,
     "metadata": {},
     "output_type": "execute_result"
    }
   ],
   "source": [
    "many"
   ]
  },
  {
   "cell_type": "code",
   "execution_count": 20,
   "metadata": {},
   "outputs": [
    {
     "data": {
      "text/plain": [
       "0.7650559"
      ]
     },
     "execution_count": 20,
     "metadata": {},
     "output_type": "execute_result"
    }
   ],
   "source": [
    "np.dot(many[0], many[1])"
   ]
  },
  {
   "cell_type": "code",
   "execution_count": 21,
   "metadata": {},
   "outputs": [
    {
     "data": {
      "text/plain": [
       "0.9224139"
      ]
     },
     "execution_count": 21,
     "metadata": {},
     "output_type": "execute_result"
    }
   ],
   "source": [
    "np.dot(catrun_en, catrun_es)"
   ]
  },
  {
   "cell_type": "code",
   "execution_count": 22,
   "metadata": {},
   "outputs": [
    {
     "data": {
      "text/plain": [
       "array([[1, 2],\n",
       "       [3, 4]])"
      ]
     },
     "execution_count": 22,
     "metadata": {},
     "output_type": "execute_result"
    }
   ],
   "source": [
    "small = np.array([[1, 2], [3, 4]])\n",
    "small"
   ]
  },
  {
   "cell_type": "code",
   "execution_count": 23,
   "metadata": {},
   "outputs": [
    {
     "data": {
      "text/plain": [
       "array([[1, 3],\n",
       "       [2, 4]])"
      ]
     },
     "execution_count": 23,
     "metadata": {},
     "output_type": "execute_result"
    }
   ],
   "source": [
    "small.transpose()"
   ]
  },
  {
   "cell_type": "code",
   "execution_count": 24,
   "metadata": {},
   "outputs": [
    {
     "data": {
      "text/plain": [
       "array([[0.99999976, 0.76505584, 0.7345198 , 0.75117296, 0.7233828 ],\n",
       "       [0.76505584, 1.        , 0.9224138 , 0.8857111 , 0.8422562 ],\n",
       "       [0.7345198 , 0.9224138 , 1.        , 0.8305976 , 0.8964369 ],\n",
       "       [0.75117296, 0.8857111 , 0.8305976 , 1.0000002 , 0.9263847 ],\n",
       "       [0.7233828 , 0.8422562 , 0.8964369 , 0.9263847 , 1.0000002 ]],\n",
       "      dtype=float32)"
      ]
     },
     "execution_count": 24,
     "metadata": {},
     "output_type": "execute_result"
    }
   ],
   "source": [
    "table = many @ many.transpose()\n",
    "table"
   ]
  },
  {
   "cell_type": "code",
   "execution_count": 25,
   "metadata": {},
   "outputs": [
    {
     "data": {
      "text/html": [
       "<table>\n",
       "<tbody>\n",
       "<tr><td style=\"text-align: right;\">0.999999762</td><td style=\"text-align: right;\">0.765055835</td><td style=\"text-align: right;\">0.734519780</td><td style=\"text-align: right;\">0.751172960</td><td style=\"text-align: right;\">0.723382771</td></tr>\n",
       "<tr><td style=\"text-align: right;\">0.765055835</td><td style=\"text-align: right;\">1.000000000</td><td style=\"text-align: right;\">0.922413826</td><td style=\"text-align: right;\">0.885711074</td><td style=\"text-align: right;\">0.842256188</td></tr>\n",
       "<tr><td style=\"text-align: right;\">0.734519780</td><td style=\"text-align: right;\">0.922413826</td><td style=\"text-align: right;\">1.000000000</td><td style=\"text-align: right;\">0.830597579</td><td style=\"text-align: right;\">0.896436930</td></tr>\n",
       "<tr><td style=\"text-align: right;\">0.751172960</td><td style=\"text-align: right;\">0.885711074</td><td style=\"text-align: right;\">0.830597579</td><td style=\"text-align: right;\">1.000000238</td><td style=\"text-align: right;\">0.926384687</td></tr>\n",
       "<tr><td style=\"text-align: right;\">0.723382771</td><td style=\"text-align: right;\">0.842256188</td><td style=\"text-align: right;\">0.896436930</td><td style=\"text-align: right;\">0.926384687</td><td style=\"text-align: right;\">1.000000238</td></tr>\n",
       "</tbody>\n",
       "</table>"
      ],
      "text/plain": [
       "'<table>\\n<tbody>\\n<tr><td style=\"text-align: right;\">0.999999762</td><td style=\"text-align: right;\">0.765055835</td><td style=\"text-align: right;\">0.734519780</td><td style=\"text-align: right;\">0.751172960</td><td style=\"text-align: right;\">0.723382771</td></tr>\\n<tr><td style=\"text-align: right;\">0.765055835</td><td style=\"text-align: right;\">1.000000000</td><td style=\"text-align: right;\">0.922413826</td><td style=\"text-align: right;\">0.885711074</td><td style=\"text-align: right;\">0.842256188</td></tr>\\n<tr><td style=\"text-align: right;\">0.734519780</td><td style=\"text-align: right;\">0.922413826</td><td style=\"text-align: right;\">1.000000000</td><td style=\"text-align: right;\">0.830597579</td><td style=\"text-align: right;\">0.896436930</td></tr>\\n<tr><td style=\"text-align: right;\">0.751172960</td><td style=\"text-align: right;\">0.885711074</td><td style=\"text-align: right;\">0.830597579</td><td style=\"text-align: right;\">1.000000238</td><td style=\"text-align: right;\">0.926384687</td></tr>\\n<tr><td style=\"text-align: right;\">0.723382771</td><td style=\"text-align: right;\">0.842256188</td><td style=\"text-align: right;\">0.896436930</td><td style=\"text-align: right;\">0.926384687</td><td style=\"text-align: right;\">1.000000238</td></tr>\\n</tbody>\\n</table>'"
      ]
     },
     "execution_count": 25,
     "metadata": {},
     "output_type": "execute_result"
    }
   ],
   "source": [
    "tabulate(table, tablefmt='html', floatfmt='.9f')"
   ]
  }
 ],
 "metadata": {
  "kernelspec": {
   "display_name": "EmbeddingScratchwork",
   "language": "python",
   "name": "python3"
  },
  "language_info": {
   "codemirror_mode": {
    "name": "ipython",
    "version": 3
   },
   "file_extension": ".py",
   "mimetype": "text/x-python",
   "name": "python",
   "nbconvert_exporter": "python",
   "pygments_lexer": "ipython3",
   "version": "3.11.0"
  },
  "orig_nbformat": 4,
  "vscode": {
   "interpreter": {
    "hash": "4cf5c947be7cf026010f397dd15444466c4e3b0329ddb1d6d34b5de73f9f35dc"
   }
  }
 },
 "nbformat": 4,
 "nbformat_minor": 2
}
